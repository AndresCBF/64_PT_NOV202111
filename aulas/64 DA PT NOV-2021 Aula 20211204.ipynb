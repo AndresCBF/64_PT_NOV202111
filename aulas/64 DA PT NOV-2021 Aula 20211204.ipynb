{
 "cells": [
  {
   "cell_type": "markdown",
   "metadata": {},
   "source": [
    "# Pandas: Importing and Exporting"
   ]
  },
  {
   "cell_type": "code",
   "execution_count": null,
   "metadata": {},
   "outputs": [],
   "source": [
    "!pip install openpyxl"
   ]
  },
  {
   "cell_type": "code",
   "execution_count": null,
   "metadata": {
    "ExecuteTime": {
     "end_time": "2021-12-04T12:05:30.733368Z",
     "start_time": "2021-12-04T12:05:30.705470Z"
    }
   },
   "outputs": [],
   "source": [
    "import xlrd"
   ]
  },
  {
   "cell_type": "code",
   "execution_count": null,
   "metadata": {
    "ExecuteTime": {
     "end_time": "2021-12-04T12:05:31.618273Z",
     "start_time": "2021-12-04T12:05:31.228262Z"
    }
   },
   "outputs": [],
   "source": [
    "import pandas as pd"
   ]
  },
  {
   "cell_type": "markdown",
   "metadata": {},
   "source": [
    "## Import **delimited files**"
   ]
  },
  {
   "cell_type": "code",
   "execution_count": null,
   "metadata": {
    "ExecuteTime": {
     "end_time": "2021-12-04T12:04:38.694940Z",
     "start_time": "2021-12-04T12:04:38.688955Z"
    }
   },
   "outputs": [],
   "source": [
    "file = open('data/dados_veiculos.csv', 'rb')\n",
    "file_lines = file.readlines(10000)\n",
    "for i in range(5):\n",
    "    print(file_lines[i].decode('utf-8'))\n",
    "file.close()"
   ]
  },
  {
   "cell_type": "markdown",
   "metadata": {},
   "source": [
    "Most common: comma separated values `(.csv)` files. A file that is separated (or delimited) by commas (or anything else):\n",
    "\n",
    "Examples:\n",
    "    \n",
    "**-- comma separated file --**\n",
    "\n",
    "    name,year,value\n",
    "    Andre,2020,100\n",
    "    Fernanda,1900,1\n",
    "    \n",
    "**-- tab separated file --**\n",
    "\n",
    "    name    year    value\n",
    "    Andre    2020    100\n",
    "    Fernanda    1900    1\n",
    "    \n",
    "**-- tab separated file (another way) --**\n",
    "\n",
    "    name\\tyear\\tvalue\n",
    "    Andre\\t2020\\t100\n",
    "    Fernanda\\t1900\\t1\n",
    "    \n",
    "**-- hash separated file --**\n",
    "\n",
    "    name#year#value\n",
    "    Andre#2020#100\n",
    "    Fernanda#1900#1\n",
    "\n",
    "**-- pipe separated file --**\n",
    "\n",
    "    name|year|value\n",
    "    Andre|2020|100\n",
    "    Fernanda|1900|1\n",
    "\n",
    "    ..."
   ]
  },
  {
   "cell_type": "markdown",
   "metadata": {},
   "source": [
    "### Comma Separated Files"
   ]
  },
  {
   "cell_type": "code",
   "execution_count": null,
   "metadata": {
    "ExecuteTime": {
     "end_time": "2021-12-04T12:05:34.890672Z",
     "start_time": "2021-12-04T12:05:34.783957Z"
    }
   },
   "outputs": [],
   "source": [
    "pd.read_csv('data/dados_veiculos.csv')"
   ]
  },
  {
   "cell_type": "markdown",
   "metadata": {},
   "source": [
    "In this way, the `pd.read_csv()` method is just outputing the results on screen.\n",
    "\n",
    "If I wanted to store it in a variable I would have to **assign** this result into a variable"
   ]
  },
  {
   "cell_type": "code",
   "execution_count": null,
   "metadata": {
    "ExecuteTime": {
     "end_time": "2021-12-04T12:05:37.656697Z",
     "start_time": "2021-12-04T12:05:37.577466Z"
    }
   },
   "outputs": [],
   "source": [
    "tb_veic = pd.read_csv('data/dados_veiculos.csv')"
   ]
  },
  {
   "cell_type": "code",
   "execution_count": null,
   "metadata": {
    "ExecuteTime": {
     "end_time": "2021-12-04T12:05:45.283025Z",
     "start_time": "2021-12-04T12:05:45.251114Z"
    }
   },
   "outputs": [],
   "source": [
    "tb_veic.info()"
   ]
  },
  {
   "cell_type": "markdown",
   "metadata": {},
   "source": [
    "### Import tab-delimited file\n"
   ]
  },
  {
   "cell_type": "code",
   "execution_count": null,
   "metadata": {
    "ExecuteTime": {
     "end_time": "2021-12-04T12:05:57.710122Z",
     "start_time": "2021-12-04T12:05:57.560522Z"
    }
   },
   "outputs": [],
   "source": [
    "tb_oscsp = pd.read_csv('data/tb_empenho_cnpj_osc.txt')"
   ]
  },
  {
   "cell_type": "code",
   "execution_count": null,
   "metadata": {
    "ExecuteTime": {
     "end_time": "2021-12-04T12:06:33.284013Z",
     "start_time": "2021-12-04T12:06:33.270051Z"
    }
   },
   "outputs": [],
   "source": [
    "file = open('data/tb_empenho_cnpj_osc.txt', 'rb')\n",
    "file_lines = file.readlines(10000)\n",
    "for i in range(5):\n",
    "    print(file_lines[i].decode('utf-8'))\n",
    "file.close()"
   ]
  },
  {
   "cell_type": "code",
   "execution_count": null,
   "metadata": {
    "ExecuteTime": {
     "end_time": "2021-12-04T12:06:45.546859Z",
     "start_time": "2021-12-04T12:06:45.413189Z"
    }
   },
   "outputs": [],
   "source": [
    "tb_oscsp = pd.read_csv('data/tb_empenho_cnpj_osc.txt', sep = '\\t')\n",
    "tb_oscsp.info()"
   ]
  },
  {
   "cell_type": "code",
   "execution_count": null,
   "metadata": {
    "ExecuteTime": {
     "end_time": "2021-12-04T12:06:49.238730Z",
     "start_time": "2021-12-04T12:06:49.125007Z"
    }
   },
   "outputs": [],
   "source": [
    "tb_oscsp = pd.read_csv('data/tb_empenho_cnpj_osc.txt', sep = '\\t', decimal = ',')\n",
    "tb_oscsp.info()"
   ]
  },
  {
   "cell_type": "code",
   "execution_count": null,
   "metadata": {
    "ExecuteTime": {
     "end_time": "2021-12-04T12:06:56.630388Z",
     "start_time": "2021-12-04T12:06:56.592486Z"
    }
   },
   "outputs": [],
   "source": [
    "tb_oscsp"
   ]
  },
  {
   "cell_type": "code",
   "execution_count": null,
   "metadata": {
    "ExecuteTime": {
     "end_time": "2021-12-04T12:07:08.237791Z",
     "start_time": "2021-12-04T12:07:08.154015Z"
    }
   },
   "outputs": [],
   "source": [
    "tb_oscsp = pd.read_csv('data/tb_empenho_cnpj_osc.txt', sep = '\\t', decimal = ',', encoding = 'latin-1')"
   ]
  },
  {
   "cell_type": "code",
   "execution_count": null,
   "metadata": {
    "ExecuteTime": {
     "end_time": "2021-12-04T12:07:18.022621Z",
     "start_time": "2021-12-04T12:07:17.998685Z"
    }
   },
   "outputs": [],
   "source": [
    "tb_oscsp"
   ]
  },
  {
   "cell_type": "markdown",
   "metadata": {},
   "source": [
    "### Import pipe delimited file "
   ]
  },
  {
   "cell_type": "code",
   "execution_count": null,
   "metadata": {
    "ExecuteTime": {
     "end_time": "2021-12-04T12:07:54.167780Z",
     "start_time": "2021-12-04T12:07:54.143823Z"
    }
   },
   "outputs": [],
   "source": [
    "file = open('data/eletricidade_india.csv', 'rb')\n",
    "file_lines = file.readlines(10000)\n",
    "for i in range(5):\n",
    "    print(file_lines[i].decode('latin-1'))\n",
    "file.close()"
   ]
  },
  {
   "cell_type": "code",
   "execution_count": null,
   "metadata": {
    "ExecuteTime": {
     "end_time": "2021-12-04T12:08:13.114341Z",
     "start_time": "2021-12-04T12:08:13.092401Z"
    }
   },
   "outputs": [],
   "source": [
    "tb_elecindia = pd.read_csv('data/eletricidade_india.csv', sep = '|', decimal = '.')\n",
    "tb_elecindia"
   ]
  },
  {
   "cell_type": "code",
   "execution_count": null,
   "metadata": {},
   "outputs": [],
   "source": [
    "tb_elecindia.info()"
   ]
  },
  {
   "cell_type": "code",
   "execution_count": null,
   "metadata": {
    "ExecuteTime": {
     "end_time": "2021-12-04T12:08:06.576698Z",
     "start_time": "2021-12-04T12:08:06.532816Z"
    }
   },
   "outputs": [],
   "source": [
    "tb_elecindia = pd.read_csv('data/eletricidade_india.csv', sep = '|', decimal = '.',\n",
    "                          parse_dates = ['Date'], infer_datetime_format = True)\n",
    "tb_elecindia['Date'].describe()"
   ]
  },
  {
   "cell_type": "markdown",
   "metadata": {},
   "source": [
    "## Import files from URLs"
   ]
  },
  {
   "cell_type": "markdown",
   "metadata": {},
   "source": [
    "Example: https://datasets.imdbws.com/"
   ]
  },
  {
   "cell_type": "code",
   "execution_count": null,
   "metadata": {
    "ExecuteTime": {
     "end_time": "2021-12-04T12:08:58.841431Z",
     "start_time": "2021-12-04T12:08:57.591503Z"
    }
   },
   "outputs": [],
   "source": [
    "url_csv = 'https://datasets.imdbws.com/title.ratings.tsv.gz'\n",
    "tb_imdbratings = pd.read_csv(url_csv, sep = '\\t', encoding = 'utf-8', na_values = '\\\\N')"
   ]
  },
  {
   "cell_type": "markdown",
   "metadata": {},
   "source": [
    "## Import Excel Files"
   ]
  },
  {
   "cell_type": "markdown",
   "metadata": {},
   "source": [
    "Fonte: https://www.kaggle.com/sanjeetsinghnaik/most-expensive-footballers-2021"
   ]
  },
  {
   "cell_type": "code",
   "execution_count": null,
   "metadata": {
    "ExecuteTime": {
     "end_time": "2021-12-04T12:09:00.052522Z",
     "start_time": "2021-12-04T12:09:00.010636Z"
    }
   },
   "outputs": [],
   "source": [
    "pd.read_csv('data/Dados Jogadores Futebol.xlsx')"
   ]
  },
  {
   "cell_type": "code",
   "execution_count": null,
   "metadata": {
    "ExecuteTime": {
     "end_time": "2021-12-04T12:09:08.348743Z",
     "start_time": "2021-12-04T12:09:07.798166Z"
    }
   },
   "outputs": [],
   "source": [
    "tb_futebol = pd.read_excel('data/Dados Jogadores Futebol.xlsx')\n",
    "tb_futebol"
   ]
  },
  {
   "cell_type": "markdown",
   "metadata": {},
   "source": [
    "## Import Google Drive Files"
   ]
  },
  {
   "cell_type": "markdown",
   "metadata": {},
   "source": [
    "**Cool Application: Google Sheets**\n",
    "\n",
    "Get the shareable link and replace the last piece of the url:\n",
    "* replace `/edit?usp=sharing` by `/export?format=csv`\n",
    "    \n",
    "(https://stackoverflow.com/questions/19611729/getting-google-spreadsheet-csv-into-a-pandas-dataframe)    "
   ]
  },
  {
   "cell_type": "code",
   "execution_count": null,
   "metadata": {
    "ExecuteTime": {
     "end_time": "2021-12-04T12:09:37.374140Z",
     "start_time": "2021-12-04T12:09:37.358183Z"
    }
   },
   "outputs": [],
   "source": [
    "def read_from_gsheets(spreadsheet):\n",
    "    \"\"\"\n",
    "    Transform url into csv \n",
    "    \"\"\"\n",
    "    working_spreadsheet = spreadsheet.replace('/edit?usp=sharing','/export?format=csv')\n",
    "    \n",
    "    return pd.read_csv(working_spreadsheet)"
   ]
  },
  {
   "cell_type": "code",
   "execution_count": null,
   "metadata": {
    "ExecuteTime": {
     "end_time": "2021-12-04T12:09:38.929504Z",
     "start_time": "2021-12-04T12:09:37.884764Z"
    }
   },
   "outputs": [],
   "source": [
    "tb_tsunami = read_from_gsheets('https://docs.google.com/spreadsheets/d/1pfUsMP5IVvNagS-YaqpoBWQewmc0_RK9Mr1DlmQnlqE/edit?usp=sharing')"
   ]
  },
  {
   "cell_type": "code",
   "execution_count": null,
   "metadata": {
    "ExecuteTime": {
     "end_time": "2021-12-04T12:09:39.457223Z",
     "start_time": "2021-12-04T12:09:39.433286Z"
    }
   },
   "outputs": [],
   "source": [
    "tb_tsunami.info()"
   ]
  },
  {
   "cell_type": "markdown",
   "metadata": {},
   "source": [
    "## Import and export JSON files\n",
    "\n",
    "What is a JSON file?\n",
    "\n",
    "JSON 1:\n",
    "```json\n",
    "{ \"name\":\"John\", \"age\":30, \"car\":null }\n",
    "```\n",
    "\n",
    "JSON 2: \n",
    "```json\n",
    "{\"students\":[\n",
    "   {\"name\":\"Andre\", \"age\":23, \"state\":\"SP\"},\n",
    "   {\"name\":\"Rodrigo\", \"age\":28, \"state\":\"SP\"},\n",
    "   {\"name\":\"Raiana\", \"age\":32, \"state\":\"DF\"},\n",
    "   {\"name\":\"Tieko\", \"age\":28, \"state\":\"BA\"}\n",
    "]}\n",
    "```\n",
    "\n",
    "Orientação de `records`, onde o JSON é uma lista de dicionários. Cada dicionário desta lista é uma linha da nossa tabela\n",
    "```python\n",
    "[\n",
    "    {\"coluna1\" : valor, \"coluna2\" : valor},\n",
    "    {\"coluna1\" : valor, \"coluna2\" : valor},\n",
    "    {\"coluna1\" : valor, \"coluna2\" : valor},\n",
    "    {\"coluna1\" : valor, \"coluna2\" : valor},\n",
    "    {\"coluna1\" : valor, \"coluna2\" : valor},\n",
    "]\n",
    "```\n",
    "\n",
    "Orientação de `index`, onde o JSON é um dicionário. Cada chave desse dicionário é uma linha de nossa tabela e guarda um outro dicionário com os dados da tabela referente àquela linha.\n",
    "```python\n",
    "{\n",
    "    linha_1 : {\"coluna1\" : valor, \"coluna2\" : valor},\n",
    "    linha_2 : {\"coluna1\" : valor, \"coluna2\" : valor},\n",
    "    linha_3 : {\"coluna1\" : valor, \"coluna2\" : valor},\n",
    "    linha_4 : {\"coluna1\" : valor, \"coluna2\" : valor},\n",
    "}\n",
    "```"
   ]
  },
  {
   "cell_type": "code",
   "execution_count": null,
   "metadata": {
    "ExecuteTime": {
     "end_time": "2021-12-04T12:10:02.141767Z",
     "start_time": "2021-12-04T12:10:02.061968Z"
    }
   },
   "outputs": [],
   "source": [
    "tb_crypto = pd.read_json('data/crypto_data_records.json', orient = 'records') # orient informa a orientação do JSO\n",
    "tb_crypto"
   ]
  },
  {
   "cell_type": "code",
   "execution_count": null,
   "metadata": {
    "ExecuteTime": {
     "end_time": "2021-12-04T12:10:50.281700Z",
     "start_time": "2021-12-04T12:10:50.206884Z"
    }
   },
   "outputs": [],
   "source": [
    "tb_crypto = pd.read_json('data/crypto_data_index.json', orient = 'index') # orient informa a orientação do JSO\n",
    "tb_crypto"
   ]
  },
  {
   "cell_type": "markdown",
   "metadata": {},
   "source": [
    "## Bonus: Read CSV using For\n",
    "* create copy with files vehicles\n",
    "* read and append"
   ]
  },
  {
   "cell_type": "code",
   "execution_count": null,
   "metadata": {
    "ExecuteTime": {
     "end_time": "2021-12-04T12:11:26.000132Z",
     "start_time": "2021-12-04T12:11:25.987168Z"
    }
   },
   "outputs": [],
   "source": [
    "import os\n",
    "for file in os.listdir('data/dados_censo/'):\n",
    "    print(file)"
   ]
  },
  {
   "cell_type": "code",
   "execution_count": null,
   "metadata": {
    "ExecuteTime": {
     "end_time": "2021-12-04T12:11:28.738817Z",
     "start_time": "2021-12-04T12:11:28.722833Z"
    }
   },
   "outputs": [],
   "source": [
    "file = open('data/dados_censo/Basico_BA.csv', 'rb')\n",
    "file_lines = file.readlines(10000)\n",
    "for i in range(5):\n",
    "    print(file_lines[i].decode('latin-1'))\n",
    "file.close()"
   ]
  },
  {
   "cell_type": "code",
   "execution_count": null,
   "metadata": {
    "ExecuteTime": {
     "end_time": "2021-12-04T11:50:55.879208Z",
     "start_time": "2021-12-04T11:50:55.137193Z"
    }
   },
   "outputs": [],
   "source": [
    "first = True\n",
    "for file in os.listdir('data/dados_censo/'):\n",
    "    file_path = 'data/dados_censo/' + file\n",
    "    if first:\n",
    "        tb_censo = pd.read_csv(file_path, sep = \";\", decimal = \",\")\n",
    "    else:\n",
    "        tb_censo_temp = tb_censo = pd.read_csv(file_path, sep = \";\", decimal = \",\")\n",
    "        tb_censo.append(tb_censo_temp)"
   ]
  },
  {
   "cell_type": "code",
   "execution_count": null,
   "metadata": {
    "ExecuteTime": {
     "end_time": "2021-12-04T11:51:01.777118Z",
     "start_time": "2021-12-04T11:51:01.734212Z"
    }
   },
   "outputs": [],
   "source": [
    "tb_censo.info()"
   ]
  },
  {
   "cell_type": "markdown",
   "metadata": {},
   "source": [
    "----"
   ]
  },
  {
   "cell_type": "markdown",
   "metadata": {},
   "source": [
    "## 6. Export to `.csv`"
   ]
  },
  {
   "cell_type": "code",
   "execution_count": null,
   "metadata": {
    "ExecuteTime": {
     "end_time": "2021-12-04T11:53:04.642867Z",
     "start_time": "2021-12-04T11:53:03.249329Z"
    }
   },
   "outputs": [],
   "source": [
    "tb_censo.to_csv('data/tb_censo.csv', sep = \";\", decimal = \",\", encoding = 'utf-8')"
   ]
  },
  {
   "cell_type": "markdown",
   "metadata": {},
   "source": [
    "**NOTE**: If you do not specify the argument `index=False`, the output in the csv file will create an unnamed index column with the *dataframe indexes*."
   ]
  },
  {
   "cell_type": "code",
   "execution_count": null,
   "metadata": {
    "ExecuteTime": {
     "end_time": "2021-12-04T11:53:04.658828Z",
     "start_time": "2021-12-04T11:53:04.643841Z"
    }
   },
   "outputs": [],
   "source": [
    "file = open('data/tb_censo.csv', 'rb')\n",
    "file_lines = file.readlines(10000)\n",
    "for i in range(5):\n",
    "    print(file_lines[i].decode('utf-8'))\n",
    "file.close()"
   ]
  },
  {
   "cell_type": "markdown",
   "metadata": {},
   "source": [
    "### Export to csv using a specific separator"
   ]
  },
  {
   "cell_type": "code",
   "execution_count": null,
   "metadata": {
    "ExecuteTime": {
     "end_time": "2021-12-04T11:54:04.881962Z",
     "start_time": "2021-12-04T11:54:04.129943Z"
    }
   },
   "outputs": [],
   "source": [
    "tb_censo.to_csv('data/tb_censo_virgula.csv', sep = \",\", decimal = \".\", encoding = 'utf-8')"
   ]
  },
  {
   "cell_type": "code",
   "execution_count": null,
   "metadata": {
    "ExecuteTime": {
     "end_time": "2021-12-04T11:54:04.896896Z",
     "start_time": "2021-12-04T11:54:04.883955Z"
    }
   },
   "outputs": [],
   "source": [
    "file = open('data/tb_censo_virgula.csv', 'rb')\n",
    "file_lines = file.readlines(10000)\n",
    "for i in range(5):\n",
    "    print(file_lines[i].decode('utf-8'))\n",
    "file.close()"
   ]
  },
  {
   "cell_type": "code",
   "execution_count": null,
   "metadata": {
    "ExecuteTime": {
     "end_time": "2021-12-04T11:54:10.659615Z",
     "start_time": "2021-12-04T11:54:09.138656Z"
    }
   },
   "outputs": [],
   "source": [
    "tb_censo.to_csv('data/tb_censo_pipe.csv', sep = \"|\", decimal = \",\", encoding = 'utf-8')"
   ]
  },
  {
   "cell_type": "code",
   "execution_count": null,
   "metadata": {
    "ExecuteTime": {
     "end_time": "2021-12-04T11:54:10.675576Z",
     "start_time": "2021-12-04T11:54:10.661586Z"
    }
   },
   "outputs": [],
   "source": [
    "file = open('data/tb_censo_pipe.csv', 'rb')\n",
    "file_lines = file.readlines(10000)\n",
    "for i in range(5):\n",
    "    print(file_lines[i].decode('utf-8'))\n",
    "file.close()"
   ]
  },
  {
   "cell_type": "markdown",
   "metadata": {},
   "source": [
    "## 7. Export to `.xlsx`"
   ]
  },
  {
   "cell_type": "code",
   "execution_count": null,
   "metadata": {
    "ExecuteTime": {
     "end_time": "2021-12-04T11:55:48.170817Z",
     "start_time": "2021-12-04T11:55:26.821754Z"
    }
   },
   "outputs": [],
   "source": [
    "tb_censo.to_excel('data/Tabela do Censo.xlsx', sheet_name = 'dados')"
   ]
  },
  {
   "cell_type": "markdown",
   "metadata": {},
   "source": [
    "-------"
   ]
  },
  {
   "cell_type": "markdown",
   "metadata": {},
   "source": [
    "## 8. Export to `.json`\n",
    "\n",
    "For a JSON file, you can have different `orient` options.\n",
    "\n",
    "`'split'`: Dictionary containing indexes, columns, and data.\n",
    "\n",
    "`'index'`: Nested dictionaries containing {index:{column:value}}.\n",
    "\n",
    "`'columns'`: Nested dictionaries containing {column:{index:value}}\n",
    "\n",
    "`'values'`: Nested list where each sublist contains the values for a record.\n",
    "\n",
    "`'records'`: Nested dictionaries containing schema and data (records)."
   ]
  },
  {
   "cell_type": "code",
   "execution_count": null,
   "metadata": {
    "ExecuteTime": {
     "end_time": "2020-07-30T17:12:43.703386Z",
     "start_time": "2020-07-30T17:12:43.686386Z"
    }
   },
   "outputs": [],
   "source": [
    "tb_censo.to_json('tb_censo_index.json', orient = 'index')\n",
    "tb_censo.to_json('tb_censo_records.json', orient = 'records')"
   ]
  },
  {
   "cell_type": "markdown",
   "metadata": {},
   "source": [
    "----"
   ]
  }
 ],
 "metadata": {
  "hide_input": false,
  "kernelspec": {
   "display_name": "Python 3",
   "language": "python",
   "name": "python3"
  },
  "language_info": {
   "codemirror_mode": {
    "name": "ipython",
    "version": 3
   },
   "file_extension": ".py",
   "mimetype": "text/x-python",
   "name": "python",
   "nbconvert_exporter": "python",
   "pygments_lexer": "ipython3",
   "version": "3.8.8"
  },
  "toc": {
   "base_numbering": 1,
   "nav_menu": {
    "height": "249px",
    "width": "337px"
   },
   "number_sections": true,
   "sideBar": true,
   "skip_h1_title": false,
   "title_cell": "Table of Contents",
   "title_sidebar": "Contents",
   "toc_cell": false,
   "toc_position": {
    "height": "calc(100% - 180px)",
    "left": "10px",
    "top": "150px",
    "width": "261.813px"
   },
   "toc_section_display": true,
   "toc_window_display": true
  },
  "toc-autonumbering": false,
  "toc-showmarkdowntxt": false
 },
 "nbformat": 4,
 "nbformat_minor": 4
}
