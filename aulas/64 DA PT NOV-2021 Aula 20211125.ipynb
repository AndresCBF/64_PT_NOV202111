{
 "cells": [
  {
   "cell_type": "markdown",
   "metadata": {},
   "source": [
    "# Object-Oriented Paradigm"
   ]
  },
  {
   "cell_type": "markdown",
   "metadata": {},
   "source": [
    "Introduction to object-oriented computer paradigm"
   ]
  },
  {
   "cell_type": "markdown",
   "metadata": {},
   "source": [
    "### What is a class"
   ]
  },
  {
   "cell_type": "markdown",
   "metadata": {},
   "source": [
    "> A data structure to gather together both data and functions. Inside of classes, functions are called `methods` and data information is called `attribute`."
   ]
  },
  {
   "cell_type": "code",
   "execution_count": 1,
   "metadata": {},
   "outputs": [
    {
     "data": {
      "text/plain": [
       "str"
      ]
     },
     "execution_count": 1,
     "metadata": {},
     "output_type": "execute_result"
    }
   ],
   "source": [
    "a = 'Pedro'\n",
    "type(a)"
   ]
  },
  {
   "cell_type": "code",
   "execution_count": 2,
   "metadata": {},
   "outputs": [
    {
     "data": {
      "text/plain": [
       "type"
      ]
     },
     "execution_count": 2,
     "metadata": {},
     "output_type": "execute_result"
    }
   ],
   "source": [
    "type(str)"
   ]
  },
  {
   "cell_type": "code",
   "execution_count": 3,
   "metadata": {},
   "outputs": [
    {
     "data": {
      "text/plain": [
       "type"
      ]
     },
     "execution_count": 3,
     "metadata": {},
     "output_type": "execute_result"
    }
   ],
   "source": [
    "type(list)"
   ]
  },
  {
   "cell_type": "markdown",
   "metadata": {},
   "source": [
    "# Creating a simple class"
   ]
  },
  {
   "cell_type": "code",
   "execution_count": 43,
   "metadata": {},
   "outputs": [],
   "source": [
    "class Retangulo:\n",
    "    pass"
   ]
  },
  {
   "cell_type": "code",
   "execution_count": 5,
   "metadata": {},
   "outputs": [
    {
     "data": {
      "text/plain": [
       "type"
      ]
     },
     "execution_count": 5,
     "metadata": {},
     "output_type": "execute_result"
    }
   ],
   "source": [
    "type(Retangulo)"
   ]
  },
  {
   "cell_type": "code",
   "execution_count": 6,
   "metadata": {},
   "outputs": [],
   "source": [
    "meu_retangulo = Retangulo()"
   ]
  },
  {
   "cell_type": "code",
   "execution_count": 7,
   "metadata": {},
   "outputs": [
    {
     "data": {
      "text/plain": [
       "__main__.Retangulo"
      ]
     },
     "execution_count": 7,
     "metadata": {},
     "output_type": "execute_result"
    }
   ],
   "source": [
    "type(meu_retangulo)"
   ]
  },
  {
   "cell_type": "markdown",
   "metadata": {},
   "source": [
    "## Classes"
   ]
  },
  {
   "cell_type": "code",
   "execution_count": 31,
   "metadata": {},
   "outputs": [],
   "source": [
    "class Retangulo:\n",
    "    \n",
    "    def __init__(self, comprimento, largura, cor):\n",
    "        self.dim = (comprimento, largura)\n",
    "        self.cor = cor\n",
    "        self.caracteristicas = (comprimento, largura, cor)"
   ]
  },
  {
   "cell_type": "markdown",
   "metadata": {},
   "source": [
    "## Instantiating objects"
   ]
  },
  {
   "cell_type": "code",
   "execution_count": 32,
   "metadata": {},
   "outputs": [],
   "source": [
    "meu_retangulo = Retangulo()\n",
    "meu_segundo_retangulo = Retangulo(5, 10, 'roxo')"
   ]
  },
  {
   "cell_type": "code",
   "execution_count": 33,
   "metadata": {},
   "outputs": [
    {
     "name": "stdout",
     "output_type": "stream",
     "text": [
      "(10, 15, 'vermelho')\n"
     ]
    }
   ],
   "source": [
    "print(meu_retangulo.caracteristicas)"
   ]
  },
  {
   "cell_type": "code",
   "execution_count": 21,
   "metadata": {},
   "outputs": [
    {
     "data": {
      "text/plain": [
       "15"
      ]
     },
     "execution_count": 21,
     "metadata": {},
     "output_type": "execute_result"
    }
   ],
   "source": [
    "meu_retangulo.largura"
   ]
  },
  {
   "cell_type": "code",
   "execution_count": 30,
   "metadata": {},
   "outputs": [
    {
     "name": "stdout",
     "output_type": "stream",
     "text": [
      "('vermelho', 10, 15)\n"
     ]
    }
   ],
   "source": [
    "minha_upla = (meu_retangulo.cor, meu_retangulo.dim[0], meu_retangulo.dim[1])\n",
    "print(minha_upla)"
   ]
  },
  {
   "cell_type": "code",
   "execution_count": 35,
   "metadata": {},
   "outputs": [
    {
     "data": {
      "text/plain": [
       "3"
      ]
     },
     "execution_count": 35,
     "metadata": {},
     "output_type": "execute_result"
    }
   ],
   "source": [
    "int('3')"
   ]
  },
  {
   "cell_type": "markdown",
   "metadata": {},
   "source": [
    "## Attributes\n",
    "\n",
    "Atributos são como características de uma classe. São como variáveis associadas à alguma classe"
   ]
  },
  {
   "cell_type": "code",
   "execution_count": null,
   "metadata": {},
   "outputs": [],
   "source": [
    "meu_retangulo.dim"
   ]
  },
  {
   "cell_type": "markdown",
   "metadata": {},
   "source": [
    "### Special Functions\n",
    "\n",
    "We have the special function `__init__`.\n",
    "\n",
    "`__init__` is the method that runs when you `call` a class."
   ]
  },
  {
   "cell_type": "code",
   "execution_count": 36,
   "metadata": {},
   "outputs": [],
   "source": [
    "class Retangulo:\n",
    "    \n",
    "    def __init__(self, comprimento, largura):\n",
    "        '''\n",
    "        Método para instanciar (criar) um rentagulo.\n",
    "            comprimento: float\n",
    "            largura: float\n",
    "        '''\n",
    "        self.dim = (comprimento, largura)"
   ]
  },
  {
   "cell_type": "code",
   "execution_count": 37,
   "metadata": {},
   "outputs": [
    {
     "data": {
      "text/plain": [
       "(10, 15)"
      ]
     },
     "execution_count": 37,
     "metadata": {},
     "output_type": "execute_result"
    }
   ],
   "source": [
    "meu_retangulo = Retangulo(10, 15)\n",
    "meu_retangulo.dim"
   ]
  },
  {
   "cell_type": "markdown",
   "metadata": {},
   "source": [
    "# Voltamos as 21h18"
   ]
  },
  {
   "cell_type": "code",
   "execution_count": 38,
   "metadata": {},
   "outputs": [
    {
     "name": "stdout",
     "output_type": "stream",
     "text": [
      "<__main__.Retangulo object at 0x000001DF6C45F640>\n"
     ]
    }
   ],
   "source": [
    "print(meu_retangulo)"
   ]
  },
  {
   "cell_type": "code",
   "execution_count": 45,
   "metadata": {},
   "outputs": [],
   "source": [
    "class Retangulo:\n",
    "    \n",
    "    def __init__(self, comprimento, largura):\n",
    "        '''\n",
    "        Método para instanciar (criar) um rentagulo.\n",
    "            comprimento: float\n",
    "            largura: float\n",
    "        '''\n",
    "        self.dim = (comprimento, largura)\n",
    "    \n",
    "    def __repr__(self):\n",
    "        return f'Este é um retangulo de {self.dim[0]} por {self.dim[1]}'"
   ]
  },
  {
   "cell_type": "code",
   "execution_count": 50,
   "metadata": {},
   "outputs": [
    {
     "name": "stdout",
     "output_type": "stream",
     "text": [
      "Este é um retangulo de 10 por 15\n",
      "Este é um retangulo de 10 por 15\n",
      "Este é um retangulo de 10 por 15\n",
      "Este é um retangulo de 10 por 15\n"
     ]
    }
   ],
   "source": [
    "ret = [Retangulo(10,15), Retangulo(10,15), Retangulo(10,15), Retangulo(10,15)]\n",
    "for retangulo in ret:\n",
    "    print(retangulo)"
   ]
  },
  {
   "cell_type": "markdown",
   "metadata": {},
   "source": [
    "## Methods\n",
    "\n",
    "Métodos são como funções. A diferença é que esta função é específica desta classe"
   ]
  },
  {
   "cell_type": "code",
   "execution_count": 55,
   "metadata": {},
   "outputs": [],
   "source": [
    "class Retangulo:\n",
    "    \n",
    "    def __init__(self, comprimento, largura):\n",
    "        '''\n",
    "        Método para instanciar (criar) um rentagulo.\n",
    "            comprimento: float\n",
    "            largura: float\n",
    "        '''\n",
    "        self.dim = (comprimento, largura)\n",
    "    \n",
    "    def __repr__(self):\n",
    "        return f'Este é um retangulo de {self.dim[0]} por {self.dim[1]}'\n",
    "    \n",
    "    def calcular_area(self):\n",
    "        return self.dim[0] * self.dim[1]"
   ]
  },
  {
   "cell_type": "code",
   "execution_count": 52,
   "metadata": {},
   "outputs": [
    {
     "name": "stdout",
     "output_type": "stream",
     "text": [
      "150\n"
     ]
    }
   ],
   "source": [
    "meu_retangulo = Retangulo(10, 15)\n",
    "print(meu_retangulo.calcular_area())"
   ]
  },
  {
   "cell_type": "code",
   "execution_count": null,
   "metadata": {},
   "outputs": [],
   "source": []
  },
  {
   "cell_type": "markdown",
   "metadata": {},
   "source": []
  },
  {
   "cell_type": "code",
   "execution_count": 79,
   "metadata": {},
   "outputs": [],
   "source": [
    "class Retangulo:\n",
    "    \n",
    "    def __init__(self, comprimento, largura):\n",
    "        '''\n",
    "        Método para instanciar (criar) um rentagulo.\n",
    "            comprimento: float\n",
    "            largura: float\n",
    "        '''\n",
    "        self.dim = (comprimento, largura)\n",
    "    \n",
    "    def __repr__(self):\n",
    "        return f'Este é um retangulo de {self.dim[0]} por {self.dim[1]}'\n",
    "    \n",
    "    def __add__(self, other):\n",
    "        return Retangulo(self.dim[0] + other.dim[0], self.dim[1] + other.dim[1])\n",
    "\n",
    "    \n",
    "    def calcular_area(self):\n",
    "        return self.dim[0] * self.dim[1]\n",
    "\n",
    "class Estranho:\n",
    "    def __init__(self, tupla):\n",
    "        self.dim = tupla"
   ]
  },
  {
   "cell_type": "code",
   "execution_count": 80,
   "metadata": {},
   "outputs": [
    {
     "name": "stdout",
     "output_type": "stream",
     "text": [
      "1\n"
     ]
    }
   ],
   "source": [
    "a = Estranho(1)\n",
    "print(a.dim)"
   ]
  },
  {
   "cell_type": "code",
   "execution_count": 83,
   "metadata": {},
   "outputs": [
    {
     "name": "stdout",
     "output_type": "stream",
     "text": [
      "Este é um retangulo de 15 por 20\n"
     ]
    }
   ],
   "source": [
    "meu_retangulo = Retangulo(10, 15)\n",
    "meu_outro_retangulo = Retangulo(5, 5)\n",
    "meu_3o_retangulo = meu_retangulo + meu_outro_retangulo\n",
    "print(meu_3o_retangulo)"
   ]
  },
  {
   "cell_type": "markdown",
   "metadata": {},
   "source": [
    "### Resumo \n",
    "\n",
    "Classes são como **moldes** que criam uma **instância** ou um **exemplo** de um objeto que compartilham propriedades (como `nome`,`cor_cabelo`, etc) entre si, porém, se diferenciam pelo valor que estas propriedades tomam (como `nome = 'Fitó'` vs `nome = 'Mc Donalds'`)"
   ]
  },
  {
   "cell_type": "markdown",
   "metadata": {},
   "source": [
    "In order to `call` our class, we see that 1 parameter is always given. We'll soon see that this first argument is always the `object itself`. Why would it pass itself? In that manner, you always are allowed to access all your objects attributes and methods everywhere.\n",
    "\n",
    "So let's add an argument to the `__init__` method"
   ]
  },
  {
   "cell_type": "markdown",
   "metadata": {},
   "source": [
    "# Class Inheritence - Herança"
   ]
  },
  {
   "cell_type": "code",
   "execution_count": 85,
   "metadata": {},
   "outputs": [],
   "source": [
    "class Quadrado:\n",
    "    \n",
    "    def __init__(self, comprimento):\n",
    "        '''\n",
    "        Método para instanciar (criar) um rentagulo.\n",
    "            comprimento: float\n",
    "            largura: float\n",
    "        '''\n",
    "        self.dim = (comprimento, comprimento)\n",
    "    \n",
    "    def __repr__(self):\n",
    "        return f'Este é um quadrado de {self.dim[0]} por {self.dim[1]}'\n",
    "    \n",
    "    def __add__(self, other):\n",
    "        return Retangulo(self.dim[0] + other.dim[0], self.dim[1] + other.dim[1])\n",
    "    \n",
    "    def calcular_area(self):\n",
    "        return self.dim[0] * self.dim[1]"
   ]
  },
  {
   "cell_type": "code",
   "execution_count": 87,
   "metadata": {},
   "outputs": [
    {
     "name": "stdout",
     "output_type": "stream",
     "text": [
      "Este é um quadrado de 5 por 5\n",
      "25\n"
     ]
    }
   ],
   "source": [
    "meu_quadrado = Quadrado(5)\n",
    "print(meu_quadrado)\n",
    "print(meu_quadrado.calcular_area())"
   ]
  },
  {
   "cell_type": "code",
   "execution_count": 98,
   "metadata": {},
   "outputs": [],
   "source": [
    "class Retangulo:\n",
    "    \n",
    "    def __init__(self, comprimento, largura):\n",
    "        '''\n",
    "        Método para instanciar (criar) um rentagulo.\n",
    "            comprimento: float\n",
    "            largura: float\n",
    "        '''\n",
    "        self.dim = (comprimento, largura)\n",
    "    \n",
    "    def __repr__(self):\n",
    "        return f'Este é um retangulo de {self.dim[0]} por {self.dim[1]}'\n",
    "    \n",
    "    def __add__(self, other):\n",
    "        return Retangulo(self.dim[0] + other.dim[0], self.dim[1] + other.dim[1])\n",
    "    \n",
    "    def calcular_area(self):\n",
    "        return self.dim[0] * self.dim[1]\n",
    "\n",
    "class Quadrado(Retangulo):\n",
    "    \n",
    "    def __init__(self, lado):\n",
    "        super().__init__(lado, lado)\n",
    "        \n",
    "    def __repr__(self):\n",
    "        return f'Este é um quadrado de {self.dim[0]} por {self.dim[1]}'"
   ]
  },
  {
   "cell_type": "code",
   "execution_count": 99,
   "metadata": {},
   "outputs": [
    {
     "name": "stdout",
     "output_type": "stream",
     "text": [
      "25\n"
     ]
    }
   ],
   "source": [
    "meu_quadrado = Quadrado(5)\n",
    "print(meu_quadrado.calcular_area())"
   ]
  },
  {
   "cell_type": "code",
   "execution_count": 112,
   "metadata": {},
   "outputs": [],
   "source": [
    "class Cubo(Quadrado):\n",
    "    \n",
    "    def __repr__(self):\n",
    "        return f'Este é um cubo de lado {self.dim[0]}'\n",
    "    \n",
    "    def calcular_volume(self):\n",
    "        return super().calcular_area() * self.dim[0]\n",
    "    \n",
    "    def calcular_area(self):\n",
    "        raise TypeError('Classe Cubo não tem area!')"
   ]
  },
  {
   "cell_type": "code",
   "execution_count": 113,
   "metadata": {},
   "outputs": [],
   "source": [
    "meu_cubo = Cubo(5)"
   ]
  },
  {
   "cell_type": "code",
   "execution_count": 114,
   "metadata": {},
   "outputs": [
    {
     "ename": "TypeError",
     "evalue": "Classe Cubo não tem area!",
     "output_type": "error",
     "traceback": [
      "\u001b[1;31m---------------------------------------------------------------------------\u001b[0m",
      "\u001b[1;31mTypeError\u001b[0m                                 Traceback (most recent call last)",
      "\u001b[1;32m<ipython-input-114-2424f4fdc536>\u001b[0m in \u001b[0;36m<module>\u001b[1;34m\u001b[0m\n\u001b[1;32m----> 1\u001b[1;33m \u001b[0mmeu_cubo\u001b[0m\u001b[1;33m.\u001b[0m\u001b[0mcalcular_area\u001b[0m\u001b[1;33m(\u001b[0m\u001b[1;33m)\u001b[0m\u001b[1;33m\u001b[0m\u001b[1;33m\u001b[0m\u001b[0m\n\u001b[0m",
      "\u001b[1;32m<ipython-input-112-ac0ea0dfccf3>\u001b[0m in \u001b[0;36mcalcular_area\u001b[1;34m(self)\u001b[0m\n\u001b[0;32m      8\u001b[0m \u001b[1;33m\u001b[0m\u001b[0m\n\u001b[0;32m      9\u001b[0m     \u001b[1;32mdef\u001b[0m \u001b[0mcalcular_area\u001b[0m\u001b[1;33m(\u001b[0m\u001b[0mself\u001b[0m\u001b[1;33m)\u001b[0m\u001b[1;33m:\u001b[0m\u001b[1;33m\u001b[0m\u001b[1;33m\u001b[0m\u001b[0m\n\u001b[1;32m---> 10\u001b[1;33m         \u001b[1;32mraise\u001b[0m \u001b[0mTypeError\u001b[0m\u001b[1;33m(\u001b[0m\u001b[1;34m'Classe Cubo não tem area!'\u001b[0m\u001b[1;33m)\u001b[0m\u001b[1;33m\u001b[0m\u001b[1;33m\u001b[0m\u001b[0m\n\u001b[0m",
      "\u001b[1;31mTypeError\u001b[0m: Classe Cubo não tem area!"
     ]
    }
   ],
   "source": [
    "meu_cubo.calcular_area()"
   ]
  },
  {
   "cell_type": "code",
   "execution_count": 107,
   "metadata": {},
   "outputs": [
    {
     "name": "stdout",
     "output_type": "stream",
     "text": [
      "Este é um cubo de lado 5\n"
     ]
    }
   ],
   "source": [
    "print(meu_cubo)"
   ]
  },
  {
   "cell_type": "code",
   "execution_count": null,
   "metadata": {},
   "outputs": [],
   "source": [
    "class User:\n",
    "    \n",
    "    def __init__(self, user_id, name, creation_date):\n",
    "        self.user_id = user_id\n",
    "        self.name = name\n",
    "        self.creation_date = creation_date\n",
    "        \n",
    "class Admin(User):\n",
    "    \n",
    "    def set_permission(self):\n",
    "        self.permission = True"
   ]
  }
 ],
 "metadata": {
  "kernelspec": {
   "display_name": "Python 3",
   "language": "python",
   "name": "python3"
  },
  "language_info": {
   "codemirror_mode": {
    "name": "ipython",
    "version": 3
   },
   "file_extension": ".py",
   "mimetype": "text/x-python",
   "name": "python",
   "nbconvert_exporter": "python",
   "pygments_lexer": "ipython3",
   "version": "3.8.8"
  },
  "toc": {
   "base_numbering": 1,
   "nav_menu": {},
   "number_sections": true,
   "sideBar": true,
   "skip_h1_title": false,
   "title_cell": "Table of Contents",
   "title_sidebar": "Contents",
   "toc_cell": false,
   "toc_position": {},
   "toc_section_display": true,
   "toc_window_display": false
  },
  "toc-autonumbering": true,
  "toc-showcode": false,
  "toc-showmarkdowntxt": true,
  "varInspector": {
   "cols": {
    "lenName": 16,
    "lenType": 16,
    "lenVar": 40
   },
   "kernels_config": {
    "python": {
     "delete_cmd_postfix": "",
     "delete_cmd_prefix": "del ",
     "library": "var_list.py",
     "varRefreshCmd": "print(var_dic_list())"
    },
    "r": {
     "delete_cmd_postfix": ") ",
     "delete_cmd_prefix": "rm(",
     "library": "var_list.r",
     "varRefreshCmd": "cat(var_dic_list()) "
    }
   },
   "types_to_exclude": [
    "module",
    "function",
    "builtin_function_or_method",
    "instance",
    "_Feature"
   ],
   "window_display": false
  }
 },
 "nbformat": 4,
 "nbformat_minor": 4
}
