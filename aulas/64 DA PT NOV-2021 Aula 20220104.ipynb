{
 "cells": [
  {
   "cell_type": "code",
   "execution_count": null,
   "metadata": {
    "ExecuteTime": {
     "end_time": "2020-11-02T00:56:54.511934Z",
     "start_time": "2020-11-02T00:56:47.853425Z"
    }
   },
   "outputs": [],
   "source": [
    "import re\n",
    "import numpy as np\n",
    "import pandas as pd"
   ]
  },
  {
   "cell_type": "markdown",
   "metadata": {},
   "source": [
    "# Recap Function Definitions"
   ]
  },
  {
   "cell_type": "markdown",
   "metadata": {},
   "source": [
    "Broken into tokens:\n",
    "\n",
    "> <b>def </b>\n",
    "- Tell python that you're starting to create a function\n",
    "\n",
    "> <b>function_name</b>\n",
    "- you give that function a name for a future call\n",
    "\n",
    "> <b>(</b>\n",
    "- Open parenthesis to give arguments (or variables) that you'll use in that functions. These helps you parametrize code.\n",
    "\n",
    "> <b>[OPTIONAL] arg1, arg2, arg3, ... </b>\n",
    "- The arguments of that function\n",
    "\n",
    "> <b>)</b>\n",
    "- CLose parenthesis to say you're done creating arguments\n",
    "\n",
    "> <b>:</b>\n",
    "- colon to say you're about to start a `code block`\n",
    "\n",
    "> <b>code block</b>\n",
    "- where you effectively do something with (or without) the arguments\n",
    "\n",
    "> <b>return</b>\n",
    "- The return statement tells you're done with the function. Whether you'll return something from that or not is optional\n",
    "\n",
    "> <b>[OPTIONAL] something</b>\n",
    "- The `something` you're allowed to retur.\n",
    "\n"
   ]
  },
  {
   "cell_type": "code",
   "execution_count": null,
   "metadata": {
    "ExecuteTime": {
     "end_time": "2022-01-04T13:18:53.303197Z",
     "start_time": "2022-01-04T13:18:53.300205Z"
    },
    "scrolled": true
   },
   "outputs": [],
   "source": [
    "def function_name(arg1):\n",
    "    something = arg1 + 10\n",
    "    return something"
   ]
  },
  {
   "cell_type": "code",
   "execution_count": null,
   "metadata": {
    "ExecuteTime": {
     "end_time": "2022-01-04T13:18:53.680189Z",
     "start_time": "2022-01-04T13:18:53.668221Z"
    }
   },
   "outputs": [],
   "source": [
    "print(function_name(5))"
   ]
  },
  {
   "cell_type": "code",
   "execution_count": null,
   "metadata": {
    "ExecuteTime": {
     "end_time": "2022-01-04T13:19:08.227245Z",
     "start_time": "2022-01-04T13:19:08.217273Z"
    }
   },
   "outputs": [],
   "source": [
    "def soma(x, y):\n",
    "    return x + y"
   ]
  },
  {
   "cell_type": "code",
   "execution_count": null,
   "metadata": {
    "ExecuteTime": {
     "end_time": "2022-01-04T13:19:20.203501Z",
     "start_time": "2022-01-04T13:19:20.199525Z"
    }
   },
   "outputs": [],
   "source": [
    "print(soma(5, 12))"
   ]
  },
  {
   "cell_type": "code",
   "execution_count": null,
   "metadata": {
    "ExecuteTime": {
     "end_time": "2022-01-04T13:22:40.303440Z",
     "start_time": "2022-01-04T13:22:40.295461Z"
    }
   },
   "outputs": [],
   "source": [
    "def soma_subt(x, y):\n",
    "    return x + y, x - y"
   ]
  },
  {
   "cell_type": "code",
   "execution_count": null,
   "metadata": {
    "ExecuteTime": {
     "end_time": "2022-01-04T13:22:40.760218Z",
     "start_time": "2022-01-04T13:22:40.756230Z"
    }
   },
   "outputs": [],
   "source": [
    "print(soma_subt(5, 12))"
   ]
  },
  {
   "cell_type": "markdown",
   "metadata": {},
   "source": [
    "# What is a Lambda Function?\n",
    "\n",
    "https://realpython.com/python-lambda/\n",
    "\n",
    "\n",
    "> Named after `lambda calculus`.\n",
    "\n",
    "> Usually refers to `anonymous functions`"
   ]
  },
  {
   "cell_type": "markdown",
   "metadata": {},
   "source": [
    "## How to define lambda functions?"
   ]
  },
  {
   "cell_type": "code",
   "execution_count": null,
   "metadata": {
    "ExecuteTime": {
     "end_time": "2022-01-04T13:29:00.347828Z",
     "start_time": "2022-01-04T13:29:00.344836Z"
    }
   },
   "outputs": [],
   "source": [
    "def div_2(x):\n",
    "    return x/2"
   ]
  },
  {
   "cell_type": "code",
   "execution_count": null,
   "metadata": {
    "ExecuteTime": {
     "end_time": "2022-01-04T13:23:19.219285Z",
     "start_time": "2022-01-04T13:23:19.200338Z"
    }
   },
   "outputs": [],
   "source": [
    "lambda x: x/2"
   ]
  },
  {
   "cell_type": "code",
   "execution_count": null,
   "metadata": {
    "ExecuteTime": {
     "end_time": "2022-01-04T13:23:43.966970Z",
     "start_time": "2022-01-04T13:23:43.952010Z"
    }
   },
   "outputs": [],
   "source": [
    "lambda x: x+10"
   ]
  },
  {
   "cell_type": "markdown",
   "metadata": {},
   "source": [
    "## Some ways to call a lambda function"
   ]
  },
  {
   "cell_type": "markdown",
   "metadata": {},
   "source": [
    "### Example 1"
   ]
  },
  {
   "cell_type": "code",
   "execution_count": null,
   "metadata": {
    "ExecuteTime": {
     "end_time": "2022-01-04T13:25:15.473299Z",
     "start_time": "2022-01-04T13:25:15.468291Z"
    }
   },
   "outputs": [],
   "source": [
    "(lambda x: x+10) (10)"
   ]
  },
  {
   "cell_type": "markdown",
   "metadata": {},
   "source": [
    "### Example 2"
   ]
  },
  {
   "cell_type": "code",
   "execution_count": null,
   "metadata": {
    "ExecuteTime": {
     "end_time": "2022-01-04T13:25:30.276729Z",
     "start_time": "2022-01-04T13:25:30.272731Z"
    }
   },
   "outputs": [],
   "source": [
    "soma_10 = lambda x: x + 10"
   ]
  },
  {
   "cell_type": "code",
   "execution_count": null,
   "metadata": {
    "ExecuteTime": {
     "end_time": "2022-01-04T13:25:36.320685Z",
     "start_time": "2022-01-04T13:25:36.316695Z"
    }
   },
   "outputs": [],
   "source": [
    "soma_10(5)"
   ]
  },
  {
   "cell_type": "markdown",
   "metadata": {},
   "source": [
    "### Example 3"
   ]
  },
  {
   "cell_type": "code",
   "execution_count": null,
   "metadata": {
    "ExecuteTime": {
     "end_time": "2022-01-04T13:27:17.109668Z",
     "start_time": "2022-01-04T13:27:17.097701Z"
    }
   },
   "outputs": [],
   "source": [
    "lista_exemplo = [1, 4, 5, 8]"
   ]
  },
  {
   "cell_type": "code",
   "execution_count": null,
   "metadata": {
    "ExecuteTime": {
     "end_time": "2022-01-04T13:29:12.649006Z",
     "start_time": "2022-01-04T13:29:12.643023Z"
    }
   },
   "outputs": [],
   "source": [
    "def div_2(x):\n",
    "    return x/2"
   ]
  },
  {
   "cell_type": "code",
   "execution_count": null,
   "metadata": {
    "ExecuteTime": {
     "end_time": "2022-01-04T13:29:13.830968Z",
     "start_time": "2022-01-04T13:29:13.827007Z"
    }
   },
   "outputs": [],
   "source": [
    "resultado_meio = map(div_2, lista_exemplo)"
   ]
  },
  {
   "cell_type": "code",
   "execution_count": null,
   "metadata": {
    "ExecuteTime": {
     "end_time": "2022-01-04T13:29:14.921164Z",
     "start_time": "2022-01-04T13:29:14.918165Z"
    }
   },
   "outputs": [],
   "source": [
    "print(resultado_meio)"
   ]
  },
  {
   "cell_type": "code",
   "execution_count": null,
   "metadata": {
    "ExecuteTime": {
     "end_time": "2022-01-04T13:29:23.668957Z",
     "start_time": "2022-01-04T13:29:23.664967Z"
    }
   },
   "outputs": [],
   "source": [
    "print(list(resultado_meio))"
   ]
  },
  {
   "cell_type": "code",
   "execution_count": null,
   "metadata": {
    "ExecuteTime": {
     "end_time": "2020-08-31T14:06:51.223176Z",
     "start_time": "2020-08-31T14:06:51.219177Z"
    }
   },
   "outputs": [],
   "source": [
    "resultado_meio_lambda = map(lambda x: x/2, lista_exemplo)"
   ]
  },
  {
   "cell_type": "code",
   "execution_count": null,
   "metadata": {},
   "outputs": [],
   "source": [
    "print(list(resultado_meio_lambda))"
   ]
  },
  {
   "cell_type": "markdown",
   "metadata": {},
   "source": [
    "## Define a lambda function using more than 1 argument"
   ]
  },
  {
   "cell_type": "code",
   "execution_count": null,
   "metadata": {
    "ExecuteTime": {
     "end_time": "2022-01-04T13:30:26.646498Z",
     "start_time": "2022-01-04T13:30:26.641513Z"
    }
   },
   "outputs": [],
   "source": [
    "def soma(x, y):\n",
    "    return x + y\n",
    "\n",
    "print(soma(10, 5))"
   ]
  },
  {
   "cell_type": "code",
   "execution_count": null,
   "metadata": {
    "ExecuteTime": {
     "end_time": "2022-01-04T13:44:16.704524Z",
     "start_time": "2022-01-04T13:44:16.691561Z"
    }
   },
   "outputs": [],
   "source": [
    "soma_lambda = lambda x, y: x + y\n",
    "print(soma_lambda(10, 5))"
   ]
  },
  {
   "cell_type": "code",
   "execution_count": null,
   "metadata": {
    "ExecuteTime": {
     "end_time": "2022-01-04T13:44:20.106462Z",
     "start_time": "2022-01-04T13:44:20.101475Z"
    }
   },
   "outputs": [],
   "source": [
    "(lambda x, y: x + y) (10, 5)"
   ]
  },
  {
   "cell_type": "markdown",
   "metadata": {},
   "source": [
    "## Adding Conditions"
   ]
  },
  {
   "cell_type": "code",
   "execution_count": null,
   "metadata": {
    "ExecuteTime": {
     "end_time": "2022-01-04T13:46:08.326172Z",
     "start_time": "2022-01-04T13:46:08.322183Z"
    }
   },
   "outputs": [],
   "source": [
    "div_segura = lambda x: 1/x if x != 0 else None\n",
    "div_segura(0)"
   ]
  },
  {
   "cell_type": "markdown",
   "metadata": {},
   "source": [
    "## Applications"
   ]
  },
  {
   "cell_type": "markdown",
   "metadata": {},
   "source": [
    "### Python"
   ]
  },
  {
   "cell_type": "markdown",
   "metadata": {},
   "source": [
    "#### Map"
   ]
  },
  {
   "cell_type": "code",
   "execution_count": null,
   "metadata": {
    "ExecuteTime": {
     "end_time": "2022-01-04T13:52:41.528433Z",
     "start_time": "2022-01-04T13:52:41.524444Z"
    }
   },
   "outputs": [],
   "source": [
    "lista_exemplo = [1,4,6,'NA',7,10,'NA',31,13]"
   ]
  },
  {
   "cell_type": "code",
   "execution_count": null,
   "metadata": {},
   "outputs": [],
   "source": [
    "def div_2(x):\n",
    "    return x/2\n",
    "\n",
    "resultado = map(div_2, lista_exemplo)\n",
    "print(list(resultado))"
   ]
  },
  {
   "cell_type": "code",
   "execution_count": null,
   "metadata": {
    "ExecuteTime": {
     "end_time": "2022-01-04T13:53:25.179472Z",
     "start_time": "2022-01-04T13:53:25.176455Z"
    }
   },
   "outputs": [],
   "source": [
    "def div_2_seg(x):\n",
    "    if type(x) == (int or float):\n",
    "        return x/2\n",
    "    else:\n",
    "        return None"
   ]
  },
  {
   "cell_type": "code",
   "execution_count": null,
   "metadata": {
    "ExecuteTime": {
     "end_time": "2022-01-04T13:53:25.691065Z",
     "start_time": "2022-01-04T13:53:25.688074Z"
    }
   },
   "outputs": [],
   "source": [
    "resultado = map(div_2_seg, lista_exemplo)\n",
    "print(list(resultado))"
   ]
  },
  {
   "cell_type": "code",
   "execution_count": null,
   "metadata": {
    "ExecuteTime": {
     "end_time": "2022-01-04T13:53:54.042655Z",
     "start_time": "2022-01-04T13:53:54.037668Z"
    }
   },
   "outputs": [],
   "source": [
    "resultado = map(lambda x: x/2 if type(x) == (int or float) else None, lista_exemplo)\n",
    "print(list(resultado))"
   ]
  },
  {
   "cell_type": "markdown",
   "metadata": {},
   "source": [
    "#### Filter"
   ]
  },
  {
   "cell_type": "code",
   "execution_count": null,
   "metadata": {
    "ExecuteTime": {
     "end_time": "2022-01-04T14:03:22.242769Z",
     "start_time": "2022-01-04T14:03:22.238801Z"
    }
   },
   "outputs": [],
   "source": [
    "lista_telefones = ['+5511983722311', '+111923123314', '+5511953122316', '+111953564316'] "
   ]
  },
  {
   "cell_type": "code",
   "execution_count": null,
   "metadata": {
    "ExecuteTime": {
     "end_time": "2022-01-04T14:03:22.597827Z",
     "start_time": "2022-01-04T14:03:22.594821Z"
    }
   },
   "outputs": [],
   "source": [
    "def tel_br(num_telefone):\n",
    "    if num_telefone.find('+55') >= 0:\n",
    "        return True\n",
    "    else:\n",
    "        return False"
   ]
  },
  {
   "cell_type": "code",
   "execution_count": null,
   "metadata": {
    "ExecuteTime": {
     "end_time": "2022-01-04T14:04:22.931506Z",
     "start_time": "2022-01-04T14:04:22.927516Z"
    }
   },
   "outputs": [],
   "source": [
    "mask_br = list(map(tel_br, lista_telefones))\n",
    "print(mask_br)"
   ]
  },
  {
   "cell_type": "code",
   "execution_count": null,
   "metadata": {
    "ExecuteTime": {
     "end_time": "2022-01-04T14:06:10.621813Z",
     "start_time": "2022-01-04T14:06:10.616831Z"
    }
   },
   "outputs": [],
   "source": [
    "print(list(zip(lista_telefones, mask_br)))"
   ]
  },
  {
   "cell_type": "code",
   "execution_count": null,
   "metadata": {
    "ExecuteTime": {
     "end_time": "2022-01-04T14:07:06.963509Z",
     "start_time": "2022-01-04T14:07:06.958521Z"
    }
   },
   "outputs": [],
   "source": [
    "[tel for tel, mask in zip(lista_telefones, mask_br) if mask]"
   ]
  },
  {
   "cell_type": "code",
   "execution_count": null,
   "metadata": {
    "ExecuteTime": {
     "end_time": "2022-01-04T14:07:48.868497Z",
     "start_time": "2022-01-04T14:07:48.863512Z"
    },
    "scrolled": true
   },
   "outputs": [],
   "source": [
    "resultado = filter(tel_br, lista_telefones)\n",
    "print(resultado)"
   ]
  },
  {
   "cell_type": "code",
   "execution_count": null,
   "metadata": {
    "ExecuteTime": {
     "end_time": "2022-01-04T14:07:58.890425Z",
     "start_time": "2022-01-04T14:07:58.887460Z"
    }
   },
   "outputs": [],
   "source": [
    "print(list(resultado))"
   ]
  },
  {
   "cell_type": "code",
   "execution_count": null,
   "metadata": {
    "ExecuteTime": {
     "end_time": "2022-01-04T14:09:01.482736Z",
     "start_time": "2022-01-04T14:09:01.478741Z"
    }
   },
   "outputs": [],
   "source": [
    "resultado = filter(lambda x: True if x.find('+55') >= 0 else False, lista_telefones)\n",
    "print(list(resultado))"
   ]
  },
  {
   "cell_type": "markdown",
   "metadata": {},
   "source": [
    "#### Ordering a dictionary by its values"
   ]
  },
  {
   "cell_type": "code",
   "execution_count": null,
   "metadata": {
    "ExecuteTime": {
     "end_time": "2022-01-04T14:44:41.953214Z",
     "start_time": "2022-01-04T14:44:41.948228Z"
    }
   },
   "outputs": [],
   "source": [
    "frutas_diferentonas = {\n",
    "    'Atemoia': 10, \n",
    "    'Kiwi Gold' : 30, \n",
    "    'Romã': 15, \n",
    "    'Pitaya': 5}"
   ]
  },
  {
   "cell_type": "code",
   "execution_count": null,
   "metadata": {
    "ExecuteTime": {
     "end_time": "2022-01-04T14:44:42.348295Z",
     "start_time": "2022-01-04T14:44:42.343309Z"
    }
   },
   "outputs": [],
   "source": [
    "sorted(frutas_diferentonas)"
   ]
  },
  {
   "cell_type": "code",
   "execution_count": null,
   "metadata": {
    "ExecuteTime": {
     "end_time": "2022-01-04T14:44:43.179236Z",
     "start_time": "2022-01-04T14:44:43.175236Z"
    }
   },
   "outputs": [],
   "source": [
    "list(frutas_diferentonas.items())"
   ]
  },
  {
   "cell_type": "code",
   "execution_count": null,
   "metadata": {
    "ExecuteTime": {
     "end_time": "2022-01-04T14:45:03.727128Z",
     "start_time": "2022-01-04T14:45:03.720161Z"
    }
   },
   "outputs": [],
   "source": [
    "sorted(frutas_diferentonas.items(), key = lambda x: x[1])"
   ]
  },
  {
   "cell_type": "code",
   "execution_count": null,
   "metadata": {
    "ExecuteTime": {
     "end_time": "2022-01-04T14:45:42.144348Z",
     "start_time": "2022-01-04T14:45:42.141360Z"
    }
   },
   "outputs": [],
   "source": [
    "lista_num = [-5, 2, -12, 14, 25, 8, -35]"
   ]
  },
  {
   "cell_type": "code",
   "execution_count": null,
   "metadata": {
    "ExecuteTime": {
     "end_time": "2022-01-04T14:45:49.266997Z",
     "start_time": "2022-01-04T14:45:49.258019Z"
    }
   },
   "outputs": [],
   "source": [
    "sorted(lista_num)"
   ]
  },
  {
   "cell_type": "code",
   "execution_count": null,
   "metadata": {
    "ExecuteTime": {
     "end_time": "2022-01-04T14:46:02.413775Z",
     "start_time": "2022-01-04T14:46:02.407793Z"
    }
   },
   "outputs": [],
   "source": [
    "sorted(lista_num, key = lambda x: x ** 2)"
   ]
  },
  {
   "cell_type": "markdown",
   "metadata": {},
   "source": [
    "#### Apply with Lambda"
   ]
  },
  {
   "cell_type": "code",
   "execution_count": null,
   "metadata": {
    "ExecuteTime": {
     "end_time": "2022-01-04T14:19:27.088499Z",
     "start_time": "2022-01-04T14:19:26.216827Z"
    }
   },
   "outputs": [],
   "source": [
    "import pandas as pd"
   ]
  },
  {
   "cell_type": "code",
   "execution_count": null,
   "metadata": {
    "ExecuteTime": {
     "end_time": "2022-01-04T14:38:26.817832Z",
     "start_time": "2022-01-04T14:38:25.943911Z"
    }
   },
   "outputs": [],
   "source": [
    "file_address = 'http://www.statsci.org/data/general/sleep.txt'\n",
    "tb_sleep = pd.read_csv(file_address, sep='\\t')"
   ]
  },
  {
   "cell_type": "code",
   "execution_count": null,
   "metadata": {
    "ExecuteTime": {
     "end_time": "2022-01-04T14:38:26.837725Z",
     "start_time": "2022-01-04T14:38:26.818776Z"
    }
   },
   "outputs": [],
   "source": [
    "tb_sleep"
   ]
  },
  {
   "cell_type": "code",
   "execution_count": null,
   "metadata": {
    "ExecuteTime": {
     "end_time": "2022-01-04T14:38:27.475070Z",
     "start_time": "2022-01-04T14:38:27.471070Z"
    }
   },
   "outputs": [],
   "source": [
    "tb_sleep['Risco'] = tb_sleep['Danger'].apply(lambda x: 'Risco' if x >= 3 else 'Seguro')"
   ]
  },
  {
   "cell_type": "code",
   "execution_count": null,
   "metadata": {
    "ExecuteTime": {
     "end_time": "2022-01-04T14:38:28.274919Z",
     "start_time": "2022-01-04T14:38:28.240012Z"
    }
   },
   "outputs": [],
   "source": [
    "tb_sleep"
   ]
  },
  {
   "cell_type": "markdown",
   "metadata": {},
   "source": [
    "#### Transform with Lambda"
   ]
  },
  {
   "cell_type": "code",
   "execution_count": null,
   "metadata": {
    "ExecuteTime": {
     "end_time": "2022-01-04T14:38:30.825207Z",
     "start_time": "2022-01-04T14:38:30.820222Z"
    }
   },
   "outputs": [],
   "source": [
    "# Aplicar a média utilizando transform para o grupo TotalSleep\n",
    "tb_sleep['media_total_sleep'] = df.groupby('Risco')['TotalSleep'].transform('mean')"
   ]
  },
  {
   "cell_type": "code",
   "execution_count": null,
   "metadata": {
    "ExecuteTime": {
     "end_time": "2022-01-04T14:38:35.835960Z",
     "start_time": "2022-01-04T14:38:35.794071Z"
    }
   },
   "outputs": [],
   "source": [
    "tb_sleep"
   ]
  },
  {
   "cell_type": "code",
   "execution_count": null,
   "metadata": {
    "ExecuteTime": {
     "end_time": "2022-01-04T14:42:29.668360Z",
     "start_time": "2022-01-04T14:42:29.653400Z"
    }
   },
   "outputs": [],
   "source": [
    "tb_sleep['zscore_total_sleep'] = df.groupby('Risco')['TotalSleep'].transform(lambda x: (x - x.mean())/x.std())"
   ]
  },
  {
   "cell_type": "code",
   "execution_count": null,
   "metadata": {
    "ExecuteTime": {
     "end_time": "2022-01-04T14:42:32.489965Z",
     "start_time": "2022-01-04T14:42:32.464034Z"
    }
   },
   "outputs": [],
   "source": [
    "tb_sleep"
   ]
  },
  {
   "cell_type": "code",
   "execution_count": null,
   "metadata": {},
   "outputs": [],
   "source": []
  }
 ],
 "metadata": {
  "hide_input": false,
  "kernelspec": {
   "display_name": "Python 3",
   "language": "python",
   "name": "python3"
  },
  "language_info": {
   "codemirror_mode": {
    "name": "ipython",
    "version": 3
   },
   "file_extension": ".py",
   "mimetype": "text/x-python",
   "name": "python",
   "nbconvert_exporter": "python",
   "pygments_lexer": "ipython3",
   "version": "3.8.8"
  },
  "toc": {
   "base_numbering": 1,
   "nav_menu": {},
   "number_sections": true,
   "sideBar": true,
   "skip_h1_title": false,
   "title_cell": "Table of Contents",
   "title_sidebar": "Contents",
   "toc_cell": false,
   "toc_position": {},
   "toc_section_display": true,
   "toc_window_display": false
  },
  "varInspector": {
   "cols": {
    "lenName": 16,
    "lenType": 16,
    "lenVar": 40
   },
   "kernels_config": {
    "python": {
     "delete_cmd_postfix": "",
     "delete_cmd_prefix": "del ",
     "library": "var_list.py",
     "varRefreshCmd": "print(var_dic_list())"
    },
    "r": {
     "delete_cmd_postfix": ") ",
     "delete_cmd_prefix": "rm(",
     "library": "var_list.r",
     "varRefreshCmd": "cat(var_dic_list()) "
    }
   },
   "types_to_exclude": [
    "module",
    "function",
    "builtin_function_or_method",
    "instance",
    "_Feature"
   ],
   "window_display": false
  }
 },
 "nbformat": 4,
 "nbformat_minor": 4
}
