{
 "cells": [
  {
   "cell_type": "markdown",
   "id": "cd6f983d",
   "metadata": {
    "toc": true
   },
   "source": [
    "<h1>Table of Contents<span class=\"tocSkip\"></span></h1>\n",
    "<div class=\"toc\"><ul class=\"toc-item\"><li><span><a href=\"#Introdução-à-bancos-de-dados-RDBMS\" data-toc-modified-id=\"Introdução-à-bancos-de-dados-RDBMS-1\"><span class=\"toc-item-num\">1&nbsp;&nbsp;</span>Introdução à bancos de dados RDBMS</a></span></li><li><span><a href=\"#Pandas-vs-SQL\" data-toc-modified-id=\"Pandas-vs-SQL-2\"><span class=\"toc-item-num\">2&nbsp;&nbsp;</span>Pandas vs SQL</a></span></li><li><span><a href=\"#Voltamos-as-21h\" data-toc-modified-id=\"Voltamos-as-21h-3\"><span class=\"toc-item-num\">3&nbsp;&nbsp;</span>Voltamos as 21h</a></span><ul class=\"toc-item\"><li><span><a href=\"#Instruções\" data-toc-modified-id=\"Instruções-3.1\"><span class=\"toc-item-num\">3.1&nbsp;&nbsp;</span>Instruções</a></span></li><li><span><a href=\"#Ler-Dados\" data-toc-modified-id=\"Ler-Dados-3.2\"><span class=\"toc-item-num\">3.2&nbsp;&nbsp;</span>Ler Dados</a></span></li><li><span><a href=\"#Comparando-SQL-e-Pandas\" data-toc-modified-id=\"Comparando-SQL-e-Pandas-3.3\"><span class=\"toc-item-num\">3.3&nbsp;&nbsp;</span>Comparando SQL e Pandas</a></span><ul class=\"toc-item\"><li><span><a href=\"#Selecionando-e-filtrando\" data-toc-modified-id=\"Selecionando-e-filtrando-3.3.1\"><span class=\"toc-item-num\">3.3.1&nbsp;&nbsp;</span>Selecionando e filtrando</a></span></li><li><span><a href=\"#Agrupando\" data-toc-modified-id=\"Agrupando-3.3.2\"><span class=\"toc-item-num\">3.3.2&nbsp;&nbsp;</span>Agrupando</a></span></li><li><span><a href=\"#Joins\" data-toc-modified-id=\"Joins-3.3.3\"><span class=\"toc-item-num\">3.3.3&nbsp;&nbsp;</span>Joins</a></span></li><li><span><a href=\"#Ordenamento\" data-toc-modified-id=\"Ordenamento-3.3.4\"><span class=\"toc-item-num\">3.3.4&nbsp;&nbsp;</span>Ordenamento</a></span></li><li><span><a href=\"#Concatenação\" data-toc-modified-id=\"Concatenação-3.3.5\"><span class=\"toc-item-num\">3.3.5&nbsp;&nbsp;</span>Concatenação</a></span></li></ul></li></ul></li></ul></div>"
   ]
  },
  {
   "cell_type": "markdown",
   "id": "81a56086",
   "metadata": {},
   "source": [
    "# Introdução à bancos de dados RDBMS"
   ]
  },
  {
   "attachments": {
    "image.png": {
     "image/png": "[encoded data removed]"
    }
   },
   "cell_type": "markdown",
   "id": "7152605f",
   "metadata": {},
   "source": [
    "Os DBs RDBMS são **bancos de dados** relacionais, ou seja, **guardam informações sobre entidades, seus atributos e as relações entre si**. Em um RDBMS bem estruturado cada **tabela** representa ou **um tipo de entidade** ou uma **relação entre dois tipos de entidades**. Cada linha da tabela representa **um individuo** daquela entidade e cada coluna **um atributo**. Por exemplo, podemos ter uma tabela chamada **Movies** que representa a entidade filme em um banco de dados sobre cinema. As colunas dessa tabela podem ser o nome do filme, a data de lançamento, a duração, enfim, qualquer atributo que seja definido apenas no nível dessa entidade. Outras informações, como o elenco do filme, seriam guardadas em outras tabelas, representando diferentes entidades. ![image.png](attachment:image.png)"
   ]
  },
  {
   "cell_type": "markdown",
   "id": "029f1ef8",
   "metadata": {},
   "source": [
    "Além de atributos, as colunas de uma tabela contém o identificador único de cada indíviduo da tabela (*primary key*). No caso do DB acima, a tabela filmes conterá uma coluna chamada **ID_MOVIE** que assume um valor único para cada filme diferente.\n",
    "\n",
    "Além das *primary keys* podemos ter também colunas representando a relação de uma entidade com outra, as *foreign keys*. No exemplo acima, além da **ID_MOVIE** a tabela **MOVIE** conterá uma coluna chamada **ID_DIRECTOR** (a *primary key* da tabela Diretor). *Foreign keys* permitem ao usuário de um RDBMS extrair informações de maneira agregada (todos os filmes de um dado diretor, por exemplo)."
   ]
  },
  {
   "cell_type": "markdown",
   "id": "4f77815c",
   "metadata": {},
   "source": [
    "Quando estudamos os diferentes tipos de *join* no contexto da biblioteca Pandas vimos que estes podem ser classificados de acordo com sua cardinalidade:\n",
    "\n",
    "* **One-to-One**\n",
    "* **Many-to-One (ou One-to-Many)**\n",
    "* **Many-to-Many**\n",
    "\n",
    "Essas relações podem ser vistas no contexto de um RDBMS na forma como diferentes entidades se relacionam e podem ser vistas como representações de relações reais."
   ]
  },
  {
   "cell_type": "markdown",
   "id": "d361809e",
   "metadata": {},
   "source": [
    "# Pandas vs SQL"
   ]
  },
  {
   "cell_type": "markdown",
   "id": "b881191b",
   "metadata": {},
   "source": [
    "# Voltamos as 21h"
   ]
  },
  {
   "cell_type": "markdown",
   "id": "4dede4db",
   "metadata": {},
   "source": [
    "## Instruções\n",
    "1. Abra o http://sqlfiddle.com;\n",
    "1. Construa o um schema utilizando PostgreSQL 9.3. Para isso, utilize esse script [aqui](https://grupozap-code-challenge.s3.amazonaws.com/analytics/ddl.sql);\n",
    "1. Pronto, já podemos simular algumas queries! Mas antes, vamos criar um ambiente similar no Pandas;\n",
    "1. Entre [neste docs](https://docs.google.com/spreadsheets/d/1co7DZT9qwUkrKb3_2qMxWFDy1BcvnlDeZAx8Ntz7mQc/edit?usp=sharing), nele temos duas abas: Anúncios e Contatos;\n",
    "1. Carregue cada uma dessas bases em Pandas DataFrames distintos utilizando o comando `pd.read_clipboard()`;\n",
    "1. Pronto! Agora conseguimos comparar Pandas com SQL para uma maior compreensão da linguagem."
   ]
  },
  {
   "cell_type": "markdown",
   "id": "04d0c077",
   "metadata": {},
   "source": [
    "https://pandas.pydata.org/docs/getting_started/comparison/comparison_with_sql.html"
   ]
  },
  {
   "cell_type": "markdown",
   "id": "72823fcc",
   "metadata": {},
   "source": [
    "## Ler Dados"
   ]
  },
  {
   "cell_type": "markdown",
   "id": "b30d3f1c",
   "metadata": {},
   "source": [
    "Iremos nos basear nos seguintes comandos para fazer as comparações entre as duas ferramentas:"
   ]
  },
  {
   "cell_type": "markdown",
   "id": "cb807472",
   "metadata": {},
   "source": [
    "* `SELECT`\n",
    "* `LIMIT`\n",
    "* `WHERE`\n",
    "* `GROUP BY`\n",
    "* `JOIN`\n",
    "* `UNION`\n",
    "* `ORDER BY`"
   ]
  },
  {
   "cell_type": "code",
   "execution_count": 1,
   "id": "842822ef",
   "metadata": {
    "ExecuteTime": {
     "end_time": "2022-01-12T00:10:44.031393Z",
     "start_time": "2022-01-12T00:10:43.504803Z"
    }
   },
   "outputs": [],
   "source": [
    "import pandas as pd"
   ]
  },
  {
   "cell_type": "code",
   "execution_count": 2,
   "id": "8f1c300f",
   "metadata": {
    "ExecuteTime": {
     "end_time": "2022-01-12T00:10:53.654200Z",
     "start_time": "2022-01-12T00:10:53.634254Z"
    }
   },
   "outputs": [],
   "source": [
    "tb_listings = pd.read_clipboard()"
   ]
  },
  {
   "cell_type": "code",
   "execution_count": 3,
   "id": "7f60aff1",
   "metadata": {
    "ExecuteTime": {
     "end_time": "2022-01-12T00:11:04.254731Z",
     "start_time": "2022-01-12T00:11:04.234785Z"
    }
   },
   "outputs": [],
   "source": [
    "tb_leads = pd.read_clipboard()"
   ]
  },
  {
   "cell_type": "markdown",
   "id": "785b2079",
   "metadata": {},
   "source": [
    "## Comparando SQL e Pandas"
   ]
  },
  {
   "cell_type": "markdown",
   "id": "0dcde859",
   "metadata": {},
   "source": [
    "### Selecionando e filtrando"
   ]
  },
  {
   "cell_type": "code",
   "execution_count": 4,
   "id": "c879c577",
   "metadata": {
    "ExecuteTime": {
     "end_time": "2022-01-12T00:11:51.631653Z",
     "start_time": "2022-01-12T00:11:51.602729Z"
    }
   },
   "outputs": [
    {
     "data": {
      "text/html": [
       "<div>\n",
       "<style scoped>\n",
       "    .dataframe tbody tr th:only-of-type {\n",
       "        vertical-align: middle;\n",
       "    }\n",
       "\n",
       "    .dataframe tbody tr th {\n",
       "        vertical-align: top;\n",
       "    }\n",
       "\n",
       "    .dataframe thead th {\n",
       "        text-align: right;\n",
       "    }\n",
       "</style>\n",
       "<table border=\"1\" class=\"dataframe\">\n",
       "  <thead>\n",
       "    <tr style=\"text-align: right;\">\n",
       "      <th></th>\n",
       "      <th>listing_id</th>\n",
       "      <th>leads</th>\n",
       "    </tr>\n",
       "  </thead>\n",
       "  <tbody>\n",
       "    <tr>\n",
       "      <th>0</th>\n",
       "      <td>048a0a8d01843e2</td>\n",
       "      <td>5</td>\n",
       "    </tr>\n",
       "    <tr>\n",
       "      <th>1</th>\n",
       "      <td>08438825a78ee95</td>\n",
       "      <td>13</td>\n",
       "    </tr>\n",
       "    <tr>\n",
       "      <th>2</th>\n",
       "      <td>fdf8cc57abc6295</td>\n",
       "      <td>1</td>\n",
       "    </tr>\n",
       "    <tr>\n",
       "      <th>3</th>\n",
       "      <td>e26e785a6330801</td>\n",
       "      <td>1</td>\n",
       "    </tr>\n",
       "    <tr>\n",
       "      <th>4</th>\n",
       "      <td>08c6aa2798c42c6</td>\n",
       "      <td>7</td>\n",
       "    </tr>\n",
       "    <tr>\n",
       "      <th>5</th>\n",
       "      <td>cad2e88b5ad31af</td>\n",
       "      <td>5</td>\n",
       "    </tr>\n",
       "    <tr>\n",
       "      <th>6</th>\n",
       "      <td>a2754e66552841a</td>\n",
       "      <td>2</td>\n",
       "    </tr>\n",
       "    <tr>\n",
       "      <th>7</th>\n",
       "      <td>fe5c2aca82f0788</td>\n",
       "      <td>1</td>\n",
       "    </tr>\n",
       "    <tr>\n",
       "      <th>8</th>\n",
       "      <td>2e683b8754956b9</td>\n",
       "      <td>3</td>\n",
       "    </tr>\n",
       "    <tr>\n",
       "      <th>9</th>\n",
       "      <td>d1baa9c7c59ce9c</td>\n",
       "      <td>1</td>\n",
       "    </tr>\n",
       "    <tr>\n",
       "      <th>10</th>\n",
       "      <td>0309e01b593eb58</td>\n",
       "      <td>1</td>\n",
       "    </tr>\n",
       "  </tbody>\n",
       "</table>\n",
       "</div>"
      ],
      "text/plain": [
       "         listing_id  leads\n",
       "0   048a0a8d01843e2      5\n",
       "1   08438825a78ee95     13\n",
       "2   fdf8cc57abc6295      1\n",
       "3   e26e785a6330801      1\n",
       "4   08c6aa2798c42c6      7\n",
       "5   cad2e88b5ad31af      5\n",
       "6   a2754e66552841a      2\n",
       "7   fe5c2aca82f0788      1\n",
       "8   2e683b8754956b9      3\n",
       "9   d1baa9c7c59ce9c      1\n",
       "10  0309e01b593eb58      1"
      ]
     },
     "execution_count": 4,
     "metadata": {},
     "output_type": "execute_result"
    }
   ],
   "source": [
    "# Vendo a tabela\n",
    "tb_leads"
   ]
  },
  {
   "cell_type": "markdown",
   "id": "d6c96f65",
   "metadata": {},
   "source": [
    "```SQL\n",
    "SELECT *\n",
    "FROM tb_leads\n",
    "```"
   ]
  },
  {
   "cell_type": "code",
   "execution_count": 5,
   "id": "49eafc1d",
   "metadata": {
    "ExecuteTime": {
     "end_time": "2022-01-12T00:15:17.400453Z",
     "start_time": "2022-01-12T00:15:17.373524Z"
    }
   },
   "outputs": [
    {
     "data": {
      "text/html": [
       "<div>\n",
       "<style scoped>\n",
       "    .dataframe tbody tr th:only-of-type {\n",
       "        vertical-align: middle;\n",
       "    }\n",
       "\n",
       "    .dataframe tbody tr th {\n",
       "        vertical-align: top;\n",
       "    }\n",
       "\n",
       "    .dataframe thead th {\n",
       "        text-align: right;\n",
       "    }\n",
       "</style>\n",
       "<table border=\"1\" class=\"dataframe\">\n",
       "  <thead>\n",
       "    <tr style=\"text-align: right;\">\n",
       "      <th></th>\n",
       "      <th>advertiser_id</th>\n",
       "      <th>listing_id</th>\n",
       "      <th>portal</th>\n",
       "      <th>city</th>\n",
       "      <th>neighborhood</th>\n",
       "    </tr>\n",
       "  </thead>\n",
       "  <tbody>\n",
       "    <tr>\n",
       "      <th>0</th>\n",
       "      <td>07c25ae8-b878-0a80-4776-f3a301ab09cf</td>\n",
       "      <td>b41ddcec38f323c</td>\n",
       "      <td>VIVAREAL</td>\n",
       "      <td>Rio de Janeiro</td>\n",
       "      <td>Jacarepaguá</td>\n",
       "    </tr>\n",
       "    <tr>\n",
       "      <th>1</th>\n",
       "      <td>08d660eb-8769-f8c5-1ce0-58521c584a31</td>\n",
       "      <td>3b51cc54000df82</td>\n",
       "      <td>ZAP</td>\n",
       "      <td>Rio de Janeiro</td>\n",
       "      <td>Barra da Tijuca</td>\n",
       "    </tr>\n",
       "    <tr>\n",
       "      <th>2</th>\n",
       "      <td>0a70b984-43ed-6cb1-20c3-e27b8e9e494d</td>\n",
       "      <td>8afe42027b396ab</td>\n",
       "      <td>ZAP</td>\n",
       "      <td>Rio de Janeiro</td>\n",
       "      <td>Botafogo</td>\n",
       "    </tr>\n",
       "    <tr>\n",
       "      <th>3</th>\n",
       "      <td>0dbdfe30-174a-7a78-2f64-27843f91c98e</td>\n",
       "      <td>c5339b423fc2353</td>\n",
       "      <td>VIVAREAL</td>\n",
       "      <td>Rio de Janeiro</td>\n",
       "      <td>Botafogo</td>\n",
       "    </tr>\n",
       "    <tr>\n",
       "      <th>4</th>\n",
       "      <td>0fb716c4-073a-b274-60a8-3640b2458f46</td>\n",
       "      <td>fa7591050f410d6</td>\n",
       "      <td>VIVAREAL</td>\n",
       "      <td>São Bernardo do Campo</td>\n",
       "      <td>Planalto</td>\n",
       "    </tr>\n",
       "  </tbody>\n",
       "</table>\n",
       "</div>"
      ],
      "text/plain": [
       "                          advertiser_id       listing_id    portal  \\\n",
       "0  07c25ae8-b878-0a80-4776-f3a301ab09cf  b41ddcec38f323c  VIVAREAL   \n",
       "1  08d660eb-8769-f8c5-1ce0-58521c584a31  3b51cc54000df82       ZAP   \n",
       "2  0a70b984-43ed-6cb1-20c3-e27b8e9e494d  8afe42027b396ab       ZAP   \n",
       "3  0dbdfe30-174a-7a78-2f64-27843f91c98e  c5339b423fc2353  VIVAREAL   \n",
       "4  0fb716c4-073a-b274-60a8-3640b2458f46  fa7591050f410d6  VIVAREAL   \n",
       "\n",
       "                    city     neighborhood  \n",
       "0         Rio de Janeiro      Jacarepaguá  \n",
       "1         Rio de Janeiro  Barra da Tijuca  \n",
       "2         Rio de Janeiro         Botafogo  \n",
       "3         Rio de Janeiro         Botafogo  \n",
       "4  São Bernardo do Campo         Planalto  "
      ]
     },
     "execution_count": 5,
     "metadata": {},
     "output_type": "execute_result"
    }
   ],
   "source": [
    "# Usando o head para tabelas longas\n",
    "tb_listings.head()"
   ]
  },
  {
   "cell_type": "markdown",
   "id": "37b97d3e",
   "metadata": {},
   "source": [
    "```SQL\n",
    "SELECT *\n",
    "FROM tb_listings\n",
    "LIMIT 5\n",
    "```"
   ]
  },
  {
   "cell_type": "code",
   "execution_count": 6,
   "id": "d2479a30",
   "metadata": {
    "ExecuteTime": {
     "end_time": "2022-01-12T00:19:32.073545Z",
     "start_time": "2022-01-12T00:19:32.053597Z"
    }
   },
   "outputs": [
    {
     "data": {
      "text/plain": [
       "0           Rio de Janeiro\n",
       "1           Rio de Janeiro\n",
       "2           Rio de Janeiro\n",
       "3           Rio de Janeiro\n",
       "4    São Bernardo do Campo\n",
       "Name: city, dtype: object"
      ]
     },
     "execution_count": 6,
     "metadata": {},
     "output_type": "execute_result"
    }
   ],
   "source": [
    "# Selecionando apenas algumas colunas\n",
    "tb_listings['city'].head()"
   ]
  },
  {
   "cell_type": "markdown",
   "id": "63680dcb",
   "metadata": {},
   "source": [
    "```SQL\n",
    "SELECT city\n",
    "FROM tb_leads\n",
    "LIMIT 5\n",
    "```\n",
    "\n",
    "ou\n",
    "\n",
    "```SQL\n",
    "SELECT t1.city\n",
    "FROM tb_leads as t1\n",
    "LIMIT 5\n",
    "```"
   ]
  },
  {
   "cell_type": "code",
   "execution_count": 9,
   "id": "6e5f9af8",
   "metadata": {
    "ExecuteTime": {
     "end_time": "2022-01-12T00:23:51.936814Z",
     "start_time": "2022-01-12T00:23:51.915897Z"
    }
   },
   "outputs": [
    {
     "data": {
      "text/html": [
       "<div>\n",
       "<style scoped>\n",
       "    .dataframe tbody tr th:only-of-type {\n",
       "        vertical-align: middle;\n",
       "    }\n",
       "\n",
       "    .dataframe tbody tr th {\n",
       "        vertical-align: top;\n",
       "    }\n",
       "\n",
       "    .dataframe thead th {\n",
       "        text-align: right;\n",
       "    }\n",
       "</style>\n",
       "<table border=\"1\" class=\"dataframe\">\n",
       "  <thead>\n",
       "    <tr style=\"text-align: right;\">\n",
       "      <th></th>\n",
       "      <th>city</th>\n",
       "      <th>portal</th>\n",
       "    </tr>\n",
       "  </thead>\n",
       "  <tbody>\n",
       "    <tr>\n",
       "      <th>0</th>\n",
       "      <td>Rio de Janeiro</td>\n",
       "      <td>VIVAREAL</td>\n",
       "    </tr>\n",
       "    <tr>\n",
       "      <th>1</th>\n",
       "      <td>Rio de Janeiro</td>\n",
       "      <td>ZAP</td>\n",
       "    </tr>\n",
       "    <tr>\n",
       "      <th>2</th>\n",
       "      <td>Rio de Janeiro</td>\n",
       "      <td>ZAP</td>\n",
       "    </tr>\n",
       "    <tr>\n",
       "      <th>3</th>\n",
       "      <td>Rio de Janeiro</td>\n",
       "      <td>VIVAREAL</td>\n",
       "    </tr>\n",
       "    <tr>\n",
       "      <th>5</th>\n",
       "      <td>Rio de Janeiro</td>\n",
       "      <td>VIVAREAL</td>\n",
       "    </tr>\n",
       "  </tbody>\n",
       "</table>\n",
       "</div>"
      ],
      "text/plain": [
       "             city    portal\n",
       "0  Rio de Janeiro  VIVAREAL\n",
       "1  Rio de Janeiro       ZAP\n",
       "2  Rio de Janeiro       ZAP\n",
       "3  Rio de Janeiro  VIVAREAL\n",
       "5  Rio de Janeiro  VIVAREAL"
      ]
     },
     "execution_count": 9,
     "metadata": {},
     "output_type": "execute_result"
    }
   ],
   "source": [
    "# Selecionando apenas algumas linhas\n",
    "tb_listings.loc[tb_listings['city'] == 'Rio de Janeiro', ['city', 'portal']].head()"
   ]
  },
  {
   "cell_type": "markdown",
   "id": "ad07613e",
   "metadata": {},
   "source": [
    "```SQL\n",
    "SELECT \n",
    "    t1.city,\n",
    "    t1.portal \n",
    "FROM tb_listings as t1 \n",
    "WHERE city = 'Rio de Janeiro' \n",
    "LIMIT 5\n",
    "```"
   ]
  },
  {
   "cell_type": "code",
   "execution_count": 10,
   "id": "754c9205",
   "metadata": {
    "ExecuteTime": {
     "end_time": "2022-01-12T00:31:04.450183Z",
     "start_time": "2022-01-12T00:31:04.426246Z"
    }
   },
   "outputs": [
    {
     "data": {
      "text/html": [
       "<div>\n",
       "<style scoped>\n",
       "    .dataframe tbody tr th:only-of-type {\n",
       "        vertical-align: middle;\n",
       "    }\n",
       "\n",
       "    .dataframe tbody tr th {\n",
       "        vertical-align: top;\n",
       "    }\n",
       "\n",
       "    .dataframe thead th {\n",
       "        text-align: right;\n",
       "    }\n",
       "</style>\n",
       "<table border=\"1\" class=\"dataframe\">\n",
       "  <thead>\n",
       "    <tr style=\"text-align: right;\">\n",
       "      <th></th>\n",
       "      <th>city</th>\n",
       "      <th>portal</th>\n",
       "    </tr>\n",
       "  </thead>\n",
       "  <tbody>\n",
       "    <tr>\n",
       "      <th>0</th>\n",
       "      <td>Rio de Janeiro</td>\n",
       "      <td>VIVAREAL</td>\n",
       "    </tr>\n",
       "    <tr>\n",
       "      <th>1</th>\n",
       "      <td>Rio de Janeiro</td>\n",
       "      <td>ZAP</td>\n",
       "    </tr>\n",
       "    <tr>\n",
       "      <th>2</th>\n",
       "      <td>Rio de Janeiro</td>\n",
       "      <td>ZAP</td>\n",
       "    </tr>\n",
       "    <tr>\n",
       "      <th>3</th>\n",
       "      <td>Rio de Janeiro</td>\n",
       "      <td>VIVAREAL</td>\n",
       "    </tr>\n",
       "    <tr>\n",
       "      <th>4</th>\n",
       "      <td>São Bernardo do Campo</td>\n",
       "      <td>VIVAREAL</td>\n",
       "    </tr>\n",
       "  </tbody>\n",
       "</table>\n",
       "</div>"
      ],
      "text/plain": [
       "                    city    portal\n",
       "0         Rio de Janeiro  VIVAREAL\n",
       "1         Rio de Janeiro       ZAP\n",
       "2         Rio de Janeiro       ZAP\n",
       "3         Rio de Janeiro  VIVAREAL\n",
       "4  São Bernardo do Campo  VIVAREAL"
      ]
     },
     "execution_count": 10,
     "metadata": {},
     "output_type": "execute_result"
    }
   ],
   "source": [
    "# Selecionando apenas algumas linhas\n",
    "tb_listings.loc[tb_listings['city'].isin(['Rio de Janeiro', 'São Bernardo do Campo']),\n",
    "                ['city', 'portal']].head()"
   ]
  },
  {
   "cell_type": "markdown",
   "id": "bcc595af",
   "metadata": {},
   "source": [
    "```SQL\n",
    "SELECT \n",
    "    t1.city,\n",
    "    t1.portal\n",
    "FROM tb_listings as t1 \n",
    "WHERE \n",
    "    t1.city = 'Rio de Janeiro' OR \n",
    "    t1.city = 'São Bernardo do Campo'   \n",
    "LIMIT 5\n",
    "```"
   ]
  },
  {
   "cell_type": "code",
   "execution_count": null,
   "id": "7469518c",
   "metadata": {
    "ExecuteTime": {
     "end_time": "2022-01-11T15:50:18.615444Z",
     "start_time": "2022-01-11T15:50:18.594500Z"
    }
   },
   "outputs": [],
   "source": [
    "tb_listings.loc[(tb_listings['city'] == 'Rio de Janeiro') | (tb_listings['portal'] == 'VIVAREAL'),\n",
    "                ['city', 'portal']].head(10)"
   ]
  },
  {
   "cell_type": "markdown",
   "id": "929568d5",
   "metadata": {},
   "source": [
    "```SQL\n",
    "SELECT \n",
    "    t1.city,\n",
    "    t1.portal\n",
    "FROM tb_listings as t1 \n",
    "WHERE \n",
    "    t1.city = 'Rio de Janeiro' OR \n",
    "    t1.portal = 'VIVAREAL'   \n",
    "LIMIT 5\n",
    "```"
   ]
  },
  {
   "cell_type": "markdown",
   "id": "dee0469f",
   "metadata": {},
   "source": [
    "### Agrupando"
   ]
  },
  {
   "cell_type": "code",
   "execution_count": 11,
   "id": "b1856493",
   "metadata": {
    "ExecuteTime": {
     "end_time": "2022-01-12T00:38:14.162762Z",
     "start_time": "2022-01-12T00:38:14.145807Z"
    }
   },
   "outputs": [
    {
     "data": {
      "text/html": [
       "<div>\n",
       "<style scoped>\n",
       "    .dataframe tbody tr th:only-of-type {\n",
       "        vertical-align: middle;\n",
       "    }\n",
       "\n",
       "    .dataframe tbody tr th {\n",
       "        vertical-align: top;\n",
       "    }\n",
       "\n",
       "    .dataframe thead th {\n",
       "        text-align: right;\n",
       "    }\n",
       "</style>\n",
       "<table border=\"1\" class=\"dataframe\">\n",
       "  <thead>\n",
       "    <tr style=\"text-align: right;\">\n",
       "      <th></th>\n",
       "      <th></th>\n",
       "    </tr>\n",
       "    <tr>\n",
       "      <th>city</th>\n",
       "      <th>portal</th>\n",
       "    </tr>\n",
       "  </thead>\n",
       "  <tbody>\n",
       "    <tr>\n",
       "      <th rowspan=\"2\" valign=\"top\">Guarulhos</th>\n",
       "      <th>VIVAREAL</th>\n",
       "    </tr>\n",
       "    <tr>\n",
       "      <th>ZAP</th>\n",
       "    </tr>\n",
       "    <tr>\n",
       "      <th rowspan=\"2\" valign=\"top\">Rio de Janeiro</th>\n",
       "      <th>VIVAREAL</th>\n",
       "    </tr>\n",
       "    <tr>\n",
       "      <th>ZAP</th>\n",
       "    </tr>\n",
       "    <tr>\n",
       "      <th>Santo André</th>\n",
       "      <th>VIVAREAL</th>\n",
       "    </tr>\n",
       "    <tr>\n",
       "      <th rowspan=\"2\" valign=\"top\">São Bernardo do Campo</th>\n",
       "      <th>VIVAREAL</th>\n",
       "    </tr>\n",
       "    <tr>\n",
       "      <th>ZAP</th>\n",
       "    </tr>\n",
       "    <tr>\n",
       "      <th>São Caetano do Sul</th>\n",
       "      <th>VIVAREAL</th>\n",
       "    </tr>\n",
       "  </tbody>\n",
       "</table>\n",
       "</div>"
      ],
      "text/plain": [
       "Empty DataFrame\n",
       "Columns: []\n",
       "Index: [(Guarulhos, VIVAREAL), (Guarulhos, ZAP), (Rio de Janeiro, VIVAREAL), (Rio de Janeiro, ZAP), (Santo André, VIVAREAL), (São Bernardo do Campo, VIVAREAL), (São Bernardo do Campo, ZAP), (São Caetano do Sul, VIVAREAL)]"
      ]
     },
     "execution_count": 11,
     "metadata": {},
     "output_type": "execute_result"
    }
   ],
   "source": [
    "tb_listings[['city', 'portal']].groupby(['city', 'portal']).agg('count')"
   ]
  },
  {
   "cell_type": "markdown",
   "id": "11d40f4b",
   "metadata": {},
   "source": [
    "```SQL\n",
    "SELECT \n",
    "    t1.city,\n",
    "    t1.portal\n",
    "FROM tb_listings as t1 \n",
    "GROUP BY\n",
    "    t1.city,\n",
    "    t1.portal\n",
    "```"
   ]
  },
  {
   "cell_type": "code",
   "execution_count": 12,
   "id": "7aff2d2f",
   "metadata": {
    "ExecuteTime": {
     "end_time": "2022-01-12T00:41:52.630625Z",
     "start_time": "2022-01-12T00:41:52.607686Z"
    }
   },
   "outputs": [
    {
     "data": {
      "text/html": [
       "<div>\n",
       "<style scoped>\n",
       "    .dataframe tbody tr th:only-of-type {\n",
       "        vertical-align: middle;\n",
       "    }\n",
       "\n",
       "    .dataframe tbody tr th {\n",
       "        vertical-align: top;\n",
       "    }\n",
       "\n",
       "    .dataframe thead th {\n",
       "        text-align: right;\n",
       "    }\n",
       "</style>\n",
       "<table border=\"1\" class=\"dataframe\">\n",
       "  <thead>\n",
       "    <tr style=\"text-align: right;\">\n",
       "      <th></th>\n",
       "      <th>city</th>\n",
       "      <th>portal</th>\n",
       "      <th>num_listing</th>\n",
       "    </tr>\n",
       "  </thead>\n",
       "  <tbody>\n",
       "    <tr>\n",
       "      <th>0</th>\n",
       "      <td>Guarulhos</td>\n",
       "      <td>VIVAREAL</td>\n",
       "      <td>3</td>\n",
       "    </tr>\n",
       "    <tr>\n",
       "      <th>1</th>\n",
       "      <td>Guarulhos</td>\n",
       "      <td>ZAP</td>\n",
       "      <td>1</td>\n",
       "    </tr>\n",
       "    <tr>\n",
       "      <th>2</th>\n",
       "      <td>Rio de Janeiro</td>\n",
       "      <td>VIVAREAL</td>\n",
       "      <td>19</td>\n",
       "    </tr>\n",
       "    <tr>\n",
       "      <th>3</th>\n",
       "      <td>Rio de Janeiro</td>\n",
       "      <td>ZAP</td>\n",
       "      <td>11</td>\n",
       "    </tr>\n",
       "    <tr>\n",
       "      <th>4</th>\n",
       "      <td>Santo André</td>\n",
       "      <td>VIVAREAL</td>\n",
       "      <td>9</td>\n",
       "    </tr>\n",
       "    <tr>\n",
       "      <th>5</th>\n",
       "      <td>São Bernardo do Campo</td>\n",
       "      <td>VIVAREAL</td>\n",
       "      <td>3</td>\n",
       "    </tr>\n",
       "    <tr>\n",
       "      <th>6</th>\n",
       "      <td>São Bernardo do Campo</td>\n",
       "      <td>ZAP</td>\n",
       "      <td>1</td>\n",
       "    </tr>\n",
       "    <tr>\n",
       "      <th>7</th>\n",
       "      <td>São Caetano do Sul</td>\n",
       "      <td>VIVAREAL</td>\n",
       "      <td>3</td>\n",
       "    </tr>\n",
       "  </tbody>\n",
       "</table>\n",
       "</div>"
      ],
      "text/plain": [
       "                    city    portal  num_listing\n",
       "0              Guarulhos  VIVAREAL            3\n",
       "1              Guarulhos       ZAP            1\n",
       "2         Rio de Janeiro  VIVAREAL           19\n",
       "3         Rio de Janeiro       ZAP           11\n",
       "4            Santo André  VIVAREAL            9\n",
       "5  São Bernardo do Campo  VIVAREAL            3\n",
       "6  São Bernardo do Campo       ZAP            1\n",
       "7     São Caetano do Sul  VIVAREAL            3"
      ]
     },
     "execution_count": 12,
     "metadata": {},
     "output_type": "execute_result"
    }
   ],
   "source": [
    "tb_listings[['city', 'portal']]\\\n",
    "    .groupby(['city', 'portal'])\\\n",
    "    .agg(num_listing = pd.NamedAgg('city', 'count'))\\\n",
    "    .reset_index()"
   ]
  },
  {
   "cell_type": "markdown",
   "id": "61e8990e",
   "metadata": {},
   "source": [
    "```SQL\n",
    "SELECT \n",
    "    t1.city,\n",
    "    t1.portal,\n",
    "    COUNT(t1.city) as num_listings\n",
    "FROM tb_listings as t1 \n",
    "GROUP BY\n",
    "    t1.city,\n",
    "    t1.portal\n",
    "```"
   ]
  },
  {
   "cell_type": "code",
   "execution_count": 14,
   "id": "c0aed138",
   "metadata": {
    "ExecuteTime": {
     "end_time": "2022-01-12T00:47:56.182267Z",
     "start_time": "2022-01-12T00:47:56.178277Z"
    }
   },
   "outputs": [],
   "source": [
    "total_leads = sum(tb_leads['leads'])"
   ]
  },
  {
   "cell_type": "code",
   "execution_count": 15,
   "id": "674b386d",
   "metadata": {
    "ExecuteTime": {
     "end_time": "2022-01-12T00:48:01.292500Z",
     "start_time": "2022-01-12T00:48:01.282517Z"
    }
   },
   "outputs": [
    {
     "name": "stdout",
     "output_type": "stream",
     "text": [
      "40\n"
     ]
    }
   ],
   "source": [
    "print(total_leads)"
   ]
  },
  {
   "cell_type": "markdown",
   "id": "e0882572",
   "metadata": {},
   "source": [
    "```SQL\n",
    "SELECT SUM(t1.leads) as num_leads\n",
    "FROM tb_leads as t1 \n",
    "```"
   ]
  },
  {
   "cell_type": "markdown",
   "id": "4f261a4e",
   "metadata": {},
   "source": [
    "### Joins"
   ]
  },
  {
   "cell_type": "markdown",
   "id": "59340813",
   "metadata": {},
   "source": [
    "-----"
   ]
  },
  {
   "cell_type": "code",
   "execution_count": 17,
   "id": "ee5a3021",
   "metadata": {
    "ExecuteTime": {
     "end_time": "2022-01-12T01:01:39.198803Z",
     "start_time": "2022-01-12T01:01:39.178869Z"
    }
   },
   "outputs": [
    {
     "data": {
      "text/html": [
       "<div>\n",
       "<style scoped>\n",
       "    .dataframe tbody tr th:only-of-type {\n",
       "        vertical-align: middle;\n",
       "    }\n",
       "\n",
       "    .dataframe tbody tr th {\n",
       "        vertical-align: top;\n",
       "    }\n",
       "\n",
       "    .dataframe thead th {\n",
       "        text-align: right;\n",
       "    }\n",
       "</style>\n",
       "<table border=\"1\" class=\"dataframe\">\n",
       "  <thead>\n",
       "    <tr style=\"text-align: right;\">\n",
       "      <th></th>\n",
       "      <th>advertiser_id</th>\n",
       "      <th>listing_id</th>\n",
       "      <th>portal</th>\n",
       "      <th>city</th>\n",
       "      <th>neighborhood</th>\n",
       "      <th>leads</th>\n",
       "    </tr>\n",
       "  </thead>\n",
       "  <tbody>\n",
       "    <tr>\n",
       "      <th>0</th>\n",
       "      <td>2c96d3c3-7c19-2bbc-3f19-2d94941649b2</td>\n",
       "      <td>0309e01b593eb58</td>\n",
       "      <td>VIVAREAL</td>\n",
       "      <td>Santo André</td>\n",
       "      <td>Jardim Stella</td>\n",
       "      <td>1</td>\n",
       "    </tr>\n",
       "    <tr>\n",
       "      <th>1</th>\n",
       "      <td>35fccc70-c101-d739-fe19-f0d23bc1482b</td>\n",
       "      <td>a2754e66552841a</td>\n",
       "      <td>ZAP</td>\n",
       "      <td>Guarulhos</td>\n",
       "      <td>Jardim Bela Vista</td>\n",
       "      <td>2</td>\n",
       "    </tr>\n",
       "    <tr>\n",
       "      <th>2</th>\n",
       "      <td>532a2e3a-5be6-9edc-7ffd-4d714c40053c</td>\n",
       "      <td>fe5c2aca82f0788</td>\n",
       "      <td>VIVAREAL</td>\n",
       "      <td>Rio de Janeiro</td>\n",
       "      <td>Copacabana</td>\n",
       "      <td>1</td>\n",
       "    </tr>\n",
       "    <tr>\n",
       "      <th>3</th>\n",
       "      <td>5e349c0b-d1cc-e3b9-31ff-535438b31a0d</td>\n",
       "      <td>fdf8cc57abc6295</td>\n",
       "      <td>VIVAREAL</td>\n",
       "      <td>Santo André</td>\n",
       "      <td>Parque das Nações</td>\n",
       "      <td>1</td>\n",
       "    </tr>\n",
       "    <tr>\n",
       "      <th>4</th>\n",
       "      <td>6452e804-d292-c6b8-14a9-8275b0fb2e9f</td>\n",
       "      <td>e26e785a6330801</td>\n",
       "      <td>ZAP</td>\n",
       "      <td>Rio de Janeiro</td>\n",
       "      <td>Tijuca</td>\n",
       "      <td>1</td>\n",
       "    </tr>\n",
       "    <tr>\n",
       "      <th>5</th>\n",
       "      <td>88eec655-198d-e938-d3e0-e5dc89a25034</td>\n",
       "      <td>d1baa9c7c59ce9c</td>\n",
       "      <td>VIVAREAL</td>\n",
       "      <td>Rio de Janeiro</td>\n",
       "      <td>Tanque</td>\n",
       "      <td>1</td>\n",
       "    </tr>\n",
       "    <tr>\n",
       "      <th>6</th>\n",
       "      <td>904ce825-5b18-9767-5712-de9bce5d6b0d</td>\n",
       "      <td>cad2e88b5ad31af</td>\n",
       "      <td>VIVAREAL</td>\n",
       "      <td>Rio de Janeiro</td>\n",
       "      <td>Flamengo</td>\n",
       "      <td>5</td>\n",
       "    </tr>\n",
       "    <tr>\n",
       "      <th>7</th>\n",
       "      <td>be67d2df-d051-04cd-4800-e75001ccfcc6</td>\n",
       "      <td>08c6aa2798c42c6</td>\n",
       "      <td>ZAP</td>\n",
       "      <td>Rio de Janeiro</td>\n",
       "      <td>Campo Grande</td>\n",
       "      <td>7</td>\n",
       "    </tr>\n",
       "    <tr>\n",
       "      <th>8</th>\n",
       "      <td>c62d6a1e-8024-b9b4-b64a-62a0396f9d89</td>\n",
       "      <td>048a0a8d01843e2</td>\n",
       "      <td>ZAP</td>\n",
       "      <td>Rio de Janeiro</td>\n",
       "      <td>Ilha do Governador</td>\n",
       "      <td>5</td>\n",
       "    </tr>\n",
       "    <tr>\n",
       "      <th>9</th>\n",
       "      <td>c8d03e88-9150-507a-8e64-1a83a040cd0c</td>\n",
       "      <td>08438825a78ee95</td>\n",
       "      <td>ZAP</td>\n",
       "      <td>Rio de Janeiro</td>\n",
       "      <td>Grajaú</td>\n",
       "      <td>13</td>\n",
       "    </tr>\n",
       "    <tr>\n",
       "      <th>10</th>\n",
       "      <td>dcf0f170-4c47-6322-c824-7e8a997bdb08</td>\n",
       "      <td>2e683b8754956b9</td>\n",
       "      <td>ZAP</td>\n",
       "      <td>Rio de Janeiro</td>\n",
       "      <td>Copacabana</td>\n",
       "      <td>3</td>\n",
       "    </tr>\n",
       "  </tbody>\n",
       "</table>\n",
       "</div>"
      ],
      "text/plain": [
       "                           advertiser_id       listing_id    portal  \\\n",
       "0   2c96d3c3-7c19-2bbc-3f19-2d94941649b2  0309e01b593eb58  VIVAREAL   \n",
       "1   35fccc70-c101-d739-fe19-f0d23bc1482b  a2754e66552841a       ZAP   \n",
       "2   532a2e3a-5be6-9edc-7ffd-4d714c40053c  fe5c2aca82f0788  VIVAREAL   \n",
       "3   5e349c0b-d1cc-e3b9-31ff-535438b31a0d  fdf8cc57abc6295  VIVAREAL   \n",
       "4   6452e804-d292-c6b8-14a9-8275b0fb2e9f  e26e785a6330801       ZAP   \n",
       "5   88eec655-198d-e938-d3e0-e5dc89a25034  d1baa9c7c59ce9c  VIVAREAL   \n",
       "6   904ce825-5b18-9767-5712-de9bce5d6b0d  cad2e88b5ad31af  VIVAREAL   \n",
       "7   be67d2df-d051-04cd-4800-e75001ccfcc6  08c6aa2798c42c6       ZAP   \n",
       "8   c62d6a1e-8024-b9b4-b64a-62a0396f9d89  048a0a8d01843e2       ZAP   \n",
       "9   c8d03e88-9150-507a-8e64-1a83a040cd0c  08438825a78ee95       ZAP   \n",
       "10  dcf0f170-4c47-6322-c824-7e8a997bdb08  2e683b8754956b9       ZAP   \n",
       "\n",
       "              city        neighborhood  leads  \n",
       "0      Santo André       Jardim Stella      1  \n",
       "1        Guarulhos   Jardim Bela Vista      2  \n",
       "2   Rio de Janeiro          Copacabana      1  \n",
       "3      Santo André   Parque das Nações      1  \n",
       "4   Rio de Janeiro              Tijuca      1  \n",
       "5   Rio de Janeiro              Tanque      1  \n",
       "6   Rio de Janeiro            Flamengo      5  \n",
       "7   Rio de Janeiro        Campo Grande      7  \n",
       "8   Rio de Janeiro  Ilha do Governador      5  \n",
       "9   Rio de Janeiro              Grajaú     13  \n",
       "10  Rio de Janeiro          Copacabana      3  "
      ]
     },
     "execution_count": 17,
     "metadata": {},
     "output_type": "execute_result"
    }
   ],
   "source": [
    "tb_listlead = pd.merge(tb_listings, tb_leads, how='inner', on='listing_id')\n",
    "tb_listlead"
   ]
  },
  {
   "cell_type": "code",
   "execution_count": 18,
   "id": "d9781813",
   "metadata": {
    "ExecuteTime": {
     "end_time": "2022-01-12T01:01:52.577786Z",
     "start_time": "2022-01-12T01:01:52.556841Z"
    }
   },
   "outputs": [
    {
     "name": "stdout",
     "output_type": "stream",
     "text": [
      "<class 'pandas.core.frame.DataFrame'>\n",
      "RangeIndex: 50 entries, 0 to 49\n",
      "Data columns (total 5 columns):\n",
      " #   Column         Non-Null Count  Dtype \n",
      "---  ------         --------------  ----- \n",
      " 0   advertiser_id  50 non-null     object\n",
      " 1   listing_id     50 non-null     object\n",
      " 2   portal         50 non-null     object\n",
      " 3   city           50 non-null     object\n",
      " 4   neighborhood   50 non-null     object\n",
      "dtypes: object(5)\n",
      "memory usage: 2.1+ KB\n"
     ]
    }
   ],
   "source": [
    "tb_listings.info()"
   ]
  },
  {
   "cell_type": "markdown",
   "id": "ea6d75da",
   "metadata": {},
   "source": [
    "```SQL\n",
    "SELECT \n",
    "    t1.*,\n",
    "    t2.*\n",
    "FROM\n",
    "    tb_listings as t1 JOIN\n",
    "    tb_leads as t2 ON (t1.listing_id = t2.listing_id)\n",
    "```"
   ]
  },
  {
   "cell_type": "code",
   "execution_count": 19,
   "id": "908f0fa0",
   "metadata": {
    "ExecuteTime": {
     "end_time": "2022-01-12T01:02:10.709068Z",
     "start_time": "2022-01-12T01:02:10.688124Z"
    }
   },
   "outputs": [
    {
     "data": {
      "text/html": [
       "<div>\n",
       "<style scoped>\n",
       "    .dataframe tbody tr th:only-of-type {\n",
       "        vertical-align: middle;\n",
       "    }\n",
       "\n",
       "    .dataframe tbody tr th {\n",
       "        vertical-align: top;\n",
       "    }\n",
       "\n",
       "    .dataframe thead th {\n",
       "        text-align: right;\n",
       "    }\n",
       "</style>\n",
       "<table border=\"1\" class=\"dataframe\">\n",
       "  <thead>\n",
       "    <tr style=\"text-align: right;\">\n",
       "      <th></th>\n",
       "      <th>advertiser_id</th>\n",
       "      <th>listing_id</th>\n",
       "      <th>portal</th>\n",
       "      <th>city</th>\n",
       "      <th>neighborhood</th>\n",
       "      <th>leads</th>\n",
       "    </tr>\n",
       "  </thead>\n",
       "  <tbody>\n",
       "    <tr>\n",
       "      <th>0</th>\n",
       "      <td>07c25ae8-b878-0a80-4776-f3a301ab09cf</td>\n",
       "      <td>b41ddcec38f323c</td>\n",
       "      <td>VIVAREAL</td>\n",
       "      <td>Rio de Janeiro</td>\n",
       "      <td>Jacarepaguá</td>\n",
       "      <td>NaN</td>\n",
       "    </tr>\n",
       "    <tr>\n",
       "      <th>1</th>\n",
       "      <td>08d660eb-8769-f8c5-1ce0-58521c584a31</td>\n",
       "      <td>3b51cc54000df82</td>\n",
       "      <td>ZAP</td>\n",
       "      <td>Rio de Janeiro</td>\n",
       "      <td>Barra da Tijuca</td>\n",
       "      <td>NaN</td>\n",
       "    </tr>\n",
       "    <tr>\n",
       "      <th>2</th>\n",
       "      <td>0a70b984-43ed-6cb1-20c3-e27b8e9e494d</td>\n",
       "      <td>8afe42027b396ab</td>\n",
       "      <td>ZAP</td>\n",
       "      <td>Rio de Janeiro</td>\n",
       "      <td>Botafogo</td>\n",
       "      <td>NaN</td>\n",
       "    </tr>\n",
       "    <tr>\n",
       "      <th>3</th>\n",
       "      <td>0dbdfe30-174a-7a78-2f64-27843f91c98e</td>\n",
       "      <td>c5339b423fc2353</td>\n",
       "      <td>VIVAREAL</td>\n",
       "      <td>Rio de Janeiro</td>\n",
       "      <td>Botafogo</td>\n",
       "      <td>NaN</td>\n",
       "    </tr>\n",
       "    <tr>\n",
       "      <th>4</th>\n",
       "      <td>0fb716c4-073a-b274-60a8-3640b2458f46</td>\n",
       "      <td>fa7591050f410d6</td>\n",
       "      <td>VIVAREAL</td>\n",
       "      <td>São Bernardo do Campo</td>\n",
       "      <td>Planalto</td>\n",
       "      <td>NaN</td>\n",
       "    </tr>\n",
       "  </tbody>\n",
       "</table>\n",
       "</div>"
      ],
      "text/plain": [
       "                          advertiser_id       listing_id    portal  \\\n",
       "0  07c25ae8-b878-0a80-4776-f3a301ab09cf  b41ddcec38f323c  VIVAREAL   \n",
       "1  08d660eb-8769-f8c5-1ce0-58521c584a31  3b51cc54000df82       ZAP   \n",
       "2  0a70b984-43ed-6cb1-20c3-e27b8e9e494d  8afe42027b396ab       ZAP   \n",
       "3  0dbdfe30-174a-7a78-2f64-27843f91c98e  c5339b423fc2353  VIVAREAL   \n",
       "4  0fb716c4-073a-b274-60a8-3640b2458f46  fa7591050f410d6  VIVAREAL   \n",
       "\n",
       "                    city     neighborhood  leads  \n",
       "0         Rio de Janeiro      Jacarepaguá    NaN  \n",
       "1         Rio de Janeiro  Barra da Tijuca    NaN  \n",
       "2         Rio de Janeiro         Botafogo    NaN  \n",
       "3         Rio de Janeiro         Botafogo    NaN  \n",
       "4  São Bernardo do Campo         Planalto    NaN  "
      ]
     },
     "execution_count": 19,
     "metadata": {},
     "output_type": "execute_result"
    }
   ],
   "source": [
    "tb_listlead = pd.merge(tb_listings, tb_leads, how='left', on='listing_id')\n",
    "tb_listlead.head()"
   ]
  },
  {
   "cell_type": "markdown",
   "id": "69fb2a38",
   "metadata": {},
   "source": [
    "```SQL\n",
    "SELECT \n",
    "    t1.*,\n",
    "    t2.leads\n",
    "FROM\n",
    "    tb_listings as t1 LEFT JOIN\n",
    "    tb_leads as t2 ON (t1.listing_id = t2.listing_id)\n",
    "```"
   ]
  },
  {
   "cell_type": "code",
   "execution_count": 20,
   "id": "50e0ff5b",
   "metadata": {
    "ExecuteTime": {
     "end_time": "2022-01-12T01:06:40.975857Z",
     "start_time": "2022-01-12T01:06:40.938967Z"
    }
   },
   "outputs": [
    {
     "data": {
      "text/html": [
       "<div>\n",
       "<style scoped>\n",
       "    .dataframe tbody tr th:only-of-type {\n",
       "        vertical-align: middle;\n",
       "    }\n",
       "\n",
       "    .dataframe tbody tr th {\n",
       "        vertical-align: top;\n",
       "    }\n",
       "\n",
       "    .dataframe thead th {\n",
       "        text-align: right;\n",
       "    }\n",
       "</style>\n",
       "<table border=\"1\" class=\"dataframe\">\n",
       "  <thead>\n",
       "    <tr style=\"text-align: right;\">\n",
       "      <th></th>\n",
       "      <th>city</th>\n",
       "      <th>num_leads</th>\n",
       "      <th>num_listings</th>\n",
       "    </tr>\n",
       "  </thead>\n",
       "  <tbody>\n",
       "    <tr>\n",
       "      <th>0</th>\n",
       "      <td>Guarulhos</td>\n",
       "      <td>2.0</td>\n",
       "      <td>4</td>\n",
       "    </tr>\n",
       "    <tr>\n",
       "      <th>1</th>\n",
       "      <td>Rio de Janeiro</td>\n",
       "      <td>36.0</td>\n",
       "      <td>30</td>\n",
       "    </tr>\n",
       "    <tr>\n",
       "      <th>2</th>\n",
       "      <td>Santo André</td>\n",
       "      <td>2.0</td>\n",
       "      <td>9</td>\n",
       "    </tr>\n",
       "    <tr>\n",
       "      <th>3</th>\n",
       "      <td>São Bernardo do Campo</td>\n",
       "      <td>0.0</td>\n",
       "      <td>4</td>\n",
       "    </tr>\n",
       "    <tr>\n",
       "      <th>4</th>\n",
       "      <td>São Caetano do Sul</td>\n",
       "      <td>0.0</td>\n",
       "      <td>3</td>\n",
       "    </tr>\n",
       "  </tbody>\n",
       "</table>\n",
       "</div>"
      ],
      "text/plain": [
       "                    city  num_leads  num_listings\n",
       "0              Guarulhos        2.0             4\n",
       "1         Rio de Janeiro       36.0            30\n",
       "2            Santo André        2.0             9\n",
       "3  São Bernardo do Campo        0.0             4\n",
       "4     São Caetano do Sul        0.0             3"
      ]
     },
     "execution_count": 20,
     "metadata": {},
     "output_type": "execute_result"
    }
   ],
   "source": [
    "tb_listlead = pd.merge(tb_listings, tb_leads, how='left', on='listing_id')\n",
    "tb_listlead.groupby(['city'])\\\n",
    "    .agg(\n",
    "        num_leads = pd.NamedAgg('leads', 'sum'),\n",
    "        num_listings = pd.NamedAgg('listing_id', 'count')\n",
    "        )\\\n",
    "    .reset_index()"
   ]
  },
  {
   "cell_type": "markdown",
   "id": "9b1c00cb",
   "metadata": {},
   "source": [
    "```sql\n",
    "SELECT\n",
    "    t1.city,\n",
    "    SUM(t2.leads) as num_leads,\n",
    "    COUNT(t1.listing_id) as num_listing_id\n",
    "FROM\n",
    "    tb_listings as t1 LEFT JOIN\n",
    "    tb_leads as t2 ON (t1.listing_id = t2.listing_id)\n",
    "GROUP BY\n",
    "    t1.city\n",
    "```"
   ]
  },
  {
   "cell_type": "code",
   "execution_count": null,
   "id": "c9c7e2eb",
   "metadata": {
    "ExecuteTime": {
     "end_time": "2022-01-11T16:19:04.150292Z",
     "start_time": "2022-01-11T16:19:04.117380Z"
    }
   },
   "outputs": [],
   "source": [
    "tb_listlead = pd.merge(tb_listings, tb_leads, how='left', on='listing_id')\n",
    "tb_cityportal = tb_listlead.groupby(['city', 'portal'])\\\n",
    "    .agg(\n",
    "        num_leads = pd.NamedAgg('leads', 'sum'),\n",
    "        num_listings = pd.NamedAgg('listing_id', 'count')\n",
    "        )\\\n",
    "    .reset_index()\n",
    "\n",
    "tb_cityportal[tb_cityportal['city'].isin(['Rio de Janeiro', 'Guarulhos'])]"
   ]
  },
  {
   "cell_type": "markdown",
   "id": "dccb0c42",
   "metadata": {},
   "source": [
    "```sql\n",
    "SELECT\n",
    "    t1.city,\n",
    "    t1.portal,\n",
    "    SUM(t2.leads) as num_leads,\n",
    "    COUNT(t1.listing_id) as num_listing_id\n",
    "FROM\n",
    "    tb_listings as t1 LEFT JOIN\n",
    "    tb_leads as t2 ON (t1.listing_id = t2.listing_id)\n",
    "WHERE\n",
    "    t1.city in ('Rio de Janeiro', 'Guarulhos')\n",
    "GROUP BY\n",
    "    t1.city,\n",
    "    t1.portal\n",
    "```"
   ]
  },
  {
   "cell_type": "markdown",
   "id": "e42ad368",
   "metadata": {},
   "source": [
    "### Ordenamento"
   ]
  },
  {
   "cell_type": "code",
   "execution_count": null,
   "id": "c938a345",
   "metadata": {
    "ExecuteTime": {
     "end_time": "2022-01-11T20:32:53.657807Z",
     "start_time": "2022-01-11T20:32:53.622896Z"
    }
   },
   "outputs": [],
   "source": [
    "tb_listlead = pd.merge(tb_listings, tb_leads, how='left', on='listing_id')\n",
    "tb_cityportal = tb_listlead.groupby(['city', 'portal'])\\\n",
    "    .agg(\n",
    "        num_leads = pd.NamedAgg('leads', 'sum'),\n",
    "        num_listings = pd.NamedAgg('listing_id', 'count')\n",
    "        )\\\n",
    "    .sort_values(by = 'num_leads')\\\n",
    "    .reset_index()\n",
    "\n",
    "tb_cityportal"
   ]
  },
  {
   "cell_type": "markdown",
   "id": "9f25e342",
   "metadata": {},
   "source": [
    "```sql\n",
    "SELECT \n",
    "    t1.city,\n",
    "    t1.portal,\n",
    "    sum(t2.leads) as total_leads,\n",
    "    count(t1.listing_id) as total_listings\n",
    "FROM \n",
    "    tb_listings as t1 LEFT JOIN\n",
    "    tb_leads as t2 ON (t1.listing_id = t2.listing_id)\n",
    "GROUP BY \n",
    "    t1.city, \n",
    "    t1.portal\n",
    "ORDER BY\n",
    "    t1.city,\n",
    "    t1.portal\n",
    "```"
   ]
  },
  {
   "cell_type": "code",
   "execution_count": null,
   "id": "457b1680",
   "metadata": {
    "ExecuteTime": {
     "end_time": "2022-01-11T20:34:04.813833Z",
     "start_time": "2022-01-11T20:34:04.779894Z"
    }
   },
   "outputs": [],
   "source": [
    "tb_listlead = pd.merge(tb_listings, tb_leads, how='left', on='listing_id')\n",
    "tb_cityportal = tb_listlead.groupby(['city'])\\\n",
    "    .agg(\n",
    "        num_leads = pd.NamedAgg('leads', 'sum'),\n",
    "        num_listings = pd.NamedAgg('listing_id', 'count')\n",
    "        )\\\n",
    "    .sort_values(by = 'num_leads', ascending = False)\\\n",
    "    .reset_index()\n",
    "\n",
    "tb_cityportal.head(3)"
   ]
  },
  {
   "cell_type": "markdown",
   "id": "86260674",
   "metadata": {},
   "source": [
    "```sql\n",
    "SELECT \n",
    "    t1.city,\n",
    "    sum(t2.leads) as total_leads,\n",
    "    count(t1.listing_id) as total_listings\n",
    "FROM \n",
    "    tb_listings as t1 INNER JOIN\n",
    "    tb_leads as t2 ON (t1.listing_id = t2.listing_id)\n",
    "GROUP BY \n",
    "    t1.city\n",
    "ORDER BY\n",
    "    total_leads DESC\n",
    "LIMIT\n",
    "    3\n",
    "```"
   ]
  },
  {
   "cell_type": "markdown",
   "id": "baadef39",
   "metadata": {},
   "source": [
    "### Concatenação"
   ]
  },
  {
   "cell_type": "code",
   "execution_count": null,
   "id": "924c2abb",
   "metadata": {
    "ExecuteTime": {
     "end_time": "2022-01-11T21:21:39.928496Z",
     "start_time": "2022-01-11T21:21:39.910516Z"
    }
   },
   "outputs": [],
   "source": [
    "tb_gua = tb_listings[tb_listings['city'] == 'Guarulhos']\n",
    "tb_rj = tb_listings[tb_listings['city'] == 'Rio de Janeiro']"
   ]
  },
  {
   "cell_type": "code",
   "execution_count": null,
   "id": "424fcfa0",
   "metadata": {
    "ExecuteTime": {
     "end_time": "2022-01-11T21:22:33.658129Z",
     "start_time": "2022-01-11T21:22:33.631200Z"
    }
   },
   "outputs": [],
   "source": [
    "tb_gua.head()"
   ]
  },
  {
   "cell_type": "code",
   "execution_count": null,
   "id": "e548868c",
   "metadata": {
    "ExecuteTime": {
     "end_time": "2022-01-11T21:22:34.250843Z",
     "start_time": "2022-01-11T21:22:34.239871Z"
    }
   },
   "outputs": [],
   "source": [
    "tb_rj.head()"
   ]
  },
  {
   "cell_type": "code",
   "execution_count": null,
   "id": "4731efba",
   "metadata": {
    "ExecuteTime": {
     "end_time": "2022-01-11T21:22:35.687460Z",
     "start_time": "2022-01-11T21:22:35.662500Z"
    }
   },
   "outputs": [],
   "source": [
    "pd.concat([tb_gua, tb_rj], axis = 0).head(10)"
   ]
  },
  {
   "cell_type": "markdown",
   "id": "69cc0556",
   "metadata": {},
   "source": [
    "```SQL\n",
    "(\n",
    "SELECT \n",
    "    t1.*\n",
    "FROM\n",
    "    tb_listings as t1\n",
    "WHERE\n",
    "    t1.city = 'Rio de Janeiro'\n",
    ")\n",
    "UNION\n",
    "(\n",
    "SELECT \n",
    "    t1.*\n",
    "FROM\n",
    "    tb_listings as t1\n",
    "WHERE\n",
    "    t1.city = 'Guarulhos'\n",
    ")\n",
    "```"
   ]
  },
  {
   "cell_type": "code",
   "execution_count": null,
   "id": "a4da45b9",
   "metadata": {},
   "outputs": [],
   "source": []
  }
 ],
 "metadata": {
  "hide_input": false,
  "kernelspec": {
   "display_name": "Python 3",
   "language": "python",
   "name": "python3"
  },
  "language_info": {
   "codemirror_mode": {
    "name": "ipython",
    "version": 3
   },
   "file_extension": ".py",
   "mimetype": "text/x-python",
   "name": "python",
   "nbconvert_exporter": "python",
   "pygments_lexer": "ipython3",
   "version": "3.8.8"
  },
  "toc": {
   "base_numbering": 1,
   "nav_menu": {},
   "number_sections": true,
   "sideBar": true,
   "skip_h1_title": false,
   "title_cell": "Table of Contents",
   "title_sidebar": "Contents",
   "toc_cell": true,
   "toc_position": {
    "height": "calc(100% - 180px)",
    "left": "10px",
    "top": "150px",
    "width": "256px"
   },
   "toc_section_display": true,
   "toc_window_display": true
  }
 },
 "nbformat": 4,
 "nbformat_minor": 5
}
