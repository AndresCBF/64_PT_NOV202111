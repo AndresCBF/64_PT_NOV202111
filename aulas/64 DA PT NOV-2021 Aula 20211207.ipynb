{
 "cells": [
  {
   "cell_type": "code",
   "execution_count": null,
   "metadata": {
    "ExecuteTime": {
     "end_time": "2021-12-07T21:58:44.435702Z",
     "start_time": "2021-12-07T21:58:44.346675Z"
    }
   },
   "outputs": [],
   "source": [
    "import pandas as pd\n",
    "import numpy as np\n",
    "tb_veic = pd.read_csv('data/dados_veiculos.csv')"
   ]
  },
  {
   "cell_type": "code",
   "execution_count": null,
   "metadata": {
    "ExecuteTime": {
     "end_time": "2021-12-07T21:59:19.877312Z",
     "start_time": "2021-12-07T21:59:19.859362Z"
    }
   },
   "outputs": [],
   "source": [
    "tb_veic.columns = [column.lower().replace(' ', '_').replace('/', '_by_') for column in tb_veic.columns]"
   ]
  },
  {
   "cell_type": "code",
   "execution_count": null,
   "metadata": {
    "ExecuteTime": {
     "end_time": "2021-12-07T21:48:43.574264Z",
     "start_time": "2021-12-07T21:48:43.548333Z"
    }
   },
   "outputs": [],
   "source": [
    "tb_veic.info()"
   ]
  },
  {
   "cell_type": "code",
   "execution_count": null,
   "metadata": {
    "ExecuteTime": {
     "end_time": "2021-12-07T21:48:43.947314Z",
     "start_time": "2021-12-07T21:48:43.915372Z"
    }
   },
   "outputs": [],
   "source": [
    "for column in tb_veic.columns:\n",
    "    print(f'{column}: {len(tb_veic[column].unique())}')"
   ]
  },
  {
   "cell_type": "markdown",
   "metadata": {},
   "source": [
    "# Data Manipulation - Group By"
   ]
  },
  {
   "cell_type": "markdown",
   "metadata": {},
   "source": [
    "- `.groupby()` é uma forma de **agregar** todos os resultados para cada chave única\n",
    "- Sempre que você faz uma **agregação**, o resultado final terá 1 linha para cada valor pelo qual você agregou, portanto, é obrigatório que se aplique uma função agregadora para que todos os valores sejam sumarizados em um único valor associado àquela chave.\n",
    "\n",
    "Por exemplo, se tivermos:\n",
    "\n",
    "Fruta | Quantidade\n",
    "-----|----:\n",
    "Laranja | 10\n",
    "Maçã | 10\n",
    "Abacate | 2\n",
    "Abacate | 1\n",
    "Melancia  | 1\n",
    "Laranja  | 4\n",
    "\n",
    "O resultado de um `.groupby` por 'Fruta' resultaria em 4 linhas\n",
    "\n",
    "Fruta | Função Agregadora\n",
    "----|-----\n",
    "Laranja | ?\n",
    "Maçã | ?\n",
    "Abacate | ?\n",
    "Melancia | ?\n",
    "\n",
    "O asterisco representa o valor agregado. Temos, obrigatoriamente, que sumarizar os dados relacionados àquele registro em um único dado. Para isso, podemos fazer a média, soma, contagem, ou qualquer outra função agregadora.\n",
    "\n",
    "Fruta | soma(Quantidade)\n",
    "----|----:\n",
    "Laranja | 14\n",
    "Maçã | 10\n",
    "Abacate | 3\n",
    "Melancia | 1\n",
    "\n",
    "**Funções agregadora/Métodos**\n",
    "\n",
    "- `.mean()`\n",
    "- `.median()`\n",
    "- `.max()`\n",
    "- `.min()`\n",
    "- `.sum()`\n",
    "- `.count()`\n",
    "- `.describe()`\n",
    "- `.agg()`\n",
    "- A function you want"
   ]
  },
  {
   "cell_type": "markdown",
   "metadata": {},
   "source": [
    "## One aggregation\n",
    "\n",
    "Key with one value and one aggregation method"
   ]
  },
  {
   "cell_type": "code",
   "execution_count": null,
   "metadata": {
    "ExecuteTime": {
     "end_time": "2021-12-07T21:49:22.724121Z",
     "start_time": "2021-12-07T21:49:22.687219Z"
    }
   },
   "outputs": [],
   "source": [
    "tb_veic.groupby(by = 'drivetrain').mean()"
   ]
  },
  {
   "cell_type": "code",
   "execution_count": null,
   "metadata": {
    "ExecuteTime": {
     "end_time": "2021-12-07T21:49:23.518961Z",
     "start_time": "2021-12-07T21:49:23.486058Z"
    }
   },
   "outputs": [],
   "source": [
    "tb_veic.groupby(by = 'drivetrain').median()"
   ]
  },
  {
   "cell_type": "code",
   "execution_count": null,
   "metadata": {
    "ExecuteTime": {
     "end_time": "2021-12-07T21:49:24.313285Z",
     "start_time": "2021-12-07T21:49:24.287348Z"
    }
   },
   "outputs": [],
   "source": [
    "tb_agg_drivetrain = tb_veic.groupby(by = 'drivetrain').median()\n",
    "type(tb_agg_drivetrain)"
   ]
  },
  {
   "cell_type": "code",
   "execution_count": null,
   "metadata": {
    "ExecuteTime": {
     "end_time": "2021-12-07T21:49:25.091095Z",
     "start_time": "2021-12-07T21:49:25.083096Z"
    }
   },
   "outputs": [],
   "source": [
    "tb_agg_drivetrain.loc['4-Wheel or All-Wheel Drive',:]"
   ]
  },
  {
   "cell_type": "markdown",
   "metadata": {},
   "source": [
    "## More than one aggregation\n",
    "\n",
    "Key with one or more values and one or more aggregation methods"
   ]
  },
  {
   "cell_type": "code",
   "execution_count": null,
   "metadata": {
    "ExecuteTime": {
     "end_time": "2021-12-07T21:49:39.637149Z",
     "start_time": "2021-12-07T21:49:39.609219Z"
    }
   },
   "outputs": [],
   "source": [
    "tb_agg_cyldt = tb_veic.groupby(by = ['drivetrain', 'cylinders']).median()"
   ]
  },
  {
   "cell_type": "code",
   "execution_count": null,
   "metadata": {
    "ExecuteTime": {
     "end_time": "2021-12-07T21:49:41.099144Z",
     "start_time": "2021-12-07T21:49:41.058254Z"
    }
   },
   "outputs": [],
   "source": [
    "tb_agg_cyldt"
   ]
  },
  {
   "cell_type": "code",
   "execution_count": null,
   "metadata": {
    "ExecuteTime": {
     "end_time": "2021-12-07T21:49:45.462304Z",
     "start_time": "2021-12-07T21:49:45.442341Z"
    }
   },
   "outputs": [],
   "source": [
    "tb_agg_cyldt.loc[('Rear-Wheel Drive',6),:]"
   ]
  },
  {
   "cell_type": "code",
   "execution_count": null,
   "metadata": {
    "ExecuteTime": {
     "end_time": "2021-12-07T21:49:45.976374Z",
     "start_time": "2021-12-07T21:49:45.952410Z"
    }
   },
   "outputs": [],
   "source": [
    "tb_agg_cyldt.loc[('Rear-Wheel Drive',[2,3,4]),:]"
   ]
  },
  {
   "cell_type": "code",
   "execution_count": null,
   "metadata": {
    "ExecuteTime": {
     "end_time": "2021-12-07T21:49:46.443496Z",
     "start_time": "2021-12-07T21:49:46.435515Z"
    }
   },
   "outputs": [],
   "source": [
    "tb_agg_cyldt.loc[('Rear-Wheel Drive',[2,3,4]),'city_mpg']"
   ]
  },
  {
   "cell_type": "code",
   "execution_count": null,
   "metadata": {
    "ExecuteTime": {
     "end_time": "2021-12-07T21:49:48.013084Z",
     "start_time": "2021-12-07T21:49:47.992140Z"
    }
   },
   "outputs": [],
   "source": [
    "tb_agg_cyldt.loc[('Rear-Wheel Drive',[2,3,4]),['city_mpg', 'highway_mpg']]"
   ]
  },
  {
   "cell_type": "code",
   "execution_count": null,
   "metadata": {
    "ExecuteTime": {
     "end_time": "2021-12-07T21:49:48.540128Z",
     "start_time": "2021-12-07T21:49:48.501204Z"
    }
   },
   "outputs": [],
   "source": [
    "tb_agg_cyldt.reset_index()"
   ]
  },
  {
   "cell_type": "code",
   "execution_count": null,
   "metadata": {
    "ExecuteTime": {
     "end_time": "2021-12-07T21:49:50.951724Z",
     "start_time": "2021-12-07T21:49:50.398203Z"
    }
   },
   "outputs": [],
   "source": [
    "tb_agg_desc_cyldt = tb_veic.groupby(by = ['drivetrain', 'cylinders']).describe()\n",
    "tb_agg_desc_cyldt"
   ]
  },
  {
   "cell_type": "code",
   "execution_count": null,
   "metadata": {
    "ExecuteTime": {
     "end_time": "2021-12-07T21:50:15.257099Z",
     "start_time": "2021-12-07T21:50:15.250147Z"
    }
   },
   "outputs": [],
   "source": [
    "tb_agg_desc_cyldt.loc[('Rear-Wheel Drive', 6),('city_mpg', 'mean')]"
   ]
  },
  {
   "cell_type": "code",
   "execution_count": null,
   "metadata": {
    "ExecuteTime": {
     "end_time": "2021-12-07T21:50:19.208341Z",
     "start_time": "2021-12-07T21:50:19.194354Z"
    }
   },
   "outputs": [],
   "source": [
    "tb_agg_desc_cyldt.loc[('Rear-Wheel Drive', [2,3,4]),('city_mpg', 'mean')]"
   ]
  },
  {
   "cell_type": "code",
   "execution_count": null,
   "metadata": {
    "ExecuteTime": {
     "end_time": "2021-12-07T21:50:19.813725Z",
     "start_time": "2021-12-07T21:50:19.789761Z"
    }
   },
   "outputs": [],
   "source": [
    "tb_agg_desc_cyldt.loc[('Rear-Wheel Drive', [2,3,4]),('city_mpg', ['mean', 'std'])]"
   ]
  },
  {
   "cell_type": "code",
   "execution_count": null,
   "metadata": {
    "ExecuteTime": {
     "end_time": "2021-12-07T21:50:22.673057Z",
     "start_time": "2021-12-07T21:50:22.657099Z"
    }
   },
   "outputs": [],
   "source": [
    "tb_agg_desc_cyldt.loc[('Rear-Wheel Drive', ),('city_mpg', )]"
   ]
  },
  {
   "cell_type": "code",
   "execution_count": null,
   "metadata": {
    "ExecuteTime": {
     "end_time": "2021-12-07T21:50:23.234196Z",
     "start_time": "2021-12-07T21:50:23.151246Z"
    }
   },
   "outputs": [],
   "source": [
    "tb_agg_musig_cyldt = tb_veic.groupby(by = ['drivetrain', 'cylinders']).agg(['mean', 'std'])\n",
    "tb_agg_musig_cyldt"
   ]
  },
  {
   "cell_type": "markdown",
   "metadata": {},
   "source": [
    "## Named aggregation"
   ]
  },
  {
   "cell_type": "code",
   "execution_count": null,
   "metadata": {
    "ExecuteTime": {
     "end_time": "2021-12-07T10:31:05.670656Z",
     "start_time": "2021-12-07T10:31:05.632747Z"
    }
   },
   "outputs": [],
   "source": [
    "tb_veic.groupby(by = ['drivetrain', 'cylinders']).agg(contagem = pd.NamedAgg(column = 'year', aggfunc = 'count'))"
   ]
  },
  {
   "cell_type": "code",
   "execution_count": null,
   "metadata": {
    "ExecuteTime": {
     "end_time": "2021-12-07T10:32:29.747224Z",
     "start_time": "2021-12-07T10:32:29.700368Z"
    }
   },
   "outputs": [],
   "source": [
    "tb_veic.groupby(by = ['drivetrain', 'cylinders']).agg(\n",
    "    contagem = pd.NamedAgg(column = 'year', aggfunc = 'count'),\n",
    "    avg_city_mpg = pd.NamedAgg(column = 'city_mpg', aggfunc = 'mean'),\n",
    "    std_city_mpg = pd.NamedAgg(column = 'city_mpg', aggfunc = 'std'),\n",
    "    avg_highway_mpg = pd.NamedAgg(column = 'highway_mpg', aggfunc = 'mean'),\n",
    "    std_highway_mpg = pd.NamedAgg(column = 'highway_mpg', aggfunc = 'std'))"
   ]
  },
  {
   "cell_type": "code",
   "execution_count": null,
   "metadata": {
    "ExecuteTime": {
     "end_time": "2021-12-07T10:34:46.346300Z",
     "start_time": "2021-12-07T10:34:46.284466Z"
    }
   },
   "outputs": [],
   "source": [
    "tb_agg_veic = tb_veic.groupby(by = ['drivetrain', 'cylinders']).agg(\n",
    "    contagem = pd.NamedAgg(column = 'year', aggfunc = 'count'),\n",
    "    avg_city_mpg = pd.NamedAgg(column = 'city_mpg', aggfunc = 'mean'),\n",
    "    std_city_mpg = pd.NamedAgg(column = 'city_mpg', aggfunc = 'std'),\n",
    "    avg_highway_mpg = pd.NamedAgg(column = 'highway_mpg', aggfunc = 'mean'),\n",
    "    std_highway_mpg = pd.NamedAgg(column = 'highway_mpg', aggfunc = 'std'))\n",
    "tb_agg_veic[tb_agg_veic['contagem'] > 5]"
   ]
  },
  {
   "cell_type": "code",
   "execution_count": null,
   "metadata": {
    "ExecuteTime": {
     "end_time": "2021-12-07T21:58:30.328237Z",
     "start_time": "2021-12-07T21:58:30.320257Z"
    }
   },
   "outputs": [],
   "source": [
    "def dist_iq(panda_series):\n",
    "    if len(panda_series) > 5:\n",
    "        return panda_series.quantile(0.75) - panda_series.quantile(0.25)\n",
    "    else:\n",
    "        return np.nan"
   ]
  },
  {
   "cell_type": "code",
   "execution_count": null,
   "metadata": {
    "ExecuteTime": {
     "end_time": "2021-12-07T21:58:31.059308Z",
     "start_time": "2021-12-07T21:58:30.987499Z"
    }
   },
   "outputs": [],
   "source": [
    "tb_veic.groupby(by = ['drivetrain', 'cylinders']).agg(\n",
    "    avg_city_mpg = pd.NamedAgg(column = 'city_mpg', aggfunc = 'mean'),\n",
    "    std_city_mpg = pd.NamedAgg(column = 'city_mpg', aggfunc = 'std'),\n",
    "    iqn_city_mpg = pd.NamedAgg(column = 'city_mpg', aggfunc = dist_iq))"
   ]
  },
  {
   "cell_type": "markdown",
   "metadata": {},
   "source": [
    "## Bonus: Iterating over groups"
   ]
  },
  {
   "cell_type": "code",
   "execution_count": null,
   "metadata": {
    "ExecuteTime": {
     "end_time": "2021-12-07T22:00:00.668808Z",
     "start_time": "2021-12-07T22:00:00.513068Z"
    }
   },
   "outputs": [],
   "source": [
    "tb_gr_veic = tb_veic.groupby(by = ['drivetrain'])\n",
    "for name, group in tb_gr_veic:\n",
    "    print(name)\n",
    "    print(group.describe())"
   ]
  },
  {
   "cell_type": "markdown",
   "metadata": {},
   "source": [
    "-----"
   ]
  },
  {
   "cell_type": "markdown",
   "metadata": {},
   "source": [
    "# Data Manipulation - Joins\n",
    "\n",
    "* How to merge dataframes based on one or more keys\n",
    "* Diagramas de Venn\n",
    "* [Fruits Example](https://docs.google.com/spreadsheets/d/1foV1THfhVc5WduBTMjpxmthAD1BDHS9FUpH-WgGDH5E/edit?usp=sharing)\n",
    "\n",
    "Um join pode ser classificado ao longo de dois eixos:\n",
    "\n",
    "1. **Direção**: Esquerda, direita ou interno (left, right e inner);\n",
    "2. **Cardinalidade**: Um para um, um para muitos, muitos para muitos (1:1, 1:n, n:n)."
   ]
  },
  {
   "cell_type": "markdown",
   "metadata": {},
   "source": [
    "## Types of Joins"
   ]
  },
  {
   "cell_type": "markdown",
   "metadata": {},
   "source": [
    "### Um para Um (1:1)"
   ]
  },
  {
   "cell_type": "code",
   "execution_count": null,
   "metadata": {
    "ExecuteTime": {
     "end_time": "2021-12-07T22:00:13.879976Z",
     "start_time": "2021-12-07T22:00:13.862997Z"
    }
   },
   "outputs": [],
   "source": [
    "nome_frutas = ['Uva', 'Abacate', 'Melancia', 'Atemoia', 'Laranja']\n",
    "producao_frutas = [10, 1, 1, 3, 4]\n",
    "tb_prod_frutas = pd.DataFrame({'nome_fruta' : nome_frutas,\n",
    "                               'producao_kg' : producao_frutas})\n",
    "tb_prod_frutas"
   ]
  },
  {
   "cell_type": "code",
   "execution_count": null,
   "metadata": {
    "ExecuteTime": {
     "end_time": "2021-12-07T22:00:14.717461Z",
     "start_time": "2021-12-07T22:00:14.696546Z"
    }
   },
   "outputs": [],
   "source": [
    "fruta = ['Uva', 'Abacate', 'Melancia', 'Carambola']\n",
    "cidade = ['Campinas', 'Campinas', 'Atibaia', 'Rio de Janeiro']\n",
    "tb_pomar_cidade = pd.DataFrame({'nome_fruta' : fruta, 'cidade' : cidade})\n",
    "tb_pomar_cidade"
   ]
  },
  {
   "cell_type": "markdown",
   "metadata": {},
   "source": [
    "#### Inner Join (o que é comum às duas tabelas)"
   ]
  },
  {
   "cell_type": "code",
   "execution_count": null,
   "metadata": {
    "ExecuteTime": {
     "end_time": "2021-12-07T22:00:19.870874Z",
     "start_time": "2021-12-07T22:00:19.856928Z"
    }
   },
   "outputs": [],
   "source": [
    "pd.merge(tb_prod_frutas, tb_pomar_cidade, on = 'nome_fruta')"
   ]
  },
  {
   "cell_type": "markdown",
   "metadata": {},
   "source": [
    "#### Left Join (tudo o que está na tabela a esquerda)"
   ]
  },
  {
   "cell_type": "code",
   "execution_count": null,
   "metadata": {
    "ExecuteTime": {
     "end_time": "2021-12-07T22:00:20.994420Z",
     "start_time": "2021-12-07T22:00:20.973478Z"
    }
   },
   "outputs": [],
   "source": [
    "pd.merge(tb_prod_frutas, tb_pomar_cidade, on = 'nome_fruta', how = 'left')"
   ]
  },
  {
   "cell_type": "markdown",
   "metadata": {},
   "source": [
    "#### Right Join (tudo o que está na tabela a direita)"
   ]
  },
  {
   "cell_type": "code",
   "execution_count": null,
   "metadata": {
    "ExecuteTime": {
     "end_time": "2021-12-07T22:00:21.881472Z",
     "start_time": "2021-12-07T22:00:21.865510Z"
    }
   },
   "outputs": [],
   "source": [
    "pd.merge(tb_prod_frutas, tb_pomar_cidade, on = 'nome_fruta', how = 'right')"
   ]
  },
  {
   "cell_type": "markdown",
   "metadata": {},
   "source": [
    "### Um para N (1:N)"
   ]
  },
  {
   "cell_type": "code",
   "execution_count": null,
   "metadata": {
    "ExecuteTime": {
     "end_time": "2021-12-07T22:00:22.673260Z",
     "start_time": "2021-12-07T22:00:22.649325Z"
    }
   },
   "outputs": [],
   "source": [
    "nome_frutas = ['Uva', 'Abacate', 'Melancia', 'Atemoia', 'Laranja']\n",
    "producao_frutas = [10, 1, 1, 3, 4]\n",
    "tb_prod_frutas = pd.DataFrame({'nome_fruta' : nome_frutas,\n",
    "                               'producao_kg' : producao_frutas})\n",
    "tb_prod_frutas"
   ]
  },
  {
   "cell_type": "code",
   "execution_count": null,
   "metadata": {
    "ExecuteTime": {
     "end_time": "2021-12-07T22:00:23.278564Z",
     "start_time": "2021-12-07T22:00:23.259585Z"
    }
   },
   "outputs": [],
   "source": [
    "fruta = ['Uva', 'Abacate', 'Melancia', 'Uva', 'Carambola']\n",
    "cidade = ['Campinas', 'Campinas', 'Atibaia', 'Atibaia', 'Rio de Janeiro']\n",
    "tb_pomar_cidade = pd.DataFrame({'nome_fruta' : fruta, 'cidade' : cidade})\n",
    "tb_pomar_cidade"
   ]
  },
  {
   "cell_type": "code",
   "execution_count": null,
   "metadata": {
    "ExecuteTime": {
     "end_time": "2021-12-07T22:00:24.043094Z",
     "start_time": "2021-12-07T22:00:24.031125Z"
    }
   },
   "outputs": [],
   "source": [
    "pd.merge(tb_prod_frutas, tb_pomar_cidade, on = 'nome_fruta')"
   ]
  },
  {
   "cell_type": "markdown",
   "metadata": {},
   "source": [
    "### N para N (N:N)"
   ]
  },
  {
   "cell_type": "code",
   "execution_count": null,
   "metadata": {
    "ExecuteTime": {
     "end_time": "2021-12-07T22:00:25.480963Z",
     "start_time": "2021-12-07T22:00:25.463978Z"
    }
   },
   "outputs": [],
   "source": [
    "nome_frutas = ['Uva', 'Uva', 'Abacate', 'Melancia', 'Atemoia', 'Laranja']\n",
    "producao_frutas = [10, 5, 1, 1, 3, 4]\n",
    "tb_prod_frutas = pd.DataFrame({'nome_fruta' : nome_frutas,\n",
    "                               'producao_kg' : producao_frutas})\n",
    "tb_prod_frutas"
   ]
  },
  {
   "cell_type": "code",
   "execution_count": null,
   "metadata": {
    "ExecuteTime": {
     "end_time": "2021-12-07T22:00:26.058088Z",
     "start_time": "2021-12-07T22:00:26.036173Z"
    }
   },
   "outputs": [],
   "source": [
    "fruta = ['Uva', 'Abacate', 'Melancia', 'Uva', 'Carambola']\n",
    "cidade = ['Campinas', 'Campinas', 'Atibaia', 'Atibaia', 'Rio de Janeiro']\n",
    "tb_pomar_cidade = pd.DataFrame({'nome_fruta' : fruta, 'cidade' : cidade})\n",
    "tb_pomar_cidade"
   ]
  },
  {
   "cell_type": "code",
   "execution_count": null,
   "metadata": {
    "ExecuteTime": {
     "end_time": "2021-12-07T22:00:26.633180Z",
     "start_time": "2021-12-07T22:00:26.614230Z"
    }
   },
   "outputs": [],
   "source": [
    "pd.merge(tb_prod_frutas, tb_pomar_cidade, on = 'nome_fruta')"
   ]
  },
  {
   "cell_type": "markdown",
   "metadata": {},
   "source": [
    "## Using our vehicles dataframe"
   ]
  },
  {
   "cell_type": "markdown",
   "metadata": {},
   "source": [
    "Será que a eficiência dos carros aumentou ao longo dos anos?"
   ]
  },
  {
   "cell_type": "code",
   "execution_count": null,
   "metadata": {
    "ExecuteTime": {
     "end_time": "2021-12-07T22:00:29.584031Z",
     "start_time": "2021-12-07T22:00:29.336378Z"
    }
   },
   "outputs": [],
   "source": [
    "import matplotlib.pyplot as plt"
   ]
  },
  {
   "cell_type": "code",
   "execution_count": null,
   "metadata": {
    "ExecuteTime": {
     "end_time": "2021-12-07T22:00:29.881839Z",
     "start_time": "2021-12-07T22:00:29.725908Z"
    }
   },
   "outputs": [],
   "source": [
    "tb_agg_year = tb_veic.groupby(by = 'year').agg(\n",
    "    mean_city_mpg = pd.NamedAgg(column = 'city_mpg', aggfunc = 'mean'),\n",
    "    mean_highway_mpg = pd.NamedAgg(column = 'highway_mpg', aggfunc = 'mean')\n",
    ")\n",
    "plt.plot(tb_agg_year['mean_city_mpg']);"
   ]
  },
  {
   "cell_type": "markdown",
   "metadata": {},
   "source": [
    "**Quais conclusões podemos tirar do gráfico acima? Como podemos melhorar nossa análise?**"
   ]
  },
  {
   "cell_type": "code",
   "execution_count": null,
   "metadata": {
    "ExecuteTime": {
     "end_time": "2021-12-07T22:00:31.390359Z",
     "start_time": "2021-12-07T22:00:31.357533Z"
    }
   },
   "outputs": [],
   "source": [
    "tb_agg_cyl = tb_veic.groupby(by = 'cylinders').agg(\n",
    "    mean_city_mpg = pd.NamedAgg(column = 'city_mpg', aggfunc = 'mean'),\n",
    "    mean_highway_mpg = pd.NamedAgg(column = 'highway_mpg', aggfunc = 'mean')\n",
    ").reset_index()\n",
    "tb_agg_cyl"
   ]
  },
  {
   "cell_type": "code",
   "execution_count": null,
   "metadata": {
    "ExecuteTime": {
     "end_time": "2021-12-07T22:00:32.075140Z",
     "start_time": "2021-12-07T22:00:32.018661Z"
    }
   },
   "outputs": [],
   "source": [
    "tb_veic = pd.merge(tb_veic, tb_agg_cyl, on = 'cylinders')\n",
    "tb_veic['norm_city_mpg'] = tb_veic['city_mpg']/tb_veic['mean_city_mpg']\n",
    "tb_veic['norm_highway_mpg'] = tb_veic['highway_mpg']/tb_veic['mean_highway_mpg']"
   ]
  },
  {
   "cell_type": "code",
   "execution_count": null,
   "metadata": {
    "ExecuteTime": {
     "end_time": "2021-12-07T22:00:32.717375Z",
     "start_time": "2021-12-07T22:00:32.595810Z"
    }
   },
   "outputs": [],
   "source": [
    "tb_agg_year = tb_veic.groupby(by = 'year').agg(\n",
    "    mean_city_mpg = pd.NamedAgg(column = 'norm_city_mpg', aggfunc = 'mean'),\n",
    "    mean_highway_mpg = pd.NamedAgg(column = 'norm_highway_mpg', aggfunc = 'mean')\n",
    ")\n",
    "plt.plot(tb_agg_year['mean_city_mpg'])"
   ]
  },
  {
   "cell_type": "markdown",
   "metadata": {},
   "source": [
    "## What if we had different names?"
   ]
  },
  {
   "cell_type": "code",
   "execution_count": null,
   "metadata": {
    "ExecuteTime": {
     "end_time": "2021-12-07T22:00:34.269975Z",
     "start_time": "2021-12-07T22:00:34.260997Z"
    }
   },
   "outputs": [],
   "source": [
    "nome_frutas = ['Uva', 'Abacate', 'Melancia', 'Atemoia', 'Laranja']\n",
    "producao_frutas = [10, 1, 1, 3, 4]\n",
    "tb_prod_frutas = pd.DataFrame({'nome_fruta' : nome_frutas,\n",
    "                               'producao_kg' : producao_frutas})\n",
    "tb_prod_frutas"
   ]
  },
  {
   "cell_type": "code",
   "execution_count": null,
   "metadata": {
    "ExecuteTime": {
     "end_time": "2021-12-07T22:00:35.065248Z",
     "start_time": "2021-12-07T22:00:35.045289Z"
    }
   },
   "outputs": [],
   "source": [
    "fruta = ['Uva', 'Abacate', 'Melancia', 'Carambola']\n",
    "cidade = ['Campinas', 'Campinas', 'Atibaia', 'Rio de Janeiro']\n",
    "tb_pomar_cidade = pd.DataFrame({'nome_pomar_fruta' : fruta, 'cidade' : cidade})\n",
    "tb_pomar_cidade"
   ]
  },
  {
   "cell_type": "code",
   "execution_count": null,
   "metadata": {
    "ExecuteTime": {
     "end_time": "2021-12-07T22:00:35.532325Z",
     "start_time": "2021-12-07T22:00:35.520381Z"
    }
   },
   "outputs": [],
   "source": [
    "pd.merge(tb_prod_frutas, tb_pomar_cidade, left_on = 'nome_fruta', right_on = 'nome_pomar_fruta')"
   ]
  },
  {
   "cell_type": "code",
   "execution_count": null,
   "metadata": {
    "ExecuteTime": {
     "end_time": "2021-12-07T22:00:35.874255Z",
     "start_time": "2021-12-07T22:00:35.839356Z"
    },
    "scrolled": true
   },
   "outputs": [],
   "source": [
    "tb_agg_yearcyl = tb_veic.groupby(['cylinders', 'year']).agg(\n",
    "    mean_city_mpg = pd.NamedAgg(column = 'city_mpg', aggfunc = 'mean'),\n",
    "    n_linhas = pd.NamedAgg(column = 'city_mpg', aggfunc = 'count')\n",
    ").reset_index()\n",
    "tb_agg_yearcyl"
   ]
  },
  {
   "cell_type": "code",
   "execution_count": null,
   "metadata": {
    "ExecuteTime": {
     "end_time": "2021-12-07T22:00:36.547174Z",
     "start_time": "2021-12-07T22:00:36.517254Z"
    }
   },
   "outputs": [],
   "source": [
    "tb_agg_yearcyl['last_year'] = tb_agg_yearcyl['year'] - 1\n",
    "tb_agg_yearcyl"
   ]
  },
  {
   "cell_type": "code",
   "execution_count": null,
   "metadata": {
    "ExecuteTime": {
     "end_time": "2021-12-07T22:00:37.310563Z",
     "start_time": "2021-12-07T22:00:37.280616Z"
    }
   },
   "outputs": [],
   "source": [
    "tb_agg_yearcyla = pd.merge(tb_agg_yearcyl, tb_agg_yearcyl, \n",
    "                           left_on = ['cylinders', 'last_year'], \n",
    "                           right_on = ['cylinders', 'year'],\n",
    "                           suffixes = ('', '_ly'))\n",
    "tb_agg_yearcyla"
   ]
  },
  {
   "cell_type": "code",
   "execution_count": null,
   "metadata": {
    "ExecuteTime": {
     "end_time": "2021-12-07T22:00:38.965328Z",
     "start_time": "2021-12-07T22:00:38.950372Z"
    }
   },
   "outputs": [],
   "source": [
    "tb_agg_yearcyla['var_anual'] = (tb_agg_yearcyla['mean_city_mpg'] - tb_agg_yearcyla['mean_city_mpg_ly'])/tb_agg_yearcyla['mean_city_mpg_ly']"
   ]
  },
  {
   "cell_type": "code",
   "execution_count": null,
   "metadata": {
    "ExecuteTime": {
     "end_time": "2021-12-07T22:00:39.574911Z",
     "start_time": "2021-12-07T22:00:39.553968Z"
    }
   },
   "outputs": [],
   "source": [
    "tb_agg_yearcyla.groupby(['cylinders']).agg(\n",
    "    var_anual_media = pd.NamedAgg('var_anual', 'mean'),\n",
    "    n_linhas = pd.NamedAgg('n_linhas', 'sum')\n",
    ")"
   ]
  },
  {
   "cell_type": "markdown",
   "metadata": {},
   "source": [
    "# Bonus - Bins Concept\n",
    "\n",
    "![Imgs](https://i.stack.imgur.com/pObHa.png)\n",
    "\n",
    "\n",
    "### two methods: cut vs qcut\n",
    "\n",
    "The major distinction is that qcut will calculate the size of each bin in order to make sure the distribution of data in the bins is equal. In other words, all bins will have (roughly) the same number of observations but the bin range will vary.\n",
    "\n",
    "On the other hand, cut is used to specifically define the bin edges. There is no guarantee about the distribution of items in each bin. In fact, you can define bins in such a way that no items are included in a bin or nearly all items are in a single bin."
   ]
  },
  {
   "cell_type": "code",
   "execution_count": null,
   "metadata": {
    "ExecuteTime": {
     "end_time": "2021-12-07T22:00:41.971903Z",
     "start_time": "2021-12-07T22:00:41.953941Z"
    }
   },
   "outputs": [],
   "source": [
    "pd.cut(tb_veic['city_mpg'], bins = 10)"
   ]
  },
  {
   "cell_type": "code",
   "execution_count": null,
   "metadata": {
    "ExecuteTime": {
     "end_time": "2021-12-07T22:00:42.265759Z",
     "start_time": "2021-12-07T22:00:42.241806Z"
    }
   },
   "outputs": [],
   "source": [
    "tb_veic['classifA_city_mpg'] = pd.cut(tb_veic['city_mpg'], bins = 10)\n",
    "tb_veic['classifA_city_mpg'].value_counts()"
   ]
  },
  {
   "cell_type": "code",
   "execution_count": null,
   "metadata": {
    "ExecuteTime": {
     "end_time": "2021-12-07T22:00:42.748574Z",
     "start_time": "2021-12-07T22:00:42.728626Z"
    }
   },
   "outputs": [],
   "source": [
    "tb_veic['classifB_city_mpg'] = pd.qcut(tb_veic['city_mpg'], q = 10)\n",
    "tb_veic['classifB_city_mpg'].value_counts()"
   ]
  },
  {
   "cell_type": "markdown",
   "metadata": {},
   "source": [
    "# Bonus - Categorical Data Into Columns\n",
    "\n",
    ">    - dummies\n",
    ">    - One hot encoding"
   ]
  },
  {
   "cell_type": "code",
   "execution_count": null,
   "metadata": {
    "ExecuteTime": {
     "end_time": "2021-12-07T22:00:44.605342Z",
     "start_time": "2021-12-07T22:00:44.565421Z"
    }
   },
   "outputs": [],
   "source": [
    "pd.get_dummies(tb_veic['classifB_city_mpg'])"
   ]
  },
  {
   "cell_type": "code",
   "execution_count": null,
   "metadata": {
    "ExecuteTime": {
     "end_time": "2021-12-07T22:00:44.898993Z",
     "start_time": "2021-12-07T22:00:44.840586Z"
    }
   },
   "outputs": [],
   "source": [
    "dummies = pd.get_dummies(tb_veic['classifB_city_mpg'])\n",
    "pd.concat([tb_veic, dummies], axis = 1)"
   ]
  },
  {
   "cell_type": "code",
   "execution_count": null,
   "metadata": {},
   "outputs": [],
   "source": []
  }
 ],
 "metadata": {
  "hide_input": false,
  "kernelspec": {
   "display_name": "Python 3",
   "language": "python",
   "name": "python3"
  },
  "language_info": {
   "codemirror_mode": {
    "name": "ipython",
    "version": 3
   },
   "file_extension": ".py",
   "mimetype": "text/x-python",
   "name": "python",
   "nbconvert_exporter": "python",
   "pygments_lexer": "ipython3",
   "version": "3.8.8"
  },
  "toc": {
   "base_numbering": 1,
   "nav_menu": {},
   "number_sections": true,
   "sideBar": true,
   "skip_h1_title": false,
   "title_cell": "Table of Contents",
   "title_sidebar": "Contents",
   "toc_cell": false,
   "toc_position": {},
   "toc_section_display": true,
   "toc_window_display": false
  }
 },
 "nbformat": 4,
 "nbformat_minor": 4
}
