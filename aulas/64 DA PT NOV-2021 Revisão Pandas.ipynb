{
 "cells": [
  {
   "cell_type": "markdown",
   "id": "ee4e9a63",
   "metadata": {
    "toc": true
   },
   "source": [
    "<h1>Table of Contents<span class=\"tocSkip\"></span></h1>\n",
    "<div class=\"toc\"><ul class=\"toc-item\"><li><span><a href=\"#Revisão-Pandas\" data-toc-modified-id=\"Revisão-Pandas-1\"><span class=\"toc-item-num\">1&nbsp;&nbsp;</span>Revisão Pandas</a></span><ul class=\"toc-item\"><li><span><a href=\"#Carregando-Dados\" data-toc-modified-id=\"Carregando-Dados-1.1\"><span class=\"toc-item-num\">1.1&nbsp;&nbsp;</span>Carregando Dados</a></span><ul class=\"toc-item\"><li><span><a href=\"#Limpando-os-nomes-de-colunas\" data-toc-modified-id=\"Limpando-os-nomes-de-colunas-1.1.1\"><span class=\"toc-item-num\">1.1.1&nbsp;&nbsp;</span>Limpando os nomes de colunas</a></span></li></ul></li><li><span><a href=\"#Limpeza-de-Informações\" data-toc-modified-id=\"Limpeza-de-Informações-1.2\"><span class=\"toc-item-num\">1.2&nbsp;&nbsp;</span>Limpeza de Informações</a></span><ul class=\"toc-item\"><li><span><a href=\"#(Re)Construção-da-coluna-region\" data-toc-modified-id=\"(Re)Construção-da-coluna-region-1.2.1\"><span class=\"toc-item-num\">1.2.1&nbsp;&nbsp;</span>(Re)Construção da coluna <code>region</code></a></span></li><li><span><a href=\"#Limpeza-de-Colunas-NA\" data-toc-modified-id=\"Limpeza-de-Colunas-NA-1.2.2\"><span class=\"toc-item-num\">1.2.2&nbsp;&nbsp;</span>Limpeza de Colunas NA</a></span></li></ul></li><li><span><a href=\"#Análise-de-Agregados\" data-toc-modified-id=\"Análise-de-Agregados-1.3\"><span class=\"toc-item-num\">1.3&nbsp;&nbsp;</span>Análise de Agregados</a></span><ul class=\"toc-item\"><li><span><a href=\"#Agregado-Regional\" data-toc-modified-id=\"Agregado-Regional-1.3.1\"><span class=\"toc-item-num\">1.3.1&nbsp;&nbsp;</span>Agregado Regional</a></span></li><li><span><a href=\"#Relação-País-Região\" data-toc-modified-id=\"Relação-País-Região-1.3.2\"><span class=\"toc-item-num\">1.3.2&nbsp;&nbsp;</span>Relação País-Região</a></span></li><li><span><a href=\"#Evolução-Anual-de-Felicidade-por-País\" data-toc-modified-id=\"Evolução-Anual-de-Felicidade-por-País-1.3.3\"><span class=\"toc-item-num\">1.3.3&nbsp;&nbsp;</span>Evolução Anual de Felicidade por País</a></span></li></ul></li></ul></li></ul></div>"
   ]
  },
  {
   "cell_type": "markdown",
   "id": "7eaba008",
   "metadata": {},
   "source": [
    "# Revisão Pandas"
   ]
  },
  {
   "cell_type": "code",
   "execution_count": 1,
   "id": "940984aa",
   "metadata": {
    "ExecuteTime": {
     "end_time": "2022-01-08T11:30:45.098292Z",
     "start_time": "2022-01-08T11:30:44.708302Z"
    }
   },
   "outputs": [],
   "source": [
    "import pandas as pd\n",
    "import numpy as np\n",
    "import os"
   ]
  },
  {
   "cell_type": "markdown",
   "id": "f65419b8",
   "metadata": {},
   "source": [
    "## Carregando Dados"
   ]
  },
  {
   "cell_type": "markdown",
   "id": "76d9468e",
   "metadata": {},
   "source": [
    "World Happiness Report\n",
    "\n",
    "Fonte: https://www.kaggle.com/unsdsn/world-happiness"
   ]
  },
  {
   "cell_type": "markdown",
   "id": "02e213dd",
   "metadata": {},
   "source": [
    "### Limpando os nomes de colunas"
   ]
  },
  {
   "cell_type": "code",
   "execution_count": 2,
   "id": "ac0965c6",
   "metadata": {
    "ExecuteTime": {
     "end_time": "2022-01-08T11:30:46.779181Z",
     "start_time": "2022-01-08T11:30:46.729005Z"
    }
   },
   "outputs": [],
   "source": [
    "path = 'data/dados_felicidade/'\n",
    "lista_df = [pd.read_csv(path + csv) for csv in os.listdir(path)]"
   ]
  },
  {
   "cell_type": "code",
   "execution_count": 3,
   "id": "5140e868",
   "metadata": {
    "ExecuteTime": {
     "end_time": "2022-01-08T11:30:47.342787Z",
     "start_time": "2022-01-08T11:30:47.327797Z"
    }
   },
   "outputs": [
    {
     "name": "stdout",
     "output_type": "stream",
     "text": [
      "Index(['Country', 'Region', 'Happiness Rank', 'Happiness Score',\n",
      "       'Standard Error', 'Economy (GDP per Capita)', 'Family',\n",
      "       'Health (Life Expectancy)', 'Freedom', 'Trust (Government Corruption)',\n",
      "       'Generosity', 'Dystopia Residual'],\n",
      "      dtype='object')\n",
      "Index(['Country', 'Region', 'Happiness Rank', 'Happiness Score',\n",
      "       'Lower Confidence Interval', 'Upper Confidence Interval',\n",
      "       'Economy (GDP per Capita)', 'Family', 'Health (Life Expectancy)',\n",
      "       'Freedom', 'Trust (Government Corruption)', 'Generosity',\n",
      "       'Dystopia Residual'],\n",
      "      dtype='object')\n",
      "Index(['Country', 'Happiness.Rank', 'Happiness.Score', 'Whisker.high',\n",
      "       'Whisker.low', 'Economy..GDP.per.Capita.', 'Family',\n",
      "       'Health..Life.Expectancy.', 'Freedom', 'Generosity',\n",
      "       'Trust..Government.Corruption.', 'Dystopia.Residual'],\n",
      "      dtype='object')\n",
      "Index(['Overall rank', 'Country or region', 'Score', 'GDP per capita',\n",
      "       'Social support', 'Healthy life expectancy',\n",
      "       'Freedom to make life choices', 'Generosity',\n",
      "       'Perceptions of corruption'],\n",
      "      dtype='object')\n",
      "Index(['Overall rank', 'Country or region', 'Score', 'GDP per capita',\n",
      "       'Social support', 'Healthy life expectancy',\n",
      "       'Freedom to make life choices', 'Generosity',\n",
      "       'Perceptions of corruption'],\n",
      "      dtype='object')\n"
     ]
    }
   ],
   "source": [
    "for df in lista_df:\n",
    "    print(df.columns)"
   ]
  },
  {
   "cell_type": "code",
   "execution_count": 4,
   "id": "ce826f98",
   "metadata": {
    "ExecuteTime": {
     "end_time": "2022-01-08T11:30:47.795122Z",
     "start_time": "2022-01-08T11:30:47.790137Z"
    }
   },
   "outputs": [
    {
     "name": "stdout",
     "output_type": "stream",
     "text": [
      "{'economy_gdp_per_capita_', 'score', 'standard_error', 'healthy_life_expectancy', 'freedom', 'family', 'freedom_to_make_life_choices', 'country', 'region', 'happiness_rank', 'happiness_score', 'country_or_region', 'perceptions_of_corruption', 'whisker_low', 'whisker_high', 'dystopia_residual', 'overall_rank', 'social_support', 'health_life_expectancy_', 'gdp_per_capita', 'generosity', 'trust_government_corruption_', 'upper_confidence_interval', 'lower_confidence_interval'}\n",
      "24\n"
     ]
    }
   ],
   "source": [
    "import re\n",
    "pattern = r'[ |\\.()]+'\n",
    "column_names = [re.sub(pattern, '_', column.lower()) for df in lista_df for column in df.columns]\n",
    "print(set(column_names))\n",
    "print(len(set(column_names)))"
   ]
  },
  {
   "cell_type": "code",
   "execution_count": 5,
   "id": "2f4e24bd",
   "metadata": {
    "ExecuteTime": {
     "end_time": "2022-01-08T11:30:48.487964Z",
     "start_time": "2022-01-08T11:30:48.478959Z"
    }
   },
   "outputs": [],
   "source": [
    "column_name_dict = dict()\n",
    "column_name_dict['health_life_expectancy_'] = 'health_life_expectancy'\n",
    "column_name_dict['country_or_region'] = 'country'\n",
    "column_name_dict['upper_confidence_interval'] = 'upper_confidence_interval'\n",
    "column_name_dict['perceptions_of_corruption'] = 'corruption'\n",
    "column_name_dict['whisker_high'] = 'whisker_high'\n",
    "column_name_dict['region'] = 'region'\n",
    "column_name_dict['generosity'] = 'generosity'\n",
    "column_name_dict['country'] = 'country'\n",
    "column_name_dict['gdp_per_capita'] = 'gdp_per_capita'\n",
    "column_name_dict['freedom_to_make_life_choices'] = 'freedom'\n",
    "column_name_dict['standard_error'] = 'standard_error'\n",
    "column_name_dict['happiness_score'] = 'happiness_score'\n",
    "column_name_dict['whisker_low'] = 'whisker_low'\n",
    "column_name_dict['happiness_rank'] = 'happiness_rank'\n",
    "column_name_dict['lower_confidence_interval'] = 'lower_confidence_interval'\n",
    "column_name_dict['overall_rank'] = 'happiness_rank'\n",
    "column_name_dict['dystopia_residual'] = 'dystopia'\n",
    "column_name_dict['trust_government_corruption_'] = 'corruption'\n",
    "column_name_dict['freedom'] = 'freedom'\n",
    "column_name_dict['score'] = 'happiness_score'\n",
    "column_name_dict['social_support'] = 'social_support'\n",
    "column_name_dict['healthy_life_expectancy'] = 'health_life_expectancy'\n",
    "column_name_dict['economy_gdp_per_capita_'] = 'gdp_per_capita'\n",
    "column_name_dict['family'] = 'family'"
   ]
  },
  {
   "cell_type": "code",
   "execution_count": 6,
   "id": "41376875",
   "metadata": {
    "ExecuteTime": {
     "end_time": "2022-01-08T11:30:49.178879Z",
     "start_time": "2022-01-08T11:30:49.165925Z"
    }
   },
   "outputs": [
    {
     "data": {
      "text/plain": [
       "{'health_life_expectancy_': 'health_life_expectancy',\n",
       " 'country_or_region': 'country',\n",
       " 'upper_confidence_interval': 'upper_confidence_interval',\n",
       " 'perceptions_of_corruption': 'corruption',\n",
       " 'whisker_high': 'whisker_high',\n",
       " 'region': 'region',\n",
       " 'generosity': 'generosity',\n",
       " 'country': 'country',\n",
       " 'gdp_per_capita': 'gdp_per_capita',\n",
       " 'freedom_to_make_life_choices': 'freedom',\n",
       " 'standard_error': 'standard_error',\n",
       " 'happiness_score': 'happiness_score',\n",
       " 'whisker_low': 'whisker_low',\n",
       " 'happiness_rank': 'happiness_rank',\n",
       " 'lower_confidence_interval': 'lower_confidence_interval',\n",
       " 'overall_rank': 'happiness_rank',\n",
       " 'dystopia_residual': 'dystopia',\n",
       " 'trust_government_corruption_': 'corruption',\n",
       " 'freedom': 'freedom',\n",
       " 'score': 'happiness_score',\n",
       " 'social_support': 'social_support',\n",
       " 'healthy_life_expectancy': 'health_life_expectancy',\n",
       " 'economy_gdp_per_capita_': 'gdp_per_capita',\n",
       " 'family': 'family'}"
      ]
     },
     "execution_count": 6,
     "metadata": {},
     "output_type": "execute_result"
    }
   ],
   "source": [
    "column_name_dict"
   ]
  },
  {
   "cell_type": "code",
   "execution_count": 7,
   "id": "321ea58f",
   "metadata": {
    "ExecuteTime": {
     "end_time": "2022-01-08T11:30:49.659218Z",
     "start_time": "2022-01-08T11:30:49.622452Z"
    }
   },
   "outputs": [
    {
     "name": "stdout",
     "output_type": "stream",
     "text": [
      "Carregando 2015.csv\n",
      "Index(['country', 'region', 'happiness_rank', 'happiness_score',\n",
      "       'standard_error', 'gdp_per_capita', 'family', 'health_life_expectancy',\n",
      "       'freedom', 'corruption', 'generosity', 'dystopia', 'year'],\n",
      "      dtype='object')\n",
      "Carregando 2016.csv\n",
      "Index(['country', 'region', 'happiness_rank', 'happiness_score',\n",
      "       'lower_confidence_interval', 'upper_confidence_interval',\n",
      "       'gdp_per_capita', 'family', 'health_life_expectancy', 'freedom',\n",
      "       'corruption', 'generosity', 'dystopia', 'year'],\n",
      "      dtype='object')\n",
      "Carregando 2017.csv\n",
      "Index(['country', 'happiness_rank', 'happiness_score', 'whisker_high',\n",
      "       'whisker_low', 'gdp_per_capita', 'family', 'health_life_expectancy',\n",
      "       'freedom', 'generosity', 'corruption', 'dystopia', 'year'],\n",
      "      dtype='object')\n",
      "Carregando 2018.csv\n",
      "Index(['happiness_rank', 'country', 'happiness_score', 'gdp_per_capita',\n",
      "       'social_support', 'health_life_expectancy', 'freedom', 'generosity',\n",
      "       'corruption', 'year'],\n",
      "      dtype='object')\n",
      "Carregando 2019.csv\n",
      "Index(['happiness_rank', 'country', 'happiness_score', 'gdp_per_capita',\n",
      "       'social_support', 'health_life_expectancy', 'freedom', 'generosity',\n",
      "       'corruption', 'year'],\n",
      "      dtype='object')\n"
     ]
    }
   ],
   "source": [
    "lista_df = []\n",
    "path = 'data/dados_felicidade/'\n",
    "for csv in os.listdir(path):\n",
    "    print(f'Carregando {csv}')\n",
    "    ano = csv.replace('.csv', '')\n",
    "    df = pd.read_csv(path + csv)\n",
    "    df['year'] = ano\n",
    "    df.columns = [re.sub(pattern, '_', column.lower()) for column in df.columns]\n",
    "    df = df.rename(column_name_dict, axis = 1)\n",
    "    print(df.columns)\n",
    "    lista_df.append(df)"
   ]
  },
  {
   "cell_type": "code",
   "execution_count": 8,
   "id": "5a968742",
   "metadata": {
    "ExecuteTime": {
     "end_time": "2022-01-08T11:30:50.443735Z",
     "start_time": "2022-01-08T11:30:50.403842Z"
    }
   },
   "outputs": [
    {
     "data": {
      "text/html": [
       "<div>\n",
       "<style scoped>\n",
       "    .dataframe tbody tr th:only-of-type {\n",
       "        vertical-align: middle;\n",
       "    }\n",
       "\n",
       "    .dataframe tbody tr th {\n",
       "        vertical-align: top;\n",
       "    }\n",
       "\n",
       "    .dataframe thead th {\n",
       "        text-align: right;\n",
       "    }\n",
       "</style>\n",
       "<table border=\"1\" class=\"dataframe\">\n",
       "  <thead>\n",
       "    <tr style=\"text-align: right;\">\n",
       "      <th></th>\n",
       "      <th>country</th>\n",
       "      <th>region</th>\n",
       "      <th>happiness_rank</th>\n",
       "      <th>happiness_score</th>\n",
       "      <th>standard_error</th>\n",
       "      <th>gdp_per_capita</th>\n",
       "      <th>family</th>\n",
       "      <th>health_life_expectancy</th>\n",
       "      <th>freedom</th>\n",
       "      <th>corruption</th>\n",
       "      <th>generosity</th>\n",
       "      <th>dystopia</th>\n",
       "      <th>year</th>\n",
       "      <th>lower_confidence_interval</th>\n",
       "      <th>upper_confidence_interval</th>\n",
       "      <th>whisker_high</th>\n",
       "      <th>whisker_low</th>\n",
       "      <th>social_support</th>\n",
       "    </tr>\n",
       "  </thead>\n",
       "  <tbody>\n",
       "    <tr>\n",
       "      <th>0</th>\n",
       "      <td>Switzerland</td>\n",
       "      <td>Western Europe</td>\n",
       "      <td>1</td>\n",
       "      <td>7.587</td>\n",
       "      <td>0.03411</td>\n",
       "      <td>1.39651</td>\n",
       "      <td>1.34951</td>\n",
       "      <td>0.94143</td>\n",
       "      <td>0.66557</td>\n",
       "      <td>0.41978</td>\n",
       "      <td>0.29678</td>\n",
       "      <td>2.51738</td>\n",
       "      <td>2015</td>\n",
       "      <td>NaN</td>\n",
       "      <td>NaN</td>\n",
       "      <td>NaN</td>\n",
       "      <td>NaN</td>\n",
       "      <td>NaN</td>\n",
       "    </tr>\n",
       "    <tr>\n",
       "      <th>1</th>\n",
       "      <td>Iceland</td>\n",
       "      <td>Western Europe</td>\n",
       "      <td>2</td>\n",
       "      <td>7.561</td>\n",
       "      <td>0.04884</td>\n",
       "      <td>1.30232</td>\n",
       "      <td>1.40223</td>\n",
       "      <td>0.94784</td>\n",
       "      <td>0.62877</td>\n",
       "      <td>0.14145</td>\n",
       "      <td>0.43630</td>\n",
       "      <td>2.70201</td>\n",
       "      <td>2015</td>\n",
       "      <td>NaN</td>\n",
       "      <td>NaN</td>\n",
       "      <td>NaN</td>\n",
       "      <td>NaN</td>\n",
       "      <td>NaN</td>\n",
       "    </tr>\n",
       "    <tr>\n",
       "      <th>2</th>\n",
       "      <td>Denmark</td>\n",
       "      <td>Western Europe</td>\n",
       "      <td>3</td>\n",
       "      <td>7.527</td>\n",
       "      <td>0.03328</td>\n",
       "      <td>1.32548</td>\n",
       "      <td>1.36058</td>\n",
       "      <td>0.87464</td>\n",
       "      <td>0.64938</td>\n",
       "      <td>0.48357</td>\n",
       "      <td>0.34139</td>\n",
       "      <td>2.49204</td>\n",
       "      <td>2015</td>\n",
       "      <td>NaN</td>\n",
       "      <td>NaN</td>\n",
       "      <td>NaN</td>\n",
       "      <td>NaN</td>\n",
       "      <td>NaN</td>\n",
       "    </tr>\n",
       "    <tr>\n",
       "      <th>3</th>\n",
       "      <td>Norway</td>\n",
       "      <td>Western Europe</td>\n",
       "      <td>4</td>\n",
       "      <td>7.522</td>\n",
       "      <td>0.03880</td>\n",
       "      <td>1.45900</td>\n",
       "      <td>1.33095</td>\n",
       "      <td>0.88521</td>\n",
       "      <td>0.66973</td>\n",
       "      <td>0.36503</td>\n",
       "      <td>0.34699</td>\n",
       "      <td>2.46531</td>\n",
       "      <td>2015</td>\n",
       "      <td>NaN</td>\n",
       "      <td>NaN</td>\n",
       "      <td>NaN</td>\n",
       "      <td>NaN</td>\n",
       "      <td>NaN</td>\n",
       "    </tr>\n",
       "    <tr>\n",
       "      <th>4</th>\n",
       "      <td>Canada</td>\n",
       "      <td>North America</td>\n",
       "      <td>5</td>\n",
       "      <td>7.427</td>\n",
       "      <td>0.03553</td>\n",
       "      <td>1.32629</td>\n",
       "      <td>1.32261</td>\n",
       "      <td>0.90563</td>\n",
       "      <td>0.63297</td>\n",
       "      <td>0.32957</td>\n",
       "      <td>0.45811</td>\n",
       "      <td>2.45176</td>\n",
       "      <td>2015</td>\n",
       "      <td>NaN</td>\n",
       "      <td>NaN</td>\n",
       "      <td>NaN</td>\n",
       "      <td>NaN</td>\n",
       "      <td>NaN</td>\n",
       "    </tr>\n",
       "    <tr>\n",
       "      <th>...</th>\n",
       "      <td>...</td>\n",
       "      <td>...</td>\n",
       "      <td>...</td>\n",
       "      <td>...</td>\n",
       "      <td>...</td>\n",
       "      <td>...</td>\n",
       "      <td>...</td>\n",
       "      <td>...</td>\n",
       "      <td>...</td>\n",
       "      <td>...</td>\n",
       "      <td>...</td>\n",
       "      <td>...</td>\n",
       "      <td>...</td>\n",
       "      <td>...</td>\n",
       "      <td>...</td>\n",
       "      <td>...</td>\n",
       "      <td>...</td>\n",
       "      <td>...</td>\n",
       "    </tr>\n",
       "    <tr>\n",
       "      <th>777</th>\n",
       "      <td>Rwanda</td>\n",
       "      <td>NaN</td>\n",
       "      <td>152</td>\n",
       "      <td>3.334</td>\n",
       "      <td>NaN</td>\n",
       "      <td>0.35900</td>\n",
       "      <td>NaN</td>\n",
       "      <td>0.61400</td>\n",
       "      <td>0.55500</td>\n",
       "      <td>0.41100</td>\n",
       "      <td>0.21700</td>\n",
       "      <td>NaN</td>\n",
       "      <td>2019</td>\n",
       "      <td>NaN</td>\n",
       "      <td>NaN</td>\n",
       "      <td>NaN</td>\n",
       "      <td>NaN</td>\n",
       "      <td>0.711</td>\n",
       "    </tr>\n",
       "    <tr>\n",
       "      <th>778</th>\n",
       "      <td>Tanzania</td>\n",
       "      <td>NaN</td>\n",
       "      <td>153</td>\n",
       "      <td>3.231</td>\n",
       "      <td>NaN</td>\n",
       "      <td>0.47600</td>\n",
       "      <td>NaN</td>\n",
       "      <td>0.49900</td>\n",
       "      <td>0.41700</td>\n",
       "      <td>0.14700</td>\n",
       "      <td>0.27600</td>\n",
       "      <td>NaN</td>\n",
       "      <td>2019</td>\n",
       "      <td>NaN</td>\n",
       "      <td>NaN</td>\n",
       "      <td>NaN</td>\n",
       "      <td>NaN</td>\n",
       "      <td>0.885</td>\n",
       "    </tr>\n",
       "    <tr>\n",
       "      <th>779</th>\n",
       "      <td>Afghanistan</td>\n",
       "      <td>NaN</td>\n",
       "      <td>154</td>\n",
       "      <td>3.203</td>\n",
       "      <td>NaN</td>\n",
       "      <td>0.35000</td>\n",
       "      <td>NaN</td>\n",
       "      <td>0.36100</td>\n",
       "      <td>0.00000</td>\n",
       "      <td>0.02500</td>\n",
       "      <td>0.15800</td>\n",
       "      <td>NaN</td>\n",
       "      <td>2019</td>\n",
       "      <td>NaN</td>\n",
       "      <td>NaN</td>\n",
       "      <td>NaN</td>\n",
       "      <td>NaN</td>\n",
       "      <td>0.517</td>\n",
       "    </tr>\n",
       "    <tr>\n",
       "      <th>780</th>\n",
       "      <td>Central African Republic</td>\n",
       "      <td>NaN</td>\n",
       "      <td>155</td>\n",
       "      <td>3.083</td>\n",
       "      <td>NaN</td>\n",
       "      <td>0.02600</td>\n",
       "      <td>NaN</td>\n",
       "      <td>0.10500</td>\n",
       "      <td>0.22500</td>\n",
       "      <td>0.03500</td>\n",
       "      <td>0.23500</td>\n",
       "      <td>NaN</td>\n",
       "      <td>2019</td>\n",
       "      <td>NaN</td>\n",
       "      <td>NaN</td>\n",
       "      <td>NaN</td>\n",
       "      <td>NaN</td>\n",
       "      <td>0.000</td>\n",
       "    </tr>\n",
       "    <tr>\n",
       "      <th>781</th>\n",
       "      <td>South Sudan</td>\n",
       "      <td>NaN</td>\n",
       "      <td>156</td>\n",
       "      <td>2.853</td>\n",
       "      <td>NaN</td>\n",
       "      <td>0.30600</td>\n",
       "      <td>NaN</td>\n",
       "      <td>0.29500</td>\n",
       "      <td>0.01000</td>\n",
       "      <td>0.09100</td>\n",
       "      <td>0.20200</td>\n",
       "      <td>NaN</td>\n",
       "      <td>2019</td>\n",
       "      <td>NaN</td>\n",
       "      <td>NaN</td>\n",
       "      <td>NaN</td>\n",
       "      <td>NaN</td>\n",
       "      <td>0.575</td>\n",
       "    </tr>\n",
       "  </tbody>\n",
       "</table>\n",
       "<p>782 rows × 18 columns</p>\n",
       "</div>"
      ],
      "text/plain": [
       "                      country          region  happiness_rank  \\\n",
       "0                 Switzerland  Western Europe               1   \n",
       "1                     Iceland  Western Europe               2   \n",
       "2                     Denmark  Western Europe               3   \n",
       "3                      Norway  Western Europe               4   \n",
       "4                      Canada   North America               5   \n",
       "..                        ...             ...             ...   \n",
       "777                    Rwanda             NaN             152   \n",
       "778                  Tanzania             NaN             153   \n",
       "779               Afghanistan             NaN             154   \n",
       "780  Central African Republic             NaN             155   \n",
       "781               South Sudan             NaN             156   \n",
       "\n",
       "     happiness_score  standard_error  gdp_per_capita   family  \\\n",
       "0              7.587         0.03411         1.39651  1.34951   \n",
       "1              7.561         0.04884         1.30232  1.40223   \n",
       "2              7.527         0.03328         1.32548  1.36058   \n",
       "3              7.522         0.03880         1.45900  1.33095   \n",
       "4              7.427         0.03553         1.32629  1.32261   \n",
       "..               ...             ...             ...      ...   \n",
       "777            3.334             NaN         0.35900      NaN   \n",
       "778            3.231             NaN         0.47600      NaN   \n",
       "779            3.203             NaN         0.35000      NaN   \n",
       "780            3.083             NaN         0.02600      NaN   \n",
       "781            2.853             NaN         0.30600      NaN   \n",
       "\n",
       "     health_life_expectancy  freedom  corruption  generosity  dystopia  year  \\\n",
       "0                   0.94143  0.66557     0.41978     0.29678   2.51738  2015   \n",
       "1                   0.94784  0.62877     0.14145     0.43630   2.70201  2015   \n",
       "2                   0.87464  0.64938     0.48357     0.34139   2.49204  2015   \n",
       "3                   0.88521  0.66973     0.36503     0.34699   2.46531  2015   \n",
       "4                   0.90563  0.63297     0.32957     0.45811   2.45176  2015   \n",
       "..                      ...      ...         ...         ...       ...   ...   \n",
       "777                 0.61400  0.55500     0.41100     0.21700       NaN  2019   \n",
       "778                 0.49900  0.41700     0.14700     0.27600       NaN  2019   \n",
       "779                 0.36100  0.00000     0.02500     0.15800       NaN  2019   \n",
       "780                 0.10500  0.22500     0.03500     0.23500       NaN  2019   \n",
       "781                 0.29500  0.01000     0.09100     0.20200       NaN  2019   \n",
       "\n",
       "     lower_confidence_interval  upper_confidence_interval  whisker_high  \\\n",
       "0                          NaN                        NaN           NaN   \n",
       "1                          NaN                        NaN           NaN   \n",
       "2                          NaN                        NaN           NaN   \n",
       "3                          NaN                        NaN           NaN   \n",
       "4                          NaN                        NaN           NaN   \n",
       "..                         ...                        ...           ...   \n",
       "777                        NaN                        NaN           NaN   \n",
       "778                        NaN                        NaN           NaN   \n",
       "779                        NaN                        NaN           NaN   \n",
       "780                        NaN                        NaN           NaN   \n",
       "781                        NaN                        NaN           NaN   \n",
       "\n",
       "     whisker_low  social_support  \n",
       "0            NaN             NaN  \n",
       "1            NaN             NaN  \n",
       "2            NaN             NaN  \n",
       "3            NaN             NaN  \n",
       "4            NaN             NaN  \n",
       "..           ...             ...  \n",
       "777          NaN           0.711  \n",
       "778          NaN           0.885  \n",
       "779          NaN           0.517  \n",
       "780          NaN           0.000  \n",
       "781          NaN           0.575  \n",
       "\n",
       "[782 rows x 18 columns]"
      ]
     },
     "execution_count": 8,
     "metadata": {},
     "output_type": "execute_result"
    }
   ],
   "source": [
    "tb_happy = pd.concat(lista_df, axis = 0, ignore_index=True)\n",
    "tb_happy"
   ]
  },
  {
   "cell_type": "markdown",
   "id": "3b495086",
   "metadata": {},
   "source": [
    "## Limpeza de Informações"
   ]
  },
  {
   "cell_type": "markdown",
   "id": "5e229267",
   "metadata": {},
   "source": [
    "### (Re)Construção da coluna `region`"
   ]
  },
  {
   "cell_type": "code",
   "execution_count": 9,
   "id": "5646f71c",
   "metadata": {
    "ExecuteTime": {
     "end_time": "2022-01-08T11:30:53.224189Z",
     "start_time": "2022-01-08T11:30:53.182125Z"
    }
   },
   "outputs": [
    {
     "data": {
      "text/html": [
       "<div>\n",
       "<style scoped>\n",
       "    .dataframe tbody tr th:only-of-type {\n",
       "        vertical-align: middle;\n",
       "    }\n",
       "\n",
       "    .dataframe tbody tr th {\n",
       "        vertical-align: top;\n",
       "    }\n",
       "\n",
       "    .dataframe thead th {\n",
       "        text-align: right;\n",
       "    }\n",
       "</style>\n",
       "<table border=\"1\" class=\"dataframe\">\n",
       "  <thead>\n",
       "    <tr style=\"text-align: right;\">\n",
       "      <th></th>\n",
       "      <th>region_cons</th>\n",
       "    </tr>\n",
       "    <tr>\n",
       "      <th>country</th>\n",
       "      <th></th>\n",
       "    </tr>\n",
       "  </thead>\n",
       "  <tbody>\n",
       "    <tr>\n",
       "      <th>Afghanistan</th>\n",
       "      <td>Southern Asia</td>\n",
       "    </tr>\n",
       "    <tr>\n",
       "      <th>Albania</th>\n",
       "      <td>Central and Eastern Europe</td>\n",
       "    </tr>\n",
       "    <tr>\n",
       "      <th>Algeria</th>\n",
       "      <td>Middle East and Northern Africa</td>\n",
       "    </tr>\n",
       "    <tr>\n",
       "      <th>Angola</th>\n",
       "      <td>Sub-Saharan Africa</td>\n",
       "    </tr>\n",
       "    <tr>\n",
       "      <th>Argentina</th>\n",
       "      <td>Latin America and Caribbean</td>\n",
       "    </tr>\n",
       "    <tr>\n",
       "      <th>...</th>\n",
       "      <td>...</td>\n",
       "    </tr>\n",
       "    <tr>\n",
       "      <th>Venezuela</th>\n",
       "      <td>Latin America and Caribbean</td>\n",
       "    </tr>\n",
       "    <tr>\n",
       "      <th>Vietnam</th>\n",
       "      <td>Southeastern Asia</td>\n",
       "    </tr>\n",
       "    <tr>\n",
       "      <th>Yemen</th>\n",
       "      <td>Middle East and Northern Africa</td>\n",
       "    </tr>\n",
       "    <tr>\n",
       "      <th>Zambia</th>\n",
       "      <td>Sub-Saharan Africa</td>\n",
       "    </tr>\n",
       "    <tr>\n",
       "      <th>Zimbabwe</th>\n",
       "      <td>Sub-Saharan Africa</td>\n",
       "    </tr>\n",
       "  </tbody>\n",
       "</table>\n",
       "<p>164 rows × 1 columns</p>\n",
       "</div>"
      ],
      "text/plain": [
       "                                 region_cons\n",
       "country                                     \n",
       "Afghanistan                    Southern Asia\n",
       "Albania           Central and Eastern Europe\n",
       "Algeria      Middle East and Northern Africa\n",
       "Angola                    Sub-Saharan Africa\n",
       "Argentina        Latin America and Caribbean\n",
       "...                                      ...\n",
       "Venezuela        Latin America and Caribbean\n",
       "Vietnam                    Southeastern Asia\n",
       "Yemen        Middle East and Northern Africa\n",
       "Zambia                    Sub-Saharan Africa\n",
       "Zimbabwe                  Sub-Saharan Africa\n",
       "\n",
       "[164 rows x 1 columns]"
      ]
     },
     "execution_count": 9,
     "metadata": {},
     "output_type": "execute_result"
    }
   ],
   "source": [
    "tb_paises = tb_happy[['country', 'region']].dropna()\n",
    "tb_paises = tb_paises.groupby('country').first()\n",
    "tb_paises = tb_paises.rename({'region' : 'region_cons'}, axis = 1)\n",
    "tb_paises"
   ]
  },
  {
   "cell_type": "code",
   "execution_count": 10,
   "id": "32755473",
   "metadata": {
    "ExecuteTime": {
     "end_time": "2022-01-08T11:30:54.069904Z",
     "start_time": "2022-01-08T11:30:54.034993Z"
    }
   },
   "outputs": [
    {
     "data": {
      "text/html": [
       "<div>\n",
       "<style scoped>\n",
       "    .dataframe tbody tr th:only-of-type {\n",
       "        vertical-align: middle;\n",
       "    }\n",
       "\n",
       "    .dataframe tbody tr th {\n",
       "        vertical-align: top;\n",
       "    }\n",
       "\n",
       "    .dataframe thead th {\n",
       "        text-align: right;\n",
       "    }\n",
       "</style>\n",
       "<table border=\"1\" class=\"dataframe\">\n",
       "  <thead>\n",
       "    <tr style=\"text-align: right;\">\n",
       "      <th></th>\n",
       "      <th>country</th>\n",
       "      <th>region</th>\n",
       "      <th>happiness_rank</th>\n",
       "      <th>happiness_score</th>\n",
       "      <th>standard_error</th>\n",
       "      <th>gdp_per_capita</th>\n",
       "      <th>family</th>\n",
       "      <th>health_life_expectancy</th>\n",
       "      <th>freedom</th>\n",
       "      <th>corruption</th>\n",
       "      <th>generosity</th>\n",
       "      <th>dystopia</th>\n",
       "      <th>year</th>\n",
       "      <th>lower_confidence_interval</th>\n",
       "      <th>upper_confidence_interval</th>\n",
       "      <th>whisker_high</th>\n",
       "      <th>whisker_low</th>\n",
       "      <th>social_support</th>\n",
       "      <th>region_cons</th>\n",
       "    </tr>\n",
       "  </thead>\n",
       "  <tbody>\n",
       "    <tr>\n",
       "      <th>0</th>\n",
       "      <td>Switzerland</td>\n",
       "      <td>Western Europe</td>\n",
       "      <td>1</td>\n",
       "      <td>7.587</td>\n",
       "      <td>0.03411</td>\n",
       "      <td>1.396510</td>\n",
       "      <td>1.349510</td>\n",
       "      <td>0.941430</td>\n",
       "      <td>0.665570</td>\n",
       "      <td>0.419780</td>\n",
       "      <td>0.296780</td>\n",
       "      <td>2.517380</td>\n",
       "      <td>2015</td>\n",
       "      <td>NaN</td>\n",
       "      <td>NaN</td>\n",
       "      <td>NaN</td>\n",
       "      <td>NaN</td>\n",
       "      <td>NaN</td>\n",
       "      <td>Western Europe</td>\n",
       "    </tr>\n",
       "    <tr>\n",
       "      <th>1</th>\n",
       "      <td>Switzerland</td>\n",
       "      <td>Western Europe</td>\n",
       "      <td>2</td>\n",
       "      <td>7.509</td>\n",
       "      <td>NaN</td>\n",
       "      <td>1.527330</td>\n",
       "      <td>1.145240</td>\n",
       "      <td>0.863030</td>\n",
       "      <td>0.585570</td>\n",
       "      <td>0.412030</td>\n",
       "      <td>0.280830</td>\n",
       "      <td>2.694630</td>\n",
       "      <td>2016</td>\n",
       "      <td>7.428</td>\n",
       "      <td>7.590</td>\n",
       "      <td>NaN</td>\n",
       "      <td>NaN</td>\n",
       "      <td>NaN</td>\n",
       "      <td>Western Europe</td>\n",
       "    </tr>\n",
       "    <tr>\n",
       "      <th>2</th>\n",
       "      <td>Switzerland</td>\n",
       "      <td>NaN</td>\n",
       "      <td>4</td>\n",
       "      <td>7.494</td>\n",
       "      <td>NaN</td>\n",
       "      <td>1.564980</td>\n",
       "      <td>1.516912</td>\n",
       "      <td>0.858131</td>\n",
       "      <td>0.620071</td>\n",
       "      <td>0.367007</td>\n",
       "      <td>0.290549</td>\n",
       "      <td>2.276716</td>\n",
       "      <td>2017</td>\n",
       "      <td>NaN</td>\n",
       "      <td>NaN</td>\n",
       "      <td>7.561772</td>\n",
       "      <td>7.426227</td>\n",
       "      <td>NaN</td>\n",
       "      <td>Western Europe</td>\n",
       "    </tr>\n",
       "    <tr>\n",
       "      <th>3</th>\n",
       "      <td>Switzerland</td>\n",
       "      <td>NaN</td>\n",
       "      <td>5</td>\n",
       "      <td>7.487</td>\n",
       "      <td>NaN</td>\n",
       "      <td>1.420000</td>\n",
       "      <td>NaN</td>\n",
       "      <td>0.927000</td>\n",
       "      <td>0.660000</td>\n",
       "      <td>0.357000</td>\n",
       "      <td>0.256000</td>\n",
       "      <td>NaN</td>\n",
       "      <td>2018</td>\n",
       "      <td>NaN</td>\n",
       "      <td>NaN</td>\n",
       "      <td>NaN</td>\n",
       "      <td>NaN</td>\n",
       "      <td>1.549</td>\n",
       "      <td>Western Europe</td>\n",
       "    </tr>\n",
       "    <tr>\n",
       "      <th>4</th>\n",
       "      <td>Switzerland</td>\n",
       "      <td>NaN</td>\n",
       "      <td>6</td>\n",
       "      <td>7.480</td>\n",
       "      <td>NaN</td>\n",
       "      <td>1.452000</td>\n",
       "      <td>NaN</td>\n",
       "      <td>1.052000</td>\n",
       "      <td>0.572000</td>\n",
       "      <td>0.343000</td>\n",
       "      <td>0.263000</td>\n",
       "      <td>NaN</td>\n",
       "      <td>2019</td>\n",
       "      <td>NaN</td>\n",
       "      <td>NaN</td>\n",
       "      <td>NaN</td>\n",
       "      <td>NaN</td>\n",
       "      <td>1.526</td>\n",
       "      <td>Western Europe</td>\n",
       "    </tr>\n",
       "    <tr>\n",
       "      <th>...</th>\n",
       "      <td>...</td>\n",
       "      <td>...</td>\n",
       "      <td>...</td>\n",
       "      <td>...</td>\n",
       "      <td>...</td>\n",
       "      <td>...</td>\n",
       "      <td>...</td>\n",
       "      <td>...</td>\n",
       "      <td>...</td>\n",
       "      <td>...</td>\n",
       "      <td>...</td>\n",
       "      <td>...</td>\n",
       "      <td>...</td>\n",
       "      <td>...</td>\n",
       "      <td>...</td>\n",
       "      <td>...</td>\n",
       "      <td>...</td>\n",
       "      <td>...</td>\n",
       "      <td>...</td>\n",
       "    </tr>\n",
       "    <tr>\n",
       "      <th>769</th>\n",
       "      <td>Namibia</td>\n",
       "      <td>NaN</td>\n",
       "      <td>113</td>\n",
       "      <td>4.639</td>\n",
       "      <td>NaN</td>\n",
       "      <td>0.879000</td>\n",
       "      <td>NaN</td>\n",
       "      <td>0.477000</td>\n",
       "      <td>0.401000</td>\n",
       "      <td>0.056000</td>\n",
       "      <td>0.070000</td>\n",
       "      <td>NaN</td>\n",
       "      <td>2019</td>\n",
       "      <td>NaN</td>\n",
       "      <td>NaN</td>\n",
       "      <td>NaN</td>\n",
       "      <td>NaN</td>\n",
       "      <td>1.313</td>\n",
       "      <td>Sub-Saharan Africa</td>\n",
       "    </tr>\n",
       "    <tr>\n",
       "      <th>770</th>\n",
       "      <td>South Sudan</td>\n",
       "      <td>Sub-Saharan Africa</td>\n",
       "      <td>143</td>\n",
       "      <td>3.832</td>\n",
       "      <td>NaN</td>\n",
       "      <td>0.393940</td>\n",
       "      <td>0.185190</td>\n",
       "      <td>0.157810</td>\n",
       "      <td>0.196620</td>\n",
       "      <td>0.130150</td>\n",
       "      <td>0.258990</td>\n",
       "      <td>2.509290</td>\n",
       "      <td>2016</td>\n",
       "      <td>3.596</td>\n",
       "      <td>4.068</td>\n",
       "      <td>NaN</td>\n",
       "      <td>NaN</td>\n",
       "      <td>NaN</td>\n",
       "      <td>Sub-Saharan Africa</td>\n",
       "    </tr>\n",
       "    <tr>\n",
       "      <th>771</th>\n",
       "      <td>South Sudan</td>\n",
       "      <td>NaN</td>\n",
       "      <td>147</td>\n",
       "      <td>3.591</td>\n",
       "      <td>NaN</td>\n",
       "      <td>0.397249</td>\n",
       "      <td>0.601323</td>\n",
       "      <td>0.163486</td>\n",
       "      <td>0.147062</td>\n",
       "      <td>0.116794</td>\n",
       "      <td>0.285671</td>\n",
       "      <td>1.879567</td>\n",
       "      <td>2017</td>\n",
       "      <td>NaN</td>\n",
       "      <td>NaN</td>\n",
       "      <td>3.725539</td>\n",
       "      <td>3.456462</td>\n",
       "      <td>NaN</td>\n",
       "      <td>Sub-Saharan Africa</td>\n",
       "    </tr>\n",
       "    <tr>\n",
       "      <th>772</th>\n",
       "      <td>South Sudan</td>\n",
       "      <td>NaN</td>\n",
       "      <td>154</td>\n",
       "      <td>3.254</td>\n",
       "      <td>NaN</td>\n",
       "      <td>0.337000</td>\n",
       "      <td>NaN</td>\n",
       "      <td>0.177000</td>\n",
       "      <td>0.112000</td>\n",
       "      <td>0.106000</td>\n",
       "      <td>0.224000</td>\n",
       "      <td>NaN</td>\n",
       "      <td>2018</td>\n",
       "      <td>NaN</td>\n",
       "      <td>NaN</td>\n",
       "      <td>NaN</td>\n",
       "      <td>NaN</td>\n",
       "      <td>0.608</td>\n",
       "      <td>Sub-Saharan Africa</td>\n",
       "    </tr>\n",
       "    <tr>\n",
       "      <th>773</th>\n",
       "      <td>South Sudan</td>\n",
       "      <td>NaN</td>\n",
       "      <td>156</td>\n",
       "      <td>2.853</td>\n",
       "      <td>NaN</td>\n",
       "      <td>0.306000</td>\n",
       "      <td>NaN</td>\n",
       "      <td>0.295000</td>\n",
       "      <td>0.010000</td>\n",
       "      <td>0.091000</td>\n",
       "      <td>0.202000</td>\n",
       "      <td>NaN</td>\n",
       "      <td>2019</td>\n",
       "      <td>NaN</td>\n",
       "      <td>NaN</td>\n",
       "      <td>NaN</td>\n",
       "      <td>NaN</td>\n",
       "      <td>0.575</td>\n",
       "      <td>Sub-Saharan Africa</td>\n",
       "    </tr>\n",
       "  </tbody>\n",
       "</table>\n",
       "<p>774 rows × 19 columns</p>\n",
       "</div>"
      ],
      "text/plain": [
       "         country              region  happiness_rank  happiness_score  \\\n",
       "0    Switzerland      Western Europe               1            7.587   \n",
       "1    Switzerland      Western Europe               2            7.509   \n",
       "2    Switzerland                 NaN               4            7.494   \n",
       "3    Switzerland                 NaN               5            7.487   \n",
       "4    Switzerland                 NaN               6            7.480   \n",
       "..           ...                 ...             ...              ...   \n",
       "769      Namibia                 NaN             113            4.639   \n",
       "770  South Sudan  Sub-Saharan Africa             143            3.832   \n",
       "771  South Sudan                 NaN             147            3.591   \n",
       "772  South Sudan                 NaN             154            3.254   \n",
       "773  South Sudan                 NaN             156            2.853   \n",
       "\n",
       "     standard_error  gdp_per_capita    family  health_life_expectancy  \\\n",
       "0           0.03411        1.396510  1.349510                0.941430   \n",
       "1               NaN        1.527330  1.145240                0.863030   \n",
       "2               NaN        1.564980  1.516912                0.858131   \n",
       "3               NaN        1.420000       NaN                0.927000   \n",
       "4               NaN        1.452000       NaN                1.052000   \n",
       "..              ...             ...       ...                     ...   \n",
       "769             NaN        0.879000       NaN                0.477000   \n",
       "770             NaN        0.393940  0.185190                0.157810   \n",
       "771             NaN        0.397249  0.601323                0.163486   \n",
       "772             NaN        0.337000       NaN                0.177000   \n",
       "773             NaN        0.306000       NaN                0.295000   \n",
       "\n",
       "      freedom  corruption  generosity  dystopia  year  \\\n",
       "0    0.665570    0.419780    0.296780  2.517380  2015   \n",
       "1    0.585570    0.412030    0.280830  2.694630  2016   \n",
       "2    0.620071    0.367007    0.290549  2.276716  2017   \n",
       "3    0.660000    0.357000    0.256000       NaN  2018   \n",
       "4    0.572000    0.343000    0.263000       NaN  2019   \n",
       "..        ...         ...         ...       ...   ...   \n",
       "769  0.401000    0.056000    0.070000       NaN  2019   \n",
       "770  0.196620    0.130150    0.258990  2.509290  2016   \n",
       "771  0.147062    0.116794    0.285671  1.879567  2017   \n",
       "772  0.112000    0.106000    0.224000       NaN  2018   \n",
       "773  0.010000    0.091000    0.202000       NaN  2019   \n",
       "\n",
       "     lower_confidence_interval  upper_confidence_interval  whisker_high  \\\n",
       "0                          NaN                        NaN           NaN   \n",
       "1                        7.428                      7.590           NaN   \n",
       "2                          NaN                        NaN      7.561772   \n",
       "3                          NaN                        NaN           NaN   \n",
       "4                          NaN                        NaN           NaN   \n",
       "..                         ...                        ...           ...   \n",
       "769                        NaN                        NaN           NaN   \n",
       "770                      3.596                      4.068           NaN   \n",
       "771                        NaN                        NaN      3.725539   \n",
       "772                        NaN                        NaN           NaN   \n",
       "773                        NaN                        NaN           NaN   \n",
       "\n",
       "     whisker_low  social_support         region_cons  \n",
       "0            NaN             NaN      Western Europe  \n",
       "1            NaN             NaN      Western Europe  \n",
       "2       7.426227             NaN      Western Europe  \n",
       "3            NaN           1.549      Western Europe  \n",
       "4            NaN           1.526      Western Europe  \n",
       "..           ...             ...                 ...  \n",
       "769          NaN           1.313  Sub-Saharan Africa  \n",
       "770          NaN             NaN  Sub-Saharan Africa  \n",
       "771     3.456462             NaN  Sub-Saharan Africa  \n",
       "772          NaN           0.608  Sub-Saharan Africa  \n",
       "773          NaN           0.575  Sub-Saharan Africa  \n",
       "\n",
       "[774 rows x 19 columns]"
      ]
     },
     "execution_count": 10,
     "metadata": {},
     "output_type": "execute_result"
    }
   ],
   "source": [
    "tb_happy = pd.merge(tb_happy, tb_paises, on = 'country')\n",
    "tb_happy"
   ]
  },
  {
   "cell_type": "markdown",
   "id": "740a48bd",
   "metadata": {},
   "source": [
    "### Limpeza de Colunas NA"
   ]
  },
  {
   "cell_type": "code",
   "execution_count": 11,
   "id": "2a504b91",
   "metadata": {
    "ExecuteTime": {
     "end_time": "2022-01-08T11:30:55.489872Z",
     "start_time": "2022-01-08T11:30:55.472895Z"
    }
   },
   "outputs": [],
   "source": [
    "tb_happy = tb_happy.drop('region', axis = 1)\n",
    "thresh = int(len(tb_happy) * 0.3)\n",
    "tb_happy = tb_happy.dropna(axis = 1, thresh = thresh)\n"
   ]
  },
  {
   "cell_type": "code",
   "execution_count": 13,
   "id": "4a675f73",
   "metadata": {
    "ExecuteTime": {
     "end_time": "2022-01-08T11:31:03.711912Z",
     "start_time": "2022-01-08T11:31:03.685983Z"
    }
   },
   "outputs": [
    {
     "name": "stdout",
     "output_type": "stream",
     "text": [
      "<class 'pandas.core.frame.DataFrame'>\n",
      "Int64Index: 774 entries, 0 to 773\n",
      "Data columns (total 13 columns):\n",
      " #   Column                  Non-Null Count  Dtype  \n",
      "---  ------                  --------------  -----  \n",
      " 0   country                 774 non-null    object \n",
      " 1   happiness_rank          774 non-null    int64  \n",
      " 2   happiness_score         774 non-null    float64\n",
      " 3   gdp_per_capita          774 non-null    float64\n",
      " 4   family                  468 non-null    float64\n",
      " 5   health_life_expectancy  774 non-null    float64\n",
      " 6   freedom                 774 non-null    float64\n",
      " 7   corruption              773 non-null    float64\n",
      " 8   generosity              774 non-null    float64\n",
      " 9   dystopia                468 non-null    float64\n",
      " 10  year                    774 non-null    object \n",
      " 11  social_support          306 non-null    float64\n",
      " 12  region_cons             774 non-null    object \n",
      "dtypes: float64(9), int64(1), object(3)\n",
      "memory usage: 84.7+ KB\n"
     ]
    }
   ],
   "source": [
    "tb_happy.info()"
   ]
  },
  {
   "cell_type": "code",
   "execution_count": 16,
   "id": "eaeac30d",
   "metadata": {
    "ExecuteTime": {
     "end_time": "2022-01-08T11:48:30.522427Z",
     "start_time": "2022-01-08T11:48:30.500272Z"
    }
   },
   "outputs": [],
   "source": [
    "tb_happy.to_csv('data/tb_happy.csv')"
   ]
  },
  {
   "cell_type": "markdown",
   "id": "7009d616",
   "metadata": {},
   "source": [
    "## Análise de Agregados"
   ]
  },
  {
   "cell_type": "markdown",
   "id": "e36b3378",
   "metadata": {},
   "source": [
    "### Agregado Regional"
   ]
  },
  {
   "cell_type": "code",
   "execution_count": null,
   "id": "5710deee",
   "metadata": {
    "ExecuteTime": {
     "end_time": "2021-12-11T12:22:12.433188Z",
     "start_time": "2021-12-11T12:22:12.403241Z"
    }
   },
   "outputs": [],
   "source": [
    "tb_happy.groupby('region_cons').agg(\n",
    "    mu_happy = pd.NamedAgg('happiness_score', 'mean'),\n",
    "    mu_le = pd.NamedAgg('health_life_expectancy', 'mean')\n",
    ").sort_values('mu_happy')"
   ]
  },
  {
   "cell_type": "code",
   "execution_count": null,
   "id": "22725018",
   "metadata": {
    "ExecuteTime": {
     "end_time": "2021-12-11T12:22:13.178266Z",
     "start_time": "2021-12-11T12:22:13.157104Z"
    }
   },
   "outputs": [],
   "source": [
    "tb_reg = tb_happy.groupby('region_cons').agg(\n",
    "    mu_reg_happy = pd.NamedAgg('happiness_score', 'mean'),\n",
    "    mu_reg_le = pd.NamedAgg('health_life_expectancy', 'mean')\n",
    ")"
   ]
  },
  {
   "cell_type": "markdown",
   "id": "ad4dcbd6",
   "metadata": {},
   "source": [
    "### Relação País-Região"
   ]
  },
  {
   "cell_type": "code",
   "execution_count": null,
   "id": "f05d20bb",
   "metadata": {
    "ExecuteTime": {
     "end_time": "2021-12-11T12:22:14.753293Z",
     "start_time": "2021-12-11T12:22:14.726177Z"
    }
   },
   "outputs": [],
   "source": [
    "tb_happy = pd.merge(tb_happy, tb_reg, on = 'region_cons')\n",
    "tb_happy['prop_reg_country'] = tb_happy['happiness_score']/tb_happy['mu_reg_happy']\n",
    "tb_happy.groupby('country').agg(avg_prop_regcou = pd.NamedAgg('prop_reg_country', 'mean')).sort_values('avg_prop_regcou')"
   ]
  },
  {
   "cell_type": "markdown",
   "id": "3a797901",
   "metadata": {},
   "source": [
    "### Evolução Anual de Felicidade por País"
   ]
  },
  {
   "cell_type": "code",
   "execution_count": null,
   "id": "07dafc96",
   "metadata": {
    "ExecuteTime": {
     "end_time": "2021-12-11T12:28:20.681821Z",
     "start_time": "2021-12-11T12:28:20.616810Z"
    }
   },
   "outputs": [],
   "source": [
    "tb_happy_per = tb_happy.groupby('country').agg(\n",
    "    first_year=pd.NamedAgg('year', 'min'),\n",
    "    last_year=pd.NamedAgg('year', 'max'),\n",
    "    avg_happy=pd.NamedAgg('happiness_score', 'mean'))\n",
    "tb_happy_per = pd.merge(\n",
    "    tb_happy_per,\n",
    "    tb_happy[['country', 'year', 'happiness_score', 'happiness_rank']].rename(\n",
    "        {\n",
    "            'happiness_score': 'first_score',\n",
    "            'happiness_rank': 'first_rank'\n",
    "        },\n",
    "        axis=1),\n",
    "    left_on=['country', 'first_year'],\n",
    "    right_on=['country', 'year'])\n",
    "\n",
    "tb_happy_per = pd.merge(\n",
    "    tb_happy_per,\n",
    "    tb_happy[['country', 'year', 'happiness_score', 'happiness_rank']].rename(\n",
    "        {\n",
    "            'happiness_score': 'last_score',\n",
    "            'happiness_rank': 'last_rank'\n",
    "        },\n",
    "        axis=1),\n",
    "    left_on=['country', 'last_year'],\n",
    "    right_on=['country', 'year'])\n",
    "tb_happy_per = tb_happy_per.drop(['year_x', 'year_y'], axis = 1)"
   ]
  },
  {
   "cell_type": "code",
   "execution_count": null,
   "id": "b5f63972",
   "metadata": {
    "ExecuteTime": {
     "end_time": "2021-12-11T12:28:22.127585Z",
     "start_time": "2021-12-11T12:28:22.107638Z"
    }
   },
   "outputs": [],
   "source": [
    "tb_happy_per"
   ]
  },
  {
   "cell_type": "code",
   "execution_count": null,
   "id": "1a0ea830",
   "metadata": {
    "ExecuteTime": {
     "end_time": "2021-12-11T12:31:12.354946Z",
     "start_time": "2021-12-11T12:31:12.345971Z"
    }
   },
   "outputs": [],
   "source": [
    "tb_happy_per['score_var'] = tb_happy_per['last_score'] - tb_happy_per['first_score']\n",
    "tb_happy_per['num_anos'] = tb_happy_per['last_year'].astype(int) - tb_happy_per['first_year'].astype(int).astype(int) + 1\n",
    "tb_happy_per['score_var_anual'] = tb_happy_per['score_var']/tb_happy_per['num_anos']\n",
    "tb_happy_per['per_score_var_anual'] = tb_happy_per['score_var_anual']/tb_happy_per['avg_happy']"
   ]
  },
  {
   "cell_type": "code",
   "execution_count": null,
   "id": "de4f04ca",
   "metadata": {
    "ExecuteTime": {
     "end_time": "2021-12-11T12:31:56.342911Z",
     "start_time": "2021-12-11T12:31:56.319972Z"
    }
   },
   "outputs": [],
   "source": [
    "tb_happy_per.sort_values('per_score_var_anual')"
   ]
  },
  {
   "cell_type": "code",
   "execution_count": null,
   "id": "160d5ef3",
   "metadata": {
    "ExecuteTime": {
     "end_time": "2021-12-11T12:35:22.771986Z",
     "start_time": "2021-12-11T12:35:22.758024Z"
    }
   },
   "outputs": [],
   "source": [
    "tb_happy_per['classif_var'] = pd.qcut(tb_happy_per['per_score_var_anual'], 4,\n",
    "                                     labels = ['Muito Ruim', 'Ruim', 'Bom', 'Muito Bom'])\n",
    "tb_happy_per['classif_var']"
   ]
  },
  {
   "cell_type": "code",
   "execution_count": null,
   "id": "6b50358f",
   "metadata": {
    "ExecuteTime": {
     "end_time": "2021-12-11T12:36:25.174466Z",
     "start_time": "2021-12-11T12:36:25.147539Z"
    }
   },
   "outputs": [],
   "source": [
    "tb_happy_per[tb_happy_per['country'] == 'Brazil']"
   ]
  },
  {
   "cell_type": "code",
   "execution_count": null,
   "id": "cc80a2bd",
   "metadata": {},
   "outputs": [],
   "source": []
  }
 ],
 "metadata": {
  "hide_input": false,
  "kernelspec": {
   "display_name": "Python 3",
   "language": "python",
   "name": "python3"
  },
  "language_info": {
   "codemirror_mode": {
    "name": "ipython",
    "version": 3
   },
   "file_extension": ".py",
   "mimetype": "text/x-python",
   "name": "python",
   "nbconvert_exporter": "python",
   "pygments_lexer": "ipython3",
   "version": "3.8.8"
  },
  "toc": {
   "base_numbering": 1,
   "nav_menu": {},
   "number_sections": true,
   "sideBar": true,
   "skip_h1_title": false,
   "title_cell": "Table of Contents",
   "title_sidebar": "Contents",
   "toc_cell": true,
   "toc_position": {},
   "toc_section_display": true,
   "toc_window_display": true
  }
 },
 "nbformat": 4,
 "nbformat_minor": 5
}
