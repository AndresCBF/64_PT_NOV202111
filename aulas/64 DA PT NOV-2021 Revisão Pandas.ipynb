{
 "cells": [
  {
   "cell_type": "markdown",
   "id": "ee4e9a63",
   "metadata": {
    "toc": true
   },
   "source": [
    "<h1>Table of Contents<span class=\"tocSkip\"></span></h1>\n",
    "<div class=\"toc\"><ul class=\"toc-item\"><li><span><a href=\"#Revisão-Pandas\" data-toc-modified-id=\"Revisão-Pandas-1\"><span class=\"toc-item-num\">1&nbsp;&nbsp;</span>Revisão Pandas</a></span><ul class=\"toc-item\"><li><span><a href=\"#Carregando-Dados\" data-toc-modified-id=\"Carregando-Dados-1.1\"><span class=\"toc-item-num\">1.1&nbsp;&nbsp;</span>Carregando Dados</a></span><ul class=\"toc-item\"><li><span><a href=\"#Limpando-os-nomes-de-colunas\" data-toc-modified-id=\"Limpando-os-nomes-de-colunas-1.1.1\"><span class=\"toc-item-num\">1.1.1&nbsp;&nbsp;</span>Limpando os nomes de colunas</a></span></li></ul></li><li><span><a href=\"#Limpeza-de-Informações\" data-toc-modified-id=\"Limpeza-de-Informações-1.2\"><span class=\"toc-item-num\">1.2&nbsp;&nbsp;</span>Limpeza de Informações</a></span><ul class=\"toc-item\"><li><span><a href=\"#(Re)Construção-da-coluna-region\" data-toc-modified-id=\"(Re)Construção-da-coluna-region-1.2.1\"><span class=\"toc-item-num\">1.2.1&nbsp;&nbsp;</span>(Re)Construção da coluna <code>region</code></a></span></li><li><span><a href=\"#Limpeza-de-Colunas-NA\" data-toc-modified-id=\"Limpeza-de-Colunas-NA-1.2.2\"><span class=\"toc-item-num\">1.2.2&nbsp;&nbsp;</span>Limpeza de Colunas NA</a></span></li></ul></li><li><span><a href=\"#Análise-de-Agregados\" data-toc-modified-id=\"Análise-de-Agregados-1.3\"><span class=\"toc-item-num\">1.3&nbsp;&nbsp;</span>Análise de Agregados</a></span><ul class=\"toc-item\"><li><span><a href=\"#Agregado-Regional\" data-toc-modified-id=\"Agregado-Regional-1.3.1\"><span class=\"toc-item-num\">1.3.1&nbsp;&nbsp;</span>Agregado Regional</a></span></li><li><span><a href=\"#Relação-País-Região\" data-toc-modified-id=\"Relação-País-Região-1.3.2\"><span class=\"toc-item-num\">1.3.2&nbsp;&nbsp;</span>Relação País-Região</a></span></li><li><span><a href=\"#Evolução-Anual-de-Felicidade-por-País\" data-toc-modified-id=\"Evolução-Anual-de-Felicidade-por-País-1.3.3\"><span class=\"toc-item-num\">1.3.3&nbsp;&nbsp;</span>Evolução Anual de Felicidade por País</a></span></li></ul></li></ul></li></ul></div>"
   ]
  },
  {
   "cell_type": "markdown",
   "id": "7eaba008",
   "metadata": {},
   "source": [
    "# Revisão Pandas"
   ]
  },
  {
   "cell_type": "code",
   "execution_count": null,
   "id": "940984aa",
   "metadata": {
    "ExecuteTime": {
     "end_time": "2021-12-11T11:13:47.330214Z",
     "start_time": "2021-12-11T11:13:47.326246Z"
    }
   },
   "outputs": [],
   "source": [
    "import pandas as pd\n",
    "import numpy as np\n",
    "import os"
   ]
  },
  {
   "cell_type": "markdown",
   "id": "f65419b8",
   "metadata": {},
   "source": [
    "## Carregando Dados"
   ]
  },
  {
   "cell_type": "markdown",
   "id": "76d9468e",
   "metadata": {},
   "source": [
    "World Happiness Report\n",
    "\n",
    "Fonte: https://www.kaggle.com/unsdsn/world-happiness"
   ]
  },
  {
   "cell_type": "markdown",
   "id": "02e213dd",
   "metadata": {},
   "source": [
    "### Limpando os nomes de colunas"
   ]
  },
  {
   "cell_type": "code",
   "execution_count": null,
   "id": "ac0965c6",
   "metadata": {
    "ExecuteTime": {
     "end_time": "2021-12-11T12:22:01.208283Z",
     "start_time": "2021-12-11T12:22:01.189306Z"
    }
   },
   "outputs": [],
   "source": [
    "path = 'data/dados_felicidade/'\n",
    "lista_df = [pd.read_csv(path + csv) for csv in os.listdir(path)]"
   ]
  },
  {
   "cell_type": "code",
   "execution_count": null,
   "id": "5140e868",
   "metadata": {
    "ExecuteTime": {
     "end_time": "2021-12-11T12:22:01.705350Z",
     "start_time": "2021-12-11T12:22:01.686374Z"
    }
   },
   "outputs": [],
   "source": [
    "for df in lista_df:\n",
    "    print(df.columns)"
   ]
  },
  {
   "cell_type": "code",
   "execution_count": null,
   "id": "ce826f98",
   "metadata": {
    "ExecuteTime": {
     "end_time": "2021-12-11T12:22:02.282549Z",
     "start_time": "2021-12-11T12:22:02.265566Z"
    }
   },
   "outputs": [],
   "source": [
    "import re\n",
    "pattern = r'[ |\\.()]+'\n",
    "column_names = [re.sub(pattern, '_', column.lower()) for df in lista_df for column in df.columns]\n",
    "print(set(column_names))\n",
    "print(len(set(column_names)))"
   ]
  },
  {
   "cell_type": "code",
   "execution_count": null,
   "id": "2f4e24bd",
   "metadata": {
    "ExecuteTime": {
     "end_time": "2021-12-11T12:22:02.888343Z",
     "start_time": "2021-12-11T12:22:02.882358Z"
    }
   },
   "outputs": [],
   "source": [
    "column_name_dict = dict()\n",
    "column_name_dict['health_life_expectancy_'] = 'health_life_expectancy'\n",
    "column_name_dict['country_or_region'] = 'country'\n",
    "column_name_dict['upper_confidence_interval'] = 'upper_confidence_interval'\n",
    "column_name_dict['perceptions_of_corruption'] = 'corruption'\n",
    "column_name_dict['whisker_high'] = 'whisker_high'\n",
    "column_name_dict['region'] = 'region'\n",
    "column_name_dict['generosity'] = 'generosity'\n",
    "column_name_dict['country'] = 'country'\n",
    "column_name_dict['gdp_per_capita'] = 'gdp_per_capita'\n",
    "column_name_dict['freedom_to_make_life_choices'] = 'freedom'\n",
    "column_name_dict['standard_error'] = 'standard_error'\n",
    "column_name_dict['happiness_score'] = 'happiness_score'\n",
    "column_name_dict['whisker_low'] = 'whisker_low'\n",
    "column_name_dict['happiness_rank'] = 'happiness_rank'\n",
    "column_name_dict['lower_confidence_interval'] = 'lower_confidence_interval'\n",
    "column_name_dict['overall_rank'] = 'happiness_rank'\n",
    "column_name_dict['dystopia_residual'] = 'dystopia'\n",
    "column_name_dict['trust_government_corruption_'] = 'corruption'\n",
    "column_name_dict['freedom'] = 'freedom'\n",
    "column_name_dict['score'] = 'happiness_score'\n",
    "column_name_dict['social_support'] = 'social_support'\n",
    "column_name_dict['healthy_life_expectancy'] = 'health_life_expectancy'\n",
    "column_name_dict['economy_gdp_per_capita_'] = 'gdp_per_capita'\n",
    "column_name_dict['family'] = 'family'"
   ]
  },
  {
   "cell_type": "code",
   "execution_count": null,
   "id": "41376875",
   "metadata": {
    "ExecuteTime": {
     "end_time": "2021-12-11T12:22:03.449353Z",
     "start_time": "2021-12-11T12:22:03.439354Z"
    }
   },
   "outputs": [],
   "source": [
    "column_name_dict"
   ]
  },
  {
   "cell_type": "code",
   "execution_count": null,
   "id": "321ea58f",
   "metadata": {
    "ExecuteTime": {
     "end_time": "2021-12-11T12:22:03.944280Z",
     "start_time": "2021-12-11T12:22:03.911170Z"
    }
   },
   "outputs": [],
   "source": [
    "lista_df = []\n",
    "path = 'data/dados_felicidade/'\n",
    "for csv in os.listdir(path):\n",
    "    print(f'Carregando {csv}')\n",
    "    ano = csv.replace('.csv', '')\n",
    "    df = pd.read_csv(path + csv)\n",
    "    df['year'] = ano\n",
    "    df.columns = [re.sub(pattern, '_', column.lower()) for column in df.columns]\n",
    "    df = df.rename(column_name_dict, axis = 1)\n",
    "    print(df.columns)\n",
    "    lista_df.append(df)"
   ]
  },
  {
   "cell_type": "code",
   "execution_count": null,
   "id": "5a968742",
   "metadata": {
    "ExecuteTime": {
     "end_time": "2021-12-11T12:22:04.716275Z",
     "start_time": "2021-12-11T12:22:04.677353Z"
    }
   },
   "outputs": [],
   "source": [
    "tb_happy = pd.concat(lista_df, axis = 0, ignore_index=True)\n",
    "tb_happy"
   ]
  },
  {
   "cell_type": "markdown",
   "id": "3b495086",
   "metadata": {},
   "source": [
    "## Limpeza de Informações"
   ]
  },
  {
   "cell_type": "markdown",
   "id": "5e229267",
   "metadata": {},
   "source": [
    "### (Re)Construção da coluna `region`"
   ]
  },
  {
   "cell_type": "code",
   "execution_count": null,
   "id": "5646f71c",
   "metadata": {
    "ExecuteTime": {
     "end_time": "2021-12-11T12:22:07.910388Z",
     "start_time": "2021-12-11T12:22:07.884457Z"
    }
   },
   "outputs": [],
   "source": [
    "tb_paises = tb_happy[['country', 'region']].dropna()\n",
    "tb_paises = tb_paises.groupby('country').first()\n",
    "tb_paises = tb_paises.rename({'region' : 'region_cons'}, axis = 1)\n",
    "tb_paises"
   ]
  },
  {
   "cell_type": "code",
   "execution_count": null,
   "id": "32755473",
   "metadata": {
    "ExecuteTime": {
     "end_time": "2021-12-11T12:22:08.485258Z",
     "start_time": "2021-12-11T12:22:08.450323Z"
    }
   },
   "outputs": [],
   "source": [
    "tb_happy = pd.merge(tb_happy, tb_paises, on = 'country')\n",
    "tb_happy"
   ]
  },
  {
   "cell_type": "markdown",
   "id": "740a48bd",
   "metadata": {},
   "source": [
    "### Limpeza de Colunas NA"
   ]
  },
  {
   "cell_type": "code",
   "execution_count": null,
   "id": "2a504b91",
   "metadata": {
    "ExecuteTime": {
     "end_time": "2021-12-11T12:22:09.817266Z",
     "start_time": "2021-12-11T12:22:09.805271Z"
    }
   },
   "outputs": [],
   "source": [
    "tb_happy = tb_happy.drop('region', axis = 1)\n",
    "thresh = int(len(tb_happy) * 0.3)\n",
    "tb_happy = tb_happy.dropna(axis = 1, thresh = thresh)\n"
   ]
  },
  {
   "cell_type": "code",
   "execution_count": null,
   "id": "4a675f73",
   "metadata": {
    "ExecuteTime": {
     "end_time": "2021-12-11T12:22:10.357178Z",
     "start_time": "2021-12-11T12:22:10.329224Z"
    }
   },
   "outputs": [],
   "source": [
    "tb_happy.describe()"
   ]
  },
  {
   "cell_type": "markdown",
   "id": "7009d616",
   "metadata": {},
   "source": [
    "## Análise de Agregados"
   ]
  },
  {
   "cell_type": "markdown",
   "id": "e36b3378",
   "metadata": {},
   "source": [
    "### Agregado Regional"
   ]
  },
  {
   "cell_type": "code",
   "execution_count": null,
   "id": "5710deee",
   "metadata": {
    "ExecuteTime": {
     "end_time": "2021-12-11T12:22:12.433188Z",
     "start_time": "2021-12-11T12:22:12.403241Z"
    }
   },
   "outputs": [],
   "source": [
    "tb_happy.groupby('region_cons').agg(\n",
    "    mu_happy = pd.NamedAgg('happiness_score', 'mean'),\n",
    "    mu_le = pd.NamedAgg('health_life_expectancy', 'mean')\n",
    ").sort_values('mu_happy')"
   ]
  },
  {
   "cell_type": "code",
   "execution_count": null,
   "id": "22725018",
   "metadata": {
    "ExecuteTime": {
     "end_time": "2021-12-11T12:22:13.178266Z",
     "start_time": "2021-12-11T12:22:13.157104Z"
    }
   },
   "outputs": [],
   "source": [
    "tb_reg = tb_happy.groupby('region_cons').agg(\n",
    "    mu_reg_happy = pd.NamedAgg('happiness_score', 'mean'),\n",
    "    mu_reg_le = pd.NamedAgg('health_life_expectancy', 'mean')\n",
    ")"
   ]
  },
  {
   "cell_type": "markdown",
   "id": "ad4dcbd6",
   "metadata": {},
   "source": [
    "### Relação País-Região"
   ]
  },
  {
   "cell_type": "code",
   "execution_count": null,
   "id": "f05d20bb",
   "metadata": {
    "ExecuteTime": {
     "end_time": "2021-12-11T12:22:14.753293Z",
     "start_time": "2021-12-11T12:22:14.726177Z"
    }
   },
   "outputs": [],
   "source": [
    "tb_happy = pd.merge(tb_happy, tb_reg, on = 'region_cons')\n",
    "tb_happy['prop_reg_country'] = tb_happy['happiness_score']/tb_happy['mu_reg_happy']\n",
    "tb_happy.groupby('country').agg(avg_prop_regcou = pd.NamedAgg('prop_reg_country', 'mean')).sort_values('avg_prop_regcou')"
   ]
  },
  {
   "cell_type": "markdown",
   "id": "3a797901",
   "metadata": {},
   "source": [
    "### Evolução Anual de Felicidade por País"
   ]
  },
  {
   "cell_type": "code",
   "execution_count": null,
   "id": "07dafc96",
   "metadata": {
    "ExecuteTime": {
     "end_time": "2021-12-11T12:28:20.681821Z",
     "start_time": "2021-12-11T12:28:20.616810Z"
    }
   },
   "outputs": [],
   "source": [
    "tb_happy_per = tb_happy.groupby('country').agg(\n",
    "    first_year=pd.NamedAgg('year', 'min'),\n",
    "    last_year=pd.NamedAgg('year', 'max'),\n",
    "    avg_happy=pd.NamedAgg('happiness_score', 'mean'))\n",
    "tb_happy_per = pd.merge(\n",
    "    tb_happy_per,\n",
    "    tb_happy[['country', 'year', 'happiness_score', 'happiness_rank']].rename(\n",
    "        {\n",
    "            'happiness_score': 'first_score',\n",
    "            'happiness_rank': 'first_rank'\n",
    "        },\n",
    "        axis=1),\n",
    "    left_on=['country', 'first_year'],\n",
    "    right_on=['country', 'year'])\n",
    "\n",
    "tb_happy_per = pd.merge(\n",
    "    tb_happy_per,\n",
    "    tb_happy[['country', 'year', 'happiness_score', 'happiness_rank']].rename(\n",
    "        {\n",
    "            'happiness_score': 'last_score',\n",
    "            'happiness_rank': 'last_rank'\n",
    "        },\n",
    "        axis=1),\n",
    "    left_on=['country', 'last_year'],\n",
    "    right_on=['country', 'year'])\n",
    "tb_happy_per = tb_happy_per.drop(['year_x', 'year_y'], axis = 1)"
   ]
  },
  {
   "cell_type": "code",
   "execution_count": null,
   "id": "b5f63972",
   "metadata": {
    "ExecuteTime": {
     "end_time": "2021-12-11T12:28:22.127585Z",
     "start_time": "2021-12-11T12:28:22.107638Z"
    }
   },
   "outputs": [],
   "source": [
    "tb_happy_per"
   ]
  },
  {
   "cell_type": "code",
   "execution_count": null,
   "id": "1a0ea830",
   "metadata": {
    "ExecuteTime": {
     "end_time": "2021-12-11T12:31:12.354946Z",
     "start_time": "2021-12-11T12:31:12.345971Z"
    }
   },
   "outputs": [],
   "source": [
    "tb_happy_per['score_var'] = tb_happy_per['last_score'] - tb_happy_per['first_score']\n",
    "tb_happy_per['num_anos'] = tb_happy_per['last_year'].astype(int) - tb_happy_per['first_year'].astype(int).astype(int) + 1\n",
    "tb_happy_per['score_var_anual'] = tb_happy_per['score_var']/tb_happy_per['num_anos']\n",
    "tb_happy_per['per_score_var_anual'] = tb_happy_per['score_var_anual']/tb_happy_per['avg_happy']"
   ]
  },
  {
   "cell_type": "code",
   "execution_count": null,
   "id": "de4f04ca",
   "metadata": {
    "ExecuteTime": {
     "end_time": "2021-12-11T12:31:56.342911Z",
     "start_time": "2021-12-11T12:31:56.319972Z"
    }
   },
   "outputs": [],
   "source": [
    "tb_happy_per.sort_values('per_score_var_anual')"
   ]
  },
  {
   "cell_type": "code",
   "execution_count": null,
   "id": "160d5ef3",
   "metadata": {
    "ExecuteTime": {
     "end_time": "2021-12-11T12:35:22.771986Z",
     "start_time": "2021-12-11T12:35:22.758024Z"
    }
   },
   "outputs": [],
   "source": [
    "tb_happy_per['classif_var'] = pd.qcut(tb_happy_per['per_score_var_anual'], 4,\n",
    "                                     labels = ['Muito Ruim', 'Ruim', 'Bom', 'Muito Bom'])\n",
    "tb_happy_per['classif_var']"
   ]
  },
  {
   "cell_type": "code",
   "execution_count": null,
   "id": "6b50358f",
   "metadata": {
    "ExecuteTime": {
     "end_time": "2021-12-11T12:36:25.174466Z",
     "start_time": "2021-12-11T12:36:25.147539Z"
    }
   },
   "outputs": [],
   "source": [
    "tb_happy_per[tb_happy_per['country'] == 'Brazil']"
   ]
  },
  {
   "cell_type": "code",
   "execution_count": null,
   "id": "cc80a2bd",
   "metadata": {},
   "outputs": [],
   "source": []
  }
 ],
 "metadata": {
  "hide_input": false,
  "kernelspec": {
   "display_name": "Python 3",
   "language": "python",
   "name": "python3"
  },
  "language_info": {
   "codemirror_mode": {
    "name": "ipython",
    "version": 3
   },
   "file_extension": ".py",
   "mimetype": "text/x-python",
   "name": "python",
   "nbconvert_exporter": "python",
   "pygments_lexer": "ipython3",
   "version": "3.8.8"
  },
  "toc": {
   "base_numbering": 1,
   "nav_menu": {},
   "number_sections": true,
   "sideBar": true,
   "skip_h1_title": false,
   "title_cell": "Table of Contents",
   "title_sidebar": "Contents",
   "toc_cell": true,
   "toc_position": {},
   "toc_section_display": true,
   "toc_window_display": true
  }
 },
 "nbformat": 4,
 "nbformat_minor": 5
}
