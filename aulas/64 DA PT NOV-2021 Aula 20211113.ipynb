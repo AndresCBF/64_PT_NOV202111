{
 "cells": [
  {
   "cell_type": "markdown",
   "metadata": {},
   "source": [
    "# Some python inherent `data structures`"
   ]
  },
  {
   "cell_type": "markdown",
   "metadata": {},
   "source": [
    "- Lists (recap)\n",
    "- Tuples\n",
    "- Dicts\n",
    "- Sets"
   ]
  },
  {
   "cell_type": "markdown",
   "metadata": {},
   "source": [
    "# Lists"
   ]
  },
  {
   "cell_type": "markdown",
   "metadata": {},
   "source": [
    "- Lists are identified by `bracket` and `comma` separation\n",
    "\n",
    "- Lists are mutable sequences of elements"
   ]
  },
  {
   "cell_type": "code",
   "execution_count": null,
   "metadata": {},
   "outputs": [],
   "source": [
    "list([10, 1, 3])"
   ]
  },
  {
   "cell_type": "code",
   "execution_count": null,
   "metadata": {},
   "outputs": [],
   "source": [
    "list_ex = [10, 20, 30]"
   ]
  },
  {
   "cell_type": "code",
   "execution_count": null,
   "metadata": {},
   "outputs": [],
   "source": [
    "print(list_ex)\n",
    "print(list_ex[0])\n",
    "print(list_ex[1])\n",
    "print(list_ex[2])"
   ]
  },
  {
   "cell_type": "code",
   "execution_count": null,
   "metadata": {},
   "outputs": [],
   "source": [
    "list_ex[0] = 0\n",
    "print(list_ex)\n",
    "print(list_ex[0])\n",
    "print(list_ex[1])\n",
    "print(list_ex[2])"
   ]
  },
  {
   "cell_type": "code",
   "execution_count": null,
   "metadata": {},
   "outputs": [],
   "source": [
    "list_ex.append(40)\n",
    "print(list_ex)"
   ]
  },
  {
   "cell_type": "code",
   "execution_count": null,
   "metadata": {},
   "outputs": [],
   "source": [
    "list_ex.extend([50, 60])\n",
    "print(list_ex)"
   ]
  },
  {
   "cell_type": "code",
   "execution_count": null,
   "metadata": {},
   "outputs": [],
   "source": [
    "minha_extensao = [70, [80, 90]]\n",
    "list_ex.extend(minha_extensao)\n",
    "print(list_ex)"
   ]
  },
  {
   "cell_type": "code",
   "execution_count": null,
   "metadata": {},
   "outputs": [],
   "source": [
    "ultimo_elemento = list_ex.pop()\n",
    "print(ultimo_elemento)\n",
    "print(list_ex)"
   ]
  },
  {
   "cell_type": "code",
   "execution_count": null,
   "metadata": {},
   "outputs": [],
   "source": [
    "# Um jeito mais bonito de achatar listas\n",
    "list_ex.append([1, [2, [3, [4]]]])\n",
    "print(list_ex)\n",
    "chata = []\n",
    "while list_ex:\n",
    "    elemento = list_ex.pop()\n",
    "    if type(elemento) == list:\n",
    "        list_ex.extend(elemento)\n",
    "    else:\n",
    "        chata.append(elemento)\n",
    "print(chata)"
   ]
  },
  {
   "cell_type": "markdown",
   "metadata": {},
   "source": [
    "# Tuples"
   ]
  },
  {
   "cell_type": "markdown",
   "metadata": {},
   "source": [
    "- Tuples are identified by `parenthesis` and `comma` separation\n",
    "\n",
    "- Tuples are immutable sequences of elements"
   ]
  },
  {
   "cell_type": "markdown",
   "metadata": {},
   "source": [
    "## Creating a tuple"
   ]
  },
  {
   "cell_type": "code",
   "execution_count": null,
   "metadata": {
    "ExecuteTime": {
     "end_time": "2020-07-09T22:45:47.947147Z",
     "start_time": "2020-07-09T22:45:47.939168Z"
    }
   },
   "outputs": [],
   "source": [
    "tuple((10, ))"
   ]
  },
  {
   "cell_type": "code",
   "execution_count": null,
   "metadata": {},
   "outputs": [],
   "source": [
    "tuple_ex = (10, 20, 30)\n",
    "print(tuple_ex)"
   ]
  },
  {
   "cell_type": "code",
   "execution_count": null,
   "metadata": {},
   "outputs": [],
   "source": [
    "a, b, c = tuple_ex\n",
    "print(a)\n",
    "print(b)\n",
    "print(c)"
   ]
  },
  {
   "cell_type": "code",
   "execution_count": null,
   "metadata": {},
   "outputs": [],
   "source": [
    "type(('oi', 'tchau', 10))"
   ]
  },
  {
   "cell_type": "markdown",
   "metadata": {},
   "source": [
    "## Converting a `list` into a `tuple`"
   ]
  },
  {
   "cell_type": "code",
   "execution_count": null,
   "metadata": {
    "ExecuteTime": {
     "end_time": "2020-07-09T22:53:37.037379Z",
     "start_time": "2020-07-09T22:53:37.033390Z"
    }
   },
   "outputs": [],
   "source": [
    "minha_lista = [10, 20, 30]\n",
    "minha_upla = tuple(minha_lista)\n",
    "print(minha_lista)\n",
    "print(minha_upla)\n",
    "print(type(minha_upla))"
   ]
  },
  {
   "cell_type": "code",
   "execution_count": null,
   "metadata": {},
   "outputs": [],
   "source": [
    "tuple_ex = tuple([10, 20, 30])\n",
    "print(type(tuple_ex))"
   ]
  },
  {
   "cell_type": "code",
   "execution_count": null,
   "metadata": {},
   "outputs": [],
   "source": [
    "meu_range = range(0, 10)\n",
    "for i in meu_range:\n",
    "    print(i)\n",
    "print(meu_range)\n",
    "print(list(meu_range))"
   ]
  },
  {
   "cell_type": "code",
   "execution_count": null,
   "metadata": {},
   "outputs": [],
   "source": [
    "tuple(range(0, 10))"
   ]
  },
  {
   "cell_type": "markdown",
   "metadata": {},
   "source": [
    "## <u>Accessing</u> an element in a tuple"
   ]
  },
  {
   "cell_type": "markdown",
   "metadata": {},
   "source": [
    "Imagine I create a service that, given the address, it returns me latitude and longitude as a tuple, i.e., `(lat, long)`"
   ]
  },
  {
   "cell_type": "code",
   "execution_count": null,
   "metadata": {
    "ExecuteTime": {
     "end_time": "2020-07-09T23:04:54.802409Z",
     "start_time": "2020-07-09T23:04:54.799414Z"
    }
   },
   "outputs": [],
   "source": [
    "coords = (-23.561762, -46.660213)"
   ]
  },
  {
   "cell_type": "markdown",
   "metadata": {},
   "source": [
    "If I want to access the `latitude` (i.e., the first element):"
   ]
  },
  {
   "cell_type": "code",
   "execution_count": null,
   "metadata": {},
   "outputs": [],
   "source": [
    "# Your code here!\n",
    "coords[0]"
   ]
  },
  {
   "cell_type": "code",
   "execution_count": null,
   "metadata": {},
   "outputs": [],
   "source": [
    "# multiple assignment\n",
    "lat, long = coords"
   ]
  },
  {
   "cell_type": "code",
   "execution_count": null,
   "metadata": {},
   "outputs": [],
   "source": [
    "lat"
   ]
  },
  {
   "cell_type": "code",
   "execution_count": null,
   "metadata": {},
   "outputs": [],
   "source": [
    "long"
   ]
  },
  {
   "cell_type": "code",
   "execution_count": null,
   "metadata": {},
   "outputs": [],
   "source": [
    "lat = coords[0]\n",
    "long = coords[1]"
   ]
  },
  {
   "cell_type": "code",
   "execution_count": null,
   "metadata": {},
   "outputs": [],
   "source": [
    "lat"
   ]
  },
  {
   "cell_type": "code",
   "execution_count": null,
   "metadata": {},
   "outputs": [],
   "source": [
    "long"
   ]
  },
  {
   "cell_type": "markdown",
   "metadata": {},
   "source": [
    "These are called `indices` (or `index`) "
   ]
  },
  {
   "cell_type": "code",
   "execution_count": null,
   "metadata": {},
   "outputs": [],
   "source": [
    "coords"
   ]
  },
  {
   "cell_type": "code",
   "execution_count": null,
   "metadata": {
    "ExecuteTime": {
     "end_time": "2020-07-09T23:09:49.217940Z",
     "start_time": "2020-07-09T23:09:49.213923Z"
    }
   },
   "outputs": [],
   "source": [
    "# think of tuples (and lists) as a circular element. \n",
    "# Accessing 0 returns the first element, 1 accesses the second element and so on\n",
    "# Accessing -1 returns the last element, -2 the second to last element and so on\n",
    "coords[-2]"
   ]
  },
  {
   "cell_type": "code",
   "execution_count": null,
   "metadata": {},
   "outputs": [],
   "source": [
    "len(coords)"
   ]
  },
  {
   "cell_type": "markdown",
   "metadata": {},
   "source": [
    "## Running through a tuple"
   ]
  },
  {
   "cell_type": "markdown",
   "metadata": {},
   "source": [
    "Tuples and lists are what is called in Python **iterable**. It means you can run through it. \n",
    "\n",
    "The syntax is simple: \n",
    "\n",
    "```python\n",
    "my_tuple = (1, 5, 8)\n",
    "\n",
    "for element in my_tuple:\n",
    "    # now you have access to each element\n",
    "    print(element)\n",
    "\n",
    "# Output\n",
    "1\n",
    "5\n",
    "8\n",
    "```\n"
   ]
  },
  {
   "cell_type": "markdown",
   "metadata": {},
   "source": [
    "What a loop like below\n",
    "```python\n",
    "coords = (-23.561762, -46.660213)\n",
    "\n",
    "for i in coords:\n",
    "    print(i)\n",
    "```\n",
    "\n",
    "is effectively doing is:\n",
    "    \n",
    "```python\n",
    "coords = (-23.561762, -46.660213)\n",
    "\n",
    "# first step of the loop\n",
    "i = coords[0]\n",
    "print(i)\n",
    "# second step of the loop\n",
    "i = coords[1]\n",
    "print(i)\n",
    "```\n",
    "\n",
    "which expands to the following:\n",
    "\n",
    "```python\n",
    "coords = (-23.561762, -46.660213)\n",
    "\n",
    "# first step of the loop\n",
    "i = -23.561762\n",
    "print(i)\n",
    "# second step of the loop\n",
    "i = -46.660213\n",
    "print(i)\n",
    "```"
   ]
  },
  {
   "cell_type": "code",
   "execution_count": null,
   "metadata": {
    "ExecuteTime": {
     "end_time": "2020-07-09T23:18:32.840220Z",
     "start_time": "2020-07-09T23:18:32.833238Z"
    },
    "scrolled": true
   },
   "outputs": [],
   "source": [
    "# will through an error\n",
    "#coords[0] = -25.8"
   ]
  },
  {
   "cell_type": "code",
   "execution_count": null,
   "metadata": {
    "ExecuteTime": {
     "end_time": "2020-07-09T23:19:04.442284Z",
     "start_time": "2020-07-09T23:19:04.438295Z"
    }
   },
   "outputs": [],
   "source": [
    "# but lists are mutable\n",
    "my_list = [10, 20, 30]\n",
    "my_list[0] = 0"
   ]
  },
  {
   "cell_type": "code",
   "execution_count": null,
   "metadata": {},
   "outputs": [],
   "source": [
    "my_list.append(10)"
   ]
  },
  {
   "cell_type": "code",
   "execution_count": null,
   "metadata": {},
   "outputs": [],
   "source": [
    "list(coords)"
   ]
  },
  {
   "cell_type": "code",
   "execution_count": null,
   "metadata": {},
   "outputs": [],
   "source": [
    "tuple(my_list)"
   ]
  },
  {
   "cell_type": "code",
   "execution_count": null,
   "metadata": {
    "ExecuteTime": {
     "end_time": "2020-07-09T23:21:41.034390Z",
     "start_time": "2020-07-09T23:21:41.030371Z"
    }
   },
   "outputs": [],
   "source": [
    "# you can use any name to perform a loop through an iterable.\n",
    "# usually you want to give names that means something\n",
    "for banana in coords:\n",
    "    print(banana)"
   ]
  },
  {
   "cell_type": "markdown",
   "metadata": {},
   "source": [
    "## Tuple methods\n",
    "\n",
    "- `count`: returns the number of occurences of the value you specify \n",
    "- `index`: returns the first index of the value you specify"
   ]
  },
  {
   "cell_type": "code",
   "execution_count": null,
   "metadata": {
    "ExecuteTime": {
     "end_time": "2020-07-09T23:32:03.570210Z",
     "start_time": "2020-07-09T23:32:03.566220Z"
    }
   },
   "outputs": [],
   "source": [
    "# Your code here!\n",
    "y = (1, 3, 7, 4, 6, 3, 8, 8)"
   ]
  },
  {
   "cell_type": "code",
   "execution_count": null,
   "metadata": {},
   "outputs": [],
   "source": [
    "y.count(8)"
   ]
  },
  {
   "cell_type": "code",
   "execution_count": null,
   "metadata": {},
   "outputs": [],
   "source": [
    "y.index(8)"
   ]
  },
  {
   "cell_type": "code",
   "execution_count": null,
   "metadata": {},
   "outputs": [],
   "source": [
    "len(y)"
   ]
  },
  {
   "cell_type": "code",
   "execution_count": null,
   "metadata": {},
   "outputs": [],
   "source": [
    "y_list = list(y)"
   ]
  },
  {
   "cell_type": "code",
   "execution_count": null,
   "metadata": {},
   "outputs": [],
   "source": [
    "y_list"
   ]
  },
  {
   "cell_type": "code",
   "execution_count": null,
   "metadata": {},
   "outputs": [],
   "source": [
    "y.index(8)"
   ]
  },
  {
   "cell_type": "markdown",
   "metadata": {},
   "source": [
    "## Built in functions - `sorted()`\n",
    "\n",
    "- Sort a tuple (or any **iterable** actually)"
   ]
  },
  {
   "cell_type": "code",
   "execution_count": null,
   "metadata": {},
   "outputs": [],
   "source": [
    "y"
   ]
  },
  {
   "cell_type": "code",
   "execution_count": null,
   "metadata": {},
   "outputs": [],
   "source": [
    "# Your code here!\n",
    "sorted(y, reverse=True)"
   ]
  },
  {
   "cell_type": "code",
   "execution_count": null,
   "metadata": {},
   "outputs": [],
   "source": [
    "sorted(y)"
   ]
  },
  {
   "cell_type": "markdown",
   "metadata": {},
   "source": [
    "## Slicing\n",
    "\n",
    "`Slicing` means: take a part specific `part`/`sequence` of elements\n",
    "\n",
    "Slices have a syntax of `[starting_index:ending_index]`"
   ]
  },
  {
   "cell_type": "markdown",
   "metadata": {},
   "source": [
    "* `a[start:stop]` -> items start through stop-1\n",
    "* `a[start:]` -> items start through the rest of the array\n",
    "* `a[:stop]` -> items from the beginning through stop-1\n",
    "* `a[:]` -> a copy of the whole array"
   ]
  },
  {
   "cell_type": "code",
   "execution_count": null,
   "metadata": {
    "ExecuteTime": {
     "end_time": "2020-07-09T23:40:03.707134Z",
     "start_time": "2020-07-09T23:40:03.703144Z"
    }
   },
   "outputs": [],
   "source": [
    "grades = (9,8,5,6,10,8,10)\n",
    "grades"
   ]
  },
  {
   "cell_type": "code",
   "execution_count": null,
   "metadata": {},
   "outputs": [],
   "source": [
    "grades[0]"
   ]
  },
  {
   "cell_type": "code",
   "execution_count": null,
   "metadata": {},
   "outputs": [],
   "source": [
    "len(grades)"
   ]
  },
  {
   "cell_type": "code",
   "execution_count": null,
   "metadata": {},
   "outputs": [],
   "source": [
    "#grades[100]"
   ]
  },
  {
   "cell_type": "code",
   "execution_count": null,
   "metadata": {},
   "outputs": [],
   "source": [
    "grades"
   ]
  },
  {
   "cell_type": "code",
   "execution_count": null,
   "metadata": {
    "ExecuteTime": {
     "end_time": "2020-07-09T23:41:14.680627Z",
     "start_time": "2020-07-09T23:41:14.676637Z"
    }
   },
   "outputs": [],
   "source": [
    "grades[2:6]"
   ]
  },
  {
   "cell_type": "code",
   "execution_count": null,
   "metadata": {},
   "outputs": [],
   "source": [
    "# do 5 em diante (ou do terceiro índice em diante)\n",
    "grades[2:]"
   ]
  },
  {
   "cell_type": "code",
   "execution_count": null,
   "metadata": {
    "ExecuteTime": {
     "end_time": "2020-07-09T23:42:29.727629Z",
     "start_time": "2020-07-09T23:42:29.724119Z"
    },
    "scrolled": true
   },
   "outputs": [],
   "source": [
    "# do 5 pra tras (do terceiro indice pra trás)\n",
    "grades[:3]"
   ]
  },
  {
   "cell_type": "code",
   "execution_count": null,
   "metadata": {},
   "outputs": [],
   "source": [
    "grades[:-2]"
   ]
  },
  {
   "cell_type": "code",
   "execution_count": null,
   "metadata": {},
   "outputs": [],
   "source": [
    "grades[-2:]"
   ]
  },
  {
   "cell_type": "code",
   "execution_count": null,
   "metadata": {},
   "outputs": [],
   "source": [
    "grades[:]"
   ]
  },
  {
   "cell_type": "code",
   "execution_count": null,
   "metadata": {},
   "outputs": [],
   "source": [
    "lista_orig = [1,2,3]\n",
    "lista_copia = lista_orig\n",
    "lista_copia[0] = 2\n",
    "print(lista_orig)\n",
    "print(lista_copia)"
   ]
  },
  {
   "cell_type": "code",
   "execution_count": null,
   "metadata": {},
   "outputs": [],
   "source": [
    "lista_orig = [1,2,3]\n",
    "lista_copia = lista_orig[:]\n",
    "lista_copia[0] = 2\n",
    "print(lista_orig)\n",
    "print(lista_copia)"
   ]
  },
  {
   "cell_type": "code",
   "execution_count": null,
   "metadata": {},
   "outputs": [],
   "source": [
    "grades[1:3]+grades[4:6] "
   ]
  },
  {
   "cell_type": "markdown",
   "metadata": {},
   "source": [
    "-----"
   ]
  },
  {
   "cell_type": "markdown",
   "metadata": {},
   "source": [
    "# DICT's"
   ]
  },
  {
   "cell_type": "markdown",
   "metadata": {},
   "source": [
    "## What is a dictionary?"
   ]
  },
  {
   "cell_type": "markdown",
   "metadata": {},
   "source": [
    "In real life, we use it to find the `description of something`."
   ]
  },
  {
   "cell_type": "markdown",
   "metadata": {},
   "source": [
    "## What are keys and values?"
   ]
  },
  {
   "cell_type": "markdown",
   "metadata": {},
   "source": [
    "`keys`: it is the `something`\n",
    "\n",
    "`values`: it is the `description` of something"
   ]
  },
  {
   "cell_type": "markdown",
   "metadata": {},
   "source": [
    "## Creating a dictionary\n",
    "\n",
    "- Syntax of a dictionary `{key: value}`"
   ]
  },
  {
   "cell_type": "code",
   "execution_count": null,
   "metadata": {},
   "outputs": [],
   "source": [
    "my_dict={}"
   ]
  },
  {
   "cell_type": "code",
   "execution_count": null,
   "metadata": {},
   "outputs": [],
   "source": [
    "my_dict=dict()"
   ]
  },
  {
   "cell_type": "code",
   "execution_count": null,
   "metadata": {},
   "outputs": [],
   "source": [
    "type(my_dict)"
   ]
  },
  {
   "cell_type": "code",
   "execution_count": null,
   "metadata": {
    "ExecuteTime": {
     "end_time": "2020-07-10T00:09:37.869696Z",
     "start_time": "2020-07-10T00:09:37.865676Z"
    }
   },
   "outputs": [],
   "source": [
    "my_dict = {\n",
    "            'Grão de Bico': 10,\n",
    "            'Feijão': 8,\n",
    "            'Lentilha': 1\n",
    "          }\n",
    "print(my_dict)\n",
    "print(my_dict['Grão de Bico'])"
   ]
  },
  {
   "cell_type": "code",
   "execution_count": null,
   "metadata": {},
   "outputs": [],
   "source": [
    "my_dict = {\n",
    "            'Grão de Bico': 10,\n",
    "            'Grão de Bico': 8,\n",
    "            'Grão de Bico': 1\n",
    "          }\n",
    "print(my_dict)"
   ]
  },
  {
   "cell_type": "code",
   "execution_count": null,
   "metadata": {},
   "outputs": [],
   "source": [
    "my_dict = {\n",
    "            'Grão de Bico': 10,\n",
    "            'Feijão': 8,\n",
    "            'Lentilha': 1\n",
    "          }"
   ]
  },
  {
   "cell_type": "code",
   "execution_count": null,
   "metadata": {},
   "outputs": [],
   "source": [
    "my_dict['Grão de Bico'] = 15\n",
    "print(my_dict)"
   ]
  },
  {
   "cell_type": "code",
   "execution_count": null,
   "metadata": {},
   "outputs": [],
   "source": [
    "my_dict.values()"
   ]
  },
  {
   "cell_type": "code",
   "execution_count": null,
   "metadata": {},
   "outputs": [],
   "source": [
    "my_dict.keys()"
   ]
  },
  {
   "cell_type": "code",
   "execution_count": null,
   "metadata": {},
   "outputs": [],
   "source": [
    "my_dict.items()"
   ]
  },
  {
   "cell_type": "markdown",
   "metadata": {},
   "source": [
    "## <u>Accessing</u> a dictionary value:"
   ]
  },
  {
   "cell_type": "markdown",
   "metadata": {},
   "source": [
    "- o índice de um dicionário é genérico, é você quem decide."
   ]
  },
  {
   "cell_type": "code",
   "execution_count": null,
   "metadata": {
    "ExecuteTime": {
     "end_time": "2020-07-10T00:10:26.565681Z",
     "start_time": "2020-07-10T00:10:26.560695Z"
    }
   },
   "outputs": [],
   "source": [
    "preco_10kg_gb = my_dict['Grão de Bico']*10\n",
    "print(preco_10kg_gb)"
   ]
  },
  {
   "cell_type": "markdown",
   "metadata": {},
   "source": [
    "## Creating new items for your dictionary"
   ]
  },
  {
   "cell_type": "code",
   "execution_count": null,
   "metadata": {},
   "outputs": [],
   "source": [
    "# by accessing a non-existent key and then assigning a value\n",
    "my_dict['Ervilha Partida'] = 9"
   ]
  },
  {
   "cell_type": "code",
   "execution_count": null,
   "metadata": {},
   "outputs": [],
   "source": [
    "my_dict.keys()"
   ]
  },
  {
   "cell_type": "code",
   "execution_count": null,
   "metadata": {},
   "outputs": [],
   "source": [
    "# using `.update()` function containing a new dict inside\n",
    "new_dict = dict()\n",
    "new_dict['Arroz'] = 5\n",
    "new_dict['Arroz Integral'] = 8.5\n",
    "print(new_dict)\n",
    "my_dict.update(new_dict)"
   ]
  },
  {
   "cell_type": "code",
   "execution_count": null,
   "metadata": {},
   "outputs": [],
   "source": [
    "my_dict"
   ]
  },
  {
   "cell_type": "code",
   "execution_count": null,
   "metadata": {},
   "outputs": [],
   "source": [
    "graos = ['Feijão Branco', 'Lentilha Síria', 'Feijão Branco']\n",
    "valores = [9.50, 13, 8.50]"
   ]
  },
  {
   "cell_type": "code",
   "execution_count": null,
   "metadata": {},
   "outputs": [],
   "source": [
    "range(len(graos))"
   ]
  },
  {
   "cell_type": "code",
   "execution_count": null,
   "metadata": {},
   "outputs": [],
   "source": [
    "for i in range(len(graos)):\n",
    "    print(graos[i], valores[i])\n",
    "    my_dict[graos[i]]=valores[i]"
   ]
  },
  {
   "cell_type": "code",
   "execution_count": null,
   "metadata": {},
   "outputs": [],
   "source": [
    "# 1o loop\n",
    "print(graos[0])\n",
    "print(valores[0])\n",
    "my_dict['Feijão Branco']=9.5\n",
    "\n",
    "# 2o loop\n",
    "print(graos[1])\n",
    "print(valores[1])\n",
    "my_dict['Lentilha Síria']=13"
   ]
  },
  {
   "cell_type": "markdown",
   "metadata": {},
   "source": [
    "## A value can be anything"
   ]
  },
  {
   "cell_type": "code",
   "execution_count": null,
   "metadata": {},
   "outputs": [],
   "source": [
    "# Your code here!\n",
    "my_dict = {\n",
    "            'Grão de Bico': (10, 10.3, 10.5, 11),\n",
    "            'Feijão': [8, 9, 10]\n",
    "          }"
   ]
  },
  {
   "cell_type": "code",
   "execution_count": null,
   "metadata": {},
   "outputs": [],
   "source": [
    "my_dict"
   ]
  },
  {
   "cell_type": "code",
   "execution_count": null,
   "metadata": {},
   "outputs": [],
   "source": [
    "type(my_dict['Grão de Bico'])"
   ]
  },
  {
   "cell_type": "code",
   "execution_count": null,
   "metadata": {},
   "outputs": [],
   "source": [
    "type(my_dict['Feijão'])"
   ]
  },
  {
   "cell_type": "code",
   "execution_count": null,
   "metadata": {},
   "outputs": [],
   "source": [
    "my_dict.values()"
   ]
  },
  {
   "cell_type": "code",
   "execution_count": null,
   "metadata": {},
   "outputs": [],
   "source": [
    "for value in my_dict.values():\n",
    "    print(type(value))"
   ]
  },
  {
   "cell_type": "code",
   "execution_count": null,
   "metadata": {},
   "outputs": [],
   "source": [
    "# Até outros dicionarios\n",
    "casa = dict()\n",
    "casa['id'] = 1\n",
    "casa['tamanho'] = 80\n",
    "casa['dim_terreno'] = (20, 30)\n",
    "casa['endereco'] = dict()\n",
    "casa['endereco']['rua'] = 'Al. das Maritacas'\n",
    "casa['endereco']['numero'] = 1637\n",
    "casa['endereco']['bairro'] = 'Cidade Jardim'\n",
    "casa['endereco']['cidade'] = 39272440\n",
    "print(casa)"
   ]
  },
  {
   "cell_type": "code",
   "execution_count": null,
   "metadata": {},
   "outputs": [],
   "source": [
    "print(type(casa))\n",
    "print(type(casa['dim_terreno']))\n",
    "print(type(casa['endereco']))"
   ]
  },
  {
   "cell_type": "code",
   "execution_count": 1,
   "metadata": {},
   "outputs": [
    {
     "ename": "NameError",
     "evalue": "name 'casa' is not defined",
     "output_type": "error",
     "traceback": [
      "\u001b[1;31m---------------------------------------------------------------------------\u001b[0m",
      "\u001b[1;31mNameError\u001b[0m                                 Traceback (most recent call last)",
      "\u001b[1;32m<ipython-input-1-e0e5cd0bcaec>\u001b[0m in \u001b[0;36m<module>\u001b[1;34m\u001b[0m\n\u001b[1;32m----> 1\u001b[1;33m \u001b[0mprint\u001b[0m\u001b[1;33m(\u001b[0m\u001b[0mcasa\u001b[0m\u001b[1;33m[\u001b[0m\u001b[1;34m'endereco'\u001b[0m\u001b[1;33m]\u001b[0m\u001b[1;33m[\u001b[0m\u001b[1;34m'rua'\u001b[0m\u001b[1;33m]\u001b[0m\u001b[1;33m)\u001b[0m\u001b[1;33m\u001b[0m\u001b[1;33m\u001b[0m\u001b[0m\n\u001b[0m",
      "\u001b[1;31mNameError\u001b[0m: name 'casa' is not defined"
     ]
    }
   ],
   "source": [
    "print(casa['endereco']['rua'])"
   ]
  },
  {
   "cell_type": "code",
   "execution_count": 10,
   "metadata": {},
   "outputs": [],
   "source": [
    "import requests\n",
    "TOKEN = 'c0c9147ec699d5205de0cbb2f5ad611c9aae0b41edeaf6092728677d06356836'\n",
    "url = \"https://api.ambeedata.com/latest/by-city\"\n",
    "headers = {\n",
    "    'x-api-key': TOKEN,\n",
    "    'Content-type': \"application/json\"\n",
    "    }"
   ]
  },
  {
   "cell_type": "code",
   "execution_count": null,
   "metadata": {},
   "outputs": [],
   "source": [
    "querystring = {\"city\":\"Sao Paulo\"}\n",
    "response = requests.request(\"GET\", url, headers=headers, params=querystring)\n",
    "ql_ar_sp = response.json()"
   ]
  },
  {
   "cell_type": "code",
   "execution_count": 11,
   "metadata": {},
   "outputs": [],
   "source": [
    "querystring = {\"city\":\"Belo Horizonte\"}\n",
    "response = requests.request(\"GET\", url, headers=headers, params=querystring)\n",
    "ql_ar_bh = response.json()"
   ]
  },
  {
   "cell_type": "code",
   "execution_count": 14,
   "metadata": {},
   "outputs": [],
   "source": [
    "querystring = {\"city\":\"Pirassununga\"}\n",
    "response = requests.request(\"GET\", url, headers=headers, params=querystring)\n",
    "ql_ar_pira = response.json()"
   ]
  },
  {
   "cell_type": "code",
   "execution_count": null,
   "metadata": {},
   "outputs": [],
   "source": []
  },
  {
   "cell_type": "markdown",
   "metadata": {},
   "source": [
    "# Dictionary <u>methods</u>\n",
    "\n",
    "- `.update()`\n",
    "- `.keys()`\n",
    "- `.values()`\n",
    "- `.items()`"
   ]
  },
  {
   "cell_type": "code",
   "execution_count": null,
   "metadata": {},
   "outputs": [],
   "source": [
    "my_dict_2['filter'].keys()"
   ]
  },
  {
   "cell_type": "code",
   "execution_count": null,
   "metadata": {
    "ExecuteTime": {
     "end_time": "2020-07-10T00:29:35.114148Z",
     "start_time": "2020-07-10T00:29:35.111156Z"
    }
   },
   "outputs": [],
   "source": [
    "type(my_dict_2.values())"
   ]
  },
  {
   "cell_type": "code",
   "execution_count": null,
   "metadata": {},
   "outputs": [],
   "source": [
    "my_dict_2['filter'].values()"
   ]
  },
  {
   "cell_type": "code",
   "execution_count": null,
   "metadata": {},
   "outputs": [],
   "source": [
    "my_dict.items()"
   ]
  },
  {
   "cell_type": "code",
   "execution_count": null,
   "metadata": {},
   "outputs": [],
   "source": [
    "my_dict_2.items()"
   ]
  },
  {
   "cell_type": "code",
   "execution_count": null,
   "metadata": {},
   "outputs": [],
   "source": [
    "my_dict.update({'Lentilha':10})"
   ]
  },
  {
   "cell_type": "code",
   "execution_count": null,
   "metadata": {},
   "outputs": [],
   "source": [
    "my_dict"
   ]
  },
  {
   "cell_type": "markdown",
   "metadata": {},
   "source": [
    "## Iterating through a dict"
   ]
  },
  {
   "cell_type": "code",
   "execution_count": null,
   "metadata": {},
   "outputs": [],
   "source": [
    "for chave in casa:\n",
    "    print(chave)"
   ]
  },
  {
   "cell_type": "code",
   "execution_count": null,
   "metadata": {
    "ExecuteTime": {
     "end_time": "2020-07-10T00:32:18.522307Z",
     "start_time": "2020-07-10T00:32:18.518319Z"
    }
   },
   "outputs": [],
   "source": [
    "for chave in casa.keys():\n",
    "    print(f'{chave}: {casa[chave]}')"
   ]
  },
  {
   "cell_type": "code",
   "execution_count": null,
   "metadata": {},
   "outputs": [],
   "source": [
    "# Your code here\n",
    "for atributo in casa.items():\n",
    "    print(atributo)"
   ]
  },
  {
   "cell_type": "code",
   "execution_count": null,
   "metadata": {},
   "outputs": [],
   "source": [
    "# Your code here\n",
    "for valor in casa.values():\n",
    "    print(valor)"
   ]
  },
  {
   "cell_type": "code",
   "execution_count": null,
   "metadata": {},
   "outputs": [],
   "source": [
    "casa"
   ]
  },
  {
   "cell_type": "markdown",
   "metadata": {},
   "source": [
    "## Loops can receive more than 1 argument"
   ]
  },
  {
   "cell_type": "code",
   "execution_count": null,
   "metadata": {},
   "outputs": [],
   "source": [
    "my_dict = {\n",
    "            'Grão de Bico': 10,\n",
    "            'Feijão': 8,\n",
    "            'Lentilha': 1\n",
    "          }"
   ]
  },
  {
   "cell_type": "code",
   "execution_count": null,
   "metadata": {},
   "outputs": [],
   "source": [
    "for grao, preco in my_dict.items():\n",
    "    if grao == 'Feijão' or grao == 'Lentilha':\n",
    "        print(preco)"
   ]
  },
  {
   "cell_type": "markdown",
   "metadata": {},
   "source": [
    "## Verifying if a key is `in` the dictionary"
   ]
  },
  {
   "cell_type": "code",
   "execution_count": null,
   "metadata": {
    "ExecuteTime": {
     "end_time": "2020-07-10T00:35:27.646645Z",
     "start_time": "2020-07-10T00:35:27.642656Z"
    }
   },
   "outputs": [],
   "source": [
    "# how it works with lists?\n",
    "1 in [1, 2, 3]"
   ]
  },
  {
   "cell_type": "code",
   "execution_count": null,
   "metadata": {},
   "outputs": [],
   "source": [
    "'Quinoa' in my_dict.keys()"
   ]
  },
  {
   "cell_type": "markdown",
   "metadata": {},
   "source": [
    "actually, it works like this with any **iterable**"
   ]
  },
  {
   "cell_type": "code",
   "execution_count": null,
   "metadata": {},
   "outputs": [],
   "source": [
    "'abcd' not in 'abc'"
   ]
  },
  {
   "cell_type": "code",
   "execution_count": null,
   "metadata": {},
   "outputs": [],
   "source": [
    "'abc' not in 'abcd'"
   ]
  },
  {
   "cell_type": "code",
   "execution_count": null,
   "metadata": {
    "ExecuteTime": {
     "end_time": "2020-07-10T00:35:58.854050Z",
     "start_time": "2020-07-10T00:35:58.851057Z"
    }
   },
   "outputs": [],
   "source": [
    "1 in (1, 2, 3)"
   ]
  },
  {
   "cell_type": "markdown",
   "metadata": {},
   "source": [
    "-----"
   ]
  },
  {
   "cell_type": "markdown",
   "metadata": {},
   "source": [
    "# SETS\n",
    "\n",
    "Sets are just like dictionaries, but they only have `keys`.\n",
    "\n",
    "And just like `keys` in a dictionary, there are no `duplicates`. You can imagine a set like a [venn-diagram](https://pt.wikipedia.org/wiki/Diagrama_de_Venn) containing the elements you want."
   ]
  },
  {
   "cell_type": "code",
   "execution_count": null,
   "metadata": {},
   "outputs": [],
   "source": [
    "my_list = ['Pedro', 'Adriano', 'Pedro', 'Adriano', 'Pedro', 'Adriano']"
   ]
  },
  {
   "cell_type": "code",
   "execution_count": null,
   "metadata": {},
   "outputs": [],
   "source": [
    "my_list"
   ]
  },
  {
   "cell_type": "code",
   "execution_count": null,
   "metadata": {},
   "outputs": [],
   "source": [
    "set(my_list)"
   ]
  },
  {
   "cell_type": "markdown",
   "metadata": {},
   "source": [
    "----"
   ]
  },
  {
   "cell_type": "code",
   "execution_count": null,
   "metadata": {
    "ExecuteTime": {
     "end_time": "2020-07-10T00:41:55.690528Z",
     "start_time": "2020-07-10T00:41:55.686511Z"
    }
   },
   "outputs": [],
   "source": [
    "x = set([1,2,3,4,4,4,4,4,5,6,6,6,7,7,8])\n",
    "x"
   ]
  },
  {
   "cell_type": "code",
   "execution_count": null,
   "metadata": {
    "ExecuteTime": {
     "end_time": "2020-07-10T00:42:16.991900Z",
     "start_time": "2020-07-10T00:42:16.987910Z"
    }
   },
   "outputs": [],
   "source": [
    "y = set([8,8,6,7, 10, 12])\n",
    "y"
   ]
  },
  {
   "cell_type": "code",
   "execution_count": null,
   "metadata": {},
   "outputs": [],
   "source": [
    "type(set([8,8,6,7, 10, 12]))"
   ]
  },
  {
   "cell_type": "code",
   "execution_count": null,
   "metadata": {
    "ExecuteTime": {
     "end_time": "2020-07-10T00:42:29.600067Z",
     "start_time": "2020-07-10T00:42:29.596053Z"
    }
   },
   "outputs": [],
   "source": [
    "type(y)"
   ]
  },
  {
   "cell_type": "markdown",
   "metadata": {},
   "source": [
    "## Set methods"
   ]
  },
  {
   "cell_type": "code",
   "execution_count": null,
   "metadata": {},
   "outputs": [],
   "source": [
    "x"
   ]
  },
  {
   "cell_type": "code",
   "execution_count": null,
   "metadata": {},
   "outputs": [],
   "source": [
    "y"
   ]
  },
  {
   "cell_type": "code",
   "execution_count": null,
   "metadata": {
    "ExecuteTime": {
     "end_time": "2020-07-10T00:44:50.502397Z",
     "start_time": "2020-07-10T00:44:50.498409Z"
    }
   },
   "outputs": [],
   "source": [
    "# Your code here\n",
    "x.intersection(y)"
   ]
  },
  {
   "cell_type": "code",
   "execution_count": null,
   "metadata": {},
   "outputs": [],
   "source": [
    "y.intersection(x)"
   ]
  },
  {
   "cell_type": "code",
   "execution_count": null,
   "metadata": {},
   "outputs": [],
   "source": [
    "x.difference(y)"
   ]
  },
  {
   "cell_type": "code",
   "execution_count": null,
   "metadata": {},
   "outputs": [],
   "source": [
    "y.difference(x)"
   ]
  },
  {
   "cell_type": "code",
   "execution_count": null,
   "metadata": {},
   "outputs": [],
   "source": [
    "x-y # x.difference(y)"
   ]
  },
  {
   "cell_type": "code",
   "execution_count": null,
   "metadata": {},
   "outputs": [],
   "source": [
    "y-x # y.difference(y)"
   ]
  },
  {
   "cell_type": "code",
   "execution_count": null,
   "metadata": {},
   "outputs": [],
   "source": [
    "x.union(y)"
   ]
  },
  {
   "cell_type": "code",
   "execution_count": null,
   "metadata": {},
   "outputs": [],
   "source": [
    "(x-y).union(y-x)"
   ]
  },
  {
   "cell_type": "code",
   "execution_count": null,
   "metadata": {},
   "outputs": [],
   "source": [
    "x.symmetric_difference(y)"
   ]
  },
  {
   "cell_type": "code",
   "execution_count": null,
   "metadata": {
    "ExecuteTime": {
     "end_time": "2020-07-10T00:47:18.291003Z",
     "start_time": "2020-07-10T00:47:18.286016Z"
    }
   },
   "outputs": [],
   "source": [
    "# Practical example\n",
    "col_names = set(['qtd_cartoes', 'vlr_cartao','qtd_cheques','vlr_cheques'])\n",
    "\n",
    "incoming_col_names = set(['qtd_cartoes', 'vlr_cartao','qtd_cheques','vlr_cheque'])\n",
    "\n",
    "# print(f'Missing columns: {set(col_names) - set(incoming_col_names)}')\n",
    "missing_columns = col_names.difference(incoming_col_names)\n",
    "print(f'Missing columns: {missing_columns}')"
   ]
  },
  {
   "cell_type": "code",
   "execution_count": null,
   "metadata": {},
   "outputs": [],
   "source": []
  }
 ],
 "metadata": {
  "kernelspec": {
   "display_name": "Python 3",
   "language": "python",
   "name": "python3"
  },
  "language_info": {
   "codemirror_mode": {
    "name": "ipython",
    "version": 3
   },
   "file_extension": ".py",
   "mimetype": "text/x-python",
   "name": "python",
   "nbconvert_exporter": "python",
   "pygments_lexer": "ipython3",
   "version": "3.8.8"
  },
  "toc": {
   "base_numbering": 1,
   "nav_menu": {},
   "number_sections": true,
   "sideBar": true,
   "skip_h1_title": false,
   "title_cell": "Table of Contents",
   "title_sidebar": "Contents",
   "toc_cell": false,
   "toc_position": {},
   "toc_section_display": true,
   "toc_window_display": false
  },
  "varInspector": {
   "cols": {
    "lenName": 16,
    "lenType": 16,
    "lenVar": 40
   },
   "kernels_config": {
    "python": {
     "delete_cmd_postfix": "",
     "delete_cmd_prefix": "del ",
     "library": "var_list.py",
     "varRefreshCmd": "print(var_dic_list())"
    },
    "r": {
     "delete_cmd_postfix": ") ",
     "delete_cmd_prefix": "rm(",
     "library": "var_list.r",
     "varRefreshCmd": "cat(var_dic_list()) "
    }
   },
   "types_to_exclude": [
    "module",
    "function",
    "builtin_function_or_method",
    "instance",
    "_Feature"
   ],
   "window_display": false
  }
 },
 "nbformat": 4,
 "nbformat_minor": 4
}
