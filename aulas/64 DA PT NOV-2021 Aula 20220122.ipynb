{
 "cells": [
  {
   "cell_type": "code",
   "execution_count": null,
   "metadata": {},
   "outputs": [],
   "source": [
    "!pip3 install bs4"
   ]
  },
  {
   "cell_type": "code",
   "execution_count": null,
   "metadata": {
    "ExecuteTime": {
     "end_time": "2022-01-22T10:15:15.285675Z",
     "start_time": "2022-01-22T10:15:14.722874Z"
    },
    "scrolled": true
   },
   "outputs": [],
   "source": [
    "import pandas as pd\n",
    "import numpy as np\n",
    "import requests\n",
    "from bs4 import BeautifulSoup"
   ]
  },
  {
   "cell_type": "markdown",
   "metadata": {},
   "source": [
    "# The url to scrape"
   ]
  },
  {
   "cell_type": "code",
   "execution_count": null,
   "metadata": {
    "ExecuteTime": {
     "end_time": "2022-01-22T10:15:18.136225Z",
     "start_time": "2022-01-22T10:15:18.120246Z"
    }
   },
   "outputs": [],
   "source": [
    "url = 'https://www.uol.com.br/esporte/futebol/ultimas-noticias/2022/01/22/em-1995-decisao-na-base-entre-palmeiras-x-sp-terminou-em-morte-no-pacaembu.htm'"
   ]
  },
  {
   "cell_type": "markdown",
   "metadata": {},
   "source": [
    "# Get the response"
   ]
  },
  {
   "cell_type": "code",
   "execution_count": null,
   "metadata": {
    "ExecuteTime": {
     "end_time": "2022-01-22T10:15:20.487074Z",
     "start_time": "2022-01-22T10:15:20.362556Z"
    }
   },
   "outputs": [],
   "source": [
    "# Your code here!\n",
    "response = requests.get(url)"
   ]
  },
  {
   "cell_type": "code",
   "execution_count": null,
   "metadata": {
    "ExecuteTime": {
     "end_time": "2022-01-22T10:15:21.235207Z",
     "start_time": "2022-01-22T10:15:21.225236Z"
    }
   },
   "outputs": [],
   "source": [
    "html_str = response.text\n",
    "type(html_str)"
   ]
  },
  {
   "cell_type": "code",
   "execution_count": null,
   "metadata": {
    "ExecuteTime": {
     "end_time": "2022-01-22T10:15:24.194540Z",
     "start_time": "2022-01-22T10:15:24.164594Z"
    }
   },
   "outputs": [],
   "source": [
    "html_str"
   ]
  },
  {
   "cell_type": "markdown",
   "metadata": {},
   "source": [
    "# Get the html"
   ]
  },
  {
   "cell_type": "code",
   "execution_count": null,
   "metadata": {
    "ExecuteTime": {
     "end_time": "2022-01-22T10:15:29.264285Z",
     "start_time": "2022-01-22T10:15:29.246334Z"
    }
   },
   "outputs": [],
   "source": [
    "# Your code here!\n",
    "html_bytes = response.content\n",
    "type(html_bytes)"
   ]
  },
  {
   "cell_type": "code",
   "execution_count": null,
   "metadata": {
    "ExecuteTime": {
     "end_time": "2022-01-22T10:15:32.373987Z",
     "start_time": "2022-01-22T10:15:32.358007Z"
    }
   },
   "outputs": [],
   "source": [
    "html_bytes"
   ]
  },
  {
   "cell_type": "markdown",
   "metadata": {},
   "source": [
    "# Do the soup"
   ]
  },
  {
   "cell_type": "code",
   "execution_count": null,
   "metadata": {
    "ExecuteTime": {
     "end_time": "2022-01-22T10:15:39.306197Z",
     "start_time": "2022-01-22T10:15:39.244274Z"
    }
   },
   "outputs": [],
   "source": [
    "soup = BeautifulSoup(html_bytes)"
   ]
  },
  {
   "cell_type": "code",
   "execution_count": null,
   "metadata": {
    "ExecuteTime": {
     "end_time": "2022-01-22T10:15:42.161040Z",
     "start_time": "2022-01-22T10:15:42.056293Z"
    }
   },
   "outputs": [],
   "source": [
    "soup"
   ]
  },
  {
   "cell_type": "code",
   "execution_count": null,
   "metadata": {
    "ExecuteTime": {
     "end_time": "2022-01-22T10:15:47.499459Z",
     "start_time": "2022-01-22T10:15:47.492478Z"
    }
   },
   "outputs": [],
   "source": [
    "type(soup)"
   ]
  },
  {
   "cell_type": "code",
   "execution_count": null,
   "metadata": {
    "ExecuteTime": {
     "end_time": "2022-01-22T10:16:02.845397Z",
     "start_time": "2022-01-22T10:16:02.798497Z"
    }
   },
   "outputs": [],
   "source": [
    "print(soup.prettify())"
   ]
  },
  {
   "cell_type": "markdown",
   "metadata": {},
   "source": [
    "# With the soup, you'll be able to walk through the HTML tree. \n",
    "## Looking for tag h1"
   ]
  },
  {
   "cell_type": "code",
   "execution_count": null,
   "metadata": {
    "ExecuteTime": {
     "end_time": "2022-01-22T10:16:26.280047Z",
     "start_time": "2022-01-22T10:16:26.263105Z"
    }
   },
   "outputs": [],
   "source": [
    "soup.find_all('h1')[0]"
   ]
  },
  {
   "cell_type": "code",
   "execution_count": null,
   "metadata": {
    "ExecuteTime": {
     "end_time": "2022-01-22T10:16:27.393939Z",
     "start_time": "2022-01-22T10:16:27.388953Z"
    }
   },
   "outputs": [],
   "source": [
    "headers = soup.find_all('h1')"
   ]
  },
  {
   "cell_type": "code",
   "execution_count": null,
   "metadata": {
    "ExecuteTime": {
     "end_time": "2022-01-22T10:16:47.788731Z",
     "start_time": "2022-01-22T10:16:47.783774Z"
    }
   },
   "outputs": [],
   "source": [
    "headers"
   ]
  },
  {
   "cell_type": "code",
   "execution_count": null,
   "metadata": {
    "ExecuteTime": {
     "end_time": "2022-01-22T10:31:39.971986Z",
     "start_time": "2022-01-22T10:31:39.959990Z"
    }
   },
   "outputs": [],
   "source": [
    "header = headers[0]"
   ]
  },
  {
   "cell_type": "code",
   "execution_count": null,
   "metadata": {
    "ExecuteTime": {
     "end_time": "2022-01-22T10:31:48.325934Z",
     "start_time": "2022-01-22T10:31:48.312941Z"
    }
   },
   "outputs": [],
   "source": [
    "header.text"
   ]
  },
  {
   "cell_type": "code",
   "execution_count": null,
   "metadata": {
    "ExecuteTime": {
     "end_time": "2022-01-22T10:31:52.125967Z",
     "start_time": "2022-01-22T10:31:52.107013Z"
    }
   },
   "outputs": [],
   "source": [
    "type(header)"
   ]
  },
  {
   "cell_type": "markdown",
   "metadata": {},
   "source": [
    "## Looking for tag a"
   ]
  },
  {
   "cell_type": "code",
   "execution_count": null,
   "metadata": {
    "ExecuteTime": {
     "end_time": "2022-01-22T10:33:29.624986Z",
     "start_time": "2022-01-22T10:33:29.618009Z"
    },
    "scrolled": true
   },
   "outputs": [],
   "source": [
    "# Your code here!\n",
    "tag_a = soup.find_all('a')"
   ]
  },
  {
   "cell_type": "code",
   "execution_count": null,
   "metadata": {
    "ExecuteTime": {
     "end_time": "2022-01-22T10:33:31.586082Z",
     "start_time": "2022-01-22T10:33:31.547187Z"
    }
   },
   "outputs": [],
   "source": [
    "tag_a"
   ]
  },
  {
   "cell_type": "code",
   "execution_count": null,
   "metadata": {
    "ExecuteTime": {
     "end_time": "2022-01-22T10:33:49.710121Z",
     "start_time": "2022-01-22T10:33:49.706131Z"
    }
   },
   "outputs": [],
   "source": [
    "first_link = tag_a[0]"
   ]
  },
  {
   "cell_type": "code",
   "execution_count": null,
   "metadata": {
    "ExecuteTime": {
     "end_time": "2022-01-22T10:33:50.364949Z",
     "start_time": "2022-01-22T10:33:50.352954Z"
    }
   },
   "outputs": [],
   "source": [
    "first_link"
   ]
  },
  {
   "cell_type": "code",
   "execution_count": null,
   "metadata": {
    "ExecuteTime": {
     "end_time": "2022-01-22T10:34:03.566635Z",
     "start_time": "2022-01-22T10:34:03.558658Z"
    }
   },
   "outputs": [],
   "source": [
    "first_link.attrs"
   ]
  },
  {
   "cell_type": "code",
   "execution_count": null,
   "metadata": {
    "ExecuteTime": {
     "end_time": "2022-01-22T10:34:36.042957Z",
     "start_time": "2022-01-22T10:34:36.030989Z"
    }
   },
   "outputs": [],
   "source": [
    "first_link['href']"
   ]
  },
  {
   "cell_type": "code",
   "execution_count": null,
   "metadata": {
    "ExecuteTime": {
     "end_time": "2022-01-22T10:34:46.008036Z",
     "start_time": "2022-01-22T10:34:45.980111Z"
    }
   },
   "outputs": [],
   "source": [
    "[tag['href'] for tag in tag_a]"
   ]
  },
  {
   "cell_type": "code",
   "execution_count": null,
   "metadata": {
    "ExecuteTime": {
     "end_time": "2022-01-22T10:40:59.308731Z",
     "start_time": "2022-01-22T10:40:59.302752Z"
    }
   },
   "outputs": [],
   "source": [
    "results = []\n",
    "for tag in tag_a:\n",
    "    try:\n",
    "        results.append(tag['href'])\n",
    "    except KeyError:\n",
    "        continue"
   ]
  },
  {
   "cell_type": "code",
   "execution_count": null,
   "metadata": {
    "ExecuteTime": {
     "end_time": "2022-01-22T10:41:02.944697Z",
     "start_time": "2022-01-22T10:41:02.932726Z"
    }
   },
   "outputs": [],
   "source": [
    "results"
   ]
  },
  {
   "cell_type": "markdown",
   "metadata": {},
   "source": [
    "## Searching for a list of tags"
   ]
  },
  {
   "cell_type": "code",
   "execution_count": null,
   "metadata": {
    "ExecuteTime": {
     "end_time": "2022-01-22T10:43:24.582137Z",
     "start_time": "2022-01-22T10:43:24.558198Z"
    }
   },
   "outputs": [],
   "source": [
    "# Your code here!\n",
    "tags = soup.find_all(['h1', 'h2', 'h3'])"
   ]
  },
  {
   "cell_type": "code",
   "execution_count": null,
   "metadata": {
    "ExecuteTime": {
     "end_time": "2022-01-22T10:43:29.176482Z",
     "start_time": "2022-01-22T10:43:29.171494Z"
    }
   },
   "outputs": [],
   "source": [
    "results = [tag.text for tag in tags]\n",
    "len(results)"
   ]
  },
  {
   "cell_type": "code",
   "execution_count": null,
   "metadata": {
    "ExecuteTime": {
     "end_time": "2022-01-22T10:43:32.918577Z",
     "start_time": "2022-01-22T10:43:32.898630Z"
    }
   },
   "outputs": [],
   "source": [
    "results"
   ]
  },
  {
   "cell_type": "code",
   "execution_count": null,
   "metadata": {
    "ExecuteTime": {
     "end_time": "2022-01-22T10:43:55.424439Z",
     "start_time": "2022-01-22T10:43:55.402475Z"
    }
   },
   "outputs": [],
   "source": [
    "tags = soup.find_all(['article'])\n",
    "len(tags)"
   ]
  },
  {
   "cell_type": "code",
   "execution_count": null,
   "metadata": {
    "ExecuteTime": {
     "end_time": "2022-01-22T10:43:57.591897Z",
     "start_time": "2022-01-22T10:43:57.583890Z"
    }
   },
   "outputs": [],
   "source": [
    "tags[0].text"
   ]
  },
  {
   "cell_type": "code",
   "execution_count": null,
   "metadata": {
    "ExecuteTime": {
     "end_time": "2022-01-22T10:44:19.661193Z",
     "start_time": "2022-01-22T10:44:19.638254Z"
    }
   },
   "outputs": [],
   "source": [
    "# Your code here!\n",
    "tags = soup.find(['article'])"
   ]
  },
  {
   "cell_type": "code",
   "execution_count": null,
   "metadata": {
    "ExecuteTime": {
     "end_time": "2022-01-22T10:44:20.063595Z",
     "start_time": "2022-01-22T10:44:20.056584Z"
    }
   },
   "outputs": [],
   "source": [
    "tags.text"
   ]
  },
  {
   "cell_type": "markdown",
   "metadata": {},
   "source": [
    "# Another example"
   ]
  },
  {
   "cell_type": "markdown",
   "metadata": {},
   "source": [
    "<ol>\n",
    "    <li> request the url </li>\n",
    "    <li> get its html </li>\n",
    "    <li> convert to soup </li>\n",
    "    <li> being a soup, we can look for tags </li>\n",
    "</ol>\n",
    "    "
   ]
  },
  {
   "cell_type": "code",
   "execution_count": null,
   "metadata": {
    "ExecuteTime": {
     "end_time": "2022-01-22T10:44:45.359541Z",
     "start_time": "2022-01-22T10:44:45.353531Z"
    }
   },
   "outputs": [],
   "source": [
    "# Your code here!\n",
    "url = 'https://en.wikipedia.org/wiki/List_of_European_countries_by_life_expectancy'"
   ]
  },
  {
   "cell_type": "code",
   "execution_count": null,
   "metadata": {
    "ExecuteTime": {
     "end_time": "2022-01-22T10:44:46.587608Z",
     "start_time": "2022-01-22T10:44:45.951604Z"
    }
   },
   "outputs": [],
   "source": [
    "# Your code here!\n",
    "response = requests.get(url)\n",
    "html = response.text"
   ]
  },
  {
   "cell_type": "code",
   "execution_count": null,
   "metadata": {
    "ExecuteTime": {
     "end_time": "2022-01-22T10:44:48.698505Z",
     "start_time": "2022-01-22T10:44:48.653418Z"
    }
   },
   "outputs": [],
   "source": [
    "soup = BeautifulSoup(html)"
   ]
  },
  {
   "cell_type": "markdown",
   "metadata": {},
   "source": [
    "## Extraindo a tabela ('table')"
   ]
  },
  {
   "cell_type": "code",
   "execution_count": null,
   "metadata": {
    "ExecuteTime": {
     "end_time": "2022-01-22T10:49:18.436081Z",
     "start_time": "2022-01-22T10:49:18.427106Z"
    }
   },
   "outputs": [],
   "source": [
    "table_wiki_raw = soup.find('table', attrs={'class': 'sortable wikitable'})"
   ]
  },
  {
   "cell_type": "code",
   "execution_count": null,
   "metadata": {
    "ExecuteTime": {
     "end_time": "2022-01-22T10:49:29.545764Z",
     "start_time": "2022-01-22T10:49:29.539805Z"
    }
   },
   "outputs": [],
   "source": [
    "type(table_wiki_raw)"
   ]
  },
  {
   "cell_type": "code",
   "execution_count": null,
   "metadata": {
    "ExecuteTime": {
     "end_time": "2022-01-22T10:49:36.026104Z",
     "start_time": "2022-01-22T10:49:36.010173Z"
    }
   },
   "outputs": [],
   "source": [
    "print(table_wiki_raw)"
   ]
  },
  {
   "cell_type": "markdown",
   "metadata": {},
   "source": [
    "## Extraindo o corpo da tabela ('tbody')"
   ]
  },
  {
   "cell_type": "code",
   "execution_count": null,
   "metadata": {
    "ExecuteTime": {
     "end_time": "2022-01-22T10:50:32.439424Z",
     "start_time": "2022-01-22T10:50:32.426457Z"
    }
   },
   "outputs": [],
   "source": [
    "table_wiki = table_wiki_raw.find('tbody')"
   ]
  },
  {
   "cell_type": "code",
   "execution_count": null,
   "metadata": {
    "ExecuteTime": {
     "end_time": "2022-01-22T10:50:51.923096Z",
     "start_time": "2022-01-22T10:50:51.909106Z"
    }
   },
   "outputs": [],
   "source": [
    "print(table_wiki)"
   ]
  },
  {
   "cell_type": "code",
   "execution_count": null,
   "metadata": {
    "ExecuteTime": {
     "end_time": "2022-01-22T10:52:25.441514Z",
     "start_time": "2022-01-22T10:52:25.426557Z"
    }
   },
   "outputs": [],
   "source": [
    "type(table_wiki)"
   ]
  },
  {
   "cell_type": "markdown",
   "metadata": {},
   "source": [
    "### Extraindo as linhas da tabela ('tr')"
   ]
  },
  {
   "cell_type": "code",
   "execution_count": null,
   "metadata": {
    "ExecuteTime": {
     "end_time": "2022-01-22T10:52:48.635587Z",
     "start_time": "2022-01-22T10:52:48.625586Z"
    }
   },
   "outputs": [],
   "source": [
    "table_rows = table_wiki.find_all('tr')"
   ]
  },
  {
   "cell_type": "code",
   "execution_count": null,
   "metadata": {
    "ExecuteTime": {
     "end_time": "2022-01-22T10:53:17.757225Z",
     "start_time": "2022-01-22T10:53:17.737303Z"
    }
   },
   "outputs": [],
   "source": [
    "table_rows[1]"
   ]
  },
  {
   "cell_type": "markdown",
   "metadata": {},
   "source": [
    "### Extraindo as colunas de cada linha ('td')"
   ]
  },
  {
   "cell_type": "code",
   "execution_count": null,
   "metadata": {
    "ExecuteTime": {
     "end_time": "2022-01-22T10:57:05.390252Z",
     "start_time": "2022-01-22T10:57:05.374293Z"
    }
   },
   "outputs": [],
   "source": [
    "table_rows[1].find_all('td')"
   ]
  },
  {
   "cell_type": "code",
   "execution_count": null,
   "metadata": {
    "ExecuteTime": {
     "end_time": "2022-01-22T11:19:48.558221Z",
     "start_time": "2022-01-22T11:19:48.541239Z"
    }
   },
   "outputs": [],
   "source": [
    "first_row = table_rows[1].find_all('td')"
   ]
  },
  {
   "cell_type": "code",
   "execution_count": null,
   "metadata": {
    "ExecuteTime": {
     "end_time": "2022-01-22T11:19:49.133870Z",
     "start_time": "2022-01-22T11:19:49.115888Z"
    }
   },
   "outputs": [],
   "source": [
    "[elemento.text.strip() for elemento in first_row]"
   ]
  },
  {
   "cell_type": "markdown",
   "metadata": {},
   "source": [
    "### Juntando tudo!"
   ]
  },
  {
   "cell_type": "code",
   "execution_count": null,
   "metadata": {
    "ExecuteTime": {
     "end_time": "2022-01-22T11:21:40.577276Z",
     "start_time": "2022-01-22T11:21:40.560349Z"
    }
   },
   "outputs": [],
   "source": [
    "# EXERCICIO\n",
    "# Construir um DataFrame com os dados da tabela de Expectativa de Vida na Europa da Wikipedia\n",
    "# BONUS - faça isso com um list comprehension!\n",
    "# BONUS - contrua uma função que receba um link da Wikipedia com uma tabela e retorne um DataFrame (teste em outra tabela)"
   ]
  },
  {
   "cell_type": "markdown",
   "metadata": {},
   "source": [
    "# Creating a spider"
   ]
  },
  {
   "cell_type": "markdown",
   "metadata": {},
   "source": [
    "## Find the book name, price and stock availability as a pandas dataframe."
   ]
  },
  {
   "cell_type": "code",
   "execution_count": null,
   "metadata": {
    "ExecuteTime": {
     "end_time": "2022-01-22T12:27:05.246313Z",
     "start_time": "2022-01-22T12:27:04.423043Z"
    }
   },
   "outputs": [],
   "source": [
    "# Your code here!\n",
    "url = 'https://books.toscrape.com/catalogue/page-1.html'\n",
    "response = requests.get(url)\n",
    "html = response.content\n",
    "soup = BeautifulSoup(html)"
   ]
  },
  {
   "cell_type": "code",
   "execution_count": null,
   "metadata": {
    "ExecuteTime": {
     "end_time": "2022-01-22T12:29:08.259705Z",
     "start_time": "2022-01-22T12:29:08.246736Z"
    }
   },
   "outputs": [],
   "source": [
    "articles = soup.find_all('article')\n",
    "print(articles[0].prettify())"
   ]
  },
  {
   "cell_type": "code",
   "execution_count": null,
   "metadata": {
    "ExecuteTime": {
     "end_time": "2022-01-22T12:28:55.793982Z",
     "start_time": "2022-01-22T12:28:55.779022Z"
    }
   },
   "outputs": [],
   "source": [
    "article_head = articles[0].find('h3')\n",
    "print(article_head.prettify())"
   ]
  },
  {
   "cell_type": "code",
   "execution_count": null,
   "metadata": {
    "ExecuteTime": {
     "end_time": "2022-01-22T12:29:44.451346Z",
     "start_time": "2022-01-22T12:29:44.436386Z"
    }
   },
   "outputs": [],
   "source": [
    "article_head.find('a')['title']"
   ]
  },
  {
   "cell_type": "code",
   "execution_count": null,
   "metadata": {
    "ExecuteTime": {
     "end_time": "2022-01-22T12:30:38.684233Z",
     "start_time": "2022-01-22T12:30:38.666281Z"
    }
   },
   "outputs": [],
   "source": [
    "articles[0].find('h3').find('a')['title']"
   ]
  },
  {
   "cell_type": "code",
   "execution_count": null,
   "metadata": {
    "ExecuteTime": {
     "end_time": "2022-01-22T12:30:52.103855Z",
     "start_time": "2022-01-22T12:30:52.086899Z"
    }
   },
   "outputs": [],
   "source": [
    "lista_titulos = [item.find('h3').find('a')['title'] for item in articles]"
   ]
  },
  {
   "cell_type": "code",
   "execution_count": null,
   "metadata": {
    "ExecuteTime": {
     "end_time": "2022-01-22T12:33:09.409913Z",
     "start_time": "2022-01-22T12:33:09.394953Z"
    }
   },
   "outputs": [],
   "source": [
    "articles[0].find('div', attrs = {'class' : 'product_price'})"
   ]
  },
  {
   "cell_type": "code",
   "execution_count": null,
   "metadata": {
    "ExecuteTime": {
     "end_time": "2022-01-22T12:34:08.689328Z",
     "start_time": "2022-01-22T12:34:08.684341Z"
    }
   },
   "outputs": [],
   "source": [
    "articles[0].find('div', attrs = {'class' : 'product_price'}).find('p', attrs = {'class' : 'price_color'})"
   ]
  },
  {
   "cell_type": "code",
   "execution_count": null,
   "metadata": {
    "ExecuteTime": {
     "end_time": "2022-01-22T12:34:51.359397Z",
     "start_time": "2022-01-22T12:34:51.345405Z"
    }
   },
   "outputs": [],
   "source": [
    "lista_preco = [\n",
    "    item.find('div', attrs={\n",
    "        'class': 'product_price'\n",
    "    }).find('p', attrs={\n",
    "        'class': 'price_color'\n",
    "    }).text for item in articles\n",
    "]"
   ]
  },
  {
   "cell_type": "code",
   "execution_count": null,
   "metadata": {
    "ExecuteTime": {
     "end_time": "2022-01-22T12:35:43.789581Z",
     "start_time": "2022-01-22T12:35:43.779582Z"
    }
   },
   "outputs": [],
   "source": [
    "articles[0].find('div', attrs = {'class' : 'product_price'}).find('p', attrs = {'class' : 'instock availability'}).text.strip()"
   ]
  },
  {
   "cell_type": "code",
   "execution_count": null,
   "metadata": {},
   "outputs": [],
   "source": [
    "stock_list = [\n",
    "    item.find('div', attrs={\n",
    "        'class': 'product_price'\n",
    "    }).find('p', attrs={\n",
    "        'class': 'instock availability'\n",
    "    }).text.strip() for item in articles\n",
    "]"
   ]
  },
  {
   "cell_type": "code",
   "execution_count": null,
   "metadata": {},
   "outputs": [],
   "source": [
    "# EXERCICIO\n",
    "# Extrair as informações acima para as primeiras 10 páginas e guarda-las em um DataFrame"
   ]
  },
  {
   "cell_type": "markdown",
   "metadata": {},
   "source": [
    "## Percorrer artigos relacionados à outro artigo"
   ]
  },
  {
   "cell_type": "code",
   "execution_count": null,
   "metadata": {
    "ExecuteTime": {
     "end_time": "2022-01-22T11:46:34.722724Z",
     "start_time": "2022-01-22T11:46:34.622073Z"
    }
   },
   "outputs": [],
   "source": [
    "url = \"https://www.theguardian.com/world/2022/jan/22/one-canadian-killed-after-tourists-shot-at-mexican-beach-resort-hotel\"\n",
    "response = requests.get(url)\n",
    "html = response.content\n",
    "soup = BeautifulSoup(html)"
   ]
  },
  {
   "cell_type": "code",
   "execution_count": null,
   "metadata": {
    "ExecuteTime": {
     "end_time": "2022-01-22T11:58:11.096046Z",
     "start_time": "2022-01-22T11:58:11.089065Z"
    }
   },
   "outputs": [],
   "source": [
    "artigo = soup.find('article')\n",
    "links_artigo = artigo.find_all('a', attrs={'data-link-name': 'in body link'})\n",
    "len(links_artigo)"
   ]
  },
  {
   "cell_type": "code",
   "execution_count": null,
   "metadata": {
    "ExecuteTime": {
     "end_time": "2022-01-22T11:58:41.864949Z",
     "start_time": "2022-01-22T11:58:41.854007Z"
    }
   },
   "outputs": [],
   "source": [
    "[link['href'] for link in links_artigo]"
   ]
  },
  {
   "cell_type": "code",
   "execution_count": null,
   "metadata": {
    "ExecuteTime": {
     "end_time": "2022-01-22T12:49:21.120757Z",
     "start_time": "2022-01-22T12:49:20.493766Z"
    }
   },
   "outputs": [],
   "source": [
    "url_filho = links_artigo[2]['href']\n",
    "response_filho = requests.get(url_filho)\n",
    "html_filho = response_filho.content\n",
    "soup_filho = BeautifulSoup(html_filho)\n",
    "artigo_filho = soup_filho.find('article').text\n",
    "print(artigo_filho)"
   ]
  },
  {
   "cell_type": "code",
   "execution_count": null,
   "metadata": {
    "ExecuteTime": {
     "end_time": "2022-01-22T12:50:42.821704Z",
     "start_time": "2022-01-22T12:50:40.467283Z"
    }
   },
   "outputs": [],
   "source": [
    "lista_artigos = []\n",
    "lista_links = [link['href'] for link in links_artigo]\n",
    "for link in lista_links:\n",
    "    if link.find('guardian') >= 0:\n",
    "        try:\n",
    "            response_filho = requests.get(link)\n",
    "            html_filho = response_filho.content\n",
    "            soup_filho = BeautifulSoup(html_filho)\n",
    "            lista_artigos.append(soup_filho.find('article').text)\n",
    "        except AttributeError:\n",
    "            continue"
   ]
  },
  {
   "cell_type": "code",
   "execution_count": null,
   "metadata": {
    "ExecuteTime": {
     "end_time": "2022-01-22T12:50:54.878340Z",
     "start_time": "2022-01-22T12:50:54.862379Z"
    }
   },
   "outputs": [],
   "source": [
    "# EXERCICIO\n",
    "# Transforme o código acima em uma função que recebe um link de artigo do Guardian como argumento\n",
    "# e retorna uma lista com o texto do artigo original e o texto de quaisquer artigos do Guardian\n",
    "# linkados no texto do artigo original\n",
    "# BONUS - crie uma função que faça isso em profundidade maior que um: além do artigo original e dos artigos\n",
    "# filhos (artigos linkados no artigo original) trazer os artigos netos (artigos linkados nos artigos filhos)\n",
    "# BONUS BONUS - contrua uma função capaz de extrair uma profundidade arbitraria de artigos (filhos, netos, bisnetos...) \n",
    "# a partir de um parametro 'depth' (0 = original, 1 = filhos, 2 = netos, 3 = bisnetos, etc)"
   ]
  },
  {
   "cell_type": "code",
   "execution_count": null,
   "metadata": {},
   "outputs": [],
   "source": []
  }
 ],
 "metadata": {
  "hide_input": false,
  "kernelspec": {
   "display_name": "Python 3",
   "language": "python",
   "name": "python3"
  },
  "language_info": {
   "codemirror_mode": {
    "name": "ipython",
    "version": 3
   },
   "file_extension": ".py",
   "mimetype": "text/x-python",
   "name": "python",
   "nbconvert_exporter": "python",
   "pygments_lexer": "ipython3",
   "version": "3.8.8"
  },
  "toc": {
   "base_numbering": 1,
   "nav_menu": {},
   "number_sections": true,
   "sideBar": true,
   "skip_h1_title": false,
   "title_cell": "Table of Contents",
   "title_sidebar": "Contents",
   "toc_cell": false,
   "toc_position": {},
   "toc_section_display": true,
   "toc_window_display": false
  },
  "varInspector": {
   "cols": {
    "lenName": 16,
    "lenType": 16,
    "lenVar": 40
   },
   "kernels_config": {
    "python": {
     "delete_cmd_postfix": "",
     "delete_cmd_prefix": "del ",
     "library": "var_list.py",
     "varRefreshCmd": "print(var_dic_list())"
    },
    "r": {
     "delete_cmd_postfix": ") ",
     "delete_cmd_prefix": "rm(",
     "library": "var_list.r",
     "varRefreshCmd": "cat(var_dic_list()) "
    }
   },
   "types_to_exclude": [
    "module",
    "function",
    "builtin_function_or_method",
    "instance",
    "_Feature"
   ],
   "window_display": false
  }
 },
 "nbformat": 4,
 "nbformat_minor": 4
}
