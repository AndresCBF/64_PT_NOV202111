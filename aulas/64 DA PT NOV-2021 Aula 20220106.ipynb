{
 "cells": [
  {
   "cell_type": "markdown",
   "metadata": {},
   "source": [
    "# Advanced Regex"
   ]
  },
  {
   "cell_type": "markdown",
   "metadata": {},
   "source": [
    "## Regular Expression review\n",
    "\n",
    "- A powerful way to match text"
   ]
  },
  {
   "cell_type": "code",
   "execution_count": null,
   "metadata": {
    "ExecuteTime": {
     "end_time": "2022-01-06T21:57:00.016118Z",
     "start_time": "2022-01-06T21:56:59.595242Z"
    }
   },
   "outputs": [],
   "source": [
    "import pandas as pd\n",
    "import numpy as np\n",
    "import re"
   ]
  },
  {
   "cell_type": "markdown",
   "metadata": {},
   "source": [
    "https://regexr.com/"
   ]
  },
  {
   "cell_type": "code",
   "execution_count": null,
   "metadata": {
    "ExecuteTime": {
     "end_time": "2022-01-06T21:57:00.722277Z",
     "start_time": "2022-01-06T21:57:00.710305Z"
    }
   },
   "outputs": [],
   "source": [
    "texto = '''\n",
    "        Quando certa manhã Gregor Samsa acordou de sonhos intranquilos,\n",
    "        encontrou-se em sua cama metamorfoseado num inseto monstruoso.\n",
    "        '''"
   ]
  },
  {
   "cell_type": "markdown",
   "metadata": {},
   "source": [
    "### Literal Strings vs Sets"
   ]
  },
  {
   "cell_type": "markdown",
   "metadata": {},
   "source": [
    "#### literal strings: find the pattern 'Samsa'"
   ]
  },
  {
   "cell_type": "code",
   "execution_count": null,
   "metadata": {
    "ExecuteTime": {
     "end_time": "2022-01-06T21:57:02.394296Z",
     "start_time": "2022-01-06T21:57:02.390312Z"
    }
   },
   "outputs": [],
   "source": [
    "print(re.findall('Samsa', texto))"
   ]
  },
  {
   "cell_type": "code",
   "execution_count": null,
   "metadata": {
    "ExecuteTime": {
     "end_time": "2022-01-06T21:57:03.599220Z",
     "start_time": "2022-01-06T21:57:03.582245Z"
    }
   },
   "outputs": [],
   "source": [
    "print(re.findall('so', texto))"
   ]
  },
  {
   "cell_type": "code",
   "execution_count": null,
   "metadata": {
    "ExecuteTime": {
     "end_time": "2022-01-06T21:57:04.165187Z",
     "start_time": "2022-01-06T21:57:04.154217Z"
    }
   },
   "outputs": [],
   "source": [
    "print(re.findall('SO', texto))"
   ]
  },
  {
   "cell_type": "markdown",
   "metadata": {},
   "source": [
    "#### sets: Finding the pattern `m` or `e` or `t` or ..."
   ]
  },
  {
   "cell_type": "markdown",
   "metadata": {},
   "source": [
    "##### Exemplo 1: m | e | t | a | m | o | r | f | o | s | e"
   ]
  },
  {
   "cell_type": "code",
   "execution_count": null,
   "metadata": {
    "ExecuteTime": {
     "end_time": "2022-01-06T21:57:32.784444Z",
     "start_time": "2022-01-06T21:57:32.771506Z"
    }
   },
   "outputs": [],
   "source": [
    "print(re.findall('m|e|t|a|m|o|r|f|o|s|e', texto))"
   ]
  },
  {
   "cell_type": "code",
   "execution_count": null,
   "metadata": {
    "ExecuteTime": {
     "end_time": "2022-01-06T13:37:22.093544Z",
     "start_time": "2022-01-06T13:37:22.074596Z"
    }
   },
   "outputs": [],
   "source": [
    "print(re.findall('[metamorfose]', texto))"
   ]
  },
  {
   "cell_type": "code",
   "execution_count": null,
   "metadata": {
    "ExecuteTime": {
     "end_time": "2022-01-06T13:37:39.753740Z",
     "start_time": "2022-01-06T13:37:39.734761Z"
    }
   },
   "outputs": [],
   "source": [
    "re.findall('[metamorfose]', texto) == re.findall('m|e|t|a|m|o|r|f|o|s|e', texto)"
   ]
  },
  {
   "cell_type": "markdown",
   "metadata": {},
   "source": [
    "##### Exemplo 2: Cidade de São Paulo"
   ]
  },
  {
   "cell_type": "code",
   "execution_count": null,
   "metadata": {
    "ExecuteTime": {
     "end_time": "2022-01-06T21:59:22.065270Z",
     "start_time": "2022-01-06T21:59:22.056271Z"
    }
   },
   "outputs": [],
   "source": [
    "text = 'São Paulo Sao Paulo Sáo Paulo Sun Paulo seu paulo san paolo sao paulo são paolo sAo Paolo sao_paulo'\n",
    "\n",
    "pattern = r'[Ss][ãaáàâAÃÁÀâeu][oun][ _][Pp]a[uo]lo'\n",
    "re.findall(pattern, text)"
   ]
  },
  {
   "cell_type": "code",
   "execution_count": null,
   "metadata": {
    "ExecuteTime": {
     "end_time": "2022-01-06T21:59:22.582248Z",
     "start_time": "2022-01-06T21:59:22.568259Z"
    }
   },
   "outputs": [],
   "source": [
    "nome = 'seu paulo'\n",
    "pattern = r'[Ss][ãaáàâAÃÁÀâeu][oun][ _][Pp]a[uo]lo'\n",
    "print(re.sub(pattern, 'São Paulo', nome))"
   ]
  },
  {
   "cell_type": "code",
   "execution_count": null,
   "metadata": {
    "ExecuteTime": {
     "end_time": "2022-01-06T21:59:23.186964Z",
     "start_time": "2022-01-06T21:59:23.170978Z"
    }
   },
   "outputs": [],
   "source": [
    "pattern = r'[Ss][ãaáàâAÃÁÀâeu][oun][ _][Pp]a[uo]lo'\n",
    "print(re.sub(pattern, 'São Paulo', text))"
   ]
  },
  {
   "cell_type": "code",
   "execution_count": null,
   "metadata": {
    "ExecuteTime": {
     "end_time": "2022-01-06T21:59:26.831177Z",
     "start_time": "2022-01-06T21:59:26.813207Z"
    }
   },
   "outputs": [],
   "source": [
    "nomes_sp = ['São Paulo', 'Sao Paulo', 'Sáo Paulo', \n",
    "            'Sun Paulo', 'seu paulo', 'san paolo', \n",
    "            'sao paulo', 'são paolo', 'sAo Paolo', \n",
    "            'sao_paulo']\n",
    "print(re.sub(pattern, 'São Paulo', nomes_sp[0]))"
   ]
  },
  {
   "cell_type": "code",
   "execution_count": null,
   "metadata": {
    "ExecuteTime": {
     "end_time": "2022-01-06T21:59:29.364176Z",
     "start_time": "2022-01-06T21:59:29.354212Z"
    }
   },
   "outputs": [],
   "source": [
    "print(re.sub(pattern, 'São Paulo', nomes_sp[1]))"
   ]
  },
  {
   "cell_type": "code",
   "execution_count": null,
   "metadata": {
    "ExecuteTime": {
     "end_time": "2022-01-06T21:59:30.087108Z",
     "start_time": "2022-01-06T21:59:30.066165Z"
    }
   },
   "outputs": [],
   "source": [
    "print(re.sub(pattern, 'São Paulo', nomes_sp))"
   ]
  },
  {
   "cell_type": "code",
   "execution_count": null,
   "metadata": {
    "ExecuteTime": {
     "end_time": "2022-01-06T22:00:02.315332Z",
     "start_time": "2022-01-06T22:00:02.302355Z"
    }
   },
   "outputs": [],
   "source": [
    "nome_sp_limpo = [re.sub(pattern, 'São Paulo', nome) for nome in nomes_sp]\n",
    "print(nome_sp_limpo)"
   ]
  },
  {
   "cell_type": "markdown",
   "metadata": {},
   "source": [
    "So anything within brackets `[ ]` are considered `sets` in RegEx. A set of patterns you want to find. "
   ]
  },
  {
   "cell_type": "markdown",
   "metadata": {},
   "source": [
    "## Since it is a set, you can look for complete sets"
   ]
  },
  {
   "cell_type": "code",
   "execution_count": null,
   "metadata": {
    "ExecuteTime": {
     "end_time": "2022-01-06T13:56:57.751890Z",
     "start_time": "2022-01-06T13:56:57.746902Z"
    }
   },
   "outputs": [],
   "source": [
    "lista_tarefas = '''\n",
    "    A) cortar grama\n",
    "    B) arrumar porta\n",
    "    C) instalar calha\n",
    "    D) ligar para Pedro as 9\n",
    "    '''"
   ]
  },
  {
   "cell_type": "markdown",
   "metadata": {},
   "source": [
    "For example: The set of upper-case letters from A to D."
   ]
  },
  {
   "cell_type": "code",
   "execution_count": null,
   "metadata": {
    "ExecuteTime": {
     "end_time": "2022-01-06T13:57:00.967993Z",
     "start_time": "2022-01-06T13:57:00.957992Z"
    }
   },
   "outputs": [],
   "source": [
    "re.findall(r'A|B|C|D', lista_tarefas)"
   ]
  },
  {
   "cell_type": "code",
   "execution_count": null,
   "metadata": {
    "ExecuteTime": {
     "end_time": "2022-01-06T13:57:12.637037Z",
     "start_time": "2022-01-06T13:57:12.628062Z"
    }
   },
   "outputs": [],
   "source": [
    "re.findall(r'[ABCD]', lista_tarefas)"
   ]
  },
  {
   "cell_type": "code",
   "execution_count": null,
   "metadata": {
    "ExecuteTime": {
     "end_time": "2022-01-06T13:57:18.565831Z",
     "start_time": "2022-01-06T13:57:18.553885Z"
    }
   },
   "outputs": [],
   "source": [
    "re.findall(r'[A-D]', lista_tarefas)"
   ]
  },
  {
   "cell_type": "code",
   "execution_count": null,
   "metadata": {
    "ExecuteTime": {
     "end_time": "2022-01-06T13:57:30.904554Z",
     "start_time": "2022-01-06T13:57:30.884607Z"
    }
   },
   "outputs": [],
   "source": [
    "re.findall(r'[A-Z]', lista_tarefas)"
   ]
  },
  {
   "cell_type": "code",
   "execution_count": null,
   "metadata": {
    "ExecuteTime": {
     "end_time": "2022-01-06T14:00:26.425710Z",
     "start_time": "2022-01-06T14:00:26.421721Z"
    }
   },
   "outputs": [],
   "source": [
    "lista_tarefas = '''\n",
    "    1) cortar grama\n",
    "    2) arrumar porta\n",
    "        2a trocar fechadura\n",
    "    3) instalar calha\n",
    "    4) ligar para Pedro as 9\n",
    "    '''\n",
    "re.findall('1|2|3|4', lista_tarefas)"
   ]
  },
  {
   "cell_type": "code",
   "execution_count": null,
   "metadata": {
    "ExecuteTime": {
     "end_time": "2022-01-06T14:00:27.096634Z",
     "start_time": "2022-01-06T14:00:27.081674Z"
    }
   },
   "outputs": [],
   "source": [
    "re.findall(r'[1234]', lista_tarefas)"
   ]
  },
  {
   "cell_type": "code",
   "execution_count": null,
   "metadata": {
    "ExecuteTime": {
     "end_time": "2022-01-06T14:00:27.985658Z",
     "start_time": "2022-01-06T14:00:27.968676Z"
    }
   },
   "outputs": [],
   "source": [
    "re.findall(r'[1-4]', lista_tarefas)"
   ]
  },
  {
   "cell_type": "code",
   "execution_count": null,
   "metadata": {
    "ExecuteTime": {
     "end_time": "2022-01-06T14:00:28.690835Z",
     "start_time": "2022-01-06T14:00:28.671862Z"
    }
   },
   "outputs": [],
   "source": [
    "re.findall(r'[0-9]', lista_tarefas)"
   ]
  },
  {
   "cell_type": "code",
   "execution_count": null,
   "metadata": {
    "ExecuteTime": {
     "end_time": "2022-01-06T14:00:29.563898Z",
     "start_time": "2022-01-06T14:00:29.552910Z"
    }
   },
   "outputs": [],
   "source": [
    "re.findall(r'[0-9A-Z]', lista_tarefas)"
   ]
  },
  {
   "cell_type": "code",
   "execution_count": null,
   "metadata": {
    "ExecuteTime": {
     "end_time": "2022-01-06T14:00:30.472677Z",
     "start_time": "2022-01-06T14:00:30.463700Z"
    }
   },
   "outputs": [],
   "source": [
    "re.findall(r'[0-9][a-z]', lista_tarefas)"
   ]
  },
  {
   "cell_type": "markdown",
   "metadata": {},
   "source": [
    "Some useful sets: \n",
    "\n",
    "* [a-z]: Any lowercase letter between a and z.\n",
    "* [A-Z]: Any uppercase letter between A and Z.\n",
    "* [0-9]: Any numeric character between 0 and 9."
   ]
  },
  {
   "cell_type": "markdown",
   "metadata": {},
   "source": [
    "# Meta characters - They means something different than the character they represent."
   ]
  },
  {
   "cell_type": "markdown",
   "metadata": {},
   "source": [
    "* `.` : Match **any character** except newline (`\\n`)\n",
    "* `^` : If used within a `set`, negates the condition\n",
    "> Careful, this pattern also represents another thing: If used <u>outside a set</u>, it represents `match if at the beginning of the line`\n",
    "* `$` : Match if at end of the line\n",
    "* `|` : \"OR\" operator"
   ]
  },
  {
   "cell_type": "markdown",
   "metadata": {},
   "source": [
    "## OR"
   ]
  },
  {
   "cell_type": "code",
   "execution_count": null,
   "metadata": {
    "ExecuteTime": {
     "end_time": "2022-01-06T14:04:03.046614Z",
     "start_time": "2022-01-06T14:04:03.030685Z"
    }
   },
   "outputs": [],
   "source": [
    "text = 'pedro PEDRO adriano ADRIANO'"
   ]
  },
  {
   "cell_type": "code",
   "execution_count": null,
   "metadata": {
    "ExecuteTime": {
     "end_time": "2022-01-06T14:13:54.668073Z",
     "start_time": "2022-01-06T14:13:54.663086Z"
    }
   },
   "outputs": [],
   "source": [
    "pattern = '[PA][ED]|[pa][ed]'\n",
    "re.findall(pattern, text)"
   ]
  },
  {
   "cell_type": "code",
   "execution_count": null,
   "metadata": {
    "ExecuteTime": {
     "end_time": "2022-01-06T14:14:13.189023Z",
     "start_time": "2022-01-06T14:14:13.178053Z"
    }
   },
   "outputs": [],
   "source": [
    "text = '''\n",
    "I like penguins\n",
    "I like lions\n",
    "I like penguins and lions\n",
    "'''\n",
    "pattern = 'penguins|lions'\n",
    "re.findall(pattern, text)"
   ]
  },
  {
   "cell_type": "markdown",
   "metadata": {},
   "source": [
    "## Match any character"
   ]
  },
  {
   "cell_type": "code",
   "execution_count": null,
   "metadata": {
    "ExecuteTime": {
     "end_time": "2022-01-06T14:16:37.986952Z",
     "start_time": "2022-01-06T14:16:37.976979Z"
    }
   },
   "outputs": [],
   "source": [
    "text = '''My boss asked me to turn in my TPS reports. \n",
    "I told him they were done, but they are not.'''\n",
    "pattern = r'.'\n",
    "print(re.findall(pattern, text))"
   ]
  },
  {
   "cell_type": "code",
   "execution_count": null,
   "metadata": {
    "ExecuteTime": {
     "end_time": "2022-01-06T14:16:46.228841Z",
     "start_time": "2022-01-06T14:16:46.222857Z"
    }
   },
   "outputs": [],
   "source": [
    "print(''.join(re.findall(pattern, text)))"
   ]
  },
  {
   "cell_type": "code",
   "execution_count": null,
   "metadata": {
    "ExecuteTime": {
     "end_time": "2022-01-06T14:16:54.486664Z",
     "start_time": "2022-01-06T14:16:54.479681Z"
    }
   },
   "outputs": [],
   "source": [
    "pattern = r'.|\\n'\n",
    "print(''.join(re.findall(pattern, text)))"
   ]
  },
  {
   "cell_type": "markdown",
   "metadata": {},
   "source": [
    "## Match everything not in specific set"
   ]
  },
  {
   "cell_type": "code",
   "execution_count": null,
   "metadata": {
    "ExecuteTime": {
     "end_time": "2022-01-06T14:19:05.379062Z",
     "start_time": "2022-01-06T14:19:05.365099Z"
    }
   },
   "outputs": [],
   "source": [
    "text = \"\"\"My boss asked me to turn in my TPS reports. \n",
    "I told him they were done, but they are not.\"\"\"\n",
    "pattern = r'[^a-m]'\n",
    "print(re.findall(pattern, text))"
   ]
  },
  {
   "cell_type": "code",
   "execution_count": null,
   "metadata": {
    "ExecuteTime": {
     "end_time": "2022-01-06T14:19:20.205040Z",
     "start_time": "2022-01-06T14:19:20.201050Z"
    }
   },
   "outputs": [],
   "source": [
    "print(''.join(re.findall(pattern, text)))"
   ]
  },
  {
   "cell_type": "markdown",
   "metadata": {},
   "source": [
    "## Match sentences `beginning with pattern`"
   ]
  },
  {
   "cell_type": "code",
   "execution_count": null,
   "metadata": {
    "ExecuteTime": {
     "end_time": "2022-01-06T14:26:20.652570Z",
     "start_time": "2022-01-06T14:26:20.647584Z"
    }
   },
   "outputs": [],
   "source": [
    "text = '''My boss asked me to turn in my TPS reports.\n",
    "The boss told him they were done, but they are not.'''"
   ]
  },
  {
   "cell_type": "code",
   "execution_count": null,
   "metadata": {
    "ExecuteTime": {
     "end_time": "2022-01-06T14:26:20.920690Z",
     "start_time": "2022-01-06T14:26:20.914734Z"
    }
   },
   "outputs": [],
   "source": [
    "pattern = r'^My boss'\n",
    "re.findall(pattern, text)"
   ]
  },
  {
   "cell_type": "code",
   "execution_count": null,
   "metadata": {
    "ExecuteTime": {
     "end_time": "2022-01-06T14:26:21.172612Z",
     "start_time": "2022-01-06T14:26:21.160617Z"
    }
   },
   "outputs": [],
   "source": [
    "pattern = r'^The boss'\n",
    "re.findall(pattern, text)"
   ]
  },
  {
   "cell_type": "code",
   "execution_count": null,
   "metadata": {
    "ExecuteTime": {
     "end_time": "2022-01-06T14:26:21.502442Z",
     "start_time": "2022-01-06T14:26:21.491443Z"
    }
   },
   "outputs": [],
   "source": [
    "pattern = r'^The boss'\n",
    "re.findall(pattern, text, re.MULTILINE)"
   ]
  },
  {
   "cell_type": "code",
   "execution_count": null,
   "metadata": {
    "ExecuteTime": {
     "end_time": "2022-01-06T14:26:23.390832Z",
     "start_time": "2022-01-06T14:26:23.377870Z"
    }
   },
   "outputs": [],
   "source": [
    "pattern = r'are not.$'\n",
    "re.findall(pattern, text)"
   ]
  },
  {
   "cell_type": "code",
   "execution_count": null,
   "metadata": {
    "ExecuteTime": {
     "end_time": "2022-01-06T14:26:29.784697Z",
     "start_time": "2022-01-06T14:26:29.768724Z"
    }
   },
   "outputs": [],
   "source": [
    "pattern = 'reports.$'\n",
    "re.findall(pattern, text, re.MULTILINE)"
   ]
  },
  {
   "cell_type": "markdown",
   "metadata": {},
   "source": [
    "## Characters classes\n",
    "\n",
    "* `\\d`: numeric characters\n",
    "* `\\w`: alphanumeric characters \n",
    "* `\\s`: spaces\n",
    "* `\\D`: not numeric characters"
   ]
  },
  {
   "cell_type": "code",
   "execution_count": null,
   "metadata": {
    "ExecuteTime": {
     "end_time": "2022-01-06T14:29:12.263579Z",
     "start_time": "2022-01-06T14:29:12.253596Z"
    }
   },
   "outputs": [],
   "source": [
    "text = 'aoijo (  $ p io x -o = 3232 13 ™¡¡™£¡Ωå 3.1 áéóãà'\n",
    "pattern = r'\\d'\n",
    "print(re.findall(pattern, text))"
   ]
  },
  {
   "cell_type": "code",
   "execution_count": null,
   "metadata": {
    "ExecuteTime": {
     "end_time": "2022-01-06T14:27:48.564599Z",
     "start_time": "2022-01-06T14:27:48.554601Z"
    }
   },
   "outputs": [],
   "source": [
    "# pattern que retorna tudo menos números"
   ]
  },
  {
   "cell_type": "markdown",
   "metadata": {},
   "source": [
    "# Quantifiers "
   ]
  },
  {
   "cell_type": "markdown",
   "metadata": {},
   "source": [
    "* *: Matches previous character 0 or more times\n",
    "* +: Matches previous character 1 or more times\n",
    "* ?: Matches previous character 0 or 1 times (optional)\n",
    "* {}: Matches previous characters however many times specified within:\n",
    "* {n} : Exactly n times\n",
    "* {n,} : At least n times\n",
    "* {n,m} : Between n and m times"
   ]
  },
  {
   "cell_type": "markdown",
   "metadata": {},
   "source": [
    "## \\d* --> Matches any numeric character that appears 0 or more times."
   ]
  },
  {
   "cell_type": "code",
   "execution_count": null,
   "metadata": {
    "ExecuteTime": {
     "end_time": "2022-01-06T14:29:25.456318Z",
     "start_time": "2022-01-06T14:29:25.444350Z"
    }
   },
   "outputs": [],
   "source": [
    "text = 'aoijo (  $ p io x -o = 3232 13 ™¡¡™£¡Ωå 3.1 áéóãà'\n",
    "pattern = r'\\d*'\n",
    "print(re.findall(pattern, text))"
   ]
  },
  {
   "cell_type": "code",
   "execution_count": null,
   "metadata": {
    "ExecuteTime": {
     "end_time": "2022-01-06T14:29:55.000710Z",
     "start_time": "2022-01-06T14:29:54.986760Z"
    }
   },
   "outputs": [],
   "source": [
    "text = 'aoijo (  $ p io x -o = 3232 13 ™¡¡™£¡Ωå 3.1 áéóãà'\n",
    "pattern = r'\\d+'\n",
    "print(re.findall(pattern, text))"
   ]
  },
  {
   "cell_type": "code",
   "execution_count": null,
   "metadata": {
    "ExecuteTime": {
     "end_time": "2022-01-06T14:30:55.362424Z",
     "start_time": "2022-01-06T14:30:55.347464Z"
    }
   },
   "outputs": [],
   "source": [
    "text = 'aoijo (  $ p io x -o = 3232 13 ™¡¡™£¡Ωå 3.1 áéóãà'\n",
    "pattern = r'\\d?'\n",
    "print(re.findall(pattern, text))"
   ]
  },
  {
   "cell_type": "code",
   "execution_count": null,
   "metadata": {
    "ExecuteTime": {
     "end_time": "2022-01-06T14:32:04.000343Z",
     "start_time": "2022-01-06T14:32:03.994356Z"
    }
   },
   "outputs": [],
   "source": [
    "pattern = r'\\d.?\\d+'\n",
    "print(re.findall(pattern, text))"
   ]
  },
  {
   "cell_type": "code",
   "execution_count": null,
   "metadata": {
    "ExecuteTime": {
     "end_time": "2022-01-06T14:32:40.710525Z",
     "start_time": "2022-01-06T14:32:40.693541Z"
    }
   },
   "outputs": [],
   "source": [
    "pattern = r'[0-9].?[0-9]+'\n",
    "print(re.findall(pattern, text))"
   ]
  },
  {
   "cell_type": "markdown",
   "metadata": {},
   "source": [
    "## Application of previous example of `$` using one of the most useful quantifiers `*`"
   ]
  },
  {
   "cell_type": "code",
   "execution_count": null,
   "metadata": {
    "ExecuteTime": {
     "end_time": "2022-01-06T19:16:39.425753Z",
     "start_time": "2022-01-06T19:16:39.416751Z"
    }
   },
   "outputs": [],
   "source": [
    "text = '''My boss asked me to turn in my TPS reports.\n",
    "My boss told him they were done, but they are not.'''"
   ]
  },
  {
   "cell_type": "code",
   "execution_count": null,
   "metadata": {
    "ExecuteTime": {
     "end_time": "2022-01-06T19:16:39.847324Z",
     "start_time": "2022-01-06T19:16:39.837349Z"
    }
   },
   "outputs": [],
   "source": [
    "# Criar padrão que verifica se a frase termina com \"are not.\"\n",
    "re.findall(r'are not.$', text)"
   ]
  },
  {
   "cell_type": "code",
   "execution_count": null,
   "metadata": {
    "ExecuteTime": {
     "end_time": "2022-01-06T19:16:40.302446Z",
     "start_time": "2022-01-06T19:16:40.294445Z"
    }
   },
   "outputs": [],
   "source": [
    "re.findall(r'.are not.$', text)"
   ]
  },
  {
   "cell_type": "code",
   "execution_count": null,
   "metadata": {
    "ExecuteTime": {
     "end_time": "2022-01-06T19:16:40.738502Z",
     "start_time": "2022-01-06T19:16:40.722546Z"
    }
   },
   "outputs": [],
   "source": [
    "re.findall(r'.*are not.$', text)"
   ]
  },
  {
   "cell_type": "code",
   "execution_count": null,
   "metadata": {
    "ExecuteTime": {
     "end_time": "2022-01-06T19:17:40.545394Z",
     "start_time": "2022-01-06T19:17:40.530435Z"
    }
   },
   "outputs": [],
   "source": [
    "re.findall(r'.*\\.$', text, re.MULTILINE)"
   ]
  },
  {
   "cell_type": "code",
   "execution_count": null,
   "metadata": {
    "ExecuteTime": {
     "end_time": "2022-01-06T14:37:56.929395Z",
     "start_time": "2022-01-06T14:37:56.911445Z"
    }
   },
   "outputs": [],
   "source": [
    "text = '''My boss asked me to turn in my TPS reports. \n",
    "My boss told him they were done, but they are not.'''"
   ]
  },
  {
   "cell_type": "code",
   "execution_count": null,
   "metadata": {
    "ExecuteTime": {
     "end_time": "2022-01-06T14:38:10.874202Z",
     "start_time": "2022-01-06T14:38:10.863233Z"
    }
   },
   "outputs": [],
   "source": [
    "re.findall(r'.*[. ]$', text, re.MULTILINE)"
   ]
  },
  {
   "cell_type": "markdown",
   "metadata": {},
   "source": [
    "# Important Regex Concept: Greediness\n",
    "https://docs.python.org/3/howto/regex.html#greedy-versus-non-greedy"
   ]
  },
  {
   "cell_type": "code",
   "execution_count": null,
   "metadata": {
    "ExecuteTime": {
     "end_time": "2022-01-06T14:39:08.736111Z",
     "start_time": "2022-01-06T14:39:08.723146Z"
    }
   },
   "outputs": [],
   "source": [
    "text = 'You are yelling! So I will yell too! Let me yell!.'"
   ]
  },
  {
   "cell_type": "code",
   "execution_count": null,
   "metadata": {
    "ExecuteTime": {
     "end_time": "2022-01-06T14:39:09.114134Z",
     "start_time": "2022-01-06T14:39:09.101162Z"
    }
   },
   "outputs": [],
   "source": [
    "pattern = r'.*!'\n",
    "print(re.findall(pattern, text))"
   ]
  },
  {
   "cell_type": "markdown",
   "metadata": {},
   "source": [
    "When repeating a regular expression, as in a*, **the resulting action is to consume as much of the pattern as possible.**"
   ]
  },
  {
   "cell_type": "code",
   "execution_count": null,
   "metadata": {
    "ExecuteTime": {
     "end_time": "2022-01-06T14:41:44.093733Z",
     "start_time": "2022-01-06T14:41:44.083758Z"
    }
   },
   "outputs": [],
   "source": [
    "pattern = r'.*?!'\n",
    "print(re.findall(pattern, text))"
   ]
  },
  {
   "cell_type": "markdown",
   "metadata": {},
   "source": [
    "# Capturing group\n",
    "https://docs.python.org/3/howto/regex.html#grouping"
   ]
  },
  {
   "cell_type": "code",
   "execution_count": null,
   "metadata": {
    "ExecuteTime": {
     "end_time": "2022-01-06T14:49:24.004061Z",
     "start_time": "2022-01-06T14:49:23.996083Z"
    }
   },
   "outputs": [],
   "source": [
    "text = '''\n",
    "From: author@example.com\n",
    "User-Agent: Thunderbird 1.5.0.9 (X11/20061227)\n",
    "MIME-Version: 1.0\n",
    "To: editor@example.com\n",
    "'''"
   ]
  },
  {
   "cell_type": "code",
   "execution_count": null,
   "metadata": {
    "ExecuteTime": {
     "end_time": "2022-01-06T14:51:17.912692Z",
     "start_time": "2022-01-06T14:51:17.899726Z"
    }
   },
   "outputs": [],
   "source": [
    "pattern = r'(.*):(.*)'\n",
    "re.findall(pattern, text)"
   ]
  },
  {
   "cell_type": "code",
   "execution_count": null,
   "metadata": {
    "ExecuteTime": {
     "end_time": "2022-01-06T14:52:00.249602Z",
     "start_time": "2022-01-06T14:52:00.235644Z"
    }
   },
   "outputs": [],
   "source": [
    "dict_re = {campo.lower() : valor.strip() for campo, valor in re.findall(pattern, text)}"
   ]
  },
  {
   "cell_type": "code",
   "execution_count": null,
   "metadata": {
    "ExecuteTime": {
     "end_time": "2022-01-06T14:52:27.374553Z",
     "start_time": "2022-01-06T14:52:27.367551Z"
    }
   },
   "outputs": [],
   "source": [
    "dict_re['user-agent']"
   ]
  },
  {
   "cell_type": "code",
   "execution_count": null,
   "metadata": {},
   "outputs": [],
   "source": []
  }
 ],
 "metadata": {
  "hide_input": false,
  "kernelspec": {
   "display_name": "Python 3",
   "language": "python",
   "name": "python3"
  },
  "language_info": {
   "codemirror_mode": {
    "name": "ipython",
    "version": 3
   },
   "file_extension": ".py",
   "mimetype": "text/x-python",
   "name": "python",
   "nbconvert_exporter": "python",
   "pygments_lexer": "ipython3",
   "version": "3.8.8"
  },
  "toc": {
   "base_numbering": 1,
   "nav_menu": {},
   "number_sections": true,
   "sideBar": true,
   "skip_h1_title": false,
   "title_cell": "Table of Contents",
   "title_sidebar": "Contents",
   "toc_cell": false,
   "toc_position": {
    "height": "calc(100% - 180px)",
    "left": "10px",
    "top": "150px",
    "width": "258.182px"
   },
   "toc_section_display": true,
   "toc_window_display": false
  },
  "toc-autonumbering": false,
  "varInspector": {
   "cols": {
    "lenName": 16,
    "lenType": 16,
    "lenVar": 40
   },
   "kernels_config": {
    "python": {
     "delete_cmd_postfix": "",
     "delete_cmd_prefix": "del ",
     "library": "var_list.py",
     "varRefreshCmd": "print(var_dic_list())"
    },
    "r": {
     "delete_cmd_postfix": ") ",
     "delete_cmd_prefix": "rm(",
     "library": "var_list.r",
     "varRefreshCmd": "cat(var_dic_list()) "
    }
   },
   "types_to_exclude": [
    "module",
    "function",
    "builtin_function_or_method",
    "instance",
    "_Feature"
   ],
   "window_display": false
  }
 },
 "nbformat": 4,
 "nbformat_minor": 4
}
