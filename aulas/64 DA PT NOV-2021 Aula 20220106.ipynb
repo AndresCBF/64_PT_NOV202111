{
 "cells": [
  {
   "cell_type": "markdown",
   "metadata": {},
   "source": [
    "# Advanced Regex"
   ]
  },
  {
   "cell_type": "markdown",
   "metadata": {},
   "source": [
    "## Regular Expression review\n",
    "\n",
    "- A powerful way to match text"
   ]
  },
  {
   "cell_type": "code",
   "execution_count": 1,
   "metadata": {
    "ExecuteTime": {
     "end_time": "2022-01-06T22:37:18.576079Z",
     "start_time": "2022-01-06T22:37:18.029541Z"
    }
   },
   "outputs": [],
   "source": [
    "import pandas as pd\n",
    "import numpy as np\n",
    "import re"
   ]
  },
  {
   "cell_type": "markdown",
   "metadata": {},
   "source": [
    "https://regexr.com/"
   ]
  },
  {
   "cell_type": "code",
   "execution_count": 2,
   "metadata": {
    "ExecuteTime": {
     "end_time": "2022-01-06T22:37:38.240066Z",
     "start_time": "2022-01-06T22:37:38.234061Z"
    }
   },
   "outputs": [],
   "source": [
    "texto = '''\n",
    "        Quando certa manhã Gregor Samsa acordou de sonhos intranquilos,\n",
    "        encontrou-se em sua cama metamorfoseado num inseto monstruoso.\n",
    "        '''"
   ]
  },
  {
   "cell_type": "markdown",
   "metadata": {},
   "source": [
    "### Literal Strings vs Sets"
   ]
  },
  {
   "cell_type": "markdown",
   "metadata": {},
   "source": [
    "#### literal strings: find the pattern 'Samsa'"
   ]
  },
  {
   "cell_type": "code",
   "execution_count": 3,
   "metadata": {
    "ExecuteTime": {
     "end_time": "2022-01-06T22:38:15.246386Z",
     "start_time": "2022-01-06T22:38:15.230780Z"
    }
   },
   "outputs": [
    {
     "name": "stdout",
     "output_type": "stream",
     "text": [
      "['Samsa']\n"
     ]
    }
   ],
   "source": [
    "print(re.findall('Samsa', texto))"
   ]
  },
  {
   "cell_type": "code",
   "execution_count": 4,
   "metadata": {
    "ExecuteTime": {
     "end_time": "2022-01-06T22:38:44.027208Z",
     "start_time": "2022-01-06T22:38:44.016239Z"
    }
   },
   "outputs": [
    {
     "name": "stdout",
     "output_type": "stream",
     "text": [
      "['so', 'so']\n"
     ]
    }
   ],
   "source": [
    "print(re.findall('so', texto))"
   ]
  },
  {
   "cell_type": "code",
   "execution_count": 5,
   "metadata": {
    "ExecuteTime": {
     "end_time": "2022-01-06T22:39:45.012666Z",
     "start_time": "2022-01-06T22:39:45.004714Z"
    }
   },
   "outputs": [
    {
     "name": "stdout",
     "output_type": "stream",
     "text": [
      "[]\n"
     ]
    }
   ],
   "source": [
    "print(re.findall('SO', texto))"
   ]
  },
  {
   "cell_type": "code",
   "execution_count": 6,
   "metadata": {
    "ExecuteTime": {
     "end_time": "2022-01-06T22:40:01.137608Z",
     "start_time": "2022-01-06T22:40:01.132619Z"
    }
   },
   "outputs": [
    {
     "name": "stdout",
     "output_type": "stream",
     "text": [
      "[]\n"
     ]
    }
   ],
   "source": [
    "print(re.findall('samsa', texto))"
   ]
  },
  {
   "cell_type": "markdown",
   "metadata": {},
   "source": [
    "#### sets: Finding the pattern `m` or `e` or `t` or ..."
   ]
  },
  {
   "cell_type": "markdown",
   "metadata": {},
   "source": [
    "##### Exemplo 1: m | e | t | a | m | o | r | f | o | s | e"
   ]
  },
  {
   "cell_type": "code",
   "execution_count": 7,
   "metadata": {
    "ExecuteTime": {
     "end_time": "2022-01-06T22:42:21.184795Z",
     "start_time": "2022-01-06T22:42:21.166816Z"
    }
   },
   "outputs": [
    {
     "name": "stdout",
     "output_type": "stream",
     "text": [
      "['a', 'o', 'e', 'r', 't', 'a', 'm', 'a', 'r', 'e', 'o', 'r', 'a', 'm', 's', 'a', 'a', 'o', 'r', 'o', 'e', 's', 'o', 'o', 's', 't', 'r', 'a', 'o', 's', 'e', 'o', 't', 'r', 'o', 's', 'e', 'e', 'm', 's', 'a', 'a', 'm', 'a', 'm', 'e', 't', 'a', 'm', 'o', 'r', 'f', 'o', 's', 'e', 'a', 'o', 'm', 's', 'e', 't', 'o', 'm', 'o', 's', 't', 'r', 'o', 's', 'o']\n"
     ]
    }
   ],
   "source": [
    "print(re.findall('m|e|t|a|m|o|r|f|o|s|e', texto))"
   ]
  },
  {
   "cell_type": "code",
   "execution_count": 8,
   "metadata": {
    "ExecuteTime": {
     "end_time": "2022-01-06T22:44:02.335300Z",
     "start_time": "2022-01-06T22:44:02.328323Z"
    }
   },
   "outputs": [
    {
     "name": "stdout",
     "output_type": "stream",
     "text": [
      "['a', 'o', 'e', 'r', 't', 'a', 'm', 'a', 'r', 'e', 'o', 'r', 'a', 'm', 's', 'a', 'a', 'o', 'r', 'o', 'e', 's', 'o', 'o', 's', 't', 'r', 'a', 'o', 's', 'e', 'o', 't', 'r', 'o', 's', 'e', 'e', 'm', 's', 'a', 'a', 'm', 'a', 'm', 'e', 't', 'a', 'm', 'o', 'r', 'f', 'o', 's', 'e', 'a', 'o', 'm', 's', 'e', 't', 'o', 'm', 'o', 's', 't', 'r', 'o', 's', 'o']\n"
     ]
    }
   ],
   "source": [
    "print(re.findall('[metamorfose]', texto))"
   ]
  },
  {
   "cell_type": "code",
   "execution_count": 9,
   "metadata": {
    "ExecuteTime": {
     "end_time": "2022-01-06T22:44:08.296050Z",
     "start_time": "2022-01-06T22:44:08.273110Z"
    }
   },
   "outputs": [
    {
     "data": {
      "text/plain": [
       "True"
      ]
     },
     "execution_count": 9,
     "metadata": {},
     "output_type": "execute_result"
    }
   ],
   "source": [
    "re.findall('[metamorfose]', texto) == re.findall('m|e|t|a|m|o|r|f|o|s|e', texto)"
   ]
  },
  {
   "cell_type": "code",
   "execution_count": 14,
   "metadata": {
    "ExecuteTime": {
     "end_time": "2022-01-06T22:46:05.124342Z",
     "start_time": "2022-01-06T22:46:05.112374Z"
    }
   },
   "outputs": [
    {
     "data": {
      "text/plain": [
       "['a',\n",
       " 'e',\n",
       " 't',\n",
       " 'a',\n",
       " 'm',\n",
       " 'a',\n",
       " 'e',\n",
       " 'a',\n",
       " 'm',\n",
       " 'a',\n",
       " 'a',\n",
       " 'e',\n",
       " 't',\n",
       " 'a',\n",
       " 'e',\n",
       " 't',\n",
       " 'e',\n",
       " 'e',\n",
       " 'm',\n",
       " 'a',\n",
       " 'a',\n",
       " 'm',\n",
       " 'a',\n",
       " 'm',\n",
       " 'e',\n",
       " 't',\n",
       " 'a',\n",
       " 'm',\n",
       " 'e',\n",
       " 'a',\n",
       " 'm',\n",
       " 'e',\n",
       " 't',\n",
       " 'm',\n",
       " 't']"
      ]
     },
     "execution_count": 14,
     "metadata": {},
     "output_type": "execute_result"
    }
   ],
   "source": [
    "re.findall('[m]|[e]|[t]|[a]', texto)\n"
   ]
  },
  {
   "cell_type": "markdown",
   "metadata": {},
   "source": [
    "##### Exemplo 2: Cidade de São Paulo"
   ]
  },
  {
   "cell_type": "code",
   "execution_count": 15,
   "metadata": {
    "ExecuteTime": {
     "end_time": "2022-01-06T22:50:51.606966Z",
     "start_time": "2022-01-06T22:50:51.596993Z"
    }
   },
   "outputs": [
    {
     "data": {
      "text/plain": [
       "['São Paulo',\n",
       " 'Sao Paulo',\n",
       " 'Sáo Paulo',\n",
       " 'Sun Paulo',\n",
       " 'seu paulo',\n",
       " 'san paolo',\n",
       " 'sao paulo',\n",
       " 'são paolo',\n",
       " 'sAo Paolo',\n",
       " 'sao_paulo']"
      ]
     },
     "execution_count": 15,
     "metadata": {},
     "output_type": "execute_result"
    }
   ],
   "source": [
    "text = 'São Paulo Sao Paulo Sáo Paulo Sun Paulo seu paulo san paolo sao paulo são paolo sAo Paolo sao_paulo'\n",
    "\n",
    "pattern = r'[Ss][ãaáàâAÃÁÀâeu][oun][ _][Pp]a[uo]lo'\n",
    "re.findall(pattern, text)"
   ]
  },
  {
   "cell_type": "code",
   "execution_count": 16,
   "metadata": {
    "ExecuteTime": {
     "end_time": "2022-01-06T22:52:27.521869Z",
     "start_time": "2022-01-06T22:52:27.511903Z"
    }
   },
   "outputs": [
    {
     "name": "stdout",
     "output_type": "stream",
     "text": [
      "São Paulo\n"
     ]
    }
   ],
   "source": [
    "nome = 'seu paulo'\n",
    "pattern = r'[Ss][ãaáàâAÃÁÀâeu][oun][ _][Pp]a[uo]lo'\n",
    "print(re.sub(pattern, 'São Paulo', nome))"
   ]
  },
  {
   "cell_type": "code",
   "execution_count": 17,
   "metadata": {
    "ExecuteTime": {
     "end_time": "2022-01-06T22:52:36.274740Z",
     "start_time": "2022-01-06T22:52:36.257400Z"
    }
   },
   "outputs": [
    {
     "name": "stdout",
     "output_type": "stream",
     "text": [
      "São Paulo São Paulo São Paulo São Paulo São Paulo São Paulo São Paulo São Paulo São Paulo São Paulo\n"
     ]
    }
   ],
   "source": [
    "pattern = r'[Ss][ãaáàâAÃÁÀâeu][oun][ _][Pp]a[uo]lo'\n",
    "print(re.sub(pattern, 'São Paulo', text))"
   ]
  },
  {
   "cell_type": "code",
   "execution_count": 22,
   "metadata": {
    "ExecuteTime": {
     "end_time": "2022-01-06T22:55:48.686842Z",
     "start_time": "2022-01-06T22:55:48.672880Z"
    }
   },
   "outputs": [
    {
     "name": "stdout",
     "output_type": "stream",
     "text": [
      "São Paulo\n"
     ]
    }
   ],
   "source": [
    "nomes_sp = ['São Paulo', 'Sao Paulo', 'Sáo Paulo', \n",
    "            'Sun Paulo', 'seu paulo', 'san paolo', \n",
    "            'sao paulo', 'são paolo', 'sAo Paolo', \n",
    "            'sao_paulo', 'Rio de Janeiro']\n",
    "print(re.sub(pattern, 'São Paulo', nomes_sp[0]))"
   ]
  },
  {
   "cell_type": "code",
   "execution_count": 19,
   "metadata": {
    "ExecuteTime": {
     "end_time": "2022-01-06T22:54:22.353312Z",
     "start_time": "2022-01-06T22:54:22.336358Z"
    }
   },
   "outputs": [
    {
     "name": "stdout",
     "output_type": "stream",
     "text": [
      "São Paulo\n"
     ]
    }
   ],
   "source": [
    "print(re.sub(pattern, 'São Paulo', nomes_sp[1]))"
   ]
  },
  {
   "cell_type": "code",
   "execution_count": 20,
   "metadata": {
    "ExecuteTime": {
     "end_time": "2022-01-06T22:54:28.206731Z",
     "start_time": "2022-01-06T22:54:27.945430Z"
    }
   },
   "outputs": [
    {
     "ename": "TypeError",
     "evalue": "expected string or bytes-like object",
     "output_type": "error",
     "traceback": [
      "\u001b[1;31m---------------------------------------------------------------------------\u001b[0m",
      "\u001b[1;31mTypeError\u001b[0m                                 Traceback (most recent call last)",
      "\u001b[1;32m<ipython-input-20-91b685d9b98d>\u001b[0m in \u001b[0;36m<module>\u001b[1;34m\u001b[0m\n\u001b[1;32m----> 1\u001b[1;33m \u001b[0mprint\u001b[0m\u001b[1;33m(\u001b[0m\u001b[0mre\u001b[0m\u001b[1;33m.\u001b[0m\u001b[0msub\u001b[0m\u001b[1;33m(\u001b[0m\u001b[0mpattern\u001b[0m\u001b[1;33m,\u001b[0m \u001b[1;34m'São Paulo'\u001b[0m\u001b[1;33m,\u001b[0m \u001b[0mnomes_sp\u001b[0m\u001b[1;33m)\u001b[0m\u001b[1;33m)\u001b[0m\u001b[1;33m\u001b[0m\u001b[1;33m\u001b[0m\u001b[0m\n\u001b[0m",
      "\u001b[1;32mC:\\ProgramData\\Anaconda3\\lib\\re.py\u001b[0m in \u001b[0;36msub\u001b[1;34m(pattern, repl, string, count, flags)\u001b[0m\n\u001b[0;32m    208\u001b[0m     \u001b[0ma\u001b[0m \u001b[0mcallable\u001b[0m\u001b[1;33m,\u001b[0m \u001b[0mit\u001b[0m\u001b[0;31m'\u001b[0m\u001b[0ms\u001b[0m \u001b[0mpassed\u001b[0m \u001b[0mthe\u001b[0m \u001b[0mMatch\u001b[0m \u001b[0mobject\u001b[0m \u001b[1;32mand\u001b[0m \u001b[0mmust\u001b[0m \u001b[1;32mreturn\u001b[0m\u001b[1;33m\u001b[0m\u001b[1;33m\u001b[0m\u001b[0m\n\u001b[0;32m    209\u001b[0m     a replacement string to be used.\"\"\"\n\u001b[1;32m--> 210\u001b[1;33m     \u001b[1;32mreturn\u001b[0m \u001b[0m_compile\u001b[0m\u001b[1;33m(\u001b[0m\u001b[0mpattern\u001b[0m\u001b[1;33m,\u001b[0m \u001b[0mflags\u001b[0m\u001b[1;33m)\u001b[0m\u001b[1;33m.\u001b[0m\u001b[0msub\u001b[0m\u001b[1;33m(\u001b[0m\u001b[0mrepl\u001b[0m\u001b[1;33m,\u001b[0m \u001b[0mstring\u001b[0m\u001b[1;33m,\u001b[0m \u001b[0mcount\u001b[0m\u001b[1;33m)\u001b[0m\u001b[1;33m\u001b[0m\u001b[1;33m\u001b[0m\u001b[0m\n\u001b[0m\u001b[0;32m    211\u001b[0m \u001b[1;33m\u001b[0m\u001b[0m\n\u001b[0;32m    212\u001b[0m \u001b[1;32mdef\u001b[0m \u001b[0msubn\u001b[0m\u001b[1;33m(\u001b[0m\u001b[0mpattern\u001b[0m\u001b[1;33m,\u001b[0m \u001b[0mrepl\u001b[0m\u001b[1;33m,\u001b[0m \u001b[0mstring\u001b[0m\u001b[1;33m,\u001b[0m \u001b[0mcount\u001b[0m\u001b[1;33m=\u001b[0m\u001b[1;36m0\u001b[0m\u001b[1;33m,\u001b[0m \u001b[0mflags\u001b[0m\u001b[1;33m=\u001b[0m\u001b[1;36m0\u001b[0m\u001b[1;33m)\u001b[0m\u001b[1;33m:\u001b[0m\u001b[1;33m\u001b[0m\u001b[1;33m\u001b[0m\u001b[0m\n",
      "\u001b[1;31mTypeError\u001b[0m: expected string or bytes-like object"
     ]
    }
   ],
   "source": [
    "print(re.sub(pattern, 'São Paulo', nomes_sp))"
   ]
  },
  {
   "cell_type": "code",
   "execution_count": 23,
   "metadata": {
    "ExecuteTime": {
     "end_time": "2022-01-06T22:55:58.695377Z",
     "start_time": "2022-01-06T22:55:58.691384Z"
    }
   },
   "outputs": [
    {
     "name": "stdout",
     "output_type": "stream",
     "text": [
      "['São Paulo', 'São Paulo', 'São Paulo', 'São Paulo', 'São Paulo', 'São Paulo', 'São Paulo', 'São Paulo', 'São Paulo', 'São Paulo', 'Rio de Janeiro']\n"
     ]
    }
   ],
   "source": [
    "nome_sp_limpo = [re.sub(pattern, 'São Paulo', nome) for nome in nomes_sp]\n",
    "print(nome_sp_limpo)"
   ]
  },
  {
   "cell_type": "markdown",
   "metadata": {},
   "source": [
    "So anything within brackets `[ ]` are considered `sets` in RegEx. A set of patterns you want to find. "
   ]
  },
  {
   "cell_type": "markdown",
   "metadata": {},
   "source": [
    "## Since it is a set, you can look for complete sets"
   ]
  },
  {
   "cell_type": "code",
   "execution_count": 24,
   "metadata": {
    "ExecuteTime": {
     "end_time": "2022-01-06T22:58:15.305138Z",
     "start_time": "2022-01-06T22:58:15.293157Z"
    }
   },
   "outputs": [],
   "source": [
    "lista_tarefas = '''\n",
    "    A) cortar grama\n",
    "    B) arrumar porta\n",
    "    C) instalar calha\n",
    "    D) ligar para Pedro as 9\n",
    "    '''"
   ]
  },
  {
   "cell_type": "markdown",
   "metadata": {},
   "source": [
    "For example: The set of upper-case letters from A to D."
   ]
  },
  {
   "cell_type": "code",
   "execution_count": 25,
   "metadata": {
    "ExecuteTime": {
     "end_time": "2022-01-06T22:58:36.773845Z",
     "start_time": "2022-01-06T22:58:36.764869Z"
    }
   },
   "outputs": [
    {
     "data": {
      "text/plain": [
       "['A', 'B', 'C', 'D']"
      ]
     },
     "execution_count": 25,
     "metadata": {},
     "output_type": "execute_result"
    }
   ],
   "source": [
    "re.findall(r'A|B|C|D', lista_tarefas)"
   ]
  },
  {
   "cell_type": "code",
   "execution_count": 26,
   "metadata": {
    "ExecuteTime": {
     "end_time": "2022-01-06T22:58:49.044366Z",
     "start_time": "2022-01-06T22:58:49.026414Z"
    }
   },
   "outputs": [
    {
     "data": {
      "text/plain": [
       "['A', 'B', 'C', 'D']"
      ]
     },
     "execution_count": 26,
     "metadata": {},
     "output_type": "execute_result"
    }
   ],
   "source": [
    "re.findall(r'[ABCD]', lista_tarefas)"
   ]
  },
  {
   "cell_type": "code",
   "execution_count": 29,
   "metadata": {
    "ExecuteTime": {
     "end_time": "2022-01-06T23:00:30.839557Z",
     "start_time": "2022-01-06T23:00:30.830583Z"
    }
   },
   "outputs": [
    {
     "data": {
      "text/plain": [
       "['A', 'B', 'C', 'D']"
      ]
     },
     "execution_count": 29,
     "metadata": {},
     "output_type": "execute_result"
    }
   ],
   "source": [
    "re.findall(r'[A-D]', lista_tarefas)"
   ]
  },
  {
   "cell_type": "code",
   "execution_count": 30,
   "metadata": {
    "ExecuteTime": {
     "end_time": "2022-01-06T23:00:39.353957Z",
     "start_time": "2022-01-06T23:00:39.342986Z"
    }
   },
   "outputs": [
    {
     "data": {
      "text/plain": [
       "['A', 'B', 'C', 'D', 'P']"
      ]
     },
     "execution_count": 30,
     "metadata": {},
     "output_type": "execute_result"
    }
   ],
   "source": [
    "re.findall(r'[A-Z]', lista_tarefas)"
   ]
  },
  {
   "cell_type": "code",
   "execution_count": 34,
   "metadata": {
    "ExecuteTime": {
     "end_time": "2022-01-06T23:02:02.810178Z",
     "start_time": "2022-01-06T23:02:02.793224Z"
    }
   },
   "outputs": [
    {
     "data": {
      "text/plain": [
       "['1', '2', '2', '3', '4', '3']"
      ]
     },
     "execution_count": 34,
     "metadata": {},
     "output_type": "execute_result"
    }
   ],
   "source": [
    "lista_tarefas = '''\n",
    "    1) cortar grama\n",
    "    2) arrumar porta\n",
    "        2a trocar fechadura\n",
    "    3) instalar calha\n",
    "    4) ligar para Pedro as 9 9983\n",
    "    '''\n",
    "re.findall('1|2|3|4', lista_tarefas)"
   ]
  },
  {
   "cell_type": "code",
   "execution_count": 32,
   "metadata": {
    "ExecuteTime": {
     "end_time": "2022-01-06T23:01:25.400315Z",
     "start_time": "2022-01-06T23:01:25.388347Z"
    }
   },
   "outputs": [
    {
     "data": {
      "text/plain": [
       "['1', '2', '2', '3', '4']"
      ]
     },
     "execution_count": 32,
     "metadata": {},
     "output_type": "execute_result"
    }
   ],
   "source": [
    "re.findall(r'[1234]', lista_tarefas)"
   ]
  },
  {
   "cell_type": "code",
   "execution_count": 33,
   "metadata": {
    "ExecuteTime": {
     "end_time": "2022-01-06T23:01:37.341823Z",
     "start_time": "2022-01-06T23:01:37.331852Z"
    }
   },
   "outputs": [
    {
     "data": {
      "text/plain": [
       "['1', '2', '2', '3', '4']"
      ]
     },
     "execution_count": 33,
     "metadata": {},
     "output_type": "execute_result"
    }
   ],
   "source": [
    "re.findall(r'[1-4]', lista_tarefas)"
   ]
  },
  {
   "cell_type": "code",
   "execution_count": 35,
   "metadata": {
    "ExecuteTime": {
     "end_time": "2022-01-06T23:02:37.957714Z",
     "start_time": "2022-01-06T23:02:37.942750Z"
    }
   },
   "outputs": [
    {
     "data": {
      "text/plain": [
       "['1', '2', '2', '3', '4', '9', '9', '9', '8', '3']"
      ]
     },
     "execution_count": 35,
     "metadata": {},
     "output_type": "execute_result"
    }
   ],
   "source": [
    "re.findall(r'[0-9]', lista_tarefas)"
   ]
  },
  {
   "cell_type": "code",
   "execution_count": 36,
   "metadata": {
    "ExecuteTime": {
     "end_time": "2022-01-06T23:03:09.683914Z",
     "start_time": "2022-01-06T23:03:09.663968Z"
    }
   },
   "outputs": [
    {
     "data": {
      "text/plain": [
       "['1', '2', '2', '3', '4', 'P', '9', '9', '9', '8', '3']"
      ]
     },
     "execution_count": 36,
     "metadata": {},
     "output_type": "execute_result"
    }
   ],
   "source": [
    "re.findall(r'[0-9A-Z]', lista_tarefas)"
   ]
  },
  {
   "cell_type": "code",
   "execution_count": 39,
   "metadata": {
    "ExecuteTime": {
     "end_time": "2022-01-06T23:05:11.867704Z",
     "start_time": "2022-01-06T23:05:11.860724Z"
    }
   },
   "outputs": [
    {
     "data": {
      "text/plain": [
       "['2a']"
      ]
     },
     "execution_count": 39,
     "metadata": {},
     "output_type": "execute_result"
    }
   ],
   "source": [
    "re.findall(r'[0-9][a-z]', lista_tarefas)"
   ]
  },
  {
   "cell_type": "markdown",
   "metadata": {},
   "source": [
    "Some useful sets: \n",
    "\n",
    "* [a-z]: Any lowercase letter between a and z.\n",
    "* [A-Z]: Any uppercase letter between A and Z.\n",
    "* [0-9]: Any numeric character between 0 and 9."
   ]
  },
  {
   "cell_type": "markdown",
   "metadata": {},
   "source": [
    "# Meta characters - They means something different than the character they represent."
   ]
  },
  {
   "cell_type": "markdown",
   "metadata": {},
   "source": [
    "* `.` : Match **any character** except newline (`\\n`)\n",
    "* `^` : If used within a `set`, negates the condition\n",
    "> Careful, this pattern also represents another thing: If used <u>outside a set</u>, it represents `match if at the beginning of the line`\n",
    "* `$` : Match if at end of the line\n",
    "* `|` : \"OR\" operator"
   ]
  },
  {
   "cell_type": "markdown",
   "metadata": {},
   "source": [
    "## OR"
   ]
  },
  {
   "cell_type": "code",
   "execution_count": 41,
   "metadata": {
    "ExecuteTime": {
     "end_time": "2022-01-06T23:06:05.188799Z",
     "start_time": "2022-01-06T23:06:05.171817Z"
    }
   },
   "outputs": [],
   "source": [
    "text = 'pedro PEDRO adriano ADRIANO'"
   ]
  },
  {
   "cell_type": "code",
   "execution_count": 42,
   "metadata": {
    "ExecuteTime": {
     "end_time": "2022-01-06T23:07:01.498831Z",
     "start_time": "2022-01-06T23:07:01.479853Z"
    }
   },
   "outputs": [
    {
     "data": {
      "text/plain": [
       "['pe', 'PE', 'ad', 'AD']"
      ]
     },
     "execution_count": 42,
     "metadata": {},
     "output_type": "execute_result"
    }
   ],
   "source": [
    "pattern = '[PA][ED]|[pa][ed]'\n",
    "re.findall(pattern, text)"
   ]
  },
  {
   "cell_type": "code",
   "execution_count": 43,
   "metadata": {
    "ExecuteTime": {
     "end_time": "2022-01-06T23:08:20.137588Z",
     "start_time": "2022-01-06T23:08:20.129607Z"
    }
   },
   "outputs": [
    {
     "data": {
      "text/plain": [
       "['penguins', 'lions', 'penguins', 'lions']"
      ]
     },
     "execution_count": 43,
     "metadata": {},
     "output_type": "execute_result"
    }
   ],
   "source": [
    "text = '''\n",
    "I like penguins\n",
    "I like lions\n",
    "I like penguins and lions\n",
    "'''\n",
    "pattern = 'penguins|lions'\n",
    "re.findall(pattern, text)"
   ]
  },
  {
   "cell_type": "code",
   "execution_count": 45,
   "metadata": {
    "ExecuteTime": {
     "end_time": "2022-01-06T23:08:57.538230Z",
     "start_time": "2022-01-06T23:08:57.521301Z"
    }
   },
   "outputs": [
    {
     "name": "stdout",
     "output_type": "stream",
     "text": [
      "\n",
      "I like animals\n",
      "I like animals\n",
      "I like animals and animals\n",
      "\n"
     ]
    }
   ],
   "source": [
    "print(re.sub(pattern, 'animals', text))"
   ]
  },
  {
   "cell_type": "markdown",
   "metadata": {},
   "source": [
    "## Match any character"
   ]
  },
  {
   "cell_type": "code",
   "execution_count": 54,
   "metadata": {
    "ExecuteTime": {
     "end_time": "2022-01-06T23:13:27.266818Z",
     "start_time": "2022-01-06T23:13:27.253856Z"
    }
   },
   "outputs": [
    {
     "name": "stdout",
     "output_type": "stream",
     "text": [
      "['M', 'y', ' ', 'b', 'o', 's', 's', ' ', 'a', 's', 'k', 'e', 'd', ' ', 'm', 'e', ' ', 't', 'o', ' ', 't', 'u', 'r', 'n', ' ', 'i', 'n', ' ', 'm', 'y', ' ', 'T', 'P', 'S', ' ', 'r', 'e', 'p', 'o', 'r', 't', 's', '.', ' ', 'I', ' ', 't', 'o', 'l', 'd', ' ', 'h', 'i', 'm', ' ', 't', 'h', 'e', 'y', ' ', 'w', 'e', 'r', 'e', ' ', 'd', 'o', 'n', 'e', ',', ' ', 'b', 'u', 't', ' ', 't', 'h', 'e', 'y', ' ', 'a', 'r', 'e', ' ', 'n', 'o', 't', '.']\n"
     ]
    }
   ],
   "source": [
    "text = '''My boss asked me to turn in my TPS reports. \n",
    "I told him they were done, but they are not.'''\n",
    "pattern = r'.'\n",
    "print(re.findall(pattern, text))"
   ]
  },
  {
   "cell_type": "code",
   "execution_count": 55,
   "metadata": {
    "ExecuteTime": {
     "end_time": "2022-01-06T23:13:27.844453Z",
     "start_time": "2022-01-06T23:13:27.838471Z"
    }
   },
   "outputs": [
    {
     "name": "stdout",
     "output_type": "stream",
     "text": [
      "My boss asked me to turn in my TPS reports. \n",
      "I told him they were done, but they are not.\n"
     ]
    }
   ],
   "source": [
    "print(text)"
   ]
  },
  {
   "cell_type": "code",
   "execution_count": 56,
   "metadata": {
    "ExecuteTime": {
     "end_time": "2022-01-06T23:13:28.186571Z",
     "start_time": "2022-01-06T23:13:28.179589Z"
    }
   },
   "outputs": [
    {
     "name": "stdout",
     "output_type": "stream",
     "text": [
      "My boss asked me to turn in my TPS reports. I told him they were done, but they are not.\n"
     ]
    }
   ],
   "source": [
    "print(''.join(re.findall(pattern, text)))"
   ]
  },
  {
   "cell_type": "code",
   "execution_count": 57,
   "metadata": {
    "ExecuteTime": {
     "end_time": "2022-01-06T23:13:35.793283Z",
     "start_time": "2022-01-06T23:13:35.784287Z"
    }
   },
   "outputs": [
    {
     "name": "stdout",
     "output_type": "stream",
     "text": [
      "My boss asked me to turn in my TPS reports. \n",
      "I told him they were done, but they are not.\n"
     ]
    }
   ],
   "source": [
    "pattern = r'.|\\n'\n",
    "print(''.join(re.findall(pattern, text)))"
   ]
  },
  {
   "cell_type": "markdown",
   "metadata": {},
   "source": [
    "## Match everything not in specific set"
   ]
  },
  {
   "cell_type": "code",
   "execution_count": 64,
   "metadata": {
    "ExecuteTime": {
     "end_time": "2022-01-06T23:15:57.888648Z",
     "start_time": "2022-01-06T23:15:57.870693Z"
    }
   },
   "outputs": [
    {
     "name": "stdout",
     "output_type": "stream",
     "text": [
      "['y', ' ', 'o', 's', 's', ' ', 's', ' ', ' ', 't', 'o', ' ', 't', 'u', 'r', 'n', ' ', 'n', ' ', 'y', ' ', 'T', 'P', 'S', ' ', 'r', 'p', 'o', 'r', 't', 's', '.', ' ', '\\n', ' ', 't', 'o', ' ', ' ', 't', 'y', ' ', 'w', 'r', ' ', 'o', 'n', ',', ' ', 'u', 't', ' ', 't', 'y', ' ', 'r', ' ', 'n', 'o', 't', '.']\n"
     ]
    }
   ],
   "source": [
    "text = \"\"\"My boss asked me to turn in my TPS reports. \n",
    "I told him they were done, but they are not.\"\"\"\n",
    "pattern = r'[^a-mA-M]'\n",
    "print(re.findall(pattern, text))"
   ]
  },
  {
   "cell_type": "code",
   "execution_count": 65,
   "metadata": {
    "ExecuteTime": {
     "end_time": "2022-01-06T23:15:58.232725Z",
     "start_time": "2022-01-06T23:15:58.217766Z"
    }
   },
   "outputs": [
    {
     "name": "stdout",
     "output_type": "stream",
     "text": [
      "y oss s  to turn n y TPS rports. \n",
      " to  ty wr on, ut ty r not.\n"
     ]
    }
   ],
   "source": [
    "print(''.join(re.findall(pattern, text)))"
   ]
  },
  {
   "cell_type": "markdown",
   "metadata": {},
   "source": [
    "## Match sentences `beginning with pattern`"
   ]
  },
  {
   "cell_type": "code",
   "execution_count": 72,
   "metadata": {
    "ExecuteTime": {
     "end_time": "2022-01-06T23:20:51.152173Z",
     "start_time": "2022-01-06T23:20:51.134219Z"
    }
   },
   "outputs": [],
   "source": [
    "text = '''My boss asked me to turn in my TPS reports.\n",
    "The boss told him they were done, but they are not.'''"
   ]
  },
  {
   "cell_type": "code",
   "execution_count": 69,
   "metadata": {
    "ExecuteTime": {
     "end_time": "2022-01-06T23:17:14.498697Z",
     "start_time": "2022-01-06T23:17:14.485733Z"
    }
   },
   "outputs": [
    {
     "data": {
      "text/plain": [
       "['My boss']"
      ]
     },
     "execution_count": 69,
     "metadata": {},
     "output_type": "execute_result"
    }
   ],
   "source": [
    "pattern = r'^My boss'\n",
    "re.findall(pattern, text)"
   ]
  },
  {
   "cell_type": "code",
   "execution_count": 70,
   "metadata": {
    "ExecuteTime": {
     "end_time": "2022-01-06T23:18:50.181978Z",
     "start_time": "2022-01-06T23:18:50.173998Z"
    }
   },
   "outputs": [
    {
     "data": {
      "text/plain": [
       "[]"
      ]
     },
     "execution_count": 70,
     "metadata": {},
     "output_type": "execute_result"
    }
   ],
   "source": [
    "pattern = r'^The boss'\n",
    "re.findall(pattern, text)"
   ]
  },
  {
   "cell_type": "code",
   "execution_count": 71,
   "metadata": {
    "ExecuteTime": {
     "end_time": "2022-01-06T23:19:14.929700Z",
     "start_time": "2022-01-06T23:19:14.909726Z"
    }
   },
   "outputs": [
    {
     "data": {
      "text/plain": [
       "['The boss']"
      ]
     },
     "execution_count": 71,
     "metadata": {},
     "output_type": "execute_result"
    }
   ],
   "source": [
    "pattern = r'^The boss'\n",
    "re.findall(pattern, text, re.MULTILINE)"
   ]
  },
  {
   "cell_type": "code",
   "execution_count": 73,
   "metadata": {
    "ExecuteTime": {
     "end_time": "2022-01-06T23:20:58.414888Z",
     "start_time": "2022-01-06T23:20:58.408933Z"
    }
   },
   "outputs": [
    {
     "data": {
      "text/plain": [
       "['are not.']"
      ]
     },
     "execution_count": 73,
     "metadata": {},
     "output_type": "execute_result"
    }
   ],
   "source": [
    "pattern = r'are not.$'\n",
    "re.findall(pattern, text)"
   ]
  },
  {
   "cell_type": "code",
   "execution_count": 75,
   "metadata": {
    "ExecuteTime": {
     "end_time": "2022-01-06T23:21:41.418041Z",
     "start_time": "2022-01-06T23:21:41.409063Z"
    }
   },
   "outputs": [
    {
     "data": {
      "text/plain": [
       "['reports.']"
      ]
     },
     "execution_count": 75,
     "metadata": {},
     "output_type": "execute_result"
    }
   ],
   "source": [
    "pattern = 'reports.$'\n",
    "re.findall(pattern, text, re.MULTILINE)"
   ]
  },
  {
   "cell_type": "markdown",
   "metadata": {},
   "source": [
    "## Characters classes\n",
    "\n",
    "* `\\d`: numeric characters\n",
    "* `\\w`: alphanumeric characters \n",
    "* `\\s`: spaces\n",
    "* `\\D`: not numeric characters"
   ]
  },
  {
   "cell_type": "code",
   "execution_count": 76,
   "metadata": {
    "ExecuteTime": {
     "end_time": "2022-01-06T23:22:54.615426Z",
     "start_time": "2022-01-06T23:22:54.607453Z"
    }
   },
   "outputs": [
    {
     "name": "stdout",
     "output_type": "stream",
     "text": [
      "['3', '2', '3', '2', '1', '3', '3', '1']\n"
     ]
    }
   ],
   "source": [
    "text = 'aoijo (  $ p io x -o = 3232 13 ™¡¡™£¡Ωå 3.1 áéóãà'\n",
    "pattern = r'\\d'\n",
    "print(re.findall(pattern, text))"
   ]
  },
  {
   "cell_type": "code",
   "execution_count": 82,
   "metadata": {
    "ExecuteTime": {
     "end_time": "2022-01-06T23:25:37.973127Z",
     "start_time": "2022-01-06T23:25:37.965148Z"
    }
   },
   "outputs": [
    {
     "name": "stdout",
     "output_type": "stream",
     "text": [
      "['(', '$', '-', '=', '™', '¡', '¡', '™', '£', '¡', '.']\n"
     ]
    }
   ],
   "source": [
    "text = 'aoijo (  $ p io x -o = 3232 13 ™¡¡™£¡Ωå 3.1 áéóãà'\n",
    "pattern = r'[^\\w\\s]'\n",
    "print(re.findall(pattern, text))"
   ]
  },
  {
   "cell_type": "markdown",
   "metadata": {},
   "source": [
    "# Quantifiers "
   ]
  },
  {
   "cell_type": "markdown",
   "metadata": {},
   "source": [
    "* *: Matches previous character 0 or more times\n",
    "* +: Matches previous character 1 or more times\n",
    "* ?: Matches previous character 0 or 1 times (optional)\n",
    "* {}: Matches previous characters however many times specified within:\n",
    "* {n} : Exactly n times\n",
    "* {n,} : At least n times\n",
    "* {n,m} : Between n and m times"
   ]
  },
  {
   "cell_type": "markdown",
   "metadata": {},
   "source": [
    "## \\d* --> Matches any numeric character that appears 0 or more times."
   ]
  },
  {
   "cell_type": "code",
   "execution_count": 86,
   "metadata": {
    "ExecuteTime": {
     "end_time": "2022-01-06T23:29:36.948093Z",
     "start_time": "2022-01-06T23:29:36.934129Z"
    }
   },
   "outputs": [
    {
     "name": "stdout",
     "output_type": "stream",
     "text": [
      "['', '', '', '', '', '', '', '', '', '', '', '', '', '', '', '', '', '', '', '', '', '', '', '', '', '', '', '3232', '', '13', '', '', '', '', '', '', '', '', '', '', '3', '', '1', '', '', '', '', '', '', '']\n"
     ]
    }
   ],
   "source": [
    "text = 'aaaaaoijo (  $ p io x -o = 3232 13 ™¡¡™£¡Ωå 3.1 áéóãà'\n",
    "pattern = r'\\d*'\n",
    "print(re.findall(pattern, text))"
   ]
  },
  {
   "cell_type": "code",
   "execution_count": 87,
   "metadata": {
    "ExecuteTime": {
     "end_time": "2022-01-06T23:31:11.884079Z",
     "start_time": "2022-01-06T23:31:11.868123Z"
    }
   },
   "outputs": [
    {
     "name": "stdout",
     "output_type": "stream",
     "text": [
      "['3232', '13', '3', '1']\n"
     ]
    }
   ],
   "source": [
    "text = 'aoijo (  $ p io x -o = 3232 13 ™¡¡™£¡Ωå 3.1 áéóãà'\n",
    "pattern = r'\\d+'\n",
    "print(re.findall(pattern, text))"
   ]
  },
  {
   "cell_type": "code",
   "execution_count": 96,
   "metadata": {
    "ExecuteTime": {
     "end_time": "2022-01-06T23:40:08.200159Z",
     "start_time": "2022-01-06T23:40:08.187196Z"
    }
   },
   "outputs": [
    {
     "name": "stdout",
     "output_type": "stream",
     "text": [
      "['339.211.273-23', '33921127323', '339.211.27323']\n"
     ]
    }
   ],
   "source": [
    "text = '339.211.273-23 33921127323 339.211.27323'\n",
    "pattern = '[0-9]+\\.?[0-9]+\\.?[0-9]+-?[0-9]+'\n",
    "print(re.findall(pattern, text))"
   ]
  },
  {
   "cell_type": "code",
   "execution_count": 107,
   "metadata": {
    "ExecuteTime": {
     "end_time": "2022-01-06T23:43:41.711924Z",
     "start_time": "2022-01-06T23:43:41.694968Z"
    }
   },
   "outputs": [
    {
     "name": "stdout",
     "output_type": "stream",
     "text": [
      "['', '', '', '', '', '', '', '', '', '', '', '', '', '', '', '', '', '', '', '', '', '', '', '3', '2', '3', '2', '', '1', '3', '', '', '', '', '', '', '', '', '', '', '3', '3', '', '1', '', '', '', '', '', '', '']\n"
     ]
    }
   ],
   "source": [
    "text = 'aoijo (  $ p io x -o = 3232 13 ™¡¡™£¡Ωå 33.1 áéóãà'\n",
    "pattern = r'\\d?'\n",
    "print(re.findall(pattern, text))"
   ]
  },
  {
   "cell_type": "code",
   "execution_count": 112,
   "metadata": {
    "ExecuteTime": {
     "end_time": "2022-01-06T23:44:05.477989Z",
     "start_time": "2022-01-06T23:44:05.463030Z"
    }
   },
   "outputs": [
    {
     "name": "stdout",
     "output_type": "stream",
     "text": [
      "['3232', '13', '33.1']\n"
     ]
    }
   ],
   "source": [
    "pattern = r'\\d+\\.?\\d+'\n",
    "pattern = r'\\d'\n",
    "print(re.findall(pattern, text))"
   ]
  },
  {
   "cell_type": "code",
   "execution_count": null,
   "metadata": {
    "ExecuteTime": {
     "end_time": "2022-01-06T14:32:40.710525Z",
     "start_time": "2022-01-06T14:32:40.693541Z"
    }
   },
   "outputs": [],
   "source": [
    "pattern = r'[0-9]\\.?[0-9]+'\n",
    "print(re.findall(pattern, text))"
   ]
  },
  {
   "cell_type": "markdown",
   "metadata": {},
   "source": [
    "## Application of previous example of `$` using one of the most useful quantifiers `*`"
   ]
  },
  {
   "cell_type": "code",
   "execution_count": 118,
   "metadata": {
    "ExecuteTime": {
     "end_time": "2022-01-06T23:49:48.061115Z",
     "start_time": "2022-01-06T23:49:48.053131Z"
    }
   },
   "outputs": [],
   "source": [
    "text = '''My boss asked me to turn. in my TPS reports.\n",
    "My boss told him they were done, but they are not.'''"
   ]
  },
  {
   "cell_type": "code",
   "execution_count": 114,
   "metadata": {
    "ExecuteTime": {
     "end_time": "2022-01-06T23:46:47.919268Z",
     "start_time": "2022-01-06T23:46:47.904308Z"
    }
   },
   "outputs": [
    {
     "data": {
      "text/plain": [
       "['are not.']"
      ]
     },
     "execution_count": 114,
     "metadata": {},
     "output_type": "execute_result"
    }
   ],
   "source": [
    "# Criar padrão que verifica se a frase termina com \"are not.\"\n",
    "re.findall(r'are not.$', text)"
   ]
  },
  {
   "cell_type": "code",
   "execution_count": 115,
   "metadata": {
    "ExecuteTime": {
     "end_time": "2022-01-06T23:47:33.069791Z",
     "start_time": "2022-01-06T23:47:33.064804Z"
    }
   },
   "outputs": [
    {
     "data": {
      "text/plain": [
       "[' are not.']"
      ]
     },
     "execution_count": 115,
     "metadata": {},
     "output_type": "execute_result"
    }
   ],
   "source": [
    "re.findall(r'.are not.$', text)"
   ]
  },
  {
   "cell_type": "code",
   "execution_count": 116,
   "metadata": {
    "ExecuteTime": {
     "end_time": "2022-01-06T23:47:50.027819Z",
     "start_time": "2022-01-06T23:47:50.009840Z"
    }
   },
   "outputs": [
    {
     "data": {
      "text/plain": [
       "['My boss told him they were done, but they are not.']"
      ]
     },
     "execution_count": 116,
     "metadata": {},
     "output_type": "execute_result"
    }
   ],
   "source": [
    "re.findall(r'.*are not.$', text)"
   ]
  },
  {
   "cell_type": "code",
   "execution_count": 120,
   "metadata": {
    "ExecuteTime": {
     "end_time": "2022-01-06T23:49:58.074320Z",
     "start_time": "2022-01-06T23:49:58.055371Z"
    }
   },
   "outputs": [
    {
     "data": {
      "text/plain": [
       "['My boss asked me to turn. in my TPS reports.',\n",
       " 'My boss told him they were done, but they are not.']"
      ]
     },
     "execution_count": 120,
     "metadata": {},
     "output_type": "execute_result"
    }
   ],
   "source": [
    "re.findall(r'.*\\.$', text, re.MULTILINE)"
   ]
  },
  {
   "cell_type": "code",
   "execution_count": null,
   "metadata": {
    "ExecuteTime": {
     "end_time": "2022-01-06T14:37:56.929395Z",
     "start_time": "2022-01-06T14:37:56.911445Z"
    }
   },
   "outputs": [],
   "source": [
    "text = '''My boss asked me to turn in my TPS reports. \n",
    "My boss told him they were done, but they are not.'''"
   ]
  },
  {
   "cell_type": "code",
   "execution_count": null,
   "metadata": {
    "ExecuteTime": {
     "end_time": "2022-01-06T14:38:10.874202Z",
     "start_time": "2022-01-06T14:38:10.863233Z"
    }
   },
   "outputs": [],
   "source": [
    "re.findall(r'.*[. ]$', text, re.MULTILINE)"
   ]
  },
  {
   "cell_type": "markdown",
   "metadata": {},
   "source": [
    "# Important Regex Concept: Greediness\n",
    "https://docs.python.org/3/howto/regex.html#greedy-versus-non-greedy"
   ]
  },
  {
   "cell_type": "code",
   "execution_count": 122,
   "metadata": {
    "ExecuteTime": {
     "end_time": "2022-01-06T23:51:18.011015Z",
     "start_time": "2022-01-06T23:51:18.000044Z"
    }
   },
   "outputs": [],
   "source": [
    "text = 'You are yelling! So I will yell too! Let me yell!.'"
   ]
  },
  {
   "cell_type": "code",
   "execution_count": 123,
   "metadata": {
    "ExecuteTime": {
     "end_time": "2022-01-06T23:51:18.448802Z",
     "start_time": "2022-01-06T23:51:18.439819Z"
    }
   },
   "outputs": [
    {
     "name": "stdout",
     "output_type": "stream",
     "text": [
      "['You are yelling! So I will yell too! Let me yell!']\n"
     ]
    }
   ],
   "source": [
    "pattern = r'.*!'\n",
    "print(re.findall(pattern, text))"
   ]
  },
  {
   "cell_type": "markdown",
   "metadata": {},
   "source": [
    "When repeating a regular expression, as in a*, **the resulting action is to consume as much of the pattern as possible.**"
   ]
  },
  {
   "cell_type": "code",
   "execution_count": 124,
   "metadata": {
    "ExecuteTime": {
     "end_time": "2022-01-06T23:51:48.419804Z",
     "start_time": "2022-01-06T23:51:48.409827Z"
    }
   },
   "outputs": [
    {
     "name": "stdout",
     "output_type": "stream",
     "text": [
      "['You are yelling!', ' So I will yell too!', ' Let me yell!']\n"
     ]
    }
   ],
   "source": [
    "pattern = r'.*?!'\n",
    "print(re.findall(pattern, text))"
   ]
  },
  {
   "cell_type": "markdown",
   "metadata": {},
   "source": [
    "# Capturing group\n",
    "https://docs.python.org/3/howto/regex.html#grouping"
   ]
  },
  {
   "cell_type": "code",
   "execution_count": 135,
   "metadata": {
    "ExecuteTime": {
     "end_time": "2022-01-07T00:06:46.165483Z",
     "start_time": "2022-01-07T00:06:46.153516Z"
    }
   },
   "outputs": [],
   "source": [
    "text = '''\n",
    "From: author@example.com\n",
    "User-Agent: Thunderbird 1.5.0.9 (X11/20061227)\n",
    "MIME-Version: 1.0\n",
    "To: editor@example.com\n",
    "'''"
   ]
  },
  {
   "cell_type": "code",
   "execution_count": 136,
   "metadata": {
    "ExecuteTime": {
     "end_time": "2022-01-07T00:06:46.696516Z",
     "start_time": "2022-01-07T00:06:46.676571Z"
    }
   },
   "outputs": [
    {
     "data": {
      "text/plain": [
       "[('From', ' author@example.com'),\n",
       " ('User-Agent', ' Thunderbird 1.5.0.9 (X11/20061227)'),\n",
       " ('MIME-Version', ' 1.0'),\n",
       " ('To', ' editor@example.com')]"
      ]
     },
     "execution_count": 136,
     "metadata": {},
     "output_type": "execute_result"
    }
   ],
   "source": [
    "pattern = r'(.*):(.*)'\n",
    "re.findall(pattern, text)"
   ]
  },
  {
   "cell_type": "code",
   "execution_count": 138,
   "metadata": {
    "ExecuteTime": {
     "end_time": "2022-01-07T00:07:34.605475Z",
     "start_time": "2022-01-07T00:07:34.593508Z"
    }
   },
   "outputs": [
    {
     "name": "stdout",
     "output_type": "stream",
     "text": [
      "{'from': 'author@example.com', 'user-agent': 'Thunderbird 1.5.0.9 (X11/20061227)', 'mime-version': '1.0', 'to': 'editor@example.com'}\n"
     ]
    }
   ],
   "source": [
    "dict_re = {campo.lower() : valor.strip() for campo, valor in re.findall(pattern, text)}\n",
    "print(dict_re)"
   ]
  },
  {
   "cell_type": "code",
   "execution_count": null,
   "metadata": {
    "ExecuteTime": {
     "end_time": "2022-01-06T14:52:27.374553Z",
     "start_time": "2022-01-06T14:52:27.367551Z"
    }
   },
   "outputs": [],
   "source": [
    "dict_re['user-agent']"
   ]
  },
  {
   "cell_type": "markdown",
   "metadata": {},
   "source": [
    "# Voltamos 21h25"
   ]
  },
  {
   "cell_type": "code",
   "execution_count": null,
   "metadata": {},
   "outputs": [],
   "source": []
  }
 ],
 "metadata": {
  "hide_input": false,
  "kernelspec": {
   "display_name": "Python 3",
   "language": "python",
   "name": "python3"
  },
  "language_info": {
   "codemirror_mode": {
    "name": "ipython",
    "version": 3
   },
   "file_extension": ".py",
   "mimetype": "text/x-python",
   "name": "python",
   "nbconvert_exporter": "python",
   "pygments_lexer": "ipython3",
   "version": "3.8.8"
  },
  "toc": {
   "base_numbering": 1,
   "nav_menu": {},
   "number_sections": true,
   "sideBar": true,
   "skip_h1_title": false,
   "title_cell": "Table of Contents",
   "title_sidebar": "Contents",
   "toc_cell": false,
   "toc_position": {
    "height": "calc(100% - 180px)",
    "left": "10px",
    "top": "150px",
    "width": "258.182px"
   },
   "toc_section_display": true,
   "toc_window_display": false
  },
  "toc-autonumbering": false,
  "varInspector": {
   "cols": {
    "lenName": 16,
    "lenType": 16,
    "lenVar": 40
   },
   "kernels_config": {
    "python": {
     "delete_cmd_postfix": "",
     "delete_cmd_prefix": "del ",
     "library": "var_list.py",
     "varRefreshCmd": "print(var_dic_list())"
    },
    "r": {
     "delete_cmd_postfix": ") ",
     "delete_cmd_prefix": "rm(",
     "library": "var_list.r",
     "varRefreshCmd": "cat(var_dic_list()) "
    }
   },
   "types_to_exclude": [
    "module",
    "function",
    "builtin_function_or_method",
    "instance",
    "_Feature"
   ],
   "window_display": false
  }
 },
 "nbformat": 4,
 "nbformat_minor": 4
}
