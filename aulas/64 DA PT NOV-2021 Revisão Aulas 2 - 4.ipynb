{
 "cells": [
  {
   "cell_type": "markdown",
   "id": "5c79a6bb",
   "metadata": {},
   "source": [
    "# Tipos em Python\n",
    "## Tipos simples\n",
    "1. Números - números inteiros (int) e números decimais (float)\n",
    "1. Booleanos - True e False (bool)"
   ]
  },
  {
   "cell_type": "code",
   "execution_count": null,
   "id": "5038e2ba",
   "metadata": {},
   "outputs": [],
   "source": [
    "# Operadores númericos\n",
    "print(f'Soma: {3 + 1}')\n",
    "print(f'Subtração: {4 - 1}')\n",
    "print(f'Divisão: {4/3}')\n",
    "print(f'Potência: {5 ** 3}')\n",
    "print(f'Módulo (Resto): {5%3}')"
   ]
  },
  {
   "cell_type": "markdown",
   "id": "3b102e44",
   "metadata": {},
   "source": [
    "**Cuidado com as conversões de int em float!!!**"
   ]
  },
  {
   "cell_type": "code",
   "execution_count": null,
   "id": "b7377447",
   "metadata": {},
   "outputs": [],
   "source": [
    "lista_numeros = list(range(8))\n",
    "print(lista_numeros)\n",
    "lista_numeros[4/2]"
   ]
  },
  {
   "cell_type": "code",
   "execution_count": null,
   "id": "0ef3e141",
   "metadata": {},
   "outputs": [],
   "source": [
    "print(4/2)"
   ]
  },
  {
   "cell_type": "code",
   "execution_count": null,
   "id": "ffba2a48",
   "metadata": {},
   "outputs": [],
   "source": [
    "for i in range(2, 18, 2):\n",
    "    lista_numeros[int(i/2)]\n",
    "    print(i)"
   ]
  },
  {
   "cell_type": "code",
   "execution_count": null,
   "id": "941d077c",
   "metadata": {},
   "outputs": [],
   "source": [
    "# Operadores Booleanos\n",
    "# E\n",
    "print('Operador AND')\n",
    "print(True and True)\n",
    "print(True and False)\n",
    "print(False and False)\n",
    "# Ou\n",
    "print('Operador OR')\n",
    "print(True or True)\n",
    "print(True or False)\n",
    "print(False or False)\n",
    "# Negação\n",
    "print('Operador NOT')\n",
    "print(not True)\n",
    "print(not False)"
   ]
  },
  {
   "cell_type": "markdown",
   "id": "9ad3ea9f",
   "metadata": {},
   "source": [
    "Tipos numéricos podem ser transformados em booleanos através dos operadores de comparação"
   ]
  },
  {
   "cell_type": "code",
   "execution_count": null,
   "id": "4f223309",
   "metadata": {},
   "outputs": [],
   "source": [
    "# Equivalência\n",
    "print('Equivalência')\n",
    "print(1 == 1)\n",
    "print(2 == 1)\n",
    "# Maior que\n",
    "print('Maior que')\n",
    "print(2 > 1)\n",
    "print(2 > 3)\n",
    "# Menor que\n",
    "print('Menor que')\n",
    "print(2 < 1)\n",
    "print(2 < 3)\n",
    "# Maior ou igual\n",
    "print('Maior ou igual')\n",
    "print(2 >= 1)\n",
    "print(2 >= 3)\n",
    "# Menor ou igual\n",
    "print('Menor ou igual')\n",
    "print(2 <= 1)\n",
    "print(2 <= 3)"
   ]
  },
  {
   "cell_type": "markdown",
   "id": "5d633a2a",
   "metadata": {},
   "source": [
    "Tipos booleanos podem ser transformados em 0s (**False**) e 1s (**True**)"
   ]
  },
  {
   "cell_type": "code",
   "execution_count": null,
   "id": "848f13df",
   "metadata": {},
   "outputs": [],
   "source": [
    "print(f'Soma de booleanos {True + True + False}')\n",
    "print(f'Subtração de booleanos {True - True - False}')"
   ]
  },
  {
   "cell_type": "markdown",
   "id": "2419c1b3",
   "metadata": {},
   "source": [
    "## Tipos iteráveis\n",
    "1. Strings (str)\n",
    "1. Uplas (tuple)\n",
    "1. Listas (list)\n",
    "\n",
    "Sequencias de elementos com indexação pela posição do elemento na sequência"
   ]
  },
  {
   "cell_type": "code",
   "execution_count": 3,
   "id": "60acde3e",
   "metadata": {},
   "outputs": [
    {
     "name": "stdout",
     "output_type": "stream",
     "text": [
      " \n",
      "Pedro\n",
      "Pedro\n"
     ]
    }
   ],
   "source": [
    "nome = 'Pedro Teche de Lima'\n",
    "lista_nomes = ['Pedro', 'Teche', 'de Lima']\n",
    "upla_nomes = ('Pedro', 'Teche', 'de Lima')\n",
    "print(nome[5])\n",
    "print(lista_nomes[0])\n",
    "print(upla_nomes[0])"
   ]
  },
  {
   "cell_type": "markdown",
   "id": "297fe39e",
   "metadata": {},
   "source": [
    "Podemos utilizar a sintaxe de slices para retornar um pedaço do iterável através da notação [a:b]\n",
    "\n",
    "O iterável retornado terá **todos os elementos entre a (_incluindo a_) e b (_excluindo b_)**"
   ]
  },
  {
   "cell_type": "code",
   "execution_count": 4,
   "id": "1feea343",
   "metadata": {
    "scrolled": true
   },
   "outputs": [
    {
     "name": "stdout",
     "output_type": "stream",
     "text": [
      "edro Tech\n",
      "ima\n",
      "Pedro Teche de L\n"
     ]
    }
   ],
   "source": [
    "print(nome[1:10])\n",
    "print(nome[-3:])\n",
    "print(nome[:-3])"
   ]
  },
  {
   "cell_type": "code",
   "execution_count": 5,
   "id": "5a31fea7",
   "metadata": {},
   "outputs": [
    {
     "name": "stdout",
     "output_type": "stream",
     "text": [
      "['Pedro', 'Teche']\n",
      "['Teche', 'de Lima']\n",
      "['Pedro', 'Teche']\n"
     ]
    }
   ],
   "source": [
    "print(lista_nomes[0:2])\n",
    "print(lista_nomes[-2:])\n",
    "print(lista_nomes[:-1])"
   ]
  },
  {
   "cell_type": "code",
   "execution_count": 6,
   "id": "6ec5be58",
   "metadata": {},
   "outputs": [
    {
     "name": "stdout",
     "output_type": "stream",
     "text": [
      "('Pedro', 'Teche')\n",
      "('Teche', 'de Lima')\n",
      "('Pedro', 'Teche')\n"
     ]
    }
   ],
   "source": [
    "print(upla_nomes[0:2])\n",
    "print(upla_nomes[-2:])\n",
    "print(upla_nomes[:-1])"
   ]
  },
  {
   "cell_type": "markdown",
   "id": "0bb80fa8",
   "metadata": {},
   "source": [
    "Os tipos iteráveis contém alguns métodos em comum:"
   ]
  },
  {
   "cell_type": "code",
   "execution_count": 7,
   "id": "517ed82c",
   "metadata": {},
   "outputs": [
    {
     "name": "stdout",
     "output_type": "stream",
     "text": [
      "4\n",
      "0\n",
      "1\n",
      "0\n",
      "1\n"
     ]
    }
   ],
   "source": [
    "# Count para contar quantas vezes um elemento ocorre\n",
    "print(nome.count('e'))\n",
    "print(lista_nomes.count('e'))\n",
    "print(lista_nomes.count('Pedro'))\n",
    "print(upla_nomes.count('e'))\n",
    "print(upla_nomes.count('Pedro'))"
   ]
  },
  {
   "cell_type": "code",
   "execution_count": 8,
   "id": "2a5adf2e",
   "metadata": {},
   "outputs": [
    {
     "name": "stdout",
     "output_type": "stream",
     "text": [
      "1\n",
      "0\n",
      "2\n"
     ]
    }
   ],
   "source": [
    "# Index para buscar o índice de um elemento\n",
    "print(nome.index('e')) # Retorna o primeiro índice encontrado!\n",
    "#print(lista_nomes.index('e')) # Erro se o elemento não está no iterável!\n",
    "print(lista_nomes.index('Pedro'))\n",
    "print(lista_nomes.index('de Lima'))\n"
   ]
  },
  {
   "cell_type": "code",
   "execution_count": 9,
   "id": "1dbba18c",
   "metadata": {},
   "outputs": [
    {
     "name": "stdout",
     "output_type": "stream",
     "text": [
      "19\n",
      "3\n",
      "3\n"
     ]
    }
   ],
   "source": [
    "# Função len conta o número de elementos no iterável\n",
    "print(len(nome))\n",
    "print(len(lista_nomes))\n",
    "print(len(upla_nomes))"
   ]
  },
  {
   "cell_type": "code",
   "execution_count": 11,
   "id": "6775ec42",
   "metadata": {},
   "outputs": [
    {
     "data": {
      "text/plain": [
       "'de Lima'"
      ]
     },
     "execution_count": 11,
     "metadata": {},
     "output_type": "execute_result"
    }
   ],
   "source": [
    "lista_nomes[len(lista_nomes)-1]"
   ]
  },
  {
   "cell_type": "markdown",
   "id": "f47285aa",
   "metadata": {},
   "source": [
    "Listas são objetos mutáveis enquanto strings e uplas são objetos imutáveis"
   ]
  },
  {
   "cell_type": "code",
   "execution_count": 12,
   "id": "fcfba7f6",
   "metadata": {},
   "outputs": [
    {
     "name": "stdout",
     "output_type": "stream",
     "text": [
      "['Ordep', 'Teche', 'de Lima']\n"
     ]
    }
   ],
   "source": [
    "lista_nomes[0] = 'Ordep'\n",
    "print(lista_nomes)"
   ]
  },
  {
   "cell_type": "code",
   "execution_count": 13,
   "id": "aba3592d",
   "metadata": {},
   "outputs": [
    {
     "ename": "TypeError",
     "evalue": "'str' object does not support item assignment",
     "output_type": "error",
     "traceback": [
      "\u001b[1;31m---------------------------------------------------------------------------\u001b[0m",
      "\u001b[1;31mTypeError\u001b[0m                                 Traceback (most recent call last)",
      "\u001b[1;32m<ipython-input-13-14aa612356f5>\u001b[0m in \u001b[0;36m<module>\u001b[1;34m\u001b[0m\n\u001b[1;32m----> 1\u001b[1;33m \u001b[0mnome\u001b[0m\u001b[1;33m[\u001b[0m\u001b[1;36m0\u001b[0m\u001b[1;33m]\u001b[0m \u001b[1;33m=\u001b[0m \u001b[1;34m'O'\u001b[0m\u001b[1;33m\u001b[0m\u001b[1;33m\u001b[0m\u001b[0m\n\u001b[0m",
      "\u001b[1;31mTypeError\u001b[0m: 'str' object does not support item assignment"
     ]
    }
   ],
   "source": [
    "nome[0] = 'O'"
   ]
  },
  {
   "cell_type": "code",
   "execution_count": 14,
   "id": "60bf2445",
   "metadata": {},
   "outputs": [
    {
     "ename": "TypeError",
     "evalue": "'tuple' object does not support item assignment",
     "output_type": "error",
     "traceback": [
      "\u001b[1;31m---------------------------------------------------------------------------\u001b[0m",
      "\u001b[1;31mTypeError\u001b[0m                                 Traceback (most recent call last)",
      "\u001b[1;32m<ipython-input-14-ee62ec84179f>\u001b[0m in \u001b[0;36m<module>\u001b[1;34m\u001b[0m\n\u001b[1;32m----> 1\u001b[1;33m \u001b[0mupla_nomes\u001b[0m\u001b[1;33m[\u001b[0m\u001b[1;36m0\u001b[0m\u001b[1;33m]\u001b[0m \u001b[1;33m=\u001b[0m \u001b[1;34m'Ordep'\u001b[0m\u001b[1;33m\u001b[0m\u001b[1;33m\u001b[0m\u001b[0m\n\u001b[0m",
      "\u001b[1;31mTypeError\u001b[0m: 'tuple' object does not support item assignment"
     ]
    }
   ],
   "source": [
    "upla_nomes[0] = 'Ordep'"
   ]
  },
  {
   "cell_type": "markdown",
   "id": "267727b6",
   "metadata": {},
   "source": [
    "**Alguns métodos são especificos a cada tipo:**\n",
    "### Listas"
   ]
  },
  {
   "cell_type": "code",
   "execution_count": 15,
   "id": "b158c1fd",
   "metadata": {},
   "outputs": [
    {
     "name": "stdout",
     "output_type": "stream",
     "text": [
      "['Ordep', 'Teche', 'de Lima', 'DA PT']\n"
     ]
    }
   ],
   "source": [
    "lista_nomes.append('DA PT') # Recebe um objeto e adiciona à lista inplace\n",
    "print(lista_nomes)"
   ]
  },
  {
   "cell_type": "code",
   "execution_count": 16,
   "id": "fc53ba16",
   "metadata": {},
   "outputs": [
    {
     "name": "stdout",
     "output_type": "stream",
     "text": [
      "['Ordep', 'Teche', 'de Lima', 'DA PT', ['DA PT']]\n"
     ]
    }
   ],
   "source": [
    "lista_nomes.append(['DA PT'])\n",
    "print(lista_nomes)"
   ]
  },
  {
   "cell_type": "code",
   "execution_count": 17,
   "id": "e8ddeea0",
   "metadata": {},
   "outputs": [
    {
     "name": "stdout",
     "output_type": "stream",
     "text": [
      "['Ordep', 'Teche', 'de Lima', 'DA PT', ['DA PT'], 64, 'NOV', 2011]\n"
     ]
    }
   ],
   "source": [
    "lista_nomes.extend([64, 'NOV', 2011]) # Recebe um iterável e adiciona cada elemento do iterável à lista inplace\n",
    "print(lista_nomes) "
   ]
  },
  {
   "cell_type": "code",
   "execution_count": 19,
   "id": "c5ab7099",
   "metadata": {},
   "outputs": [
    {
     "name": "stdout",
     "output_type": "stream",
     "text": [
      "9\n",
      "-11\n",
      "[-11, -10, -5, -3, 0, 5, 6, 9, 10]\n"
     ]
    }
   ],
   "source": [
    "lista_num = [9, -10, 6, -5, 0, -3, 5, -11, 10]\n",
    "print(lista_num[0])\n",
    "lista_num.sort() # Ordena a lista inplace utilizando o operador <\n",
    "print(lista_num[0])\n",
    "print(lista_num)"
   ]
  },
  {
   "cell_type": "code",
   "execution_count": null,
   "id": "dc1f88cb",
   "metadata": {},
   "outputs": [],
   "source": [
    "# O que o operador < faz depende do tipo que estamos comparando\n",
    "print('a' < 'b')\n",
    "print('a' > 'b')\n",
    "#print('a' > 3)"
   ]
  },
  {
   "cell_type": "markdown",
   "id": "f299595c",
   "metadata": {},
   "source": [
    "Podemos inverter a direção do ordenamento (_crescente ou decrescente_) através do argumento **reverse**"
   ]
  },
  {
   "cell_type": "code",
   "execution_count": 20,
   "id": "9a8e528a",
   "metadata": {},
   "outputs": [
    {
     "name": "stdout",
     "output_type": "stream",
     "text": [
      "[-11, -10, -5, -3, 0, 5, 6, 9, 10]\n",
      "[10, 9, 6, 5, 0, -3, -5, -10, -11]\n"
     ]
    }
   ],
   "source": [
    "print(lista_num)\n",
    "lista_num.sort(reverse=True)\n",
    "print(lista_num)"
   ]
  },
  {
   "cell_type": "code",
   "execution_count": 21,
   "id": "1132f499",
   "metadata": {},
   "outputs": [
    {
     "name": "stdout",
     "output_type": "stream",
     "text": [
      "['aaaaa', 'aaa', 'aaaaaaaaaa', 'aa', 'a']\n"
     ]
    }
   ],
   "source": [
    "lista_strings = ['a'*5, 'a'*3, 'a'*10, 'a'*2, 'a']\n",
    "print(lista_strings)"
   ]
  },
  {
   "cell_type": "code",
   "execution_count": 22,
   "id": "d8fa232e",
   "metadata": {},
   "outputs": [
    {
     "name": "stdout",
     "output_type": "stream",
     "text": [
      "['a', 'aa', 'aaa', 'aaaaa', 'aaaaaaaaaa']\n"
     ]
    }
   ],
   "source": [
    "\n",
    "lista_strings.sort(key = len)\n",
    "print(lista_strings)"
   ]
  },
  {
   "cell_type": "code",
   "execution_count": 24,
   "id": "585ff9fc",
   "metadata": {},
   "outputs": [
    {
     "name": "stdout",
     "output_type": "stream",
     "text": [
      "[0, -3, 5, -5, 6, 9, 10, -10, -11]\n"
     ]
    }
   ],
   "source": [
    "def quadrado(x):\n",
    "    return x ** 2\n",
    "lista_num.sort(key=quadrado)\n",
    "print(lista_num)"
   ]
  },
  {
   "cell_type": "markdown",
   "id": "cc512e5c",
   "metadata": {},
   "source": [
    "## Estruturas de Controle\n",
    "Estruturas de controles nos permitem o fluxo de execução de um programa\n",
    "1. if\n",
    "1. for\n",
    "1. while"
   ]
  },
  {
   "cell_type": "markdown",
   "id": "2ea71c1c",
   "metadata": {},
   "source": [
    "**O _if-elif-else_ executa comandos de forma condicional na seguinte estrutura:**\n",
    "```\n",
    "if CONDICAO_1:\n",
    "    EXECUTAR SE CONDICAO_1 É VERDADEIRA\n",
    "elif CONDICAO_2:\n",
    "    EXECUTAR SE CONDICAO_1 É FALSA E CONDICAO_2 É VERDADEIRA\n",
    "else:\n",
    "    EXECUTAR SE CONDICAO_1 É FALSA E CONDICAO_2 É FALSE\n",
    "```"
   ]
  },
  {
   "cell_type": "code",
   "execution_count": 26,
   "id": "d23f8136",
   "metadata": {},
   "outputs": [
    {
     "name": "stdout",
     "output_type": "stream",
     "text": [
      "\n",
      "Digite um número: \n",
      "5\n",
      "\n",
      "Digite outro número: \n",
      "5\n",
      "\n",
      "Os números são iguais\n"
     ]
    }
   ],
   "source": [
    "num_1 = float(input('\\nDigite um número: \\n'))\n",
    "num_2 = float(input('\\nDigite outro número: \\n'))\n",
    "\n",
    "if num_1 > num_2:\n",
    "    print('\\nO primeiro é maior que o segundo')\n",
    "elif num_1 < num_2:\n",
    "    print('\\nO segundo é maior que o primeiro')\n",
    "else:\n",
    "    print('\\nOs números são iguais')"
   ]
  },
  {
   "cell_type": "code",
   "execution_count": 30,
   "id": "b20633c1",
   "metadata": {
    "scrolled": true
   },
   "outputs": [
    {
     "name": "stdout",
     "output_type": "stream",
     "text": [
      "\n",
      "Digite um número: \n",
      "5\n",
      "\n",
      "Digite outro número: \n",
      "10\n",
      "15.0\n"
     ]
    }
   ],
   "source": [
    "num_1 = float(input('\\nDigite um número: \\n'))\n",
    "num_2 = float(input('\\nDigite outro número: \\n'))\n",
    "\n",
    "if num_1 > num_2:\n",
    "    print(num_1 * num_2)\n",
    "print(num_1 + num_2)"
   ]
  },
  {
   "cell_type": "markdown",
   "id": "276cd778",
   "metadata": {},
   "source": [
    "**O _for_ executa comandos de forma repetida a partir da iteração sobre um iterável:**"
   ]
  },
  {
   "cell_type": "code",
   "execution_count": 32,
   "id": "19acbbfc",
   "metadata": {},
   "outputs": [
    {
     "name": "stdout",
     "output_type": "stream",
     "text": [
      "4\n"
     ]
    }
   ],
   "source": [
    "lista_letras = ['a', 'b', 'c', 'd']\n",
    "x = 0\n",
    "for i in lista_letras:\n",
    "    # o loop cria a variável i a partir dos elementos do iterável lista_letras\n",
    "    # e executa o bloco identado para cada elemento\n",
    "    x += 1\n",
    "    \n",
    "print(x)"
   ]
  },
  {
   "cell_type": "code",
   "execution_count": 35,
   "id": "c475e5fa",
   "metadata": {},
   "outputs": [
    {
     "name": "stdout",
     "output_type": "stream",
     "text": [
      "[0, 1, 2, 3, 4, 5, 6, 7, 8, 9]\n"
     ]
    }
   ],
   "source": [
    "print(list(range(10)))"
   ]
  },
  {
   "cell_type": "markdown",
   "id": "3e1c69f7",
   "metadata": {},
   "source": [
    "**O _while_ executa comandos de forma repedita enquanto uma condição for verdadeira:**"
   ]
  },
  {
   "cell_type": "code",
   "execution_count": 42,
   "id": "794840d7",
   "metadata": {},
   "outputs": [
    {
     "name": "stdout",
     "output_type": "stream",
     "text": [
      "0\n",
      "1\n",
      "2\n",
      "3\n",
      "4\n",
      "5\n",
      "6\n"
     ]
    }
   ],
   "source": [
    "i = 0\n",
    "while i < 10:\n",
    "    print(i)\n",
    "    if i > 5:\n",
    "        break\n",
    "    i += 1 #equivalente à i = i + 1"
   ]
  },
  {
   "cell_type": "markdown",
   "id": "124fa05d",
   "metadata": {},
   "source": [
    "## Tipos complexos\n",
    "1. Conjuntos (set)\n",
    "1. Dicionários (dict)"
   ]
  },
  {
   "cell_type": "markdown",
   "id": "5febd63c",
   "metadata": {},
   "source": [
    "Conjuntos são coleções mutáveis de elementos **únicos**"
   ]
  },
  {
   "cell_type": "code",
   "execution_count": 43,
   "id": "9fc50f32",
   "metadata": {},
   "outputs": [
    {
     "name": "stdout",
     "output_type": "stream",
     "text": [
      "['banana', 'banana', 'banana', 'pera', 'pera', 'manga']\n",
      "{'pera', 'banana', 'manga'}\n"
     ]
    }
   ],
   "source": [
    "minha_lista = ['banana', 'banana', 'banana', 'pera', 'pera', 'manga']\n",
    "meu_set = set(minha_lista)\n",
    "print(minha_lista)\n",
    "print(meu_set)"
   ]
  },
  {
   "cell_type": "markdown",
   "id": "c8ce9983",
   "metadata": {},
   "source": [
    "Podemos adicionar e remover elementos à um conjunto"
   ]
  },
  {
   "cell_type": "code",
   "execution_count": 44,
   "id": "31f69ead",
   "metadata": {},
   "outputs": [
    {
     "name": "stdout",
     "output_type": "stream",
     "text": [
      "{'pera', 'banana', 'manga'}\n",
      "{'amora', 'pera', 'banana', 'manga'}\n",
      "{'amora', 'pera', 'banana', 'manga'}\n",
      "{'amora', 'pera', 'manga'}\n"
     ]
    }
   ],
   "source": [
    "print(meu_set)\n",
    "meu_set.add('amora')\n",
    "print(meu_set)\n",
    "meu_set.add('banana')\n",
    "print(meu_set)\n",
    "meu_set.remove('banana')\n",
    "print(meu_set)"
   ]
  },
  {
   "cell_type": "markdown",
   "id": "4d34f9dc",
   "metadata": {},
   "source": [
    "Podemos usar o operador **in** para verificar se um elemento está em um conjunto"
   ]
  },
  {
   "cell_type": "code",
   "execution_count": 45,
   "id": "a6ce3abe",
   "metadata": {},
   "outputs": [
    {
     "data": {
      "text/plain": [
       "True"
      ]
     },
     "execution_count": 45,
     "metadata": {},
     "output_type": "execute_result"
    }
   ],
   "source": [
    "'manga' in meu_set"
   ]
  },
  {
   "cell_type": "markdown",
   "id": "b09cc2af",
   "metadata": {},
   "source": [
    "Dicionários são coleções de duplas **Chave** : **Valor**. Podemos pensar em um dicionário como uma lista com um índice que nós mesmos definimos a partir da sintaxe \n",
    "```\n",
    "dicionario[Chave] = Valor\n",
    "```"
   ]
  },
  {
   "cell_type": "code",
   "execution_count": 46,
   "id": "80a36040",
   "metadata": {},
   "outputs": [
    {
     "name": "stdout",
     "output_type": "stream",
     "text": [
      "{'gato': 'Mamífero', 'cão': 'Mamífero', 'sapo': 'Anfíbio', 'cobra': 'Reptíl'}\n",
      "Mamífero\n"
     ]
    }
   ],
   "source": [
    "dict_animais = dict() \n",
    "dict_animais['gato'] = 'Mamífero'\n",
    "dict_animais['cão'] = 'Mamífero'\n",
    "dict_animais['sapo'] = 'Anfíbio'\n",
    "dict_animais['cobra'] = 'Reptíl'\n",
    "print(dict_animais)\n",
    "print(dict_animais['gato'])"
   ]
  },
  {
   "cell_type": "code",
   "execution_count": 47,
   "id": "21e07d41",
   "metadata": {},
   "outputs": [
    {
     "name": "stdout",
     "output_type": "stream",
     "text": [
      "Reptíl\n",
      "Mamífero\n"
     ]
    }
   ],
   "source": [
    "print(dict_animais['cobra'])\n",
    "dict_animais['cobra'] = 'Mamífero'\n",
    "print(dict_animais['cobra'])"
   ]
  },
  {
   "cell_type": "code",
   "execution_count": 53,
   "id": "f15f5470",
   "metadata": {},
   "outputs": [
    {
     "name": "stdout",
     "output_type": "stream",
     "text": [
      "{'amora': 'Não gosto', 'pera': 'Não gosto', 'manga': 'Gosto'}\n"
     ]
    }
   ],
   "source": [
    "frutas_gosto = set(['manga', 'banana'])\n",
    "avaliacao_compra = dict()\n",
    "\n",
    "for fruta in meu_set:\n",
    "    if fruta in frutas_gosto:\n",
    "        avaliacao_compra[fruta] = 'Gosto'\n",
    "    else:\n",
    "        avaliacao_compra[fruta] = 'Não gosto'\n",
    "print(avaliacao_compra)\n",
    "\n"
   ]
  },
  {
   "cell_type": "code",
   "execution_count": null,
   "id": "8ddc71ac",
   "metadata": {},
   "outputs": [],
   "source": [
    "gostei = 0\n",
    "\n",
    "for fruta in avaliacao_compra.keys():\n",
    "    if avaliacao_compra[fruta] == 'Gosto':\n",
    "        gostei += 1\n",
    "\n",
    "if gostei == 1:\n",
    "    print(f'Gostei de {gostei} fruta na compra')\n",
    "else:\n",
    "    print(f'Gostei de {gostei} frutas na compra')"
   ]
  },
  {
   "cell_type": "markdown",
   "id": "6c575120",
   "metadata": {},
   "source": [
    "## Operações em Strings"
   ]
  },
  {
   "cell_type": "markdown",
   "id": "fd1640a6",
   "metadata": {},
   "source": [
    "Podemos criar strings a partir de iteráveis"
   ]
  },
  {
   "cell_type": "code",
   "execution_count": 68,
   "id": "505ba423",
   "metadata": {},
   "outputs": [
    {
     "name": "stdout",
     "output_type": "stream",
     "text": [
      "Pedro@Teche@de Lima\n"
     ]
    }
   ],
   "source": [
    "lista_nomes = ['Pedro', 'Teche', 'de Lima']\n",
    "nome_completo = '@'.join(lista_nomes)\n",
    "print(nome_completo)"
   ]
  },
  {
   "cell_type": "markdown",
   "id": "e2b627f8",
   "metadata": {},
   "source": [
    "E listas a partir de strings"
   ]
  },
  {
   "cell_type": "code",
   "execution_count": 69,
   "id": "5ad38488",
   "metadata": {},
   "outputs": [
    {
     "name": "stdout",
     "output_type": "stream",
     "text": [
      "['Pedro', 'Teche', 'de Lima']\n"
     ]
    }
   ],
   "source": [
    "lista_nomes_2 = nome_completo.split('@')\n",
    "print(lista_nomes_2)"
   ]
  },
  {
   "cell_type": "markdown",
   "id": "4a2cdf33",
   "metadata": {},
   "source": [
    "Podemos verificar se um string esta contido em outro, lembrando que strings são case-sensitive"
   ]
  },
  {
   "cell_type": "code",
   "execution_count": 70,
   "id": "2b00ea9f",
   "metadata": {},
   "outputs": [
    {
     "name": "stdout",
     "output_type": "stream",
     "text": [
      "False\n",
      "True\n"
     ]
    }
   ],
   "source": [
    "estrofe = '''E assim que o mundo Acaba\n",
    "E assim que o mundo Acaba\n",
    "E assim que o mundo Acaba\n",
    "Sem estrondo, num gemido.\n",
    "'''\n",
    "print('acaba' in estrofe)\n",
    "print('Acaba' in estrofe)"
   ]
  },
  {
   "cell_type": "code",
   "execution_count": 71,
   "id": "81ac18aa",
   "metadata": {},
   "outputs": [
    {
     "name": "stdout",
     "output_type": "stream",
     "text": [
      "e assim que o mundo acaba\n",
      "e assim que o mundo acaba\n",
      "e assim que o mundo acaba\n",
      "sem estrondo, num gemido.\n",
      "\n",
      "True\n",
      "False\n"
     ]
    }
   ],
   "source": [
    "estrofe_limpa = estrofe.lower()\n",
    "print(estrofe_limpa)\n",
    "print('acaba' in estrofe_limpa)\n",
    "print('Acaba' in estrofe_limpa)"
   ]
  },
  {
   "cell_type": "markdown",
   "id": "e4ceac06",
   "metadata": {},
   "source": [
    "Podemos substituir partes de um string"
   ]
  },
  {
   "cell_type": "code",
   "execution_count": 77,
   "id": "318527e2",
   "metadata": {},
   "outputs": [
    {
     "name": "stdout",
     "output_type": "stream",
     "text": [
      "e assim que o mundo acaba\n",
      "e assim que o mundo acaba\n",
      "e assim que o mundo acaba\n",
      "sem estrondo, num gemido.\n",
      "\n"
     ]
    }
   ],
   "source": [
    "estrofe_inversa = estrofe_limpa.replace('acaba', 'comeca').replace('sem', 'com').replace('num', 'sem')\n",
    "print(estrofe_limpa)"
   ]
  },
  {
   "cell_type": "code",
   "execution_count": 75,
   "id": "43489176",
   "metadata": {},
   "outputs": [
    {
     "name": "stdout",
     "output_type": "stream",
     "text": [
      "e assim que o mundo comeca\n",
      "e assim que o mundo comeca\n",
      "e assim que o mundo comeca\n",
      "com estrondo, sem gemido.\n",
      "\n"
     ]
    }
   ],
   "source": [
    "print(estrofe_inversa)"
   ]
  },
  {
   "attachments": {
    "the-devil-evil-laugh.gif": {
     "image/gif": "[encoded data removed]"
    }
   },
   "cell_type": "markdown",
   "id": "5858237c",
   "metadata": {},
   "source": [
    "# REGEX\n",
    "![the-devil-evil-laugh.gif](attachment:the-devil-evil-laugh.gif)"
   ]
  },
  {
   "cell_type": "markdown",
   "id": "f867ebf0",
   "metadata": {},
   "source": [
    "# VOLTAMOS AS 11H20"
   ]
  },
  {
   "cell_type": "markdown",
   "id": "9ff33c6b",
   "metadata": {},
   "source": [
    "REGEX é uma ferramenta para lidar com strings. Ela permite a busca (e alteração) de **padrões**.\n",
    "O padrão mais simples é um string:"
   ]
  },
  {
   "cell_type": "code",
   "execution_count": 78,
   "id": "5ea6375e",
   "metadata": {},
   "outputs": [
    {
     "name": "stdout",
     "output_type": "stream",
     "text": [
      "e assim que o mundo comeca\n",
      "e assim que o mundo comeca\n",
      "e assim que o mundo comeca\n",
      "com estrondo, sem gemido.\n",
      "\n",
      "['comeca', 'comeca', 'comeca']\n"
     ]
    }
   ],
   "source": [
    "import re # IMPORTE A BIBLIOTECA\n",
    "print(estrofe_inversa)\n",
    "pattern = r'comeca'\n",
    "print(re.findall(pattern, estrofe_inversa))"
   ]
  },
  {
   "cell_type": "markdown",
   "id": "20084660",
   "metadata": {},
   "source": [
    "A forma mais simples de criar padrões é a partir da **notação de conjuntos: _[CARACTERES]_**"
   ]
  },
  {
   "cell_type": "code",
   "execution_count": 79,
   "id": "df90bbb4",
   "metadata": {},
   "outputs": [
    {
     "name": "stdout",
     "output_type": "stream",
     "text": [
      "E assim que o mundo Acaba\n",
      "E assim que o mundo Acaba\n",
      "E assim que o mundo Acaba\n",
      "Sem estrondo, num gemido.\n",
      "\n"
     ]
    }
   ],
   "source": [
    "print(estrofe)"
   ]
  },
  {
   "cell_type": "code",
   "execution_count": 80,
   "id": "f997cd74",
   "metadata": {},
   "outputs": [
    {
     "name": "stdout",
     "output_type": "stream",
     "text": [
      "e assim que o mundo acaba\n",
      "e assim que o mundo acaba\n",
      "e assim que o mundo acaba\n",
      "sem estrondo, num gemido.\n",
      "\n"
     ]
    }
   ],
   "source": [
    "print(estrofe_limpa)"
   ]
  },
  {
   "cell_type": "code",
   "execution_count": 81,
   "id": "5b3118bd",
   "metadata": {},
   "outputs": [
    {
     "name": "stdout",
     "output_type": "stream",
     "text": [
      "['Acaba', 'Acaba', 'Acaba']\n",
      "['acaba', 'acaba', 'acaba']\n"
     ]
    }
   ],
   "source": [
    "pattern = r'[AaOo]caba' # vai encontrar Acaba ou acaba\n",
    "print(re.findall(pattern, estrofe))\n",
    "print(re.findall(pattern, estrofe_limpa))"
   ]
  },
  {
   "cell_type": "markdown",
   "id": "04e8e4a9",
   "metadata": {},
   "source": [
    "Alguns conjuntos são muito utilizados\n",
    "* **[A-Z]**: todas as letras maiúsculas.\n",
    "* **[a-z]**: todas as letras minúsculas.\n",
    "* **[A-z]**: todas as letras.\n",
    "* **[0-9]**: todos os digitos."
   ]
  },
  {
   "cell_type": "code",
   "execution_count": 83,
   "id": "45422455",
   "metadata": {},
   "outputs": [
    {
     "name": "stdout",
     "output_type": "stream",
     "text": [
      "e assim que o mundo comeca\n",
      "e assim que o mundo comeca\n",
      "e assim que o mundo comeca\n",
      "com estrondo, sem gemido.\n",
      "\n"
     ]
    }
   ],
   "source": [
    "print(estrofe_inversa)"
   ]
  },
  {
   "cell_type": "code",
   "execution_count": null,
   "id": "b3839210",
   "metadata": {},
   "outputs": [],
   "source": [
    "# REMOVING DIACRITICS PYTHON"
   ]
  },
  {
   "cell_type": "code",
   "execution_count": 84,
   "id": "10d10964",
   "metadata": {},
   "outputs": [
    {
     "name": "stdout",
     "output_type": "stream",
     "text": [
      "['ass', 'que', 'mun', 'com', 'eca', 'ass', 'que', 'mun', 'com', 'eca', 'ass', 'que', 'mun', 'com', 'eca', 'com', 'est', 'ron', 'sem', 'gem', 'ido']\n"
     ]
    }
   ],
   "source": [
    "pattern = r'[A-z][A-z][A-z]' # todas as sequencias de três letras\n",
    "print(re.findall(pattern, estrofe_inversa))"
   ]
  },
  {
   "cell_type": "code",
   "execution_count": 97,
   "id": "b3c4b752",
   "metadata": {},
   "outputs": [
    {
     "name": "stdout",
     "output_type": "stream",
     "text": [
      "[' que ', ' que ', ' que ', ' sem ']\n"
     ]
    }
   ],
   "source": [
    "pattern = r' [A-z][A-z][A-z] ' # espaços também são caracteres!\n",
    "print(re.findall(pattern, estrofe_inversa))"
   ]
  },
  {
   "cell_type": "markdown",
   "id": "c223c933",
   "metadata": {},
   "source": [
    "Podemos modificar os caracteres através dos quantificadores:\n",
    "* **?**: Encontra 0 ou 1 do caracter/conjunto\n",
    "* *: Encontra 0 ou mais do caracter/conjunto\n",
    "* +: Encontra 1 ou mais do caracter/conjunto"
   ]
  },
  {
   "cell_type": "code",
   "execution_count": 99,
   "id": "da457345",
   "metadata": {},
   "outputs": [
    {
     "name": "stdout",
     "output_type": "stream",
     "text": [
      "e assim que o mundo comeca\n",
      "e assim que o mundo comeca\n",
      "e assim que o mundo comeca\n",
      "com estrondo, sem gemido.\n",
      "\n"
     ]
    }
   ],
   "source": [
    "print(estrofe_inversa)"
   ]
  },
  {
   "cell_type": "code",
   "execution_count": 98,
   "id": "6bf4a4e4",
   "metadata": {},
   "outputs": [
    {
     "name": "stdout",
     "output_type": "stream",
     "text": [
      "['e', 'assim', 'que', 'o', 'mundo', 'comeca', 'e', 'assim', 'que', 'o', 'mundo', 'comeca', 'e', 'assim', 'que', 'o', 'mundo', 'comeca', 'com', 'estrondo', 'sem', 'gemido']\n"
     ]
    }
   ],
   "source": [
    "pattern = r'[A-z]+' # encontra todas as sequencias de letras delimitadas por caracteres que não são letras\n",
    "print(re.findall(pattern, estrofe_inversa))"
   ]
  },
  {
   "cell_type": "code",
   "execution_count": 100,
   "id": "7daac5f6",
   "metadata": {},
   "outputs": [
    {
     "name": "stdout",
     "output_type": "stream",
     "text": [
      "['e', '', 'assim', '', 'que', '', 'o', '', 'mundo', '', 'comeca', '', 'e', '', 'assim', '', 'que', '', 'o', '', 'mundo', '', 'comeca', '', 'e', '', 'assim', '', 'que', '', 'o', '', 'mundo', '', 'comeca', '', 'com', '', 'estrondo', '', '', 'sem', '', 'gemido', '', '', '']\n"
     ]
    }
   ],
   "source": [
    "pattern = r'[A-z]*'\n",
    "print(re.findall(pattern, estrofe_inversa))"
   ]
  },
  {
   "cell_type": "code",
   "execution_count": null,
   "id": "87950275",
   "metadata": {},
   "outputs": [],
   "source": [
    "pattern = r'[A-z]*'\n",
    "print(re.findall(pattern, estrofe_inversa))"
   ]
  },
  {
   "cell_type": "code",
   "execution_count": 103,
   "id": "a7f2e311",
   "metadata": {},
   "outputs": [
    {
     "name": "stdout",
     "output_type": "stream",
     "text": [
      "['Catarina', 'Catharina', 'Cathhhharina']\n"
     ]
    }
   ],
   "source": [
    "novo_string = 'Alguns nomes podem ter um H aspirado, como Catarina, Catharina ou Cathhhharina'\n",
    "pattern = r'Cath*arina'\n",
    "print(re.findall(pattern, novo_string))"
   ]
  },
  {
   "cell_type": "markdown",
   "id": "a748c4a8",
   "metadata": {},
   "source": [
    "## Funções"
   ]
  },
  {
   "cell_type": "markdown",
   "id": "2f9c595f",
   "metadata": {},
   "source": [
    "Podemos construir nossas proprias funções usando a sintaxe\n",
    "```\n",
    "def nome_funcao(argumentos):\n",
    "    CODIGO\n",
    "    return valor_a_ser_retornado\n",
    "```\n",
    "\n",
    "e podem ser executadas através da sintaxe:\n",
    "\n",
    "```\n",
    "nome_funcao(argumentos)\n",
    "```"
   ]
  },
  {
   "cell_type": "code",
   "execution_count": 107,
   "id": "65038ed9",
   "metadata": {},
   "outputs": [
    {
     "name": "stdout",
     "output_type": "stream",
     "text": [
      "0\n",
      "1\n",
      "4\n",
      "9\n",
      "16\n",
      "25\n",
      "36\n",
      "49\n",
      "64\n",
      "81\n"
     ]
    }
   ],
   "source": [
    "def quadrado(x = 2):\n",
    "    return x**2\n",
    "\n",
    "y = quadrado(2)\n",
    "for i in range(10):\n",
    "    print(quadrado(i))"
   ]
  },
  {
   "cell_type": "code",
   "execution_count": 109,
   "id": "48bf0c07",
   "metadata": {},
   "outputs": [
    {
     "data": {
      "text/plain": [
       "16"
      ]
     },
     "execution_count": 109,
     "metadata": {},
     "output_type": "execute_result"
    }
   ],
   "source": [
    "quadrado(4)"
   ]
  },
  {
   "cell_type": "markdown",
   "id": "ced73be2",
   "metadata": {},
   "source": [
    "Os argumentos e as variáveis de uma função tem escopo local"
   ]
  },
  {
   "cell_type": "code",
   "execution_count": 116,
   "id": "f7297cf8",
   "metadata": {},
   "outputs": [
    {
     "name": "stdout",
     "output_type": "stream",
     "text": [
      "0\n",
      "0\n"
     ]
    }
   ],
   "source": [
    "x = 0\n",
    "os.listdir()\n",
    "\n",
    "def mudar_x():\n",
    "    \n",
    "    print(x)\n",
    "\n",
    "mudar_x()\n",
    "print(x)"
   ]
  },
  {
   "cell_type": "code",
   "execution_count": 111,
   "id": "36d2155d",
   "metadata": {},
   "outputs": [
    {
     "name": "stdout",
     "output_type": "stream",
     "text": [
      "5\n"
     ]
    }
   ],
   "source": [
    "print(mudar_x())"
   ]
  },
  {
   "cell_type": "code",
   "execution_count": 112,
   "id": "6814e364",
   "metadata": {},
   "outputs": [
    {
     "name": "stdout",
     "output_type": "stream",
     "text": [
      "0\n"
     ]
    }
   ],
   "source": [
    "print(x)"
   ]
  },
  {
   "cell_type": "code",
   "execution_count": 113,
   "id": "6fc95c36",
   "metadata": {},
   "outputs": [
    {
     "name": "stdout",
     "output_type": "stream",
     "text": [
      "6.28\n"
     ]
    }
   ],
   "source": [
    "PI = 3.14\n",
    "\n",
    "def print_pi():\n",
    "    print(PI*2)\n",
    "print_pi()"
   ]
  },
  {
   "cell_type": "markdown",
   "id": "91f818a5",
   "metadata": {},
   "source": [
    "# VOLTAMOS 13h45"
   ]
  },
  {
   "cell_type": "code",
   "execution_count": null,
   "id": "c4555680",
   "metadata": {},
   "outputs": [],
   "source": []
  }
 ],
 "metadata": {
  "kernelspec": {
   "display_name": "Python 3",
   "language": "python",
   "name": "python3"
  },
  "language_info": {
   "codemirror_mode": {
    "name": "ipython",
    "version": 3
   },
   "file_extension": ".py",
   "mimetype": "text/x-python",
   "name": "python",
   "nbconvert_exporter": "python",
   "pygments_lexer": "ipython3",
   "version": "3.8.8"
  }
 },
 "nbformat": 4,
 "nbformat_minor": 5
}
