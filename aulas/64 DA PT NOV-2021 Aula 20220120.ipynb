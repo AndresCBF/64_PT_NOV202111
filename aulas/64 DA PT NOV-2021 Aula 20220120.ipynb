{
 "cells": [
  {
   "cell_type": "code",
   "execution_count": 1,
   "metadata": {
    "ExecuteTime": {
     "end_time": "2022-01-20T22:39:28.088992Z",
     "start_time": "2022-01-20T22:39:27.603290Z"
    }
   },
   "outputs": [],
   "source": [
    "import pandas as pd\n",
    "import os"
   ]
  },
  {
   "cell_type": "markdown",
   "metadata": {},
   "source": [
    "# API Wrappers"
   ]
  },
  {
   "cell_type": "markdown",
   "metadata": {},
   "source": [
    "## Dealing with `keys` in code\n",
    "\n",
    "Usually, when you access an API, you'll use some password or `key`. \n",
    "\n",
    "There's a package called `dotenv` that helps you hide your keys inside a file."
   ]
  },
  {
   "cell_type": "markdown",
   "metadata": {},
   "source": [
    "- Install dotenv `!pip install dotenv` (or `!pip install python-dotenv`)\n",
    "- Create a file with a `.env` extension and variables inside of it like \n",
    "```\n",
    "API_KEY=\"l1noPOPAixCPM\"\n",
    "API_SECRET=\"GraGq0zrGhs1qvbA0xQXsZBKuTkK5MJ\"\n",
    "```\n",
    "- run dotenv.load_dotenv('filename.env')\n",
    "- now if you run os.getenv('API_KEY'), it will contain the string 'l1noPOPAixCPM'\n",
    "- the idea is that you can upload your code to Github and **DON'T** upload the `.env` file"
   ]
  },
  {
   "cell_type": "code",
   "execution_count": null,
   "metadata": {
    "ExecuteTime": {
     "end_time": "2022-01-20T14:01:33.096315Z",
     "start_time": "2022-01-20T14:01:30.503439Z"
    }
   },
   "outputs": [],
   "source": [
    "!pip3 install python-dotenv"
   ]
  },
  {
   "cell_type": "code",
   "execution_count": 2,
   "metadata": {
    "ExecuteTime": {
     "end_time": "2022-01-20T22:41:04.338956Z",
     "start_time": "2022-01-20T22:41:04.319007Z"
    }
   },
   "outputs": [],
   "source": [
    "from dotenv import load_dotenv"
   ]
  },
  {
   "cell_type": "code",
   "execution_count": 3,
   "metadata": {
    "ExecuteTime": {
     "end_time": "2022-01-20T22:43:02.931977Z",
     "start_time": "2022-01-20T22:43:02.915020Z"
    }
   },
   "outputs": [
    {
     "data": {
      "text/plain": [
       "True"
      ]
     },
     "execution_count": 3,
     "metadata": {},
     "output_type": "execute_result"
    }
   ],
   "source": [
    "load_dotenv('credentials/credentials.env')"
   ]
  },
  {
   "cell_type": "code",
   "execution_count": 5,
   "metadata": {
    "ExecuteTime": {
     "end_time": "2022-01-20T22:43:36.069025Z",
     "start_time": "2022-01-20T22:43:36.057028Z"
    }
   },
   "outputs": [
    {
     "name": "stdout",
     "output_type": "stream",
     "text": [
      "l1noPOPAixCPM\n"
     ]
    }
   ],
   "source": [
    "print(os.getenv('API_KEY'))"
   ]
  },
  {
   "cell_type": "markdown",
   "metadata": {},
   "source": [
    "## List of API wrappers\n",
    "\n",
    "- This is a list of some known python packages that facilitates the use of some APIs:\n",
    "https://github.com/realpython/list-of-python-api-wrappers\n",
    "\n",
    "- But there are much more than that. You just have to look for it. Here's a list of some public APIs grouped by type: https://github.com/public-apis/public-apis. Maybe you can find an API wrapper for those too. You just need to search google something like: `name_of_the_api python wrapper`\n",
    "\n",
    "- API para o `Portal da Transparência` (Brasil): http://www.transparencia.gov.br/swagger-ui.html\n",
    "\n",
    "- Here's another list of fun APIs: https://apilist.fun/\n"
   ]
  },
  {
   "cell_type": "markdown",
   "metadata": {},
   "source": [
    "# Use Cases"
   ]
  },
  {
   "cell_type": "markdown",
   "metadata": {},
   "source": [
    "## OMDB\n",
    "\n",
    "http://www.omdbapi.com/"
   ]
  },
  {
   "cell_type": "markdown",
   "metadata": {
    "ExecuteTime": {
     "end_time": "2020-06-20T21:58:04.761865Z",
     "start_time": "2020-06-20T21:57:58.365989Z"
    }
   },
   "source": [
    "https://github.com/dgilland/omdb.py\n",
    "\n",
    "Install API wrapper: `!pip install omdb`\n"
   ]
  },
  {
   "cell_type": "code",
   "execution_count": null,
   "metadata": {
    "ExecuteTime": {
     "end_time": "2022-01-20T10:57:21.583370Z",
     "start_time": "2022-01-20T10:57:18.624644Z"
    }
   },
   "outputs": [],
   "source": [
    "!pip install omdb"
   ]
  },
  {
   "cell_type": "code",
   "execution_count": 6,
   "metadata": {
    "ExecuteTime": {
     "end_time": "2022-01-20T22:49:46.021738Z",
     "start_time": "2022-01-20T22:49:45.889066Z"
    }
   },
   "outputs": [],
   "source": [
    "from omdb import OMDBClient"
   ]
  },
  {
   "cell_type": "code",
   "execution_count": 7,
   "metadata": {
    "ExecuteTime": {
     "end_time": "2022-01-20T22:52:11.374642Z",
     "start_time": "2022-01-20T22:52:11.361655Z"
    }
   },
   "outputs": [],
   "source": [
    "load_dotenv('credentials/key_omdb.env')\n",
    "chave_ombdb = os.getenv('OMDB_KEY')\n",
    "client = OMDBClient(apikey=chave_ombdb)"
   ]
  },
  {
   "cell_type": "code",
   "execution_count": 24,
   "metadata": {
    "ExecuteTime": {
     "end_time": "2022-01-20T23:08:41.144795Z",
     "start_time": "2022-01-20T23:08:41.135820Z"
    }
   },
   "outputs": [
    {
     "name": "stdout",
     "output_type": "stream",
     "text": [
      "dfe4d974\n"
     ]
    }
   ],
   "source": [
    "print(os.getenv('OMDB_KEY'))"
   ]
  },
  {
   "cell_type": "code",
   "execution_count": 14,
   "metadata": {
    "ExecuteTime": {
     "end_time": "2022-01-20T23:01:02.042157Z",
     "start_time": "2022-01-20T23:01:01.674817Z"
    }
   },
   "outputs": [],
   "source": [
    "results = client.title('Alien')"
   ]
  },
  {
   "cell_type": "code",
   "execution_count": 15,
   "metadata": {
    "ExecuteTime": {
     "end_time": "2022-01-20T23:01:02.057088Z",
     "start_time": "2022-01-20T23:01:02.052104Z"
    }
   },
   "outputs": [
    {
     "data": {
      "text/plain": [
       "{'title': 'Alien',\n",
       " 'year': '1979',\n",
       " 'rated': 'R',\n",
       " 'released': '22 Jun 1979',\n",
       " 'runtime': '117 min',\n",
       " 'genre': 'Horror, Sci-Fi',\n",
       " 'director': 'Ridley Scott',\n",
       " 'writer': \"Dan O'Bannon, Ronald Shusett\",\n",
       " 'actors': 'Sigourney Weaver, Tom Skerritt, John Hurt',\n",
       " 'plot': 'After a space merchant vessel receives an unknown transmission as a distress call, one of the crew is attacked by a mysterious life form and they soon realize that its life cycle has merely begun.',\n",
       " 'language': 'English',\n",
       " 'country': 'United Kingdom, United States',\n",
       " 'awards': 'Won 1 Oscar. 18 wins & 22 nominations total',\n",
       " 'poster': 'https://m.media-amazon.com/images/M/MV5BMmQ2MmU3NzktZjAxOC00ZDZhLTk4YzEtMDMyMzcxY2IwMDAyXkEyXkFqcGdeQXVyNzkwMjQ5NzM@._V1_SX300.jpg',\n",
       " 'ratings': [{'source': 'Internet Movie Database', 'value': '8.4/10'},\n",
       "  {'source': 'Rotten Tomatoes', 'value': '98%'},\n",
       "  {'source': 'Metacritic', 'value': '89/100'}],\n",
       " 'metascore': '89',\n",
       " 'imdb_rating': '8.4',\n",
       " 'imdb_votes': '835,336',\n",
       " 'imdb_id': 'tt0078748',\n",
       " 'type': 'movie',\n",
       " 'dvd': '01 Jun 1999',\n",
       " 'box_office': '$81,900,459',\n",
       " 'production': 'N/A',\n",
       " 'website': 'N/A',\n",
       " 'response': 'True'}"
      ]
     },
     "execution_count": 15,
     "metadata": {},
     "output_type": "execute_result"
    }
   ],
   "source": [
    "results"
   ]
  },
  {
   "cell_type": "code",
   "execution_count": 16,
   "metadata": {
    "ExecuteTime": {
     "end_time": "2022-01-20T23:01:05.064003Z",
     "start_time": "2022-01-20T23:01:05.047074Z"
    }
   },
   "outputs": [
    {
     "data": {
      "text/plain": [
       "'https://m.media-amazon.com/images/M/MV5BMmQ2MmU3NzktZjAxOC00ZDZhLTk4YzEtMDMyMzcxY2IwMDAyXkEyXkFqcGdeQXVyNzkwMjQ5NzM@._V1_SX300.jpg'"
      ]
     },
     "execution_count": 16,
     "metadata": {},
     "output_type": "execute_result"
    }
   ],
   "source": [
    "results['poster']"
   ]
  },
  {
   "cell_type": "code",
   "execution_count": 17,
   "metadata": {
    "ExecuteTime": {
     "end_time": "2022-01-20T23:01:05.870812Z",
     "start_time": "2022-01-20T23:01:05.790029Z"
    }
   },
   "outputs": [
    {
     "data": {
      "image/png": "[encoded data removed]",
      "text/plain": [
       "<PIL.JpegImagePlugin.JpegImageFile image mode=RGB size=300x442 at 0x1E9FA69A520>"
      ]
     },
     "execution_count": 17,
     "metadata": {},
     "output_type": "execute_result"
    }
   ],
   "source": [
    "import requests\n",
    "from PIL import Image\n",
    "\n",
    "response = requests.get(results['poster'], stream=True)\n",
    "Image.open(response.raw)"
   ]
  },
  {
   "cell_type": "code",
   "execution_count": 18,
   "metadata": {
    "ExecuteTime": {
     "end_time": "2022-01-20T23:02:33.435431Z",
     "start_time": "2022-01-20T23:02:33.424458Z"
    }
   },
   "outputs": [],
   "source": [
    "tb_top_movies = pd.read_csv('data/top_gross_ltv.csv', sep = \";\", decimal = \",\")"
   ]
  },
  {
   "cell_type": "code",
   "execution_count": 19,
   "metadata": {
    "ExecuteTime": {
     "end_time": "2022-01-20T23:02:36.268885Z",
     "start_time": "2022-01-20T23:02:36.248955Z"
    }
   },
   "outputs": [
    {
     "data": {
      "text/html": [
       "<div>\n",
       "<style scoped>\n",
       "    .dataframe tbody tr th:only-of-type {\n",
       "        vertical-align: middle;\n",
       "    }\n",
       "\n",
       "    .dataframe tbody tr th {\n",
       "        vertical-align: top;\n",
       "    }\n",
       "\n",
       "    .dataframe thead th {\n",
       "        text-align: right;\n",
       "    }\n",
       "</style>\n",
       "<table border=\"1\" class=\"dataframe\">\n",
       "  <thead>\n",
       "    <tr style=\"text-align: right;\">\n",
       "      <th></th>\n",
       "      <th>movie_name</th>\n",
       "      <th>adj_gross_ltv</th>\n",
       "    </tr>\n",
       "  </thead>\n",
       "  <tbody>\n",
       "    <tr>\n",
       "      <th>0</th>\n",
       "      <td>Gone with the Wind</td>\n",
       "      <td>1850581586</td>\n",
       "    </tr>\n",
       "    <tr>\n",
       "      <th>1</th>\n",
       "      <td>Star Wars: Episode IV - A New Hope</td>\n",
       "      <td>1629496559</td>\n",
       "    </tr>\n",
       "    <tr>\n",
       "      <th>2</th>\n",
       "      <td>The Sound of Music</td>\n",
       "      <td>1303502105</td>\n",
       "    </tr>\n",
       "    <tr>\n",
       "      <th>3</th>\n",
       "      <td>E.T. the Extra-Terrestrial</td>\n",
       "      <td>1297730421</td>\n",
       "    </tr>\n",
       "    <tr>\n",
       "      <th>4</th>\n",
       "      <td>Titanic</td>\n",
       "      <td>1240054754</td>\n",
       "    </tr>\n",
       "    <tr>\n",
       "      <th>...</th>\n",
       "      <td>...</td>\n",
       "      <td>...</td>\n",
       "    </tr>\n",
       "    <tr>\n",
       "      <th>195</th>\n",
       "      <td>Patton</td>\n",
       "      <td>364456792</td>\n",
       "    </tr>\n",
       "    <tr>\n",
       "      <th>196</th>\n",
       "      <td>Fatal Attraction</td>\n",
       "      <td>363012270</td>\n",
       "    </tr>\n",
       "    <tr>\n",
       "      <th>197</th>\n",
       "      <td>Iron Man 2</td>\n",
       "      <td>362898831</td>\n",
       "    </tr>\n",
       "    <tr>\n",
       "      <th>198</th>\n",
       "      <td>Zootopia</td>\n",
       "      <td>362329805</td>\n",
       "    </tr>\n",
       "    <tr>\n",
       "      <th>199</th>\n",
       "      <td>Liar Liar</td>\n",
       "      <td>361569578</td>\n",
       "    </tr>\n",
       "  </tbody>\n",
       "</table>\n",
       "<p>200 rows × 2 columns</p>\n",
       "</div>"
      ],
      "text/plain": [
       "                             movie_name  adj_gross_ltv\n",
       "0                    Gone with the Wind     1850581586\n",
       "1    Star Wars: Episode IV - A New Hope     1629496559\n",
       "2                    The Sound of Music     1303502105\n",
       "3            E.T. the Extra-Terrestrial     1297730421\n",
       "4                               Titanic     1240054754\n",
       "..                                  ...            ...\n",
       "195                              Patton      364456792\n",
       "196                    Fatal Attraction      363012270\n",
       "197                          Iron Man 2      362898831\n",
       "198                            Zootopia      362329805\n",
       "199                           Liar Liar      361569578\n",
       "\n",
       "[200 rows x 2 columns]"
      ]
     },
     "execution_count": 19,
     "metadata": {},
     "output_type": "execute_result"
    }
   ],
   "source": [
    "tb_top_movies"
   ]
  },
  {
   "cell_type": "code",
   "execution_count": 20,
   "metadata": {
    "ExecuteTime": {
     "end_time": "2022-01-20T23:03:03.824622Z",
     "start_time": "2022-01-20T23:03:03.805674Z"
    }
   },
   "outputs": [
    {
     "name": "stdout",
     "output_type": "stream",
     "text": [
      "200\n",
      "['Gone with the Wind', 'Star Wars: Episode IV - A New Hope', 'The Sound of Music', 'E.T. the Extra-Terrestrial', 'Titanic']\n"
     ]
    }
   ],
   "source": [
    "top_movies = list(tb_top_movies['movie_name'])\n",
    "print(len(top_movies))\n",
    "print(top_movies[0:5])"
   ]
  },
  {
   "cell_type": "code",
   "execution_count": 21,
   "metadata": {
    "ExecuteTime": {
     "end_time": "2022-01-20T23:03:23.041050Z",
     "start_time": "2022-01-20T23:03:23.029083Z"
    }
   },
   "outputs": [
    {
     "data": {
      "text/plain": [
       "'Gone with the Wind'"
      ]
     },
     "execution_count": 21,
     "metadata": {},
     "output_type": "execute_result"
    }
   ],
   "source": [
    "top_movies[0]"
   ]
  },
  {
   "cell_type": "code",
   "execution_count": 22,
   "metadata": {
    "ExecuteTime": {
     "end_time": "2022-01-20T23:03:35.422953Z",
     "start_time": "2022-01-20T23:03:35.378073Z"
    }
   },
   "outputs": [],
   "source": [
    "results = client.title(top_movies[0])"
   ]
  },
  {
   "cell_type": "code",
   "execution_count": 23,
   "metadata": {
    "ExecuteTime": {
     "end_time": "2022-01-20T23:03:41.163864Z",
     "start_time": "2022-01-20T23:03:41.144924Z"
    }
   },
   "outputs": [
    {
     "data": {
      "text/plain": [
       "{'title': 'Gone with the Wind',\n",
       " 'year': '1939',\n",
       " 'rated': 'Passed',\n",
       " 'released': '17 Jan 1940',\n",
       " 'runtime': '238 min',\n",
       " 'genre': 'Drama, History, Romance',\n",
       " 'director': 'Victor Fleming, George Cukor, Sam Wood',\n",
       " 'writer': 'Margaret Mitchell, Sidney Howard, Oliver H.P. Garrett',\n",
       " 'actors': 'Clark Gable, Vivien Leigh, Thomas Mitchell',\n",
       " 'plot': 'The manipulative daughter of a Georgia plantation owner conducts a turbulent romance with a roguish profiteer during the American Civil War and Reconstruction periods.',\n",
       " 'language': 'English',\n",
       " 'country': 'United States',\n",
       " 'awards': 'Won 10 Oscars. 21 wins & 12 nominations total',\n",
       " 'poster': 'https://m.media-amazon.com/images/M/MV5BYjUyZWZkM2UtMzYxYy00ZmQ3LWFmZTQtOGE2YjBkNjA3YWZlXkEyXkFqcGdeQXVyNzkwMjQ5NzM@._V1_SX300.jpg',\n",
       " 'ratings': [{'source': 'Internet Movie Database', 'value': '8.1/10'},\n",
       "  {'source': 'Rotten Tomatoes', 'value': '90%'},\n",
       "  {'source': 'Metacritic', 'value': '97/100'}],\n",
       " 'metascore': '97',\n",
       " 'imdb_rating': '8.1',\n",
       " 'imdb_votes': '304,365',\n",
       " 'imdb_id': 'tt0031381',\n",
       " 'type': 'movie',\n",
       " 'dvd': '17 Nov 2009',\n",
       " 'box_office': '$200,852,579',\n",
       " 'production': 'N/A',\n",
       " 'website': 'N/A',\n",
       " 'response': 'True'}"
      ]
     },
     "execution_count": 23,
     "metadata": {},
     "output_type": "execute_result"
    }
   ],
   "source": [
    "results"
   ]
  },
  {
   "cell_type": "code",
   "execution_count": 35,
   "metadata": {
    "ExecuteTime": {
     "end_time": "2022-01-20T23:34:40.640354Z",
     "start_time": "2022-01-20T23:34:35.237565Z"
    }
   },
   "outputs": [],
   "source": [
    "# Criar um DataFrame com os dados abaixo para os 100 maiores:\n",
    "# - NOME DO FILME (STRING)\n",
    "# - ANO DE LANÇAMENTO (INTEGER)\n",
    "# - NOTA NO IMDB (FLOAT)\n",
    "# - NOTA NO ROTTEN TOMATOES (FLOAT)\n",
    "# - DURAÇÃO EM MINUTOS (INTEGER)\n",
    "import re\n",
    "nomes = []\n",
    "anos = []\n",
    "notas = []\n",
    "notas_rt = []\n",
    "durs = []\n",
    "for nome_filme in top_movies:\n",
    "    nome = nome_filme\n",
    "    resultado_api = client.title(nome_filme)\n",
    "    ano_de_lanc = int(resultado_api['year'])\n",
    "    nota_imdb = float(resultado_api['imdb_rating'])\n",
    "    \n",
    "    nota_rt = -1\n",
    "    for rating in resultado_api['ratings']:\n",
    "        if rating['source'] == 'Rotten Tomatoes':\n",
    "            nota_rt = float(re.sub('%', '', rating['value']))\n",
    "\n",
    "    dur_filme = re.findall('[0-9]+', resultado_api['runtime'])[0]\n",
    "    nomes.append(nome)\n",
    "    anos.append(ano_de_lanc)\n",
    "    notas.append(nota_imdb)\n",
    "    notas_rt.append(nota_rt)\n",
    "    durs.append(dur_filme)\n",
    "\n",
    "df = pd.DataFrame({'nomes' : nomes, 'anos' : anos, 'imdb' : notas, 'rt' : notas_rt, 'duracao' : durs})"
   ]
  },
  {
   "cell_type": "code",
   "execution_count": 36,
   "metadata": {
    "ExecuteTime": {
     "end_time": "2022-01-20T23:34:43.290352Z",
     "start_time": "2022-01-20T23:34:43.256443Z"
    }
   },
   "outputs": [
    {
     "data": {
      "text/html": [
       "<div>\n",
       "<style scoped>\n",
       "    .dataframe tbody tr th:only-of-type {\n",
       "        vertical-align: middle;\n",
       "    }\n",
       "\n",
       "    .dataframe tbody tr th {\n",
       "        vertical-align: top;\n",
       "    }\n",
       "\n",
       "    .dataframe thead th {\n",
       "        text-align: right;\n",
       "    }\n",
       "</style>\n",
       "<table border=\"1\" class=\"dataframe\">\n",
       "  <thead>\n",
       "    <tr style=\"text-align: right;\">\n",
       "      <th></th>\n",
       "      <th>anos</th>\n",
       "      <th>imdb</th>\n",
       "      <th>rt</th>\n",
       "    </tr>\n",
       "  </thead>\n",
       "  <tbody>\n",
       "    <tr>\n",
       "      <th>count</th>\n",
       "      <td>200.000000</td>\n",
       "      <td>200.000000</td>\n",
       "      <td>200.000000</td>\n",
       "    </tr>\n",
       "    <tr>\n",
       "      <th>mean</th>\n",
       "      <td>1990.110000</td>\n",
       "      <td>7.450500</td>\n",
       "      <td>79.185000</td>\n",
       "    </tr>\n",
       "    <tr>\n",
       "      <th>std</th>\n",
       "      <td>21.868219</td>\n",
       "      <td>0.711993</td>\n",
       "      <td>19.992732</td>\n",
       "    </tr>\n",
       "    <tr>\n",
       "      <th>min</th>\n",
       "      <td>1921.000000</td>\n",
       "      <td>5.400000</td>\n",
       "      <td>-1.000000</td>\n",
       "    </tr>\n",
       "    <tr>\n",
       "      <th>25%</th>\n",
       "      <td>1974.000000</td>\n",
       "      <td>7.000000</td>\n",
       "      <td>72.000000</td>\n",
       "    </tr>\n",
       "    <tr>\n",
       "      <th>50%</th>\n",
       "      <td>1995.000000</td>\n",
       "      <td>7.400000</td>\n",
       "      <td>85.500000</td>\n",
       "    </tr>\n",
       "    <tr>\n",
       "      <th>75%</th>\n",
       "      <td>2008.000000</td>\n",
       "      <td>8.000000</td>\n",
       "      <td>93.000000</td>\n",
       "    </tr>\n",
       "    <tr>\n",
       "      <th>max</th>\n",
       "      <td>2019.000000</td>\n",
       "      <td>9.200000</td>\n",
       "      <td>100.000000</td>\n",
       "    </tr>\n",
       "  </tbody>\n",
       "</table>\n",
       "</div>"
      ],
      "text/plain": [
       "              anos        imdb          rt\n",
       "count   200.000000  200.000000  200.000000\n",
       "mean   1990.110000    7.450500   79.185000\n",
       "std      21.868219    0.711993   19.992732\n",
       "min    1921.000000    5.400000   -1.000000\n",
       "25%    1974.000000    7.000000   72.000000\n",
       "50%    1995.000000    7.400000   85.500000\n",
       "75%    2008.000000    8.000000   93.000000\n",
       "max    2019.000000    9.200000  100.000000"
      ]
     },
     "execution_count": 36,
     "metadata": {},
     "output_type": "execute_result"
    }
   ],
   "source": [
    "df.describe()"
   ]
  },
  {
   "cell_type": "code",
   "execution_count": 37,
   "metadata": {
    "ExecuteTime": {
     "end_time": "2022-01-20T23:40:59.265635Z",
     "start_time": "2022-01-20T23:40:59.223719Z"
    }
   },
   "outputs": [
    {
     "data": {
      "text/plain": [
       "{'source': 'Internet Movie Database', 'value': '8.1/10'}"
      ]
     },
     "execution_count": 37,
     "metadata": {},
     "output_type": "execute_result"
    }
   ],
   "source": [
    "resultado_api = client.title(top_movies[0])\n",
    "resultado_api['ratings'][0]"
   ]
  },
  {
   "cell_type": "markdown",
   "metadata": {},
   "source": [
    "## Spotify"
   ]
  },
  {
   "cell_type": "markdown",
   "metadata": {},
   "source": [
    "Install spotipy: `pip install spotipy`"
   ]
  },
  {
   "cell_type": "markdown",
   "metadata": {},
   "source": [
    "Read its documentation: https://spotipy.readthedocs.io/en/2.17.1/"
   ]
  },
  {
   "cell_type": "markdown",
   "metadata": {
    "ExecuteTime": {
     "end_time": "2020-09-04T21:23:27.745083Z",
     "start_time": "2020-09-04T21:23:27.741113Z"
    }
   },
   "source": [
    "If you read the documentation, it tells you to get your `access key` at https://developer.spotify.com/documentation/web-api/. You can view the `quick-start` tab or follow the guidelines here.\n",
    "\n",
    "- Click on `Dashboard`\n",
    "- Log in to your Spotify account\n",
    "- Create an APP\n",
    "- Collect your `Client ID` and `Client Secret` (click on SHOW CLIENT SECRET)\n",
    "- Click on `Edit Settings` on your app's dashboard\n",
    "    - You have to insert a `redirect_uri` (I've put: https://www.google.com. You can put anything.)\n",
    "- Find your username ID in your profile settings.\n",
    "\n",
    "\n",
    "- Code Samples: https://github.com/plamere/spotipy/tree/master/examples"
   ]
  },
  {
   "cell_type": "code",
   "execution_count": 74,
   "metadata": {
    "ExecuteTime": {
     "end_time": "2022-01-21T00:39:17.736375Z",
     "start_time": "2022-01-21T00:39:14.533588Z"
    }
   },
   "outputs": [
    {
     "name": "stdout",
     "output_type": "stream",
     "text": [
      "Requirement already satisfied: spotipy in c:\\programdata\\anaconda3\\lib\\site-packages (2.19.0)\n",
      "Requirement already satisfied: urllib3>=1.26.0 in c:\\programdata\\anaconda3\\lib\\site-packages (from spotipy) (1.26.4)\n",
      "Requirement already satisfied: six>=1.15.0 in c:\\programdata\\anaconda3\\lib\\site-packages (from spotipy) (1.15.0)\n",
      "Requirement already satisfied: requests>=2.25.0 in c:\\programdata\\anaconda3\\lib\\site-packages (from spotipy) (2.25.1)\n",
      "Requirement already satisfied: certifi>=2017.4.17 in c:\\programdata\\anaconda3\\lib\\site-packages (from requests>=2.25.0->spotipy) (2020.12.5)\n",
      "Requirement already satisfied: idna<3,>=2.5 in c:\\programdata\\anaconda3\\lib\\site-packages (from requests>=2.25.0->spotipy) (2.10)\n",
      "Requirement already satisfied: chardet<5,>=3.0.2 in c:\\programdata\\anaconda3\\lib\\site-packages (from requests>=2.25.0->spotipy) (4.0.0)\n",
      "Note: you may need to restart the kernel to use updated packages.\n"
     ]
    }
   ],
   "source": [
    "pip install spotipy"
   ]
  },
  {
   "cell_type": "code",
   "execution_count": 38,
   "metadata": {
    "ExecuteTime": {
     "end_time": "2022-01-20T23:47:10.995927Z",
     "start_time": "2022-01-20T23:47:10.985950Z"
    }
   },
   "outputs": [
    {
     "data": {
      "text/plain": [
       "True"
      ]
     },
     "execution_count": 38,
     "metadata": {},
     "output_type": "execute_result"
    }
   ],
   "source": [
    "load_dotenv('credentials/key_spotify.env')"
   ]
  },
  {
   "cell_type": "code",
   "execution_count": 73,
   "metadata": {
    "ExecuteTime": {
     "end_time": "2022-01-21T00:38:04.145751Z",
     "start_time": "2022-01-21T00:38:04.130790Z"
    }
   },
   "outputs": [
    {
     "name": "stdout",
     "output_type": "stream",
     "text": [
      "cd9cd1ff2710474993b146e14b5e2612\n"
     ]
    }
   ],
   "source": [
    "print(os.getenv('CLIENT_ID'))"
   ]
  },
  {
   "cell_type": "code",
   "execution_count": 40,
   "metadata": {
    "ExecuteTime": {
     "end_time": "2022-01-20T23:56:27.179469Z",
     "start_time": "2022-01-20T23:56:26.949087Z"
    }
   },
   "outputs": [],
   "source": [
    "from spotipy import util, oauth2, Spotify"
   ]
  },
  {
   "cell_type": "markdown",
   "metadata": {},
   "source": [
    "### Authentication "
   ]
  },
  {
   "cell_type": "code",
   "execution_count": 108,
   "metadata": {
    "ExecuteTime": {
     "end_time": "2022-01-21T01:17:07.547302Z",
     "start_time": "2022-01-21T01:17:07.543313Z"
    }
   },
   "outputs": [],
   "source": [
    "gerente_aute = oauth2.SpotifyClientCredentials(client_id=os.getenv('CLIENT_ID'), client_secret=os.getenv('CLIENT_SECRET'))\n",
    "client = Spotify(auth_manager = gerente_aute)"
   ]
  },
  {
   "cell_type": "code",
   "execution_count": null,
   "metadata": {},
   "outputs": [],
   "source": [
    "# client_id=os.getenv('CLIENT_ID'), client_secret=os.getenv('CLIENT_SECRET')\n",
    "# oauth2.SpotifyClientCredentials(client_id, client_secret)\n",
    "# Spotify(auth_manager)"
   ]
  },
  {
   "cell_type": "code",
   "execution_count": 42,
   "metadata": {
    "ExecuteTime": {
     "end_time": "2022-01-20T23:56:32.827218Z",
     "start_time": "2022-01-20T23:56:32.815251Z"
    }
   },
   "outputs": [
    {
     "data": {
      "text/plain": [
       "<spotipy.client.Spotify at 0x1e9fa891bb0>"
      ]
     },
     "execution_count": 42,
     "metadata": {},
     "output_type": "execute_result"
    }
   ],
   "source": [
    "client"
   ]
  },
  {
   "cell_type": "markdown",
   "metadata": {},
   "source": [
    "### Get Audio Features"
   ]
  },
  {
   "cell_type": "code",
   "execution_count": 44,
   "metadata": {
    "ExecuteTime": {
     "end_time": "2022-01-20T23:58:07.944731Z",
     "start_time": "2022-01-20T23:58:07.746167Z"
    }
   },
   "outputs": [
    {
     "data": {
      "text/plain": [
       "[{'danceability': 0.762,\n",
       "  'energy': 0.651,\n",
       "  'key': 0,\n",
       "  'loudness': -13.34,\n",
       "  'mode': 1,\n",
       "  'speechiness': 0.0655,\n",
       "  'acousticness': 0.00198,\n",
       "  'instrumentalness': 0.856,\n",
       "  'liveness': 0.111,\n",
       "  'valence': 0.941,\n",
       "  'tempo': 130.395,\n",
       "  'type': 'audio_features',\n",
       "  'id': '6hHc7Pks7wtBIW8Z6A0iFq',\n",
       "  'uri': 'spotify:track:6hHc7Pks7wtBIW8Z6A0iFq',\n",
       "  'track_href': 'https://api.spotify.com/v1/tracks/6hHc7Pks7wtBIW8Z6A0iFq',\n",
       "  'analysis_url': 'https://api.spotify.com/v1/audio-analysis/6hHc7Pks7wtBIW8Z6A0iFq',\n",
       "  'duration_ms': 449160,\n",
       "  'time_signature': 4}]"
      ]
     },
     "execution_count": 44,
     "metadata": {},
     "output_type": "execute_result"
    }
   ],
   "source": [
    "client.audio_features('6hHc7Pks7wtBIWb8Z6A0iFq')"
   ]
  },
  {
   "cell_type": "code",
   "execution_count": 46,
   "metadata": {
    "ExecuteTime": {
     "end_time": "2022-01-21T00:01:50.761611Z",
     "start_time": "2022-01-21T00:01:50.567102Z"
    }
   },
   "outputs": [
    {
     "data": {
      "text/plain": [
       "[{'danceability': 0.357,\n",
       "  'energy': 0.565,\n",
       "  'key': 8,\n",
       "  'loudness': -9.915,\n",
       "  'mode': 0,\n",
       "  'speechiness': 0.0419,\n",
       "  'acousticness': 0.216,\n",
       "  'instrumentalness': 0.835,\n",
       "  'liveness': 0.98,\n",
       "  'valence': 0.218,\n",
       "  'tempo': 158.032,\n",
       "  'type': 'audio_features',\n",
       "  'id': '4vy2YnIiU37OB7BonhYWgZ',\n",
       "  'uri': 'spotify:track:4vy2YnIiU37OB7BonhYWgZ',\n",
       "  'track_href': 'https://api.spotify.com/v1/tracks/4vy2YnIiU37OB7BonhYWgZ',\n",
       "  'analysis_url': 'https://api.spotify.com/v1/audio-analysis/4vy2YnIiU37OB7BonhYWgZ',\n",
       "  'duration_ms': 758360,\n",
       "  'time_signature': 4},\n",
       " {'danceability': 0.624,\n",
       "  'energy': 0.597,\n",
       "  'key': 0,\n",
       "  'loudness': -10.542,\n",
       "  'mode': 1,\n",
       "  'speechiness': 0.049,\n",
       "  'acousticness': 0.0992,\n",
       "  'instrumentalness': 0.778,\n",
       "  'liveness': 0.108,\n",
       "  'valence': 0.084,\n",
       "  'tempo': 119.964,\n",
       "  'type': 'audio_features',\n",
       "  'id': '5P9qFmIiMqE6r2UfwVIdIZ',\n",
       "  'uri': 'spotify:track:5P9qFmIiMqE6r2UfwVIdIZ',\n",
       "  'track_href': 'https://api.spotify.com/v1/tracks/5P9qFmIiMqE6r2UfwVIdIZ',\n",
       "  'analysis_url': 'https://api.spotify.com/v1/audio-analysis/5P9qFmIiMqE6r2UfwVIdIZ',\n",
       "  'duration_ms': 538320,\n",
       "  'time_signature': 4},\n",
       " {'danceability': 0.377,\n",
       "  'energy': 0.402,\n",
       "  'key': 5,\n",
       "  'loudness': -8.564,\n",
       "  'mode': 1,\n",
       "  'speechiness': 0.0295,\n",
       "  'acousticness': 0.536,\n",
       "  'instrumentalness': 0.786,\n",
       "  'liveness': 0.117,\n",
       "  'valence': 0.0415,\n",
       "  'tempo': 159.819,\n",
       "  'type': 'audio_features',\n",
       "  'id': '7oGwKNBX90dXL53ZbhPxJk',\n",
       "  'uri': 'spotify:track:7oGwKNBX90dXL53ZbhPxJk',\n",
       "  'track_href': 'https://api.spotify.com/v1/tracks/7oGwKNBX90dXL53ZbhPxJk',\n",
       "  'analysis_url': 'https://api.spotify.com/v1/audio-analysis/7oGwKNBX90dXL53ZbhPxJk',\n",
       "  'duration_ms': 257972,\n",
       "  'time_signature': 4},\n",
       " {'danceability': 0.657,\n",
       "  'energy': 0.693,\n",
       "  'key': 0,\n",
       "  'loudness': -7.149,\n",
       "  'mode': 0,\n",
       "  'speechiness': 0.065,\n",
       "  'acousticness': 0.527,\n",
       "  'instrumentalness': 0.000129,\n",
       "  'liveness': 0.326,\n",
       "  'valence': 0.75,\n",
       "  'tempo': 93.483,\n",
       "  'type': 'audio_features',\n",
       "  'id': '3u4jdEDB2WmOBIxxpzq44f',\n",
       "  'uri': 'spotify:track:3u4jdEDB2WmOBIxxpzq44f',\n",
       "  'track_href': 'https://api.spotify.com/v1/tracks/3u4jdEDB2WmOBIxxpzq44f',\n",
       "  'analysis_url': 'https://api.spotify.com/v1/audio-analysis/3u4jdEDB2WmOBIxxpzq44f',\n",
       "  'duration_ms': 262653,\n",
       "  'time_signature': 4}]"
      ]
     },
     "execution_count": 46,
     "metadata": {},
     "output_type": "execute_result"
    }
   ],
   "source": [
    "client.audio_features(['https://open.spotify.com/track/4vy2YnIiU37OB7BonhYWgZ?si=c9f97bf9a6494803',\n",
    "                                    'https://open.spotify.com/track/5P9qFmIiMqE6r2UfwVIdIZ?si=4b95ccef589d4924',\n",
    "                                    'https://open.spotify.com/track/7oGwKNBX90dXL53ZbhPxJk?si=8bb44916119a413a',\n",
    "                                    'https://open.spotify.com/track/3u4jdEDB2WmOBIxxpzq44f?si=471e5e610d8646f4'])"
   ]
  },
  {
   "cell_type": "code",
   "execution_count": 47,
   "metadata": {
    "ExecuteTime": {
     "end_time": "2022-01-21T00:23:42.918210Z",
     "start_time": "2022-01-21T00:23:42.673840Z"
    }
   },
   "outputs": [
    {
     "data": {
      "text/html": [
       "<div>\n",
       "<style scoped>\n",
       "    .dataframe tbody tr th:only-of-type {\n",
       "        vertical-align: middle;\n",
       "    }\n",
       "\n",
       "    .dataframe tbody tr th {\n",
       "        vertical-align: top;\n",
       "    }\n",
       "\n",
       "    .dataframe thead th {\n",
       "        text-align: right;\n",
       "    }\n",
       "</style>\n",
       "<table border=\"1\" class=\"dataframe\">\n",
       "  <thead>\n",
       "    <tr style=\"text-align: right;\">\n",
       "      <th></th>\n",
       "      <th>danceability</th>\n",
       "      <th>energy</th>\n",
       "      <th>key</th>\n",
       "      <th>loudness</th>\n",
       "      <th>mode</th>\n",
       "      <th>speechiness</th>\n",
       "      <th>acousticness</th>\n",
       "      <th>instrumentalness</th>\n",
       "      <th>liveness</th>\n",
       "      <th>valence</th>\n",
       "      <th>tempo</th>\n",
       "      <th>type</th>\n",
       "      <th>id</th>\n",
       "      <th>uri</th>\n",
       "      <th>track_href</th>\n",
       "      <th>analysis_url</th>\n",
       "      <th>duration_ms</th>\n",
       "      <th>time_signature</th>\n",
       "    </tr>\n",
       "  </thead>\n",
       "  <tbody>\n",
       "    <tr>\n",
       "      <th>0</th>\n",
       "      <td>0.477</td>\n",
       "      <td>0.471</td>\n",
       "      <td>6</td>\n",
       "      <td>-10.036</td>\n",
       "      <td>1</td>\n",
       "      <td>0.0277</td>\n",
       "      <td>0.193</td>\n",
       "      <td>0.000002</td>\n",
       "      <td>0.131</td>\n",
       "      <td>0.423</td>\n",
       "      <td>81.204</td>\n",
       "      <td>audio_features</td>\n",
       "      <td>1JLn8RhQzHz3qDqsChcmBl</td>\n",
       "      <td>spotify:track:1JLn8RhQzHz3qDqsChcmBl</td>\n",
       "      <td>https://api.spotify.com/v1/tracks/1JLn8RhQzHz3...</td>\n",
       "      <td>https://api.spotify.com/v1/audio-analysis/1JLn...</td>\n",
       "      <td>304787</td>\n",
       "      <td>4</td>\n",
       "    </tr>\n",
       "    <tr>\n",
       "      <th>1</th>\n",
       "      <td>0.821</td>\n",
       "      <td>0.609</td>\n",
       "      <td>6</td>\n",
       "      <td>-6.541</td>\n",
       "      <td>0</td>\n",
       "      <td>0.2680</td>\n",
       "      <td>0.378</td>\n",
       "      <td>0.000000</td>\n",
       "      <td>0.136</td>\n",
       "      <td>0.516</td>\n",
       "      <td>133.133</td>\n",
       "      <td>audio_features</td>\n",
       "      <td>0NBgyml7T0IvUNbXIkcSpH</td>\n",
       "      <td>spotify:track:0NBgyml7T0IvUNbXIkcSpH</td>\n",
       "      <td>https://api.spotify.com/v1/tracks/0NBgyml7T0Iv...</td>\n",
       "      <td>https://api.spotify.com/v1/audio-analysis/0NBg...</td>\n",
       "      <td>141770</td>\n",
       "      <td>4</td>\n",
       "    </tr>\n",
       "  </tbody>\n",
       "</table>\n",
       "</div>"
      ],
      "text/plain": [
       "   danceability  energy  key  loudness  mode  speechiness  acousticness  \\\n",
       "0         0.477   0.471    6   -10.036     1       0.0277         0.193   \n",
       "1         0.821   0.609    6    -6.541     0       0.2680         0.378   \n",
       "\n",
       "   instrumentalness  liveness  valence    tempo            type  \\\n",
       "0          0.000002     0.131    0.423   81.204  audio_features   \n",
       "1          0.000000     0.136    0.516  133.133  audio_features   \n",
       "\n",
       "                       id                                   uri  \\\n",
       "0  1JLn8RhQzHz3qDqsChcmBl  spotify:track:1JLn8RhQzHz3qDqsChcmBl   \n",
       "1  0NBgyml7T0IvUNbXIkcSpH  spotify:track:0NBgyml7T0IvUNbXIkcSpH   \n",
       "\n",
       "                                          track_href  \\\n",
       "0  https://api.spotify.com/v1/tracks/1JLn8RhQzHz3...   \n",
       "1  https://api.spotify.com/v1/tracks/0NBgyml7T0Iv...   \n",
       "\n",
       "                                        analysis_url  duration_ms  \\\n",
       "0  https://api.spotify.com/v1/audio-analysis/1JLn...       304787   \n",
       "1  https://api.spotify.com/v1/audio-analysis/0NBg...       141770   \n",
       "\n",
       "   time_signature  \n",
       "0               4  \n",
       "1               4  "
      ]
     },
     "execution_count": 47,
     "metadata": {},
     "output_type": "execute_result"
    }
   ],
   "source": [
    "pd.DataFrame(client.audio_features(['https://open.spotify.com/track/1JLn8RhQzHz3qDqsChcmBl?si=43fe62e17364459f',\n",
    "                                    'https://open.spotify.com/track/0NBgyml7T0IvUNbXIkcSpH?si=3c7fc0977264436f']))"
   ]
  },
  {
   "cell_type": "markdown",
   "metadata": {},
   "source": [
    "### Get top tracks given artist URI"
   ]
  },
  {
   "cell_type": "markdown",
   "metadata": {},
   "source": [
    "# VOLTAMOS 21H20"
   ]
  },
  {
   "cell_type": "code",
   "execution_count": 48,
   "metadata": {
    "ExecuteTime": {
     "end_time": "2022-01-21T00:26:22.722845Z",
     "start_time": "2022-01-21T00:26:22.533272Z"
    }
   },
   "outputs": [],
   "source": [
    "artist = client.artist('6FXMGgJwohJLUSr5nVlf9X')"
   ]
  },
  {
   "cell_type": "code",
   "execution_count": 49,
   "metadata": {
    "ExecuteTime": {
     "end_time": "2022-01-21T00:26:23.188038Z",
     "start_time": "2022-01-21T00:26:23.174078Z"
    }
   },
   "outputs": [
    {
     "data": {
      "text/plain": [
       "{'external_urls': {'spotify': 'https://open.spotify.com/artist/6FXMGgJwohJLUSr5nVlf9X'},\n",
       " 'followers': {'href': None, 'total': 1816552},\n",
       " 'genres': ['big beat', 'downtempo', 'electronica', 'trip hop'],\n",
       " 'href': 'https://api.spotify.com/v1/artists/6FXMGgJwohJLUSr5nVlf9X',\n",
       " 'id': '6FXMGgJwohJLUSr5nVlf9X',\n",
       " 'images': [{'height': 1335,\n",
       "   'url': 'https://i.scdn.co/image/c8bbeedb05f38ae5cb982a7daf4bf7129cca892c',\n",
       "   'width': 1000},\n",
       "  {'height': 855,\n",
       "   'url': 'https://i.scdn.co/image/52c2a824e84f4e8adf0b12418f9f8306b4b5b77a',\n",
       "   'width': 640},\n",
       "  {'height': 267,\n",
       "   'url': 'https://i.scdn.co/image/0d6b7677f8291c5158bdace8a6e027880c527c2a',\n",
       "   'width': 200},\n",
       "  {'height': 85,\n",
       "   'url': 'https://i.scdn.co/image/c055290bb6e97a589d8ca659cd452a8e9831c2c4',\n",
       "   'width': 64}],\n",
       " 'name': 'Massive Attack',\n",
       " 'popularity': 67,\n",
       " 'type': 'artist',\n",
       " 'uri': 'spotify:artist:6FXMGgJwohJLUSr5nVlf9X'}"
      ]
     },
     "execution_count": 49,
     "metadata": {},
     "output_type": "execute_result"
    }
   ],
   "source": [
    "artist"
   ]
  },
  {
   "cell_type": "code",
   "execution_count": 50,
   "metadata": {
    "ExecuteTime": {
     "end_time": "2022-01-21T00:28:01.254940Z",
     "start_time": "2022-01-21T00:28:01.038476Z"
    }
   },
   "outputs": [],
   "source": [
    "related_artists = client.artist_related_artists('6FXMGgJwohJLUSr5nVlf9X')"
   ]
  },
  {
   "cell_type": "code",
   "execution_count": 51,
   "metadata": {
    "ExecuteTime": {
     "end_time": "2022-01-21T00:28:02.516463Z",
     "start_time": "2022-01-21T00:28:02.494520Z"
    }
   },
   "outputs": [
    {
     "data": {
      "text/plain": [
       "{'artists': [{'external_urls': {'spotify': 'https://open.spotify.com/artist/6hhA8TKRNryM8FNzqCqdDO'},\n",
       "   'followers': {'href': None, 'total': 413979},\n",
       "   'genres': ['art pop', 'big beat', 'electronica', 'nu jazz', 'trip hop'],\n",
       "   'href': 'https://api.spotify.com/v1/artists/6hhA8TKRNryM8FNzqCqdDO',\n",
       "   'id': '6hhA8TKRNryM8FNzqCqdDO',\n",
       "   'images': [{'height': 640,\n",
       "     'url': 'https://i.scdn.co/image/ab6761610000e5ebe9766b4ae86d12fec7d51379',\n",
       "     'width': 640},\n",
       "    {'height': 320,\n",
       "     'url': 'https://i.scdn.co/image/ab67616100005174e9766b4ae86d12fec7d51379',\n",
       "     'width': 320},\n",
       "    {'height': 160,\n",
       "     'url': 'https://i.scdn.co/image/ab6761610000f178e9766b4ae86d12fec7d51379',\n",
       "     'width': 160}],\n",
       "   'name': 'Tricky',\n",
       "   'popularity': 57,\n",
       "   'type': 'artist',\n",
       "   'uri': 'spotify:artist:6hhA8TKRNryM8FNzqCqdDO'},\n",
       "  {'external_urls': {'spotify': 'https://open.spotify.com/artist/6liAMWkVf5LH7YR9yfFy1Y'},\n",
       "   'followers': {'href': None, 'total': 1536148},\n",
       "   'genres': ['electronica', 'laboratorio', 'trip hop'],\n",
       "   'href': 'https://api.spotify.com/v1/artists/6liAMWkVf5LH7YR9yfFy1Y',\n",
       "   'id': '6liAMWkVf5LH7YR9yfFy1Y',\n",
       "   'images': [{'height': 680,\n",
       "     'url': 'https://i.scdn.co/image/05d3721739aee511a898081ab140daa7890a0120',\n",
       "     'width': 1000},\n",
       "    {'height': 435,\n",
       "     'url': 'https://i.scdn.co/image/27802710b01453435de93d71bab2c9988a841ace',\n",
       "     'width': 640},\n",
       "    {'height': 136,\n",
       "     'url': 'https://i.scdn.co/image/333ac38e3c8ab5fcdc238cc46535a4abb802eccc',\n",
       "     'width': 200},\n",
       "    {'height': 44,\n",
       "     'url': 'https://i.scdn.co/image/10052054c06626f6a900e687b20886e462f75568',\n",
       "     'width': 64}],\n",
       "   'name': 'Portishead',\n",
       "   'popularity': 64,\n",
       "   'type': 'artist',\n",
       "   'uri': 'spotify:artist:6liAMWkVf5LH7YR9yfFy1Y'},\n",
       "  {'external_urls': {'spotify': 'https://open.spotify.com/artist/08YvZ2qzFrDSITfHLbPKMP'},\n",
       "   'followers': {'href': None, 'total': 209801},\n",
       "   'genres': ['art pop', 'electronica', 'nu jazz', 'trip hop'],\n",
       "   'href': 'https://api.spotify.com/v1/artists/08YvZ2qzFrDSITfHLbPKMP',\n",
       "   'id': '08YvZ2qzFrDSITfHLbPKMP',\n",
       "   'images': [{'height': 640,\n",
       "     'url': 'https://i.scdn.co/image/ab6761610000e5eb7212f5c9b495683f5a12dd20',\n",
       "     'width': 640},\n",
       "    {'height': 320,\n",
       "     'url': 'https://i.scdn.co/image/ab676161000051747212f5c9b495683f5a12dd20',\n",
       "     'width': 320},\n",
       "    {'height': 160,\n",
       "     'url': 'https://i.scdn.co/image/ab6761610000f1787212f5c9b495683f5a12dd20',\n",
       "     'width': 160}],\n",
       "   'name': 'Lamb',\n",
       "   'popularity': 49,\n",
       "   'type': 'artist',\n",
       "   'uri': 'spotify:artist:08YvZ2qzFrDSITfHLbPKMP'},\n",
       "  {'external_urls': {'spotify': 'https://open.spotify.com/artist/6bWxFw65IEJzBYjx3SxUXd'},\n",
       "   'followers': {'href': None, 'total': 695565},\n",
       "   'genres': ['big beat', 'downtempo', 'electronica', 'nu jazz', 'trip hop'],\n",
       "   'href': 'https://api.spotify.com/v1/artists/6bWxFw65IEJzBYjx3SxUXd',\n",
       "   'id': '6bWxFw65IEJzBYjx3SxUXd',\n",
       "   'images': [{'height': 640,\n",
       "     'url': 'https://i.scdn.co/image/ab6761610000e5eb36946a718b9ab08ca42b43f6',\n",
       "     'width': 640},\n",
       "    {'height': 320,\n",
       "     'url': 'https://i.scdn.co/image/ab6761610000517436946a718b9ab08ca42b43f6',\n",
       "     'width': 320},\n",
       "    {'height': 160,\n",
       "     'url': 'https://i.scdn.co/image/ab6761610000f17836946a718b9ab08ca42b43f6',\n",
       "     'width': 160}],\n",
       "   'name': 'Morcheeba',\n",
       "   'popularity': 62,\n",
       "   'type': 'artist',\n",
       "   'uri': 'spotify:artist:6bWxFw65IEJzBYjx3SxUXd'},\n",
       "  {'external_urls': {'spotify': 'https://open.spotify.com/artist/2nszamLjZFgu3Yx77mKxuC'},\n",
       "   'followers': {'href': None, 'total': 322981},\n",
       "   'genres': ['alternative dance',\n",
       "    'art pop',\n",
       "    'big beat',\n",
       "    'electronica',\n",
       "    'ninja',\n",
       "    'nu jazz',\n",
       "    'trip hop'],\n",
       "   'href': 'https://api.spotify.com/v1/artists/2nszamLjZFgu3Yx77mKxuC',\n",
       "   'id': '2nszamLjZFgu3Yx77mKxuC',\n",
       "   'images': [{'height': 640,\n",
       "     'url': 'https://i.scdn.co/image/ab6761610000e5ebf765d40a1554189b213f9f40',\n",
       "     'width': 640},\n",
       "    {'height': 320,\n",
       "     'url': 'https://i.scdn.co/image/ab67616100005174f765d40a1554189b213f9f40',\n",
       "     'width': 320},\n",
       "    {'height': 160,\n",
       "     'url': 'https://i.scdn.co/image/ab6761610000f178f765d40a1554189b213f9f40',\n",
       "     'width': 160}],\n",
       "   'name': 'UNKLE',\n",
       "   'popularity': 56,\n",
       "   'type': 'artist',\n",
       "   'uri': 'spotify:artist:2nszamLjZFgu3Yx77mKxuC'},\n",
       "  {'external_urls': {'spotify': 'https://open.spotify.com/artist/1EJWNhiYbOyeUHbsS7Kp1P'},\n",
       "   'followers': {'href': None, 'total': 201157},\n",
       "   'genres': ['alternative dance', 'electronica', 'trip hop'],\n",
       "   'href': 'https://api.spotify.com/v1/artists/1EJWNhiYbOyeUHbsS7Kp1P',\n",
       "   'id': '1EJWNhiYbOyeUHbsS7Kp1P',\n",
       "   'images': [{'height': 640,\n",
       "     'url': 'https://i.scdn.co/image/ab6761610000e5ebd62076e2fcf2bcd6243edb27',\n",
       "     'width': 640},\n",
       "    {'height': 320,\n",
       "     'url': 'https://i.scdn.co/image/ab67616100005174d62076e2fcf2bcd6243edb27',\n",
       "     'width': 320},\n",
       "    {'height': 160,\n",
       "     'url': 'https://i.scdn.co/image/ab6761610000f178d62076e2fcf2bcd6243edb27',\n",
       "     'width': 160}],\n",
       "   'name': 'Sneaker Pimps',\n",
       "   'popularity': 51,\n",
       "   'type': 'artist',\n",
       "   'uri': 'spotify:artist:1EJWNhiYbOyeUHbsS7Kp1P'},\n",
       "  {'external_urls': {'spotify': 'https://open.spotify.com/artist/14H7ag1wpQOsPPQJOD6Dqr'},\n",
       "   'followers': {'href': None, 'total': 443112},\n",
       "   'genres': ['downtempo', 'electronica', 'nu jazz', 'trip hop'],\n",
       "   'href': 'https://api.spotify.com/v1/artists/14H7ag1wpQOsPPQJOD6Dqr',\n",
       "   'id': '14H7ag1wpQOsPPQJOD6Dqr',\n",
       "   'images': [{'height': 640,\n",
       "     'url': 'https://i.scdn.co/image/ab6761610000e5eb85c10aefe83110535eea474c',\n",
       "     'width': 640},\n",
       "    {'height': 320,\n",
       "     'url': 'https://i.scdn.co/image/ab6761610000517485c10aefe83110535eea474c',\n",
       "     'width': 320},\n",
       "    {'height': 160,\n",
       "     'url': 'https://i.scdn.co/image/ab6761610000f17885c10aefe83110535eea474c',\n",
       "     'width': 160}],\n",
       "   'name': 'Zero 7',\n",
       "   'popularity': 61,\n",
       "   'type': 'artist',\n",
       "   'uri': 'spotify:artist:14H7ag1wpQOsPPQJOD6Dqr'},\n",
       "  {'external_urls': {'spotify': 'https://open.spotify.com/artist/5EP020iZcwBqHRnJftibXX'},\n",
       "   'followers': {'href': None, 'total': 354101},\n",
       "   'genres': ['downtempo', 'electronica', 'trip hop'],\n",
       "   'href': 'https://api.spotify.com/v1/artists/5EP020iZcwBqHRnJftibXX',\n",
       "   'id': '5EP020iZcwBqHRnJftibXX',\n",
       "   'images': [{'height': 640,\n",
       "     'url': 'https://i.scdn.co/image/ab6761610000e5eb2ebcf2a5cc31cf1c83bab244',\n",
       "     'width': 640},\n",
       "    {'height': 320,\n",
       "     'url': 'https://i.scdn.co/image/ab676161000051742ebcf2a5cc31cf1c83bab244',\n",
       "     'width': 320},\n",
       "    {'height': 160,\n",
       "     'url': 'https://i.scdn.co/image/ab6761610000f1782ebcf2a5cc31cf1c83bab244',\n",
       "     'width': 160}],\n",
       "   'name': 'Hooverphonic',\n",
       "   'popularity': 57,\n",
       "   'type': 'artist',\n",
       "   'uri': 'spotify:artist:5EP020iZcwBqHRnJftibXX'},\n",
       "  {'external_urls': {'spotify': 'https://open.spotify.com/artist/1Q776wzj2mrtXrNu3iH6nk'},\n",
       "   'followers': {'href': None, 'total': 222596},\n",
       "   'genres': ['electronica', 'trip hop'],\n",
       "   'href': 'https://api.spotify.com/v1/artists/1Q776wzj2mrtXrNu3iH6nk',\n",
       "   'id': '1Q776wzj2mrtXrNu3iH6nk',\n",
       "   'images': [{'height': 640,\n",
       "     'url': 'https://i.scdn.co/image/ab6761610000e5eb7e2b46bfa294e4ab17134595',\n",
       "     'width': 640},\n",
       "    {'height': 320,\n",
       "     'url': 'https://i.scdn.co/image/ab676161000051747e2b46bfa294e4ab17134595',\n",
       "     'width': 320},\n",
       "    {'height': 160,\n",
       "     'url': 'https://i.scdn.co/image/ab6761610000f1787e2b46bfa294e4ab17134595',\n",
       "     'width': 160}],\n",
       "   'name': 'Archive',\n",
       "   'popularity': 53,\n",
       "   'type': 'artist',\n",
       "   'uri': 'spotify:artist:1Q776wzj2mrtXrNu3iH6nk'},\n",
       "  {'external_urls': {'spotify': 'https://open.spotify.com/artist/6sKLLGj7SqbP2qDBdEOoZ6'},\n",
       "   'followers': {'href': None, 'total': 59183},\n",
       "   'genres': ['art pop', 'electronica', 'solo wave', 'trip hop'],\n",
       "   'href': 'https://api.spotify.com/v1/artists/6sKLLGj7SqbP2qDBdEOoZ6',\n",
       "   'id': '6sKLLGj7SqbP2qDBdEOoZ6',\n",
       "   'images': [{'height': 640,\n",
       "     'url': 'https://i.scdn.co/image/ab6761610000e5eb8976f9742610b224d07609ac',\n",
       "     'width': 640},\n",
       "    {'height': 320,\n",
       "     'url': 'https://i.scdn.co/image/ab676161000051748976f9742610b224d07609ac',\n",
       "     'width': 320},\n",
       "    {'height': 160,\n",
       "     'url': 'https://i.scdn.co/image/ab6761610000f1788976f9742610b224d07609ac',\n",
       "     'width': 160}],\n",
       "   'name': 'Martina Topley-Bird',\n",
       "   'popularity': 43,\n",
       "   'type': 'artist',\n",
       "   'uri': 'spotify:artist:6sKLLGj7SqbP2qDBdEOoZ6'},\n",
       "  {'external_urls': {'spotify': 'https://open.spotify.com/artist/39ywlwtGw8RTGobakgb11L'},\n",
       "   'followers': {'href': None, 'total': 165592},\n",
       "   'genres': ['big beat',\n",
       "    'downtempo',\n",
       "    'electronica',\n",
       "    'ninja',\n",
       "    'nu jazz',\n",
       "    'trip hop'],\n",
       "   'href': 'https://api.spotify.com/v1/artists/39ywlwtGw8RTGobakgb11L',\n",
       "   'id': '39ywlwtGw8RTGobakgb11L',\n",
       "   'images': [{'height': 640,\n",
       "     'url': 'https://i.scdn.co/image/ab6761610000e5ebde4e41e1e9e80abf82e646c0',\n",
       "     'width': 640},\n",
       "    {'height': 320,\n",
       "     'url': 'https://i.scdn.co/image/ab67616100005174de4e41e1e9e80abf82e646c0',\n",
       "     'width': 320},\n",
       "    {'height': 160,\n",
       "     'url': 'https://i.scdn.co/image/ab6761610000f178de4e41e1e9e80abf82e646c0',\n",
       "     'width': 160}],\n",
       "   'name': 'Kruder & Dorfmeister',\n",
       "   'popularity': 49,\n",
       "   'type': 'artist',\n",
       "   'uri': 'spotify:artist:39ywlwtGw8RTGobakgb11L'},\n",
       "  {'external_urls': {'spotify': 'https://open.spotify.com/artist/25KNo5GDS6ZpLkjasaecA3'},\n",
       "   'followers': {'href': None, 'total': 670654},\n",
       "   'genres': ['downtempo',\n",
       "    'electronica',\n",
       "    'livetronica',\n",
       "    'nu jazz',\n",
       "    'trip hop'],\n",
       "   'href': 'https://api.spotify.com/v1/artists/25KNo5GDS6ZpLkjasaecA3',\n",
       "   'id': '25KNo5GDS6ZpLkjasaecA3',\n",
       "   'images': [{'height': 640,\n",
       "     'url': 'https://i.scdn.co/image/ab6761610000e5eb3d9378b0995517ff9f4f2354',\n",
       "     'width': 640},\n",
       "    {'height': 320,\n",
       "     'url': 'https://i.scdn.co/image/ab676161000051743d9378b0995517ff9f4f2354',\n",
       "     'width': 320},\n",
       "    {'height': 160,\n",
       "     'url': 'https://i.scdn.co/image/ab6761610000f1783d9378b0995517ff9f4f2354',\n",
       "     'width': 160}],\n",
       "   'name': 'Thievery Corporation',\n",
       "   'popularity': 64,\n",
       "   'type': 'artist',\n",
       "   'uri': 'spotify:artist:25KNo5GDS6ZpLkjasaecA3'},\n",
       "  {'external_urls': {'spotify': 'https://open.spotify.com/artist/4aaBjq7VqqQvpSF69GglvO'},\n",
       "   'followers': {'href': None, 'total': 377250},\n",
       "   'genres': ['alternative dance', 'big beat', 'electronica', 'trip hop'],\n",
       "   'href': 'https://api.spotify.com/v1/artists/4aaBjq7VqqQvpSF69GglvO',\n",
       "   'id': '4aaBjq7VqqQvpSF69GglvO',\n",
       "   'images': [{'height': 982,\n",
       "     'url': 'https://i.scdn.co/image/da34856608ab863451a8492546cf589b8267493c',\n",
       "     'width': 1000},\n",
       "    {'height': 629,\n",
       "     'url': 'https://i.scdn.co/image/5bf5624bc7ff9e97ffb2f47c3a25f2c536d6d6b7',\n",
       "     'width': 640},\n",
       "    {'height': 196,\n",
       "     'url': 'https://i.scdn.co/image/800253832557446667007d8d3c389a4e6d878de9',\n",
       "     'width': 200},\n",
       "    {'height': 63,\n",
       "     'url': 'https://i.scdn.co/image/261169cd9afd1bae885b370ba6723143677c6a94',\n",
       "     'width': 64}],\n",
       "   'name': 'Moloko',\n",
       "   'popularity': 58,\n",
       "   'type': 'artist',\n",
       "   'uri': 'spotify:artist:4aaBjq7VqqQvpSF69GglvO'},\n",
       "  {'external_urls': {'spotify': 'https://open.spotify.com/artist/1P6U1dCeHxPui5pIrGmndZ'},\n",
       "   'followers': {'href': None, 'total': 743613},\n",
       "   'genres': ['ambient pop', 'downtempo', 'electronica', 'trip hop'],\n",
       "   'href': 'https://api.spotify.com/v1/artists/1P6U1dCeHxPui5pIrGmndZ',\n",
       "   'id': '1P6U1dCeHxPui5pIrGmndZ',\n",
       "   'images': [{'height': 640,\n",
       "     'url': 'https://i.scdn.co/image/ab6761610000e5ebb3f06b20f1391c3d1b2c14e7',\n",
       "     'width': 640},\n",
       "    {'height': 320,\n",
       "     'url': 'https://i.scdn.co/image/ab67616100005174b3f06b20f1391c3d1b2c14e7',\n",
       "     'width': 320},\n",
       "    {'height': 160,\n",
       "     'url': 'https://i.scdn.co/image/ab6761610000f178b3f06b20f1391c3d1b2c14e7',\n",
       "     'width': 160}],\n",
       "   'name': 'Air',\n",
       "   'popularity': 63,\n",
       "   'type': 'artist',\n",
       "   'uri': 'spotify:artist:1P6U1dCeHxPui5pIrGmndZ'},\n",
       "  {'external_urls': {'spotify': 'https://open.spotify.com/artist/1ViF5mdcW7pEn7md71YjOL'},\n",
       "   'followers': {'href': None, 'total': 87803},\n",
       "   'genres': ['big beat', 'electronica', 'ninja', 'nu jazz', 'trip hop'],\n",
       "   'href': 'https://api.spotify.com/v1/artists/1ViF5mdcW7pEn7md71YjOL',\n",
       "   'id': '1ViF5mdcW7pEn7md71YjOL',\n",
       "   'images': [{'height': 640,\n",
       "     'url': 'https://i.scdn.co/image/ab6761610000e5ebc714c008f0261b2e18ddea30',\n",
       "     'width': 640},\n",
       "    {'height': 320,\n",
       "     'url': 'https://i.scdn.co/image/ab67616100005174c714c008f0261b2e18ddea30',\n",
       "     'width': 320},\n",
       "    {'height': 160,\n",
       "     'url': 'https://i.scdn.co/image/ab6761610000f178c714c008f0261b2e18ddea30',\n",
       "     'width': 160}],\n",
       "   'name': 'Kid Loco',\n",
       "   'popularity': 48,\n",
       "   'type': 'artist',\n",
       "   'uri': 'spotify:artist:1ViF5mdcW7pEn7md71YjOL'},\n",
       "  {'external_urls': {'spotify': 'https://open.spotify.com/artist/5CE2IfdYZEQGIDsfiRm8SI'},\n",
       "   'followers': {'href': None, 'total': 500936},\n",
       "   'genres': ['big beat',\n",
       "    'downtempo',\n",
       "    'electronica',\n",
       "    'hip hop',\n",
       "    'trip hop',\n",
       "    'turntablism'],\n",
       "   'href': 'https://api.spotify.com/v1/artists/5CE2IfdYZEQGIDsfiRm8SI',\n",
       "   'id': '5CE2IfdYZEQGIDsfiRm8SI',\n",
       "   'images': [{'height': 640,\n",
       "     'url': 'https://i.scdn.co/image/ab6761610000e5ebed22769b2770a78dd6826f50',\n",
       "     'width': 640},\n",
       "    {'height': 320,\n",
       "     'url': 'https://i.scdn.co/image/ab67616100005174ed22769b2770a78dd6826f50',\n",
       "     'width': 320},\n",
       "    {'height': 160,\n",
       "     'url': 'https://i.scdn.co/image/ab6761610000f178ed22769b2770a78dd6826f50',\n",
       "     'width': 160}],\n",
       "   'name': 'DJ Shadow',\n",
       "   'popularity': 66,\n",
       "   'type': 'artist',\n",
       "   'uri': 'spotify:artist:5CE2IfdYZEQGIDsfiRm8SI'},\n",
       "  {'external_urls': {'spotify': 'https://open.spotify.com/artist/4tNxq9NGKTKaX8OkZBLgf0'},\n",
       "   'followers': {'href': None, 'total': 374129},\n",
       "   'genres': ['bleep techno',\n",
       "    'downtempo',\n",
       "    'electronica',\n",
       "    'nu jazz',\n",
       "    'trip hop',\n",
       "    'turntablism'],\n",
       "   'href': 'https://api.spotify.com/v1/artists/4tNxq9NGKTKaX8OkZBLgf0',\n",
       "   'id': '4tNxq9NGKTKaX8OkZBLgf0',\n",
       "   'images': [{'height': 640,\n",
       "     'url': 'https://i.scdn.co/image/ab6761610000e5ebf55522db17a6034ca9a895cf',\n",
       "     'width': 640},\n",
       "    {'height': 320,\n",
       "     'url': 'https://i.scdn.co/image/ab67616100005174f55522db17a6034ca9a895cf',\n",
       "     'width': 320},\n",
       "    {'height': 160,\n",
       "     'url': 'https://i.scdn.co/image/ab6761610000f178f55522db17a6034ca9a895cf',\n",
       "     'width': 160}],\n",
       "   'name': 'Nightmares On Wax',\n",
       "   'popularity': 61,\n",
       "   'type': 'artist',\n",
       "   'uri': 'spotify:artist:4tNxq9NGKTKaX8OkZBLgf0'},\n",
       "  {'external_urls': {'spotify': 'https://open.spotify.com/artist/67tgMwUfnmqzYsNAtnP6YJ'},\n",
       "   'followers': {'href': None, 'total': 566834},\n",
       "   'genres': ['alternative dance',\n",
       "    'big beat',\n",
       "    'electronica',\n",
       "    'new rave',\n",
       "    'nu jazz',\n",
       "    'nu skool breaks',\n",
       "    'trip hop'],\n",
       "   'href': 'https://api.spotify.com/v1/artists/67tgMwUfnmqzYsNAtnP6YJ',\n",
       "   'id': '67tgMwUfnmqzYsNAtnP6YJ',\n",
       "   'images': [{'height': 640,\n",
       "     'url': 'https://i.scdn.co/image/ab6761610000e5eb922cfaf258406578ccb12bcc',\n",
       "     'width': 640},\n",
       "    {'height': 320,\n",
       "     'url': 'https://i.scdn.co/image/ab67616100005174922cfaf258406578ccb12bcc',\n",
       "     'width': 320},\n",
       "    {'height': 160,\n",
       "     'url': 'https://i.scdn.co/image/ab6761610000f178922cfaf258406578ccb12bcc',\n",
       "     'width': 160}],\n",
       "   'name': 'Groove Armada',\n",
       "   'popularity': 61,\n",
       "   'type': 'artist',\n",
       "   'uri': 'spotify:artist:67tgMwUfnmqzYsNAtnP6YJ'},\n",
       "  {'external_urls': {'spotify': 'https://open.spotify.com/artist/5nPOO9iTcrs9k6yFffPxjH'},\n",
       "   'followers': {'href': None, 'total': 762817},\n",
       "   'genres': ['alternative dance',\n",
       "    'big beat',\n",
       "    'downtempo',\n",
       "    'electronica',\n",
       "    'electropop',\n",
       "    'new rave',\n",
       "    'trip hop'],\n",
       "   'href': 'https://api.spotify.com/v1/artists/5nPOO9iTcrs9k6yFffPxjH',\n",
       "   'id': '5nPOO9iTcrs9k6yFffPxjH',\n",
       "   'images': [{'height': 640,\n",
       "     'url': 'https://i.scdn.co/image/ab6761610000e5eb63e7e23f8d563acde6bd571c',\n",
       "     'width': 640},\n",
       "    {'height': 320,\n",
       "     'url': 'https://i.scdn.co/image/ab6761610000517463e7e23f8d563acde6bd571c',\n",
       "     'width': 320},\n",
       "    {'height': 160,\n",
       "     'url': 'https://i.scdn.co/image/ab6761610000f17863e7e23f8d563acde6bd571c',\n",
       "     'width': 160}],\n",
       "   'name': 'Röyksopp',\n",
       "   'popularity': 63,\n",
       "   'type': 'artist',\n",
       "   'uri': 'spotify:artist:5nPOO9iTcrs9k6yFffPxjH'},\n",
       "  {'external_urls': {'spotify': 'https://open.spotify.com/artist/5uh8Bhewltd8j0TLZjNImc'},\n",
       "   'followers': {'href': None, 'total': 152523},\n",
       "   'genres': ['downtempo',\n",
       "    'electronica',\n",
       "    'ninja',\n",
       "    'nu jazz',\n",
       "    'trip hop',\n",
       "    'turntablism'],\n",
       "   'href': 'https://api.spotify.com/v1/artists/5uh8Bhewltd8j0TLZjNImc',\n",
       "   'id': '5uh8Bhewltd8j0TLZjNImc',\n",
       "   'images': [{'height': 640,\n",
       "     'url': 'https://i.scdn.co/image/ab67616d0000b273699c6d0199bad947d149164c',\n",
       "     'width': 640},\n",
       "    {'height': 300,\n",
       "     'url': 'https://i.scdn.co/image/ab67616d00001e02699c6d0199bad947d149164c',\n",
       "     'width': 300},\n",
       "    {'height': 64,\n",
       "     'url': 'https://i.scdn.co/image/ab67616d00004851699c6d0199bad947d149164c',\n",
       "     'width': 64}],\n",
       "   'name': 'Lemon Jelly',\n",
       "   'popularity': 49,\n",
       "   'type': 'artist',\n",
       "   'uri': 'spotify:artist:5uh8Bhewltd8j0TLZjNImc'}]}"
      ]
     },
     "execution_count": 51,
     "metadata": {},
     "output_type": "execute_result"
    }
   ],
   "source": [
    "related_artists"
   ]
  },
  {
   "cell_type": "code",
   "execution_count": 52,
   "metadata": {
    "ExecuteTime": {
     "end_time": "2022-01-21T00:28:33.622947Z",
     "start_time": "2022-01-21T00:28:33.613999Z"
    }
   },
   "outputs": [
    {
     "name": "stdout",
     "output_type": "stream",
     "text": [
      "dict_keys(['artists'])\n"
     ]
    }
   ],
   "source": [
    "print(related_artists.keys())"
   ]
  },
  {
   "cell_type": "code",
   "execution_count": 53,
   "metadata": {
    "ExecuteTime": {
     "end_time": "2022-01-21T00:28:41.705717Z",
     "start_time": "2022-01-21T00:28:41.697738Z"
    }
   },
   "outputs": [
    {
     "data": {
      "text/plain": [
       "list"
      ]
     },
     "execution_count": 53,
     "metadata": {},
     "output_type": "execute_result"
    }
   ],
   "source": [
    "type(related_artists['artists'])"
   ]
  },
  {
   "cell_type": "code",
   "execution_count": 56,
   "metadata": {
    "ExecuteTime": {
     "end_time": "2022-01-21T00:29:23.160732Z",
     "start_time": "2022-01-21T00:29:23.144776Z"
    }
   },
   "outputs": [
    {
     "data": {
      "text/plain": [
       "{'external_urls': {'spotify': 'https://open.spotify.com/artist/08YvZ2qzFrDSITfHLbPKMP'},\n",
       " 'followers': {'href': None, 'total': 209801},\n",
       " 'genres': ['art pop', 'electronica', 'nu jazz', 'trip hop'],\n",
       " 'href': 'https://api.spotify.com/v1/artists/08YvZ2qzFrDSITfHLbPKMP',\n",
       " 'id': '08YvZ2qzFrDSITfHLbPKMP',\n",
       " 'images': [{'height': 640,\n",
       "   'url': 'https://i.scdn.co/image/ab6761610000e5eb7212f5c9b495683f5a12dd20',\n",
       "   'width': 640},\n",
       "  {'height': 320,\n",
       "   'url': 'https://i.scdn.co/image/ab676161000051747212f5c9b495683f5a12dd20',\n",
       "   'width': 320},\n",
       "  {'height': 160,\n",
       "   'url': 'https://i.scdn.co/image/ab6761610000f1787212f5c9b495683f5a12dd20',\n",
       "   'width': 160}],\n",
       " 'name': 'Lamb',\n",
       " 'popularity': 49,\n",
       " 'type': 'artist',\n",
       " 'uri': 'spotify:artist:08YvZ2qzFrDSITfHLbPKMP'}"
      ]
     },
     "execution_count": 56,
     "metadata": {},
     "output_type": "execute_result"
    }
   ],
   "source": [
    "related_artists['artists'][2]"
   ]
  },
  {
   "cell_type": "code",
   "execution_count": 57,
   "metadata": {
    "ExecuteTime": {
     "end_time": "2022-01-21T00:29:34.142846Z",
     "start_time": "2022-01-21T00:29:34.126865Z"
    }
   },
   "outputs": [
    {
     "data": {
      "text/plain": [
       "'Tricky'"
      ]
     },
     "execution_count": 57,
     "metadata": {},
     "output_type": "execute_result"
    }
   ],
   "source": [
    "related_artists['artists'][0]['name']"
   ]
  },
  {
   "cell_type": "code",
   "execution_count": 58,
   "metadata": {
    "ExecuteTime": {
     "end_time": "2022-01-21T00:30:15.917083Z",
     "start_time": "2022-01-21T00:30:15.907109Z"
    }
   },
   "outputs": [
    {
     "data": {
      "text/plain": [
       "['Tricky',\n",
       " 'Portishead',\n",
       " 'Lamb',\n",
       " 'Morcheeba',\n",
       " 'UNKLE',\n",
       " 'Sneaker Pimps',\n",
       " 'Zero 7',\n",
       " 'Hooverphonic',\n",
       " 'Archive',\n",
       " 'Martina Topley-Bird',\n",
       " 'Kruder & Dorfmeister',\n",
       " 'Thievery Corporation',\n",
       " 'Moloko',\n",
       " 'Air',\n",
       " 'Kid Loco',\n",
       " 'DJ Shadow',\n",
       " 'Nightmares On Wax',\n",
       " 'Groove Armada',\n",
       " 'Röyksopp',\n",
       " 'Lemon Jelly']"
      ]
     },
     "execution_count": 58,
     "metadata": {},
     "output_type": "execute_result"
    }
   ],
   "source": [
    "[artist['name'] for artist in related_artists['artists']]"
   ]
  },
  {
   "cell_type": "code",
   "execution_count": 59,
   "metadata": {
    "ExecuteTime": {
     "end_time": "2022-01-21T00:31:10.246077Z",
     "start_time": "2022-01-21T00:31:10.053406Z"
    }
   },
   "outputs": [],
   "source": [
    "top_tracks = client.artist_top_tracks('6FXMGgJwohJLUSr5nVlf9X')\n",
    "#top_tracks"
   ]
  },
  {
   "cell_type": "code",
   "execution_count": 60,
   "metadata": {
    "ExecuteTime": {
     "end_time": "2022-01-21T00:31:14.617010Z",
     "start_time": "2022-01-21T00:31:14.600058Z"
    }
   },
   "outputs": [
    {
     "data": {
      "text/plain": [
       "dict_keys(['tracks'])"
      ]
     },
     "execution_count": 60,
     "metadata": {},
     "output_type": "execute_result"
    }
   ],
   "source": [
    "top_tracks.keys()"
   ]
  },
  {
   "cell_type": "code",
   "execution_count": 61,
   "metadata": {
    "ExecuteTime": {
     "end_time": "2022-01-21T00:31:20.181397Z",
     "start_time": "2022-01-21T00:31:20.161448Z"
    }
   },
   "outputs": [
    {
     "data": {
      "text/plain": [
       "list"
      ]
     },
     "execution_count": 61,
     "metadata": {},
     "output_type": "execute_result"
    }
   ],
   "source": [
    "type(top_tracks['tracks'])"
   ]
  },
  {
   "cell_type": "code",
   "execution_count": 63,
   "metadata": {
    "ExecuteTime": {
     "end_time": "2022-01-21T00:32:20.071972Z",
     "start_time": "2022-01-21T00:32:20.062997Z"
    }
   },
   "outputs": [
    {
     "data": {
      "text/plain": [
       "dict_keys(['album', 'artists', 'disc_number', 'duration_ms', 'explicit', 'external_ids', 'external_urls', 'href', 'id', 'is_local', 'is_playable', 'name', 'popularity', 'preview_url', 'track_number', 'type', 'uri'])"
      ]
     },
     "execution_count": 63,
     "metadata": {},
     "output_type": "execute_result"
    }
   ],
   "source": [
    "top_tracks['tracks'][0].keys()"
   ]
  },
  {
   "cell_type": "code",
   "execution_count": 67,
   "metadata": {
    "ExecuteTime": {
     "end_time": "2022-01-21T00:33:02.991380Z",
     "start_time": "2022-01-21T00:33:02.976420Z"
    }
   },
   "outputs": [
    {
     "data": {
      "text/plain": [
       "'spotify:track:67Hna13dNDkZvBpTXRIaOJ'"
      ]
     },
     "execution_count": 67,
     "metadata": {},
     "output_type": "execute_result"
    }
   ],
   "source": [
    "top_tracks['tracks'][0]['uri']"
   ]
  },
  {
   "cell_type": "code",
   "execution_count": 68,
   "metadata": {
    "ExecuteTime": {
     "end_time": "2022-01-21T00:33:13.815312Z",
     "start_time": "2022-01-21T00:33:13.803317Z"
    }
   },
   "outputs": [
    {
     "data": {
      "text/plain": [
       "dict_keys(['album', 'artists', 'disc_number', 'duration_ms', 'explicit', 'external_ids', 'external_urls', 'href', 'id', 'is_local', 'is_playable', 'name', 'popularity', 'preview_url', 'track_number', 'type', 'uri'])"
      ]
     },
     "execution_count": 68,
     "metadata": {},
     "output_type": "execute_result"
    }
   ],
   "source": [
    "top_tracks['tracks'][0].keys()"
   ]
  },
  {
   "cell_type": "code",
   "execution_count": 69,
   "metadata": {
    "ExecuteTime": {
     "end_time": "2022-01-21T00:33:16.122169Z",
     "start_time": "2022-01-21T00:33:16.107209Z"
    }
   },
   "outputs": [
    {
     "data": {
      "text/plain": [
       "'Teardrop'"
      ]
     },
     "execution_count": 69,
     "metadata": {},
     "output_type": "execute_result"
    }
   ],
   "source": [
    "top_tracks['tracks'][0]['name']"
   ]
  },
  {
   "cell_type": "code",
   "execution_count": 70,
   "metadata": {
    "ExecuteTime": {
     "end_time": "2022-01-21T00:33:25.086745Z",
     "start_time": "2022-01-21T00:33:25.077769Z"
    }
   },
   "outputs": [
    {
     "data": {
      "text/plain": [
       "71"
      ]
     },
     "execution_count": 70,
     "metadata": {},
     "output_type": "execute_result"
    }
   ],
   "source": [
    "top_tracks['tracks'][0]['popularity']"
   ]
  },
  {
   "cell_type": "code",
   "execution_count": 71,
   "metadata": {
    "ExecuteTime": {
     "end_time": "2022-01-21T00:33:41.341375Z",
     "start_time": "2022-01-21T00:33:41.336389Z"
    }
   },
   "outputs": [
    {
     "data": {
      "text/plain": [
       "'spotify:track:67Hna13dNDkZvBpTXRIaOJ'"
      ]
     },
     "execution_count": 71,
     "metadata": {},
     "output_type": "execute_result"
    }
   ],
   "source": [
    "top_tracks['tracks'][0]['uri']"
   ]
  },
  {
   "cell_type": "code",
   "execution_count": 109,
   "metadata": {
    "ExecuteTime": {
     "end_time": "2022-01-21T01:17:14.784853Z",
     "start_time": "2022-01-21T01:17:14.561890Z"
    }
   },
   "outputs": [
    {
     "data": {
      "text/plain": [
       "[{'danceability': 0.615,\n",
       "  'energy': 0.419,\n",
       "  'key': 11,\n",
       "  'loudness': -8.8,\n",
       "  'mode': 0,\n",
       "  'speechiness': 0.0395,\n",
       "  'acousticness': 0.0173,\n",
       "  'instrumentalness': 0.497,\n",
       "  'liveness': 0.135,\n",
       "  'valence': 0.216,\n",
       "  'tempo': 76.997,\n",
       "  'type': 'audio_features',\n",
       "  'id': '67Hna13dNDkZvBpTXRIaOJ',\n",
       "  'uri': 'spotify:track:67Hna13dNDkZvBpTXRIaOJ',\n",
       "  'track_href': 'https://api.spotify.com/v1/tracks/67Hna13dNDkZvBpTXRIaOJ',\n",
       "  'analysis_url': 'https://api.spotify.com/v1/audio-analysis/67Hna13dNDkZvBpTXRIaOJ',\n",
       "  'duration_ms': 330773,\n",
       "  'time_signature': 4}]"
      ]
     },
     "execution_count": 109,
     "metadata": {},
     "output_type": "execute_result"
    }
   ],
   "source": [
    "client.audio_features(top_tracks['tracks'][0]['uri'])"
   ]
  },
  {
   "cell_type": "code",
   "execution_count": 110,
   "metadata": {
    "ExecuteTime": {
     "end_time": "2022-01-21T01:19:00.511026Z",
     "start_time": "2022-01-21T01:18:54.176968Z"
    }
   },
   "outputs": [],
   "source": [
    "# Extrair as audio features das 10 maiores faixas de cada artista na lista de clientes.\n",
    "# - NOME CLIENTE (String)\n",
    "# - NOME FAIXA (String)\n",
    "# - POPULARIDADE ARTISTA (Integer)\n",
    "# - POPULARIDADE FAIXA (Integer)\n",
    "# - DANCEABILITY (Float)\n",
    "# - ENERGY (Float)\n",
    "# - TEMPO (Float)\n",
    "# - DURAÇÃO em MINUTOS (Float)\n",
    "\n",
    "lista_clientes = [\n",
    "    '6kBDZFXuLrZgHnvmPu9NsG',\n",
    "    '2VAvhf61GgLYmC6C8anyX1',\n",
    "    '7AiamoV760pPGGM5PbOC6X'\n",
    "]\n",
    "\n",
    "nome = []\n",
    "pop_cliente_l = []\n",
    "danc_l = []\n",
    "energy_l =[]\n",
    "tempo_l = []\n",
    "dur_l = []\n",
    "nome_faixa_l = []\n",
    "pop_faixa_l = []\n",
    "\n",
    "for cliente in lista_clientes:\n",
    "    \n",
    "    dados_cliente = client.artist(cliente)\n",
    "    nome_cliente = dados_cliente['name']\n",
    "    pop_cliente = dados_cliente['popularity']\n",
    "    top_tracks = client.artist_top_tracks(cliente)['tracks']\n",
    "    lista_musicas = [(musica['uri'], musica['name'], musica['popularity'])\n",
    "                     for musica in top_tracks]\n",
    "    \n",
    "    for musica in lista_musicas:\n",
    "        audio_features = client.audio_features(musica[0])[0]\n",
    "        \n",
    "        danc = audio_features['danceability']\n",
    "        energy = audio_features['energy']\n",
    "        tempo = audio_features['tempo']\n",
    "        dur = audio_features['duration_ms']/60000\n",
    "        nome_faixa_l.append(musica[1])\n",
    "        pop_faixa_l.append(musica[2])\n",
    "        nome.append(nome_cliente)\n",
    "        pop_cliente_l.append(pop_cliente)\n",
    "        danc_l.append(danc)\n",
    "        energy_l.append(energy)\n",
    "        tempo_l.append(tempo)\n",
    "        dur_l.append(dur)"
   ]
  },
  {
   "cell_type": "code",
   "execution_count": 118,
   "metadata": {
    "ExecuteTime": {
     "end_time": "2022-01-21T01:20:00.184254Z",
     "start_time": "2022-01-21T01:20:00.174277Z"
    }
   },
   "outputs": [
    {
     "data": {
      "text/plain": [
       "[2.092,\n",
       " 4.895866666666667,\n",
       " 5.179116666666666,\n",
       " 7.738216666666666,\n",
       " 5.38645,\n",
       " 5.3646666666666665,\n",
       " 6.14,\n",
       " 3.800883333333333,\n",
       " 2.95155,\n",
       " 2.95445,\n",
       " 2.525333333333333,\n",
       " 1.52845,\n",
       " 5.003116666666667,\n",
       " 5.415116666666667,\n",
       " 1.26045,\n",
       " 7.06555,\n",
       " 6.124666666666666,\n",
       " 5.968,\n",
       " 4.341116666666666,\n",
       " 5.131333333333333,\n",
       " 6.372883333333333,\n",
       " 5.2522166666666665,\n",
       " 4.122883333333333,\n",
       " 3.3322166666666666,\n",
       " 4.6776333333333335,\n",
       " 4.687166666666666,\n",
       " 6.11285,\n",
       " 3.1965666666666666,\n",
       " 3.68555,\n",
       " 6.486416666666667]"
      ]
     },
     "execution_count": 118,
     "metadata": {},
     "output_type": "execute_result"
    }
   ],
   "source": [
    "dur_l"
   ]
  },
  {
   "cell_type": "code",
   "execution_count": 78,
   "metadata": {
    "ExecuteTime": {
     "end_time": "2022-01-21T01:00:31.198410Z",
     "start_time": "2022-01-21T01:00:31.007913Z"
    }
   },
   "outputs": [
    {
     "name": "stdout",
     "output_type": "stream",
     "text": [
      "Aphex Twin\n",
      "65\n"
     ]
    }
   ],
   "source": [
    "aa = client.artist('6kBDZFXuLrZgHnvmPu9NsG')\n",
    "print(aa['name'])\n",
    "print(aa['popularity'])"
   ]
  },
  {
   "cell_type": "code",
   "execution_count": 94,
   "metadata": {
    "ExecuteTime": {
     "end_time": "2022-01-21T01:06:00.250408Z",
     "start_time": "2022-01-21T01:06:00.047138Z"
    }
   },
   "outputs": [],
   "source": [
    "bb = client.artist_top_tracks('6kBDZFXuLrZgHnvmPu9NsG')"
   ]
  },
  {
   "cell_type": "code",
   "execution_count": 95,
   "metadata": {
    "ExecuteTime": {
     "end_time": "2022-01-21T01:06:03.009265Z",
     "start_time": "2022-01-21T01:06:02.997299Z"
    }
   },
   "outputs": [
    {
     "data": {
      "text/plain": [
       "dict_keys(['tracks'])"
      ]
     },
     "execution_count": 95,
     "metadata": {},
     "output_type": "execute_result"
    }
   ],
   "source": [
    "bb.keys()"
   ]
  },
  {
   "cell_type": "code",
   "execution_count": 96,
   "metadata": {
    "ExecuteTime": {
     "end_time": "2022-01-21T01:06:09.362098Z",
     "start_time": "2022-01-21T01:06:09.348135Z"
    }
   },
   "outputs": [
    {
     "data": {
      "text/plain": [
       "list"
      ]
     },
     "execution_count": 96,
     "metadata": {},
     "output_type": "execute_result"
    }
   ],
   "source": [
    "type(bb['tracks'])"
   ]
  },
  {
   "cell_type": "code",
   "execution_count": 99,
   "metadata": {
    "ExecuteTime": {
     "end_time": "2022-01-21T01:07:03.014150Z",
     "start_time": "2022-01-21T01:07:02.999162Z"
    }
   },
   "outputs": [
    {
     "data": {
      "text/plain": [
       "10"
      ]
     },
     "execution_count": 99,
     "metadata": {},
     "output_type": "execute_result"
    }
   ],
   "source": [
    "len(bb['tracks'])"
   ]
  },
  {
   "cell_type": "code",
   "execution_count": 103,
   "metadata": {
    "ExecuteTime": {
     "end_time": "2022-01-21T01:07:21.275243Z",
     "start_time": "2022-01-21T01:07:21.252305Z"
    }
   },
   "outputs": [
    {
     "data": {
      "text/plain": [
       "{'album': {'album_type': 'album',\n",
       "  'artists': [{'external_urls': {'spotify': 'https://open.spotify.com/artist/6kBDZFXuLrZgHnvmPu9NsG'},\n",
       "    'href': 'https://api.spotify.com/v1/artists/6kBDZFXuLrZgHnvmPu9NsG',\n",
       "    'id': '6kBDZFXuLrZgHnvmPu9NsG',\n",
       "    'name': 'Aphex Twin',\n",
       "    'type': 'artist',\n",
       "    'uri': 'spotify:artist:6kBDZFXuLrZgHnvmPu9NsG'}],\n",
       "  'external_urls': {'spotify': 'https://open.spotify.com/album/7aNclGRxTysfh6z0d8671k'},\n",
       "  'href': 'https://api.spotify.com/v1/albums/7aNclGRxTysfh6z0d8671k',\n",
       "  'id': '7aNclGRxTysfh6z0d8671k',\n",
       "  'images': [{'height': 640,\n",
       "    'url': 'https://i.scdn.co/image/ab67616d0000b27338906032688bb13b135ce19a',\n",
       "    'width': 640},\n",
       "   {'height': 300,\n",
       "    'url': 'https://i.scdn.co/image/ab67616d00001e0238906032688bb13b135ce19a',\n",
       "    'width': 300},\n",
       "   {'height': 64,\n",
       "    'url': 'https://i.scdn.co/image/ab67616d0000485138906032688bb13b135ce19a',\n",
       "    'width': 64}],\n",
       "  'name': 'Selected Ambient Works 85-92',\n",
       "  'release_date': '1992-02-10',\n",
       "  'release_date_precision': 'day',\n",
       "  'total_tracks': 13,\n",
       "  'type': 'album',\n",
       "  'uri': 'spotify:album:7aNclGRxTysfh6z0d8671k'},\n",
       " 'artists': [{'external_urls': {'spotify': 'https://open.spotify.com/artist/6kBDZFXuLrZgHnvmPu9NsG'},\n",
       "   'href': 'https://api.spotify.com/v1/artists/6kBDZFXuLrZgHnvmPu9NsG',\n",
       "   'id': '6kBDZFXuLrZgHnvmPu9NsG',\n",
       "   'name': 'Aphex Twin',\n",
       "   'type': 'artist',\n",
       "   'uri': 'spotify:artist:6kBDZFXuLrZgHnvmPu9NsG'}],\n",
       " 'disc_number': 1,\n",
       " 'duration_ms': 293751,\n",
       " 'explicit': False,\n",
       " 'external_ids': {'isrc': 'BEZ350800022'},\n",
       " 'external_urls': {'spotify': 'https://open.spotify.com/track/7o2AeQZzfCERsRmOM86EcB'},\n",
       " 'href': 'https://api.spotify.com/v1/tracks/7o2AeQZzfCERsRmOM86EcB',\n",
       " 'id': '7o2AeQZzfCERsRmOM86EcB',\n",
       " 'is_local': False,\n",
       " 'is_playable': True,\n",
       " 'name': 'Xtal',\n",
       " 'popularity': 62,\n",
       " 'preview_url': 'https://p.scdn.co/mp3-preview/8691f6920f0781c46e42b2914ef771e648c3e1f5?cid=cd9cd1ff2710474993b146e14b5e2612',\n",
       " 'track_number': 1,\n",
       " 'type': 'track',\n",
       " 'uri': 'spotify:track:7o2AeQZzfCERsRmOM86EcB'}"
      ]
     },
     "execution_count": 103,
     "metadata": {},
     "output_type": "execute_result"
    }
   ],
   "source": [
    "bb['tracks'][1]"
   ]
  },
  {
   "cell_type": "code",
   "execution_count": null,
   "metadata": {},
   "outputs": [],
   "source": []
  }
 ],
 "metadata": {
  "hide_input": false,
  "kernelspec": {
   "display_name": "Python 3",
   "language": "python",
   "name": "python3"
  },
  "language_info": {
   "codemirror_mode": {
    "name": "ipython",
    "version": 3
   },
   "file_extension": ".py",
   "mimetype": "text/x-python",
   "name": "python",
   "nbconvert_exporter": "python",
   "pygments_lexer": "ipython3",
   "version": "3.8.8"
  },
  "toc": {
   "base_numbering": 1,
   "nav_menu": {},
   "number_sections": true,
   "sideBar": true,
   "skip_h1_title": false,
   "title_cell": "Table of Contents",
   "title_sidebar": "Contents",
   "toc_cell": false,
   "toc_position": {},
   "toc_section_display": true,
   "toc_window_display": false
  },
  "varInspector": {
   "cols": {
    "lenName": 16,
    "lenType": 16,
    "lenVar": 40
   },
   "kernels_config": {
    "python": {
     "delete_cmd_postfix": "",
     "delete_cmd_prefix": "del ",
     "library": "var_list.py",
     "varRefreshCmd": "print(var_dic_list())"
    },
    "r": {
     "delete_cmd_postfix": ") ",
     "delete_cmd_prefix": "rm(",
     "library": "var_list.r",
     "varRefreshCmd": "cat(var_dic_list()) "
    }
   },
   "types_to_exclude": [
    "module",
    "function",
    "builtin_function_or_method",
    "instance",
    "_Feature"
   ],
   "window_display": false
  }
 },
 "nbformat": 4,
 "nbformat_minor": 4
}
