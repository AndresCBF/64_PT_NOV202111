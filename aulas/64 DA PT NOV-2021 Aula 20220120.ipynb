{
 "cells": [
  {
   "cell_type": "code",
   "execution_count": 1,
   "metadata": {
    "ExecuteTime": {
     "end_time": "2022-01-20T22:39:28.088992Z",
     "start_time": "2022-01-20T22:39:27.603290Z"
    }
   },
   "outputs": [],
   "source": [
    "import pandas as pd\n",
    "import os"
   ]
  },
  {
   "cell_type": "markdown",
   "metadata": {},
   "source": [
    "# API Wrappers"
   ]
  },
  {
   "cell_type": "markdown",
   "metadata": {},
   "source": [
    "## Dealing with `keys` in code\n",
    "\n",
    "Usually, when you access an API, you'll use some password or `key`. \n",
    "\n",
    "There's a package called `dotenv` that helps you hide your keys inside a file."
   ]
  },
  {
   "cell_type": "markdown",
   "metadata": {},
   "source": [
    "- Install dotenv `!pip install dotenv` (or `!pip install python-dotenv`)\n",
    "- Create a file with a `.env` extension and variables inside of it like \n",
    "```\n",
    "API_KEY=\"l1noPOPAixCPM\"\n",
    "API_SECRET=\"GraGq0zrGhs1qvbA0xQXsZBKuTkK5MJ\"\n",
    "```\n",
    "- run dotenv.load_dotenv('filename.env')\n",
    "- now if you run os.getenv('API_KEY'), it will contain the string 'l1noPOPAixCPM'\n",
    "- the idea is that you can upload your code to Github and **DON'T** upload the `.env` file"
   ]
  },
  {
   "cell_type": "code",
   "execution_count": 2,
   "metadata": {
    "ExecuteTime": {
     "end_time": "2022-01-20T14:01:33.096315Z",
     "start_time": "2022-01-20T14:01:30.503439Z"
    }
   },
   "outputs": [
    {
     "name": "stdout",
     "output_type": "stream",
     "text": [
      "Requirement already satisfied: python-dotenv in c:\\users\\forqu\\anaconda\\lib\\site-packages (0.19.2)\n"
     ]
    }
   ],
   "source": [
    "!pip3 install python-dotenv"
   ]
  },
  {
   "cell_type": "code",
<<<<<<< Updated upstream
   "execution_count": 2,
=======
   "execution_count": 3,
>>>>>>> Stashed changes
   "metadata": {
    "ExecuteTime": {
     "end_time": "2022-01-20T22:41:04.338956Z",
     "start_time": "2022-01-20T22:41:04.319007Z"
    }
   },
   "outputs": [],
   "source": [
    "from dotenv import load_dotenv"
   ]
  },
  {
   "cell_type": "code",
<<<<<<< Updated upstream
   "execution_count": 3,
=======
   "execution_count": 4,
>>>>>>> Stashed changes
   "metadata": {
    "ExecuteTime": {
     "end_time": "2022-01-20T22:43:02.931977Z",
     "start_time": "2022-01-20T22:43:02.915020Z"
    }
   },
   "outputs": [
    {
     "data": {
      "text/plain": [
       "True"
      ]
     },
<<<<<<< Updated upstream
     "execution_count": 3,
=======
     "execution_count": 4,
>>>>>>> Stashed changes
     "metadata": {},
     "output_type": "execute_result"
    }
   ],
   "source": [
    "load_dotenv('credentials/credentials.env')"
   ]
  },
  {
   "cell_type": "code",
   "execution_count": 5,
   "metadata": {
    "ExecuteTime": {
     "end_time": "2022-01-20T22:43:36.069025Z",
     "start_time": "2022-01-20T22:43:36.057028Z"
    }
   },
   "outputs": [
    {
     "name": "stdout",
     "output_type": "stream",
     "text": [
      "l1noPOPAixCPM\n"
     ]
    }
   ],
   "source": [
    "print(os.getenv('API_KEY'))"
   ]
  },
  {
   "cell_type": "markdown",
   "metadata": {},
   "source": [
    "## List of API wrappers\n",
    "\n",
    "- This is a list of some known python packages that facilitates the use of some APIs:\n",
    "https://github.com/realpython/list-of-python-api-wrappers\n",
    "\n",
    "- But there are much more than that. You just have to look for it. Here's a list of some public APIs grouped by type: https://github.com/public-apis/public-apis. Maybe you can find an API wrapper for those too. You just need to search google something like: `name_of_the_api python wrapper`\n",
    "\n",
    "- API para o `Portal da Transparência` (Brasil): http://www.transparencia.gov.br/swagger-ui.html\n",
    "\n",
    "- Here's another list of fun APIs: https://apilist.fun/\n"
   ]
  },
  {
   "cell_type": "markdown",
   "metadata": {},
   "source": [
    "# Use Cases"
   ]
  },
  {
   "cell_type": "markdown",
   "metadata": {},
   "source": [
    "## OMDB\n",
    "\n",
    "http://www.omdbapi.com/"
   ]
  },
  {
   "cell_type": "markdown",
   "metadata": {
    "ExecuteTime": {
     "end_time": "2020-06-20T21:58:04.761865Z",
     "start_time": "2020-06-20T21:57:58.365989Z"
    }
   },
   "source": [
    "https://github.com/dgilland/omdb.py\n",
    "\n",
    "Install API wrapper: `!pip install omdb`\n"
   ]
  },
  {
   "cell_type": "code",
   "execution_count": 6,
   "metadata": {
    "ExecuteTime": {
     "end_time": "2022-01-20T10:57:21.583370Z",
     "start_time": "2022-01-20T10:57:18.624644Z"
    }
   },
   "outputs": [
    {
     "name": "stdout",
     "output_type": "stream",
     "text": [
      "Requirement already satisfied: omdb in c:\\users\\forqu\\anaconda\\lib\\site-packages (0.10.1)\n",
      "Requirement already satisfied: requests>=2.0.1 in c:\\users\\forqu\\anaconda\\lib\\site-packages (from omdb) (2.25.1)\n",
      "Requirement already satisfied: chardet<5,>=3.0.2 in c:\\users\\forqu\\anaconda\\lib\\site-packages (from requests>=2.0.1->omdb) (4.0.0)\n",
      "Requirement already satisfied: certifi>=2017.4.17 in c:\\users\\forqu\\anaconda\\lib\\site-packages (from requests>=2.0.1->omdb) (2020.12.5)\n",
      "Requirement already satisfied: urllib3<1.27,>=1.21.1 in c:\\users\\forqu\\anaconda\\lib\\site-packages (from requests>=2.0.1->omdb) (1.26.4)\n",
      "Requirement already satisfied: idna<3,>=2.5 in c:\\users\\forqu\\anaconda\\lib\\site-packages (from requests>=2.0.1->omdb) (2.10)\n"
     ]
    }
   ],
   "source": [
    "!pip install omdb"
   ]
  },
  {
   "cell_type": "code",
<<<<<<< Updated upstream
   "execution_count": 6,
=======
   "execution_count": 7,
>>>>>>> Stashed changes
   "metadata": {
    "ExecuteTime": {
     "end_time": "2022-01-20T22:49:46.021738Z",
     "start_time": "2022-01-20T22:49:45.889066Z"
    }
   },
   "outputs": [],
   "source": [
    "from omdb import OMDBClient"
   ]
  },
  {
   "cell_type": "code",
<<<<<<< Updated upstream
   "execution_count": 7,
=======
   "execution_count": 8,
>>>>>>> Stashed changes
   "metadata": {
    "ExecuteTime": {
     "end_time": "2022-01-20T22:52:11.374642Z",
     "start_time": "2022-01-20T22:52:11.361655Z"
    }
   },
   "outputs": [],
   "source": [
    "load_dotenv('credentials/key_omdb.env')\n",
    "chave_ombdb = os.getenv('OMDB_KEY')\n",
    "client = OMDBClient(apikey=chave_ombdb)"
   ]
  },
  {
   "cell_type": "code",
<<<<<<< Updated upstream
   "execution_count": 24,
=======
   "execution_count": 9,
>>>>>>> Stashed changes
   "metadata": {
    "ExecuteTime": {
     "end_time": "2022-01-20T23:08:41.144795Z",
     "start_time": "2022-01-20T23:08:41.135820Z"
    }
   },
   "outputs": [
    {
     "name": "stdout",
     "output_type": "stream",
     "text": [
      "dfe4d974\n"
     ]
    }
   ],
   "source": [
    "print(os.getenv('OMDB_KEY'))"
   ]
  },
  {
   "cell_type": "code",
<<<<<<< Updated upstream
   "execution_count": 14,
=======
   "execution_count": 10,
>>>>>>> Stashed changes
   "metadata": {
    "ExecuteTime": {
     "end_time": "2022-01-20T23:01:02.042157Z",
     "start_time": "2022-01-20T23:01:01.674817Z"
    }
   },
   "outputs": [
    {
     "data": {
      "text/plain": [
       "{'title': 'Stalker',\n",
       " 'year': '1979',\n",
       " 'rated': 'Not Rated',\n",
       " 'released': '17 Apr 1980',\n",
       " 'runtime': '162 min',\n",
       " 'genre': 'Drama, Sci-Fi',\n",
       " 'director': 'Andrei Tarkovsky',\n",
       " 'writer': 'Arkadiy Strugatskiy, Boris Strugatskiy, Andrei Tarkovsky',\n",
       " 'actors': 'Alisa Freyndlikh, Aleksandr Kaydanovskiy, Anatoliy Solonitsyn',\n",
       " 'plot': 'A guide leads two men through an area known as the Zone to find a room that grants wishes.',\n",
       " 'language': 'Russian',\n",
       " 'country': 'Soviet Union',\n",
       " 'awards': '2 wins & 2 nominations',\n",
       " 'poster': 'https://m.media-amazon.com/images/M/MV5BMDgwODNmMGItMDcwYi00OWZjLTgyZjAtMGYwMmI4N2Q0NmJmXkEyXkFqcGdeQXVyNzY1MTU0Njk@._V1_SX300.jpg',\n",
       " 'ratings': [{'source': 'Internet Movie Database', 'value': '8.1/10'},\n",
       "  {'source': 'Rotten Tomatoes', 'value': '100%'}],\n",
       " 'metascore': 'N/A',\n",
       " 'imdb_rating': '8.1',\n",
       " 'imdb_votes': '128,364',\n",
       " 'imdb_id': 'tt0079944',\n",
       " 'type': 'movie',\n",
       " 'dvd': '19 Jun 2001',\n",
       " 'box_office': '$292,049',\n",
       " 'production': 'N/A',\n",
       " 'website': 'N/A',\n",
       " 'response': 'True'}"
      ]
     },
     "execution_count": 10,
     "metadata": {},
     "output_type": "execute_result"
    }
   ],
   "source": [
    "results = client.title('Alien')"
   ]
  },
  {
   "cell_type": "code",
   "execution_count": 15,
   "metadata": {
    "ExecuteTime": {
     "end_time": "2022-01-20T23:01:02.057088Z",
     "start_time": "2022-01-20T23:01:02.052104Z"
    }
   },
   "outputs": [
    {
     "data": {
      "text/plain": [
       "{'title': 'Alien',\n",
       " 'year': '1979',\n",
       " 'rated': 'R',\n",
       " 'released': '22 Jun 1979',\n",
       " 'runtime': '117 min',\n",
       " 'genre': 'Horror, Sci-Fi',\n",
       " 'director': 'Ridley Scott',\n",
       " 'writer': \"Dan O'Bannon, Ronald Shusett\",\n",
       " 'actors': 'Sigourney Weaver, Tom Skerritt, John Hurt',\n",
       " 'plot': 'After a space merchant vessel receives an unknown transmission as a distress call, one of the crew is attacked by a mysterious life form and they soon realize that its life cycle has merely begun.',\n",
       " 'language': 'English',\n",
       " 'country': 'United Kingdom, United States',\n",
       " 'awards': 'Won 1 Oscar. 18 wins & 22 nominations total',\n",
       " 'poster': 'https://m.media-amazon.com/images/M/MV5BMmQ2MmU3NzktZjAxOC00ZDZhLTk4YzEtMDMyMzcxY2IwMDAyXkEyXkFqcGdeQXVyNzkwMjQ5NzM@._V1_SX300.jpg',\n",
       " 'ratings': [{'source': 'Internet Movie Database', 'value': '8.4/10'},\n",
       "  {'source': 'Rotten Tomatoes', 'value': '98%'},\n",
       "  {'source': 'Metacritic', 'value': '89/100'}],\n",
       " 'metascore': '89',\n",
       " 'imdb_rating': '8.4',\n",
       " 'imdb_votes': '835,336',\n",
       " 'imdb_id': 'tt0078748',\n",
       " 'type': 'movie',\n",
       " 'dvd': '01 Jun 1999',\n",
       " 'box_office': '$81,900,459',\n",
       " 'production': 'N/A',\n",
       " 'website': 'N/A',\n",
       " 'response': 'True'}"
      ]
     },
     "execution_count": 15,
     "metadata": {},
     "output_type": "execute_result"
    }
   ],
   "source": [
    "results"
   ]
  },
  {
   "cell_type": "code",
<<<<<<< Updated upstream
   "execution_count": 16,
=======
   "execution_count": 11,
>>>>>>> Stashed changes
   "metadata": {
    "ExecuteTime": {
     "end_time": "2022-01-20T23:01:05.064003Z",
     "start_time": "2022-01-20T23:01:05.047074Z"
    }
   },
   "outputs": [
    {
     "data": {
<<<<<<< Updated upstream
      "text/plain": [
       "'https://m.media-amazon.com/images/M/MV5BMmQ2MmU3NzktZjAxOC00ZDZhLTk4YzEtMDMyMzcxY2IwMDAyXkEyXkFqcGdeQXVyNzkwMjQ5NzM@._V1_SX300.jpg'"
      ]
     },
     "execution_count": 16,
     "metadata": {},
     "output_type": "execute_result"
    }
   ],
   "source": [
    "results['poster']"
   ]
  },
  {
   "cell_type": "code",
   "execution_count": 17,
   "metadata": {
    "ExecuteTime": {
     "end_time": "2022-01-20T23:01:05.870812Z",
     "start_time": "2022-01-20T23:01:05.790029Z"
    }
   },
   "outputs": [
    {
     "data": {
      "image/png": "iVBORw0KGgoAAAANSUhEUgAAASwAAAG6CAIAAAA9IOx8AAEAAElEQVR4nOz9ebglV3XfjX/XnqrqzHe+Pbd61gQSCCEQiFEQDDi2wWAbPMaxf8EhTmy/ISZ4ep3HJH7BU+Ikjk1+xiS2YzueIMaAECBGCSEZJLXUg3qe73jmqtrDev+oe4+uBhu/0lXfNtTn6T5PnTrnnrNPVX1rrb322msDJSUlJSUlJSUlJSUlJSUlJSUlJSUlJSUlJSUlJSUlJSUlJSUlJSUlJSUlJSUlJSUlJSUlJSUlJSUlJSUlJSUlJSUlJSUlJSUlJSUlJSUlJSUlJSXfaNBGN6Ck5JsRosekJzawHSUlJShFWFKy4ZQiLCnZYEoRlpRsMKUIS0o2mFKEJSUbTCnCkpKSkpKSkpKSkpKSkpKSkpKSkpKSkpKSkpKSkpKSbxaUUgCMMcXEqrXTqwq01sXOKIouf/NGSCmLDSKSUgqxwekNa4+GlFIp9eRDtyE84fgopZRSUsrL3zwhxNrTpLWO47jYX1x1T37PNztEpJQqDhMAIURx3Y9OXvGGDWvf45FSaq039vwZY54gRa31RjVmdL5GT5VSo+PzBBFeBkGOvkJKubZho0tIa12pVDbwiF1BCCGIaGTuRjuLuztWb/Mb18DHEEJEUXSF3DiTJNnoJjyRtZc7ET1BaYWFLJR5Oa2i1nrt9fOU/tTGOllXCmuPFBEZY7DmZhbH8UiQG9VCY8zo26WUxpiNvTWM3IQoika3hg08PgVilUKQTzCPG8JaT6q4rrB6vyh90a9Dccie4C1sYLencKgKl2/UjI3V4dobQaVSGV1hG8JTHgpjzEiQo4MmhLj8TR11U0f9Haw6XJfZMl+JrD09herWns5KpXKFuApPuKMX5++K6lEU94iNbgWKzsXartfanuFlC9I8oQs6OlOjhq29xV8h19hGUhyL0bkpNsbGxopXq9Vq0RmrVqsba3mSJKlUKsUlpbXe2Cu+uAUUzSjifht7O3/CLaCwgaOnSqkndPufbZ58drTWk5OTANY27Alhm41l4yMf3nul1FVXXfWKV7ziwIEDX/7yl//yL/+y3+8Ph8MQQpZlIQTn3Aa28Hu/93tf97rXHTp06EMf+tBDDz0EoFqt9vv9DWmM914IYa2VUn7nd37nW9/61mPHjv3O7/xO0bDLDzMzc7G9c+fOl7zkJTt37gwhENHExISU8ujRo3fdddfXvva10dueVda6V3meA6jVatddd90P/MAPnDhx4iMf+ci9997bbDbf9KY37d+/f3l5+b3vfe9laNUVSnGw4jguXIIPfvCDvEoURc1mE0C9Xl/75g1Ba/3AAw8UDfuRH/mRDR8vKW7nRRBycXGxaNj3fu/3bmCTRu05cOAAPxU//MM/XLztsoV213ZEAdxxxx1FSy5dujQ+Po7Vewczt1qtJ4xUXx4LSWvYsBhRcXTSNM2ybNOmTTfddNPopR//8R9vt9tSym63iyeNRF1mCms82mbmteNgG8WThwE2qiVrWWvrTp48ef78+aWlpYMHD546darYGULYoKatMDU19T3f8z0ALl26tLEtWcuG3dQLLxSAc+6WW2655pprRi/95E/+5C//8i9HUTQYDIo9G+uOFl4NAGstAO/9Bl70ay/00faG3xSezA/8wA8sLy8D6PV6R48eLVKjRrezDeRd73rXV7/61ZMnT05PT290W1bYyJM3sm8/9EM/BGBhYeE//sf/CGB6evqlL33pcDg0xhhjNvb26b0vtIdVEVprL0/35u9mbWfsSogxrG0PgE996lP333///fff/9M//dNxHOd5TkRrxwk2iq1bt/7ET/zElaNAbKAIpZRZljnnNm/e/IY3vAHAPffcM+ol/7N/9s+KM1rYwI29yLz3xcaV4PWtvdBHt6crxBI+5b0phFC4PMy84e7oBz7wAQDf9m3ftmPHDgAjV2tj2bCTN7qyX/aylxUbz3nOc/7Nv/k3xfab3/zmVquV53lx2iqVyoY0EsDExESr1QLgvW+1WpOTk0mSXGkX/ZVgCfF4Eb7gBS/YtGnTjh07fvqnf7rX6xVDAiPHfqP44Ac/+L//9/8ePb2ixns3gMIz0VqPIld5njNzmqbF03e+853FO4UQG3uwPvrRjxZNCiH0er0n+F0bQnEXuHDhQtGYd7zjHRvbnsJH2LNnzyjqeNddd3384x9/4IEHPvvZz37Xd31XMWB42TJm/rbo6IEDB2655ZYjR46U0VEAKProzrlXvepVxZ73vOc9P/uzP3vnnXcWT9/2trfFcVyERke9sstPo9EoxksAEFG1Wt2oljyZ0b3gSvCT8XhL+NKXvvT222+/7rrrXvKSl9x8883FSdxwSzg7O/ulL33pL/7iLza2GU9ggwfr9+zZ86UvfWkwGHz0ox993/veB0Ap9fGPf3zPnj3tdlsIwczW2iRJhsPhRjXyN3/zNw8fPlyr1fr9fpHDPfKlLz9FA4bDYRzHP/dzP/f2t7/9xIkTDzzwwEa1B0ClUik6V2mafuADH9izZ89gMCjiakmSXLx48d577y0sklLq8gS6mVkIEUIIIUxMTPzqr/6qlPLUqVPtdhvAz/3cz0kpt23b1u/3ixAu1txBNvDkXm5G+VbFAG7xWAzcFz3A0cDuldDhWTvVY8Mz16401iamjfIrCqSUSZKMDtdliI6Ozs5a76DIhVzbqWm1WhvbsV/rjm5gM6CUenInodFojLaLc7axrbzMqY9flyfr/0pIKBdC1Go1rPbBijvsRl3lo/P1hFkBRZPWdig28MxeESIsLqZiDLcQ21pNjm6oRVb3hme7F6nka+3hBrZk7Z2rVqttrAJH+UPFCS2u++JAFQdtA72G4lgVJ2uUgj96aWPdmStChAWjTMgoiopr6wm2ccMDIWudzyuqpssT7vEb1YwnTFAazWBaO72jmGlxeSYuPGVy7+g+9ZTX2IZwpYhw7Sl5QlOKeUyjE3yFjMvhCuigjpyCtffyDWxVkiTFORr57cXGUzovl+E8PuGOUGyMbp1r9SmlfEIP9nJyRYhwVGWgWq2OrqFReYu1p3BjFai1TpJkbXs2sLdT8IQp4VfIHSqO46fsrz6hPsjlbNKoB7HWf1lrujfw5nVFiBCPv5ePOhKj41VE1QpZXiEVn64E1noHV8J8jiKVYu1VvoHpTQCklKPSO0+4W63tPG+4R3qliLCkpKSkpKSkpKSkpKSkpKSkpKSkpKSkpKSkpKSkpKSkpKSkpKSkpKSkpKSkpKSkpKSkpKSkpKSkpKSkpKSkpKSkpKSkpKSkpKSkpKSkpKSkpKSkpKSkpKSkpKSkpKSkpKSkpKSkpKSkpKSkpKSkpKSkpKSkpKSkpKSkpKSkpKSkpKSkpKSkpKSkpKSk5B8qWmsiAhBFkVJKCCGllFICqNVqAOI4Hj2KVYio+KuSkpJnRKVSEUJgVWMAiEhrXWxIKaMoKvYrpSYnJ0sRfuOhNroB3+wMBoNiI01TY0wURb1ez1oLIIqiNE299+Pj469+9avr9fqXv/zlxcXFDW1vyfpTivCKQGttrVVKdbtdY4zWOoqixcXFmZmZd7zjHVu3bj116tTnP//5Q4cObXRLS0q+QSncy2J75H++8Y1vPHz48Pnz53/jN36jWq0CaLVapTtaUvKsUHQCAUxOTgLYvHnzxz72MWZO0/Rf/st/edttt1Wr1ampKZSBmW9ExEY34Judwu6FEIrAzMLCwoEDB/7sz/7sNa95DYDf/u3f7na7e/bsufHGG2+++eYNbmvJs0PZJ9xgsiyL47gIwADYtGnThz/84T179vT7/eFweMcdd/R6vXPnzs3MzNx+++2f//znO53ORje5ZJ0p/ZnLBBExMwApJTMLIZjZey8EQgARmHH11fsPHjwIwHt/7733nj9//vjx41/72tfuvvvuhx8+VLznaXzvU+7n1c9SSnnvi6dCiBDC0/6NJU+P0hJeJkYXfWHxCv+TiJxzWktr/d69uz/96U8DOH369Fe+8pVOp2OtnZ2dPXz48NjY2NTURK/X897nuVuX9iilnHMAiscnNLLkclL2CS8fzWZzFPksXNBCANb6nTu333XXXdPT01mWfe5znzt48GClUllaWup2u4cOHXrkkUfm5xeGw2y9FAigUqkkSTJ6WgR7ShFuCKUlvEwQUbvdBlBc62maAmg0Gp1OZ3Z2+qGHHipUd+LEiSRJpJTT09MHDx48e/bs8ePHl5aWmSElMfN6eYtxHMdxbIzp9/vFvaB0RDeK0hJeJkY2MIQwMjidTmf37qu++MUvVioVAGfOnDHG1Gq166+/vtvt1uv1EydO9Hq9Wq1qjBJCrKNM0jQloiRJkiQpu4IbS2kJLxNpmiZJMhwOseqLApiYmPiTP/mTnTt3djqdCxcuCCGazabWWil1xx13xHF86tSpbrfLzOvoiBZ0Oh3nXBzHQgillLW29EU3itISXj4K4UVRVMyQ2Ldv31/91V/dcMMNw+Hw0KFD1tp+v8/M+/btW1pauu+++z75yU8+/PDD4+PjIwVWq8nf9QX/HxkOh/1+P4QQRZExphz63yhKEV4mjDHMLKUMIfT7/Xq9/iM/8iPF+Pvhw4fPnDkjpbz++uvzPL/77ruLMMnDDz/carXe/OY379mzq5Bfvz9cr/YUuQF5njNzka1ainCjKEV4mcjzHMDY2FgxQ+Knf/qnf/InfxLAAw88UJi7rVu39nq93bt333nnnX/0R3/08MMPX3vttc65N7/5zd77InbyNGTCfydCiMFg0G63n/vc5xZzFwspjgRZTLMyxqzXcSh5MqUILxOFyzc/Pw/gXe9614/+6I8W+ycnJ6emprZs2WKt/T//5/98/vOf997ff//9J06ceOCBB5aWlr7v+77v+PGTxXDCOvbasiyrVCre+2az6Zx76KGHxsbGsDpUqNRKsKAI2KwdSywp+YcKERXJ2fv27VtcXGTmfr+/uLi4tLRw5MihEyeOfeITH3vJS178Ez/xL9/5zh8D8JKXvDiKdBRpAHFshACAJInWqz1RFBUh2YKbbrrp+c9//p49e4qnxpjCBpZcBsoDfZlg5vn5+fHx8R/90R8tbE6e5/fcc8973/tea+3WrVv37dt3++23b926tbBCX/ziF7PMZpkt3hkCokgPh9l6tcd7PxgMihlSe/fuPXDgwMWLFycmJprNZvGNZRfxslGK8DJRSOuNb3zjT/zETxR7oij65V/+5U984hPGGCllq9V62cte1uv1HnrooVar4T3v3Lk9jg2AYgyv6EyuF4WH2e/3q9Wq1vqee+45c+bM8vLy2NhYYSG996UxLPmGgoi2b9/+xS9+kZmHw+FwOMyy7Nprr/3P//k/MfvBoPfAA1/9kz/5o9e//nXNZr1aTRqNWvGHQjzmha6vKIoAqZQySRKtdb1eb7Va+/fv3759ezGIopR6Qpym5NmgvNVdJpj5Z37mZ2655RYAc3NzZ86cCSH84i/+4lvf+tYsy4rRi8XFxWazuXfv3n5/WOR5ay1DwHCYKSWK7XXEWmuMKTJ4arVaFEV5ng+Hw9nZ2WICcQihnD1c8o1DMWuBmY8dO8bMR44cOXz4MDMz+3vu+dLXvvY3v/M7/+3mm2965Stf/n3f9/biT+r1qlKPu0tqLderPVLKUZ3FQnIAdu3aNTEx8drXvvbaa68dNXtt6Y2Skn9IaC2NUQCKx9/4jV9j9sy+01k+duzo2bOnL148X+xh9i996a1RpP/pP/0nd955x6te9QoARCBCtZpISVhX+a1lNBTx2DZh05bZt373W7Zs2wwBE2sQosSA8NT/SkquNNaqpQirALjuumsKsV28eH5+/tLc3MXDhx9ZXl4seoNzcxf/+T9/x7/6Vz9++PAj73////Pk3LSiK1gMV6wXRa+vqG1TbBeDFkk13nHV9u07t73+jd9SKDCuRH+rAksRrgdlAvc645wHEEU6y2ya5sWE3X/+z/958aoxpsgUm5iYqFarp0+fPnv2bJZlt91228zMzN69ex944IF+f1ipxINBKiV5z1iNjnrvn97k+qdESum9L3qeQohicr1SKkqMtXZ+fn7fvn07d+48fOhIketT8uxRBmbWmUIkozwvItqzZ1eRH+Ocq1QqWZYRUbPZ/IM/+IM3v/nNBw8evOOOO7Zt23bNNdcAOHDgQLWaFApcrYRfAUAE50IUrVv62GoeHI22nXPD4dBau7i4OD4+/vDDD+/fv58EgufS4j2rlJbwWaHb7QOQkvLc/at/9a8AMPPc3JxSqlqtjo+P9/v9j3/842NjYy960Yvm5uaklPfee+8999wjhLjqqqsWFxfPnbvA7LZu3XzmzDkAWqs8d2m6bkYphKCUGh8fn5ubY+ZCjYVhdM557y9dutRut6enp9vtdpquW5JAyZMpLeGzBRGUUnFs3vGOdxR7Jicn4ziWUg6Hwy984Qvdbvfd7373YDC47bbbjDGf/vSnf+d3fuehhx6an58/d+6CENizZ8/rX//6opOZ5259+4QAkiQZHx8vslKLeRvGmF6vp7XudrtSyvPnz998883pMBOiNIXPIqUI1x+tZdF5s9b+4A/+YLFzcXExTdPBYJDneZ7nO3bseOc733nbbbctLS296EUv+vCHP/zrv/7r/X7/a1/72vLyMlZrcrfb7VHayrpnUWdZVvifRFRMrmdmZ30xbjkzM1OM4DdbjeDL+b4l/3BQShRjEgXnzp0p4qLLy4sLC3NLSwvDYf/ChXMXL57vdtuf/OQn/u//++eZ/WtfezuAH/mRHy5Co0U/cC3GqPUdqxtFRAEQ0aj6RrVegQAIO3ft2LZj6559u9/63W8po6PPKqUlXGecC9Y6KSmOzctfftumTZuK6GIxgT3LsizL+v2+1rpWq91zzz179+695ZZbPvGJT3zHd3zbr/3arxWz70dLNY3Ic7e+1SeKOUpFlIiIRjVm+v0BGAAKv3Q4HGqto9gUehNydZ6hLPVXcsVjjPrjP/5fhRn867/+q8997q7hsD8/f+n06ZMHDz746KNHmH2/3/3CFz6XJNFLXvLi5z3vhj/5kz+q1So/9VM/MT7eerabV1hCrMkLlVJOTEyYWAtFJKGMnJgaV0YeuGb/gWv2F3ZPR6rYkFqAQM9KBsE3HaUlfLa4+uqr3/zmNxfbBw8eLIqIKqXq9fpoIp9S6vd+7/eGw+wDH/jAhQsXfvRHf/Rd73rXDTfcsLi4/Gw3r8hWXbsnSZL9+/fnmQ2etdYhBGtto9Ho9/vPe97zAEi1kr9GYmXu72gdm5KSK4jCrigl3ve+Xx5lpX3sYx+9cOHc4uJ8v9+dm7v4hS987syZU0VHEcDNN9905sypIj2N2V9zzYHLM4VolLNWbIyNjd1+++1Fh9DEukiXaY03m2ONl9x268TUuFBUmEGSGL3tcjT0G53SEq4zUq6sff093/M9AEII7Xb7lltuaTQa1trl5eVutzs+Pj49PX3PPff8+3//71utxtve9rZ//+//vfc8OTk+Pz9/7ty50dLZzyprpwsKIdI0PXPmTNEhzDNbtKGYSLG4uLh3797inSTAAcXb1neKY0nJ+lDMe3j+828sbGC32+73u9ZmFy6cW1iYO3Lk0EMPPTAc9tvtpW//9n8M4H/8j9979NEjmzbNAJidnX7b2777da977eVp6lpnsvAzpZQrho7QHGsU/6ZmJl906y3f8eZvL5JIV+yhWHlbyTOnzJhZZ5wLAH7oh35otKcoel+MhlerVedcu92O4/iWW2554QtfeM0111QqlfPnL27ePHvrrbf+6Z/+6djYWLFU07NNkR/zhD1Sr9QCbrc7hVX3PkRRtHXr1nq9ng6zEIq1pQQAX9btXg9Kd3T9UUoUImy321EU9Xq9Ihnl9OnTxUDFI488cuLEiampqRe+8IW///u//7GPfWz//r3vec97vPfDYXbhwoXLcG2PSt8XWQFKqSiKhBDehSzLx8bGwAghbN68eXp6yjmXZVm1Wk0qceGIjibdlzxzShE+TZ58CRalYkD47rd9TxTHDHgOQkllNBPSPNORCeAoiecW5g8dOTy7edO9933l277jTb/ya7++dfuOa69/zkf+6qMQFBhSq2d7cHw0MFgkylhrsywLISgtibAwv5hUYg64dOmSUkpKeejQoTe96U3DQSokCUnWWmefaEhLnh6lCJ8ma8vjFtt5nnvvSeAtb3lL8VKtVsuyTCnV6/X6/f7ExESaphcvXrzhhhs2bdr06KOP9vv9qamp48ePf/KOOz7+8Y9fddVVYCYh/MbV+XTWF1kBw0EKwDmntW42m4WPCkKRwlYuXLGOlCJ8moyuQiJaO+AWx/Hrv+X1ALI8k1I++uijeZ5rrScnJ4vUmX6/f+rUqSJHdHl5+cEHH/yFX/iFF99665/+6Z8y88TkJIegNnb8jQGABGY3zTDz4uJiu90u1jNttZoAVtaVIlB5+awH5VF8mqxdeXcU4TDG3HDDDcW2EKLT6dx3330XLlwAcOHChTRNJycnd+3atbi4+Od//uf33XffwYMHP/3pT2dZJqV8+ctfvm/fviLo7zYu9C+VAKCNmpiY2Lt3b71eB1Cv1733Sqndu3eDAAYYRQmojWrnNxJldPTpM1pxerSd5/mb3vSmYo9WOs/zOI6L3OitW7d2Op1Op7N92/Ybbrjhjjs+CcYLbr7poYce8t4fOnRocnLyzJkznXZbSBmeFLe8bHgXABBRt9vtdrt5nhedxhCCMebqq69+4IEH8mzlHlE6petCaQmfPiM7oLUeDXx/+7d/++gNURTdcsst27dvZ+aFhYUiWArgS1/6EoBrrr36Na95zZkzZ+I4/q7v+q6HH374+PHjZnXhtA2EBPLcZmm+tLRUqVSY+eLFi1JKZt60adPoVzMzlyMU60FpCdeHor+3ZcuWq3ZeVezp9XsAZmdnnXODwUAIsby8nOf5V7/61U6n8xd/8eda68985jM7duz40Ic+9MY3vhFAe3kZQJwkG5mHUkiMV/zSVqtVdGijKOr3+61WyzlXJM2UClwvShE+fWiVoiNXqVSuv/56AM67LMva7XZhIXu9njGm0+m0Wq3x8fEzZ85Yax999NG77757YmJCKTUzM/Pggw+ePn26+NgN9vH4sVpSJ0+cApBU4uc///ntdrvf78dx7F3QRtli3VJaieKUPBNKd/RpQkRF3TQhRDEjYTAYfN/3fR+Ac+fOee8bjUZR0SyKIqXUxMRECOHYsWP33HPP9ddf/8M//MMf/ehH77rrrje+8Y2Li4tjY2P9Xu/v+b1Pybr+NpBY6Rw2mvUtW7acO3fu2LFjN9100+bNm1/28tts7lYGLUsFrgelCJ8mI3tVbBSPs7OzAKanp4tpslEUhRCyLEvT1Dk3NzcH4BWveMWv/dqvfexjH/vX//pf/8AP/MBdd901Pz8/OzvbGhsDUKlWszStVKsb9sMAMKSUSsti5m632z1+/Pi5s+f/+3//7+12O0mSQn5JEqtnpyTxNxulCJ8pRepJCKHZbBbr+8VR7L0nImbOsqzZbG7etFkpVaw39rnPfW5qaqrT6czNzVWr1SNHjnznd37n4cOH6/V6rV4f9PtK60G/v7E/yjnvrC/G5a21vV4vis3i4mKlUhkfHy8SR4eDtEyaWRdKET5NinBo4YsWe2ZmZrZt21ZsW2uVUoPBwHtfSSrFO6+++upLly4Vax49+uijt9122//5P/+n0+nMzMwcP358fn4+y7I4STZwkLCg0axXqyvTjtM0bbfbznpr7a233lqknjOziTSA0hKuC6UInybFQMLaKXkjBTq/Ule3WO3oxMkT//P3/+f8/PzExMTi4uJVV1119dVXb9my5ed+7uee85znJEnyuc997sL58zt27LB5ng6HJIRUGxkwq9VqjUbDRDpOImYuOofB86233nrw4MGpqangeTWpoLSE60ApwmdEYQaLuMhorWkAWmvvfbVabTVbH/7wh3/sx35sYWHhK1/5yste9rKidNJLXvKSbrdbrMv5hje8AcAjDz8cxbGQkkPYwNzRSjWpVCrFVMM8z51zQlKz1RCSlFLz8/M333zz1PRkOT6xjpQifJoUuTJFwhoRaa2vumplhJCZi5BMpVJx3t13333D4XB5eVlrffToUWauVqu/9Vu/9aY3vekLX/jCt37rt/71X/81iPbs3ZulafC+Uq1uoCUcDIYnTpw4e/ZsUWxmYmLixhtvvOmmm4Lnj3/842maTkxMFEupSVVePOtDeRyfJmtH8woRFpemdTbP82JqhRSy0+lYa9/2trfdcMMNxThhFEUnTpyw1p45c+b06dPHjh3bsmVLo9E4euSIVCqK40G/HzZusmytVnXWhxAKjSml4jjOsmz/gX3D4fDGG2+cmprasWPHRjXvG5JysP7pU/T6AIQQhsNhUYVFIpIQNvVEqr28HDj7tV//f7SO0tybuDa/2MmDf+jwQ0Li3KUL+67d/+ih5fp4+8ZbDnzmU3eH2GVDDxMzByhHHEQAe1AxrYFABCt5ZYBOFDMMaaW2VL56U3j82B15AYBAAHjNa1JIIYRzrtgphQTgg88yayLt4b0nkKK4cmr+bGssaW2qPnz84ZteeNPYWPMVL3vxXXf+dTYMBihXbHrmlJbw6bN2NtNoxJwEQIHhmD0oEEmljJJaKSUEdu7cPjMzc9ttL4ujyqPHjly8dO7IkcOPHDyYmGT3gRkwwAzvgCC0EEpILWQEEYFiwAAGKCqdKUACkkgJkiSlgASKoi/isdSzQnYMMCGAV7YBBgLYc2BaeeqCd8EzYPN8dsvmlSAThWI+5J49e2u1WqvVuuuuz126dGnP3r1pCgDV2rqtEvXNTCnCZ0ohv7VrSjNbRhY4Yw5CCCW1MfFwOMzyYbvd7nb7tWrjwoWLxphqNSLYfrezPL8wMz4rCTBS1WIZK6mlNJqNoERSBVQBauCKhAYMwQgYSUZKLZSRwghoQK9R6egfBVCAYAhe2aYACgHeB8sUilK/o/3VWm3Hjh3Ly8vwvjo25r3fv+9AJaktLi/v3r3381/4wgd+94MLCwtSo9mKOr3SEK4DpTu6bqyK0JEIjJzhQYJghFBS6s2zm7/24Nf+8A//8NrrniOl1lpv3Tr70MGv7dlxtePe8mK71qpSALynyClDzGBmkGLpSBMJeIjgBdIwsrxydUOAAglmhucggQB4oOhXEiDACGDAr+6RADMCIFhoCoG5UJNAv9d79NEjy4ttXdHbtm3pdHrOhbvv/rL3vtPq+swuLi5GSQyBdi8TCn7D4rjfOJQifKYw86hnCIBEADkiXhO5EcUCgOfOnfvMZz6jdDQ21pyYbHX7c2lmv+sHvqPTX/yP//U3HAMaYHjKrGdjjGcJwRQRDLHkwIATAmJtyqjAihsshWRm+EAheL8qQgZBFm8IIRQl3EhKKWUIITgHIjJSQgbKEABJmzdtXVy8JGPYoZ2fv1StN5aWlrZu3X7y5MmHHnx4csvm3Xv2XH3dtfv273nwa0elKPNH14FShE+ftYEZjIYr4IUAEQkhQ0Bgb20mhDBRfOuLX/qDP/iDDx584IGH7m22KsO0PTVV98pF9cgxIGAaOrfWNKQPgYHAxAIyIqoKUoAjOGIPBhfhGCVWS2IzpJYUOASCR6HDokSvCKt+cgAzFYXVlFLee2vBzCxZCKG08d5zCIO0L5RQJDwHppBl2eLi8vh4y+ah0+lt27bj0qVLx44dg1Qk4H0pwnWgFOG6sVrkIhCRECp4gL33PvgMEDqK67X6m9/0loWluaPHHsxyX6slrbHaB//s92a3zE7unjSVxJG7dOk8VUQlTvq9nJkgJCosqsyK4QSs5DQHEQiCEIiJIIpYqRAIjKJn5wmhmBAPCivRU8EEkBDCGK21zvMcjq21np3Q2ijtvciyDEStVnO5vbB5atI7CWBsbMxaPxxm0zObbrrppttvv33b9s1zc3PMgJCXo0DqNzqlCJ8mT549NKo0QyQFCQj2HiE4DgGwBOQ2tJqNt739rSbJ/vwv/pjIO5dezLqnHz7fmBivTdd91otlTcU0zDIXERiQ4JgoBmkBSyBABRCYyK2Z1SSJSBICc+CVvl8AAggIHmuNFUlCJKAFpIATgRg+eMM6lnCMwCYyvaybNGIZy3OPnJ/askUbw0zPf/7zlYw77V6nPyCiTrcfV5O0V5bBXwfK6OjTpJhJCKDRaAAQQhQFnaz33lGWOmeDd6yVaTabRQdxMOgB2DKzac+e3f1++7X/6DUnTi5N79uMOuUVv+y7eYyZPZu7edeMRfFkoscqSGTgLB3aNM+VEfF4ozLViMaqppmYZkyxCMKxQdKqxM1EVTUictLnyjvFiElUpKpqikXQHKQPmtnASZ+TRUQZZ6KiVDNOWhVTj4Jm1YwvLV+gCEM3HGa9ynSln/aty+7/6n27du0a9geHDh2anpgsKjWm/SEuz8o13+iUlvDp81jAAyCiLMsAcFBSyCgiKaVzbpAOz5w5d/jw0ZlNW5534w3WD5TEG17zhkOHH/jEHX+1dWt8dPEs6tTc0tKRWuwuD6SINzVqzWa3nXMmkFt4goaIII0UipNmdTgcpmkavIeGiCKtNWuRex80ACGkQghc9CoJJHglWAohpRRSMLEnL6VEgIqU1prBnbTjQ0axnt42aV26d+9V589cGiz2anGc1JLp6em77777da95g02zWq2Wpd0if6D0RdeF8k72NBmVYypEKKXsdDoAjK4QSedcCEFKORxmjzx89BMf/+RrXvPqdneh3W7nIQf0T/7zd/3UT75LKYOQxq0EJkfsTF0m40ljeqwfsqSVmLrWVaNqianqqBJrI4WAqGhZNZQoREJVTNKs6mpkyWdsgwgUS5EolWiZaBgRJMuKkhWlqlrXjK4ZkcigOScbNFMidc1Uxqq6ZrwKiKBrxhsftAsG3bwP5qQRd/vdzZtnGo1atZYAyIbpcDjsdZalRFlnZl0oLeHTpKgCiNXlwYQQCwsLALxDnue5TaVC4Yvu27cvt+nn7/5snmdZlqVzw8nJ8UhGr37pt7SXfwgI1c2KQ88FrSMiGaJqlIZcGqWlZ60QIqk0CfZWeOeHyKQRiUysVUIIoZS3LrM2wEFpKYWEYGYBwDmX50EHZhZULEgjQgg+9yHkVgiKiWISiTCxqcmacy6Kojg1xPLi0kURUTweR4k5e+FsZeeuQad/zxe/sHf3gRue85wjRw8uzHXjWEqiPC91+EwpRfg0GXmh1tqiHOD58+cBSAljjHXauXwwGAQWO3Zu27J10xv+8RtOnjx+/PhxCLr55pujagRgy+bd5w8eGYuVrpOqmYzR95mHTKoVgAWEEZpAJAJ753ywbMEySRIlDDKZ53kIHgTSCgQVGaUUMwuQEEI6R1rlLpVSKqW00cWr0kprFTNHKiJFXvgoisZqYyGEPM+1FpfOLyiozTu2hqGiXO3ecZXP8nq9urS0MDs1OTUxeexRSUCW+nJ4Yl0o3dFnROGUFlI8efIkABBCcAAbY+r1aq2ehJAvLS0sLi7muTuw/7p06D7x8U8NMgtEv/1b//MtP/yaFz/nuQks8k4tks1qJdKamaUkZUjHUsWR0pqUJilICB0ZkgKCvIAjzr3zAiqJdBypOJKREUoJo00lSeq1pF6DhDAyqsZJvZLUK5VGtTHeHJ+eqDSqtVZdxRqKoEgnptKomko0s3VSV9TW3Vsb400WYam9uGPXjlOnThLCieOPzs3NHXr4cLfdMRKCy6tnfSgt4dOkGKkvCm8XrumpU6cGg0GlYoSE995aimOT58PDhw9/+tOf+77v/6eN+vjycmd5qed8fuTw8ede/9zrDrzgd977nz7y+T+aXzzUCT0RyWZ1rO/EfGc5kHMhsCPvPQfBQpBWWkhB2jMTB6mlIWOt5cABgRVBkkdw3kpII4ySCgIVrsRxnCSJMWaU3ENEEKy1znMSQkCwCzapxlHS2jwzu+/AHjd0h792vFKrjdenkiSqN5IoUo1G43k33gigu9yOI9F3wWgMykGKZ0wpwqdJEfwsVnsvruyFhYVut2uimpS6EKcPFCemUo2LLLZWc6LXHTLztddeOxikWe6NkRHEpsmJW1/wPF+lM4v9uQHCMJh0YEEI1gHMIXhmQCmltfRuJQwbx3GUJOlgMBgMfJ4JqTwH9iG1uQxSh5VK3tVmNY7jYu3rPM+ttSuDKwosGQrKKO995rOmaTYaDRWp7/jOb//In3300ePHGmZq0/bNn//i5/r9/tiuMTfA1NTUl7/85U998qP9fgDgyuoW60EpwqfJ2pn1Rf+w3W4fPXp0YuKFHES10hoMBjbjPA9TE9tf9cp/xLBL7XODdGHfgW0+DOYX5s5dGNu+fbvE7pfv2/HiLQcOn/rVSxNfeOT08MTw2vtNfEFlg8xWl8dkr5WKhbY/7rMsymvDECCZmQdZRgwhRK0ZK1JZlgXnTWxa401vQ6fT6fV6cRzXtep61c7QcnbcsZSVXlQdGJnojDtzWvikPpH2Uu6dvWrQ3xWb73r5rF/6jzJ86cCrJEf19qAN3xtr5Ne8YOpEU19Kz7/w5S/47d/5TQcgITAj3djz8I1AKcKnyaii4ehpCOG+++679dZbnXPF4jDOOWWkUmpycjJNU2aenZ09euyo9/7uu++enJxstVr1RqaITG37vu3/uNGNe/6LeW9xKWn6QWvJmxBbKbvSe7KTiIQMMadt732WZXmee8crKTOKKpUKhyBIAQjsilio1rpr570dk1TPROipvqLUs1eualQST+4C5UZmU/Fwx87ZW6+++aqZfS31sbNL89fu2lTdOvXgo3Jusf+CF968szVx8O7DsZk4d/EsWf/IIw9LgKCcL53RdaAU4dOkEOGoDkXhnX7iE5945zvfWSwlbYwBEIIv1jaywQohpqenG43G2bNnt23bVqlUHnnkkYk9+fbGTE01Te2l22uz/ZDR/Bdz6QbDhqexrl6GXJA2j0M1hAop3TBsrS0GG2zICUIIobTgQFIpDpRlWZ5loKCUEkL084FxiUHsIteJcq0RQ0Yu0mxq49NCDOrh4v5W4yUHrn7e9bcn5prBAx+LbX7jrs1xr3pxftiIZm+86Xm9M/PVseaerQd0JOaWLszNL0vAD+06rhz8zUwpwqdJMTtp9Fh0C7/85S8Xr3rvi3JPTKHX60kp2722lHJpaalWq33+859/y1veYq295557Zh1drOkX7LquVtsD7N23+VtF6KT9hxfjudw3XJC5jxnMDs6LACmlIKGZEwC5UsxsdKS1ttZqZUII1gUhhDHGGENEykcxh5jSELGNNGmtXRJ5TZTlmI9Cf2s9fsW+G1989Q1VM3Z2eLyp5XQ1aodunKfTlZhbzV6vc//XvjZdmxlmvcWLc3VdA0EwACFklLvhBp6FbwxKET5NRqFRIcRondBLly7Nz89PTk4aY7rdbgiBKRSrFDabTa21UiqpJo888oi19qGHHhJCPPzohZN8Mh8ced7Vt001XyjplfsnRdb90HLnfieJaWfb7rCmm0ddm3p2aqlrASgtE4qN1ivDlaBKpaKlKgxz0F5rLYTy3tejyVjnSuZZbISuK4pBhqW0vk+98zXZ2bP1RTfteE2rsneQPrh47hOb6/UsXTw7f7ympmdqtWMXLn3l0CXYoCWdOfVoZ6HbiOrKQLPKMrIbV5rxG4lypOcZ8YS1BEMIH/zgB4ttrbUxRkpZq9XGx8eJqDCPSqn9+/cfPHjwvvvui+O406PTc8sPnvzK5x7847NLX4XfAv3Gqzd9y5Yq7age2yTnGqgoNSkTHVdRS1DMjyBipVQUGWO0ECIER8Tee2uzEFyR1OpcnqaDmmroiuGqkKYSUd2wIQmnyIOrrr/d9K6bHp+euAZ2U94eTIoz3XwgFBvkrQizzUoE7i4uV5PKw1978PiRQ3bY++p9X7EWg9yRUlyO1q8HpQifPsWMPe/9Win+0R/9UbERx3Gxwqa1tt/vF8OJg8FgaWnpla98ZafTEUKcPn26XhvTldkFa770yFc+9qU/PLfwIDCmmy+5aux5BxqVXcncpJo3cIwKKR0pPzY2VqvVtNZSkpSklJJSEMFaOxj0+v2utVYIrL4qtJHCJMI0tWokIkoMRBwoVmNJY2995vnTW6/ePAMZhu15213eFEXLdjjkvNVqyADkrllrbt2yRRIRXKtR233VzjNnzoHAgPUOVOasrQOlO/o0KZY9K7aLierF9le/+tViYzgcJkkipSz6Zmma1uv1ubm5br8rpSwWV/nCF77wrc/7TpgtOflHTj5yof3Zqdn9E9PNCFN7Zr6rKqp57/4BHx3k27wf9z42leFkdbzf73c6nSzzgCBiZkFBAbAIIQRjVLWWJHEVgPd+mHsSiZLCECkKQmmSkPBbErG/1do3vm2muQ3od4ens945bSpRvdppn4uq1bzDFy+2l7qViZkd6WKPKaTDQZ67S2cZAnCCRLlU7/pQWsKniV+zrPxooKLY/vSnPw2g2WweO3asUqmcO3duemo6SZL5+fnPfvazZ8+eLWI5t912W6PRyAfpX37kz04uLYuxXd2o8enDH/3Ukf9/jq4e/0fbN/3wjduft3+yvTk+0aK+JpGGPM0GQqLeqDabzUo1NpHSWkexFhLVanVsvFWrVwHkNnU+J8GoJEm91ayYVtW36kqpmqTaTNVur517/q7mS1/wRtO6GXlH4YiS57vtfmcwiOqt5b7vZ6o5vk3q2ufuvudjn/7EublzO3bv+sIX7wUAC0DKUW3FkmdGKcJ1plqt/q//9b+K7U9/+tNf+tKXrrvuuv/yX/9LtVrtdDp79uwJIXzyk5/cv3//tm3b3vve9x7+myMLS2eOnnvodC9bCOOnh4OH5+65ODiI0IR+2eax114zu+P6qd6esbnxaiaTpBgX8d77YENwRQULIYouqDJGGWO0VlKuFGHMhA+wivJI5kaJSNfqRs4mi1fPLO+arUTVfRhu7i/1QnZEqrMh9kvdzlJnsNR1cx0+ca5z9OSFxeVlZj82OXZpYXF5eYgAsAYEsy9FuC6UIlxnrLV/+Zd/OXqapqkQ4ld/9Vc/+9nPbtq06dZbb+10Os65er1+6NCh/Xv2t+eXtRJnL52aS7uLLj69SA8fP3qx8wDUeVAdrTccmH7ttVOVveNHp6tzWtWUkiOBEZEQUEporaNIay211koJKYuKalJKCaQQGQmvSBmhGjqfri5tqS/u3VTbMrkHZmdvINq9OecveG538mVokUPmspKLenvIy92hlHJmemLHti3nz5xfmO+AARhAeC4zuNeHsk+4zuR5fuHChYMHD15zzTW333771Mzk3Nzcnj177r333l27dnW7XQCveMUrLl26tLy8bIPdtqU5p/Y+4k7kXnRsLx3ml4Ttp+cHgy9WzBTyrcK8bEr/1bQ+1ZJna24fVRPnXJoKAMQQgpghGN77wPDehRAEpJSQUkkpEmeVJJKGqFJRIpaXpmqnZ+v5ZH1fpK+Hq3eGZ1J/saKDc2gvd/ui33fdxVxc7MQXF3vLSz1yrppUW0nj3OkLneUcFGGlxlt5D18fyqO4/sRx/Ou//usAdu/eXa/V8zz/qZ/6qWuuuaZYrGL37t1zc3PFuMUv/uIvTs3qerTZuJ0ij4JbDs7arDJI+/PdLyHcDwLsPs27q4QJLM+GfryCMUYVA49SisIyMrxzzlprXeaDJSIpZUsntTgx1aap1WtV3lS/tK25sLnRqpkbQNex06m/mFLPU1WK8VhWQ5oOur12Z7DUG7aHOYBYCQleuDh/8VyKtCj0/8SxmZJnQinCdaZSqQwGgz/8wz8snnZ7XWPMtddeu2fPnuXl5V6v98IXvnB+fr7VajUajVOnTnUHneWlIYax76RxcJpFOqwsLrt2//igdzfoIlRTJC+oRNumFe0xx4WEEEIppbXWRipdVI5ZqSYq1eqSGERFWfuGrNR1K4mbppLUam6y1t9WU5sb2+u16xFv8zohrRiVjCeUmZgem9jeaM42x5v1pooTFZvmRHNycjyO4wcPPpINAQK8J7AoFrgohwnXg1KE68xgMADQ6XTuuOMOAFEUFdkz3vt2uy2EOHr06NTUVL1e37lz55YtWwYD2ekva9Vz7UstqiR+vN8z84u+1+sOuwfhD6JmKhMvrdVfMRtXd8dfA0CCpSJjTGEToyiKoihOoiRJKpVKpRonSVLkr4YQhCfljAoVISFMVoswpetT8aZ6fYZFzDKuJFuSZDcwDTbG8LSpTFfqjaRqrV3qLacu9yIM0uHJM+2oBapHIAg4ESwFQpkwsx6UIlxnVt3F+D/8h/8AwGgzGAw6nc7+/fuXl5cBnDx58ju+4zvm5uaKwIlSEyaiSq0f8uU6VVVoDXu63+c8dXk6Bz4PYaPkQJJcX1d6wgBYsYQmUlEUxXEcJ6aQYpEeUK1W49gUS+2GEFye+oxDJoMHw0niWESJqprEWPgcZKJNzeruSI/n1g2G7TFlJiv1epJ4b7uDbpoPc28HedbPMDm7aWxiQhpJCATWECiHCdeDMjCzzqR5miTxcJB+6jN3njx9Yvu27du2bbv//vtDCPVKnZmjrVHWyyabk9fuu3Z2YvbHf+Zf1lX9X/+Tt+95/Vve/We/NDc1PqxN/ckpirdv8dyXvYNT7rmqeu22ie/rLj2Sq9+7tXPHoD+V2109W58ftnucDdh0cxnX6tbP59kykYnEhAoV8pn33VCthEYtKM/5oAEYS/3BoDFWB4SxiRgCXRGyS1qcympzfVpif+lCr9LhzUGw4EGc6JzNVw8dlLPi0uCCDwiGMJSMADgtYEsdPmNKS7je8Er9NSnlv/t3/w4AgcbHxzdv3nz69GnnXLfbnZiYKFbqHR8fR8D+/fsGua3UpjsdECutKAScu9hZHtiMekN/BoGlrM+MX1dLrptpdceqndgsG5Uao0ylmjQqtboWKjM6xEpQ8Fk+SF0fxidjsWIn8m4jGs5M5GPNMDYx26w/zw72w+3LB7KfuiEfT3EstfNhmMTpnjwklivnz7eXFnvN5hhJdWluzocQAFJQRopYCaMK6ZVlR9eFUoTrDcFZr7R0zv3Ob3/gM3d9BsCBAwc+9alP3XzzzWmazszMLC4uSinPnDlz+PDh62+5YedVW71UO69+fmaj7lKvZuTSYvvkme655UGHFwbhcD44Dp9MT71savx1O5puJm5X5bxCR2kRR/UkrseVREtKhEpUHKlIEiC8VbCSNo0nCWyNhhV53g4fVaRmp17ZrP9jhK1B5D2+p0+fGqqveHkxkkldbh/QTDevnzrX7/XCxORmIfWFhTkvhPUBgNTCVIyqKqkVE0I5WL8elCJcZ6LIoJho7xnAz//8zwcOU5NTr371qweDgTFm//79b3/72xcWFopZv//5fe/vdZf/919/+NFzcy+57VumxzYpYufC4kCcXs7PD86n6oQPJxCAsG9q7Ftn1FhLygp3DS9pHhoo4SKk2riads0ojNXNeLM5FteqltBOvc37EdFkpVoVeXu+O+zZyeaNiHfZzqBt71ymP57Dh5dwMJXtPi8tDk7Mu8lzy1G7H5toopI0XUDmg9ACOXLPQbKIhEwkYoIElyJcD0oRrjOFL2pzB8BE+jOfvuu//Jf/AsAY0+/3JycnFxYWPvOZz9x7771JktRqtYlqK806jx49+69//me8MOOt8UQiBOdU5UzHn1hYGmIh0Bl0z8FXST1/TD6/obY0jGvEF1rRhaZYqPt+nFqTCpPVojAWq3qSJHHVmCiBrFlfM1HdZvnS+b5rY1PthfHYPqjltvvoMPrIQH/uUnp8IXe9qNpJhqf50KOL1UfOI8dElEwvt4ftblcZCSJYwIHhWHln2GsEVeaOrg9lYGadCZ6VloVHmmcWwPvf//6Xv/zl115z7fz8fDGA8cd//Mcf/ehHT58+vX///k/99Z2zszPXvHTrweMPue06jQcT003B1gqxmKrjF9NrJjsTtfOUHa2oCSRRtfq6Ru2LY+FLyC5Ufd9620knK9Z006oV1RwmR3BhKCQnJopMXOHxLD199NGHxyBfe/0/eemN7wDcsPP7w8qdc/mhrx6dP/RwbmS0Z7dtNak/FF85Pjh73ltfsRYnz565NH8JYIaHAgHM7KSzEpABoyWBS54ZpQjXH2c9igUD4eMkOnH85C/+4i/+4R/8YaPRiOP4/vvv37Nnz+te97qiVMzCxeV6ozrpalubE0zp/MX5zA5b482lwaJM9Nk5Pnaqv2nHOWOOebdVZLtU/dVx5lp0xmQXJnw/4Mwwb0/qaK7fXB5uWsqaHNiz52DhnPe2y35x/ij3uq9+8Zvf+vp3I+jupT/98vFfdpNnHrkgP/v5+P6/YWXm913NY9NxlslL7bbLpAi81J47c+ZMf9CDgSIhq4gCyFPOAcKBynH6daMU4TqjjSp80Ty3oJXKiH/0v/74uuuue8+/fU+n27nmmmsAbNu27e67737hC194519//HnPv+nRux7y/a7P4ump2Z7reMqXe51mvK3dqZ29yO2p5an6eVLnBsPxqP4cGS1E6phwPYnzWuXOLNelr8fpuSXlMxFCogRyn7d7/WHPuvhC3km31K59+c3frUFL7Ts//9B/dONnT1/wh06Pn5wfm8+9ZIiLVbWkO10ZJflYbcz27PnzF/qdHjzAEAmZqlKOQwbkAAVwAKMcJ1wXyj7hOlMoEAAY4BWrCOBnf+bnBsNBo95oNpvnzp1j5le+8pV/+Zd/2Ryb2LJ1R2JqiUy6C+3F+eUoqS4uz1VrptdNB309t8gD5wItOj6Tp8f7FpF57kT99WP6H8f5S0V3Z5RXZ6vyqnE/ZZYTezZJzzbCcpN6tdCNskWVXpii2re+8AevnrrW4sF7z/ynxcrRntl2rnvdfUfii3k6sacmx9Spufbpi8POAIO2O33i4pmTpwfdASSQABFy9jl7y8xSREkcV2uqUhVSi9IXXQ9KS3iZiJNo06ZNx48fn5qcMs81cRwfPHhwcnKy223ff/8DV205wNXK8qMHe70sncvHZvVg2FFIqKKjJNFJhXQgXia6lA8QmWaz8kIfNqX+mnT4lSDuB50cuqUtDae35/ODbNlmvcybpDImJnZt2X5g9jte/YJvjzD3wPk/e+jM5xetVoP99z7Qd7oum2cG+bm4WTem0ltsD3udTdP75ucvzV+6EJCZSSWb2gZ2/ZyFYsHewaWZ7Tn0ghx6Vdb+XQ9KEV4mnHPpMHv3u9/9X//Lf202mr/7wd+96aabnv/853/uS586+fCp655//Vwn5/6j9Undde2l+XZiSEcRVcZMEhljBEvvssBLnJ8TIoniBo1dH0czvV5zkFadb8Y4Vpv0M1P5/GD5YjsbuBmlb6jE17762u+OkxYwtzT/l4cOfaqXjQ3C9f3FXQudQ5noI5AQOh0O8m47FrR104S9uNS7uBAWMzRQS2pxvdZL085gAJYuOM6d7edoAx1IhwilCNeBUoSXCWf9ps2z/+23fnvLli3vfve7/+f//J9/8Ad/8LM/+7OB7eTkJDt9+sglDKimkuqEubDUy5231Gdqq8gIsi737AYceiZc9FkypFYUN2VzIkmudW0Zuk1CLaJzkKfGIhtNjMWVF0xMvKlRe1FsN8GfmD/2+1858jsLg/OBDswvTZ9ZaAfK24vnjTHVaGpxMK9DNp40TR4ff+TgIAc0kmpFw/ieRyq0Tewgk56QAikhZViolcWyy37hM6UU4WVCSDp/7oLS8n3ve9/evXvf9773vfCFL/zMZz7TnDTTM1MPPvDVtNe95qr9j7QPj28Z15t3uHzYjFW1EZJKZtQwWGJXcxjGweaBMvS9JKOqZMaTxnOMnnFZLbiDLlUS07ONXZMTrzXVF8PPdi59OBs81Ol+dmKqm3p1+nT35LnDJy6I1riOKeS9bLi4rEhPNbdSxx/+2qnBRaCCqK4iGfeX88FgEDIIxEidJ5Bj5IAnCeKVxdHyjT60/+ApRXiZkFIG75z1Xdt7xzve8Zu/+Zvvete7Wq3Wzh3jjxw5/NDBe/fsuermV9z6X//sVL48aGxp1jfNaGSNpqhVglFD2NyHJFDNsxFUDah4qwYi1zqKoplKNEu+xvaqPL2WBFrNXaK6B7nodU72+I89lsam84nmDrs8784vddLucs9UKjMaymZdaW0Sjfcu9ueOz/Uv9CgCFAIoHbp0MMC8Q4ogHaSEZCBQBngwpAfl5Wj9elCK8DLhva/WKv3eYPOWTefOnn/b97z9wx/5y9d/y+vPXzzc7i9u3dGanNGRyXfMzJ5zS5z7SpwE60LwwacUFtnB+oqTE1YoophQA0vhHURgCky60twleDNnN8NpMlW49nDwpYudLyaVk9lgIev3+93h8YVhnlWSSuzQW1hqKzeoCFVp1gft/OyjZ+0FB4lqBUOCDewsIwX6wAAIQWgRpGdiOCAnBrJyVu86UYrwMhE893uD6Zmpc2fPt8aay0vtN77hWz/4e7/7fW9/0/Oe95zl7MwX7v70p+48U03qW8Y39Uw6HA5dNuhJmw2RZ3COXeg6kXsRgmcZpJGRJikpzW03s0qKJFJVKeFyoI8glpbzu3vuLyp+PIS8O5g/Pdc7u1BN4gNbt7bOLhxzWRqsBuTSpaVzJ9rI0Zqpu2EQsk8BICmlISOsapOHDgaBc2KIlQrgxY9iwWWX8JlTinC9kRJOEJSB9sgcMmigCrQAwqUwhyksD9qoAozv///9wOnDn/63P/ufDrz2+Qt/404MD+rEJNOte4/cb6i6bOXRtqvp2rZt49e0Bs304qzRHa8ZGWMuuMRnddimCmBgkLdtLJ2lSlLVFNrLZyiY6cb19fwjS/10oZ/0zbWuOXZhjs6dPone4taJmV5GZx+9tHS+A2Ua400r877oogcTyTETh9QO231YsIILObvCGxUBhfnzIJSGcF0oB+vXHQ/hGc4hYwRIoAY1DiRAFWgAs9C7I707wVaJSbzn/b/7sm95WV9k7/r5d+3euyvvD08+8uimsel6lCghtdYBan6ps9jpW+Y8eBeWhehFlczEDmSdc3lgC0vGQWes0oDchQ44FwIElWntktiaStvyheX+0mBoqvWtO/bMLfbnFvvt3gABpAjkAmcIgIQiFRx7650NsEAYie1JV0vZJVwPSku43ggAARw8CwgWCSXjcTSterIvE6kSHUVJHFdIqHav21laUlv5rge+sv/VN/7Cv/nJH/vJd957392/+d/+67bJmUV0Fgbddp7PL9mzF/3OSqTqY6TIpqeESoxokZgMgZxXDM1IyTgpA0nvg3O2zdTRCrmltmmdGSw9cmlwpifO93g5j+Z7WXs5n1tsp+0he4YGk0uzPpODRCRiBOG9t4M8DBkOCPjbK4yWzug6UIpwvZGrBiMEKFAsUCGukKlE0URUaVZVZKTRQgk/tKFXU7Y2GE/PHj31jn/3r7529rt/8O3f9/3/9IcOn3zEduw0Wm7eDvtLgyEcokE+tN1LMEc410xjUm8V0EKMeWhPgTiVAHPuQz/481IsKZWlaf4359WJpejskOZsZdGGc92l83PdzsUObAxJqESQAVmatz0UoiQRFhyQpzbvW2QryXdSEPsnu56lAteHUoTrTXGt0sq2RxiGbGhTqQVroRJHNakqSiWiQbXYGb9EW7ZtvjBeVd7+9kd//2P3f/qH3v799x26f3bH1ObGtHVZ59J5WFaiDsVaSM/HbA5n6yaySTym9aykWHJkQ0N4J+A5LFGY02Zem3aWzv/Jneczr7xpLuXu0XMXzy52YQGFSgQG2Ct2LrMCvQClOVRcvxds8LlFCjjAQxAUKfuEOUsUSl90vShFuN741U5U8U8gBI8cIQ227/KqH2u0TGxERahYxsJonZHHtBh/+OCDk9dMcD3+4B1/SMO0tq0y29q8E7NLcq6RLLt8edi3cUxKnuHA1lUcFMspoSaFUAIJeaOdFqHnuZOFs0Kec+7s/PLRRy/Ul3v9Ac87gb61sZEqEsIidpSFPBv60BciUyFnDGU+8MgtHMMBDuCiyrYMfnRXKVl/ShGuNx5gULF8piaZxKjAx0PkgAcEKyNDCN1eW+WyWq0I2a1UqjKq7ox2X1q6kIVLV23anFj9wPEHez6dadZ37pjaVHex6UXKJzGy9IIiKUQVwaQD491AmT1KbpG+JjxRuMT+pM2OgE71s9PHTx2tTr62E864/rIQ3KrWiINLMzsc2OWBX/J+Aa4HpAqW4BxCBxxGNxECSVIIITzZDJasH6UI1xktQIE8kweUiZJqlRvUr4LtEBGqjXo1qeXpYHl5SSkhJkJcz+ba55WZ2rxjdm5wvtvrLg8uVRtTO3fuEayGlJrQu7hwyvSy2nS9LmLvl7WKlWLrTuXpfG6PJX6vjPYqbJZBIpwP9mtZ+nCGi4vtC6fP4WK7I6LKTL2SDrtnTp3tn+8ihfbgHuQQ3AX3gcytqIwAFiN7J0gIRlh9zmsDpSXrRynCdYYCMZPSsXfWDYfQ9clNk0k1mcvO1Tc1qnFih6lg0TR1BIdeaJtepTZjpO60lxqVJIGtR3GrVnHsBFEKTqQPQjqJzGZpNiAxEAF5llqbQbB3Mhs+mKk91WhnHoTnS73skEiWUtvLQk4a0lBgnl+Y67e7FREj4f5yD6kQveA7oJx0Rs4BCELBB4AlVrq0DIZ/imJOq2aQyyGK9aEU4XojRXAcvAd5ELKQW1gVizhOkpqJKlHFRDqQFSmcj+O4Y/p5IAo2FmqqNk5Rpaa1YgUPR0wSVsgg4yAGQ0Y7yyR1EsPBBmu7pAIzErWQRDaSc7nLSLRJzg3ydMB66FUvx6X580oKZ4NSJpJS15Sqsc/yXiegC3IsQRLCIwhBPjCtxnaxOhi/avqe4IIKrLxWuqbPlFKE60wgeA5ABgEI5HaQu2FkjBIykAtsibTS2g/JMxNDh0rI2PqsUonGmxOSg7Y+eM5S5wk+sCXYKBnCXBr6Qd7Z1HDMOYFkpKMo8xYud93Oo1GjO8zmReQsYXmIrsWAq12GEM45MLMLfrnfNw5RldxQItiiwQwBEEOF8IQpERxQVLoPWJXaY75oaQbXj1KE60wo1q8tLlAB2HyY9jULLQhACA4UAoLlPPeZ8KQzY9PAwQfDTJqkdD5jZ30WPDs4TpmGUB2hMpvDdZWEHPazAVo1ORO1osgDzg/yftbJg3MW/YAhsGj1IFRcJI3y7eEQrD1h4FPruRHHpqlQBVKwB/NKFMkzAZrXyI0Qwqqhe1xXkMVjj6UlfMaUIlxnQhHhCEBRljPDcLlv2jKejbSRiYmkUiQFJYJAwXDMUkCCNAXKMpuJPAospCJIyZoEE5g5yrmSujxP3Q4BZ3FpDhfbvpcPm5FpxRUJ3RlmLNDL0A3ITGPJmnauRWMH8XLaX/IwlUarOtmkPGdLgSGaCP1iHIJ5RXdh1cAVigsrglxr8R7TYqHA0hquA6UI1xkKqxleXiCQz71fzPtzPUoqMo5DxFmWeS08easDZF4zFUFacswkXJYGWKlkElWFNEJWlARr9jphikVUFyHPtZWRQaNnWS5ksptmeeAEVpGV2ixneTsIr2qXUt9ORapbe7ZXEcL5xY4NmU4SiqQf5CEPso6QAAME7x+7DASv6eaFFT2OhMZ4/HBhqcD1oRThOqMBDeVBzMw5+cyji2wxzVQ6blpCIFUsIoIMXoSAYCMnSEoHzUze+5BLCNYmZy2ECEoMKQzZJYJiVTFRMrd8qVqPcmVjk3gjh9nyQAyd9xoIqW/nqgvT6/P5dt4P7ILYOrtZKMMnzlzodIJXWmsRy4ipPhW125kfgFLivKhTsaq9tQZw9LjWRpasK6UI1xkClNAIniG8AywhZQyANnzqg2MPJ5VQRklNEDxQTlkh2emgdAgiOHIh5KrvIKiiiLzITEgrykVCaaGzkCDHUj+Lcp8nUuReS8gck3X0Uj/0ZijNYi9b6g1ywZlzNTcYq7VmZrKut1YqExuhZKIhchHm7aATKBiXywAwHIKHCI/9ktHG36rAchbOOlB6FM8UImJ+7PKMUPdgBgjSFXMQTMA40bTnutW7xcyB6dZMM64kAtqnVtp0MEgRqFqpGRVZ6wNYa0kSRisBgg2aqR43alHVkPb9rzYaDRt8ZgdJQhLDkC/WTD7ejJQQUlVPX8oXBtWHT6VOzSb1mdPzj0Y6iuMYLNrdzvzSovW5NCoxkR1Y6jO30T7WdYczDAAP2A08lt+klJbwmVIosFgpHkDGRRFABsEkiYkjR1nq+zwEDDgLPMjyXmqETuJEJZVePvTeu9wLkt5wCIGIhGI4CEEShOARKMuGMiCDZBFbLwbDvDdwca4jlQhf7+S5V7EmYjLLPTG0cZ675XbXzVtVJ2ttcAzA5d5IpZTQkSYiUoBmlmSMcZUMg9Lb3BhKET5NnmAAiUgUtKRntlmKHDm6iIxJdEwilQGAsrCdYcd713NoykpMgSAlwRSLZ5OUuvjYELwPYBCC5yBSnzGz8JQnyrDuseh6UlkUsRK+qn3aC6KmpZZmyF4krdZkli9mi72UM+s9M6cESURGRV4ESdTv9yknyuCzIIlUYpzJyzXoN4RShE+TwvSNdEhEUkohhNgk4iR2rHrtHtrIZe6reb0eS5n6CEkkfea7w05neTho20rSMK1BCNBCCyWEEAFs8zzPbRTplUiJ95qUIuXIkyDvRAhamRhKLQ+t69lgfbD5bKvZqhqjlPMsSAyE7CPv+2E0yLz3HEhrLY0mIp/bzLml+UUZlBgiLLMcykhFlJDNslKHl59ShOtMWs9RE7oe10l3u8voszfghq5ExgtrGipEhJStC4Nh5sNA0LKSxqgos95ITUS5t7mzrBLBQiAgMAs2wgTBAHPmA+VCxiG3y/ML3eEQYEJYXFycHm/FkRZCsNAZUx8ZKuCeDyF47wM7CReYsyxL05QHwYUcfaCHkLGGNsaEiH1W1hG93JQifJow81p3lJm998wcIvS5L9jGE5XqpknnnCCSynAI3nEeSxPLSlwjaGMSQSalZa1kAOdZOgxpFEVSKan1IB1KSUIIQSSktsRMIbAPy2kXQ4qiEFhxVtGhVqtVYkMIzXrNex9AncHQOrZuKI1RkYZ0IQ9ZngWXArDWZpklLbWXkPDk2bHPPZyQolziZQMoRfg0WatArIrQe889RiJC4oY2V9VYVIxQKpAIPvS7PeFtQsYkJlKRkSa4gKCViRRp64chhMCktRIC3X4qSRpNUmsRmaBk7kPu8txiqbMcJXFtrNFo1Un4Zr2RxGbu3AXb6w0GKUmdpdYx234WVQSk10qQ1J6cyzLvObcWlgWz9EqSdHBZng57QxpA+HLIYQMoRfhMKSI0j2nyJKLtpjE1loP7/TTLnVU2JRqr1zx7l2ekHFHQUngXbGr7No10IiIBVt5ZmzPJwCJ4kJJK6SiKYxUlUpg8zTMOeTVabjvlhlrVlJDBu96g2+9xo9GA5Z7LIqEVewbIWsq1FXkcx7HRQfpAzg0zDowM3gYbMpEncMwZowvO4UNpCDeAUoTPlCeYRCzCUZ7zkKa1TOBoGOBBbj5aphhSUzZwedajeh41xsYn6qFnjIxt39k0VJNmvV4dZuni0kI/62/dsdno6iDN0mEvz11wXK9Ue75XmagQcTfvujzzWVaN4vF6C0rn1lnGcNCLqxWbpTqWKubecj+OTbfbrTUbIQR2TJHzPoROMGyEEyETZImZy/GJjaIU4TqjciWXRYahWx64mkOVZM2YSjK0fS2kMuS1g0IQIbNpCIGHsfOwKSuOTIgGi9kwT6tREyxhZZ56SZogfe6yzCk4Cv1s0AvBVSqVOIogKhJimFkOaQgISrjgBvnAB+s4TbsdZNxf7A/zzGbL9Xo940xYimQSZJC5Roow9Jzx4+uLllxWShGuMwJRPnSc51hixEANNGHRZB0LnQgtDRIXdBCSUm8H1lbzuu37fqdvlBmm+cLC3DAbbtq6KdgwwJDl0IN1ZMCCvBhaG8uQeHKOuJv1l9M8dwQdRZVBf14IpYRkZsEhTlTMcbeb6kyn3dyz7+d5c2dDZbrfGQhW6JPrerto8+UcgxUFlsmhG0IpwnUmLwqUBQnrEIAh3NC5JRftjMgpIkXakAkAbO5sasfSaO7Cxd7cIoRakItYyiAwn18a3zyhUjXIh+1BR+uo1qiDRa/fdcZJGTei2Jg4T+1if6nbGXZcOyxm8EBsjIkkB91sVuMEA86Gqc+CMDJkfnA+U8LYRbbtATKgC3SA/kqFOEEggi+nB152ShGuNyJABEAieFgGAR1giDAV8j5jGKBXFlQJQ2EHsMtZ7/gi5gF2cA4aaCC/MKDKeG+pa+G0UNJRQJBCRt64LOpnWcdmsQoyCNc1bjFFL0UOLAHIc5kjx1D0dRxxCLIarPdxLYqU6qS9zZs3R3mcXUiRASlWasB5KCEFAjOXkZnLTynC9UZnCAwOgqEYYNgAFvBdz1X4JaZA0kgRyPWt79reQgdzQGe1TukYGpVmFtKF4xfzvkUdzc0TnIv24nIUxbVaraeRpXDdtD/sCa8qZKb1TDJpkNMiltJuCsc2zdC3ljMAjgCJQTOLm3HqUo5FK4xdDOcxBPJiUq8wJIk4BA6lM7oRlCJcdzwY5GEYGhBABAwDeBjCgHjgIYll4IywlKETfGYhCDVGDgyhvDC5EhSn2QA5hCfftr1eBwO46jCvWLHFRFpW6knmBtlSt7cUejnA2DSzKQ4UAAdO6pVMZqGTApC59vDIQp5aCFx6dL5eq1VkbeB68ASWGpIYCIFLBW4Q5VSm9UYDHiYgAgwAwAIDQG4RfkbQlKYqS5AccL6Q5ksYr04oUsTI+1m322X2UTVSsUREIhG6Fi/32/ZSjgTRZCMEtmNdEEVB60xRL7h2li1x6AEZUAUASIxNTJJSy+1uSNPmxVaOLEXKwiEGPOqzY+Soc34RQUkQQQgERmB4oEwd3QBKS7jOSKsDkINzBIhQ1FyDgMtDdRC1Bs1aVMm8vbB4IU9RmTbBhWXVz1WOhlVjbAbwNhtIoBbvecVLuhcW7Ze+hjnAoToEYmMnxvJ+BhtilcRJnGdpUMsZezhgGVDQWqSup4xuaEXV5jItFg0jJgwBoHdqGYBWGhLWWill7j0ArbW15WzCy4RSSmutlAohlCJcZx4XXOTVRwY8XOaHvYyZHGe2Z5GDDS/3lqhlVFULKZTMlQjOAgqYrKd5v9NbgqJ4XIq+d1neGwxq/RoGzFnIkDnn0sVhdsnDrtbHzmB9CN5aG0gI+tuz0Jh5NAdSSum9D6EMjF4+nHMhBOccM5ciXHce37UKWFli2sL1/cAPsk7q2fk+AEBJsCUFU9EkQEQwKws9bNo9G0Q2bM9hmIZAIcBnNjjfeWgZOcCwJo8p5gyCiQOzR1G3ly28ZZADAPHk+tmr7QpBKVVsGGOKjWfrkJQ8FSGE4piXIlxnGHicOeTVYtaOMKRsmK+kh1lAQWihN+k4iQice0vKU0SeGIzamEmHDt4hQ95j9ADlAazMf2ewgiXLOQdLBCmL8UmsfP1KGUOPFTU+uZ2r+a5rN561o1Lyd1GKcN15kj1hgKG8Eix8vmYczoH60kjJObzPIINIJEXCk4WFdxkPvSLl5Mo6gUX1F23IeUaAYskeIYg18ht5n4H+HiWYvPdCiBBCnpdzCC83RReg2C5FuN7Q483gSAyBiCUFOXpRBGCA4cIwkCfFpiYglFMcFEEgDmqw2HPzQ3SBHGJlZCNw6oqPUFIKpbxn6wMReS5s7mOm+OsGvkMIjUbDe9/v91fa/viaHSXPHmuPcynCywEBwbEUQQAASQgGMzjP8nDJwYMNbCPkg5xrwLioNhqyJ3snlnE8RxewglloGE3Scru4fwohhBJeBBA7BPg1NpZHZXy/Dq1Wi5kLEa69N5c825QivCysHOTCMAqGdyvHnYUU3nsGe/iV5OkBQgq0gQagTas1MTjV6R1bRhdwJCkGM2NlvlFh8oJgkhzgvbcI/LgzySAGCARw+LssYq1We0KMdP2PQ8lTMTrsKAfrNx7SxGzAgbzVQBPRnomrdux45K/uQwayoKABCQixkpCaBgIDXPQE11bIxpplurFmweCSK5vSEj77POWN7rGdSnEQCGCGC7DIl/IFLMACDioQAIfAFJiLlaxptcAbrxTGXrtWxOo/4hWFlhkwVz6lJXz2oafaWN2WoqpcoGAZziqEhkEswAELubDQTB7CCUAEMAMQXgOBCUxhRY/Fp4XHbKBkjMxkdjl/acnTorSE68xas/T13wR4l/vgDQIB9UYVzbiXp34pBUNwsThLAK2qiiE8BYhCfVwob+SI4jEDKCBWlV4OwV/plCJ8tnhsEbEnrChGj9cFeVDwjCRRSS2hxKQ2949VmmCmNX/OACCKgEvR5VvtE/IaBa6kq64YylKEVzqlCJ9dVmzeWrP4hGCJCiBAQkTEbF3KbpitlnspYpzMqwvI02NryAeBEIgf+/xVwT1++dyyhOE/AEoRPrs8lQget8+DipWqrbe+301D8BlG0U8CBAcwmIRkQSsuaAh4LEDzBA/48YMMpRn8B0ApwmeLx8tP0ONfGb3qOQAIHnkOn4WRlaTHzKUQAFhISAJyuLWvjRTIWNvVDKsLypeU/MOnmGqglKrVakIIAPv37x+9Wq/Xoygava1Aa12pVAA0Go1iT61WK2YqFAs3FRvFS8VyTsVfEZFSSko5+mohRBzHxdOJiYliZ7VaBRBF0ehLi0+o1Wo33HBD8VKxf+1HFRtFM4qR4tFPW/t7iaho/NrR5DiOi6+oVqvFfq211nrtZxbtLF4d/bqSkvXn9ttvv+OOO66//vqJiYnx8fFi5+Tk5NjYGICJiYmdO3dGUZQkyeTkJIDNmzfPzMxEUTQ2NtZqtYr3j4+PF68CmJ2dBVCpVIrLd/v27QDiON69e/emTZsARFF0zTXXjP5w+/bthcaKe0Gz2dy3b1/x6s6dO++55563vvWtAKSUV111lZSyVqvddNNNABqNxnXXXQdgz549xpiiMbt37zbGaK2np6crlcpIkIWYN2/e/KpXvapSqVSr1dnZ2dnZ2TiOK5XKgQMHtm7dGkXRtddeu2/fvuc+97lXXXVV0bziVvKsHf5vTMrj9XWIooiZ8zxvNBqdTueGG264//77v/SlL91yyy0nT57cvXu3UurP//zPDxw4cNddd73sZS8LIXz4wx+enJx8yUte8qEPfegNb3hDrVa74447XvGKV8zPz7/mNa8hovn5+U6n0+12f+VXfuWXfumXOp3Ozp07vfe/8Au/8GM/9mPHjx8/dOjQq171KgAf+9jHtm3bliTJd3/3d588efJXfuVX3v72t//N3/yNc27Hjh2HDh165Stfefr06aWlpdtuu63RaLTb7a985StSysFgcPHixQsXLmzbtu3aa6995JFHXve61/3Wb/3WT//0T7/hDW+44YYbXvSiF504ceKmm27K8/zBBx88ffq0c67T6fzGb/zGd33Xd/3bf/tvP/nJT+7ZsyfPcyK64YYbzp49u2fPns985jMPPPDAK1/5ynq9fvr06ec+97kzMzPHjx/vdDq33HJLmqYo09/+v1O6DV+HLMuKXNtOpwOg3W4DuPHGG9/ylrcwc6vVyrLMGDM9PZ3nOTP/zM/8zFvf+tbnPve5SZL8X//X/3Xs2LEf/MEfvOGGG1qt1vXXXy+l7PV63vt/8S/+xa5du773e7/3h37ohwaDwYte9KKZmZlv/dZv/Sf/5J90Op1XvvKVH/jABx555JF9+/a98pWvvOGGGwqb9r3f+73vfOc7P/KRj8RxTETXXHONtfbXf/3XC582iqKHHnroPe95z3XXXffiF794//79e/funZycJKJNmzbNzc391E/91NLS0le+8pUf+7Ef27t3b7Vaff/733/s2LGrrrpq165dO3bs0Fr3+/35+Xnv/fd///dv3779fe9734c+9KFer/ff/tt/S9N0165d9Xp9bGxs165d/X7/f/yP/3HPPff81m/91tTU1O23314cMaXUE1zckr+b8mB9Hdbe16MompycPHr0aL/f73a758+fr1ar3W631+sJIQ4cOLBt27Z3v/vdx48f3759u7X2T/7kT573vOd98IMf/OxnP7t9+/Y777yz2+22Wq3jx48PBoN+v3/nnXe+//3vb7VaR44cuXjx4pe//OX3vve9s7OzX/jCF86fP3/06NGJiYmjR48ePXp0aWmp1+v97u/+7n/4D/9hOBzu2rXr4MGDaZpeuHDhwoULtVothFCr1c6dO7ewsHD//fc753q93oMPPvht3/ZtRR/vyJEjvV4PwMGDB6Mo+s3f/M2DBw++5z3vuXTp0p/92Z+9973vBfDjP/7jAGZmZrz3X/ziF51zv/RLvzQ/Pz8/P3/nnXe++tWvnpycNMa02+3l5WXn3NmzZ0+cOHHixInz58//8A//8OnTp48cOTKaGFVSsm4IIYoYSRFvSJKk6JUVnbGiC1SpVL7927/94YcfLvpatVptbGxMCFGpVJrNJoCZmZnNmzcXH1h0CGdmZgA897nP3bRpUxFBMcY873nPK3qJxWcqpaanp4vOIYBqtbp3714ArVarWq0WXU0AcRwXcZE9e/YU3w5gYmKiUqkU21gTJXr961/PzNu2bSsaX61Wi8hK8VhQ/C2Aos1FDGZsbCxJkuKpMaYwv6Me4K5du0Z/PgomlZSsD8XlCMAYMwo8jmKDRaxSCFGEN9aGPfFU0UIiMsYUn1mv10eXfqG0QsOtVktrXXxy8b0j5Y8+dvRqvV7Hmoio1rqIqRZvWKuH4kuvuuqq6elpAEmSFA0r9o9+kZRyFF9JkqRYCXwUaE2SpJAiVoOlxY2gODjGmFKBJetMcfER0Si2ORpjGI0uYPU6Hl2pAIortbA/RFS8ubjQC+u01vIUnahi/+hD1r5h7VeP9o9GKYrH0Xfh8QMPa28BxYcLIYoPGb1tpNjRHiIayXLtLxpRvFr88LXjE1rr0R2hpKSkpKSkpKSkpKSkpKSkpKSkpKSkpKSkpKSkpKSkpKSkpKSkpKSkpKSkpKSkpKSkpKSkpKSkpKQEKKut/YPjbyso+PdZ5nrt35bLYl85lIWevokohXdlUpY8LCnZYEoRlpRsMKU7+g1OUeWJmUtf9IqlFOE3CH9bwGatCEspXpmUIvwG4W9bCGmtCEMIKMMzVx6lCL9B+Dss4Uh1o/eUOryiKMcJ1xlava/xyiq54bFjvLq+/NqjTiyYGSNVEK1sF4IhwmrJ7WJp7Iok55y1zAQiSA1IQIAFvAMCoEAxlBLWB1hoRTZneJCCFHAWsAADiuAZDBAEZAhh5WkUwzOYBZNgCIZjF8AgQKyu+8tAgAQIcGt++ROvJgYxBFbeWZQ0HqzDMf5Go7SE6ww/eYXqQl+E4op/bMV6XvN+CSFJKAmg8BuZVgp3CyEe+wBmIYmo2AZLQIMUIIgEvGQwYKBjpZSS8M45GYQXPnhIRVKIIHxQxVK/zAIIAIEFKBB7hgfYgoDAISAwBJgLBT7+5xSKE4//QU/+1cVLARCAL2/5fwulCNcbCsBTXJiCBK+sPr9y6a8gAQERwRgNQczsvWeGEAJEUkrINeFNZiYEyUGuGD2voTQgCYJFAAtILWWslNaAVuCQ5tIGwWykBsAW3nmCCCHAgwPAIApEglkwMzvAM3yABTxCYYwleGTyCGBIQAECsGt1OLpb4LGbjl8j4XJA7CkpRbjePN7i0ejCC0wgBhMBAiTAAkQIFUBDR4IUMwfvvS/cQh1ICpYsBEMQGByYQ/CBggbyFRGyQTCCJCAEKEghhJKs4WUgIQrvWHjBzJBEzMgBDyEgoUMIwXEIITCIWDAECeeNCMy549QV30ICUgrLYeVHMSg8JrTHlMWrN6AnHQpmFIvLlUuHPiWlCJ8FHlMg8NhFSgEBhWHRJI1QSpCiQSOXEqQoUAiFIARIEAtBQkBSEODCKWRiSJd774AcYEADGqwFSYIQQjCkCICn4IghSAghFHMAIFjCB/a5DwEkKTFRCME5523w3jMHDxBRIgz7wCmFYXCDwBYMsFxVl0dhPwNDALz660Lxi3nNb117KGiNZ1CGhJ5EKcJngTXX2RMcMBYgBRGTjqWOlNBqUM0hKShiZheYBSmtpdEBzEAgQFAgEBX/wamFJxTrlmohlBJKEhELJimEEAHBO8ccIEhIIQJCgBASQgTHXhfNEJwIAaG8Yms5h/d+1dcNMoAS4bRgEZCDGZ4gEhk8YEGWQYEzMD/mVhe9y5Wfzqs71vqlJX87pQjXG15rBlc0GICVQKFGMBARhwojEWSI6oKkBFEIgR1A7CJmzboS+xCYQxEXYSmFlEII7hE4gFlIqZQkJYkoFGEapUgRQuA8h/eQUigVrGdmFgJSBgekAgBrkUsWQkiQ8MrlAY7BDCLPQZAgL8gooV1Ii06jNtKEQD5lTi1LBwSbFv3ZFSk+ziTiqTvGJU9JKcJ1hh5/5YUi/kmAwUo0I4aLGHGg2CrDVDOFCL2zyB0CQNYL6FqDObB34AAAWrFSQclAK2ohKUlrIUQAg5mDZWOElOCAjOA9KSW0dmkGZi8ESATHEAqMoFXOQUrhBTFLVgp25WMdHIQ0UNACUiO1CFIIBWk4B2nHUjEC+wDA5TBhxfOkVe80AOBVAZbx0L8H5UFaZyQEAAIFgOG5GCAz0DXDBkggEkkxswELZgpuPJJaKaVYkPM+BA8OIMhGPRBAJJQkJSHIeQ/va7rKzEyPZaKFwgdk5tX1q5nZcwghIATwsNgZQmDn4EMx9iiVCsFLkFKKmfM8Z+9BBJeDoaAMS+GJc2RD6zIrVCKgpBWh72xniPYQA8BC9h+7hkbB0UCPDXwyQCRXXmXGk4dwvukpLeE6sxpB5FAYQAUYwIBrIsSQFcGJQAw2YAUhgCRmKX3Rr+OwYvckcRQxGIKCkiQlEyAlgrdqJQNmbS4og5RSjyXNMBNYMDEz+wASJIQEQgjBeziPok9JwgmhtCaAiNkLECEK8HCB2XspZCB2QiAypDRBUyCVaBEJG4nQS5F6GcCMEICVXiwCA7wyhBiKVIPHRjDEU4yjftNTinCdESQDBwcPseJ8oiIQI9QEV0E1Q4nwmkmTMEJoIWQshIAgBoiZCYXpE1IWYhJSQgpB5IJHCCxWBvSB4nUqNuJqlQOtCpPUapLaMPVEJASISALee59bDhaBAQglZGQASAF2joiEkT73nFlPCAJQApGEB7QhVgSpq0QVpROZJbCDHJn1DsECDMEgBluwBwkAJAMxFzIkLt2uv4VShOsMC/bBr6RpJUBTqYbmivAmiKrmumQjvQwsWSgpjRQqJiJe8SchldRaS6MZkGAPRpE0I0iFEEKQ5IsgyKoOV67sKK6EFQ80MDMRESQReWTsAzODWAgBkgCcI0UCFJRSSisAvhjIAKSSHKwPBPJgASYwISAoCmAfPElSgoilhA7ac8+FnFdGFAHB4AycwjMQinQ8AQgBCBDKocKnohThOmPZrdjACKhCNIQck1TTQTlUNFVNUII5AByUZKWkUUW+aNG1I6VkZJTRABwHFGEPKQSRECKEMHI5CQQWRCspmyxIrIRFRCFnIiKiOEqcc95ZZgZISpIiVspJKYm9EEIqwT4UbwbAQRBBSgFSgimE4F2A8KwB9t4jBbRkGYXgQUKoyRiZs6mFBQdix4GBAM5XWlkkvYXHAqglT6QU4XojAQlUgCpQBWoINSHqUkeaE0mxEVLIImJDgoQgrVDkN/OK8ymUhBRCCOF9YSGxqhAhhFjJ6yagUCAIEgAFXzh+qz3DACJmYbQWRBbw3gGQopCb1EL6YJlZgDwAKrJSCUwSAoKkIGa2wQMBDhBFDjcHYo9A2iMKUpCRCWWOhtanljPvU8CvDiA6FLlvDGAlXiU34Ixc8ZQiXG80UEPUMLImbcJcBVUICSMWiIg1QSmCUpBFfkkx1F6ENAFAikKBK3ap6OH5wFKsbAsuBu1X51cIKvJG2RMEkSgSWZiJAzM77wMAKQWzYB9CCEIICQiJ4MHBe6bAXoKEkFJKdsSCiZgYTGDvfQCrAHaQEkoKySQ4uBBkEMxBCCgpFKApKA8KAQGKhCXK4VMEC7giHCNBVA4ePplShOtNBZW6qbZqVFeZsnkSOJIUyVz4QAQESRBSEhSz5AApuTBPhQhXgyijHM3AHAASzAQwmASDV2RLJACWECAOAUQQxESSmUNYEXCWZUIIARDDh8Dw8M4JobQopmsUNwAAQkApQaxDCBwCCMxeCeGkdELBO7AgSVIIOB/gmb1nP+SciEgyaxJBCWahhI6VHwRIOIQcPviVvFPmMjbzFJQi/DpEAFYm0KnV4XZa7dz4AOfhWQQYUARppEv8IMoHcRu1GtUjJIqLhBZP8AJKO6GF0lJqwUIwaXbOBoCVUlKrQAjM7FkpFbwjFokyxHDWAoiUWVDQSiFwsE5wiLQOIG9dZLTSyoWQZUPHXkVaKcUQ/cwUEREOxI4IWhNJEikHxySkjk0UXJ7njpik1pliIRWk8LyS3R2CJhcLF/wg5X4uhFJBOmdsABPXSVi2mR8G70FFNBgKQIYKIjMUfiENC4wUFCCZ3JOO8MjmX6YzeuVRivDrUETzilSssBJbEAHQJD04cGARiomrrOG0L2baSYnYCFMxoqKDghfIrWUlWDJREOykB5GQoOBSZ63USidVEt7ZnJRMqhVrrTEQLJQgAoyUCCwpyCwlJwkQ1msSMZEkQYRESmLOnPV5huAle/JKAmNDVwRXAQRmIpICQsC54HyeuQwuK8wvMzuXi2qSpik8oiiqKONy66zjECRBaSWV0lIpIVyikabW2s5yCkWIKuBA3rFzyLyziCuGrfSZZw1UAQlO4TwLFgBCeGy0sIjlXv4ze+XwTf3j/16szUJmAKKYnSQIfhQIjYEmokakEu2inq6QadZ0s4qq9gYO3iLESeIFAgSTYJJERZBFNuvV3nCQ5Tm0hJIB7AlKqTzP4ziuxYkSUjJgfZ5lNs24FXEInLuQWwVRjeJKFBshnXMAbPB58AFcfJQNfjwHC2LABZ97lwdmAhPpyDjnQgjMVIRnpJRKqSW27L1SygiVDYe9xWUwatUqOy9JFNMdCyd2ZbuDEAJ7B5sjz2BzWAcbaklLOcHDkC5nvutDhtDPMYDO9cqs5bLq1CqlCL8eI19hNE2AASBOVBYcExABTUTjJmrEMlZ5cxAkeUOIJRItqkYlkTBCas0kAkAkeSVeLxioqBhSeHDqrEUIgix7WKtrNaO18OzSTHiumChSGj70tCVAeBaBDUQsdaS0hpBSuuBTmzsOrARLEQSFEOz8RSE1SeHBeWDPAVRESGVwzD5UdFJLKlqotD/odbp6stntdm2Waa2NMXmeDwaDkOdJs6m19t4P+/2Q5VrqyBgJmuy2MmeHw8Eg7abZgJ2Ft2DAshaacsrbKToWGcMSXIgWokKEBRt0Uq8sShF+PfRq1hU/pkAAcSy98EFD1smMxdFExdQj0mK+1hVKyYpWFSOqMSUKWrKi3Noi/ChEMThOgSmEMKXqheFyxN1s2MtTGZlqoz4YDBrVWsVE0rNwQTHBeZvl2UQUnGPrlWfNFAmVSG20hg++GORTkpVIgxva3FrbyeaFlFJqFuRdCAGChWRJjmumUleJsgjDXGSBAgumvusZYyBFHrwHO0UDb/t5ylJorQWRsiEKZALxIEt7/fgQBYKXCMpbGRw5Rz4wa60VyPVtb6Hn2gMMPRzDcjRnShE+gbJP+PVYm+LBGNVbESApNUWkY6OjREstyZCQe8amSArSiowIUgWG98QejoNmqSA1DAMBZL0P4OY8XZy7BCW37dimKjMXu/PZwDa41mxuiZTWLNk7cl4xGSFlRTywdF5Bx1JXTGQghA1kg0pJKeW8DwQoGbSwHDyYFZ3yLKWUUgHCk2NmckJ5mm1O2uXB4umLJw4d6z96DotAhEqj+oZvu/3ww0f+5oGH0EOyd+yaF9y4fWq6i7TvcuSQjNiTyfzg0uLZRx5dPNnGKRTxGD0WJePV6mQ9ajV0xXS7XZfleXvAnVzmQgXlcusHtnBEi8eNOaFXHqUl/PtSzA8Uq9tF0jJLwAAK0IABNEis5GCLRNTGGxObZsY2TdeaDQQWRBpCggKJAHbgAL7rP38YFmjhhhfedNXe3Zl37X5PCHH69Onl5eXli5ewkCMHqtiyZdOm2dltr3r+ShG0YTZ39vyjhw6fP3IKnTVzZw3QQDQ1NjUzMz45oXfUCsdSSS1YEAsVhGI5XOwceeCRk39zEIsr8+UpQDK8hNaAQG4BCTSw47qrZnfvqLQaqc19bilzdrGzdOLs+aOXbB8RG8vWFWWjBGCAGDACWYAH7IobbyLJDjb1Ak8MzKCoJfdNrMlShF8HBazkaq5kXa0E8hSIiYPglTy14p+G7q50Hn3R71NYGdooJvH4VZ+WVv5FQ2D1xSJVs5iPRwoIkAQBBLsyKSFSomMCPCCgjaHAdmjZr0wYRpG0puBHXyFW7xERCSE4gJkoMLFQpPL2EB5aiqqMbZYBniC98GF1TjwX7dXwek19NQZSkINhJBJtr1G8oggIgV1YndMsJYjh3ErjC8ohiifzTSfCv6NIrvcegJRyVKyaiAwzr4RDjWUPgCCN0HnIRWEMwR5hpfgRIfErmVkBCBBuVHiFuShSRgAQmEQgMIfo8aUBsSIfEiSYiwoSxQiIZAQGUxwX7XTWCkBCBAQJYrCRJvc5AAkZELTUqc8FgiLhOazKn4QQLnCRiZrE1TzLigZHSufWOpErJSkwuVAcKQ/ISGfBQfDa7rEMUEwZGyBIIX1whCAQ1h5fJZQQIndOiygPVgmdheHf/xwV0yC/7vv/oVOKcIW1ZapH21JK5X1hpqQwWXCrQxQsUGRxFnYLWKkeCANgZUZvMa1ePGZWVmxJIJD4f9l77/A4ymt//Eyf2b5arXqXLEvusuRuudvY2DTTbEpMgNBJCO2SC4SSEBICgUDoBoKJCRBMdcENcO9dtlVs9S6ttrepvz/O7ngtWwYnzv3ee3/3ffbRM5qdnfLOe973lM/5HIaRNFVTJAAgaFrTNFBVkqbJeFw+4Y6BZBiSJGVRBE2LKbvx2wMARVE4jqMoKhwKAYDAcKqiyKpMxEBiJAkkAYQMqgYaSVAaSWiEqgEoshxfkOO6LMOALOGtkwTJEpSsSBoAybKSJgMZJzxVVJxjCAATbxAVWZIk7fQECV7gwmEUbxKAFAyGSCRKEISqRP7JN/e/t/2fEMaaLni4ROA2wzCEJMV4UyhC0TQgKYpiFFGOcVLHtVN9PYurk6ACGZO7+BEUSTEUrUiiDGqM84IAYAhQFKBokOXYUkXTmizjrbAcpxEgRcJ4JiAIkDSGYYAkKIoqHDTIYrG0trZGIpHc3NzG+nq/1ydGoyxFK4rMs7woRhTgVFBIglQ1NT5lqBRF4XIKBPACQ7F0enq6IAhHDh1leKMUCuOizVKMqqqypiiAyzEJNA0AIMqgqBQADYQCCgCwDKkBRCQVcWkUDUDRiijTPC8Igt/tBYirBNqZCun/39v/CWGsIW5D10XxX5qmNUkiSJAxcY8Aiuc4jgu5faABIA4FgDxFEA88IasEaECoBKa5ojJKaopKEhqh4ToCvMCZLEbOILS2tCVGPkgCNAVIElQVkpOtGVmZZqvF5/M1t7Z6+nwAQJNAEITdbh9cUpKdnX3k2NEjB6solpw8ebKru8diNu/cvpsCsFpMUiSqKEpA1q1F/S9wLKlpqsHIl5WVZWVleL1ugiBGjBjR2dn59tsfAwBLM6SqySomXtAKaLxBIFmGpmlNVqKRiByOEppKACFSsq4w0jRwDCMpsihqAMDzdHZWrtVuq6s76fV6QdMImtUk8QK+zf8d7f+EMNY0TTvFxZLgJKAAKAZEOeaZYM28xWLx9HrkiJgoPEAgnyFwhIrOFZWAWPKfRpIAscxaAABgOJLmGKA0AAh7RUBWYA04FkQRWBbGjx9XW1sbDoclSWIYhiDJSCQSjsQGO29kVVUVwzJQsQhKydDiESNGfPL3T40mLuiPFuRlDRsy5NChQ62tXQrQACo+GkGBwcDzPOtMSZ46dWp3Z0dzS2Nne1thYWFJ8aBLL73U6UiumDjLak9KS0lRZSXg8/M8bzabZVXhDQKQpKqqoVDI7Xb7fD4xEtFUFViwOGwpyU67xWo1miiNcLtcne0d7t4+AKBpmucMPR633k//l9R7Zvs/IYy1gbxzFADNklFJBQAggBUYh8Ppc3uCgdBpEhjLrQVKASXhXwB0Y5AxgmqSjBHjEgA0MAY2RbC3tXUBAMOSkhgTM6vNJIpiOCzq3EloiwEA8ARIcfuSISGqmmymhZdfYTQa33zzTVXUMEaS5LByHGe32/29EaAIp9Opalo4GgpGgp3dXSQJohQBGYAEioBpUydOrZxCaMqaVau3H6kFSQaaBlkBRbXY7Waj0ePxBAMBIJDnG2J2KQEAkJKflWxP4hi2z+XqbusI+yJEPKeSJilZVSCBAIqkqLDyA2Kopxfj34EcM/+bvKn/J4SxlvhSSZJkWRY5yCiNoCkmqkT1r51OR8Dvj0REUqfZJE8xb9ISKHHdFQgAIEEl48OQAApiFVcYIiMnKyc7s6K4/MOP/t7X14evwmA2h8PhmE1IURRFaYjV1IAkSRIICcmTKAokGTRgWY6m6bTUVJIkQ6FQe3t7TKPWNJIkKYqy07aIGGZ53h3wKSBTLKtI0VhurSITJDAkpUjKNVdcZuD5nTt2eGRob2/XdCJDguA4LhKJe1MI4lTAgSKAIECUSZKkaZoAKiqJoKo0x9kt1p6ezmSn0+3qAwCWZihCC0ei8CNWQpKMpVNiZUXExJ7ZlB8S5v9B7f8YB2JNn4ABgOM4g8FgMBh4ngcgNQVIoBlgCSAJIMVQVIyIVALjbWLDuCCmvwNQoFGERpJAGlmB1AiQNVBJUAFErb2xZc+uva+/9qa3z8fSAkVwdqtTjqqaDEZLEp5JiaqqTIBKERpNKKSqAKgUKCRDcKBSoFGEQmpR1d/rMzHGxx9+LC89l1CAVElCI1mSI4EOhPyiLEshmQCIJxNTIBOgAEMJhEKBpJkobt60ufkpuWpAivR6BJXIcaYNyS8ysTylaXIkwhEUVn+iNI1QtFiSrqyBrBlUhpEJQWHNnJEmGQBSJgghOenam2+ZdeklKXm5CmhhKRJSVYz//MgXgaJIUbGM5zPbBX35/4/b/xLYGoXs1HFgPkEQiTOoPq1qmja4tISmaVmWPR6P1+sVRRGJACma1rRYPTJJkeVgAM+mkIpGAcuyJEkqYSUvL09VVW9DoHjw4IyMjMGDBzc0NPT19Y0ZMyY9PT0SiSiS3N7e3tLS0tjYiAm1fX19siwHRX9KSoosywaDwe12B4NBi9Hi8/kmT57s9/uPHz+uqbIkhwWetpiF3t5eAGAIQgIZ758gSVlRAIAmCUXRNEkmQCNJuHzhZS6XKxwOX3fddbyB7gt0KyABAEGArMocx4WkKMdxvmifBhrHcdGoDwAMBkMoFMovKCgoKEhOTs7Ozm4Pe3sgWji+fGpm+tGjR/v6+jiOCzaEOI6JRiWGo8WIgqeNBe0JYvbs2QBw5MiR9vaOJIcQDocVKWw08Koq99Sf8GRlVFRUrHX1EopqtZrNZvOcOXPWr1/f3NJmMPCRSERVwWQySJIUjUpYlJGiCEXRSBIkSWJZWlEUUZTzs7PKy8tZlnW5XA0NDe3t7eFIFDVekojFk3R4AEGAPIByp2kaRVFo8J9yDv/3aP9LZhSGYRiGIQhCkiRRPIv/7VT0jwCaYUiSlCQJ09FRPlX9rcS8Kae0U47nR48eXVBQcPjw4d7e3kgk4u7rAwDBYBg8eDASRuTk5EiS5Ha7w8GQw+HIyMhIT08vKSlJTk5GUdc0zev1njx50uVyeTyegoKC0aNHnzhxAl1B1dXVDQ0NdXV10XjoHB+KIAie59PS0lJSUkwmE8/zNdXH/H5/W1sHy9I8z1MU5XZ7y8vLrr322uXLl/f19dnt9iFDhvT09GzatEmOwVcAAIxGYzQatVgsOTk5Fotl1qxZbrf78OHDhw4dcrlcWiy5nvz5vXd7vd7Nmzd7vV6SJFNTU6PRaDgc7uzslGXVYOCTkpIikUhpaWk4HD548KDRaAyHw2PHjjWbzXv27Ont7cvISCsrKwsEAjt27MjNzV28eHF6eno0Gh01atRNN93U0NiMImezWQoLCyVJamxsDIfDSUlJgiAEg8HeXhdNUwAgSUphYX52eoYoit3d3S6Xy+cPAIDZZPQHgqfebNzmJAmgKCqqDBjcp6hYwlcijwERp0xPtDH/i+3N//FCmBjWw4w4VVUVRSEIQp/tTgNGEQBx5jKIl3RHQcKD++W5URSlyDJF0xkZGX6/3+N2A0B6RkZHezsAkBQFACzLchzn9XgAADRgGAZTBCwWC03T4XCYIAiTySSKot/vx3GQkpKSk5NTW1vLsixKBcdxbrfb7/dnZ2c7HI7BgwdHIpHW1ta2trZwOCzLsqIoJEkOLi7KyMg4duxYS0tLc3OzzxcAgMzM9KuuuurVV1/NzMxsamqpqBidmppKkqQsy/v2H+zq6ho3bpzT6QyHw8nJydFoNBQK7dy5MxqNoszjoKQoKikp6cYbrlu5cmVd3UmHwz5kyBCCIILBYFNTk9vtJkkyOzvb5XJ5vf7CwvyGhgbk1NA0MJkM4XBYUbQxY8orKyt7eno++eSTaFQqLy/Lzs4OhUItLS1paWnffbeJZihJUgDAajVnZ2cHg8HW1lZJUniepSgqGDyFpxk3bkxGRkZ3e8f+/ftTU1PT0tIMBkNDQ0NraytBEIp6dkFRB9BUE908qNDiS9e0gRw/5x53F7L9jxfCxKabCpqmcRyH6w9G/xRFOSWE5z5JXHHFs7EsG427JQSDQdO0SDhssVqj0agsy4osAwBJURryuhAEoQFN01IC6oWiKKPR6PP59JtEfRj1Z1VVWZZlGMZgMITD4UAggLZoOBxGX0siioBhGFWR7Ha71WoFgBMn6gGA4xhFUZxOZ2VlZV5e3rJly9xudzQqzZt3UX5+fiAYXrly5cyZM/ft29fV1YV9knh7+ojkeT47O/vieRe5XK6+vr5vvlmLV7bZLF6vT9PAYOAHDRp08uTJaDRK03Q4HDUaBRQbkkR9kszJyaFpurb2BAAIAldSUuLxeDo6OjRNk2WZoqioKAMATZNms5llWY/HE41KeAacS1EBpmnyhhtu6Ovrq6462traWl5eHggEhg4darfbX3v9Df3myQSthaJIkiQj8tn1zMSJled5ZN/5gaHwX9X+l9iEOJdjrM9oNAqC4PF4dJUjcXEjSFI7m+ZBxKs46I5BTdNIikIJNFssSUlJTY2NAEDRtM/rxZ+g+AFA7FeaRpIUXtRoNEqSFI1GFUXx+XyYIJtwWU1RFIZhcLIQRTEYDCIMLRKJ4K8gPq3o8LRoNEoA9PS4vF4vXleIo8M6OrrS0tK6uroyMzNTUlJ8Pp/JZAqHw8eOHXO5XN9++y3amQBgMpkkSdLtIk3TWJaVZTkSidTV1X0vcI888siyZcuczuTu7l6z2ejx+PAqsixXVVUpigYAuJrhE9ntVrfbCwA0TdfXNwIAxzEEQYTD0aFDhzqdzm+++aa6ukbTQFFko1GQJEkUZfwJNpalRVHGH8qybDIZAoHQsmXLVDXmx62urna7PTabbdiwYTzHRqKxnkxcDmVFJVX1HLMsFVdbDAaDLMuSJKmqyjCUdqr9Vyui2P43CKEeZMehn5ycbLVaXS4XfpuIBSVJkiBJtM5jjpy4EltYWIhLRCAQ8Pv94XAYVReO5y0WS2Zmpslk8ng8Xo8HVz9eEEwmUygUCofDqqKwHGcymfx+vxQVWZbF8zAMAwA8z0ciERyvZrM5EAhIkmQwGKR4w3ujaVr3LeGlUTZQXPs9sqZpkqSwLI2nzc/PfeONNwRB+Pjjj48fPx4KRQSBW716dTAYFgwGAOjt7dWlLhAI4DbHcQCASilBEDgjSJLk9/vT0tKuueaamTNnvvjii0eOHHG7vTabZcmSJfX19W63W9O0cDhcW1tbUVGxcOHCUCh04MCBLVu2dHd30zQpyyoubg6HPS0tberUqU899dQXX3yxbt06URSHjxixZ8+e3bt34wtSVVWWVVGUiXgNmeHDhycnJx88eLC3t4+iCIvByPO82+12OJIkSSJJ8qc//WkkEjl06JCqqtFoNBAI+Hy+QCCgqJqqnUvTwR5mWRZtFpzgLBYL2i+KokiSJMvyfz1i/H+DEKoJa5ff7/f7/QCABVIoisKhLIoiQRCCIETEKM54uidGkWWapjs6OjIzM4uLix0ORygUam5urq+v7+7ufuSRR1wu1+bNm3ft2iWJIkGSqampZWVlJpOJYRi/3y9JkqIoKSkp+fn5Ho9n6VtvDx069OTJk263O8ZMqGnonsWlDFXl4cOHd3R0NDc3Qzwyhgpb4pQRN1o09NTjBkVCOBzFhYhhGFGUs7MzlyxZUlpa2tfXd+21165ataqxsRmXR4oiUOnCiQatytTU1FGjRlmt1rKyMqfTeeLEie3btx86dMjtdquq6vF4tm7d+u2339533321tbVXXHEFx3EdHR0VFRXRaHTVqlU0Tc+dOzcjI6Ourm7fvn3V1dXhcDgjIwPnF78/AAAOh72iouKSSy6RZbmurm7atGkmk6m8vLyysvLvH3108uTJjo4uiGdnGgy8zWZLSkqqq6uLRiWe51tbW1ECFUUTBGHixIkGg8HpdLrd7o6Ojvb29i1btvh8Pl2RVuIG4rlNDexhXd50ReDUOvj/qP2PtwkzMzODwWAwGFQUBQerJEmapgmCgPoerkvhcJhhGLPZnJqeFolEIpFIMBj0+Xy4rBHxtRRnY4qm0XGCQQVZlltbW/1+P64evb29AZRzhgEAKq6yJjkcfS7X5EmTL7300v3792/dulWWZYxPqKrKMAwuejabbfHixeXl5R9//PH69eshYa2maZrjOFmWo9Fobm5uQUFBUVFRbm5ueno6z/N4HoFnLRaLoig9PT2HDx9ub2/PzMwMhUI333zzunXrsrOz77333sGDB3d0dCiKIooiywlGo9Hr9ZaUlKSkpLS3t+fm5oZCoVAoxDBMKBSSZTkjI6OkpCQ7O9tut2dlpj/33HNffvl1Tk7W1Vdffdlll+3evXv79u07duxwuVxo10mSwjCxv7KsEAQwDBONSig2RqOwePHi1NTUnp6eNWvWKIpiNptraurwfd3783u++eab2toTFBVzjw0aNGj06NFer3fdunWSpCQl2fr6PADAMFRqaqoYCsuy7Pf7zWazz+fXYpmKpKyogFBb7RQih6JIcQCHDeo+Z+Jv/juoo+cthInOj8T9CDFBKi443WnJcZzRaCQIIhKJoJp31u5IbKjC4eVYlsXp3Gg0BoNB3IhEIjiTORwOv98viiKqWBMmTHC73a2trYFAAE9ltVq93pjFQpIkw7E0TVMUFQgEZFnG9ZCkKIqipASbTTAYMDMIABgMEipKrLQYAMOy0hmBEKSwBlWTZZllWYIgHA7HwoULOY5DhXnlypXHjh3Lycm5++6733333bq6Oo7jwuGw3W4fN27c8OHDMR5w8uRJNPn27t3b1taGIVCLxeJwOCiK0lTZaDRardbW1tbu7m6KovLy8gYNGjR58mRJkkpLSyVJcjqdx44d27RpUyQSkWQ1MzOTJMljx44dOXLE5XJhaPTM18owDE3T0Ugo0UGSmZk+YcIEr9f77bffKorGMJSqnkLX0jSJTDFY9QkABEEAgEAgFD8toEcnFIo4HPbS0tKiQYM+++wzr9cPADzPRiKndSPL0qhp428pioR4lIWhKVVVcc0jCbDZbFarFVdvnz9AABiNhkAwpACgiws1Dhx1kADG6OcVj483NhIROY4BANSl9ZvHfsC/FEUgqzKcAb0aaCEdCFeQuP+CrYS6yYFFJ/UEWVSBOI5DFNgP5mgipRe61/Vz6p6JxCMFQQiHwwAwbdo0WZa3bt3KMIymaTRNRyIRjuNQdHme5zjO6/XGBJsAkqI4jkMZMxiNkiShRHE8H41GY6KuaTTDyJLEcpye9npK9uL+Ei2u1lI0HfOUEv3nF0EQCIJITk5+9913q6urP/zww1AoJElScXGx0WjcsWNHIBBQFAV3on2i3zwq1RhxQVuRiDtjGIYiSTIalZKSbOnp6VlZWfv27QuFQuh9NZvNkiQFg8FgKHLmsEMv0dkB6yRwHBcORxcvvtZisaxevbqlpS1OuR9zYDIMRRAEulIIov/qgXt4nlVVFY8BAKfTce+992ZmZj78H//R29sHACxLMwwTDofxnMKp/ENAnIwsqwDAkjGVXo9JcCxjtVpnzJiRmppK03QoFHr//ffD4YieA4rjxGKxoEcaTRIcKtilZ3JM8TxrNBrtdjs6nAEAnUM4Eciyio+DFuy5hu8Z7dwwyRiw/rzOeNZr6HBbfPjE6UeXIuJHk4jgkTRNm0ym5OTk9vb2UHxFQgMJPfVJSUkmk6m7u9vv9+MwqqiocDqdW7du9fv9ia5I3EYnihpnbqBoGjCrFQDi0pXsdFqt1uHDh7e2tmKuQEd7OxAExv3w0nrGLUlRasKkQJBk3EEa22MwGFRVjUQiBQUF9fX1DMPIslxYWHj77bfbbLYDBw5s37794MGDurwRpycTK4qSOJ3pugMBoAcGAKCwMH/kyJG1tbWCIOzZsw8ASkqKq6trAQB9JP06XbdO9T04wZ16O5qqaeBw2Dds2ODxeO68887q6lqaJimKikYllqV1jRQlMzHwrYuzLoeRiIjb48aNufHGGwcNGvTmW29t2rTJ4/EoinrWEYG3jds8z0rxpZKh0daQ8UdWi7m0tLS3t3fBggV1dXVbtmwJh8OSrEACMQIkhIj7eacTB5vum7366itramqOHTuGN2A0CsXFxW1tbYFAIBQ6lYuMVs+PZIsbSMTQRMcznLdj5rRl9IxtlElE/aEFnIgm09s51FE8UlEUnufT09NVVW1qasLzUBSF9jR6MlCr1MeTpmk///nPjxw5gsYbRVEpKSnFxcUpKSmKonz22We4qtAsE41EUPxwlaMZZsiQITNnzmxoaHC5XCzLDhs27Oqrr3Y4HJmZmaIo1tTUfPDBBx9//LEsSalpaRaLBZVqVIMRfIPCyXIcQ9GoMyNmzel0Tpw40Wq1Hj58+I477pg+ffquXbtw9bNYLLg4o9cERRFNWRwuGNbHvlJVlaZpQRAoElCXoyiC5/nMzMyGhoaqqmMAwHGM3W6/9NJLMzP3HT582Ov1siwZFWWc0cLhMLqFcI7TYX36LGkwGDiOGza0tK6ubtasWSNHjfrzSy/V19cDgG7Q4mBlGBJA4Tg2GhVVVaNpEqdgkiT0EI+uahIECAIfjUa///77OXPmDBs2DNWiurq6/fv3qypkZ2c6nU6n09na2trZ2SmKoizLuCpGIiJLxuLykqwAgMloQBwCAKSmpi5atEjTtOrqagTTcCwTkRXd3rHZbB5EUACgZ06fT/GGNU0jCBBFGS1D9KvX1NRQFDV27Njs7GySJBsaGnQJTE11ulxuiqJw4OmRxn8CB6d7xeOFts6nkeSpcs2J+zE8wDCMKIrRaFSnWNaFUIfentsZxbIsSi9FUcXFxYFAwOVyKYqSlpbW1NQEAE6nMxKJ+P1+kiRNJlNRUdHkyZNXrFgRDodLSkqMRmN3d/ehQ4cIgjCbzSUlJaFQqKioqLOzc+fOnWaz2R8MgKaxHKfD1mia5nk+4PcLBkNKSoogCElJSe3t7d3d3RUVFe3t7Y888siiRYvC4XB7ezvDMDabDRMLAoFAW1tbVVXV9u3bd+/e3dTUpGB2PMCkSZNGjx5ts9l6e3uTk5M9Ho8gCKmpqSUlJVardd++fU899RQGA/CRUQs1mUxDhw6dPn36qFGjEMwViUQaGhp27NiBflTAFCgambBjcUJRFFmWLSkpmT17dnFx8c233AIAJ+rqXn/99b179+7bfxAnBQBIlD29WSyW4uLi2bNnX3HFFWPGjAFQjxw+jE967733Hj9eA/HVSRA4VY2FHxK1UJ5nJUnC+2HigBj8FUmSKLdlZSMrKip+//vf19bVJScnZ2VlffHFFx9++KHJZBozZkw0Gl2+fDkGdbKyspKSkvx+f2trq8vl4igaRa69vV3TtEWLFi1ZsiQ5OfnZZ5/1+XwlJSXff//9ocNHHEn2iRMnhsPhjZs2IxAC4ro3um11zwLEFVSLxWK32zmO6ejoGDduXGZmpqqqra2ta9Z8Q5KEzWYTBEEUxe7uXoAYrtVg4EVRPi8hHGglxHktpkSc9Yh/riUlJRkMBq/Xi2ML9d1E7JiuG5xDNcW1HseKIAj60odqvclkmjt3bmpq6ooVKzo7OysqKpqbmy0Wi9Pp9Hq9SUlJ+fn5w4YNe/nllzs7O1VVRbigIAivvfbajh07Ojo6yspHt7a2onisX7++s7OToqhEWpec3Nwnn3zyr3/9665duxRFkSWJFwR8Z4MHD3Y4HM3NzceOHUPvCEmSkUjEbreXl5eXl5enp6d7+tydnZ2HDh3auXOn2+3uQ5SpINA0jRNHSUmJoijJycmZmZl79+5tbW0VRTEjI+PGG29cuHBhOBz+6KOPli9f7vf78/PzKysrs7OzCYLAa7W0tNhtloyMjL179+7du3f//oPZ2ZkPPvjg7Nmzu7q6srKyotFoVlaWLMuvv/76W2+91dfX9/wLL3o8nubm5pMnT3Z1dZEkmZaWlpqaOmXKlNLS0uHDhxsMhubm5qNHjzY1Nfn9/va2lkAgsGrVqs7ObgBISUnu6enVNDAahUgkkpmZabPZDh+ugjjGBV0yNE2PGjXq0ksvTU5O3r179549e1wuV1tbBwA4HHaCICorKx0OR0dHx/YdO5xOZ0VFRVNT0/79+3met1qtDQ1NOmIGAGiaFATB4XAkJycbWE4QhGg02tramp2d/ctf/rKysvLkyZNLly49ceLEgQMHZFk2m82FhYUlJSUNDQ0Ew7a2th49ehT1fBQPk8n0yCOPbNy4ce/evRgHQuPZ6XQGAr5QKELTpNPpxMAJABAE8DwnSVJ2dnZRUZHf7z98+HAoFEFRvCDq6MSJE91ud2dnZ19f378khIl5X4qiGI1GNJR1I4cYgC3rB01E7LvEw4xGI0VRPp/PaDTm5ua2t7ejudXZ2SnLss/n0x2qEPej4sSPL8NqtU6dOnXjxo1AEsFgcPTo0SkpKVVVVa0tLfpF7UlJJSUlI0aMGDly5AcffIALb3tb25m3hzYkRdMqVhEDMJnNDoeD4zibxSoIQk1NTWdnJwCYTKZAIIDaEZolLMviSURRHDJkSGlp6bx580wm09q1az///HOPx4MRc0EQ0M/k9/sZhhk0aJDT6QwEAt1dHTk5OcXFxXPnzu3r68vMzMzJyTl58iRJksnJyWlpadu2bduzZ8/777/v9wcZhrInJV955ZUzZ86MRCJVVVV4VzRN79+/32azYUc1Nze3tLRg7zE0ybJsKBQxmQxWq9Xj8QSDYXRvjhw5/Oabb05NTX3wwQc7OjowGqEoypgxY0pKSgwGg8fjOXz4cFtbm9lsttls3d3dWVlZY8eOXb9+/bFj1TiC8XWyLE0QhO6HTGy6cotDS5UUOh6QGFNRftFFF4XD4W+//fbIkSOyomIlU5qmHQ7HJZdcMnPmzJkXzV2/fv1TTz119OhRPKHFYlm0aFFbW9uuXbsQNqS7T/GN6JozTii6T4hhqHHjxl1++eUMw/zxj39sbW0/x4gdqA0khIgl/pegc+gd4XneaDRaLBar1YoSiN/ien3u3w70LZ4ExRtPokOrAYDneQBgWfbaa6995JFHSktLjUZjv1/pV6FpGvfjX47jWJYlaepUIjwBgtFA0hRJU0ASqelply+84qprrta/TU5xAkkQFIn/0iyDjGMMx+o7GY7lBF7/CUICIO6sT2x483ovWa1WnFNRLPVO07sOMaWJ/Yb2A34cSbYbrl8cDgU0Tfl243qvp2/f3t2rV33tTE7CA5LsViLepbrkY9NN935WPcMwBADPMffec1dLc+Nzf3jWkWS7aM6shx96IMluzc7K4Fg6xekYPmzIC88/V1FeJvAsRYLRwJPxFCeOpceOKf/N00+aTQaGJosK82fOmDZ71oxLL5k/b+6cq69aOHRoKUYCAIBlaXy3NE2SJDpF+48HCsAs8Jiq77BacjMz8F+epnAnQwAFkGQxHzt86NjhQ/X19R0dHUuXLsVHttvtEydOHD9+PBLS9XtkmqZ5ngUAQeAYhqIoQr8xhsGxB5dcMn/p0reGDClhGArdwol9qLezj+YzDjvzJ/1ezVkavviz7tfPkp6eXllZed1119lsNoiPdThdeM6jxUcZy3OC0SAYDc7UlJy8XH3QAwEUQwtGg8OZnJmdRdJU4ldAAEGRMbmKH0yzTOIBLM/pP8ENs9Xyn489qmraI//5q2EjhgMBJE0ZTMZEbR3nDvTu6P2rP6MuQmgbQ1wICYJAdBgA6JMCNtxPUf3f66meSJhQ8EIEQTA0qT8uTRE3XL949qwZTz35a01TNE3p6mx/9523HUk2/JahyX7DLrHhfSZeiGEYGuCyefO+XrHijZdfXvX555UTxtMAPE3l5WZ/8fmKyZMmQAx+jXNf7PF5nsVzYH+wLB0/IUWSwPNseXnZM8/8ZuXKr3bu2PbYo79CUTcaeHwQlqEY+tT8gvspEigScL++QVMESr4u87hdWJD32quvbN2y6d5br1z66jNPPfqLlCSBArCaLTxnAmAY2gBAcwxLAeRnJ//5j0/MqhxupmOPQFEESiDHMSh+ubnZDoc9IyPtww//9uKLL3Acw/PsrFkzxo2tSHE6LGajfrf6nVMk4GAkCdBnpXM0miYtFlNaWsqAh2EyG7rpcFtRFLRu9biTbt3xPK8vrLgHxyui+855J/2b1W6z2+12u91ms2HuKUVROTk5kyZNWrt27bp16zCZ6NSTxP1d2ul6byIIhiDJmB2sqhzPI8CFYVlFUVRFycjM/POf/1xRUWE2m5cvX/7OO+8cPnQIT8JynCxKZ2rU6JjVEWG6TxwVYFRy8Ioomag1zJ49e/v27W1tbbrXrp/fHKVaP5uuNaFOi+dXZFk3n3AjJyfryJEjZovl4IEDvb29J0+e/M1vftPe3omRNzIegdAVexQ5jMRCHKGKV6Qo6qtPP7340kvdPT233357NBr1+Lx79uwRJZlmaVGUTSZDMBRK9H8SBJAkoXuJNE3TnaIsy0Sjkt1uvfnmm1966SWapm+++ebXXnutp7v7yiuvPHLkyHXXXVdSUrJhw4avv16FJ4xGRU0DmiYxgGE2G/3+IJzui0K1NtEDRFFEfn5+Tk6O1+vtaa2xO5Ia6luDEeA4OhxVSIqTFRkATEZTMOiZNH7MqJHDvO6e1WtWBvygsTRFUeiM1aMjU6dWDho06PPPP3e53JdcMp8kyTVr1kyaNKm4uNggCKqqbt26ta+vz+v1RiIRPbx51hbLdSTj+cenDyWWpTmOO5es6tFw3auG64DuXdXzaDVNMxgMaBCiX14UxZ6ennOcfMBGAMtxOHY5jgsEArIkWW220tLSa6+91uFwfPjhh9+sWQPxAANBkmlpaYWFhRiKaGlpqa2tRVgZxEVUD+j1Q7rwgiDLsixJNrv9tttuGzdu3J///OfNmzcTBHGqt+KmK0VRqBzqlieufrqBjoOb4zjsBN0IXLx48fbt2xcvXvzss8++8sor999/f6KLUvf+A8Ty99EXhTGDYDCIlqEsy2i/4Quz2Sw+n09VwWo133333UuWLPnuu+9WrFhRXV2tqmowGPR4fDhMdcsb3x26YXGPwWDAdA2KohBQDgDhYLD22DGXy0VR1IkTJ9as/eaLL76w2WwTKycfOHCgubk5Ksqpqc6urh4AEAROkiRZVikKA24x40qXEIOBdzqdt9xyCzrV3nrrLZIgFixY8NJLL5EU9e3GjTt27Ni2bdvGjRtlWUn0EggCZzQae3v7EKNDkqR+AM+z6FxBrAIeb7dbA4GAJMX4z0eXD5k0aWo4Ku/Yubum+mQ8iypKEMqDD/wyFPC+8847sgQ0DREZO4ckCEKSFJPJMHjw4Llz57766qsej89sNkqSFImIaWkpjz76qNPp3LB+vSzLX3zxhdfrpygiLy/v5MkG9FrpcwT2M0VRHMdFolF9nGBf9RvvJHnOBVOfp/EUNE0nJyf39vZq8dJWEDdg9HVA0zQkffD7/UePHvXHheE8GnkaBANj4rEcP1UdVFw8b948URRXrlzZ2tJis9sxZIdaX1JSUnp6elpamtVq3bJlSzAYxL7w+XyhYBAArDZbjAAzHlvXAWsMyz7zzDOfffZZfX19d1fMS2a2WMLBED6gvh5i5+qSFh80AmbHAAB6VvArq9XK8/xFF12EUYQ//OEP+tyUlpY2ZMiQYDDY29vb1tamyzbC6/QVEpdN/V0kBusRS7VgwcVer3fIkCF5eXklJSU0Tbe0tGCmwtGjx01mcyQSkU5n9daRTAhqxVwNQRBuu+22sNdbU1MzevTopKQkSZJmzJqJOYQ79+zOyMj461//umv3blydUlKS0X3P86yiKBi+p2nKZrP19LgAgCBg4sQJs2bN8vl8S5cu9fuDFEXwHBeNRmfPnh0MBgOBQFVVlSQpWVkZF1988RdffNHd3VtUVHDJJZeEQiFM1d+0aYt+27rMxzsqhmWhaRqBchaLKSPTWVpaajZZDx06XFNTF46IDMPl5uZ2dnbSNJ2Xl5PidGze/H00qnA8RKOxZZyiYkiDiorRDMPU19f39vYqiu4UFO69916Hw7FixYrDhw7h0mcw8Jh8c+TIEVlW8V3g8Ri/QV3AbLHgHBqJRHSMnm4f/ECKq8FgwLBp/GeE0Wg0m80dHR1wuntTDzzo4DL0BCT+/Mc3ko4hUViOE5H4PR6TwnWMIMkpU6ZMmjTp8OHDK7/+mqJpRVF0uSUpCnNVbDYbSZJZWVlDhgwRBKGhoeHEiRNer9disfT19fV0dyPJBQAMHTqUJEmDwYCJdh0dHdXV1ZWVlQUFBZWVld2dXU6nk+O4+vr6rVu3Hjp0KBAIoIslEong8NVVbh0qhfrqlClTJkyYUFBQcPDgwXHjxn377bfvvvsuavU33XTTzJkzGYZZt24dz/MWi8VisZAk2dfX19TU1NnZuW3btlAopOsgZrPZ7/fTNG008JhNrw/9xx77z4suuujRRx81mUxz5swZPXr08ePHEbFdVFS0ecu2lpaWmpqaEydOtLS0YCIS2u0IqdV13fnz5z/00EOfffSRIAjTp09XVXXy5MnmJHvQ55s5c+a+gwcURZs9e+bkysqnnnoqLy9v4sSJRqNx06ZNdXV1sqyaTAaWZRF7bTQKNpsNMzBWrFjR2NiMqBSeZy+95JIRI0Y0NzdPnDhxzZo1HR0dqqo+8MAD+fn5Dz30EM/z06dP//Wvfx2JRAiCMJlMCxcu7Ojo2LVrV1+fRx/opaWD77jjjqqqqs2bNyM0nCBg9OiyWbNm/fKB+1RV/fWvf738b3+XJQkXZIqkzGZzUlKS0Wg8cbI2FI7yAq1pWjSqgHZq3U5JSR49enRjYyNCjiCu+gJASUlxb29vb28snDBnzqx77723q6vrvffeO3bsmNfr1cHfOjsKw1CCIMiKgkIoSbK+uKAhqqoq/uqHQxRo2tlstsGDB+fn53/xxRd6yinE4544VlB3PZM54ryEkOFYkiT1ZHZd9nRRTNQwE4GdAzaCQLAvuouSkpJSUlKqq6sNBkN+fn5qauq0adPy8/OPHz9eVVVlNpuRk6K0tLS4uNjv9zfWNwwbNiw3NxcAmpubjxw5gm5udF1i0kNjY+OOHTs2b97c1dUFAAsXLqyoqEhOTqZpOicn55prrsFoYXZ29pw5c+bOndvb2/v9999//vnn+nJnNpvT0tIyMjKSk5N5nicIAk1Hv9+/bds2URQRmz558uQhpYP7+vqOHTv27rt/ZRjqjjvuyMjIeP7558eOHYswFEw4EAQhPz9//vz5JaVDOzs7EYzS3d3d19eHs0BxcXFLS8v+/fvNZvN99923ePHi2trajz766PDevRzHTZo0yel0trS0rNuw3u12Hzh4SI3dpzEqimPGjLn11lsxh7C3t3f06NFTpkzJzc09ePBgfn5+RUWFyWTSNG3dunVms3njxo3Lli1TFG3KlMmTJk3iWPatt97CEXXy5MlRo0YtXrw4Eon8/Oc/93q9lZWVnZ2duNToxBmoNlssluzsbK/XG41Gi4uLOzo66urqAoEQTZOXX3758OHDRVGsr6/fd/BAOBxubmzBka2XssOmAXACQxBEMCQCAUaTIegP6bA1zPd3u70IS5Akief5UCiiG6tGoxAKho1Goby8/N133yUIoqysDOdEwKIfJKnD8UgSWJYNn45Q11G4gCWCfhTZgy4JDDNo0KChQ4ceOHCgt7dXRwNBPAEnLy+vtra2n9rzg9kSZ7bkFCemzxw5fBjfg27I8YKgaVqifJ7WCAKjGugPjEYiFE0TBKEH4nVXDUb2k5OTp0yZQhDEzp07G+rrIZ45wXIcgsizs7PramtNRpPZbDaZTKqqer1er9eb+Iw0TRcXF19++eVXXXVVSUkJSZK7du36yU9+0t3djXYIKpnTpk1jGGbGjBmRSOTLL7+sra3FiexMQGOiinHppZeiu8jlcm3cuDEpKYmm6ZMnaseOHTt+/HiHw6Fp2jfffJOZmTlu3DiUutdff/25554nyVhukdlsVDUC0WqIy9FTCqxW6xNPPDF16tSmpqaTJ08ePHjw+++/b21tRbdmVkbGm2++WVhYSFDkli1bPvzww607tqNsmMzGP/7xj9u2bfvgg+Ucx0ydOvXvf/97UlLSsmXLXn311YcffliW5TfeeKO6urqrq7u4eFBHR4fPF6AoAhdzTdU4js3IyJg0adK6deteffXV1atXHz9+vKCgYPbs2SaT6aqrrkGXjw7jxpWKIMBiMQMAgvUOHDhIUSTHccFg2Gaz3HTTTXPmzOE47r1l769eucrV5+ZZatSI4bNnzmBpetN332/ZtpuiQFSAIEEjQFaBZWhRlgUuBhw3m40IIcR0Clxy8U50KQUAmiLQlfWzn/1s0qRJd9xxRyAQRBdU4nsUBA7Z4swWE9opiB4DAMwb7qeRDtjwNwaDITs7G0lNaJpOSkrC/YnhPtRIaZpO3PNPhyhWrVn96OOP6XEFDOLpIQeSpvR4HZLvneYSPuPTL7bBcOzoivLJUyp5g1BUPOiOu+687IrLhwwbigdYbFY9aIHBDAR29gt74p7EnTzPT5s27aGHHurt7TWZTEQChzRN048++mhlZaXJZNJ/rv8dqJcwAQoA8vLy7r///hdffBFfAUOTJAEUCQvmz3vzjddWfPqJpinbtm4eP25Mkt2KrnOzyUDEjzwziKJfVKeow5krdm8AJpbNSE7WFEVTFE2WDuzZ3dPR/uADv6QpgmNpAEhKsgEAxzEWi+m5536/atXXV155hd1utVhMixZdYzDwEI9VMAylhyswFpP4cjiWvuH6xaNGDr/qyivuuvP2e+6+MzUlGeMQia5/9P7jG9bfc2JYymoxXbf42gXz51FkzM9hNXHL3nk94u1qqT10eOe3Xy1fumDq2NElOUkCsAAcCSx1av2hKIJlaZQKDFTo96xvY0iT4xi8bbzutddcNWL4UOxt/cZ4jhk2tPTieRfNnjVjxPChY8aUl5QUp6WlWCwmg4HnOEaP5eifU68ETo9Z6c1gMGRmZprNZn3clJeXDx06FF9eYkga/YeJUS/9X57nddGN5fXFxVUQBIvFMmzYsKeeemrTpk1XXLmQE/gRo0YWlwwuHFSE8XRdnCiGToy20yxzWpCQJBguFo5HKcKdFEMDASaL+Y677nzxzy/t3b+voanRF/CrmvbpZyvmzL1IP0NidDH2L8RgWfrw7RcqRPtQlxyIh1+nTp06f/58AMjKytIDgEQ82V9//EQhRIHX/03cPvWCAAgAg8Dhc1MkCDzLsfQvfn7Pju1br73mKpNRIAAEniXiPEj9ZpDEV6x/pd+PiWVpAIGi/v7++2okoqnK8SOHX3/l5Z/ceD2Ov/io4H/xi3u3bdvy85/fYzSeGgOCwOEDCQIXf0DsGQYA6IQgJ88xuFE5eeLPbr152tRKlLrBxUUjhg/Vj2EZShdLjCjq8snQpH4S/RgKgCFh4SUX7d/xXcOxfW01++S+pvbqPf95z5IFU8oKU41WNlY3lSZAYEiUOooiOI75wVWDit8GCp4e0uRYekzF6BHDh16y4OI/vfDHNatX/vK+nxsEjmXODlnBecpg4JOTk5xOBw0A6CJDcj4AMBqNmNyNOemYhY0/RieBLMtPP/30qlWr3n333X5xQnTP4MASRVGSJNS4dNcf5uYIgoDgPfRqhMPh+vr6L7/8csuWLXkF+Q888MCqVatqa2rSMzI4XXopSlUUhuMi4TCgn9PjkSWJpChcz50pKQ6HAzNENE3r6+tDl2Y4FFJk2WQ2WyyWAwcONDY21tfXI5C/qKiotLT0gw8+wIyY1tZWPbFQ0zRFlvHpjEYjrv+Ywq+7YTiOGzFiBE3TRqNxw4YNAIBgRVEULRbLiBEjAKCgoGDBggVLlizRNO348ePff//91q1b6+rqElOfdSxiPxCwLMsY38eYpKqqgiBEIyFZVnX2CnQbyLI8a9as7OzsQCCAjlOCIFCnQhQyyjNqyBgFIRO4dogEdGFEFA08n5ub63K5Vq1aNXHypPz8/GXLlq1YsQLiWRQ8zz711FMMw9x00011dSchtpiw4XAUb4zjGMx4lCQFVS/U1qxWa2lJiaqq3d3d3d3dPM8vXLjwlltuYVn2o48+Gj16dH19fXl5udvtDofDGHDCuyIIgqIAH9ZoFPAtBwIhHV8mSQp+SwBMGlc+bky5z+Pev2dXV0eLzWqWZdnj7fP63GazcciwEUmOZJPFKklKV4+rcsaso0ePNjc349gWRTEUCmGGZ3d3dygUQdNOT2ThjKzPF0BnbF5ezsSJEwsKCvLy8vbt29fX11ddXf3EE0/giA2Ho/p0l4iMhXjmCiZ2EBiMSuT2ouIEqfEXySG/A8MwJEkiIxAmfdx9993d3d1vvPEGZk7gT7Kzs1mWbWtrE0UR08YhIdRx1pwubAj/i0QiXp93xsyZd911l91uX7NmzdatW/ft25ecnIzOxp/85Cc+n6+pqYkkSZfLlZqaevDgQZfLRZJkXl5eXl5eSkpKVlYWIvG7uroaGho+/PDDVatWISMQaBovCJjPEgwEDEbjVVdddccdd6Aj7r333nv33Xc9Hk9eXl5hYeHgwYPT0tKKCgo7OjrcbrfBYEhJSaEoqru7u7Oz88UXX0QZGzFiRF5e3uuvvx6NRjGy+rOf/ezaa6+NRqPPPvvs1q1bR40a9eCDDxYVFRmNRoPBECM1+/77DRs2VFVVndkVuPBKkkScDWFLkZi6qenvFd0G1157TWtra11dXVJSElKboT0Tr4Jx2ql0Ciktzuyo5wQ6rdY+jwcAHHb7qFGj7v3FzzFtPxAOaZoWjUpWm2XMmDELFixYvXr12rXrIYErTU+0x4Y3oCMzL7/80ueee27rli1btmyprq5OSkoaOXLk3LlzWZZdvny5wWDIzc395JNP2tvbGxsbJUm55pqrxo0bt2HDhtTUVKfTaTKZSkpKZs6c2dra+tvf/hYJS9vb230+H/o2s7Iyhg8f/uqfXvD5PVs2fV9Vdbim+rimSOnpqTarOTs7W5QUkqSzcvKGDR9hNltP1Dfs2b3vm+83nTx50ufzIThE7w2CIHp7e2VZTk1NTUpKwvwyiqI62tttNltZWVleXh5yfx08eLC7uxuzLuOzp0rTpMVi8Xq9ckJyCUEAw9CJblJch2PxZZZlQ6EQRhcKCgry8/Orq6sRwQwJYWgAYBgmEAjgipeVlYWpRpCgfE6dOnXu3LmHDh365JNPIpEI6jn4AIIgoDe8X9ItjgB0YzAcK4niyFGjfv7zn7e3tyMvdU1NDU3TPT09Vqs1MzMTfXErV678/rvvkp1Ot9utyDJCQ1RFMZnNaWlpOTk5iDWpr68/WlUFBIEXRSJqzL5Hozg1La23tzcpKWnMmDGzZ8+eNGlSd3f3l19+WVVV1dvb29negcyF+iAuLi4uLi5+9NFH//KXvyxfvjzRDL7xxhuXLl0qy/ILL7zw8ssvI6GLwWBoaWnBSBEeOXz48Hnz5s2fP3/kyJF79uzBoMiRI0fq6ura2tr04CoSbGMi0qn06IQFEABIEq677jqLxdLV1bV169bu7h6AGKMESZKBQEgDwCwEVVV1jDsiBPq5zWKZxAA8yxqNRpfbPWnCBLfXc/vtt8+ePXvwkKG6VI8bN8bj8dTU1LEsLUkyyzKKouCihMExUZQwS47juPHjx48fPx5v8u23337h+ed15ydJElOmTFm0aFF2dvYnn3wiy3JDQ0Nvby9GHRDxk5GR9uijj1588cW5eXkA8OYbbzz//PP19Q15ebkpKSlOpxOZl/Py8saOHTt06NB3Xnv1wIED323aSgAIHCQ5rEajYDQabTZbYWGh1WrPy80vKyuvrq37cPlHG7/brK8JLEvrifPo58RtzNtEmLjBYPB5vYqiJCUl4fIYDAZ17kZ9WkT3aX5+/ubNmxsamwBOgYr0qyTyvMcMtoqKCpqmt23bpqrq0KFDWZZNT0/fvXt3V1eXruDpEyoGLRCuhWkKqEqpqmoymYLBoKZpZWVl48aNa2lpWb16NQampk6dajQad+7ciZFGOD29jaIoq9Xq9/slWUpMWjeaTMFAIBZbP52gPvGwWMxdkvBbPRbPchxmGyXyi+IMgppeME5Fo//EYDQyDIMk8Kqi6HQVuEDhY5IkOXbs2KSkpG+//TYSiZhMpnfffXf16tW9vb0333xzenr6pk2bNm/evGbNGj2Dtt+Ix/AG9jOmF40dO3b06NEURR05cuTAgQPHjx/Pzc0tLy/HPLejR4+uXbu2qamJImOcn5jtnpycPGrUqJqamhMn6m02SzAYlCRFJwIlCOB4QUca9tN0EnkPdO3UQNOiLANAQV7e4sWL0zLSXS7X8OHDM3OyUZVdu27dvn37MDghiqcwdAxDZWdnp6amtra2RqPR1NTUF198EflUTSbTJ5988t5770PcHa8vngYDj5pUVVVVX1/f888/v2XLluzs7KNHj2L4AQDmz5//i1/8YtiwYa+++uqzzz6rOyox4YgkSWSmIAgiEAh0tbYDgAqQn5elKFKvqzsU0igaJk0am+J0iqLo8wYiEXHnrn0kAM/SoTMYK/CJWDbmjdPhASQJNE1TJBmJiAij05kEdOS3rqGkpjpHjRp17NixSDSqK7qoxOqFN3QUG4GZPoIgUBSFyxRmjguCoJNG42SP449hGN3zjoIkCAJO3mgZ4vqD3HKpqamapvX29kajUY7j8EjESfVz0JeWlpaVlfE8/+577yJtGUlRiXQSiP8Uo1E9YBgL02P7Ie4M5IBB2hg95qETwxhNpmAwGEOrxUckRVGYpIvOGFVV9eGLK4lOIQUA119//T/+8Q98HEwpSk9Pr66ubmlpOSupST+R0NXF5OTkqVOnVlRUYDpyZmZmenq6oih1dXVNTU0ZGRliNLx169aqqqoDBw7gS0XkSkpK8vXXX3/33Xc7HI5f//rXr7zy6qBBhXV1J7FfOI6jaRrTu5B8DR8BNfPEqC+jaVar9dZbb62urp48efIzz/7O7fGSBPzuD78vLy9XVXX7jh2tra0Mw2D2c3NzczgcRitgxowZHMd9+OGHzc3Ne/fuZRjm+PHjyC+og10TWed1sIvNZkGMUTgcffXVV26++eYlS5Z8/fXXmKj5yCOPdHZ2/ud//ieukKh+cxwrimJsEBPAcawsy7KsUgAYujDbzH19fVFJ1gAYlszJyelzuftcXkIDq9Xo9wY5lpFFCVga+18UJU0DPbqDp6VpCuFyehIzlxCuOGvTZ8ARI4YZDIaoKOLiRNN0XV1dW1sHhgoTmd0IIoHODJNo9aGGCy5a85DAs3RmHjH6RXUuR30nwrvQsEykukgUPx2hijnBEyZN/Mcnn8S6VtMwHK/H62N+hfhvdSnS/8XEfIzgsxwHAKecEDrvCEliIq8O5oYEfNwpOcRnOV269a5AsTGZTGgt4DIiCEJWVlZdXV1ir+oLvp4M0Q9IRMaJsPQMZnTGaJqWm5vLsmx7ezvq/FOmTNFUuays7OGHH87MygIAv8/X2tqqaVpTU1NBQcHgkpLmpqbnn39eluXrrrtu7dq1H/ztw7Kysnnz5g0bNgxlvq+v7+TJk/v3729oaBBFsbm5ubOz02g0VlRU3HDDDaOGDGlqavrd7353uKpqamWlw5n83Xff9bk9glGYOnXqyZMnq2vqAMBqNQNAbm7u1Vdf7fF46urq9u7d6/P5ZFmORERB4DIzM3t7ez0en/6YMTBXbGidGspJSbZrr7125cqVLS1tADB2bMWhQ4eKiorWr1+flp5ef/Lk008/vWzZ3wCAYShFUVQ1Rt8GscgBqef1AwAZrwlOkKRGgGA0hiJhUGQgCFA10MBmtxcVFO7buxcAKCCQCgEFI3GexOIC+iKpSw6cvvTha9I0DZkHIpEoSjLOwl6vt3jwYJ/PZ7FYECKyb98+SZLh9FXjlLcal3VN09AxBQkYSF2V0lmJ9D0mkykajeKcilHsREO/X8NwrcFgWLhw4eeffx4MBlNTUysqKrxe7/bt23HxycjKlCSps6ND1zZxIyZv8RkpJj/xf3VwacKTncKgxmidFAVvOOD3nyLDTzgGC78kSjXDslJUpOIltfRO18HZ2A/49yc/+cns2bOzsrJ++tOfNjY24vOipX1W0ALSBUTOhj1An1k/g81oNJaVlQ0pHez1eouLi6urq7u7uz0eT3t7++jRo9FNV1dX99Zbby1cuFDTtBUrVrAsO3/BpSaTqbW1tb6+niCIcDjc0tISCATy8vICgcCQIUO8Xu/+/ftlWR4xYsSTTz45dNCgxYsXHz16FOHS5eWjn3vuuQ8//HDj99+dPNkAAEJcAHSPKHr29aldlxCkvWAY5jTMZBxNomkgCLEjhw8fKstyW1ubzxdgGIqiqCVLlvzqV7/Kycl55JFH3nzzTa/Xj8RnOh4FE470ZYrjYiA+imQoiopKIklRqqboQg+qCrLMmc1//P0f7rn99id+/eRzv/+DKIm8wCQCdPQNBKaiiQsAuE4CAM8xyPuMTlQ0klCAdbnF5dRoNHIcN33GjJqaGk3TsrOzm5ubDxw4mLAAApkYRLLZbDp/DsKmEseK/i9N0xiLYzj2zGg4oYdUE4KXBEXqgb7LF15BMTRBkfPmXzx0+DCTxZyemXHp5ZfdefddJUNKExOwiHhGb2LT0TCn5UHG43t4Zv2i/ZIMMQA4Y9bMO+66s6h4kN2RhJm4FEPzBkF/HJKmWJ477RHinYA2pB7Ww+wkiIMWJkyYUFhYaLFYxo8fj/EA3WGDuRFEnP9Kf4pz4xkSA+j6PTAMYxA4DKBddeUVj/7nI4sXXYMBbowZYhwZHx1j+nl5ecnJybpgn3khfAqbzXbDDTe88MILdrs1fts0TZPjx4/FTMUHH7w/JycL4thIkoTEk2H/YKArMSEbTgcJEASRiKrgOSYxIk9TBD6d3WZZeMVlb735+ueffTq4pJCIE3UnvHAgAHhWIIA0GawU0BTQJs5MA0MDcATFERQdL9iKH56KbdQePaSpoqaKW79bv+CimXaCNgEIAFy8uiuGAmmBidUkJmI2M0sz06dOe+e9pf/xq4cXX79oyrTK0qElztRkIGKlmkmaoFmKpGPFjFmeyczOMAicMzkpKzPdkWRLS3VinFN/XqvFlJmRFuvI5ORko9HY0dGhz+4QV5/QqYDWs6ZpBNU//wAABIMhEon0X4iwaRrLcVOnThUE4eTJk0erqgCgbPTopKSkzZs3Y/qC0WjELEGCJEk4xYSJbxT/1RdnvEMdJh6ORuD0NVC/MZPZjBFOu93u6u0FgClTp5aWlh46dMjr9YZCoba2tlPsMgSRmF1BkCRq0SQQ6M1PzPRDDVPXMwVBmDZt2m233fbll19++umnOu8wxFWGszIswQ+xdCWa38gmjIh2pMTEYwSB+9nPfjZq1KjKyspNmzZt3bp11apVmMQQI0SJ52SgFzoxbQoA0OWmpy+GQiF0puupPU6nY/v27Xv37r311lsTCzDp7r6BLN7EBIBErIJ6tufFi+INJyXZEJ1PkuStt96aZDP//ve/72jvJAhCkjWGJliWD4ZOVVAjgNAh0CzNSnI0TsmN4hPbVjUgCVA1uOee2xEmPnr06E2bNjVU1WzatGnHrl1BUaQYMiypGgEkRahIFkkCKEAADBs29Lk//GHUqFG33XnH4cOHu7u7RVFUkBmVY0aPHn377bdLklRTU7N3797Ozs5oNOrxeDxuL3G6RsjzrN1uBwDMmEW5o5OSkvr6+hAOiooTyhtGOTBAjGx5ifxQAKAqCkEQaK2FQyHd2yFgyRtRzM7JmTBhwubNmwOBQG9vr9Pp9Hg8DMtisVsM7gGAJIqeOKOupqqKBggSwMGhj10E++v78WZk+YzCrMjAoygAgKVaAMDV20vR9Isvvjh16tRXX33VarWGw+FwOIyWIUlRBoMhcHrWlaaqiApI9I7q36IE6iPPbDYXFRVdcskl3d3df/3rX+H0DC9IMAJxidDnlHNLoKIo+oV0E5qI81sjXTzHcddff/2YsWObGhtPnDjhdrvT0tIQ5oraFC6/EK+gBHHJx7RjvAEUGJyw0PWKuTkMA1OmTCkqKvrkk0+CwTBqfaIoalosbk6S0E/MIJ5ArAM89Ia9wcdhmRzHUBSF6ihN05Kk4DSRlJTk8XhaW1unTZt2++23N5+ovmTeXI7j+vr6Ghsb6082tnb2CBylaRARFZoCWdEANCBBVUHSohzHRaKnvIaqKiNjIkMTkqylpji2b9++f/+R9evX33DDDWVlZcljjArIwUjg8LEqjSBSMpI1Arx+n8cdMFoMQW+IpCArM+O+X/68pub4woWXs4LB6/EBgNFkkCRJjEocx3Ect2rVKkmSamtrjx+rJkhISUnhed5okgpy8/Ly8urq6jo6OhYtWpSVlYXYgObm5p6eniNHjoiiSI8ePRolW+9NtPqQvCwUCtlstunTp3d2du7fvz/W3SRJ07QYjaL+S8RlCZcRZLamGSYQCGBiQWFhIdaXw6Dn0KFDW1tb9+7Zg6MSNA3jEKBpJEVpipo4XGKBBwBkrcPb0zSN5/mYxwW0xKAFxGvuEiSp15mw2+3XXnvtnXfe+dZbb7315pu4E0lxogShqqougZqqormor0K6BKqnM1UnkoL29PQg+1BycvJll122ceNGfTHEJClMSuo3raAKN1C2Fx0vcijLcr96emiuYNJQdnb2sGHDACAzM7OsrIxhmO7ubrfbjeJP0xQKm64Ao3hj3VK9b3W7NNFhpmmaJClutxsAsrKycLGKRESGoQgC+SxP82TonZOY46YnPes7sfYgFmDUKxOGw1Gr1Yx8qidO1J84UZ+ZmX7jjTdqmmagSQvPHjiwv6GhITMn+yfXL0pKdiia+te/LmtqaRGMJkVR+jyBnOyMQYMGOZ0pyfaU+vr6qqqqltYWSY5zexIgyZrAM13dLren7/XXX542bRqyKNgEJikpaeFVly0WrrUmOZLTUhubm9au2/CPT74M+kIVY0cVFBQk2exPPfFkIBBQVdUbdzXpbki/L7B7924Ef8uSAgCaCj09PaqiAQFVVcd6enq6unpsNgsmf6xfvz4cDhuNxkAgEGMhsNvt7jhhBL4k3W7RmcNtNtuNN95YXFy8cePGb7//zuf1khTF83woTmjJC0IkHGYQh6GqNrt99OjRWOPq5Zdf7ununjR5sizL1dXVXo/HbLH448EPdIToXkqSolQ5Njeji0iXRvRGKopSUlKycOHCIUOGLF26dPPmzUCeruHE52PEBgiCMGTIkKKiIofDUV5e/qtf/ar+5EmSotR47ReIO35iE8GZwkDFKIYTPZx64FTXNi+//HKHw5Gbm1tYWPjiiy/u3Lmznx9VP+GPz/BCokSERuhjGmeWxHj9Cy/88Zf33//Vl1/6fD6kFVy1atWePXt4np8/f/7IUaNZlu3r62traztx4kRDQ4Pb7Xa5XBhcQbb8SCSS6CXKzs7kOI7neZfLxfP8V199VVxc/Morr2zYsOHYsWPRaBQTXtFDqCjaWW8+UU3FO8d+4Fg6vvqRZ6qx+fm5WAl0woQJc+fO3bt3b5aJPnToUHd3d0d3zz/+8VlIhEmTyirGjB0+cgRnMAYCASCI/YcOezweWVGi0ai3N4gUj72uXgBgGZokyUhUJACGDStduHDhjJnTe3p6li9fjlHW9qaalpYWluecqem8QRCMJrfbvXf/AbfH89JLLx8/fnz71m0NDU1jK8ZEIpGNGzdrJLAsg0NR12skUQYAiiYxIgAAfl8A92iyChDLii0sLOjs7AwEQnpwFaviEPrI0IPv+vtAj4KuC40cOfLWW28VjIYNGzbs3r27sbExBsIIhxP7UTerUtPShgwZMmTIkG+++ebkiRMkRWFwyev1aqoaSwVM8GHGRFEDm82Wm5uLGeKYiYeDPi8vD1OoUElGIAHShwDEVKL+JB4AjuRkTdP6XK6U1NSenh6svMtiSOCs1e0TzEJNVeHsYyx2QYiX+0EVNxKJ3H777bt27Tp69ChG9rHrrFYrlv7Uf6vrq2d1I0OC/5mmaWS1KygoGDx4cE935/HjxwOBgNvtxlTahx566Morr3zzzTfr6upaWloKCwvnzZuXmpr6+eefb9mypc/tRVo3dOVjzIokSZ7nOzo6EDihh6Y4jsvMTL/uuutGjx49ePDgIUOGHDx40Gq1ogHT2dmJ0dGDBw+uXr169+7dR44ciUYlRBonMg/gs+uL/Gl4DwCGoaZOnXrJJZekpqb29fV1dnb29PSQJJmdnZ2cnFxQUCAIQltbG8dxdXV11Ts2RqOS0WSaPHlydV3t5q1bWN5QMqQ0Oye3q7fnw4/+7vcF/SFV091FcmzeVFXVaDRareZoNOpyue6//7558+a1tbVt/HZDXl6e3W73+Xw1NTWbvv26tTXA85CZk8oLRrPNynOCy91XVVWdnZ0ZCkba211JNpPbHXA4rF6vV1KAokmI04VgAA/pNmiajkajGAglSMBODvnRK2H1er3YQzabxePxoWkd98ee4Q3HlkjjCQnRZIPJuGjRoquuukpV1cOHD69du3bT999jEDwmBpqGihbOFg6Ho6Cg4Pjx48FgUJFlPV9ep+5MrLnZ19fHUDFCeJvNlp+fP3jw4JycHLPZrCjKvn371q1bh6AzDBJggZczhUMHJesyaU9Kys3Nzc/PX7lypSSKJaWlgwcPxqBZbW0tFoXHNQrnFIIkUVxpik40exJ9GEOGDJkxY0Z+fr7BYGhvb8fCoEjme+LEiRMnTqiqarfbhw4dajQa8/Pzm5qaMHyfqIKe1WMJcQV40KBBCxYsmD59elZWlsViMZvN777z9k9/+tPUtLR/fPLJc88919jYaDabsXjTyJEjkVq/p6ensbGxs7ObogiKZjFIq58ZQ6kUReXk5DAM09zcjMi48vLy66+/fuHCyw8ePLhixYrNmzePHj3a6XQaDIa8vLzc3Nzm5uZAIGA2m71eb19fH0VR4XC4r8/j9Xo7Ozs7Ojqw5BNeRY9mJcau7Hb7y39+0ev1trS07N27t7m5edCgQSNGjCBJsqmpqaenZ+fOnT5fwGDg8/Lybr311tTU1C2rV6SmpoZCIYPJWFRUJClaa3sbEGRycvL6bzd++dVGlQCaBpqFcAgAINERQhJkapoTM4xHjRqRlZWVnp6+YcP6lpYWp9MZDof7+vqaG1tycux5eXkMy/p8AY/f19vj6ukJCQLICqgyoM6EaxfHMaISc8ihfqQqGsezJEmGQxEiDkUgKQLtbU3TjLyAbCBwenTUaBREUYzVn4IEHx0ZZyVTVVWXOj13Lsb7TQDKzNChQy+++OKurq5ly5ZFwmE9rNcvlRb3jBs3zmg0tre319TUoC8kJSUlLS2NZdnu7m5klcc6uKCBznqiO7sxwIgAVF3Deeqpp2bPnv3t99/19PScPHmypqamubk5Vs+MIARBwG2T2cyybJ/LlZqW9uKLL/b19X333XdDhw4tKytLTk622WzRaNTpdNpstlAoVFtbi1kOSBfg8XiqDh9pbGzEkpS4Ojmdzvz8/BtvvBHLHra2th47duzEiRNI5puenj5q1KiCggIc7qNGjSIIYsWKFdFoVK+DLUmSy+XCKHlDQ8NZhXD8+PG5ubmaph04cKCmpgaVH0VRFsyfl5SUFI1Gscjhm2+++ec//zkQCDmdjquuuspisXR3d+/atQuBLAzD3PiTm44fP75nz55EfipdSUaQwMiRIx977LExY8ZUV1e/+uorX375JQapDQY+HI5o2in8saYBx8WIp3RkCU3TFosFk9rC4TCG7BN97DhjlpWVjR07trOjbfv27e3tnbpGjQBUnucw7YDj2EhELCsbeeedd27evJnVQsFgMBQK7d271+ePkiQMHlI8b958IIj33nu/vctFEKCXqacoUOWY+KlaDGsGAKoKNA1JSUlpaWltba0ul4+mAUlRUpx8SUmJyWRyuz0ej6erx9XXFyZJUOPnpGkwGs1er59laZbh/aEAL3BqvNAvzjLBYFDTgKZjgXu05zUVSIoARaPpWP0sLKeD+HsASEqylZSU5Obmnn0aPlcbqHxFArbHYDSGw+F+mmGy01lUVOR0Ol0uV319vW71+Xy+UCiEP9RtwrNcliTx8SBeTAPX2GEjhqempo4cOdLr9e7Zs+edpUsBgGaYGPVgNJrkcFx00UUIsFy5cuWoUaN27dqVmppKEERPTw9BEKFQKDk5Gfc4nc7y8vKKigqGYex2+7ix4yRRRO9uQ0MDwmLNZvO+ffs+/fTTAwcOQIIfAt3IOuQNy9HYbLampqaqqio9F4bn+aysrKFDh+bl5WVmZmJ9xQkTJvA8v3v3bvRIi6K4fv36PXv2JBa7xxWMAJWiKJxQCwvz09LSEIY6atSo559/XlE0HNOITrzmmmsKi4qXLl16VrwuYtZmzJhx++2379y5c8WKFd3d3bgqJhIK6rRFZyrO+k49BIqNIIhgMIiwaWQ3DQaDHo8HtaGzvt+EU8X0tKFDS++55x6fp+vrr79ub28nGTocjrpcrkhE41gyIp5hVMdiCqePT2JgcwI7gYWSkkHRaNTr9QcCgZA/5isiCZAVoCnSaDR6fTG/nUEwRDVJSSjCmRhCV1VVFCXQAOLgAVlSeJZBh5yesAKxhD6N59kJEyZUVFRcMCHEEQ8EYTAY0GGjE8DQcegpugpxJkbfDBlPpQM9iHROGwxNKRxGDMOYTCa310PTtCxJw4YPlyRp+vTpb7z+Ouq66C7C32ZmZV188cVpaWm///3vE9XgmCKdeBWSxBpGBoNh/PjxV195VU5OzqBBg+x2uyzLX3311Ycffrhx40aI0zoRBIEPhQKTGMXR/Z96TEXXzRKXo7S0tMWLFwuCsGrVqqqqqn7QPy2h0BfE4QwIa8S6tuPHjy8tLX3llVcUJZZTZzYbRVGMRqW0tBRZ0X6QexKdc0Sssjeg6oOS73A4UlJSJElqbGzsh5mkKLSCTvWejkkAAEzF0kkJ0ETUNG2gAZdYEU1X28xmY1gKSaJG0UCShCxroJ2GPj2zEf3tEx2fcvbj43omHQ3LADCtcmJaWtrq1d8EgqGbbrwxr6Cwrq5uzZo1fe4+AGBoJqJKFBXDFaJuIkmSEr9zhqUTYcYURUkRvfpSzKbTXyZBQHHxIFSazrPpdBKnfxJJrwmKZHkOsTX9Mtb7f+Jp7wRFxtLkz3HlOPYSEk0pAniDAARYbFaLzTpk2FAgCd4g6DAdi82KTBkkTaWmp/W7AZ1Eg2aZM7m6rXYbAJhMJqfTabfbi4qKMNIKcYJtHbujM1bgKOzHiKEfho+AMAP9SABAgin9eESxcBiqA4B4uhlBEJgyj38JAJvVPH7cmPS0FALAYjaeTjNwasJk4tRyAEBRlMFgwLyzROyRwWCI921sz4QJ406cqO3oaCstHRx/ENpg4PXEuX+CwOSso4AAMJsMicziOjk3UJCRn5Gel04ZKCABSMSyoKyRCZ8YNobo32KwMoI8+0eHxQDAZZcu2L5502effDyipKQwO/v3T//2ntvuGFk6FPn2KQCzYGB5huUZiiH7P4AOr6FObTMcjTziiTghmiJ4jkGukJLBg2bPmnHenTiQEOIoR6nTZS8RSgZxfgr8DCSTA76801FXp1BdOusMAUCAw5l8zaJrW9pa33z7raycbP3MukxyAt+PwyLxo2PWTuHyADBjDa+L4mE0GhPHNJL/9bth1BIT0Vv9HodMqJYBcSgp1hUn403/rS5Fie+yorxszeqV1ceP3nvPXTrhApagIAAQApZ4RV2k+80RPM+jJxwSaCkYhpo9e+batWui0fAHH7zvcNgTOp/QxS8xAnnaMEm4/8Q9AwkhkQC7w6cjCUiyWzPyssrGjnZmpIAuMLHXhzKUCE1jAJjzFUKaF4AgeYNw8cUXP/TAgxfPuYgCoAFYgIllo9Nt9swUh4mjTTwjMCRL4rAhaZZCYSNpAnFqDEezPCMYeYNJ4ASWYki8W13q9EfTH5BlqMyMtJEjhp13kdBzNJ7nHQ6HIAgnTpyAePAQ+wAXYk1VlQTNSlcFWY5TFEWR5XNnJCXmNKJ/j+d5TuAXLlzY1dW1YcMGMRrt6+srLy/PzMi02+1DhgxBq08URd1hE41G9aug4kejI0tVAeCsBIoY79Y9GZFIJG44MZIkTZ06taysrL29/ZJLLvnoo4/05CBUO/WBqCuZOGrxWXTHvdFoVBQlEokkxsohLquKoijx0qiaqjqdDuQXzc/PHzJkCBavdzqdkUiLpml6jqlewgD9KOjoQpNV1+fRvNF9NjoHKd7bli1b1q/f+MADv3z++eeHDRv2ySeffPDBB62t7chCD6DoBdzhjFlSNzH0QI4arzQ8UFNViBO9x1TTrKysW2+/rbOzc/Xq1R5XH+YfwNmyW04Nkh80sE4/QFYVIICgmK3bdmzevDkcCBAAPE0uWbKkt7enz91TNnrkkaNH6xsbCBJoEmQlnnupnnqbALEsPx3LBgAsx6iqShOkJEmJvMDYSQRBSJLS3t7Z0dF5wYTQYrXecccd4XDYbDavWbPm+PHjkXBYz3VIDFgTcaovHccYCxies+nBcR3PhcM6Eo0cPXr0rrvuys3NXbp0qaIor7zyisVi2bt3b0NDA8K+9MFBkiQmZODIxm0inkaoHwBxqn+GZTVFxQAay7LBYBCTfTGwht5ag8Hwt7/9zefzYYko5OZBgIvuKwMAdIv1M/D0hlKNC5TunU4EDEF8WBsEbsyYMffff3/Z6NFNjY1PPfXUxx9/HApFBIGbNm2aJElbtmxRVbBYTMiHifUw0LuD2EMyXoVCkiQdfIevQ5dA/LkkSTNmTJs9e3YkEhk1alRRUVF2dvby5cv37dunJ0Ykxjm1eCnY2Is+PZ+GOBtbR2LTQ9j4Q0Hg8vLyNq1fX1tbe+x4LQAwBKgEaCqhggagnspbQoj3OdwJ52gUCRoVDgbCmgoaMAQk2a1Z6el/efv1z//+YSQaSE117N7nE6PA8kBRYDFaNE2LRCKKLJIUgdUfZFlGmhhRFIGAvLzckSNHYjGIxpP1yPuq+34RwUuSJE3H+H8vmBBedNFFVqv173//e3Fx8YwZMyoqKtatW9fU2MiwrKZpuvNDMBh4nldV1YsVUTiOYRjErHE8L4qipvwAlARHM4YxFEUBAnbv2tXe3n7FFVcgXsfv9/M8P2bMmLa2to6ODoSkoZcIBxwOBTWO3lRkWc8YRglEBnhRFAsLC2mScjgcGICur693uVwul0uvfcswzObNmzH7+cUXX8T9iWFA3Zuvo+H1r/TSzYkQU1zhcT+y+0DC8DWZTBPGjzWZTPv371cU5dtvv127dm0oFLHbrZjahwwJSBn8xRdf7NixK/aMCcAdPKfRaAyFQnosQadHAACWpTEwGwqFc3Jydu/evWrVqhtvvDEnJ2fcuHGHDh06duwYknMmZtzpz6tHtvRtbCifA3lHAQBnQk2L4VfD4WhtbW3E7eno7hFIYnRFOUVRh6uOefx+A8uERUmLZQ7qKYT/VMP8OFAJkjQZBFJVhg0besVll/zhqSddrp5khy01LdlgZFNSaU7gNU2TNRNS0Vut1rS0NAyzRSKRdevWeb3eYDAoRiWv13v06NFwONzV1WXg+FAoFCOhImLjQVVjRPXo3blg3tE777yzvb39yy++sFitFouFZdkRI0Z8//33HrebZhiKohCYhqwS6DozGo0TJkwwm83bt2/v6+szm829vb3nEEI99ERRFGbTBgIB1C4SswFZjlu4cOH111+/d+/eZcuWIdE61qbv5wg1mkwY/BwyZEhhYaHH4wmHw8ilm5ycnJSUNHny5JRkJ7Kdt7e3Z2dn5+TkNDU1HT16dPXq1S6XKycnJycnJzk5OT8/H73w27dv7+7u1gs24bBO5HSh4qWI8VucR3UeLYjDJPT1E+KQzqysrEsvvfT77zY2NzfrCQ36soogssLCwvvuu2/kyJEcx+Xm5lZVVf3u2T98++23eCHdPZsYqMCoOr6OsWPH/vSnS2644QYAcLvd27dv37Vr11dffXXPPfdMmTKlsLDw8OHDjz/++KpVayBeEiPR7f5jhs9AAy4RiEfTJMPE0vzsNKUoymNP/PrBRx+XQ8FfPnD/G0vfBYgthTEMDpAJp+53G2fGVU7/l+VBFFMz0m/+6ZKRQ4bt2bF9967tne2tJoNw+RWXlZYO5gT2t8/+tqOz3eeXgiFQVCApLPkORqPBaDSKoog0+ARxynNLUoSKgqfFXNlEQnFf4nSqrgGFkCRJxDcFAoFEsDIAJCcnu1wuPXMcbfqbbrpp06ZNx48fxz3IPM9x3FkJxSChihiG1xRFGTx48JgxY8LRyJEjR44fOxZ/GAqnz371lSZOmjR69Oh//OMfXV2d2M8ECTNnzszLy/vss8/C4fCjjz569dVXO53Offv2tbW1tba2fvDBBy0tLWajJTU1labprq6ucDicnZ1dUlKSmpq6fft2zKisr69vbm4mCAJrubjdbkzMRR24pKTk5Zdfnj17tiRJPT09iMxGzFd6ejpG/Nva2nbu3PnNN9/s2LEDkTREAv4bTdlQKJRYRf3cbfDgwQsWLFBV9auvvqqvrz/rMQhqp2kaTcHc3Nzx48ePGDGitbX1yJEj+/bt83q9+mJIEAQCxCoqKgYPHozz+rBhwwYNGvTFF18sXbr00KFDqFEPHz581qxZCFu77LLLDAbDt99++/jjj2/fvh0SeAbwHhKznxPNDf1bDOcwDJOeno5zVjQaxep3MfucplGBj0ajRUVFF110UUV5GQZdI5GIy+UKh8OHDx/es2cPshkgh43f70c8KmbP97sTiDulkAEQABB0FZuGCLjuuqvvuuuujz/++J133lFV1WKxOByO0tLS8vLykpKSrq6uVatWfffdd6GQZDAwobBE0CTDMGJCRTTOwOuhKS1WX4LA62ryQMZrgo5wjnePPkAcghAXQoZh0tLS3G43y7IVFRWNjY0tLS0YVcPsFUz503WSgbIEMPSMHkKstQAABoOhZEjp+PHja2pqtm/fHg6FcPk6lVaP55QkjudvueWWefPmffDB+xs3bvT7/RkZGQsWLDCZTMuWLWtv68jOyRo6dGgkEsHMtJEjR6ampo4bN66zvauwsNBut9fX12/fvv3IkSMdHR26SUYmlENCNAnEPRyoTRUUFNx7773jxo0rLS2tqak5ePDgsWPHsOA7RVFOpzMtLc1msxUXF48ZM6awsLCrq+vzzz9fvXr1/v37sQJ2SkoKSZI+nw87qqenR3eTQByHoK+WKE7Dhg2TJAlvdSDl5cyFSBAEg8GAa7XNZsNlMD09fciQIcXFxePGjZNluampacOGDStWrNi1a5coijabLRwOI7Y7VomNIDDRSVXVWbNm3XzzzfPnzzcajU1NTS+//PJf/vIXURRNJlN+fn5ycnI4HG5ra0OIKQAUFBTY7fZIJJKcnFxSUpKWlkbT9MSJEwEgEons2bOnubk5FArt3LkTiQj0OWLChAn5+fnTp08vKysDTfnLX/6CpcgsFlNxcXFmZqbNZgsGgxRF4ZSHxIeiKMqymtgLREIaR2LP6DLvcDhISrnssstOnjy5fft2juPsdntycnJeXp7NZktPT2cYpra2dseOHfX1LQDAsoRGMRiClmVZjkoxXRg97QnvQlVVZNMYUMT0NP5zCyEXpypLzBjAr5BBfcqUKUhkhMW9IGHKgXg2xkBEo/3M9MSZaXR5+fDhw1mWraqqqq+v7+rqAk3T84Z1Z6bJbJ42bdr8+fNEURw3blxzc/PWrVtXrlxZfzIGBOP4GGoBtwmCKCoqKsgr7O3tbWxsbG9vT7wTOk6BoWkahgTQJNOj6npukdlsxlmm36MhvK5flY7BgweXl5cXFBQEg8Hi4mKn08kwTFNTU3Nzs81mM5vN0WgUxbinp8fn8yE7FhKotra27tmzBytJIUQOwQBn7U+8z0Tgrn4kx3HTp0+/++67FyxYAACyLLe0tKxfv76rq+vw4cO7du3SOXZRNcU0LhS8fi+LIIjS0tLKyspZs2aVlJSwLIsRTqPR6Pf7q6urDx8+jKKF2CNN006ePMlxXFZWFs62u3bt+uabbw4fPoxOIIZhDAZDUVFRIBCor6+XJGnYsGHLli1DdsydO3d+uPyD5uZmr9erKApWZYG4JpyUZDOZTJFIBEupqqoajUZlRUucwhIbGSfaw69GjRo1d+7cXbu3XnbZZc8991x7e092dpogCNnZ2SRJOhwORVG6urqqq6u7u90AyEYBatwtJ0VEoOLoSDUWYNP9UqqqQky7PpeIET8ohP0ehkxIEqcTStLilHkm4FsftQOdHBI0GdRpFUVBm/Pmm2/+9a9/HY1Gd+zYsWPHjiNHjhw7dqynu/vU+UkS5fCWW37qcDgqKyu/++67r7/++sD+gwDAC5yOYyBjPOdULN+EPMXzh25MlCUyTkJ1Cvx9+tqCMb1IJKJDk/VugdNTk3AmQg028TCs1kYQhNfrTSw/iAjpQYMGURSFmkUkEsFj9C7V18kfuRLqh+lz4uTJk8vLy4PBYE1NjdvtjkQimNOk978ut4m1e/WT6LOk/k7T0tJMJlNBQYEsy8FgsK+vz+Vy+Xw+HCQEQVgsllAoFAwGBUHATkM/kG4w63M0x3ElJSV5eXlZWVmRSGTQoEHbtm0DgKqqqsaGBp20hmGo1NRUDKu4XC5BEHQuMkxYkWUV4vMFnl/PRMnKyurs7NQ0LSUlBdF5OC+0tDbee+/dr7/+ejSqsizBsmxBQUFfX5/FYvH7/T09PZEIjhZAuCkvCOFwGG0/s8Xk9wdAAyKRRS4ehNB14bO+r0Qf8g84Zk4LLcS3+43CxKaHns59Wr31S88DACT/NVss06dPx3yllpYWdN/V1tai6CLzGirGF188FxNhtm7d6vf7g4EQ2sQMS0uSrHcQRZOKrAoGPhqOjf7EaR5r4p75yKig6uo+TkMYTEP8ip6wo88piZORIAgEQaCW3m/SgdO9NXok/UzFwWKxYDqpviaftSeJeO4IxDOkcFZGrw865fSDddsBzphqE0+IK+pZDQr9nOQZHFbYgaeqmsZd2Tp2D1PR0aXc7+dZWVlpaWkAsHfvXuxnnWJw2LAhzzzzzNixY48ePXr8+PGXXnqpr69PD4rqDd/coEGDpk2bVlpaSpJkMBhUFKWxsXHfvn0ul8tut2N9OIvFUltbS5Bw/fXXrlixIhyWOY7EtV2WZY/HI8boy4HnMcsvloVK0STOUzitMyytT9yyLKtx9xJBYirMWV/X+QjhWX+MHgXsZbwb/IsuOP21cRyXmFQ2UKNPL8ENRKyGWaI7Oy093ev1huPjhuN5AIhGIhzP0zQpiiLP8/54mTiCBIZhxKgEBNA0RdN0JBJlGBq7TKergPjA1aN5A00fiE7G0dyvxDyczRjD4/WzEQRhNpt9Pt+Z3oKz/hZnJZzpUH3SRRfNyLN2Ixkn49FPjg0jjfriAKdPBDjLoIRg/JMkyX71lZHBKXx61mi/rOvE/ky8jX4stRgI0TOb9NGCXkAUS+QL1zTN4XD09vbiAC0szL///vvnzp27efPmv/3tb42NjcgEicn4WFIbb1VRgabp9PT0nJwcSZLq6uq6u7shwQ7UvcFYEAUISE11dHW5DAYW7wQ7RFFiTkCzWUBJRqcEzdAEQYhRiaSIoqIiiqICgQBOtcjULopiTA5jLIk/rI6e99c69InnebvdTg3MiXauswMYjUb9tzr0iaIo3iAkIt0MJiMn8HZHEmLKTmFQ40A5gjoD/kQCSROcwBpMgr6TpAkggOUZnfo6cSrqh/bE8UGegYzshxTt1104WPVfkSSJcDAi7ijTr0jTNGbNQ9x5oH9FxqtWwemAz0TQ7Fkbcuaf2c8sy+J+KqHkEzoJqXjVN2z9fph4dThjPFDxFPLEe9O/wj1oWp/7tDpcDrcRkcswzBVXXLFkyZKMjAyeY3iOKRk86MqFl4+pGK1D8xJpy5iEYk8QXycSq2XZbLbEpzjtWRDVaGDSM5wGIwsEECQAAQxLkBTQDAgGhuPjZfko4HkWAFJTnX/60/PvvPP25MkT8TR2u9VsNvI8m9gZBHEumCfo3w7U9JGROHr0ZjQaBw0a9PDDD48dO5aIM5fgX71YGplQ/+ysLfG0MWAhQUAcS50I5jwlliQhGA2EzukXB/LRLMXyDMJndbFElK1+AArhQI8JZ8gJjksiTvkB8bELCaUF0VA862BNBE/iTpZlEWAx0AH95CrxrnB11WerM5t+MBVn+NeFwWw269DWxFtF75r+RPoUk9gJTEKtuzPfWr9GkiRSfeO/iYDbxBJ6/RoRx8omdtSoUaOmT58+atQofNUcS2PpRSIBHIucjqfm3rON58TXAXG1i2EYfFiSJHmBdiRbBQMDBJjMPEogL5wF24wyCQA8z/7jHx9rmnLXXXdAvPZ1Ip424eo/JIT6zHFe7dyD4F9vRD/M+WlLHMEbBJPFnLhUMhyNUFqKIXXxO8vy+M8+cL/lWt8GgKSkpIsuumj06NGnbv7C9cNADcVGz3hIlK4JEybcfPPNHMcR8VgOitB5tYGui6KlyxJ2i9FoHD169K233lpZWZmUlKQffKYS8U83Il54MFHksCyhySiYTQaTUUBsdFqq85/o/TlzZs2aNcNmswDEVjmAH8BQLlp0zc9+dkt5eZkOdtdLi5IkYLVGkozRE+tLiD5oMTcAqXEx9+hCArgvSNMSSfrhlNBrmpaenq6qamdHRyxgiCFE9DhroMin+Se1fw5JeEZDQxddR2jSoO/eZrONGTNGlmWMceHQPyud9oVtaFAhSADhrABgsViwVBgmibtcLr2m3YWaF9C2141ARVGGDBly9913Hz16tKGhYcuWLbifOL3mzAVpSCqFzjtEmUSjEqJbSRJuu+22JUuWMAzT2Nj4q1/9qrbu5HmdvL6+nqZpNEcTnAUDphJwLL3p++89Hg/P85FwlIhnPxIAAs/7fIFQMIwzhSwpBADFMIg90M+gaRqVwJf5z7R/90qYuO5hbhQn8ILRUFQ8KJaORBJAACfwySlOICAzO8Nqt5wlv+sCrYRwRhYSAKSlpV1yySVXXHGFw+HQDzirSfbvaFh2W19tysvL//KXvzzxxBPItA3xLCrcvlArIUEQ+jnRrps4ceLrr7/+xhtvXH755QRBGI1GXKUv4DIIACxDUSToFqCesYWfKy6/dO+eXcgRHgkHJ00cf77np2kS62pAvDI2xgNP5UD1+wAYDXxWZvoVl1+al5uNKVcEgDM56YbrFy+84rLCgrxEJRn0jLmEku/4r74Y/rdbCQdqJ+rqBINBMBjCoRBJUdOmTauvr+/t6fH5fIFAoF+2tY7c+9dbLHoJAHFVEBFhLS0tR44c6evrI0nSYDD4/f5/aW47n6YDaFVVzcjIeOaZZy666KKtW7d2dna++eabEF8tzxFJ+idaYj9IkmQwGHp7e2tra5E6KNFTivkE5wgRn1dDuIuqxqrBIfGxzWZJSUmZOXPm/fffX1BQ0NTYiK5OHYDx45ssqwnkADh9EJo2oGWhaaooiu3tHfv27cMKNgAwdGjp73//+4KCgoMHD6J64nK5FEWlKFJS1JiTX9NiIWWsO5SAbv9vLISapiqKHu9KSU3t7urCb4hYqosAAKh3oR5IkqSiqKDBhZJASAhk6dQVJ06caGlpYVnW7/ejv6SfT//f3TDEhyIxduzYUaNGHT169IEHHkCdCmUPHbAXUAjjCRax6F8oFHK73XPmzCkrKxNFsa6uzu12k7Ey0eHEKMi/2FRVj9nGbPLCwvz/+I//mDt3rsVisVitO7Zv/+6774qLi9PT08+k/f4xDccYGa8RRJwz5QqZQmVZbW1tI0lAAPesWbM2bNhwxRVXoOaJbJR4PCboaJomiSJSnGEmnaSzzv844Ptp7d+ujp7VKxNzhNIOZzIQ8Myzv1M17dCRw+MnTjjNf0UTMZcMecYZ/ll1tJ/nE0HSEHf96ZwURDwd8YL0wQ829PKZTKaPP/5Y07QPP/zw2muvRW8N1vNB7x9uXxB1FBtOfETcl/v9999/+umn5eXl+K3++GeGcP7pprsSsXQMy1AP3H8f6p9NjfV/fe+d+RfPHVRUcOMN172z9K0J48f+M5cgSUhwvJ3bC00DcBQpMLTOecGSxG+ffOJvf31v+ft/nTNjepwIg8cNHHW8QcACRGcd2/+NV0K9xUcGx3Gu3t5LL7vswQcfXPbBsvvuu8/jdiMUBuLwtJheesEWQsAoNjY9CZ1hGFxkfD4fqqOiKCaCLf99DRE5GFAeOnTouHHjAODIkSM1NTXIcYh3iOPpAq6EAFhBOoY1dzgcnZ2dX331lSzL+/btI+N19RARegEdM/GEhFOgiNbW1mXvv79jx46DBw+eOHHC5XIDwIkT9Q0NDTqp3Hk1fGs6sgLOyY8uCHwoHCERG0CRqqrm5+fX1NTU1NQcPXr00OEjJAExaAdNaZpmsli8Hk8kHBYMBoB4bcxEEon//ishWq46V03JkNLjNdV/ee3VmI07UDDjgjpmTrs7kqysrHzjjTcgIQ6GLTE6/O9rehycoqi77rpLUZRDhw5NnDgREyZSU1P73diFWgkTI4oAkJGRkZWVdeONNx44cGDs2LE5OTk61dWFVQf0gAQZd4oMKirQi6jhCmmzmgmI8dOc9/lP5wH4wcGM65uRY3mawu1pkycNLixgSYJK+PaRBx/Y8t23b/zllZ/ctMRoNkECa9FZSM8SC80RBFAUwTAU1qY764caoA109+crouc4Pjk5ed++fffdd19iOPh8r0sN8GEIkiFIGggaiMT9LM0wFE0AmI0mAoAmqVf+/LKmak8/+VRRQSHuYWlG70+KICmCRBqhxH4ecP/p4WaaOnegFAiAnOx0AqCwIOfwoX2aJi1edJXZxJeNGjZxwpjhw0ocSRaOJRPQDWc/FU0RiR+GJmMfimYomiYpmqTwnvG2cSM27ik6Jdk5cviI6VOn/eGZ3/V192iq9sqLL9lMZuw0GoiB+vO8+2eA/bGnICmWZvQb+yc+AscLHM+zHL5l/aI0SSUepl+dIWKffvUP6dgoAgqgcsL4v3+w7D8euL8wN2dwaXFOXnZSst1gEpCpjeFohI6cfWGgadJoFJKSbCkpyT9ebLCRZOyjU9mce/9ALuCBjrfZLHv27HrppT/pEdJ/7rpn9l2MqSuhcxMHDRG3RvCTmZG27P33ero7F117NVbnNAhcIoQKKe7OFKSB9us+bjzmrEJ4JtCCZYiP/v6Bpkkn6o4nO2IIEotZ4LnTho5+3cQTngnY+DEfhI9hV5AEmE2G3JysYUNLp0ycsH3zJk1Vjh85fM8dt+trwkD9eb79M9B+/YMxDH0bOxCP70c0eNb9ep8kXpFlKIYm8dX06/nEZ+kngRSAvjwOLy1JSbJTAA5nki3JihKI2En8ILQLcSa0LhIsywiCYDQaDQYDloM7LyHU04r7BTqJOMr5HAHQxDbQ8RMmTBg0aNCjjz4aDkc5jiEIAhML0Fn3r183Vjz7bF/F7UEwmQyjRo0ym82HDh1au3YtFmQXRTFeLhOriGpwNj0/dv5z3gl2oRqj8er/W2w8T0cick5OzvTp0wFgy5Yt0WjUajV6vUEseAaAeTcEQRAkSUYi/c0zPBvL0j/ol0tUJRJJfjUNAoGQKIoej+e+e38uSdI/Pvpo5cqVu3fvbm1tVRJ64MwLDNQP57sfAIqKCi6++OKJEydGIpGNGzeuXbu2u7sXdTL9vSe+/YH29zs/9hs+b7/DyAQ6GyK2kBB6R8mKikxf4Uj02PFqADAZDR6Ph0zg1zt1xcSCus+/8HuCIBBrixg/TAAfKM4j8P0JNmP7BQESRFG/JIawz9w/kM6JFsWZxw8fPlyW5b1797IsGwqFHA6Hx+NJTk7G+/zx16X7L/+nrnuKniDhrxo/HFPIi4qKUtPSWltaqqurVVVFZ2k0GiVJUq9if9bzYMbAmfv11Aoizl2NhEto1yXevxZjSZQikYjVap1cWQkADfX1DQ0NZrO5vb3dYrGg0Y++U8x7Ikla18z1iQnOWZ+03wvCDcy6IhPKFSNItWzESI/Hc/z48Y6ODpvNZrPZMCdTz6Xo95dkzt4PA/XPQPs1TcvIyCgpLcWb9Ho81dXVbrcby7/0Ox7iXOZn3a87Y3QGCXwpOvhWJ72nKCoc8ENcUImE9DGj0djV1cUwjNVqxSwNt9stCIJKx0C/WpwM/xRMWie21LTzDar+F3nhz2wdHR3p6en/6lnO1xd1Npnt7upKSU39V+/kn2ynptCe7m6LxcL9gEPo3/y+LkR//ndp8bRm1LN0CcQ0PZzLODoG648JUoJPRY5GI5GIyWqNnU1RPB6PLdkR+09VAIAizwKr+p8khGc2WZLocyZqnKX9Dx80miojqwBBkpFwmOO4s6D3T2v/fiFUVVVRyB/5Iv6t/akHNP6ppiqKHmfSl0dZlpHIC9cxu8WM3/ZzKSMfWjQaRZXQarXKsuz3+5NSnTpNLqpLDN2/o84mhJqmadpAr1YeQE3VPZa64pSYSHrm/oEc2boW1O94RVFYjtNUFfWESCTCC4KqKPp5fuR1KWKAQTnQUD79nYZDIVmWzQl1I/7FFq8pecbVBxxPqqoo4XDYaDJhb2ialjgTKbKMEDPMQqZo9mwnAQ2Le53lEmdWO8IU1QEGtwaaLEciEcFgwD6UsQrQ6fGbU+1CC6ESzyYn/2uwuz/GvyDLhA5X+BHPS0hiEBJI13XJHthqP5ctB3Ca1g6nC0Pi/h8jhInHY85ErMCTLFM0LUajifmKP/K69DmEMMEJcEpuKRLfbigYNBiNABAJh3lBkCWJpml9aCqyjMQNugn+I22bmM12Rm9oCfPxaQKgKTrTDDIbxBLG40opLpKqoqiqSjPM2VdCnGd/nBDqdYvhjBJfACCGI7zRCHFvkhyNiqJoMJtBz4b599iEaP2SJEkNhM7pN+nrIjrQfgANbTZ95Jx9nhpYClU1Eg7zRiMoiqqqJMOAqv5w0RxNI1TpPOF2A6TrDyy0F6YN5MgZCNxwjpAx5iUxDAMUJUUibrfb6/U6nU5kXkAObGSpCofDNkeSpml+vx9dDpglhCBSSZIyMzM7OjqQXyMzM7O2ttZsNqNgcBzX2dlps9m8Xi9SmCIJksViqa6uzs7O5nne4/EMGTJMf+t/+P3ve3p6nn/hBYiTdwCAjB4RinrowQedTufD//GQpqrIncFyHM5HqqJ8++23X3zxxTPPPGO12bwej9VqjY8e8qEHH/T7/XjnEydOvOvuuwEg4PebzGYAkETxqaeeCofDL/zpT9XHjz/11BPPPPNMQWFhrK9kGeevgfqTHOC1D6RJKeeubHbm+Qc4z0Dj7XzHyXkFsWFA7usBm/oj5OL8YWsDVl389wrhgMv6QPczwH6CIGJRJRKA0Cia5HjWIAtr131DxgsDG41GrI4kiqLRYuru7m5qanI6nQ6HIxwOezzurq4uQRAoihLFaGdnJ+bOBgL+np4enGmRlM3j8aiq4nK5vF5PdnZ2MBjw+/1ud193d5cg8BaLRVVjiiUAHD506JlnngkEQkOHDv3pzTejBEqiiBKoyPKyZctEUfzlL3/BsCxNkrIkaaoajUYJURQMhtdff33jxo033XRTxZgx1jibAwDIkvTyyy9LkjJixDCsaI/7TWYzCjBN059//vnJkydNJlN5efn69etuv/22gsJY0TySJDQNSIoekL7+fN/LeU/WF2q8XajxeeGNWvr8efzPb2b6d7eBZrJzzJQxlTsOueZ5niTJOXPmQHy+RPoDzN81W61JSUmZmZmCICiK4vf7DQbDoEGDVFVFMunU1FSkuGUYpqioCEusRKNRzOgxWywBvx8N5vT0dFmWjUZjcXExGu5YSARv7LPPPlNV1eGw//3vf1+yZAl6zHV1i6Lpnh4Xy54ChYmiaDAaDUYjWukMw/h8oX58Ioosh0JhSVJ4nh06dOjw4cMffvhh/Vs8s8vlCoVCkiT/5jfPXHfdor4+fyLykyBJRZLOAWM63yF5vivPQO18V8LzHScDth8q/duvkT9C+OnzPOeA7UKdZ8DzX6DzqHq18XglJpZlGYaJOffQ0UeSQFGgaUw0iiyaRqOR5Tjk38KFSzdQzWYzE2dz4gUB/SIURaFSqqkqMr4QBEHRNC3LQBB2ux1pVTie1ye17777zmq1ZmRkHD9+3O/3W202PD/aeHiM0WjUTSCKovw+n9li0VmhznxYiqY5jiMIiETEnTt3ZmRktLa2Di4pOe0YijKbzRaL2e/3f/jhR4JA64VQAQA0Dd08Fypl+UIJ4YW67v+rxSOx/RNZFAPp1v9um/DCnEdRlX7zOkmSBEUqYiSOE8AHJIAAhqVlVVFUSVElAIakCKNJwEokNENJUoSmaY5nAFQgVIqiNE2maBIAWI4G0HiBJQjgBRaA0DQVQJUVUVElkiRpktFAIQAw3+Xrr77asmWbIHCCILS1dbz44ouPPfYYCmGiceV2e59+6imO4+666y4UP/QlqIqCyYSJIHJ0qITDYU2DkSOH/+QnPzGZTO3t7f2E0Gaz9fT0pKamvvXWW9ddd104IktyVH/LGqgECaoiUwN7R8+vXaD3SAxojJ6fZjfgeQb+xXke/8ONPt+bBu0HvJr/rnaBzp+IyAH9tjWNinONUcjwCgCYVQwaw7B0PLaDxPgEQcKpKpysJCHLLSmKUdQ80W9JxiKzBICGtZBYliWI09zIAKAqyp49ezIz0x9++GGHw/Hss89+8803Tz75ZOJta6o6YsSwpqamJ5/8bXq6c8iQIQsWLGBYFgAokgQAnueLiwv8fj9oWjQa5XieiO9PTk46dOjIAw88xHHMzJkzp06dmugSlCRpzJgxFovl6muuWbp06cn6ap3aFPPZSZJiWe68pe081cWBT3NhznPBxud5OpZ+TL8RmuQ7z3OeZ5ztQrWBOnGg1K8B70fTndT9r0DTAKBhSUBEvSmKSgACjnRYmaZpiqJwHB+NRmiapihaliWUUn1DUWSSJAmClCQRcW1II49+V4IgMMxAkiRJ8gBw/NixcDg8urwcALq7uurr68ePH9/vqZubmiRJ6u3tjkajFRUVBqNRiyfCEQQRDAabmpqGDR8O8RBONBKhKIpmuM6ODovF4vV6XS6X0+lMTUsDAEkUGZYVo1GW42RJ8vv99qQkAGhsrM3LywcAVVUwVM3zgqLIA6qjA/pNBvjiPN2LAwvhQL6J8/WCnq+78zxTJX+EunvhhPDfHSodqBMHwkAOdD94mnhJWAxnxaI6Z2uqqsQXNNwm9dcmyxJBEP2EEADoBEhEJBLmeSF+pzIVJ/VJOO2AQBOUJQDw+3xmszneA7FBpscwMG6p/0qMRjFyLUajLMvGs3BOa2hnIsMCw/aL5ksAEI1GOI4DIFD8RFFk2QGC7wO1854cz94GFqrzFcILtEj8G4SQ1FTi/D4EnPUjS+KZ9KaKLOn/RiNh3Aj4fQMyosY/moqVYbTTMklA0zNBxEgYCAyvqpiHp4EmK7KsyEBTQFPRcCjxeCDA0+cCAgBIANLvC4hRCQgKSBoohmQ4UDQAMuQPKqIsRUQ8DBmMcSMSDAd9QUVU5KiEe7x9XopiAUia5nAPTXOarKmS4nN7Q/6g3+PjeWM0FAEgQdHw4KAvgL+NBMMApCKGXd0dcjQEoJz2UUSKUEGVQn6PFA2JkSDujwR9uBENB4I+t8fVzQusFP8WQGE5mqQAQOnr7fL09QCh9j8zKJGQv7WpPhTwMix1ar8mi+FANBSJhiKkRjY3NPd0dntcnnAgzLKC3iFyVMJH6+txAZCgEQCkFBFbGptbGpvxGEWUgaSBpLs6uzs7uqIRsaO9E/fEzqMCdjh2LG743F6/xxfrXkXr6ewO+YPRiKTIGkHQBEG7et0EQUui0t7W2drShr9y9fa5+zwetxf/xSNlScWNUDBCELQYlWVJaW1pE6OSGJW6Orv9vkCfy63ff+InEo52tHcG/EGf1w9AetzepvhzAZBAskCysqRpKimJqhhVVIUAggGNOvtnwOS5U58LRm9Bc9zuHTtOnjwpimJSUtL06dPXrVsXCAR+8tOfBn2+hoaGYSNHAsDKL79ccNllALDp229ra2tTU1NnzpzJ8zzFsju3bbPb7Rs3bqQoKiMjIyMjY/fu3YFAoLKyMj8///XXX8faPXPmzPnqq6/a29sPHz5st9uLi4vb29urqqoqKioWL15cWFwMAAf27v3666+NRuPs2bNdLtfUqVOfeOIJi8USDod//dRvdm3f/tVXX0Wj0UmTJk2cOLGxsXHcxImHDx+ura09fPhwSkpKe3v7pEmTdu/e/dRvfwuKsm3btq1bt0YikZSUFIfDUVtb+9gTT1QdOnTixIlZs2Z9/vnnN95006svv1xSUjJzzpxVq1atXLkyLS3NarVec801Zpvt3nvvveOOO9auXfurxx6To9HXX3+9trY2JSXF6XSOHTt22bJlqampsixfdNFFldOmAUD10aNHjhy5etGiY0eOrFmz5vDhw2VlZRzHlZeXf/DBB/n5uRRF3XbbbRs2bFi5cmVKSsp999332WeflZSUzJg9+7lnn8VKbNu3b6+qqlIU5fLLF06srHzwl79csGDBtJkzAcDV3f3SSy9xHOd2u1946SW/x3PDDTd8uXLloQMH3n777aKiIuQvPXTokMvlmjFjhqIot99111uvv261Wq+97rr3339/27ZtWVlZBEFMmjSpqanpZ3fc8dJLL9E03d3dff31169Zs+ahRx4BgOeefTYvL+8f//hHOBy+77770rOyAGDrpk2qqk6ZPn33jh0kSY4cOfLuu+9+6aWXfD7fs88+a7PZWJa99NJLP/zwQ7PZTJLk+IkTq6qqfnHffR8sWzZ79mwAePbZZ2maDofDM2fO7O3t3bt3r8FgGDNmzMXz5//1vfckSfrZbbc98sgjV1999fgJE9auXbvwyis5nv/1448PHz5837598+fPX7ly5d69e5csWTJu3Lg//OEP77733vK//c3r9d51991ff/VVdXV1TU1NX1/fDTfcwLLs9u3bVVWdOHFiQUHB8uXLn/397w8fOBAMBidMnszQNABEgkH+X5OjC8kxk5mZ+d1333m93oULFz755JOXXHJJWlrak48/3tPT09HR8dmXX7779tuvvfbagssuk6PRr7766rHHHtu0adPSpUtLSko8Ho/f78/LyzMYDPPnzxdF8ZVXXrnzzjtzc3Nvv/32srKyGTNmTJ48+cUXX/z444/379//m9/85rnnnrv99tvzCgvDgcDjjz9+xRVXoAS6urvffvvtP/7xj36/PxqNvvrqqzt37qysrJxz0UXuvr41K1du3rz517/+tWAyPfHYY6tXr548efK4iRO3b9+O7Gn3/OIX69asOXjw4Oeff84wzD333LN69WpJkh5//HGzzQYA7y1d+pc//7mhoeHOO+80Wa01NTVN9fWYSldeXr5161aGYR599FGWZSmWrTl2rK+v76OPPopGo3I0um/fPqRp++1vf2uxWGia/vTTT5/8zW+2bd6MPBGcwZCbm/v0009fvWjRa6+9NnTo0IsuumjRokUkw3y3YcPUqVOvuvbqN1977f7778/NzX33/fcB4Llnn125cmV6evqM2bOj0ejRo0cPHToUCoWefe45UJSamrpoKNTU1PT555+jEC5btmzevHkTKyt7Ojt7u7o++eSTjIyMb9evl2W5oqLipltuee2VV8aMGZORkaGq6oLLLnv15ZePHDzY19e3bdu2OXPmNDU1KYry9DPPHK+qWr58eU9PT/fTTw8bNuyyhQsDXm9HR8fXX399+eWXBwKB9evXr//2W6zHOuuii3CQuFyu2trajIyMzZs3Dx8+fNeuXZmZmVu2bHE6nZMnT150/fV//tOf9u/fT9P0408+efjAge83b/b5fJ+tWNHa2pqWng4AkiQ98eSTAPDA/febzebp06dPnToVGVxqa2s9Hk80Eunr6/vrX/86aNCgY8eOXXzxxbwgHD9+fNGiRUOGDBk6bFheXt7f/va3n/zkJ3/6058ikUhHe3tzc/POnTsnTZokSdIVV1zR09NTVVVVVla2fPny3z37LAA889vfbtu27auvvpo/b96ZVQD/Ra/hhfOmaFpmTk5ZWVl2dnZqairP81NnzJhYWYk19yKRiN/jaW9vHzZsGABQFNXW1vbhhx+mp6cPGzbsd7/73QsvvHDr7bfLsvzdd9+tXbvW7/fLsvzVV1+99tprvb29WVlZX3/99YoVK3bu3FlQUGCxWOzJyT6fz+l0AoBgMoXD4YKCGMjDkZJy4403PvTQQ88//zyC4mtrawsLC3t7ej744IO2tjaPxyOYTACQlZUlSRJW7bFarS6Xa8OGDb+4557nn38+JydnyZIlycnJ33zzjdPpPHHixKOPPvri88+Dql555ZUrVqwoKysrGjwYAMaPH79x48apU6dardZPP/306quv3rNnz8cff7xixQoA2LBhw80331xTU7No0aI///nP33zzzW233dbQ0PDJJ5988cUXra2thw8ffurXv/7Nb35jNps5gwEfJzU19eC+fRRFTZgw4ZNPPnn//fc3rlvn9/tfe+21e++66/PPPweAyspKfN5jx47l5eXdeuut77z1VnV1dXJy8o4dOyoqKgAAKGrwkCGvvfba9OnTT5486e7txVuaWFkJAM60NLvdfvDgwQULFixfvtztdq9fv37pm2+uW7cOACwWC8YehwwZsmfPHovFMmPGjOXLl19++eXd3d1/feedt99+OyUlhed5l8s1f/58APj666/ffvtthmEOHjx46NAhrD1qsVgSGfK7urpaW1sPHDhQW1vr8/k++uijefPmffLJJwaDYc2aNe+/++6WLVuysrIaGho+Wr78+eefLy0tve+++1544QVMYgYALEcLAKqqdnZ2fvHFF6+99lptTU318ePIN7V58+aioqJ58+Z99NFHCMYAgEWLFn3++efPPfcc/pamaa/Xe/To0auuuurvf/97RkbGkiVLvvjii+3bt6enp1utVpIkA4GAnlU7aNCglpaW++6775tvvtm1a1cimI7j+QEdEz+uXTAhVCQJ4hSxNE0j6xbEmbkmTZr03HPP0TRdUlICAJqmvfHGG5dccsnKlSuXLl06fvz4a665Zt2aNaqqjh079pprrsnIyAgEAmPHjp0yZYqmaR6PJycnZ+LEiWPGjHG73Zj1bzAY9LK4gUAgkfyzs7PztTffvPvuu59++unk5GSr1drS0pKcmlpRUfH999/r01hbW1tKSgr636qrq/Pz86+//vo//+UvjzzySE1NDQDccffdy5cvr6qqKi8vf/nVV3/54INAkha7PTMz8+qrr8aTlJeXv/fee2PGjBk0aNCrr746buLEkSNH3nTLLdcsXgwA3333XXt7++jRo3t6erZt29bU1MQbjRUVFff84heLrr/e6XROmDDhiaeffvbZZ/UeA4BLL7100aJF8+bNU1X1qquu+umtt86cM4ckyYcffviV1167/vrrVVU9dOgQHjx06FCSJGfPnXvy5MmqqqrOzs45c+ZgkU0A+Orzz7/++muHw1FRUbF69WoAuOaaazauWwcAa1aufP/99wHAaDR6PB6Xy/WTn/zk1ttvX7RoEeak4vAdPXr022+/PWbMmPz8/HfeeWf0mDFFRUU33XLLn/7857q6Ok3TRowYsXTpUgAYO3bsiRMn0tPTr1606KZbbrnooosAoLW1NbF6cXJy8tSpU69etGjKlCnhcFgUxb6+Pk3Tdu/effXVVy+5+eaLL764vr5+3Lhxi66//tFHH927d6/ZYhk8ePD4CRPwDEhm1d3VFQqFCgoK7rvvvgcefLB48ODXX3990KBBhYWFX3/9dSgUuuzyyxsbGzds2AAE0d3V5XA4Hn300Tlz5iz/29+Sk5MZhtm/fz/LsjRNb926ddu2bXPnzh08ePCGDRs6OzsDgUA4HB4+YgRGXwHg4MGDZWVlOTk5F1988dtvv93T0wMACsZyEmiR/7l2wdRRimVBUSwWi9PpRO1/9ddfY1bBpEmTpk+f/sADD9x///3V1dWqJMmy/Oyzz1ZWVkYikalTp86aNauoqOjhhx8ePHhwS0vLsmXLsrOz8/LyRowYIZhMWHV50qRJmTk5gwcPDofD48aNA03LysrSMV8TJkzQKcY0Wfb7/U8/8YQoijfccIPH45k3b94f/vCHQ4cOud3un/3sZ729vU889pgsy/Pnz59YWfnIQw89cN99aWlpV1111YkTJwBg5MiRJ06cyM3NBYDHH3+8tbV1x44d9917L0VRS5YsGVFWNnv2bC5+6fSsrMrKyuGjRg0dOrS+vh4AGIa59667rFZrSUnJL3/5y0lTpoT8/pqammuuuQaXbp7n77nzTk3TrrzyShypubm5KPbYps+adcMNN8ydO7evr++zzz679667WJa9+uqrMzIyAGDMmDF5eXlbt2799aOPsiy7ePFinNpuuOEGjuMmTZqUk5NTXV396COPUBS1aNF1Tz31FFqb7779NgAsT6OblwAAOIFJREFUufnmP/zud3/7298mT55cUlJy889+BgBms3n//v14nqKiIk3TSktLsdqMNSlp4cKFY8aP97ndCxcuBICZM2fifU6bNs1ut8+YPfvzTz+97957i4uLb7rpJmTpB4DLL78c7zZW70lRotFoaWkpkrWOGzfuyJEjDz300KCSklmzZn399dfYOfPnz6+trUXUTm5uLta4v+WWW/TOKSgoeOXll3mef+GFF3bt2vXyyy8HAoHi4uKLL7541qxZFE2v+PTTrKwsAHjwwQdxlrFYLJs3b167di3DME//5jcBv7+0tFSW5ZdffplhWaPR2NLSQhDEosWLDx06xHHc0KFD8QauuOKKhx96iKbpSy65JDU1labpnNzcSy65JC8vD5AvQ5axDtb5Y2JPNUKNnid79ABxHkVRaI5TJamvry85NVWKRN577z2r1XrppZei7rd9y5aJlZXdHR0p6eliONzR0VFfX282myvGjQsHAoLJ5OruliSptbU1JSXF6/Xm5eWhDaaIoqIoDMPoOVoBr9dktYrhMGYYEjQdDgR4nldVVVVVhucBoPro0bS0NJsjltcc8vv9fn9qaipQDAA0nDhhNpttNhumvXW1t6dmZMSeRFWBJOuqqyORyPBRo/QHVCWJZJiTtbVoeXpcLpvD4e3rs8Z1LUUUCYLAUEfA6xVFsaGhITMzMy0zs6u9vbu72+l0mkwmzLzuam9PTU/XFMXlciWnpgKAu7fXnpzc3tKSkZ0NaO4bjbH9dntjY+PJkyeLi4uz83L0r+rr6iiKyi0o8Pb1iaLoTEsDgJbGxuy8PAD4fuPGadOnNzY05RUWgqoerao6duwY0hMGg0GKonieRyrxxsbGzMxMWZZ37twZCoWGDx9eUlJisdtd3d2OlJSezk6Hw6Fp2tq1a+12+4TJkzvb2g4dOqRpWmZmpqqqXq83FApVVFSIorh169YxY8bkFxUBAHYO9hvAWTIk9by7aCgkSdKpnHQAvYcTjj71c1VRotGoEJ8HAcDv8/E8f0a4BeCMEA7osZ8flwGMGaQcx7GJGZKKIoqijmQkGeZf0UgvnDqqKKokkTSdnJqqyTLD87fdeee1ixcL8XlxYmVlOBBISU9XJYkVhNyCggkTJlSMGwcAgskkR6OOlJS0zMyKceNy8vOHjxyJEgiqSrEsKwh6sFWVJJPVGgkGWUFAaH/Q5xNMJk3TKIZRVTUcCABAydChNodDlSQAiASDBrM5NS1NDx7mFxYmJyfriaenJFDTHn/ssbWrV3/99dc7duy4ecmSfbt3L1+2DAA6Ozv/8LvfTZgwYe+uXQDw7LPPAsDatWu/27ABAD74/9p78+i4qitf+Nyx7q25SlWqUmkoyS5JlqzBtmxhyUZg7BjSBBICSRg6kMX3XqeTRV6nV0PI97J6WulH+vHy0iv0R8OXEAJpEocQbOwweQDLsmzLkiVbgzVZQ6k01Dyoplt3fn/s0rUwOAkd8rLeej5/eMlVt27dOufsc/b57d/+7Zde+uEPf/jSSy8hhBLR6I9//OMnnnji/Pnzb7311uN//de//vWvH374YXgX2r/9278tLy5eunTp05/+NELoH//u7+6++26E0NmzZ/vOnEEIPfbYY3DlP/zDPxw7duz73/9+Op1++umnu9977/vf/z68tXXrVvCLvvCFL7z44ovw4m9+85vDBw/CH0uLi/fff386mRy8cOGFF17YsmXLt771rQcffHBpaYk1Gv/pn/6pu7v7ySefzGazCwsLDoejvLz8Jz/5icPhMNtsyVjsZz/7WTQUevrpp+PxOLB58vn8f33yyXw+f+TIkZmZGYvFYrFYfvCDH0iSNDU19fTTT3d0dJw8eRJ67K233pqemPD7/ZDmixTlAzNVVTUL1On1YIHCutK/1pISIE4oa5+SJak46QlivQUiqANH0wLPfzjpHJK/tf9CdFSGursfbPzaOSWfyxWvQYjV6zUL5NfhMSRJqoqCU9QfrvhMflxiazGTkqYFjiNJEqeoQi4HvrUkSUiSaJaVZZmADM712zSGsUYjUlVYFxVRZPR6BNUmCILU6YojRBASz2sFOiVJIikK4TgiCDByHMcVUaQoSl1L7TUYjXAftFZRoLj6roXgGYOhuE3BeVqWRVGEDZPLZjEMYwwGWBfj0ajf75+fn3/lwAGEkMfj+dGPfoQQqqqqOn36tF6v37p164EDB7a3t2upw8ePHxdF8ejRozt27ICzQS6XSyaT2Wx29+7dFEUNDg5+7WtfO3fu3Le/8x2tGxcWFsorKn74wx9+4xvfOPjaa16v97bbbvvx88+TJAmu1NLS0ssvvmgwGCYnJ4PB4K9efx0htH///nvvvUdLR9qyZcv7779fWVlZUlKiEbi//o1v/PV/+S+//OUvX3rppZ/85CdPPvnkM888c/vtt6uqmkgk7HZ7Lpd78cUXd+7ceeLEifvvv99sNtM07XA4TFZr1549dXV1G2profOPHTv23HPPDQ8PDw8Pe73emzo7EUKvvvpqeXl5S0tLZ2dnVU0NQmj79u07d+58/PHHn3/+ecZgePQ//+cvP/jg3XffvWvXLq2COowskmUky5DGSdE0AkkrvR4hJPE8qdMVOUmQLE9RiqIQqooTBAhPMCzL5fM0TRMkCXwDYCxIoggeL5iKlpsLOZPADUIIAT1I4wlpChIFjqMoiiBJGD6B5yF7W1EUdY1sCF+nYxjYvWVZLu6lsnz1gWlalWWMJJGq8hxXPLD8PsH633nFNY1iGFVVwU5wgkCqCjwsDMNolqV1OngLA8EvUeQ5juc4VZZVSRI4TigUJJ4XCwWcogDLwUhSkaTiEkgQCCFSp1PX9DUURUE4rkoSApMG3SuS1GR2aJYFEwUHnaJpgiBwkizkckCI4bJZtKb/lUunkaIggqAYBlZZlmXBtUMYlohGS0pLQ6GQVnnTarUSBBEKhRiGsVgsuVzO4/Hcdddd//173wN0JxKJrK6uQslbkiQBgYA8pkgk0t/ff+LECZZl8TXZfK1VVFS8/dZb77777uDg4CuvvJJMJj/zmc8sLi5OTExAaaF0Ou1wOMrKykBBDD6VyWQKhYLG7ayurs5msy+99NKXv/xlMMLZ6WmEUFdXl9PplGX55MmTZ86c6enpuXz5ciwWkyTpW9/61oYNG+rr63ft2lVeXg711g0Gg1b9U5O6hC969NFHDxw4sD6b3m63FwoFSZKgNCJCSBTFRCJRWVmpfZYgCFEUU6lUKBRaXFwMh8Njw8P9585FIpGBgYGRixeHh4cFnkc4TpCkIopioQBeiSzLQGAiaVqT1YAMd51OB5NNkiSB50FoR6v7rSWXQBEhMGbIWlZVVZYkURDARGF/4wsFURTBjEFwTZYkiqLQul9KUZSm2acoiixJcPZBCBE0LYkiWhNlw3CcpGmkKPzank+SZHHF+T3adY1QvU5DCEHWOYZhiizLokjqdDLo/CiKKAigfinxvCiKBE3rGAaOcxhJ0ixLsyxBELALaQEWUCso+oqyjLRiBjhOEASS5UKhoPHLFEVBGAbZ8UhVVUmSeP6qXgOOYxgm8jzDMKALKcuyIkmSJJE6ncFsVhVFXat3qUqStuHLgvDss8++f/z45s2brVZr76lTXDZ74MCBtra2O+64Y8fOnV1dXRiGlZWV3bpnTyKRSCaTCCGv1/vQQw/t2bevq6vL5XLNz8+Pj46+/PLLXq93+/bt/+mrX/3GN78piiKfz2uGpJnT6dOnn3rqqaeeesrtdvM873Q6H3744VdffRWWgIaGhjvvvntXV9fWrVvb29uPHDp08cKF55577rHHHsvlcr2nTp3r7XU4HO3t7WNjYyaTyWw2LwcCR48eVUSxubnZ7XYHAoFdu3Z9/1/+5dZbbx0dHb3zzjt3dXXV+HylpaWtra0uj6erq8tisSiKEggE5ubmoFu0SI/BYPizP/uzb3/nO8vLy8vLy6FQ6K0jR17/1a+qq6stFovT6dSQMLPZXFJS8vDDD//zP/9z35kzP/gf/+O+++7T6XQEQbAsu7KyMj09PTY2Njc3F4/HA4EAwI8wTMWi6gzD5/OqJOl0OoRhBE2DDjSw6mGsMRxXFIWiaR3DFLEAHEcYBpXGEEICz8NqixMEwjAwNtj0CJKEzbDAcaqq0jqdjmFIkhQFQVVViqZxgpBlGa4BCn42k4GNUUM+cRzH1onoEAQBbh1GkkXNNYLQGLYETSNtSv+uhqlC9iPfuK4cAIFjJKlKEviKsOkJHEfTdKFQYAwGcAVVScLW1ODkNWlQWO0EjqNZls/nNQFGnCCKlELIYCCI9SCHwHE0WJQsa7+q6HCqKpfLFY+dqioJAnQWPIAkSdRaag+AGaokYSQNbq3I89SadwHXXDh//uLFi7fffntVTc2Pn39+dXV19+7dra2toiiabTY+n5+amjKZTDU+X3BpKRKJtG7bFpifd7lcOr3ePztbXV09NjZ26NChrq6uW267be7KFfDrek6e7OjoGB4ehgOwLAgETftnZxcXFwG09M/OxmIxeNc/O+t2uxmWTcTjdqcTrQEtbx4+vLKy0tnZ2dTafOTQIY7jGIYpLS3t2L17Ymysvr4+EokYDIbV1dWKigpEEOlkUlEUnU7HGs1iobCysuJdsy4NuUGyLEnS2NiYxWJRVXWDz4cwTEOGEELLgUB5VVUsHDaZTPF4fGZmRlXV3bt3EzQdj0RKnE4Y32goBJhQJBjs7++vr6+vXZctBSiaNgSZVArKiWlTBa35otpH1g8KiPcghKBesialo8jyNfIwkPR4jayGpgwk8LyqqhrbFjRKZFnWzpaQIArCRWB46+WztLMoUlVZFImPQoC0JvF8cSfXhIt+a7uuEV6XvU6RHz7RQq+JhQLFMEhR+EIBHGI4cyN0VRWv6D1/lBTXVRht3UMgDMukUgDSFIdqnXgO2DNCKJ1Mmi2Wq+RgVUUYpkBKOEkiWZZlmaBpWRAwjFj/LbIgEAQB7/72nvrDG4DAV/vkIxukGsP4XeeKD3/kA4qDa6BfcTj+Q9gbPOp/4IO/f1tvaVcX7t/F/9KMau0uxR8LNilLkuZArrfGawBSuFg7K65vv7+I5kdM16vvKQjHixvJ78Fou+4V1wNsZFHkOM5oNiuShJOkKsuxWAwWwnw+zyiKTq/XsaxYKMRiMZvNVpwKOI5kObu6SlGUTq+XBQHqeOXzeYZhWKMxn8kkk0m32x2LxUiS1Ov1rNFYyOcLhUI+n5ckCfSMjUZjJBIpFAqbW1qWA4FsNutwOHQ6XTQaXV1dNZlM1pIS2BKDwSDA7pgsT0xMlJSUeMrLEUL9/f0+n48gCJvDEQ2FzGYzQdOpeBx2EpPJ5Pf7XS5XIpGIRCJNTU1TU1NerxcQCITQ6KVLHMfV1tbmcjmSJE0m0+rqqqqqdrs9EomUlJSA3DJN0/Pz8xzH1dfXj46OWq1WhmEgRmKx2y+cP49hWGtrK6nTARCfXV31+/0Oh6OkpGRyctLr9a6srAiCUFFREYvF9Hp9eXn5wsJCNpttammKhsPQ4Qih2elpkNhYjcVKy8pGL12iKMpmsy0uLjIMU1dXd/nyRElJCWzXaC1sgBDistnZ2VmapusaGmanp+12u8lkSqfTHMfFYjGO48rLyyurqxf9/lgsZrVadTody7I2h2Nmamppacnn8y0vL3Mc19DQ4PJ48pnM7OwsnC0NBkMymVxaWiovL6+qqpJl+ezZs9u2bcNx/PTp0/v374/H4zRNDw8P2+12yCd2Op19fX1Op7OxsZHjOLPZfOXKFbfbLQiC0Wzmed5gMMABb2xsrKqqKpVKGY3GaDRKEERNTc3Q0FBlZaXD4QC9H0EQFhYWamtrQb8rGo1iGLZhwwaDwTA+Pk6SpNfrZVk2k8nYbLbZ2Vkcx+EHxmIxo9EIwRuGZWeuXMFx3Ol0CoLAsqzeYEglk9FwuLq6Op1ORyKRhqampYUFWZbNZvPo6KjL5YKbtLS00CxbXNb/IKGn66zE3e+9z7JsfX395OSkJEkmk2l+fn7nzp1DQ0MlJSWKolRUVMiyHAqFhoaG9u7d6/f7Ie6pqmo0GvX5fJs2bTp8+LAsy7Isx+NxhmFqa2v1ej0A5RzH4TjO8/wtt9zS19cXjUbb2tqWlpbGxsZ27doViUTm5+fD4fDmlpbJyUlBEHp6ejweT2tr69jY2NDQ0C233MJxnNvtfueddz7zmc+wLFtSUhKNRqF+qt1uhwNJPB7ftm3biRMnfD5fQ0PD8ePHFUWpr68HoqPP58tkMkajsbS09M0339y6dWtxARKEo0eP1tTUXLx4cfv27XNzc263u7y8/Pz582VlZVVVVQMDAzRNO51OqCC9efPm7u7uQCBw1113nTlzprOzE56wr6+vrKxMp9PNzs7abLauPXvefvvtHTt25PP56enpurq6Y8eORaPR1tbW7u5ukiRvuummF198saOjw+l0/sv//J+rq6t33HGHz+dDCPE8bzKZZFl+4YUXHnjggYsXL7pcrsHBQZh/c3NzGzb4crncv//7v3d1ddU1NPT29t55990IIY7jUqkUSZIzU1O9vb0IIYfDAacvQRAaGxuvXLmi1+tnZmYAvxkeHjYYDPv27ZucnISZOjEx4XK5+vv77/rc51577bVsNlteXi4IgizLVVVVXq93YmLC4/G88cYbfr9/ZWXFYrG8/vrrpaWler1+0+bN+Xwe+IAQ57h8+TKcNufm5hiGOX78eGdnpyzLu7u6lpeX3W43GGE8Hi8vLx8dHS0rKwsEAjabTRCEqampqqqqiYkJWEoIghgdHc1ms8vLyxUVFdlstrW1tbe3t729fXp6mud5SZLm5ua2b9+O4XhfX5/RaASNvHQ63dDQsLi4iOP4zV1dMzMzbrfb5XJNTU1Zrdb6+vqFhYVUIgF0ufr6+ssjIwghkiSj0WihUAAcNRwOkwCcqqosScTvsa9e31e5TtmkiYkJQRAsFsvS0tL4+HgikYApLklS5803b9y4MRqNptPp8vLympqaxubmWCy2srISiUTS6TSsPQRNLy0tud1um82GYVgsFsvn8y6Xy+FwwLrIMEwwGOR5PhAIrKysbKyrq62tnZmZoSgqnU5Ho9GFhQWEUCKRyOfzwWAwHo9XeL0ejyefz8uy3N/ff/jw4VAolEwml5eXKYoqLS212Wygjux2u6PR6OXLl+GzhULBbDbLstzZ2Tk5OXnx4kVJkhiGKTIeCUJRFC2ILMsyx3EVFRU8z9M0PTY2lkqlNtTWFgqFWCy2obZ2bm4ukUhwHJfL5bLZbGlZGSyTGIZRFFVaVpZKpXCKCgaDNE1bLJZwOAzJu1DW4uzZs1NTU+7ycoPBALqaAGC4PB7YTl0eTzgcbmtrO3XqVC6XA7oZGFs2mz148GAwGKyoqJiZmQG9xlgsZjAYbDbbysoKHPI1ADOXy1ksFqPRuLi4mEwmA4HAwsJCKpVSVTUWi/l8Po7jgGvu9XqPHDkCWYUYSeZyOYZhYOw0tAnUotxud11d3enTp0FiJx6P0ywbDAZvuumm8+fPX7lyZe/eve+//z6QP3U6XXV1tclkYlm2UChUVFQ4HA6TycQwDMwBs9kMdTWSyaTGNCRJsrS0FOYbTdM0TadSKYZhqqur4bERQja7HUqqgBJsoVAwmc2yLDMMA1KXJpMpmUyCZwS4qyAIhUKBpunKykrAdeFHMQxjMBqBjUCQJEjswSR0l5ePjY25XK6KigpJkmw2W0VFhaeykqZpnKLAWH5PYR5M4tNrkg0YQVFaoAP+kAVBFEVmnRfe/d57CKHm5mZYGgmCyGazu3bt6uvrI0nSaDTOzc1lMpl77703FArV+Hxnenqqq6vffPPNvXv3hsPhqqqqyurq/nPn2js6ZEGYn593OByBQCCZTKqq2tjYODQ05HQ6Kysrjx075vV6y8rKlpaWPB4PkJJhU5VlubK6ejkQcLlcc3NzqqoC+aa5uZlhmHfeeWfbtm1V1dX9fX0wKTmOC4VC933pS+lk8uzZs2az2efzlZaVTY2PRyKRQCDw+c9//ty5cxiGeb3e/v7+zs5Og8FQUlqKELo0OLilrQ1wVFmWg8FgVU0NgC5XJicxDIMFBci+LS0tMzMzCwsLW7duFUVxcXGxrq5uZGTEbreDjnpjY6PN4Xjtl7/0er1NTU04jut0OowkhwYGAoGA1+ulKCoSiWzatElRlAqvdzkQGBoawnH8zrvvPnH06Orq6m233WZzOAb7+z0eT1lFxenuboPBwDBMY3NzNBRaXl7e0tZ2eWTE6/UaLZbVROLy5cvxeHz//v3vvvtuc3Pz+Pi42Wzetm2bXq/v6enBcbylpcVaUpJJpRYXF4GZlc1mR0dHfT6fr74+nUxeunTJarWWlZWpqjowMODz+fx+f1lZmc/n05tMqXhcr9fDyTyXThvMZonnl5aWlpeXd+7cScB0VFVJEHK5nMVuT0Tjk5OTZrN58+bNGEnOXbly5cqVXbt2GU0miEUpikLQdD6TURSFoqju7u6WlpaxsbGmpqayiorJy5fz+fy27dt5jqNpGiPJeCSytLTEsqzX6/X7/WartczjyaTTOI6Dvw2ho4aGBoPReKa3F5LCVldXrTYbAoUBikqn06lUKhAISJLU2dl57NixyspKcMpqa2tta6Soy2NjkUhkx44do6OjGIZt2bLl7bffdjgcHR0d2WyWZVmGZaORiLO09HcanroO+MQkPq2VblIUhQC8FaH1UKQGcBU72mRKJRJAKQIiqIaOmEwmWNfBIdYOrwCuLPr9Vqv1AyiL1gBuUVWI4yGEgDOF0EfQnbQbIoS0YdOu1NAapCjZTEZRFLPNhmQ5HA673O6PcLNVNR6NljidXC6HYZgsy4Ig6PX6ZDJpsVg0dXcNDxQLBTgwQ/WPRDRqdzpza/u8qqqwZsUjEYZhKIqCh4EAQDGERRBioSDLMqg1Az9BEARVVSGo+OFuFzguHo+XVVQAiS+bzdqdznQyabbZgktLQNbVejsaClEUdZXztRY7FjgOwkV8Pq+qaj6fB+cNcEJVVQ1mMwxNLpczGo3JZBKKgcMChBCiaRqHmBiGFXK5fD5vdzoX/X5FUTT0dTkQsNvtrNEYC4dZll1dXfVUVgI0ymWz6XRWr9cbDIb1SEwyFoONmmVZvcm0HhYCJrB5TQAuFY/TNK03mRBCq4mETqdjDAa4ucBxyWTSZLFQFAWISygYJAjCWVoKEyOZSOj1eh3DTIyPNzQ2pldXzRYL/At4TDwWK3FcW5kzEY9brVZBECKRSJXXe+3kgdmYTkNlBLib9vrS4iJkCHAcZ7VawbWx2mwgyaddRhI0DYOkhSb7zpzhOK6ysnJkZMThcLAsC5oowWDQbDbX1tbyPJ/L5awlJafef391dbWjowOtrvI8X+H1XhochIXNZDINDAy0traOjo7u3LnTZLHMXbmyvLycyWQ6OjoGBgay2eyWLVs8Hs+lS5dMJhPP8xs3bjx9+vS2bdsMBsPg4GAqlXK5XPF4HI5kldXVPSdPlpSUbG5pGRseHhkZoWl68+bN0WgUFsKGhgaSJCmKOnHixP/zF38xPzNTVlbW29ur1+tramoqq6tPnDgB6Tl33HnnmZ6efD7/qTvu6Dl5EjJEHQ7HzMxMY2OjzWb7xS9+8elPf/o3v/lNR0fHzbfeqohiNBodHBy0Wq0lJSUwQUdGRtxut9FoHB8f3759eyqVkiTJ5/MdPHjws5/9bDwef++99ywWi9Vq/dy99yJVfeONNyiKKisr4zhu9y23XL58eXFxUVEUm81GkmTnzTfHYrH+/v4NGza43e4XXnjha1/72s9+9rN9+/a53W69Xg8Zg5FIhCCIoaEhk8m0d+/eZ5999m/+5m/OnDnT0dERCAQGBgYefPDB4eFhkDyFizdt2rS5peWNN97weDzvvPPOzTff3NraGovF0ul0LpdramoaHR3lOG7r1q2Komwwm/l8/s0338zn87t27YpGoysrK1D5o7a29vz583Bs3tLWdmlwMJ1OW63WWCw2NzdnMBhCoZAkSW1tbUNDQ3a7Hc4UEDv1+XyDg4O1tbVms/ns2b6bbrrJ7/fv2LGD5/n6xkaE0LvvvltWVhYKhVZWVu64446jR4/ef//9Q0NDmzdv/sUvftHV1dXW1nby5MlAINDc3KyqKvhHer0+GAyyLLu4uHjbbbeJonjq1Kk/f/hhsMC52dnx8fFdu3atplJPPfXUf3/66b6+PoPB0NbW1tPTo9frX3755b/8y788ePDg/v37Dx48+NWvfvWnP/3pI488ks1mrVbr8vKy0+lcWloSBCGfz4MY9OLiYmNj489//vOvf/3ro6OjNE03NDae6u52u93c7GyhUABddqfT2dDYODkxIQgCIGSJRIJlWYZhotHo7t27oY6IZoS4LAgIw4qOLEKqosTj8VwuV1ZWxjCM1WpNp9Mej2dxcfHChQuhUCgUCh06dAjybs6ePbu0tDQ9PX3gwIHZ2VmkKOl0GsLHkPc9Pj4+ODj46quv5jKZQCAAk5WiqNnZWavV2tvb+6//+q8XLlyYn58/derU0aNHT548+e677x46dCgajX7+C1/gef7NN98cHBzs7u5GCJ0/f/7IkSMIIb/fT9P0hQsXLly40LVnT319/dLS0qlTp+Biv98/Pjra19fHGAxOp9Pn8wHBUhRFRVHGx8f//aWX/vEf/xFOJvPz83q9PhqNJpPJc+fOWSwWd3m52WxuaGoqLS29uasLIYRTFDCYp6am0ul0Y2NjXUPDyMhIMBgcGRkZHx/PZrPBYPDKlSscx9XV1fX29p48eTIWi7lcLoqilgMBhGGBQADw0lQqhVR1bm4uEAjMzMz4fL7Lly+LhYLL5XK5XAaDYWBgAHJwnE7n0NDQ5OTk6upqTU3Npk2bQqEQjuMrKysTExOTk5OyLPf09AiCMDY2lslkTCbTwYMHjx071rF7d1tb28jICELoV7/6FUKosrLyypUrOp1OkqRIJMLzfGVlpSAIIyMjfX19mUymeuPGqqoqhFAqleI4LhwOh8NhURRjsdjk5OTKyko8HgeuAmR7EARhs9kmJiZOnDjR3t6+cePGycnJWCzGGAxut7u0tJTjOEmSZmZm0un02NiYoiiFQsFgMOzataumpubkyZPPPPMM5KwghILBYDQaZVmWJMn3338fUiKz2exrr72WSCSy2ewvf/nLDRs2WCyWQqFw/vx5v9///vvv79i5c9u2balUiqbpQ4cO8Tz/8MMPa6EIWZZnZ2cXFxevXLliNBrffecdHMcXFxcpiqqqqvJWVyOEenp6CoXCpUuXMAw7ffp0ZWVld3e3LMvT09N/+7d/u7CwEAwGOzo7aZpeWlpqbW2lafrcuXMDAwM9PT3PPPNMLBaDHqutrS0rK+N5vqOzM5FInD17FmZpc3NzJBIJhUJzc3MTExMOh2PDhg3Mh0rZkbIsE1DlAyGEEAiAIYT6+/shHAyIZWlpaXV1tdvtNplMdrsd6ItWqxV0HMrLy5ubmxGO8zyvqmo4HM5kMk1NTcvLyzfddNPhw4f37t0LIBLQLOx2e0lJydDQUE1NDSDgd91113PPPbd169YdO3YcOHDA7XbHIxFJkvbs2QMZYkhVPR7P2bNnU/E4JDFBXYeRixdDoVBLS4vVav31r39dW1sL/K9gMDhy8eLk5GQ+n4eqhjiOJxIJs9n85a98xeVyRSKR3lOnTCYTYDNwoF1eXvZUVra0tCCEHOs8E1mWrVZrKBQiSbK/v99isXzpS19yuVwAeLAs63A4gPdTXV0NtVZbWlpuue228MrK+fPnw+FwV1eXJElVVVXJZBJhWG1tLcuyiqJ4PJ6dO3cCbcDv98diMZ1OB3l0LS0tQ0NDer0eSHCpVGrTpk04jm/cuDGbzcqy/KlPfSqVSjU3NycSiUKhcOutt/b19TU1NZ3p6QmFQh0dHfv374e1prm5OZlMbtq0SafTzc3NKYridDoBVv3iF7+Yz+ffPHy4rq6urqHhvffeA4xEURSXy7V58+ZsNptMJlu2bjWdPbtp82YYwdLS0snJSZqm9+3b19PT43A49uzZc/z48RNHj5IkmUgk2trapqen4/E4YHU+n89gMACEaLFYvvnNb1IUpdED9+3b17J1a3hlZfPmzfl8nuf5+vr6w4cP33777WazOZ/Pr6ysbNq8OZ1Ow1ubNm1yOp2Hfv1rnuc/9alP8Tz/1ltv1dXV0euCgTabbcOGDaA9+eijjw4ODtrtdp7nFUUB/Gb//v2BQGDPnj0cx/l8vlAodPvtt/f19UmS5PV6f/CDHywtLVEUdaa3F0h5r7/+em1tLULoe9/73smTJx9//PHZ2VmEkNlsBimAeDw+PTVltVqDweDQ4GBJSUlfX5/FYjEYDG63O5PJgDf74YICmKpwiiRB7QQ4EA7293Mc197eDmjN4OAghmHV1dWSJMHctdlsNMvKggCYQV1dnclqzWcyepNp0e/3+/3bt2/HcVyn10OKUDIWs9nt+Vxubm7OZrOVV1Ut+v1LS0u1tbWQxQPnw0W/v7KqCuE4JPWMXrpkt9vLq6rQ2kF0ZnoaPDqtrwEDoGkaSB6RYNDhcACTJpVIMAwDsKSWSpPLZAzrqpot+v2VlZWIILKrqwgho8UCp6wP9JAsF7nja0e1awLZAscJgmC0WIpccOCyfjBPR1EU1mgErgy6flsfx796soXD+TVEjWvOyWsHeLhDNBSyWCw0y8KgFM/baySHD7AFPlQ2aC3E/4EGiMs1zw8ZKkUHSouzK4pGsPzw4yFVRZj2B1Z8C8fX/7QP0GU+1GPXBPR/S3xfU6Nb/wpCiKKoj1VELZlIQCBEUZRrUqLQGi0OwBgunxcEAQqBxKJRh9Ppn58H/tMHfoKiAPFVewUTC6tgbFD1qghnQVsjkWkJbAgVOxRIZzBaGjQCcWeYrzCW2gdhFAFjLJLU1g//OhBIa+tT9RBChVwul8uVlJYmolF4WpvNhuN4Pp/Xm0yFXE5VVbCN2elpSJC7cuWKz+eDFX1ubq69oyMRjfb29mqh9o0bN0qSNDw8XF5ebrFYSsvKuGwWktZBGz+VSsHm76mshEzI8dFRt9sNrG6/39/Y2CiK4vDw8L59+0D3Hvg3kiSZLRa+UJAkCaYv/AqYUoDlKKJYLK5E0/F43G634xSVSaVg7YA4PsD0kBoCHHSEEKXTAf4E1PlMJmO2WFLJJCAx2qIgFgpQeSq0vOx0OrXZXKQBKgoIPQJIUySRkSTCMFWSOI7Tm0yKKObzeb1ej1MUDAcsDflMhqZpwNWAwIgQgpUCyIDrx1QsFCidDhiFJElyHK/T6WChRKrK5fM4jpMkCY8HqwYgUpqBwR9aeqGWIZCMxUwm01V4T1VFnlcxDIINIPHK8zxBEBRN57JZlmVxgoAqy9ew3mRJCofD+XyeZdnyiorfYpPXtPVFCta3a5k9CCGg45AkwjC+UKDXLS4kSdPyWr07giQlQSB1OlkQVFUlaRrsBKAnmmU1eppOp1NVFf4rCIJOr1dE0VpSAp0I/R4Lh4ETA7TSfD7vdLuRJHH5PMuysP+88sorJEnCWaWmpiaVSk1NTe3duzcUCrlcroGBgWg06vV67Xb73ffcwxgMYqGwsLCQTqdFUXS5XE1NTXqTSeJ5xmCQ1tIUMplMIpGYnJwEwsq5c+dASEYQBK/XC+ert956CyG0pa1t5OLF6enpwcFBEHG77777gIHpcrl6e3sNBkNFRcXbb7/9n7761XfeeeeRRx+dmJiYm5s7fvz4Aw88EAwGN23aVF5efvnyZVVV0+m0TqfTGwwaQU+n18ME0VKNu997b3p6OplMtra2Tk5OVldXl5aWEgRBEMTY2Bic/imKWl1dJUkSQnPwcag/AwVkwCYxDIPIJ8/zPp/PaDSGlpfd5eWQ0QKLoFgoUAi5y8vXTwWaZSGTCCxBx7IQRShu9bKMkaTeYECyjBMEwLNioQALoiRJWKFQ3F1VFWEYRhCwaoM7Q8CSzbKqqiqCQNA0MBmL+WggCJTNsmuRNISQjmWRosASAJYPXwqhsqJVy7IG9iqKAunjNocDrd8tMYwgCIwggDQDhmdY81m0CiIlJSUgzQqvi4IwMjJiMpkqKiogYvneiRNtbW3Waxyij2pwn49kln3YAtG6GpvXFA4h1fXFbhWFIAh1DT9V1yViQP4eQkiVpKsZYgipkkTTtPYRlmU1P8pkMs3Ozt5///0TE7M//en/f+TIke7u7kg8rvGtGYYRBOHixYtVVVWJRGLjxo0+n294eDgUCo2MjDzyyCMbN26cm5ubnZ3VukwQhHg8vrCwQNN0dXU1rJSkTgcJFnBNIpEQBOGhhx46cOBANpsFHvOdd955+PDhW2+91eVyMQZDU1PT+fPnRy9dApaD3W5v3rJlcHAQkuUhaMnzfG1tLRRIU0RRFMXQ8vLCwsK2bdsgrQm6UqfX3/W5zyFVDa2smG22mamp7u7ujo4OnufD4XBzc/PJkyd37949Ojp69z33DAwM7N27d3Jy8u///u9bW1vvu+++J5544q/+6q8AznE4HJA+397efurUKZqm3W631+sdGBgoFArZbJamaQiiAAGApmlVVYGMAsEGhMAuCIphYOvIpFJweJYkKZ1O2+12jCTT6bTFYhEEQRAEDMPA4KFKlLWkBAKwy8vL3urqSDAI4SuoGg0ML4QQKHFZrVaaZWPhMHx1ZmUFundpYYHneaPRqNfrV1ZW6hsbZ6amYEpYrfalpSW+KEyM7HY7JDryPA+xdYQQQRAUReVyOVVVKysrEysrhUKB53mr1Wqz2WKxWDQaNZvNJpMJ9JoSiYQoigzDMAzjqahIpVJ6vV4QhFAolM/nCYLI5XKQ9rXR5wM/EF9zjy9cuFBdXV3m8eRzOYgHlnk8Z8+cqaqqqlgjssPGBWVS13OqqTUs83dZ69VGEISqlSTSjPD3//xvb4IgQJk+giDA1dTp9bW1tR0dHZlM5sEHH1xZWTl79uzFCxe2bt8OhioIwiOPPALVwjiOszkcyVjsK1/5infDhr1797J6vSiKO3fuZFlWEITs6irUf25oaNh3++3pZBLSnQq5HCCuwOPRm0y33HILLI333ntvaVmZx+MhSdLhcpnNZqAjIoTsdntbWxscdNvb2y0WiyKKDzzwAELIbDa3tLSwLHvzzTfPzs5SFLV///6LFy9+6UtfOnfu3GOPPba6utrV1bWysgKToHiIwjC4s8Viqampicfj4XB4cnJyYWFhcnIyEolEo9G777lHFMWKiora2lqg41VUVZlMJgzDxsbGVFX93ve+9+Uvf/nZZ5/98z//8xdeeMHlcu3YsUMQhGAwKElSLBZbXl72er3RaHR8fHzv3r0URen1egClCJpmWRb8f1Kne+vIkVdeeeX222/3eDwAOLnd7vn5eQgRvffee2632+l0Op1OoBOCM4YQevjhh8+ePavX6yFO2NPTI4ripk2b9Hp9LpfL5XLAjAXFB0homp6ezmQyOp3OaDR6PB4AXWOxWFVV1aZNm2iaTieTS0tLgUAgl8t99rP3xONxTdUqn89brdZcLjc4OAisV9jnEUIQK8dxPJPJ5PN5WINYlo1Go/F4vLq6Grgi8BZ49SRJFgQBVAJqa2sFQYASV+CaBoNBk8nkcDgEQWBJEiE0Pj7u8/loml7w+x977LGbb775i1/8YnVNTeeuXWd6e91uN5C5dQyjKsqaovkn3zBF/Ogsio/bZPlqtaNi7gJCCKGnvvvdv/u7//YXf/HIj3708r59N797/DhCKJNKvf7667Ozs7t27QKCWFlZGYZh4XC4v7/f7XZXVFRkMpnV1VWv12uxWI4dO9be3p7L5fx+/9DQUHNzM4RfOjs7+/v7SZLcu3evx+MBv6WYwf2Rh+81SkAhnydJktTpipUnSBKOsqBbU9QgwXHtWAK+VjQUcpaWCjxfTK2CBhiDokxOTNTX1/v9fkEQgP8VDoeBE4cQ4nn+zrvv/v9++MPGxsZAIPDyyy/7fL7vfve7Tz311H333Qd8SJPJNDMzU1FRAUxAh8PR0NBQVlY2OjoK9KtAIAAk6fHxcZvNJopiTU1NSUlJZWWl3W4H0kU6nbbY7dnV1cHBwcbGRlmWgScNPj9UF15eXuZ53mw2G41GVVWz2WyhUACuWanLFYtGgbCm0+ngfMswDJB+gBhIEAQUwDAajZDgC3lt4C0TBJHJZEDHAE7IdrsdskwpipJlNZPJ0DQN+DZsJpCcCfwhSFslCEJVVbAroBkLgqDT6SiGAS6B9q4kSevnHmswJBIJvV4PtTrgTAhkg5WVFY/Hw+r1kHGvKsqlS5e2btuWSiYPHTr0+OOPP/TQQ0B7+trXv760uGg0Gs1mM2T0w0BDVZ9PxF7Wt09SgRvy066mbyiKJIqRSMThMO3du7e7u1uDpI1GIySe1tfX53I5m83GsmwoFDKbzVu2bAkEAnq9HsMwi8VC03RJSUlDQ0M4HHY4HFu2bPF6vSACmc1mN27c6HQ64/G4x+ORJImSZY7jQG8Gk2VEEBqSeRVsREgoFIAsJgsCjuMYSYIQhsBxkEAN6BRYYDE3DCFFFJ1utywIGgOmaJ+CAFnOQGTxer04RV0PCG1qajp16lQ2m73nnntGR0eff/75pqYmDMOAmSDLcnt7O6Dq4F4KggAbCLxSWVkJtUpvueUWURRzuRzLssCxJnU6LpuFSQwY7y233opwHBaX8qqqIlKKkFgoFPMJ19p6xFgRxZKSEowgWJZVVXU96E+RpOVDwKnxo7LS4Is+8BVrpyAK4RRFXdM5NpvtemlBqiQRFEXQNK3TwamS1Oks6770ml6WJcnhdCKEJFFUVXU9MrnR50OoWHERIRSJRECtb3V1NRgM3nnnnSC7/POf/9zlcn3+3nvjsRhOEHAHAHKul9/3B7ZPzqwVBRLhlbXim9lMJhKJvP3228lkhmXZ73znO0888cT/+61vffvb37bY7W3t7QihseHhkydPAq2WoqjGxkav1wt6zPPz8wzDgFPkdDozmUwsFguFQqlUanJykqIokED/2mOPlZeXI4JYDYeBVIVUNZvNAoFOc74lSaIRAlSWJMkP4NqqCp4GIE+qqgJSBcghTdMIw3ieB1YkCXvm2h00bJDS6ViWTSQSwDmGZRv2QAA24bLW1tabbropnU67ysoyq6sEQYAcvcFgAN3UUrc7m06zLMtxHDDLKIqCLBOO42DryGazOp0Ojj2FQmHbtm0sy+YzGZ7nYU9gGEYRRcjtAkkehBDLsgCEkiSZTiZ1Op2WVA0bhQbV8jyPYZhery8UCnw+n8/n4UhJ07QoioIgwG4grQEB8EtlWQaFS5B4YFhWEkV4MZfLAaokCALLGuAPBBALSVIUpaoqYIHQVzCLZFkGAQd6Lb8e+lPbh4FqR63hHMVTK0nCrg4PKQoC8ARkWbaXlORzOWByw9wAAvoLL7zQ19fX1dUVCoUymQJCqLe39/P33pvL5UwmU1G3RlURQnAI/8RMZq19YkYI2coYQRAYBtAZUJbfffddjuNYlt1QW7tt2zYgGeQzGYZhcIqqq6tzu93g50B6nsVi2bdvX01NDSi0Mgyj0+mMJlN6ddVoNJaVlYEHUlFRkc/nM5kMcClhSIg1pNtgMIiiSCGk0+kKuZwsy4AeqaBHsIbFESQpiSKmKFpIDcMwjCCUtXAqMLZYg8FgNiNZht2GNRgUSSrWsiYIbVHfsHEjQghmngkIhBgmcFw0GtXr9WazeWlpCYANnucVSWIYJhAIgHpNIBCob2xMxmLxaFSSJCAVQB6Aoig4jqfTaVmWbQ6HwHF2pxMkPxi9HiKQ6WRSr9fD/pPPZAiCwCnK5nBoCdZwVtSRZCGXI2maURSaZSGmB76f9itkQdAIqwzDYCQJNgZsaRrDcBwnKapYyookuVyu2O2yDMYMGx0AeACK6vV6jCQpgkAI4QSh+/Cmp6qKJK3fHnGEQPZCi9BCrq5GLUYIFQeULGaZUzhOUZSKYcVM/HXfomMYSCyCFQp4bTqdLhQKlVdUmM3mhoaG9vb2ZDLZ2bnj7NkBC0gBFAqXLl2y2Wy1dXVXJRL/CEb4iZ0JRVHU9HZURYFlSRRFmqaBywuzBIRJYcuiKArHcUqn4zlOURRWr1dkGVZNCFrCeglKBJCHAuOUTiYhKAe0T92aSpeOZbW+VlUVznUCx6mqqtPri0nrigJrKgQGYKWgIfJWKGgiXLALsSwrrZW/VtcKR4N3WsjnNRmbXCYDizHcRwtDK4oCaApBEKWlpUtLSw6Hg6ZpoKrC7A+HwzzPWywWSJMJhUIAWkKeEc/zmUwG4l1Go7G6uhrEO7RgtxbTAzQfUorBdOFvbY5qs/kq2UCWwcKvnp81ZgIEHjBM4nltJy+eMtacC1kQYLg1bSUtXAGynBRFYQQhCUIRtsVxRZZxnAR/RFVVjCCgEivIRsBXQxBYC+rAcimLIgwBzChQQrgadoZ1HyFEEJl02mAwQCeAFhkoX5AUxeXz64US47EYyPOYTCa32w0M7P7z55988sk77rjj/vvvhxxXgGQRhkFc/mNhob9n+8SMELANcDCgs3Ach0DqtQkTa00DRSSeh3VLhuVwLZEKgEcI9MP1GI5Loli825p4HkSxgfkFx3TQOBRFEaTs4M4gcgPQC0JIEkWI+SqiCOFdkqIUWS4UCnqD4ao8AUXx+TwsBBqVRCwUYLeBJ4fAIMxdiIICkMAajZp6H0Iol80aTCZJEDAMI2i6yFxRFATse5sN/oZHxTCMIMni8+j1kEFHkqRu7ZAj8rwgCAazGbpdVVWKYYp7BY7LkN1C0xhJriYSFpsNwcLBspqKD7HGmii6eRC7WxOeLBItVLV4PMZxeDboE3BAYDtVZBlMXRFFzaQ1m+fzeR3LyqJIwNqBf4hYs0YJ0s7hcAFCqGg2OC4LAmTHSoJA0rQiSRCJLRqhqhY1CMHOQeFCUcDsi8uxxqEB6RNZxgniw6warUGMES7QLhPXXPFPtn18Be7r3eiPXS77Y7ZPynf/2L/rj90Pn5Q79Ek958esvPvHf/6PqalzHQWJP8aOd91H+N/2TTfajXajfWS7YYQ32o32J26fvIN7o91o/ye1P07o72O1GzvhjXaj/YnbjZ3wRvu/uv2RSDAfq93YCW+0G+1P3G7shDfa/9XtuuUe/jeG3EiNga7x0P9jG/TH/dT1fiRQwP/w5/mk2sf+9k+oH37LBzROD3xcK2718Z7nk+rVP9XgXPf5P/p1Vat5tv5fhP7Ypna98V1fcOmGO3qj3Wh/4va/AMim4uXsrPcdAAAAAElFTkSuQmCC\n",
      "text/plain": [
       "<PIL.JpegImagePlugin.JpegImageFile image mode=RGB size=300x442 at 0x1E9FA69A520>"
      ]
     },
     "execution_count": 17,
=======
      "image/png": "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\n",
      "text/plain": [
       "<PIL.JpegImagePlugin.JpegImageFile image mode=RGB size=300x424 at 0x1A7B5E59EE0>"
      ]
     },
     "execution_count": 11,
>>>>>>> Stashed changes
     "metadata": {},
     "output_type": "execute_result"
    }
   ],
   "source": [
    "import requests\n",
    "from PIL import Image\n",
    "\n",
    "response = requests.get(results['poster'], stream=True)\n",
    "Image.open(response.raw)"
   ]
  },
  {
   "cell_type": "code",
<<<<<<< Updated upstream
   "execution_count": 18,
=======
   "execution_count": 17,
>>>>>>> Stashed changes
   "metadata": {
    "ExecuteTime": {
     "end_time": "2022-01-20T23:02:33.435431Z",
     "start_time": "2022-01-20T23:02:33.424458Z"
    }
   },
   "outputs": [],
   "source": [
    "tb_top_movies = pd.read_csv('data/top_gross_ltv.csv', sep = \";\", decimal = \",\")"
   ]
  },
  {
   "cell_type": "code",
<<<<<<< Updated upstream
   "execution_count": 19,
=======
   "execution_count": 18,
>>>>>>> Stashed changes
   "metadata": {
    "ExecuteTime": {
     "end_time": "2022-01-20T23:02:36.268885Z",
     "start_time": "2022-01-20T23:02:36.248955Z"
    }
   },
   "outputs": [
    {
     "data": {
      "text/html": [
       "<div>\n",
       "<style scoped>\n",
       "    .dataframe tbody tr th:only-of-type {\n",
       "        vertical-align: middle;\n",
       "    }\n",
       "\n",
       "    .dataframe tbody tr th {\n",
       "        vertical-align: top;\n",
       "    }\n",
       "\n",
       "    .dataframe thead th {\n",
       "        text-align: right;\n",
       "    }\n",
       "</style>\n",
       "<table border=\"1\" class=\"dataframe\">\n",
       "  <thead>\n",
       "    <tr style=\"text-align: right;\">\n",
       "      <th></th>\n",
       "      <th>movie_name</th>\n",
       "      <th>adj_gross_ltv</th>\n",
       "    </tr>\n",
       "  </thead>\n",
       "  <tbody>\n",
       "    <tr>\n",
       "      <th>0</th>\n",
       "      <td>Gone with the Wind</td>\n",
       "      <td>1850581586</td>\n",
       "    </tr>\n",
       "    <tr>\n",
       "      <th>1</th>\n",
       "      <td>Star Wars: Episode IV - A New Hope</td>\n",
       "      <td>1629496559</td>\n",
       "    </tr>\n",
       "    <tr>\n",
       "      <th>2</th>\n",
       "      <td>The Sound of Music</td>\n",
       "      <td>1303502105</td>\n",
       "    </tr>\n",
       "    <tr>\n",
       "      <th>3</th>\n",
       "      <td>E.T. the Extra-Terrestrial</td>\n",
       "      <td>1297730421</td>\n",
       "    </tr>\n",
       "    <tr>\n",
       "      <th>4</th>\n",
       "      <td>Titanic</td>\n",
       "      <td>1240054754</td>\n",
       "    </tr>\n",
       "    <tr>\n",
       "      <th>...</th>\n",
       "      <td>...</td>\n",
       "      <td>...</td>\n",
       "    </tr>\n",
       "    <tr>\n",
       "      <th>195</th>\n",
       "      <td>Patton</td>\n",
       "      <td>364456792</td>\n",
       "    </tr>\n",
       "    <tr>\n",
       "      <th>196</th>\n",
       "      <td>Fatal Attraction</td>\n",
       "      <td>363012270</td>\n",
       "    </tr>\n",
       "    <tr>\n",
       "      <th>197</th>\n",
       "      <td>Iron Man 2</td>\n",
       "      <td>362898831</td>\n",
       "    </tr>\n",
       "    <tr>\n",
       "      <th>198</th>\n",
       "      <td>Zootopia</td>\n",
       "      <td>362329805</td>\n",
       "    </tr>\n",
       "    <tr>\n",
       "      <th>199</th>\n",
       "      <td>Liar Liar</td>\n",
       "      <td>361569578</td>\n",
       "    </tr>\n",
       "  </tbody>\n",
       "</table>\n",
       "<p>200 rows × 2 columns</p>\n",
       "</div>"
      ],
      "text/plain": [
       "                             movie_name  adj_gross_ltv\n",
       "0                    Gone with the Wind     1850581586\n",
       "1    Star Wars: Episode IV - A New Hope     1629496559\n",
       "2                    The Sound of Music     1303502105\n",
       "3            E.T. the Extra-Terrestrial     1297730421\n",
       "4                               Titanic     1240054754\n",
       "..                                  ...            ...\n",
       "195                              Patton      364456792\n",
       "196                    Fatal Attraction      363012270\n",
       "197                          Iron Man 2      362898831\n",
       "198                            Zootopia      362329805\n",
       "199                           Liar Liar      361569578\n",
       "\n",
       "[200 rows x 2 columns]"
      ]
     },
<<<<<<< Updated upstream
     "execution_count": 19,
=======
     "execution_count": 18,
>>>>>>> Stashed changes
     "metadata": {},
     "output_type": "execute_result"
    }
   ],
   "source": [
    "tb_top_movies"
   ]
  },
  {
   "cell_type": "code",
<<<<<<< Updated upstream
   "execution_count": 20,
=======
   "execution_count": 19,
>>>>>>> Stashed changes
   "metadata": {
    "ExecuteTime": {
     "end_time": "2022-01-20T23:03:03.824622Z",
     "start_time": "2022-01-20T23:03:03.805674Z"
    }
   },
   "outputs": [
    {
     "name": "stdout",
     "output_type": "stream",
     "text": [
      "200\n",
      "['Gone with the Wind', 'Star Wars: Episode IV - A New Hope', 'The Sound of Music', 'E.T. the Extra-Terrestrial', 'Titanic']\n"
     ]
    }
   ],
   "source": [
    "top_movies = list(tb_top_movies['movie_name'])\n",
    "print(len(top_movies))\n",
    "print(top_movies[0:5])"
   ]
  },
  {
   "cell_type": "code",
<<<<<<< Updated upstream
   "execution_count": 21,
=======
   "execution_count": 20,
>>>>>>> Stashed changes
   "metadata": {
    "ExecuteTime": {
     "end_time": "2022-01-20T23:03:23.041050Z",
     "start_time": "2022-01-20T23:03:23.029083Z"
    }
   },
   "outputs": [
    {
     "data": {
      "text/plain": [
       "'Gone with the Wind'"
      ]
     },
     "execution_count": 21,
     "metadata": {},
     "output_type": "execute_result"
    }
   ],
   "source": [
    "top_movies[0]"
   ]
  },
  {
   "cell_type": "code",
   "execution_count": 22,
   "metadata": {
    "ExecuteTime": {
     "end_time": "2022-01-20T23:03:35.422953Z",
     "start_time": "2022-01-20T23:03:35.378073Z"
    }
   },
   "outputs": [],
   "source": [
    "results = client.title(top_movies[0])"
   ]
  },
  {
   "cell_type": "code",
<<<<<<< Updated upstream
   "execution_count": 23,
=======
   "execution_count": 21,
>>>>>>> Stashed changes
   "metadata": {
    "ExecuteTime": {
     "end_time": "2022-01-20T23:03:41.163864Z",
     "start_time": "2022-01-20T23:03:41.144924Z"
    }
   },
   "outputs": [
    {
<<<<<<< Updated upstream
     "data": {
      "text/plain": [
       "{'title': 'Gone with the Wind',\n",
       " 'year': '1939',\n",
       " 'rated': 'Passed',\n",
       " 'released': '17 Jan 1940',\n",
       " 'runtime': '238 min',\n",
       " 'genre': 'Drama, History, Romance',\n",
       " 'director': 'Victor Fleming, George Cukor, Sam Wood',\n",
       " 'writer': 'Margaret Mitchell, Sidney Howard, Oliver H.P. Garrett',\n",
       " 'actors': 'Clark Gable, Vivien Leigh, Thomas Mitchell',\n",
       " 'plot': 'The manipulative daughter of a Georgia plantation owner conducts a turbulent romance with a roguish profiteer during the American Civil War and Reconstruction periods.',\n",
       " 'language': 'English',\n",
       " 'country': 'United States',\n",
       " 'awards': 'Won 10 Oscars. 21 wins & 12 nominations total',\n",
       " 'poster': 'https://m.media-amazon.com/images/M/MV5BYjUyZWZkM2UtMzYxYy00ZmQ3LWFmZTQtOGE2YjBkNjA3YWZlXkEyXkFqcGdeQXVyNzkwMjQ5NzM@._V1_SX300.jpg',\n",
       " 'ratings': [{'source': 'Internet Movie Database', 'value': '8.1/10'},\n",
       "  {'source': 'Rotten Tomatoes', 'value': '90%'},\n",
       "  {'source': 'Metacritic', 'value': '97/100'}],\n",
       " 'metascore': '97',\n",
       " 'imdb_rating': '8.1',\n",
       " 'imdb_votes': '304,365',\n",
       " 'imdb_id': 'tt0031381',\n",
       " 'type': 'movie',\n",
       " 'dvd': '17 Nov 2009',\n",
       " 'box_office': '$200,852,579',\n",
       " 'production': 'N/A',\n",
       " 'website': 'N/A',\n",
       " 'response': 'True'}"
      ]
     },
     "execution_count": 23,
     "metadata": {},
     "output_type": "execute_result"
=======
     "ename": "KeyError",
     "evalue": "1",
     "output_type": "error",
     "traceback": [
      "\u001b[1;31m---------------------------------------------------------------------------\u001b[0m",
      "\u001b[1;31mKeyError\u001b[0m                                  Traceback (most recent call last)",
      "\u001b[1;32m<ipython-input-21-002bd4725411>\u001b[0m in \u001b[0;36m<module>\u001b[1;34m\u001b[0m\n\u001b[1;32m----> 1\u001b[1;33m \u001b[0mresults\u001b[0m\u001b[1;33m[\u001b[0m\u001b[1;34m'ratings'\u001b[0m\u001b[1;33m]\u001b[0m\u001b[1;33m[\u001b[0m\u001b[1;36m0\u001b[0m\u001b[1;33m]\u001b[0m\u001b[1;33m[\u001b[0m\u001b[1;36m1\u001b[0m\u001b[1;33m]\u001b[0m\u001b[1;33m.\u001b[0m\u001b[0mvalues\u001b[0m\u001b[1;33m(\u001b[0m\u001b[1;33m)\u001b[0m\u001b[1;33m\u001b[0m\u001b[1;33m\u001b[0m\u001b[0m\n\u001b[0m",
      "\u001b[1;31mKeyError\u001b[0m: 1"
     ]
>>>>>>> Stashed changes
    }
   ],
   "source": [
    "results['ratings'][0][1].values()"
   ]
  },
  {
   "cell_type": "code",
<<<<<<< Updated upstream
   "execution_count": 35,
   "metadata": {
    "ExecuteTime": {
     "end_time": "2022-01-20T23:34:40.640354Z",
     "start_time": "2022-01-20T23:34:35.237565Z"
    }
   },
=======
   "execution_count": 22,
   "metadata": {},
>>>>>>> Stashed changes
   "outputs": [],
   "source": [
    "# Criar um DataFrame com os dados abaixo para os 100 maiores:\n",
    "# - NOME DO FILME (STRING)\n",
    "# - ANO DE LANÇAMENTO (INTEGER)\n",
    "# - NOTA NO IMDB (FLOAT)\n",
    "# - NOTA NO ROTTEN TOMATOES (FLOAT)\n",
    "# - DURAÇÃO EM MINUTOS (INTEGER)\n",
    "import re\n",
    "nomes = []\n",
    "anos = []\n",
    "notas = []\n",
    "notas_rt = []\n",
    "durs = []\n",
    "for nome_filme in top_movies:\n",
    "    nome = nome_filme\n",
    "    resultado_api = client.title(nome_filme)\n",
    "    ano_de_lanc = int(resultado_api['year'])\n",
    "    nota_imdb = float(resultado_api['imdb_rating'])\n",
    "    \n",
    "    nota_rt = -1\n",
    "    for rating in resultado_api['ratings']:\n",
    "        if rating['source'] == 'Rotten Tomatoes':\n",
    "            nota_rt = float(re.sub('%', '', rating['value']))\n",
    "\n",
    "    dur_filme = re.findall('[0-9]+', resultado_api['runtime'])[0]\n",
    "    nomes.append(nome)\n",
    "    anos.append(ano_de_lanc)\n",
    "    notas.append(nota_imdb)\n",
    "    notas_rt.append(nota_rt)\n",
    "    durs.append(dur_filme)\n",
    "\n",
    "df = pd.DataFrame({'nomes' : nomes, 'anos' : anos, 'imdb' : notas, 'rt' : notas_rt, 'duracao' : durs})"
   ]
  },
  {
   "cell_type": "code",
   "execution_count": 36,
   "metadata": {
    "ExecuteTime": {
     "end_time": "2022-01-20T23:34:43.290352Z",
     "start_time": "2022-01-20T23:34:43.256443Z"
    }
   },
   "outputs": [
    {
     "data": {
      "text/html": [
       "<div>\n",
       "<style scoped>\n",
       "    .dataframe tbody tr th:only-of-type {\n",
       "        vertical-align: middle;\n",
       "    }\n",
       "\n",
       "    .dataframe tbody tr th {\n",
       "        vertical-align: top;\n",
       "    }\n",
       "\n",
       "    .dataframe thead th {\n",
       "        text-align: right;\n",
       "    }\n",
       "</style>\n",
       "<table border=\"1\" class=\"dataframe\">\n",
       "  <thead>\n",
       "    <tr style=\"text-align: right;\">\n",
       "      <th></th>\n",
       "      <th>anos</th>\n",
       "      <th>imdb</th>\n",
       "      <th>rt</th>\n",
       "    </tr>\n",
       "  </thead>\n",
       "  <tbody>\n",
       "    <tr>\n",
       "      <th>count</th>\n",
       "      <td>200.000000</td>\n",
       "      <td>200.000000</td>\n",
       "      <td>200.000000</td>\n",
       "    </tr>\n",
       "    <tr>\n",
       "      <th>mean</th>\n",
       "      <td>1990.110000</td>\n",
       "      <td>7.450500</td>\n",
       "      <td>79.185000</td>\n",
       "    </tr>\n",
       "    <tr>\n",
       "      <th>std</th>\n",
       "      <td>21.868219</td>\n",
       "      <td>0.711993</td>\n",
       "      <td>19.992732</td>\n",
       "    </tr>\n",
       "    <tr>\n",
       "      <th>min</th>\n",
       "      <td>1921.000000</td>\n",
       "      <td>5.400000</td>\n",
       "      <td>-1.000000</td>\n",
       "    </tr>\n",
       "    <tr>\n",
       "      <th>25%</th>\n",
       "      <td>1974.000000</td>\n",
       "      <td>7.000000</td>\n",
       "      <td>72.000000</td>\n",
       "    </tr>\n",
       "    <tr>\n",
       "      <th>50%</th>\n",
       "      <td>1995.000000</td>\n",
       "      <td>7.400000</td>\n",
       "      <td>85.500000</td>\n",
       "    </tr>\n",
       "    <tr>\n",
       "      <th>75%</th>\n",
       "      <td>2008.000000</td>\n",
       "      <td>8.000000</td>\n",
       "      <td>93.000000</td>\n",
       "    </tr>\n",
       "    <tr>\n",
       "      <th>max</th>\n",
       "      <td>2019.000000</td>\n",
       "      <td>9.200000</td>\n",
       "      <td>100.000000</td>\n",
       "    </tr>\n",
       "  </tbody>\n",
       "</table>\n",
       "</div>"
      ],
      "text/plain": [
       "              anos        imdb          rt\n",
       "count   200.000000  200.000000  200.000000\n",
       "mean   1990.110000    7.450500   79.185000\n",
       "std      21.868219    0.711993   19.992732\n",
       "min    1921.000000    5.400000   -1.000000\n",
       "25%    1974.000000    7.000000   72.000000\n",
       "50%    1995.000000    7.400000   85.500000\n",
       "75%    2008.000000    8.000000   93.000000\n",
       "max    2019.000000    9.200000  100.000000"
      ]
     },
     "execution_count": 36,
     "metadata": {},
     "output_type": "execute_result"
    }
   ],
   "source": [
    "df.describe()"
   ]
  },
  {
   "cell_type": "code",
   "execution_count": 37,
   "metadata": {
    "ExecuteTime": {
     "end_time": "2022-01-20T23:40:59.265635Z",
     "start_time": "2022-01-20T23:40:59.223719Z"
    }
   },
   "outputs": [
    {
     "data": {
      "text/plain": [
       "{'source': 'Internet Movie Database', 'value': '8.1/10'}"
      ]
     },
     "execution_count": 37,
     "metadata": {},
     "output_type": "execute_result"
    }
   ],
   "source": [
    "resultado_api = client.title(top_movies[0])\n",
    "resultado_api['ratings'][0]"
   ]
  },
  {
   "cell_type": "code",
   "execution_count": 27,
   "metadata": {},
   "outputs": [
    {
     "data": {
      "text/html": [
       "<div>\n",
       "<style scoped>\n",
       "    .dataframe tbody tr th:only-of-type {\n",
       "        vertical-align: middle;\n",
       "    }\n",
       "\n",
       "    .dataframe tbody tr th {\n",
       "        vertical-align: top;\n",
       "    }\n",
       "\n",
       "    .dataframe thead th {\n",
       "        text-align: right;\n",
       "    }\n",
       "</style>\n",
       "<table border=\"1\" class=\"dataframe\">\n",
       "  <thead>\n",
       "    <tr style=\"text-align: right;\">\n",
       "      <th></th>\n",
       "      <th>Name</th>\n",
       "      <th>Release_Year</th>\n",
       "      <th>Note_IMDB</th>\n",
       "      <th>Note_Rotten</th>\n",
       "      <th>Time_min</th>\n",
       "    </tr>\n",
       "  </thead>\n",
       "  <tbody>\n",
       "    <tr>\n",
       "      <th>0</th>\n",
       "      <td>Gone with the Wind</td>\n",
       "      <td>1939</td>\n",
       "      <td>8.1</td>\n",
       "      <td>90.0</td>\n",
       "      <td>238</td>\n",
       "    </tr>\n",
       "    <tr>\n",
       "      <th>1</th>\n",
       "      <td>Star Wars: Episode IV - A New Hope</td>\n",
       "      <td>1977</td>\n",
       "      <td>8.6</td>\n",
       "      <td>92.0</td>\n",
       "      <td>121</td>\n",
       "    </tr>\n",
       "    <tr>\n",
       "      <th>2</th>\n",
       "      <td>The Sound of Music</td>\n",
       "      <td>1965</td>\n",
       "      <td>8.0</td>\n",
       "      <td>83.0</td>\n",
       "      <td>172</td>\n",
       "    </tr>\n",
       "    <tr>\n",
       "      <th>3</th>\n",
       "      <td>E.T. the Extra-Terrestrial</td>\n",
       "      <td>1982</td>\n",
       "      <td>7.8</td>\n",
       "      <td>99.0</td>\n",
       "      <td>115</td>\n",
       "    </tr>\n",
       "    <tr>\n",
       "      <th>4</th>\n",
       "      <td>Titanic</td>\n",
       "      <td>1997</td>\n",
       "      <td>7.8</td>\n",
       "      <td>89.0</td>\n",
       "      <td>194</td>\n",
       "    </tr>\n",
       "    <tr>\n",
       "      <th>...</th>\n",
       "      <td>...</td>\n",
       "      <td>...</td>\n",
       "      <td>...</td>\n",
       "      <td>...</td>\n",
       "      <td>...</td>\n",
       "    </tr>\n",
       "    <tr>\n",
       "      <th>195</th>\n",
       "      <td>Patton</td>\n",
       "      <td>1970</td>\n",
       "      <td>7.9</td>\n",
       "      <td>94.0</td>\n",
       "      <td>172</td>\n",
       "    </tr>\n",
       "    <tr>\n",
       "      <th>196</th>\n",
       "      <td>Fatal Attraction</td>\n",
       "      <td>1987</td>\n",
       "      <td>6.9</td>\n",
       "      <td>76.0</td>\n",
       "      <td>119</td>\n",
       "    </tr>\n",
       "    <tr>\n",
       "      <th>197</th>\n",
       "      <td>Iron Man 2</td>\n",
       "      <td>2010</td>\n",
       "      <td>7.0</td>\n",
       "      <td>72.0</td>\n",
       "      <td>124</td>\n",
       "    </tr>\n",
       "    <tr>\n",
       "      <th>198</th>\n",
       "      <td>Zootopia</td>\n",
       "      <td>2016</td>\n",
       "      <td>8.0</td>\n",
       "      <td>98.0</td>\n",
       "      <td>108</td>\n",
       "    </tr>\n",
       "    <tr>\n",
       "      <th>199</th>\n",
       "      <td>Liar Liar</td>\n",
       "      <td>1997</td>\n",
       "      <td>6.9</td>\n",
       "      <td>82.0</td>\n",
       "      <td>86</td>\n",
       "    </tr>\n",
       "  </tbody>\n",
       "</table>\n",
       "<p>200 rows × 5 columns</p>\n",
       "</div>"
      ],
      "text/plain": [
       "                                   Name  Release_Year  Note_IMDB  Note_Rotten  \\\n",
       "0                    Gone with the Wind          1939        8.1         90.0   \n",
       "1    Star Wars: Episode IV - A New Hope          1977        8.6         92.0   \n",
       "2                    The Sound of Music          1965        8.0         83.0   \n",
       "3            E.T. the Extra-Terrestrial          1982        7.8         99.0   \n",
       "4                               Titanic          1997        7.8         89.0   \n",
       "..                                  ...           ...        ...          ...   \n",
       "195                              Patton          1970        7.9         94.0   \n",
       "196                    Fatal Attraction          1987        6.9         76.0   \n",
       "197                          Iron Man 2          2010        7.0         72.0   \n",
       "198                            Zootopia          2016        8.0         98.0   \n",
       "199                           Liar Liar          1997        6.9         82.0   \n",
       "\n",
       "     Time_min  \n",
       "0         238  \n",
       "1         121  \n",
       "2         172  \n",
       "3         115  \n",
       "4         194  \n",
       "..        ...  \n",
       "195       172  \n",
       "196       119  \n",
       "197       124  \n",
       "198       108  \n",
       "199        86  \n",
       "\n",
       "[200 rows x 5 columns]"
      ]
     },
     "execution_count": 27,
     "metadata": {},
     "output_type": "execute_result"
    }
   ],
   "source": [
    "import re\n",
    "Name =[]\n",
    "Year=[]\n",
    "IMDB=[]\n",
    "Rotten=[]\n",
    "Time =[]\n",
    "for movie in top_movies : \n",
    "    results = client.title(movie)\n",
    "    name=str(results['title'])\n",
    "    Name.append(name)\n",
    "    year=int(results['year'])\n",
    "    Year.append(year)\n",
    "    time=int(re.findall('[0-9]+', results['runtime'])[0])\n",
    "    Time.append(time)\n",
    "    imdb=float(results['imdb_rating'])\n",
    "    IMDB.append(imdb)\n",
    "    rotten = -1\n",
    "    for rating in results['ratings']:\n",
    "        if rating['source'] == 'Rotten Tomatoes' :\n",
    "            rotten = float(re.sub('%','',rating['value']))\n",
    "    Rotten.append(rotten)\n",
    "df = pd.DataFrame({'Name':Name, 'Release_Year':Year, 'Note_IMDB':IMDB, 'Note_Rotten':Rotten, 'Time_min':Time})\n",
    "df"
   ]
  },
  {
   "cell_type": "code",
   "execution_count": 28,
   "metadata": {},
   "outputs": [
    {
     "data": {
      "text/html": [
       "<div>\n",
       "<style scoped>\n",
       "    .dataframe tbody tr th:only-of-type {\n",
       "        vertical-align: middle;\n",
       "    }\n",
       "\n",
       "    .dataframe tbody tr th {\n",
       "        vertical-align: top;\n",
       "    }\n",
       "\n",
       "    .dataframe thead th {\n",
       "        text-align: right;\n",
       "    }\n",
       "</style>\n",
       "<table border=\"1\" class=\"dataframe\">\n",
       "  <thead>\n",
       "    <tr style=\"text-align: right;\">\n",
       "      <th></th>\n",
       "      <th>Release_Year</th>\n",
       "      <th>Note_IMDB</th>\n",
       "      <th>Note_Rotten</th>\n",
       "      <th>Time_min</th>\n",
       "    </tr>\n",
       "  </thead>\n",
       "  <tbody>\n",
       "    <tr>\n",
       "      <th>count</th>\n",
       "      <td>200.000000</td>\n",
       "      <td>200.000000</td>\n",
       "      <td>200.000000</td>\n",
       "      <td>200.000000</td>\n",
       "    </tr>\n",
       "    <tr>\n",
       "      <th>mean</th>\n",
       "      <td>1990.110000</td>\n",
       "      <td>7.450500</td>\n",
       "      <td>79.185000</td>\n",
       "      <td>127.225000</td>\n",
       "    </tr>\n",
       "    <tr>\n",
       "      <th>std</th>\n",
       "      <td>21.868219</td>\n",
       "      <td>0.711993</td>\n",
       "      <td>19.992732</td>\n",
       "      <td>29.936354</td>\n",
       "    </tr>\n",
       "    <tr>\n",
       "      <th>min</th>\n",
       "      <td>1921.000000</td>\n",
       "      <td>5.400000</td>\n",
       "      <td>-1.000000</td>\n",
       "      <td>70.000000</td>\n",
       "    </tr>\n",
       "    <tr>\n",
       "      <th>25%</th>\n",
       "      <td>1974.000000</td>\n",
       "      <td>7.000000</td>\n",
       "      <td>72.000000</td>\n",
       "      <td>106.000000</td>\n",
       "    </tr>\n",
       "    <tr>\n",
       "      <th>50%</th>\n",
       "      <td>1995.000000</td>\n",
       "      <td>7.400000</td>\n",
       "      <td>85.500000</td>\n",
       "      <td>124.000000</td>\n",
       "    </tr>\n",
       "    <tr>\n",
       "      <th>75%</th>\n",
       "      <td>2008.000000</td>\n",
       "      <td>8.000000</td>\n",
       "      <td>93.000000</td>\n",
       "      <td>142.000000</td>\n",
       "    </tr>\n",
       "    <tr>\n",
       "      <th>max</th>\n",
       "      <td>2019.000000</td>\n",
       "      <td>9.200000</td>\n",
       "      <td>100.000000</td>\n",
       "      <td>238.000000</td>\n",
       "    </tr>\n",
       "  </tbody>\n",
       "</table>\n",
       "</div>"
      ],
      "text/plain": [
       "       Release_Year   Note_IMDB  Note_Rotten    Time_min\n",
       "count    200.000000  200.000000   200.000000  200.000000\n",
       "mean    1990.110000    7.450500    79.185000  127.225000\n",
       "std       21.868219    0.711993    19.992732   29.936354\n",
       "min     1921.000000    5.400000    -1.000000   70.000000\n",
       "25%     1974.000000    7.000000    72.000000  106.000000\n",
       "50%     1995.000000    7.400000    85.500000  124.000000\n",
       "75%     2008.000000    8.000000    93.000000  142.000000\n",
       "max     2019.000000    9.200000   100.000000  238.000000"
      ]
     },
     "execution_count": 28,
     "metadata": {},
     "output_type": "execute_result"
    }
   ],
   "source": [
    "df.describe()"
   ]
  },
  {
   "cell_type": "markdown",
   "metadata": {},
   "source": [
    "## Spotify"
   ]
  },
  {
   "cell_type": "markdown",
   "metadata": {},
   "source": [
    "Install spotipy: `pip install spotipy`"
   ]
  },
  {
   "cell_type": "markdown",
   "metadata": {},
   "source": [
    "Read its documentation: https://spotipy.readthedocs.io/en/2.17.1/"
   ]
  },
  {
   "cell_type": "markdown",
   "metadata": {
    "ExecuteTime": {
     "end_time": "2020-09-04T21:23:27.745083Z",
     "start_time": "2020-09-04T21:23:27.741113Z"
    }
   },
   "source": [
    "If you read the documentation, it tells you to get your `access key` at https://developer.spotify.com/documentation/web-api/. You can view the `quick-start` tab or follow the guidelines here.\n",
    "\n",
    "- Click on `Dashboard`\n",
    "- Log in to your Spotify account\n",
    "- Create an APP\n",
    "- Collect your `Client ID` and `Client Secret` (click on SHOW CLIENT SECRET)\n",
    "- Click on `Edit Settings` on your app's dashboard\n",
    "    - You have to insert a `redirect_uri` (I've put: https://www.google.com. You can put anything.)\n",
    "- Find your username ID in your profile settings.\n",
    "\n",
    "\n",
    "- Code Samples: https://github.com/plamere/spotipy/tree/master/examples"
   ]
  },
  {
   "cell_type": "code",
<<<<<<< Updated upstream
   "execution_count": 74,
=======
   "execution_count": 54,
>>>>>>> Stashed changes
   "metadata": {
    "ExecuteTime": {
     "end_time": "2022-01-21T00:39:17.736375Z",
     "start_time": "2022-01-21T00:39:14.533588Z"
    }
   },
   "outputs": [
    {
     "name": "stdout",
     "output_type": "stream",
     "text": [
<<<<<<< Updated upstream
      "Requirement already satisfied: spotipy in c:\\programdata\\anaconda3\\lib\\site-packages (2.19.0)\n",
      "Requirement already satisfied: urllib3>=1.26.0 in c:\\programdata\\anaconda3\\lib\\site-packages (from spotipy) (1.26.4)\n",
      "Requirement already satisfied: six>=1.15.0 in c:\\programdata\\anaconda3\\lib\\site-packages (from spotipy) (1.15.0)\n",
      "Requirement already satisfied: requests>=2.25.0 in c:\\programdata\\anaconda3\\lib\\site-packages (from spotipy) (2.25.1)\n",
      "Requirement already satisfied: certifi>=2017.4.17 in c:\\programdata\\anaconda3\\lib\\site-packages (from requests>=2.25.0->spotipy) (2020.12.5)\n",
      "Requirement already satisfied: idna<3,>=2.5 in c:\\programdata\\anaconda3\\lib\\site-packages (from requests>=2.25.0->spotipy) (2.10)\n",
      "Requirement already satisfied: chardet<5,>=3.0.2 in c:\\programdata\\anaconda3\\lib\\site-packages (from requests>=2.25.0->spotipy) (4.0.0)\n",
      "Note: you may need to restart the kernel to use updated packages.\n"
=======
      "Requirement already satisfied: spotipy in c:\\users\\forqu\\anaconda\\lib\\site-packages (2.19.0)\n",
      "Requirement already satisfied: requests>=2.25.0 in c:\\users\\forqu\\anaconda\\lib\\site-packages (from spotipy) (2.25.1)\n",
      "Requirement already satisfied: six>=1.15.0 in c:\\users\\forqu\\anaconda\\lib\\site-packages (from spotipy) (1.15.0)\n",
      "Requirement already satisfied: urllib3>=1.26.0 in c:\\users\\forqu\\anaconda\\lib\\site-packages (from spotipy) (1.26.4)\n",
      "Requirement already satisfied: chardet<5,>=3.0.2 in c:\\users\\forqu\\anaconda\\lib\\site-packages (from requests>=2.25.0->spotipy) (4.0.0)\n",
      "Requirement already satisfied: certifi>=2017.4.17 in c:\\users\\forqu\\anaconda\\lib\\site-packages (from requests>=2.25.0->spotipy) (2020.12.5)\n",
      "Requirement already satisfied: idna<3,>=2.5 in c:\\users\\forqu\\anaconda\\lib\\site-packages (from requests>=2.25.0->spotipy) (2.10)\n"
>>>>>>> Stashed changes
     ]
    }
   ],
   "source": [
    "pip install spotipy"
   ]
  },
  {
   "cell_type": "code",
<<<<<<< Updated upstream
   "execution_count": 38,
=======
   "execution_count": 55,
>>>>>>> Stashed changes
   "metadata": {
    "ExecuteTime": {
     "end_time": "2022-01-20T23:47:10.995927Z",
     "start_time": "2022-01-20T23:47:10.985950Z"
    }
   },
   "outputs": [
    {
     "data": {
      "text/plain": [
       "True"
      ]
     },
<<<<<<< Updated upstream
     "execution_count": 38,
=======
     "execution_count": 55,
>>>>>>> Stashed changes
     "metadata": {},
     "output_type": "execute_result"
    }
   ],
   "source": [
    "load_dotenv('credentials/key_spotify.env')"
   ]
  },
  {
   "cell_type": "code",
<<<<<<< Updated upstream
   "execution_count": 73,
   "metadata": {
    "ExecuteTime": {
     "end_time": "2022-01-21T00:38:04.145751Z",
     "start_time": "2022-01-21T00:38:04.130790Z"
    }
   },
   "outputs": [
    {
     "name": "stdout",
     "output_type": "stream",
     "text": [
      "cd9cd1ff2710474993b146e14b5e2612\n"
     ]
    }
   ],
   "source": [
    "print(os.getenv('CLIENT_ID'))"
   ]
  },
  {
   "cell_type": "code",
   "execution_count": 40,
=======
   "execution_count": 56,
>>>>>>> Stashed changes
   "metadata": {
    "ExecuteTime": {
     "end_time": "2022-01-20T23:56:27.179469Z",
     "start_time": "2022-01-20T23:56:26.949087Z"
    }
   },
   "outputs": [],
   "source": [
    "from spotipy import util, oauth2, Spotify"
   ]
  },
  {
   "cell_type": "markdown",
   "metadata": {},
   "source": [
    "### Authentication "
   ]
  },
  {
   "cell_type": "code",
<<<<<<< Updated upstream
   "execution_count": 108,
=======
   "execution_count": 57,
>>>>>>> Stashed changes
   "metadata": {
    "ExecuteTime": {
     "end_time": "2022-01-21T01:17:07.547302Z",
     "start_time": "2022-01-21T01:17:07.543313Z"
    }
   },
   "outputs": [],
   "source": [
    "gerente_aute = oauth2.SpotifyClientCredentials(client_id=os.getenv('CLIENT_ID'), client_secret=os.getenv('CLIENT_SECRET'))\n",
    "client = Spotify(auth_manager = gerente_aute)"
   ]
  },
  {
   "cell_type": "code",
<<<<<<< Updated upstream
   "execution_count": null,
   "metadata": {},
   "outputs": [],
   "source": [
    "# client_id=os.getenv('CLIENT_ID'), client_secret=os.getenv('CLIENT_SECRET')\n",
    "# oauth2.SpotifyClientCredentials(client_id, client_secret)\n",
    "# Spotify(auth_manager)"
   ]
  },
  {
   "cell_type": "code",
   "execution_count": 42,
=======
   "execution_count": 58,
>>>>>>> Stashed changes
   "metadata": {
    "ExecuteTime": {
     "end_time": "2022-01-20T23:56:32.827218Z",
     "start_time": "2022-01-20T23:56:32.815251Z"
    }
   },
   "outputs": [
    {
     "data": {
      "text/plain": [
<<<<<<< Updated upstream
       "<spotipy.client.Spotify at 0x1e9fa891bb0>"
      ]
     },
     "execution_count": 42,
=======
       "<spotipy.client.Spotify at 0x1a7b6208880>"
      ]
     },
     "execution_count": 58,
>>>>>>> Stashed changes
     "metadata": {},
     "output_type": "execute_result"
    }
   ],
   "source": [
    "client"
   ]
  },
  {
   "cell_type": "markdown",
   "metadata": {},
   "source": [
    "### Get Audio Features"
   ]
  },
  {
   "cell_type": "code",
<<<<<<< Updated upstream
   "execution_count": 44,
=======
   "execution_count": 59,
>>>>>>> Stashed changes
   "metadata": {
    "ExecuteTime": {
     "end_time": "2022-01-20T23:58:07.944731Z",
     "start_time": "2022-01-20T23:58:07.746167Z"
    }
   },
   "outputs": [
    {
     "data": {
<<<<<<< Updated upstream
      "text/plain": [
       "[{'danceability': 0.762,\n",
       "  'energy': 0.651,\n",
       "  'key': 0,\n",
       "  'loudness': -13.34,\n",
       "  'mode': 1,\n",
       "  'speechiness': 0.0655,\n",
       "  'acousticness': 0.00198,\n",
       "  'instrumentalness': 0.856,\n",
       "  'liveness': 0.111,\n",
       "  'valence': 0.941,\n",
       "  'tempo': 130.395,\n",
       "  'type': 'audio_features',\n",
       "  'id': '6hHc7Pks7wtBIW8Z6A0iFq',\n",
       "  'uri': 'spotify:track:6hHc7Pks7wtBIW8Z6A0iFq',\n",
       "  'track_href': 'https://api.spotify.com/v1/tracks/6hHc7Pks7wtBIW8Z6A0iFq',\n",
       "  'analysis_url': 'https://api.spotify.com/v1/audio-analysis/6hHc7Pks7wtBIW8Z6A0iFq',\n",
       "  'duration_ms': 449160,\n",
       "  'time_signature': 4}]"
      ]
     },
     "execution_count": 44,
     "metadata": {},
     "output_type": "execute_result"
    }
   ],
   "source": [
    "client.audio_features('6hHc7Pks7wtBIWb8Z6A0iFq')"
   ]
  },
  {
   "cell_type": "code",
   "execution_count": 46,
   "metadata": {
    "ExecuteTime": {
     "end_time": "2022-01-21T00:01:50.761611Z",
     "start_time": "2022-01-21T00:01:50.567102Z"
    }
   },
   "outputs": [
    {
     "data": {
      "text/plain": [
       "[{'danceability': 0.357,\n",
       "  'energy': 0.565,\n",
       "  'key': 8,\n",
       "  'loudness': -9.915,\n",
       "  'mode': 0,\n",
       "  'speechiness': 0.0419,\n",
       "  'acousticness': 0.216,\n",
       "  'instrumentalness': 0.835,\n",
       "  'liveness': 0.98,\n",
       "  'valence': 0.218,\n",
       "  'tempo': 158.032,\n",
       "  'type': 'audio_features',\n",
       "  'id': '4vy2YnIiU37OB7BonhYWgZ',\n",
       "  'uri': 'spotify:track:4vy2YnIiU37OB7BonhYWgZ',\n",
       "  'track_href': 'https://api.spotify.com/v1/tracks/4vy2YnIiU37OB7BonhYWgZ',\n",
       "  'analysis_url': 'https://api.spotify.com/v1/audio-analysis/4vy2YnIiU37OB7BonhYWgZ',\n",
       "  'duration_ms': 758360,\n",
       "  'time_signature': 4},\n",
       " {'danceability': 0.624,\n",
       "  'energy': 0.597,\n",
       "  'key': 0,\n",
       "  'loudness': -10.542,\n",
       "  'mode': 1,\n",
       "  'speechiness': 0.049,\n",
       "  'acousticness': 0.0992,\n",
       "  'instrumentalness': 0.778,\n",
       "  'liveness': 0.108,\n",
       "  'valence': 0.084,\n",
       "  'tempo': 119.964,\n",
       "  'type': 'audio_features',\n",
       "  'id': '5P9qFmIiMqE6r2UfwVIdIZ',\n",
       "  'uri': 'spotify:track:5P9qFmIiMqE6r2UfwVIdIZ',\n",
       "  'track_href': 'https://api.spotify.com/v1/tracks/5P9qFmIiMqE6r2UfwVIdIZ',\n",
       "  'analysis_url': 'https://api.spotify.com/v1/audio-analysis/5P9qFmIiMqE6r2UfwVIdIZ',\n",
       "  'duration_ms': 538320,\n",
       "  'time_signature': 4},\n",
       " {'danceability': 0.377,\n",
       "  'energy': 0.402,\n",
       "  'key': 5,\n",
       "  'loudness': -8.564,\n",
       "  'mode': 1,\n",
       "  'speechiness': 0.0295,\n",
       "  'acousticness': 0.536,\n",
       "  'instrumentalness': 0.786,\n",
       "  'liveness': 0.117,\n",
       "  'valence': 0.0415,\n",
       "  'tempo': 159.819,\n",
       "  'type': 'audio_features',\n",
       "  'id': '7oGwKNBX90dXL53ZbhPxJk',\n",
       "  'uri': 'spotify:track:7oGwKNBX90dXL53ZbhPxJk',\n",
       "  'track_href': 'https://api.spotify.com/v1/tracks/7oGwKNBX90dXL53ZbhPxJk',\n",
       "  'analysis_url': 'https://api.spotify.com/v1/audio-analysis/7oGwKNBX90dXL53ZbhPxJk',\n",
       "  'duration_ms': 257972,\n",
       "  'time_signature': 4},\n",
       " {'danceability': 0.657,\n",
       "  'energy': 0.693,\n",
       "  'key': 0,\n",
       "  'loudness': -7.149,\n",
       "  'mode': 0,\n",
       "  'speechiness': 0.065,\n",
       "  'acousticness': 0.527,\n",
       "  'instrumentalness': 0.000129,\n",
       "  'liveness': 0.326,\n",
       "  'valence': 0.75,\n",
       "  'tempo': 93.483,\n",
       "  'type': 'audio_features',\n",
       "  'id': '3u4jdEDB2WmOBIxxpzq44f',\n",
       "  'uri': 'spotify:track:3u4jdEDB2WmOBIxxpzq44f',\n",
       "  'track_href': 'https://api.spotify.com/v1/tracks/3u4jdEDB2WmOBIxxpzq44f',\n",
       "  'analysis_url': 'https://api.spotify.com/v1/audio-analysis/3u4jdEDB2WmOBIxxpzq44f',\n",
       "  'duration_ms': 262653,\n",
       "  'time_signature': 4}]"
      ]
     },
     "execution_count": 46,
=======
      "text/html": [
       "<div>\n",
       "<style scoped>\n",
       "    .dataframe tbody tr th:only-of-type {\n",
       "        vertical-align: middle;\n",
       "    }\n",
       "\n",
       "    .dataframe tbody tr th {\n",
       "        vertical-align: top;\n",
       "    }\n",
       "\n",
       "    .dataframe thead th {\n",
       "        text-align: right;\n",
       "    }\n",
       "</style>\n",
       "<table border=\"1\" class=\"dataframe\">\n",
       "  <thead>\n",
       "    <tr style=\"text-align: right;\">\n",
       "      <th></th>\n",
       "      <th>danceability</th>\n",
       "      <th>energy</th>\n",
       "      <th>key</th>\n",
       "      <th>loudness</th>\n",
       "      <th>mode</th>\n",
       "      <th>speechiness</th>\n",
       "      <th>acousticness</th>\n",
       "      <th>instrumentalness</th>\n",
       "      <th>liveness</th>\n",
       "      <th>valence</th>\n",
       "      <th>tempo</th>\n",
       "      <th>type</th>\n",
       "      <th>id</th>\n",
       "      <th>uri</th>\n",
       "      <th>track_href</th>\n",
       "      <th>analysis_url</th>\n",
       "      <th>duration_ms</th>\n",
       "      <th>time_signature</th>\n",
       "    </tr>\n",
       "  </thead>\n",
       "  <tbody>\n",
       "    <tr>\n",
       "      <th>0</th>\n",
       "      <td>0.357</td>\n",
       "      <td>0.565</td>\n",
       "      <td>8</td>\n",
       "      <td>-9.915</td>\n",
       "      <td>0</td>\n",
       "      <td>0.0419</td>\n",
       "      <td>0.2160</td>\n",
       "      <td>0.835000</td>\n",
       "      <td>0.980</td>\n",
       "      <td>0.2180</td>\n",
       "      <td>158.032</td>\n",
       "      <td>audio_features</td>\n",
       "      <td>4vy2YnIiU37OB7BonhYWgZ</td>\n",
       "      <td>spotify:track:4vy2YnIiU37OB7BonhYWgZ</td>\n",
       "      <td>https://api.spotify.com/v1/tracks/4vy2YnIiU37O...</td>\n",
       "      <td>https://api.spotify.com/v1/audio-analysis/4vy2...</td>\n",
       "      <td>758360</td>\n",
       "      <td>4</td>\n",
       "    </tr>\n",
       "    <tr>\n",
       "      <th>1</th>\n",
       "      <td>0.624</td>\n",
       "      <td>0.597</td>\n",
       "      <td>0</td>\n",
       "      <td>-10.542</td>\n",
       "      <td>1</td>\n",
       "      <td>0.0490</td>\n",
       "      <td>0.0992</td>\n",
       "      <td>0.778000</td>\n",
       "      <td>0.108</td>\n",
       "      <td>0.0840</td>\n",
       "      <td>119.964</td>\n",
       "      <td>audio_features</td>\n",
       "      <td>5P9qFmIiMqE6r2UfwVIdIZ</td>\n",
       "      <td>spotify:track:5P9qFmIiMqE6r2UfwVIdIZ</td>\n",
       "      <td>https://api.spotify.com/v1/tracks/5P9qFmIiMqE6...</td>\n",
       "      <td>https://api.spotify.com/v1/audio-analysis/5P9q...</td>\n",
       "      <td>538320</td>\n",
       "      <td>4</td>\n",
       "    </tr>\n",
       "    <tr>\n",
       "      <th>2</th>\n",
       "      <td>0.377</td>\n",
       "      <td>0.402</td>\n",
       "      <td>5</td>\n",
       "      <td>-8.564</td>\n",
       "      <td>1</td>\n",
       "      <td>0.0295</td>\n",
       "      <td>0.5360</td>\n",
       "      <td>0.786000</td>\n",
       "      <td>0.117</td>\n",
       "      <td>0.0415</td>\n",
       "      <td>159.819</td>\n",
       "      <td>audio_features</td>\n",
       "      <td>7oGwKNBX90dXL53ZbhPxJk</td>\n",
       "      <td>spotify:track:7oGwKNBX90dXL53ZbhPxJk</td>\n",
       "      <td>https://api.spotify.com/v1/tracks/7oGwKNBX90dX...</td>\n",
       "      <td>https://api.spotify.com/v1/audio-analysis/7oGw...</td>\n",
       "      <td>257972</td>\n",
       "      <td>4</td>\n",
       "    </tr>\n",
       "    <tr>\n",
       "      <th>3</th>\n",
       "      <td>0.657</td>\n",
       "      <td>0.693</td>\n",
       "      <td>0</td>\n",
       "      <td>-7.149</td>\n",
       "      <td>0</td>\n",
       "      <td>0.0650</td>\n",
       "      <td>0.5270</td>\n",
       "      <td>0.000129</td>\n",
       "      <td>0.326</td>\n",
       "      <td>0.7500</td>\n",
       "      <td>93.483</td>\n",
       "      <td>audio_features</td>\n",
       "      <td>3u4jdEDB2WmOBIxxpzq44f</td>\n",
       "      <td>spotify:track:3u4jdEDB2WmOBIxxpzq44f</td>\n",
       "      <td>https://api.spotify.com/v1/tracks/3u4jdEDB2WmO...</td>\n",
       "      <td>https://api.spotify.com/v1/audio-analysis/3u4j...</td>\n",
       "      <td>262653</td>\n",
       "      <td>4</td>\n",
       "    </tr>\n",
       "  </tbody>\n",
       "</table>\n",
       "</div>"
      ],
      "text/plain": [
       "   danceability  energy  key  loudness  mode  speechiness  acousticness  \\\n",
       "0         0.357   0.565    8    -9.915     0       0.0419        0.2160   \n",
       "1         0.624   0.597    0   -10.542     1       0.0490        0.0992   \n",
       "2         0.377   0.402    5    -8.564     1       0.0295        0.5360   \n",
       "3         0.657   0.693    0    -7.149     0       0.0650        0.5270   \n",
       "\n",
       "   instrumentalness  liveness  valence    tempo            type  \\\n",
       "0          0.835000     0.980   0.2180  158.032  audio_features   \n",
       "1          0.778000     0.108   0.0840  119.964  audio_features   \n",
       "2          0.786000     0.117   0.0415  159.819  audio_features   \n",
       "3          0.000129     0.326   0.7500   93.483  audio_features   \n",
       "\n",
       "                       id                                   uri  \\\n",
       "0  4vy2YnIiU37OB7BonhYWgZ  spotify:track:4vy2YnIiU37OB7BonhYWgZ   \n",
       "1  5P9qFmIiMqE6r2UfwVIdIZ  spotify:track:5P9qFmIiMqE6r2UfwVIdIZ   \n",
       "2  7oGwKNBX90dXL53ZbhPxJk  spotify:track:7oGwKNBX90dXL53ZbhPxJk   \n",
       "3  3u4jdEDB2WmOBIxxpzq44f  spotify:track:3u4jdEDB2WmOBIxxpzq44f   \n",
       "\n",
       "                                          track_href  \\\n",
       "0  https://api.spotify.com/v1/tracks/4vy2YnIiU37O...   \n",
       "1  https://api.spotify.com/v1/tracks/5P9qFmIiMqE6...   \n",
       "2  https://api.spotify.com/v1/tracks/7oGwKNBX90dX...   \n",
       "3  https://api.spotify.com/v1/tracks/3u4jdEDB2WmO...   \n",
       "\n",
       "                                        analysis_url  duration_ms  \\\n",
       "0  https://api.spotify.com/v1/audio-analysis/4vy2...       758360   \n",
       "1  https://api.spotify.com/v1/audio-analysis/5P9q...       538320   \n",
       "2  https://api.spotify.com/v1/audio-analysis/7oGw...       257972   \n",
       "3  https://api.spotify.com/v1/audio-analysis/3u4j...       262653   \n",
       "\n",
       "   time_signature  \n",
       "0               4  \n",
       "1               4  \n",
       "2               4  \n",
       "3               4  "
      ]
     },
     "execution_count": 59,
>>>>>>> Stashed changes
     "metadata": {},
     "output_type": "execute_result"
    }
   ],
   "source": [
    "client.audio_features(['https://open.spotify.com/track/4vy2YnIiU37OB7BonhYWgZ?si=c9f97bf9a6494803',\n",
    "                                    'https://open.spotify.com/track/5P9qFmIiMqE6r2UfwVIdIZ?si=4b95ccef589d4924',\n",
    "                                    'https://open.spotify.com/track/7oGwKNBX90dXL53ZbhPxJk?si=8bb44916119a413a',\n",
    "                                    'https://open.spotify.com/track/3u4jdEDB2WmOBIxxpzq44f?si=471e5e610d8646f4'])"
   ]
  },
  {
   "cell_type": "code",
   "execution_count": 47,
   "metadata": {
    "ExecuteTime": {
     "end_time": "2022-01-21T00:23:42.918210Z",
     "start_time": "2022-01-21T00:23:42.673840Z"
    }
   },
   "outputs": [
    {
     "data": {
      "text/html": [
       "<div>\n",
       "<style scoped>\n",
       "    .dataframe tbody tr th:only-of-type {\n",
       "        vertical-align: middle;\n",
       "    }\n",
       "\n",
       "    .dataframe tbody tr th {\n",
       "        vertical-align: top;\n",
       "    }\n",
       "\n",
       "    .dataframe thead th {\n",
       "        text-align: right;\n",
       "    }\n",
       "</style>\n",
       "<table border=\"1\" class=\"dataframe\">\n",
       "  <thead>\n",
       "    <tr style=\"text-align: right;\">\n",
       "      <th></th>\n",
       "      <th>danceability</th>\n",
       "      <th>energy</th>\n",
       "      <th>key</th>\n",
       "      <th>loudness</th>\n",
       "      <th>mode</th>\n",
       "      <th>speechiness</th>\n",
       "      <th>acousticness</th>\n",
       "      <th>instrumentalness</th>\n",
       "      <th>liveness</th>\n",
       "      <th>valence</th>\n",
       "      <th>tempo</th>\n",
       "      <th>type</th>\n",
       "      <th>id</th>\n",
       "      <th>uri</th>\n",
       "      <th>track_href</th>\n",
       "      <th>analysis_url</th>\n",
       "      <th>duration_ms</th>\n",
       "      <th>time_signature</th>\n",
       "    </tr>\n",
       "  </thead>\n",
       "  <tbody>\n",
       "    <tr>\n",
       "      <th>0</th>\n",
       "      <td>0.477</td>\n",
       "      <td>0.471</td>\n",
       "      <td>6</td>\n",
       "      <td>-10.036</td>\n",
       "      <td>1</td>\n",
       "      <td>0.0277</td>\n",
       "      <td>0.193</td>\n",
       "      <td>0.000002</td>\n",
       "      <td>0.131</td>\n",
       "      <td>0.423</td>\n",
       "      <td>81.204</td>\n",
       "      <td>audio_features</td>\n",
       "      <td>1JLn8RhQzHz3qDqsChcmBl</td>\n",
       "      <td>spotify:track:1JLn8RhQzHz3qDqsChcmBl</td>\n",
       "      <td>https://api.spotify.com/v1/tracks/1JLn8RhQzHz3...</td>\n",
       "      <td>https://api.spotify.com/v1/audio-analysis/1JLn...</td>\n",
       "      <td>304787</td>\n",
       "      <td>4</td>\n",
       "    </tr>\n",
       "    <tr>\n",
       "      <th>1</th>\n",
       "      <td>0.821</td>\n",
       "      <td>0.609</td>\n",
       "      <td>6</td>\n",
       "      <td>-6.541</td>\n",
       "      <td>0</td>\n",
       "      <td>0.2680</td>\n",
       "      <td>0.378</td>\n",
       "      <td>0.000000</td>\n",
       "      <td>0.136</td>\n",
       "      <td>0.516</td>\n",
       "      <td>133.133</td>\n",
       "      <td>audio_features</td>\n",
       "      <td>0NBgyml7T0IvUNbXIkcSpH</td>\n",
       "      <td>spotify:track:0NBgyml7T0IvUNbXIkcSpH</td>\n",
       "      <td>https://api.spotify.com/v1/tracks/0NBgyml7T0Iv...</td>\n",
       "      <td>https://api.spotify.com/v1/audio-analysis/0NBg...</td>\n",
       "      <td>141770</td>\n",
       "      <td>4</td>\n",
       "    </tr>\n",
       "  </tbody>\n",
       "</table>\n",
       "</div>"
      ],
      "text/plain": [
       "   danceability  energy  key  loudness  mode  speechiness  acousticness  \\\n",
       "0         0.477   0.471    6   -10.036     1       0.0277         0.193   \n",
       "1         0.821   0.609    6    -6.541     0       0.2680         0.378   \n",
       "\n",
       "   instrumentalness  liveness  valence    tempo            type  \\\n",
       "0          0.000002     0.131    0.423   81.204  audio_features   \n",
       "1          0.000000     0.136    0.516  133.133  audio_features   \n",
       "\n",
       "                       id                                   uri  \\\n",
       "0  1JLn8RhQzHz3qDqsChcmBl  spotify:track:1JLn8RhQzHz3qDqsChcmBl   \n",
       "1  0NBgyml7T0IvUNbXIkcSpH  spotify:track:0NBgyml7T0IvUNbXIkcSpH   \n",
       "\n",
       "                                          track_href  \\\n",
       "0  https://api.spotify.com/v1/tracks/1JLn8RhQzHz3...   \n",
       "1  https://api.spotify.com/v1/tracks/0NBgyml7T0Iv...   \n",
       "\n",
       "                                        analysis_url  duration_ms  \\\n",
       "0  https://api.spotify.com/v1/audio-analysis/1JLn...       304787   \n",
       "1  https://api.spotify.com/v1/audio-analysis/0NBg...       141770   \n",
       "\n",
       "   time_signature  \n",
       "0               4  \n",
       "1               4  "
      ]
     },
     "execution_count": 47,
     "metadata": {},
     "output_type": "execute_result"
    }
   ],
   "source": [
    "pd.DataFrame(client.audio_features(['https://open.spotify.com/track/1JLn8RhQzHz3qDqsChcmBl?si=43fe62e17364459f',\n",
    "                                    'https://open.spotify.com/track/0NBgyml7T0IvUNbXIkcSpH?si=3c7fc0977264436f']))"
   ]
  },
  {
   "cell_type": "markdown",
   "metadata": {},
   "source": [
    "### Get top tracks given artist URI"
   ]
  },
  {
   "cell_type": "markdown",
   "metadata": {},
   "source": [
    "# VOLTAMOS 21H20"
   ]
  },
  {
   "cell_type": "code",
<<<<<<< Updated upstream
   "execution_count": 48,
=======
   "execution_count": 60,
>>>>>>> Stashed changes
   "metadata": {
    "ExecuteTime": {
     "end_time": "2022-01-21T00:26:22.722845Z",
     "start_time": "2022-01-21T00:26:22.533272Z"
    }
   },
   "outputs": [],
   "source": [
    "artist = client.artist('6FXMGgJwohJLUSr5nVlf9X')"
   ]
  },
  {
   "cell_type": "code",
<<<<<<< Updated upstream
   "execution_count": 49,
=======
   "execution_count": 61,
>>>>>>> Stashed changes
   "metadata": {
    "ExecuteTime": {
     "end_time": "2022-01-21T00:26:23.188038Z",
     "start_time": "2022-01-21T00:26:23.174078Z"
    }
   },
   "outputs": [
    {
     "data": {
      "text/plain": [
       "{'external_urls': {'spotify': 'https://open.spotify.com/artist/6FXMGgJwohJLUSr5nVlf9X'},\n",
       " 'followers': {'href': None, 'total': 1816552},\n",
       " 'genres': ['big beat', 'downtempo', 'electronica', 'trip hop'],\n",
       " 'href': 'https://api.spotify.com/v1/artists/6FXMGgJwohJLUSr5nVlf9X',\n",
       " 'id': '6FXMGgJwohJLUSr5nVlf9X',\n",
       " 'images': [{'height': 1335,\n",
       "   'url': 'https://i.scdn.co/image/c8bbeedb05f38ae5cb982a7daf4bf7129cca892c',\n",
       "   'width': 1000},\n",
       "  {'height': 855,\n",
       "   'url': 'https://i.scdn.co/image/52c2a824e84f4e8adf0b12418f9f8306b4b5b77a',\n",
       "   'width': 640},\n",
       "  {'height': 267,\n",
       "   'url': 'https://i.scdn.co/image/0d6b7677f8291c5158bdace8a6e027880c527c2a',\n",
       "   'width': 200},\n",
       "  {'height': 85,\n",
       "   'url': 'https://i.scdn.co/image/c055290bb6e97a589d8ca659cd452a8e9831c2c4',\n",
       "   'width': 64}],\n",
       " 'name': 'Massive Attack',\n",
       " 'popularity': 67,\n",
       " 'type': 'artist',\n",
       " 'uri': 'spotify:artist:6FXMGgJwohJLUSr5nVlf9X'}"
      ]
     },
<<<<<<< Updated upstream
     "execution_count": 49,
=======
     "execution_count": 61,
>>>>>>> Stashed changes
     "metadata": {},
     "output_type": "execute_result"
    }
   ],
   "source": [
    "artist"
   ]
  },
  {
   "cell_type": "code",
<<<<<<< Updated upstream
   "execution_count": 50,
=======
   "execution_count": 62,
>>>>>>> Stashed changes
   "metadata": {
    "ExecuteTime": {
     "end_time": "2022-01-21T00:28:01.254940Z",
     "start_time": "2022-01-21T00:28:01.038476Z"
    }
   },
   "outputs": [],
   "source": [
    "related_artists = client.artist_related_artists('6FXMGgJwohJLUSr5nVlf9X')"
   ]
  },
  {
   "cell_type": "code",
<<<<<<< Updated upstream
   "execution_count": 51,
=======
   "execution_count": 63,
>>>>>>> Stashed changes
   "metadata": {
    "ExecuteTime": {
     "end_time": "2022-01-21T00:28:02.516463Z",
     "start_time": "2022-01-21T00:28:02.494520Z"
    }
   },
   "outputs": [
    {
     "data": {
      "text/plain": [
       "{'artists': [{'external_urls': {'spotify': 'https://open.spotify.com/artist/6hhA8TKRNryM8FNzqCqdDO'},\n",
       "   'followers': {'href': None, 'total': 413979},\n",
       "   'genres': ['art pop', 'big beat', 'electronica', 'nu jazz', 'trip hop'],\n",
       "   'href': 'https://api.spotify.com/v1/artists/6hhA8TKRNryM8FNzqCqdDO',\n",
       "   'id': '6hhA8TKRNryM8FNzqCqdDO',\n",
       "   'images': [{'height': 640,\n",
       "     'url': 'https://i.scdn.co/image/ab6761610000e5ebe9766b4ae86d12fec7d51379',\n",
       "     'width': 640},\n",
       "    {'height': 320,\n",
       "     'url': 'https://i.scdn.co/image/ab67616100005174e9766b4ae86d12fec7d51379',\n",
       "     'width': 320},\n",
       "    {'height': 160,\n",
       "     'url': 'https://i.scdn.co/image/ab6761610000f178e9766b4ae86d12fec7d51379',\n",
       "     'width': 160}],\n",
       "   'name': 'Tricky',\n",
       "   'popularity': 57,\n",
       "   'type': 'artist',\n",
       "   'uri': 'spotify:artist:6hhA8TKRNryM8FNzqCqdDO'},\n",
       "  {'external_urls': {'spotify': 'https://open.spotify.com/artist/6liAMWkVf5LH7YR9yfFy1Y'},\n",
       "   'followers': {'href': None, 'total': 1536148},\n",
       "   'genres': ['electronica', 'laboratorio', 'trip hop'],\n",
       "   'href': 'https://api.spotify.com/v1/artists/6liAMWkVf5LH7YR9yfFy1Y',\n",
       "   'id': '6liAMWkVf5LH7YR9yfFy1Y',\n",
       "   'images': [{'height': 680,\n",
       "     'url': 'https://i.scdn.co/image/05d3721739aee511a898081ab140daa7890a0120',\n",
       "     'width': 1000},\n",
       "    {'height': 435,\n",
       "     'url': 'https://i.scdn.co/image/27802710b01453435de93d71bab2c9988a841ace',\n",
       "     'width': 640},\n",
       "    {'height': 136,\n",
       "     'url': 'https://i.scdn.co/image/333ac38e3c8ab5fcdc238cc46535a4abb802eccc',\n",
       "     'width': 200},\n",
       "    {'height': 44,\n",
       "     'url': 'https://i.scdn.co/image/10052054c06626f6a900e687b20886e462f75568',\n",
       "     'width': 64}],\n",
       "   'name': 'Portishead',\n",
       "   'popularity': 64,\n",
       "   'type': 'artist',\n",
       "   'uri': 'spotify:artist:6liAMWkVf5LH7YR9yfFy1Y'},\n",
       "  {'external_urls': {'spotify': 'https://open.spotify.com/artist/08YvZ2qzFrDSITfHLbPKMP'},\n",
       "   'followers': {'href': None, 'total': 209801},\n",
       "   'genres': ['art pop', 'electronica', 'nu jazz', 'trip hop'],\n",
       "   'href': 'https://api.spotify.com/v1/artists/08YvZ2qzFrDSITfHLbPKMP',\n",
       "   'id': '08YvZ2qzFrDSITfHLbPKMP',\n",
       "   'images': [{'height': 640,\n",
       "     'url': 'https://i.scdn.co/image/ab6761610000e5eb7212f5c9b495683f5a12dd20',\n",
       "     'width': 640},\n",
       "    {'height': 320,\n",
       "     'url': 'https://i.scdn.co/image/ab676161000051747212f5c9b495683f5a12dd20',\n",
       "     'width': 320},\n",
       "    {'height': 160,\n",
       "     'url': 'https://i.scdn.co/image/ab6761610000f1787212f5c9b495683f5a12dd20',\n",
       "     'width': 160}],\n",
       "   'name': 'Lamb',\n",
       "   'popularity': 49,\n",
       "   'type': 'artist',\n",
       "   'uri': 'spotify:artist:08YvZ2qzFrDSITfHLbPKMP'},\n",
       "  {'external_urls': {'spotify': 'https://open.spotify.com/artist/6bWxFw65IEJzBYjx3SxUXd'},\n",
       "   'followers': {'href': None, 'total': 695565},\n",
       "   'genres': ['big beat', 'downtempo', 'electronica', 'nu jazz', 'trip hop'],\n",
       "   'href': 'https://api.spotify.com/v1/artists/6bWxFw65IEJzBYjx3SxUXd',\n",
       "   'id': '6bWxFw65IEJzBYjx3SxUXd',\n",
       "   'images': [{'height': 640,\n",
       "     'url': 'https://i.scdn.co/image/ab6761610000e5eb36946a718b9ab08ca42b43f6',\n",
       "     'width': 640},\n",
       "    {'height': 320,\n",
       "     'url': 'https://i.scdn.co/image/ab6761610000517436946a718b9ab08ca42b43f6',\n",
       "     'width': 320},\n",
       "    {'height': 160,\n",
       "     'url': 'https://i.scdn.co/image/ab6761610000f17836946a718b9ab08ca42b43f6',\n",
       "     'width': 160}],\n",
       "   'name': 'Morcheeba',\n",
       "   'popularity': 62,\n",
       "   'type': 'artist',\n",
       "   'uri': 'spotify:artist:6bWxFw65IEJzBYjx3SxUXd'},\n",
       "  {'external_urls': {'spotify': 'https://open.spotify.com/artist/2nszamLjZFgu3Yx77mKxuC'},\n",
       "   'followers': {'href': None, 'total': 322981},\n",
       "   'genres': ['alternative dance',\n",
       "    'art pop',\n",
       "    'big beat',\n",
       "    'electronica',\n",
       "    'ninja',\n",
       "    'nu jazz',\n",
       "    'trip hop'],\n",
       "   'href': 'https://api.spotify.com/v1/artists/2nszamLjZFgu3Yx77mKxuC',\n",
       "   'id': '2nszamLjZFgu3Yx77mKxuC',\n",
       "   'images': [{'height': 640,\n",
       "     'url': 'https://i.scdn.co/image/ab6761610000e5ebf765d40a1554189b213f9f40',\n",
       "     'width': 640},\n",
       "    {'height': 320,\n",
       "     'url': 'https://i.scdn.co/image/ab67616100005174f765d40a1554189b213f9f40',\n",
       "     'width': 320},\n",
       "    {'height': 160,\n",
       "     'url': 'https://i.scdn.co/image/ab6761610000f178f765d40a1554189b213f9f40',\n",
       "     'width': 160}],\n",
       "   'name': 'UNKLE',\n",
       "   'popularity': 56,\n",
       "   'type': 'artist',\n",
       "   'uri': 'spotify:artist:2nszamLjZFgu3Yx77mKxuC'},\n",
       "  {'external_urls': {'spotify': 'https://open.spotify.com/artist/1EJWNhiYbOyeUHbsS7Kp1P'},\n",
       "   'followers': {'href': None, 'total': 201157},\n",
       "   'genres': ['alternative dance', 'electronica', 'trip hop'],\n",
       "   'href': 'https://api.spotify.com/v1/artists/1EJWNhiYbOyeUHbsS7Kp1P',\n",
       "   'id': '1EJWNhiYbOyeUHbsS7Kp1P',\n",
       "   'images': [{'height': 640,\n",
       "     'url': 'https://i.scdn.co/image/ab6761610000e5ebd62076e2fcf2bcd6243edb27',\n",
       "     'width': 640},\n",
       "    {'height': 320,\n",
       "     'url': 'https://i.scdn.co/image/ab67616100005174d62076e2fcf2bcd6243edb27',\n",
       "     'width': 320},\n",
       "    {'height': 160,\n",
       "     'url': 'https://i.scdn.co/image/ab6761610000f178d62076e2fcf2bcd6243edb27',\n",
       "     'width': 160}],\n",
       "   'name': 'Sneaker Pimps',\n",
       "   'popularity': 51,\n",
       "   'type': 'artist',\n",
       "   'uri': 'spotify:artist:1EJWNhiYbOyeUHbsS7Kp1P'},\n",
       "  {'external_urls': {'spotify': 'https://open.spotify.com/artist/14H7ag1wpQOsPPQJOD6Dqr'},\n",
       "   'followers': {'href': None, 'total': 443112},\n",
       "   'genres': ['downtempo', 'electronica', 'nu jazz', 'trip hop'],\n",
       "   'href': 'https://api.spotify.com/v1/artists/14H7ag1wpQOsPPQJOD6Dqr',\n",
       "   'id': '14H7ag1wpQOsPPQJOD6Dqr',\n",
       "   'images': [{'height': 640,\n",
       "     'url': 'https://i.scdn.co/image/ab6761610000e5eb85c10aefe83110535eea474c',\n",
       "     'width': 640},\n",
       "    {'height': 320,\n",
       "     'url': 'https://i.scdn.co/image/ab6761610000517485c10aefe83110535eea474c',\n",
       "     'width': 320},\n",
       "    {'height': 160,\n",
       "     'url': 'https://i.scdn.co/image/ab6761610000f17885c10aefe83110535eea474c',\n",
       "     'width': 160}],\n",
       "   'name': 'Zero 7',\n",
       "   'popularity': 61,\n",
       "   'type': 'artist',\n",
       "   'uri': 'spotify:artist:14H7ag1wpQOsPPQJOD6Dqr'},\n",
       "  {'external_urls': {'spotify': 'https://open.spotify.com/artist/5EP020iZcwBqHRnJftibXX'},\n",
       "   'followers': {'href': None, 'total': 354101},\n",
       "   'genres': ['downtempo', 'electronica', 'trip hop'],\n",
       "   'href': 'https://api.spotify.com/v1/artists/5EP020iZcwBqHRnJftibXX',\n",
       "   'id': '5EP020iZcwBqHRnJftibXX',\n",
       "   'images': [{'height': 640,\n",
       "     'url': 'https://i.scdn.co/image/ab6761610000e5eb2ebcf2a5cc31cf1c83bab244',\n",
       "     'width': 640},\n",
       "    {'height': 320,\n",
       "     'url': 'https://i.scdn.co/image/ab676161000051742ebcf2a5cc31cf1c83bab244',\n",
       "     'width': 320},\n",
       "    {'height': 160,\n",
       "     'url': 'https://i.scdn.co/image/ab6761610000f1782ebcf2a5cc31cf1c83bab244',\n",
       "     'width': 160}],\n",
       "   'name': 'Hooverphonic',\n",
       "   'popularity': 57,\n",
       "   'type': 'artist',\n",
       "   'uri': 'spotify:artist:5EP020iZcwBqHRnJftibXX'},\n",
       "  {'external_urls': {'spotify': 'https://open.spotify.com/artist/1Q776wzj2mrtXrNu3iH6nk'},\n",
       "   'followers': {'href': None, 'total': 222596},\n",
       "   'genres': ['electronica', 'trip hop'],\n",
       "   'href': 'https://api.spotify.com/v1/artists/1Q776wzj2mrtXrNu3iH6nk',\n",
       "   'id': '1Q776wzj2mrtXrNu3iH6nk',\n",
       "   'images': [{'height': 640,\n",
       "     'url': 'https://i.scdn.co/image/ab6761610000e5eb7e2b46bfa294e4ab17134595',\n",
       "     'width': 640},\n",
       "    {'height': 320,\n",
       "     'url': 'https://i.scdn.co/image/ab676161000051747e2b46bfa294e4ab17134595',\n",
       "     'width': 320},\n",
       "    {'height': 160,\n",
       "     'url': 'https://i.scdn.co/image/ab6761610000f1787e2b46bfa294e4ab17134595',\n",
       "     'width': 160}],\n",
       "   'name': 'Archive',\n",
       "   'popularity': 53,\n",
       "   'type': 'artist',\n",
       "   'uri': 'spotify:artist:1Q776wzj2mrtXrNu3iH6nk'},\n",
       "  {'external_urls': {'spotify': 'https://open.spotify.com/artist/6sKLLGj7SqbP2qDBdEOoZ6'},\n",
       "   'followers': {'href': None, 'total': 59183},\n",
       "   'genres': ['art pop', 'electronica', 'solo wave', 'trip hop'],\n",
       "   'href': 'https://api.spotify.com/v1/artists/6sKLLGj7SqbP2qDBdEOoZ6',\n",
       "   'id': '6sKLLGj7SqbP2qDBdEOoZ6',\n",
       "   'images': [{'height': 640,\n",
       "     'url': 'https://i.scdn.co/image/ab6761610000e5eb8976f9742610b224d07609ac',\n",
       "     'width': 640},\n",
       "    {'height': 320,\n",
       "     'url': 'https://i.scdn.co/image/ab676161000051748976f9742610b224d07609ac',\n",
       "     'width': 320},\n",
       "    {'height': 160,\n",
       "     'url': 'https://i.scdn.co/image/ab6761610000f1788976f9742610b224d07609ac',\n",
       "     'width': 160}],\n",
       "   'name': 'Martina Topley-Bird',\n",
       "   'popularity': 43,\n",
       "   'type': 'artist',\n",
       "   'uri': 'spotify:artist:6sKLLGj7SqbP2qDBdEOoZ6'},\n",
       "  {'external_urls': {'spotify': 'https://open.spotify.com/artist/39ywlwtGw8RTGobakgb11L'},\n",
       "   'followers': {'href': None, 'total': 165592},\n",
       "   'genres': ['big beat',\n",
       "    'downtempo',\n",
       "    'electronica',\n",
       "    'ninja',\n",
       "    'nu jazz',\n",
       "    'trip hop'],\n",
       "   'href': 'https://api.spotify.com/v1/artists/39ywlwtGw8RTGobakgb11L',\n",
       "   'id': '39ywlwtGw8RTGobakgb11L',\n",
       "   'images': [{'height': 640,\n",
       "     'url': 'https://i.scdn.co/image/ab6761610000e5ebde4e41e1e9e80abf82e646c0',\n",
       "     'width': 640},\n",
       "    {'height': 320,\n",
       "     'url': 'https://i.scdn.co/image/ab67616100005174de4e41e1e9e80abf82e646c0',\n",
       "     'width': 320},\n",
       "    {'height': 160,\n",
       "     'url': 'https://i.scdn.co/image/ab6761610000f178de4e41e1e9e80abf82e646c0',\n",
       "     'width': 160}],\n",
       "   'name': 'Kruder & Dorfmeister',\n",
       "   'popularity': 49,\n",
       "   'type': 'artist',\n",
       "   'uri': 'spotify:artist:39ywlwtGw8RTGobakgb11L'},\n",
       "  {'external_urls': {'spotify': 'https://open.spotify.com/artist/25KNo5GDS6ZpLkjasaecA3'},\n",
       "   'followers': {'href': None, 'total': 670654},\n",
       "   'genres': ['downtempo',\n",
       "    'electronica',\n",
       "    'livetronica',\n",
       "    'nu jazz',\n",
       "    'trip hop'],\n",
       "   'href': 'https://api.spotify.com/v1/artists/25KNo5GDS6ZpLkjasaecA3',\n",
       "   'id': '25KNo5GDS6ZpLkjasaecA3',\n",
       "   'images': [{'height': 640,\n",
       "     'url': 'https://i.scdn.co/image/ab6761610000e5eb3d9378b0995517ff9f4f2354',\n",
       "     'width': 640},\n",
       "    {'height': 320,\n",
       "     'url': 'https://i.scdn.co/image/ab676161000051743d9378b0995517ff9f4f2354',\n",
       "     'width': 320},\n",
       "    {'height': 160,\n",
       "     'url': 'https://i.scdn.co/image/ab6761610000f1783d9378b0995517ff9f4f2354',\n",
       "     'width': 160}],\n",
       "   'name': 'Thievery Corporation',\n",
       "   'popularity': 64,\n",
       "   'type': 'artist',\n",
       "   'uri': 'spotify:artist:25KNo5GDS6ZpLkjasaecA3'},\n",
       "  {'external_urls': {'spotify': 'https://open.spotify.com/artist/4aaBjq7VqqQvpSF69GglvO'},\n",
       "   'followers': {'href': None, 'total': 377250},\n",
       "   'genres': ['alternative dance', 'big beat', 'electronica', 'trip hop'],\n",
       "   'href': 'https://api.spotify.com/v1/artists/4aaBjq7VqqQvpSF69GglvO',\n",
       "   'id': '4aaBjq7VqqQvpSF69GglvO',\n",
       "   'images': [{'height': 982,\n",
       "     'url': 'https://i.scdn.co/image/da34856608ab863451a8492546cf589b8267493c',\n",
       "     'width': 1000},\n",
       "    {'height': 629,\n",
       "     'url': 'https://i.scdn.co/image/5bf5624bc7ff9e97ffb2f47c3a25f2c536d6d6b7',\n",
       "     'width': 640},\n",
       "    {'height': 196,\n",
       "     'url': 'https://i.scdn.co/image/800253832557446667007d8d3c389a4e6d878de9',\n",
       "     'width': 200},\n",
       "    {'height': 63,\n",
       "     'url': 'https://i.scdn.co/image/261169cd9afd1bae885b370ba6723143677c6a94',\n",
       "     'width': 64}],\n",
       "   'name': 'Moloko',\n",
       "   'popularity': 58,\n",
       "   'type': 'artist',\n",
       "   'uri': 'spotify:artist:4aaBjq7VqqQvpSF69GglvO'},\n",
       "  {'external_urls': {'spotify': 'https://open.spotify.com/artist/1P6U1dCeHxPui5pIrGmndZ'},\n",
       "   'followers': {'href': None, 'total': 743613},\n",
       "   'genres': ['ambient pop', 'downtempo', 'electronica', 'trip hop'],\n",
       "   'href': 'https://api.spotify.com/v1/artists/1P6U1dCeHxPui5pIrGmndZ',\n",
       "   'id': '1P6U1dCeHxPui5pIrGmndZ',\n",
       "   'images': [{'height': 640,\n",
       "     'url': 'https://i.scdn.co/image/ab6761610000e5ebb3f06b20f1391c3d1b2c14e7',\n",
       "     'width': 640},\n",
       "    {'height': 320,\n",
       "     'url': 'https://i.scdn.co/image/ab67616100005174b3f06b20f1391c3d1b2c14e7',\n",
       "     'width': 320},\n",
       "    {'height': 160,\n",
       "     'url': 'https://i.scdn.co/image/ab6761610000f178b3f06b20f1391c3d1b2c14e7',\n",
       "     'width': 160}],\n",
       "   'name': 'Air',\n",
       "   'popularity': 63,\n",
       "   'type': 'artist',\n",
       "   'uri': 'spotify:artist:1P6U1dCeHxPui5pIrGmndZ'},\n",
       "  {'external_urls': {'spotify': 'https://open.spotify.com/artist/1ViF5mdcW7pEn7md71YjOL'},\n",
       "   'followers': {'href': None, 'total': 87803},\n",
       "   'genres': ['big beat', 'electronica', 'ninja', 'nu jazz', 'trip hop'],\n",
       "   'href': 'https://api.spotify.com/v1/artists/1ViF5mdcW7pEn7md71YjOL',\n",
       "   'id': '1ViF5mdcW7pEn7md71YjOL',\n",
       "   'images': [{'height': 640,\n",
       "     'url': 'https://i.scdn.co/image/ab6761610000e5ebc714c008f0261b2e18ddea30',\n",
       "     'width': 640},\n",
       "    {'height': 320,\n",
       "     'url': 'https://i.scdn.co/image/ab67616100005174c714c008f0261b2e18ddea30',\n",
       "     'width': 320},\n",
       "    {'height': 160,\n",
       "     'url': 'https://i.scdn.co/image/ab6761610000f178c714c008f0261b2e18ddea30',\n",
       "     'width': 160}],\n",
       "   'name': 'Kid Loco',\n",
       "   'popularity': 48,\n",
       "   'type': 'artist',\n",
       "   'uri': 'spotify:artist:1ViF5mdcW7pEn7md71YjOL'},\n",
       "  {'external_urls': {'spotify': 'https://open.spotify.com/artist/5CE2IfdYZEQGIDsfiRm8SI'},\n",
       "   'followers': {'href': None, 'total': 500936},\n",
       "   'genres': ['big beat',\n",
       "    'downtempo',\n",
       "    'electronica',\n",
       "    'hip hop',\n",
       "    'trip hop',\n",
       "    'turntablism'],\n",
       "   'href': 'https://api.spotify.com/v1/artists/5CE2IfdYZEQGIDsfiRm8SI',\n",
       "   'id': '5CE2IfdYZEQGIDsfiRm8SI',\n",
       "   'images': [{'height': 640,\n",
       "     'url': 'https://i.scdn.co/image/ab6761610000e5ebed22769b2770a78dd6826f50',\n",
       "     'width': 640},\n",
       "    {'height': 320,\n",
       "     'url': 'https://i.scdn.co/image/ab67616100005174ed22769b2770a78dd6826f50',\n",
       "     'width': 320},\n",
       "    {'height': 160,\n",
       "     'url': 'https://i.scdn.co/image/ab6761610000f178ed22769b2770a78dd6826f50',\n",
       "     'width': 160}],\n",
       "   'name': 'DJ Shadow',\n",
       "   'popularity': 66,\n",
       "   'type': 'artist',\n",
       "   'uri': 'spotify:artist:5CE2IfdYZEQGIDsfiRm8SI'},\n",
       "  {'external_urls': {'spotify': 'https://open.spotify.com/artist/4tNxq9NGKTKaX8OkZBLgf0'},\n",
       "   'followers': {'href': None, 'total': 374129},\n",
       "   'genres': ['bleep techno',\n",
       "    'downtempo',\n",
       "    'electronica',\n",
       "    'nu jazz',\n",
       "    'trip hop',\n",
       "    'turntablism'],\n",
       "   'href': 'https://api.spotify.com/v1/artists/4tNxq9NGKTKaX8OkZBLgf0',\n",
       "   'id': '4tNxq9NGKTKaX8OkZBLgf0',\n",
       "   'images': [{'height': 640,\n",
       "     'url': 'https://i.scdn.co/image/ab6761610000e5ebf55522db17a6034ca9a895cf',\n",
       "     'width': 640},\n",
       "    {'height': 320,\n",
       "     'url': 'https://i.scdn.co/image/ab67616100005174f55522db17a6034ca9a895cf',\n",
       "     'width': 320},\n",
       "    {'height': 160,\n",
       "     'url': 'https://i.scdn.co/image/ab6761610000f178f55522db17a6034ca9a895cf',\n",
       "     'width': 160}],\n",
       "   'name': 'Nightmares On Wax',\n",
       "   'popularity': 61,\n",
       "   'type': 'artist',\n",
       "   'uri': 'spotify:artist:4tNxq9NGKTKaX8OkZBLgf0'},\n",
       "  {'external_urls': {'spotify': 'https://open.spotify.com/artist/67tgMwUfnmqzYsNAtnP6YJ'},\n",
       "   'followers': {'href': None, 'total': 566834},\n",
       "   'genres': ['alternative dance',\n",
       "    'big beat',\n",
       "    'electronica',\n",
       "    'new rave',\n",
       "    'nu jazz',\n",
       "    'nu skool breaks',\n",
       "    'trip hop'],\n",
       "   'href': 'https://api.spotify.com/v1/artists/67tgMwUfnmqzYsNAtnP6YJ',\n",
       "   'id': '67tgMwUfnmqzYsNAtnP6YJ',\n",
       "   'images': [{'height': 640,\n",
       "     'url': 'https://i.scdn.co/image/ab6761610000e5eb922cfaf258406578ccb12bcc',\n",
       "     'width': 640},\n",
       "    {'height': 320,\n",
       "     'url': 'https://i.scdn.co/image/ab67616100005174922cfaf258406578ccb12bcc',\n",
       "     'width': 320},\n",
       "    {'height': 160,\n",
       "     'url': 'https://i.scdn.co/image/ab6761610000f178922cfaf258406578ccb12bcc',\n",
       "     'width': 160}],\n",
       "   'name': 'Groove Armada',\n",
       "   'popularity': 61,\n",
       "   'type': 'artist',\n",
       "   'uri': 'spotify:artist:67tgMwUfnmqzYsNAtnP6YJ'},\n",
       "  {'external_urls': {'spotify': 'https://open.spotify.com/artist/5nPOO9iTcrs9k6yFffPxjH'},\n",
       "   'followers': {'href': None, 'total': 762817},\n",
       "   'genres': ['alternative dance',\n",
       "    'big beat',\n",
       "    'downtempo',\n",
       "    'electronica',\n",
       "    'electropop',\n",
       "    'new rave',\n",
       "    'trip hop'],\n",
       "   'href': 'https://api.spotify.com/v1/artists/5nPOO9iTcrs9k6yFffPxjH',\n",
       "   'id': '5nPOO9iTcrs9k6yFffPxjH',\n",
       "   'images': [{'height': 640,\n",
       "     'url': 'https://i.scdn.co/image/ab6761610000e5eb63e7e23f8d563acde6bd571c',\n",
       "     'width': 640},\n",
       "    {'height': 320,\n",
       "     'url': 'https://i.scdn.co/image/ab6761610000517463e7e23f8d563acde6bd571c',\n",
       "     'width': 320},\n",
       "    {'height': 160,\n",
       "     'url': 'https://i.scdn.co/image/ab6761610000f17863e7e23f8d563acde6bd571c',\n",
       "     'width': 160}],\n",
       "   'name': 'Röyksopp',\n",
       "   'popularity': 63,\n",
       "   'type': 'artist',\n",
       "   'uri': 'spotify:artist:5nPOO9iTcrs9k6yFffPxjH'},\n",
       "  {'external_urls': {'spotify': 'https://open.spotify.com/artist/5uh8Bhewltd8j0TLZjNImc'},\n",
       "   'followers': {'href': None, 'total': 152523},\n",
       "   'genres': ['downtempo',\n",
       "    'electronica',\n",
       "    'ninja',\n",
       "    'nu jazz',\n",
       "    'trip hop',\n",
       "    'turntablism'],\n",
       "   'href': 'https://api.spotify.com/v1/artists/5uh8Bhewltd8j0TLZjNImc',\n",
       "   'id': '5uh8Bhewltd8j0TLZjNImc',\n",
       "   'images': [{'height': 640,\n",
       "     'url': 'https://i.scdn.co/image/ab67616d0000b273699c6d0199bad947d149164c',\n",
       "     'width': 640},\n",
       "    {'height': 300,\n",
       "     'url': 'https://i.scdn.co/image/ab67616d00001e02699c6d0199bad947d149164c',\n",
       "     'width': 300},\n",
       "    {'height': 64,\n",
       "     'url': 'https://i.scdn.co/image/ab67616d00004851699c6d0199bad947d149164c',\n",
       "     'width': 64}],\n",
       "   'name': 'Lemon Jelly',\n",
       "   'popularity': 49,\n",
       "   'type': 'artist',\n",
       "   'uri': 'spotify:artist:5uh8Bhewltd8j0TLZjNImc'}]}"
      ]
     },
<<<<<<< Updated upstream
     "execution_count": 51,
=======
     "execution_count": 63,
>>>>>>> Stashed changes
     "metadata": {},
     "output_type": "execute_result"
    }
   ],
   "source": [
    "related_artists"
   ]
  },
  {
   "cell_type": "code",
<<<<<<< Updated upstream
   "execution_count": 52,
=======
   "execution_count": 64,
>>>>>>> Stashed changes
   "metadata": {
    "ExecuteTime": {
     "end_time": "2022-01-21T00:28:33.622947Z",
     "start_time": "2022-01-21T00:28:33.613999Z"
    }
   },
   "outputs": [
    {
     "name": "stdout",
     "output_type": "stream",
     "text": [
      "dict_keys(['artists'])\n"
     ]
    }
   ],
   "source": [
    "print(related_artists.keys())"
   ]
  },
  {
   "cell_type": "code",
<<<<<<< Updated upstream
   "execution_count": 53,
=======
   "execution_count": 65,
>>>>>>> Stashed changes
   "metadata": {
    "ExecuteTime": {
     "end_time": "2022-01-21T00:28:41.705717Z",
     "start_time": "2022-01-21T00:28:41.697738Z"
    }
   },
   "outputs": [
    {
     "data": {
      "text/plain": [
       "list"
      ]
     },
<<<<<<< Updated upstream
     "execution_count": 53,
=======
     "execution_count": 65,
>>>>>>> Stashed changes
     "metadata": {},
     "output_type": "execute_result"
    }
   ],
   "source": [
    "type(related_artists['artists'])"
   ]
  },
  {
   "cell_type": "code",
<<<<<<< Updated upstream
   "execution_count": 56,
=======
   "execution_count": 66,
>>>>>>> Stashed changes
   "metadata": {
    "ExecuteTime": {
     "end_time": "2022-01-21T00:29:23.160732Z",
     "start_time": "2022-01-21T00:29:23.144776Z"
    }
   },
   "outputs": [
    {
     "data": {
      "text/plain": [
<<<<<<< Updated upstream
       "{'external_urls': {'spotify': 'https://open.spotify.com/artist/08YvZ2qzFrDSITfHLbPKMP'},\n",
       " 'followers': {'href': None, 'total': 209801},\n",
       " 'genres': ['art pop', 'electronica', 'nu jazz', 'trip hop'],\n",
       " 'href': 'https://api.spotify.com/v1/artists/08YvZ2qzFrDSITfHLbPKMP',\n",
       " 'id': '08YvZ2qzFrDSITfHLbPKMP',\n",
       " 'images': [{'height': 640,\n",
       "   'url': 'https://i.scdn.co/image/ab6761610000e5eb7212f5c9b495683f5a12dd20',\n",
       "   'width': 640},\n",
       "  {'height': 320,\n",
       "   'url': 'https://i.scdn.co/image/ab676161000051747212f5c9b495683f5a12dd20',\n",
       "   'width': 320},\n",
       "  {'height': 160,\n",
       "   'url': 'https://i.scdn.co/image/ab6761610000f1787212f5c9b495683f5a12dd20',\n",
       "   'width': 160}],\n",
       " 'name': 'Lamb',\n",
       " 'popularity': 49,\n",
       " 'type': 'artist',\n",
       " 'uri': 'spotify:artist:08YvZ2qzFrDSITfHLbPKMP'}"
      ]
     },
     "execution_count": 56,
=======
       "{'external_urls': {'spotify': 'https://open.spotify.com/artist/6hhA8TKRNryM8FNzqCqdDO'},\n",
       " 'followers': {'href': None, 'total': 413979},\n",
       " 'genres': ['art pop', 'big beat', 'electronica', 'nu jazz', 'trip hop'],\n",
       " 'href': 'https://api.spotify.com/v1/artists/6hhA8TKRNryM8FNzqCqdDO',\n",
       " 'id': '6hhA8TKRNryM8FNzqCqdDO',\n",
       " 'images': [{'height': 640,\n",
       "   'url': 'https://i.scdn.co/image/ab6761610000e5ebe9766b4ae86d12fec7d51379',\n",
       "   'width': 640},\n",
       "  {'height': 320,\n",
       "   'url': 'https://i.scdn.co/image/ab67616100005174e9766b4ae86d12fec7d51379',\n",
       "   'width': 320},\n",
       "  {'height': 160,\n",
       "   'url': 'https://i.scdn.co/image/ab6761610000f178e9766b4ae86d12fec7d51379',\n",
       "   'width': 160}],\n",
       " 'name': 'Tricky',\n",
       " 'popularity': 57,\n",
       " 'type': 'artist',\n",
       " 'uri': 'spotify:artist:6hhA8TKRNryM8FNzqCqdDO'}"
      ]
     },
     "execution_count": 66,
>>>>>>> Stashed changes
     "metadata": {},
     "output_type": "execute_result"
    }
   ],
   "source": [
    "related_artists['artists'][2]"
   ]
  },
  {
   "cell_type": "code",
<<<<<<< Updated upstream
   "execution_count": 57,
=======
   "execution_count": 67,
>>>>>>> Stashed changes
   "metadata": {
    "ExecuteTime": {
     "end_time": "2022-01-21T00:29:34.142846Z",
     "start_time": "2022-01-21T00:29:34.126865Z"
    }
   },
   "outputs": [
    {
     "data": {
      "text/plain": [
       "'Tricky'"
      ]
     },
<<<<<<< Updated upstream
     "execution_count": 57,
=======
     "execution_count": 67,
>>>>>>> Stashed changes
     "metadata": {},
     "output_type": "execute_result"
    }
   ],
   "source": [
    "related_artists['artists'][0]['name']"
   ]
  },
  {
   "cell_type": "code",
<<<<<<< Updated upstream
   "execution_count": 58,
=======
   "execution_count": 68,
>>>>>>> Stashed changes
   "metadata": {
    "ExecuteTime": {
     "end_time": "2022-01-21T00:30:15.917083Z",
     "start_time": "2022-01-21T00:30:15.907109Z"
    }
   },
   "outputs": [
    {
     "data": {
      "text/plain": [
       "['Tricky',\n",
       " 'Portishead',\n",
       " 'Lamb',\n",
       " 'Morcheeba',\n",
       " 'UNKLE',\n",
       " 'Sneaker Pimps',\n",
       " 'Zero 7',\n",
       " 'Hooverphonic',\n",
       " 'Archive',\n",
       " 'Martina Topley-Bird',\n",
       " 'Kruder & Dorfmeister',\n",
       " 'Thievery Corporation',\n",
       " 'Moloko',\n",
       " 'Air',\n",
       " 'Kid Loco',\n",
       " 'DJ Shadow',\n",
       " 'Nightmares On Wax',\n",
       " 'Groove Armada',\n",
       " 'Röyksopp',\n",
       " 'Lemon Jelly']"
      ]
     },
<<<<<<< Updated upstream
     "execution_count": 58,
=======
     "execution_count": 68,
>>>>>>> Stashed changes
     "metadata": {},
     "output_type": "execute_result"
    }
   ],
   "source": [
    "[artist['name'] for artist in related_artists['artists']]"
   ]
  },
  {
   "cell_type": "code",
<<<<<<< Updated upstream
   "execution_count": 59,
=======
   "execution_count": 69,
>>>>>>> Stashed changes
   "metadata": {
    "ExecuteTime": {
     "end_time": "2022-01-21T00:31:10.246077Z",
     "start_time": "2022-01-21T00:31:10.053406Z"
    }
   },
   "outputs": [
    {
     "data": {
      "text/plain": [
       "{'tracks': [{'album': {'album_type': 'album',\n",
       "    'artists': [{'external_urls': {'spotify': 'https://open.spotify.com/artist/6FXMGgJwohJLUSr5nVlf9X'},\n",
       "      'href': 'https://api.spotify.com/v1/artists/6FXMGgJwohJLUSr5nVlf9X',\n",
       "      'id': '6FXMGgJwohJLUSr5nVlf9X',\n",
       "      'name': 'Massive Attack',\n",
       "      'type': 'artist',\n",
       "      'uri': 'spotify:artist:6FXMGgJwohJLUSr5nVlf9X'}],\n",
       "    'external_urls': {'spotify': 'https://open.spotify.com/album/49MNmJhZQewjt06rpwp6QR'},\n",
       "    'href': 'https://api.spotify.com/v1/albums/49MNmJhZQewjt06rpwp6QR',\n",
       "    'id': '49MNmJhZQewjt06rpwp6QR',\n",
       "    'images': [{'height': 640,\n",
       "      'url': 'https://i.scdn.co/image/ab67616d0000b2732fcb0a3c7a66e516b11cd26e',\n",
       "      'width': 640},\n",
       "     {'height': 300,\n",
       "      'url': 'https://i.scdn.co/image/ab67616d00001e022fcb0a3c7a66e516b11cd26e',\n",
       "      'width': 300},\n",
       "     {'height': 64,\n",
       "      'url': 'https://i.scdn.co/image/ab67616d000048512fcb0a3c7a66e516b11cd26e',\n",
       "      'width': 64}],\n",
       "    'name': 'Mezzanine',\n",
       "    'release_date': '1998-01-01',\n",
       "    'release_date_precision': 'day',\n",
       "    'total_tracks': 11,\n",
       "    'type': 'album',\n",
       "    'uri': 'spotify:album:49MNmJhZQewjt06rpwp6QR'},\n",
       "   'artists': [{'external_urls': {'spotify': 'https://open.spotify.com/artist/6FXMGgJwohJLUSr5nVlf9X'},\n",
       "     'href': 'https://api.spotify.com/v1/artists/6FXMGgJwohJLUSr5nVlf9X',\n",
       "     'id': '6FXMGgJwohJLUSr5nVlf9X',\n",
       "     'name': 'Massive Attack',\n",
       "     'type': 'artist',\n",
       "     'uri': 'spotify:artist:6FXMGgJwohJLUSr5nVlf9X'}],\n",
       "   'disc_number': 1,\n",
       "   'duration_ms': 330773,\n",
       "   'explicit': False,\n",
       "   'external_ids': {'isrc': 'GBAAA9800322'},\n",
       "   'external_urls': {'spotify': 'https://open.spotify.com/track/67Hna13dNDkZvBpTXRIaOJ'},\n",
       "   'href': 'https://api.spotify.com/v1/tracks/67Hna13dNDkZvBpTXRIaOJ',\n",
       "   'id': '67Hna13dNDkZvBpTXRIaOJ',\n",
       "   'is_local': False,\n",
       "   'is_playable': True,\n",
       "   'name': 'Teardrop',\n",
       "   'popularity': 71,\n",
       "   'preview_url': None,\n",
       "   'track_number': 3,\n",
       "   'type': 'track',\n",
       "   'uri': 'spotify:track:67Hna13dNDkZvBpTXRIaOJ'},\n",
       "  {'album': {'album_type': 'album',\n",
       "    'artists': [{'external_urls': {'spotify': 'https://open.spotify.com/artist/6FXMGgJwohJLUSr5nVlf9X'},\n",
       "      'href': 'https://api.spotify.com/v1/artists/6FXMGgJwohJLUSr5nVlf9X',\n",
       "      'id': '6FXMGgJwohJLUSr5nVlf9X',\n",
       "      'name': 'Massive Attack',\n",
       "      'type': 'artist',\n",
       "      'uri': 'spotify:artist:6FXMGgJwohJLUSr5nVlf9X'}],\n",
       "    'external_urls': {'spotify': 'https://open.spotify.com/album/5mAPk4qeNqVLtNydaWbWlf'},\n",
       "    'href': 'https://api.spotify.com/v1/albums/5mAPk4qeNqVLtNydaWbWlf',\n",
       "    'id': '5mAPk4qeNqVLtNydaWbWlf',\n",
       "    'images': [{'height': 640,\n",
       "      'url': 'https://i.scdn.co/image/ab67616d0000b273af5beb00d940f5ede452d6b5',\n",
       "      'width': 640},\n",
       "     {'height': 300,\n",
       "      'url': 'https://i.scdn.co/image/ab67616d00001e02af5beb00d940f5ede452d6b5',\n",
       "      'width': 300},\n",
       "     {'height': 64,\n",
       "      'url': 'https://i.scdn.co/image/ab67616d00004851af5beb00d940f5ede452d6b5',\n",
       "      'width': 64}],\n",
       "    'name': 'Blue Lines (2012 Mix/Master)',\n",
       "    'release_date': '1991-06-10',\n",
       "    'release_date_precision': 'day',\n",
       "    'total_tracks': 9,\n",
       "    'type': 'album',\n",
       "    'uri': 'spotify:album:5mAPk4qeNqVLtNydaWbWlf'},\n",
       "   'artists': [{'external_urls': {'spotify': 'https://open.spotify.com/artist/6FXMGgJwohJLUSr5nVlf9X'},\n",
       "     'href': 'https://api.spotify.com/v1/artists/6FXMGgJwohJLUSr5nVlf9X',\n",
       "     'id': '6FXMGgJwohJLUSr5nVlf9X',\n",
       "     'name': 'Massive Attack',\n",
       "     'type': 'artist',\n",
       "     'uri': 'spotify:artist:6FXMGgJwohJLUSr5nVlf9X'}],\n",
       "   'disc_number': 1,\n",
       "   'duration_ms': 308426,\n",
       "   'explicit': False,\n",
       "   'external_ids': {'isrc': 'GBAAA1200649'},\n",
       "   'external_urls': {'spotify': 'https://open.spotify.com/track/0j5FJJOmmnXPd0XajFWkMF'},\n",
       "   'href': 'https://api.spotify.com/v1/tracks/0j5FJJOmmnXPd0XajFWkMF',\n",
       "   'id': '0j5FJJOmmnXPd0XajFWkMF',\n",
       "   'is_local': False,\n",
       "   'is_playable': True,\n",
       "   'name': 'Unfinished Sympathy - 2012 Mix/Master',\n",
       "   'popularity': 65,\n",
       "   'preview_url': None,\n",
       "   'track_number': 6,\n",
       "   'type': 'track',\n",
       "   'uri': 'spotify:track:0j5FJJOmmnXPd0XajFWkMF'},\n",
       "  {'album': {'album_type': 'album',\n",
       "    'artists': [{'external_urls': {'spotify': 'https://open.spotify.com/artist/6FXMGgJwohJLUSr5nVlf9X'},\n",
       "      'href': 'https://api.spotify.com/v1/artists/6FXMGgJwohJLUSr5nVlf9X',\n",
       "      'id': '6FXMGgJwohJLUSr5nVlf9X',\n",
       "      'name': 'Massive Attack',\n",
       "      'type': 'artist',\n",
       "      'uri': 'spotify:artist:6FXMGgJwohJLUSr5nVlf9X'}],\n",
       "    'external_urls': {'spotify': 'https://open.spotify.com/album/49MNmJhZQewjt06rpwp6QR'},\n",
       "    'href': 'https://api.spotify.com/v1/albums/49MNmJhZQewjt06rpwp6QR',\n",
       "    'id': '49MNmJhZQewjt06rpwp6QR',\n",
       "    'images': [{'height': 640,\n",
       "      'url': 'https://i.scdn.co/image/ab67616d0000b2732fcb0a3c7a66e516b11cd26e',\n",
       "      'width': 640},\n",
       "     {'height': 300,\n",
       "      'url': 'https://i.scdn.co/image/ab67616d00001e022fcb0a3c7a66e516b11cd26e',\n",
       "      'width': 300},\n",
       "     {'height': 64,\n",
       "      'url': 'https://i.scdn.co/image/ab67616d000048512fcb0a3c7a66e516b11cd26e',\n",
       "      'width': 64}],\n",
       "    'name': 'Mezzanine',\n",
       "    'release_date': '1998-01-01',\n",
       "    'release_date_precision': 'day',\n",
       "    'total_tracks': 11,\n",
       "    'type': 'album',\n",
       "    'uri': 'spotify:album:49MNmJhZQewjt06rpwp6QR'},\n",
       "   'artists': [{'external_urls': {'spotify': 'https://open.spotify.com/artist/6FXMGgJwohJLUSr5nVlf9X'},\n",
       "     'href': 'https://api.spotify.com/v1/artists/6FXMGgJwohJLUSr5nVlf9X',\n",
       "     'id': '6FXMGgJwohJLUSr5nVlf9X',\n",
       "     'name': 'Massive Attack',\n",
       "     'type': 'artist',\n",
       "     'uri': 'spotify:artist:6FXMGgJwohJLUSr5nVlf9X'}],\n",
       "   'disc_number': 1,\n",
       "   'duration_ms': 379533,\n",
       "   'explicit': False,\n",
       "   'external_ids': {'isrc': 'GBAAA9800327'},\n",
       "   'external_urls': {'spotify': 'https://open.spotify.com/track/7uv632EkfwYhXoqf8rhYrg'},\n",
       "   'href': 'https://api.spotify.com/v1/tracks/7uv632EkfwYhXoqf8rhYrg',\n",
       "   'id': '7uv632EkfwYhXoqf8rhYrg',\n",
       "   'is_local': False,\n",
       "   'is_playable': True,\n",
       "   'name': 'Angel',\n",
       "   'popularity': 64,\n",
       "   'preview_url': None,\n",
       "   'track_number': 1,\n",
       "   'type': 'track',\n",
       "   'uri': 'spotify:track:7uv632EkfwYhXoqf8rhYrg'},\n",
       "  {'album': {'album_type': 'album',\n",
       "    'artists': [{'external_urls': {'spotify': 'https://open.spotify.com/artist/6FXMGgJwohJLUSr5nVlf9X'},\n",
       "      'href': 'https://api.spotify.com/v1/artists/6FXMGgJwohJLUSr5nVlf9X',\n",
       "      'id': '6FXMGgJwohJLUSr5nVlf9X',\n",
       "      'name': 'Massive Attack',\n",
       "      'type': 'artist',\n",
       "      'uri': 'spotify:artist:6FXMGgJwohJLUSr5nVlf9X'}],\n",
       "    'external_urls': {'spotify': 'https://open.spotify.com/album/1F8y2bg9V9nRoy8zuxo3Jt'},\n",
       "    'href': 'https://api.spotify.com/v1/albums/1F8y2bg9V9nRoy8zuxo3Jt',\n",
       "    'id': '1F8y2bg9V9nRoy8zuxo3Jt',\n",
       "    'images': [{'height': 640,\n",
       "      'url': 'https://i.scdn.co/image/ab67616d0000b273852aaa233e122f1dbfefcf00',\n",
       "      'width': 640},\n",
       "     {'height': 300,\n",
       "      'url': 'https://i.scdn.co/image/ab67616d00001e02852aaa233e122f1dbfefcf00',\n",
       "      'width': 300},\n",
       "     {'height': 64,\n",
       "      'url': 'https://i.scdn.co/image/ab67616d00004851852aaa233e122f1dbfefcf00',\n",
       "      'width': 64}],\n",
       "    'name': 'Heligoland',\n",
       "    'release_date': '2010-02-08',\n",
       "    'release_date_precision': 'day',\n",
       "    'total_tracks': 14,\n",
       "    'type': 'album',\n",
       "    'uri': 'spotify:album:1F8y2bg9V9nRoy8zuxo3Jt'},\n",
       "   'artists': [{'external_urls': {'spotify': 'https://open.spotify.com/artist/6FXMGgJwohJLUSr5nVlf9X'},\n",
       "     'href': 'https://api.spotify.com/v1/artists/6FXMGgJwohJLUSr5nVlf9X',\n",
       "     'id': '6FXMGgJwohJLUSr5nVlf9X',\n",
       "     'name': 'Massive Attack',\n",
       "     'type': 'artist',\n",
       "     'uri': 'spotify:artist:6FXMGgJwohJLUSr5nVlf9X'}],\n",
       "   'disc_number': 1,\n",
       "   'duration_ms': 297774,\n",
       "   'explicit': False,\n",
       "   'external_ids': {'isrc': 'GBAAA0900963'},\n",
       "   'external_urls': {'spotify': 'https://open.spotify.com/track/2BndJYJQ17UcEeUFJP5JmY'},\n",
       "   'href': 'https://api.spotify.com/v1/tracks/2BndJYJQ17UcEeUFJP5JmY',\n",
       "   'id': '2BndJYJQ17UcEeUFJP5JmY',\n",
       "   'is_local': False,\n",
       "   'is_playable': True,\n",
       "   'name': 'Paradise Circus',\n",
       "   'popularity': 63,\n",
       "   'preview_url': None,\n",
       "   'track_number': 7,\n",
       "   'type': 'track',\n",
       "   'uri': 'spotify:track:2BndJYJQ17UcEeUFJP5JmY'},\n",
       "  {'album': {'album_type': 'album',\n",
       "    'artists': [{'external_urls': {'spotify': 'https://open.spotify.com/artist/6FXMGgJwohJLUSr5nVlf9X'},\n",
       "      'href': 'https://api.spotify.com/v1/artists/6FXMGgJwohJLUSr5nVlf9X',\n",
       "      'id': '6FXMGgJwohJLUSr5nVlf9X',\n",
       "      'name': 'Massive Attack',\n",
       "      'type': 'artist',\n",
       "      'uri': 'spotify:artist:6FXMGgJwohJLUSr5nVlf9X'}],\n",
       "    'external_urls': {'spotify': 'https://open.spotify.com/album/5CnZjFfPDmxOX7KnWLLqpC'},\n",
       "    'href': 'https://api.spotify.com/v1/albums/5CnZjFfPDmxOX7KnWLLqpC',\n",
       "    'id': '5CnZjFfPDmxOX7KnWLLqpC',\n",
       "    'images': [{'height': 640,\n",
       "      'url': 'https://i.scdn.co/image/ab67616d0000b273b129ba321c1903f9990a2612',\n",
       "      'width': 640},\n",
       "     {'height': 300,\n",
       "      'url': 'https://i.scdn.co/image/ab67616d00001e02b129ba321c1903f9990a2612',\n",
       "      'width': 300},\n",
       "     {'height': 64,\n",
       "      'url': 'https://i.scdn.co/image/ab67616d00004851b129ba321c1903f9990a2612',\n",
       "      'width': 64}],\n",
       "    'name': 'Protection',\n",
       "    'release_date': '1994-09-26',\n",
       "    'release_date_precision': 'day',\n",
       "    'total_tracks': 10,\n",
       "    'type': 'album',\n",
       "    'uri': 'spotify:album:5CnZjFfPDmxOX7KnWLLqpC'},\n",
       "   'artists': [{'external_urls': {'spotify': 'https://open.spotify.com/artist/6FXMGgJwohJLUSr5nVlf9X'},\n",
       "     'href': 'https://api.spotify.com/v1/artists/6FXMGgJwohJLUSr5nVlf9X',\n",
       "     'id': '6FXMGgJwohJLUSr5nVlf9X',\n",
       "     'name': 'Massive Attack',\n",
       "     'type': 'artist',\n",
       "     'uri': 'spotify:artist:6FXMGgJwohJLUSr5nVlf9X'},\n",
       "    {'external_urls': {'spotify': 'https://open.spotify.com/artist/7xFnmid57ZE6iWEXdEXO3b'},\n",
       "     'href': 'https://api.spotify.com/v1/artists/7xFnmid57ZE6iWEXdEXO3b',\n",
       "     'id': '7xFnmid57ZE6iWEXdEXO3b',\n",
       "     'name': 'Tracey Thorn',\n",
       "     'type': 'artist',\n",
       "     'uri': 'spotify:artist:7xFnmid57ZE6iWEXdEXO3b'}],\n",
       "   'disc_number': 1,\n",
       "   'duration_ms': 471560,\n",
       "   'explicit': False,\n",
       "   'external_ids': {'isrc': 'GBAAA9400365'},\n",
       "   'external_urls': {'spotify': 'https://open.spotify.com/track/3kKVqFF4pv4EXeQe428zl2'},\n",
       "   'href': 'https://api.spotify.com/v1/tracks/3kKVqFF4pv4EXeQe428zl2',\n",
       "   'id': '3kKVqFF4pv4EXeQe428zl2',\n",
       "   'is_local': False,\n",
       "   'is_playable': True,\n",
       "   'name': 'Protection',\n",
       "   'popularity': 59,\n",
       "   'preview_url': None,\n",
       "   'track_number': 1,\n",
       "   'type': 'track',\n",
       "   'uri': 'spotify:track:3kKVqFF4pv4EXeQe428zl2'},\n",
       "  {'album': {'album_type': 'album',\n",
       "    'artists': [{'external_urls': {'spotify': 'https://open.spotify.com/artist/6FXMGgJwohJLUSr5nVlf9X'},\n",
       "      'href': 'https://api.spotify.com/v1/artists/6FXMGgJwohJLUSr5nVlf9X',\n",
       "      'id': '6FXMGgJwohJLUSr5nVlf9X',\n",
       "      'name': 'Massive Attack',\n",
       "      'type': 'artist',\n",
       "      'uri': 'spotify:artist:6FXMGgJwohJLUSr5nVlf9X'}],\n",
       "    'external_urls': {'spotify': 'https://open.spotify.com/album/5CnZjFfPDmxOX7KnWLLqpC'},\n",
       "    'href': 'https://api.spotify.com/v1/albums/5CnZjFfPDmxOX7KnWLLqpC',\n",
       "    'id': '5CnZjFfPDmxOX7KnWLLqpC',\n",
       "    'images': [{'height': 640,\n",
       "      'url': 'https://i.scdn.co/image/ab67616d0000b273b129ba321c1903f9990a2612',\n",
       "      'width': 640},\n",
       "     {'height': 300,\n",
       "      'url': 'https://i.scdn.co/image/ab67616d00001e02b129ba321c1903f9990a2612',\n",
       "      'width': 300},\n",
       "     {'height': 64,\n",
       "      'url': 'https://i.scdn.co/image/ab67616d00004851b129ba321c1903f9990a2612',\n",
       "      'width': 64}],\n",
       "    'name': 'Protection',\n",
       "    'release_date': '1994-09-26',\n",
       "    'release_date_precision': 'day',\n",
       "    'total_tracks': 10,\n",
       "    'type': 'album',\n",
       "    'uri': 'spotify:album:5CnZjFfPDmxOX7KnWLLqpC'},\n",
       "   'artists': [{'external_urls': {'spotify': 'https://open.spotify.com/artist/6FXMGgJwohJLUSr5nVlf9X'},\n",
       "     'href': 'https://api.spotify.com/v1/artists/6FXMGgJwohJLUSr5nVlf9X',\n",
       "     'id': '6FXMGgJwohJLUSr5nVlf9X',\n",
       "     'name': 'Massive Attack',\n",
       "     'type': 'artist',\n",
       "     'uri': 'spotify:artist:6FXMGgJwohJLUSr5nVlf9X'}],\n",
       "   'disc_number': 1,\n",
       "   'duration_ms': 316440,\n",
       "   'explicit': False,\n",
       "   'external_ids': {'isrc': 'GBAAA9400585'},\n",
       "   'external_urls': {'spotify': 'https://open.spotify.com/track/46bTgJAQkrkNRxMuFnpRyD'},\n",
       "   'href': 'https://api.spotify.com/v1/tracks/46bTgJAQkrkNRxMuFnpRyD',\n",
       "   'id': '46bTgJAQkrkNRxMuFnpRyD',\n",
       "   'is_local': False,\n",
       "   'is_playable': True,\n",
       "   'name': 'Karmacoma',\n",
       "   'popularity': 56,\n",
       "   'preview_url': None,\n",
       "   'track_number': 2,\n",
       "   'type': 'track',\n",
       "   'uri': 'spotify:track:46bTgJAQkrkNRxMuFnpRyD'},\n",
       "  {'album': {'album_type': 'album',\n",
       "    'artists': [{'external_urls': {'spotify': 'https://open.spotify.com/artist/6FXMGgJwohJLUSr5nVlf9X'},\n",
       "      'href': 'https://api.spotify.com/v1/artists/6FXMGgJwohJLUSr5nVlf9X',\n",
       "      'id': '6FXMGgJwohJLUSr5nVlf9X',\n",
       "      'name': 'Massive Attack',\n",
       "      'type': 'artist',\n",
       "      'uri': 'spotify:artist:6FXMGgJwohJLUSr5nVlf9X'}],\n",
       "    'external_urls': {'spotify': 'https://open.spotify.com/album/5mAPk4qeNqVLtNydaWbWlf'},\n",
       "    'href': 'https://api.spotify.com/v1/albums/5mAPk4qeNqVLtNydaWbWlf',\n",
       "    'id': '5mAPk4qeNqVLtNydaWbWlf',\n",
       "    'images': [{'height': 640,\n",
       "      'url': 'https://i.scdn.co/image/ab67616d0000b273af5beb00d940f5ede452d6b5',\n",
       "      'width': 640},\n",
       "     {'height': 300,\n",
       "      'url': 'https://i.scdn.co/image/ab67616d00001e02af5beb00d940f5ede452d6b5',\n",
       "      'width': 300},\n",
       "     {'height': 64,\n",
       "      'url': 'https://i.scdn.co/image/ab67616d00004851af5beb00d940f5ede452d6b5',\n",
       "      'width': 64}],\n",
       "    'name': 'Blue Lines (2012 Mix/Master)',\n",
       "    'release_date': '1991-06-10',\n",
       "    'release_date_precision': 'day',\n",
       "    'total_tracks': 9,\n",
       "    'type': 'album',\n",
       "    'uri': 'spotify:album:5mAPk4qeNqVLtNydaWbWlf'},\n",
       "   'artists': [{'external_urls': {'spotify': 'https://open.spotify.com/artist/6FXMGgJwohJLUSr5nVlf9X'},\n",
       "     'href': 'https://api.spotify.com/v1/artists/6FXMGgJwohJLUSr5nVlf9X',\n",
       "     'id': '6FXMGgJwohJLUSr5nVlf9X',\n",
       "     'name': 'Massive Attack',\n",
       "     'type': 'artist',\n",
       "     'uri': 'spotify:artist:6FXMGgJwohJLUSr5nVlf9X'}],\n",
       "   'disc_number': 1,\n",
       "   'duration_ms': 249413,\n",
       "   'explicit': False,\n",
       "   'external_ids': {'isrc': 'GBAAA1200647'},\n",
       "   'external_urls': {'spotify': 'https://open.spotify.com/track/7xpw5FSNYXKfdQSBuO0THv'},\n",
       "   'href': 'https://api.spotify.com/v1/tracks/7xpw5FSNYXKfdQSBuO0THv',\n",
       "   'id': '7xpw5FSNYXKfdQSBuO0THv',\n",
       "   'is_local': False,\n",
       "   'is_playable': True,\n",
       "   'name': \"Be Thankful For What You've Got - 2012 Mix/Master\",\n",
       "   'popularity': 56,\n",
       "   'preview_url': None,\n",
       "   'track_number': 4,\n",
       "   'type': 'track',\n",
       "   'uri': 'spotify:track:7xpw5FSNYXKfdQSBuO0THv'},\n",
       "  {'album': {'album_type': 'album',\n",
       "    'artists': [{'external_urls': {'spotify': 'https://open.spotify.com/artist/6FXMGgJwohJLUSr5nVlf9X'},\n",
       "      'href': 'https://api.spotify.com/v1/artists/6FXMGgJwohJLUSr5nVlf9X',\n",
       "      'id': '6FXMGgJwohJLUSr5nVlf9X',\n",
       "      'name': 'Massive Attack',\n",
       "      'type': 'artist',\n",
       "      'uri': 'spotify:artist:6FXMGgJwohJLUSr5nVlf9X'}],\n",
       "    'external_urls': {'spotify': 'https://open.spotify.com/album/5mAPk4qeNqVLtNydaWbWlf'},\n",
       "    'href': 'https://api.spotify.com/v1/albums/5mAPk4qeNqVLtNydaWbWlf',\n",
       "    'id': '5mAPk4qeNqVLtNydaWbWlf',\n",
       "    'images': [{'height': 640,\n",
       "      'url': 'https://i.scdn.co/image/ab67616d0000b273af5beb00d940f5ede452d6b5',\n",
       "      'width': 640},\n",
       "     {'height': 300,\n",
       "      'url': 'https://i.scdn.co/image/ab67616d00001e02af5beb00d940f5ede452d6b5',\n",
       "      'width': 300},\n",
       "     {'height': 64,\n",
       "      'url': 'https://i.scdn.co/image/ab67616d00004851af5beb00d940f5ede452d6b5',\n",
       "      'width': 64}],\n",
       "    'name': 'Blue Lines (2012 Mix/Master)',\n",
       "    'release_date': '1991-06-10',\n",
       "    'release_date_precision': 'day',\n",
       "    'total_tracks': 9,\n",
       "    'type': 'album',\n",
       "    'uri': 'spotify:album:5mAPk4qeNqVLtNydaWbWlf'},\n",
       "   'artists': [{'external_urls': {'spotify': 'https://open.spotify.com/artist/6FXMGgJwohJLUSr5nVlf9X'},\n",
       "     'href': 'https://api.spotify.com/v1/artists/6FXMGgJwohJLUSr5nVlf9X',\n",
       "     'id': '6FXMGgJwohJLUSr5nVlf9X',\n",
       "     'name': 'Massive Attack',\n",
       "     'type': 'artist',\n",
       "     'uri': 'spotify:artist:6FXMGgJwohJLUSr5nVlf9X'}],\n",
       "   'disc_number': 1,\n",
       "   'duration_ms': 319000,\n",
       "   'explicit': False,\n",
       "   'external_ids': {'isrc': 'GBAAA1200644'},\n",
       "   'external_urls': {'spotify': 'https://open.spotify.com/track/1vNNfTgHsrpOXeiaXQBlH7'},\n",
       "   'href': 'https://api.spotify.com/v1/tracks/1vNNfTgHsrpOXeiaXQBlH7',\n",
       "   'id': '1vNNfTgHsrpOXeiaXQBlH7',\n",
       "   'is_local': False,\n",
       "   'is_playable': True,\n",
       "   'name': 'Safe From Harm - 2012 Mix/Master',\n",
       "   'popularity': 55,\n",
       "   'preview_url': None,\n",
       "   'track_number': 1,\n",
       "   'type': 'track',\n",
       "   'uri': 'spotify:track:1vNNfTgHsrpOXeiaXQBlH7'},\n",
       "  {'album': {'album_type': 'album',\n",
       "    'artists': [{'external_urls': {'spotify': 'https://open.spotify.com/artist/6FXMGgJwohJLUSr5nVlf9X'},\n",
       "      'href': 'https://api.spotify.com/v1/artists/6FXMGgJwohJLUSr5nVlf9X',\n",
       "      'id': '6FXMGgJwohJLUSr5nVlf9X',\n",
       "      'name': 'Massive Attack',\n",
       "      'type': 'artist',\n",
       "      'uri': 'spotify:artist:6FXMGgJwohJLUSr5nVlf9X'}],\n",
       "    'external_urls': {'spotify': 'https://open.spotify.com/album/49MNmJhZQewjt06rpwp6QR'},\n",
       "    'href': 'https://api.spotify.com/v1/albums/49MNmJhZQewjt06rpwp6QR',\n",
       "    'id': '49MNmJhZQewjt06rpwp6QR',\n",
       "    'images': [{'height': 640,\n",
       "      'url': 'https://i.scdn.co/image/ab67616d0000b2732fcb0a3c7a66e516b11cd26e',\n",
       "      'width': 640},\n",
       "     {'height': 300,\n",
       "      'url': 'https://i.scdn.co/image/ab67616d00001e022fcb0a3c7a66e516b11cd26e',\n",
       "      'width': 300},\n",
       "     {'height': 64,\n",
       "      'url': 'https://i.scdn.co/image/ab67616d000048512fcb0a3c7a66e516b11cd26e',\n",
       "      'width': 64}],\n",
       "    'name': 'Mezzanine',\n",
       "    'release_date': '1998-01-01',\n",
       "    'release_date_precision': 'day',\n",
       "    'total_tracks': 11,\n",
       "    'type': 'album',\n",
       "    'uri': 'spotify:album:49MNmJhZQewjt06rpwp6QR'},\n",
       "   'artists': [{'external_urls': {'spotify': 'https://open.spotify.com/artist/6FXMGgJwohJLUSr5nVlf9X'},\n",
       "     'href': 'https://api.spotify.com/v1/artists/6FXMGgJwohJLUSr5nVlf9X',\n",
       "     'id': '6FXMGgJwohJLUSr5nVlf9X',\n",
       "     'name': 'Massive Attack',\n",
       "     'type': 'artist',\n",
       "     'uri': 'spotify:artist:6FXMGgJwohJLUSr5nVlf9X'}],\n",
       "   'disc_number': 1,\n",
       "   'duration_ms': 366893,\n",
       "   'explicit': False,\n",
       "   'external_ids': {'isrc': 'GBAAA9800345'},\n",
       "   'external_urls': {'spotify': 'https://open.spotify.com/track/0oeEqyEAavgPfFxDYvjAP6'},\n",
       "   'href': 'https://api.spotify.com/v1/tracks/0oeEqyEAavgPfFxDYvjAP6',\n",
       "   'id': '0oeEqyEAavgPfFxDYvjAP6',\n",
       "   'is_local': False,\n",
       "   'is_playable': True,\n",
       "   'name': 'Dissolved Girl',\n",
       "   'popularity': 55,\n",
       "   'preview_url': None,\n",
       "   'track_number': 6,\n",
       "   'type': 'track',\n",
       "   'uri': 'spotify:track:0oeEqyEAavgPfFxDYvjAP6'},\n",
       "  {'album': {'album_type': 'album',\n",
       "    'artists': [{'external_urls': {'spotify': 'https://open.spotify.com/artist/6FXMGgJwohJLUSr5nVlf9X'},\n",
       "      'href': 'https://api.spotify.com/v1/artists/6FXMGgJwohJLUSr5nVlf9X',\n",
       "      'id': '6FXMGgJwohJLUSr5nVlf9X',\n",
       "      'name': 'Massive Attack',\n",
       "      'type': 'artist',\n",
       "      'uri': 'spotify:artist:6FXMGgJwohJLUSr5nVlf9X'}],\n",
       "    'external_urls': {'spotify': 'https://open.spotify.com/album/49MNmJhZQewjt06rpwp6QR'},\n",
       "    'href': 'https://api.spotify.com/v1/albums/49MNmJhZQewjt06rpwp6QR',\n",
       "    'id': '49MNmJhZQewjt06rpwp6QR',\n",
       "    'images': [{'height': 640,\n",
       "      'url': 'https://i.scdn.co/image/ab67616d0000b2732fcb0a3c7a66e516b11cd26e',\n",
       "      'width': 640},\n",
       "     {'height': 300,\n",
       "      'url': 'https://i.scdn.co/image/ab67616d00001e022fcb0a3c7a66e516b11cd26e',\n",
       "      'width': 300},\n",
       "     {'height': 64,\n",
       "      'url': 'https://i.scdn.co/image/ab67616d000048512fcb0a3c7a66e516b11cd26e',\n",
       "      'width': 64}],\n",
       "    'name': 'Mezzanine',\n",
       "    'release_date': '1998-01-01',\n",
       "    'release_date_precision': 'day',\n",
       "    'total_tracks': 11,\n",
       "    'type': 'album',\n",
       "    'uri': 'spotify:album:49MNmJhZQewjt06rpwp6QR'},\n",
       "   'artists': [{'external_urls': {'spotify': 'https://open.spotify.com/artist/6FXMGgJwohJLUSr5nVlf9X'},\n",
       "     'href': 'https://api.spotify.com/v1/artists/6FXMGgJwohJLUSr5nVlf9X',\n",
       "     'id': '6FXMGgJwohJLUSr5nVlf9X',\n",
       "     'name': 'Massive Attack',\n",
       "     'type': 'artist',\n",
       "     'uri': 'spotify:artist:6FXMGgJwohJLUSr5nVlf9X'}],\n",
       "   'disc_number': 1,\n",
       "   'duration_ms': 381666,\n",
       "   'explicit': False,\n",
       "   'external_ids': {'isrc': 'GBAAA9800347'},\n",
       "   'external_urls': {'spotify': 'https://open.spotify.com/track/1Rezzt36ybaT2ZbDZpv83D'},\n",
       "   'href': 'https://api.spotify.com/v1/tracks/1Rezzt36ybaT2ZbDZpv83D',\n",
       "   'id': '1Rezzt36ybaT2ZbDZpv83D',\n",
       "   'is_local': False,\n",
       "   'is_playable': True,\n",
       "   'name': 'Black Milk',\n",
       "   'popularity': 53,\n",
       "   'preview_url': None,\n",
       "   'track_number': 8,\n",
       "   'type': 'track',\n",
       "   'uri': 'spotify:track:1Rezzt36ybaT2ZbDZpv83D'}]}"
      ]
     },
     "execution_count": 69,
     "metadata": {},
     "output_type": "execute_result"
    }
   ],
   "source": [
    "top_tracks = client.artist_top_tracks('6FXMGgJwohJLUSr5nVlf9X')\n",
    "#top_tracks"
   ]
  },
  {
   "cell_type": "code",
<<<<<<< Updated upstream
   "execution_count": 60,
=======
   "execution_count": 70,
>>>>>>> Stashed changes
   "metadata": {
    "ExecuteTime": {
     "end_time": "2022-01-21T00:31:14.617010Z",
     "start_time": "2022-01-21T00:31:14.600058Z"
    }
   },
   "outputs": [
    {
     "data": {
      "text/plain": [
       "dict_keys(['tracks'])"
      ]
     },
<<<<<<< Updated upstream
     "execution_count": 60,
=======
     "execution_count": 70,
>>>>>>> Stashed changes
     "metadata": {},
     "output_type": "execute_result"
    }
   ],
   "source": [
    "top_tracks.keys()"
   ]
  },
  {
   "cell_type": "code",
<<<<<<< Updated upstream
   "execution_count": 61,
=======
   "execution_count": 71,
>>>>>>> Stashed changes
   "metadata": {
    "ExecuteTime": {
     "end_time": "2022-01-21T00:31:20.181397Z",
     "start_time": "2022-01-21T00:31:20.161448Z"
    }
   },
   "outputs": [
    {
     "data": {
      "text/plain": [
       "list"
      ]
     },
<<<<<<< Updated upstream
     "execution_count": 61,
=======
     "execution_count": 71,
>>>>>>> Stashed changes
     "metadata": {},
     "output_type": "execute_result"
    }
   ],
   "source": [
    "type(top_tracks['tracks'])"
   ]
  },
  {
   "cell_type": "code",
<<<<<<< Updated upstream
   "execution_count": 63,
=======
   "execution_count": 72,
>>>>>>> Stashed changes
   "metadata": {
    "ExecuteTime": {
     "end_time": "2022-01-21T00:32:20.071972Z",
     "start_time": "2022-01-21T00:32:20.062997Z"
    }
   },
   "outputs": [
    {
     "data": {
      "text/plain": [
<<<<<<< Updated upstream
       "dict_keys(['album', 'artists', 'disc_number', 'duration_ms', 'explicit', 'external_ids', 'external_urls', 'href', 'id', 'is_local', 'is_playable', 'name', 'popularity', 'preview_url', 'track_number', 'type', 'uri'])"
      ]
     },
     "execution_count": 63,
     "metadata": {},
     "output_type": "execute_result"
    }
   ],
   "source": [
    "top_tracks['tracks'][0].keys()"
   ]
  },
  {
   "cell_type": "code",
   "execution_count": 67,
   "metadata": {
    "ExecuteTime": {
     "end_time": "2022-01-21T00:33:02.991380Z",
     "start_time": "2022-01-21T00:33:02.976420Z"
    }
   },
   "outputs": [
    {
     "data": {
      "text/plain": [
       "'spotify:track:67Hna13dNDkZvBpTXRIaOJ'"
      ]
     },
     "execution_count": 67,
=======
       "{'album': {'album_type': 'album',\n",
       "  'artists': [{'external_urls': {'spotify': 'https://open.spotify.com/artist/6FXMGgJwohJLUSr5nVlf9X'},\n",
       "    'href': 'https://api.spotify.com/v1/artists/6FXMGgJwohJLUSr5nVlf9X',\n",
       "    'id': '6FXMGgJwohJLUSr5nVlf9X',\n",
       "    'name': 'Massive Attack',\n",
       "    'type': 'artist',\n",
       "    'uri': 'spotify:artist:6FXMGgJwohJLUSr5nVlf9X'}],\n",
       "  'external_urls': {'spotify': 'https://open.spotify.com/album/49MNmJhZQewjt06rpwp6QR'},\n",
       "  'href': 'https://api.spotify.com/v1/albums/49MNmJhZQewjt06rpwp6QR',\n",
       "  'id': '49MNmJhZQewjt06rpwp6QR',\n",
       "  'images': [{'height': 640,\n",
       "    'url': 'https://i.scdn.co/image/ab67616d0000b2732fcb0a3c7a66e516b11cd26e',\n",
       "    'width': 640},\n",
       "   {'height': 300,\n",
       "    'url': 'https://i.scdn.co/image/ab67616d00001e022fcb0a3c7a66e516b11cd26e',\n",
       "    'width': 300},\n",
       "   {'height': 64,\n",
       "    'url': 'https://i.scdn.co/image/ab67616d000048512fcb0a3c7a66e516b11cd26e',\n",
       "    'width': 64}],\n",
       "  'name': 'Mezzanine',\n",
       "  'release_date': '1998-01-01',\n",
       "  'release_date_precision': 'day',\n",
       "  'total_tracks': 11,\n",
       "  'type': 'album',\n",
       "  'uri': 'spotify:album:49MNmJhZQewjt06rpwp6QR'},\n",
       " 'artists': [{'external_urls': {'spotify': 'https://open.spotify.com/artist/6FXMGgJwohJLUSr5nVlf9X'},\n",
       "   'href': 'https://api.spotify.com/v1/artists/6FXMGgJwohJLUSr5nVlf9X',\n",
       "   'id': '6FXMGgJwohJLUSr5nVlf9X',\n",
       "   'name': 'Massive Attack',\n",
       "   'type': 'artist',\n",
       "   'uri': 'spotify:artist:6FXMGgJwohJLUSr5nVlf9X'}],\n",
       " 'disc_number': 1,\n",
       " 'duration_ms': 330773,\n",
       " 'explicit': False,\n",
       " 'external_ids': {'isrc': 'GBAAA9800322'},\n",
       " 'external_urls': {'spotify': 'https://open.spotify.com/track/67Hna13dNDkZvBpTXRIaOJ'},\n",
       " 'href': 'https://api.spotify.com/v1/tracks/67Hna13dNDkZvBpTXRIaOJ',\n",
       " 'id': '67Hna13dNDkZvBpTXRIaOJ',\n",
       " 'is_local': False,\n",
       " 'is_playable': True,\n",
       " 'name': 'Teardrop',\n",
       " 'popularity': 71,\n",
       " 'preview_url': None,\n",
       " 'track_number': 3,\n",
       " 'type': 'track',\n",
       " 'uri': 'spotify:track:67Hna13dNDkZvBpTXRIaOJ'}"
      ]
     },
     "execution_count": 72,
>>>>>>> Stashed changes
     "metadata": {},
     "output_type": "execute_result"
    }
   ],
   "source": [
    "top_tracks['tracks'][0]['uri']"
   ]
  },
  {
   "cell_type": "code",
<<<<<<< Updated upstream
   "execution_count": 68,
=======
   "execution_count": 73,
>>>>>>> Stashed changes
   "metadata": {
    "ExecuteTime": {
     "end_time": "2022-01-21T00:33:13.815312Z",
     "start_time": "2022-01-21T00:33:13.803317Z"
    }
   },
   "outputs": [
    {
     "data": {
      "text/plain": [
       "dict_keys(['album', 'artists', 'disc_number', 'duration_ms', 'explicit', 'external_ids', 'external_urls', 'href', 'id', 'is_local', 'is_playable', 'name', 'popularity', 'preview_url', 'track_number', 'type', 'uri'])"
      ]
     },
<<<<<<< Updated upstream
     "execution_count": 68,
=======
     "execution_count": 73,
>>>>>>> Stashed changes
     "metadata": {},
     "output_type": "execute_result"
    }
   ],
   "source": [
    "top_tracks['tracks'][0].keys()"
   ]
  },
  {
   "cell_type": "code",
<<<<<<< Updated upstream
   "execution_count": 69,
=======
   "execution_count": 74,
>>>>>>> Stashed changes
   "metadata": {
    "ExecuteTime": {
     "end_time": "2022-01-21T00:33:16.122169Z",
     "start_time": "2022-01-21T00:33:16.107209Z"
    }
   },
   "outputs": [
    {
     "data": {
      "text/plain": [
       "'Teardrop'"
      ]
     },
<<<<<<< Updated upstream
     "execution_count": 69,
=======
     "execution_count": 74,
>>>>>>> Stashed changes
     "metadata": {},
     "output_type": "execute_result"
    }
   ],
   "source": [
    "top_tracks['tracks'][0]['name']"
   ]
  },
  {
   "cell_type": "code",
<<<<<<< Updated upstream
   "execution_count": 70,
=======
   "execution_count": 75,
>>>>>>> Stashed changes
   "metadata": {
    "ExecuteTime": {
     "end_time": "2022-01-21T00:33:25.086745Z",
     "start_time": "2022-01-21T00:33:25.077769Z"
    }
   },
   "outputs": [
    {
     "data": {
      "text/plain": [
       "71"
      ]
     },
<<<<<<< Updated upstream
     "execution_count": 70,
=======
     "execution_count": 75,
>>>>>>> Stashed changes
     "metadata": {},
     "output_type": "execute_result"
    }
   ],
   "source": [
    "top_tracks['tracks'][0]['popularity']"
   ]
  },
  {
   "cell_type": "code",
<<<<<<< Updated upstream
   "execution_count": 71,
=======
   "execution_count": 76,
>>>>>>> Stashed changes
   "metadata": {
    "ExecuteTime": {
     "end_time": "2022-01-21T00:33:41.341375Z",
     "start_time": "2022-01-21T00:33:41.336389Z"
    }
   },
   "outputs": [
    {
     "data": {
      "text/plain": [
       "'spotify:track:67Hna13dNDkZvBpTXRIaOJ'"
      ]
     },
<<<<<<< Updated upstream
     "execution_count": 71,
=======
     "execution_count": 76,
>>>>>>> Stashed changes
     "metadata": {},
     "output_type": "execute_result"
    }
   ],
   "source": [
    "top_tracks['tracks'][0]['uri']"
   ]
  },
  {
   "cell_type": "code",
<<<<<<< Updated upstream
   "execution_count": 109,
=======
   "execution_count": 77,
>>>>>>> Stashed changes
   "metadata": {
    "ExecuteTime": {
     "end_time": "2022-01-21T01:17:14.784853Z",
     "start_time": "2022-01-21T01:17:14.561890Z"
    }
   },
   "outputs": [
    {
     "data": {
<<<<<<< Updated upstream
      "text/plain": [
       "[{'danceability': 0.615,\n",
       "  'energy': 0.419,\n",
       "  'key': 11,\n",
       "  'loudness': -8.8,\n",
       "  'mode': 0,\n",
       "  'speechiness': 0.0395,\n",
       "  'acousticness': 0.0173,\n",
       "  'instrumentalness': 0.497,\n",
       "  'liveness': 0.135,\n",
       "  'valence': 0.216,\n",
       "  'tempo': 76.997,\n",
       "  'type': 'audio_features',\n",
       "  'id': '67Hna13dNDkZvBpTXRIaOJ',\n",
       "  'uri': 'spotify:track:67Hna13dNDkZvBpTXRIaOJ',\n",
       "  'track_href': 'https://api.spotify.com/v1/tracks/67Hna13dNDkZvBpTXRIaOJ',\n",
       "  'analysis_url': 'https://api.spotify.com/v1/audio-analysis/67Hna13dNDkZvBpTXRIaOJ',\n",
       "  'duration_ms': 330773,\n",
       "  'time_signature': 4}]"
      ]
     },
     "execution_count": 109,
=======
      "text/html": [
       "<div>\n",
       "<style scoped>\n",
       "    .dataframe tbody tr th:only-of-type {\n",
       "        vertical-align: middle;\n",
       "    }\n",
       "\n",
       "    .dataframe tbody tr th {\n",
       "        vertical-align: top;\n",
       "    }\n",
       "\n",
       "    .dataframe thead th {\n",
       "        text-align: right;\n",
       "    }\n",
       "</style>\n",
       "<table border=\"1\" class=\"dataframe\">\n",
       "  <thead>\n",
       "    <tr style=\"text-align: right;\">\n",
       "      <th></th>\n",
       "      <th>danceability</th>\n",
       "      <th>energy</th>\n",
       "      <th>key</th>\n",
       "      <th>loudness</th>\n",
       "      <th>mode</th>\n",
       "      <th>speechiness</th>\n",
       "      <th>acousticness</th>\n",
       "      <th>instrumentalness</th>\n",
       "      <th>liveness</th>\n",
       "      <th>valence</th>\n",
       "      <th>tempo</th>\n",
       "      <th>type</th>\n",
       "      <th>id</th>\n",
       "      <th>uri</th>\n",
       "      <th>track_href</th>\n",
       "      <th>analysis_url</th>\n",
       "      <th>duration_ms</th>\n",
       "      <th>time_signature</th>\n",
       "    </tr>\n",
       "  </thead>\n",
       "  <tbody>\n",
       "    <tr>\n",
       "      <th>0</th>\n",
       "      <td>0.615</td>\n",
       "      <td>0.419</td>\n",
       "      <td>11</td>\n",
       "      <td>-8.8</td>\n",
       "      <td>0</td>\n",
       "      <td>0.0395</td>\n",
       "      <td>0.0173</td>\n",
       "      <td>0.497</td>\n",
       "      <td>0.135</td>\n",
       "      <td>0.216</td>\n",
       "      <td>76.997</td>\n",
       "      <td>audio_features</td>\n",
       "      <td>67Hna13dNDkZvBpTXRIaOJ</td>\n",
       "      <td>spotify:track:67Hna13dNDkZvBpTXRIaOJ</td>\n",
       "      <td>https://api.spotify.com/v1/tracks/67Hna13dNDkZ...</td>\n",
       "      <td>https://api.spotify.com/v1/audio-analysis/67Hn...</td>\n",
       "      <td>330773</td>\n",
       "      <td>4</td>\n",
       "    </tr>\n",
       "  </tbody>\n",
       "</table>\n",
       "</div>"
      ],
      "text/plain": [
       "   danceability  energy  key  loudness  mode  speechiness  acousticness  \\\n",
       "0         0.615   0.419   11      -8.8     0       0.0395        0.0173   \n",
       "\n",
       "   instrumentalness  liveness  valence   tempo            type  \\\n",
       "0             0.497     0.135    0.216  76.997  audio_features   \n",
       "\n",
       "                       id                                   uri  \\\n",
       "0  67Hna13dNDkZvBpTXRIaOJ  spotify:track:67Hna13dNDkZvBpTXRIaOJ   \n",
       "\n",
       "                                          track_href  \\\n",
       "0  https://api.spotify.com/v1/tracks/67Hna13dNDkZ...   \n",
       "\n",
       "                                        analysis_url  duration_ms  \\\n",
       "0  https://api.spotify.com/v1/audio-analysis/67Hn...       330773   \n",
       "\n",
       "   time_signature  \n",
       "0               4  "
      ]
     },
     "execution_count": 77,
>>>>>>> Stashed changes
     "metadata": {},
     "output_type": "execute_result"
    }
   ],
   "source": [
    "client.audio_features(top_tracks['tracks'][0]['uri'])"
   ]
  },
  {
   "cell_type": "code",
<<<<<<< Updated upstream
   "execution_count": 110,
   "metadata": {
    "ExecuteTime": {
     "end_time": "2022-01-21T01:19:00.511026Z",
     "start_time": "2022-01-21T01:18:54.176968Z"
    }
   },
   "outputs": [],
=======
   "execution_count": 105,
   "metadata": {},
   "outputs": [
    {
     "data": {
      "text/plain": [
       "2.092"
      ]
     },
     "execution_count": 105,
     "metadata": {},
     "output_type": "execute_result"
    }
   ],
   "source": [
    "Name = float(((client.artist_top_tracks('6kBDZFXuLrZgHnvmPu9NsG')['tracks'][0]['duration_ms']/1000)/60))\n",
    "Name"
   ]
  },
  {
   "cell_type": "code",
   "execution_count": 103,
   "metadata": {},
   "outputs": [
    {
     "ename": "ReadTimeout",
     "evalue": "HTTPSConnectionPool(host='api.spotify.com', port=443): Read timed out. (read timeout=5)",
     "output_type": "error",
     "traceback": [
      "\u001b[1;31m---------------------------------------------------------------------------\u001b[0m",
      "\u001b[1;31mtimeout\u001b[0m                                   Traceback (most recent call last)",
      "\u001b[1;32m~\\anaconda\\lib\\site-packages\\urllib3\\connectionpool.py\u001b[0m in \u001b[0;36m_make_request\u001b[1;34m(self, conn, method, url, timeout, chunked, **httplib_request_kw)\u001b[0m\n\u001b[0;32m    444\u001b[0m                     \u001b[1;31m# Otherwise it looks like a bug in the code.\u001b[0m\u001b[1;33m\u001b[0m\u001b[1;33m\u001b[0m\u001b[1;33m\u001b[0m\u001b[0m\n\u001b[1;32m--> 445\u001b[1;33m                     \u001b[0msix\u001b[0m\u001b[1;33m.\u001b[0m\u001b[0mraise_from\u001b[0m\u001b[1;33m(\u001b[0m\u001b[0me\u001b[0m\u001b[1;33m,\u001b[0m \u001b[1;32mNone\u001b[0m\u001b[1;33m)\u001b[0m\u001b[1;33m\u001b[0m\u001b[1;33m\u001b[0m\u001b[0m\n\u001b[0m\u001b[0;32m    446\u001b[0m         \u001b[1;32mexcept\u001b[0m \u001b[1;33m(\u001b[0m\u001b[0mSocketTimeout\u001b[0m\u001b[1;33m,\u001b[0m \u001b[0mBaseSSLError\u001b[0m\u001b[1;33m,\u001b[0m \u001b[0mSocketError\u001b[0m\u001b[1;33m)\u001b[0m \u001b[1;32mas\u001b[0m \u001b[0me\u001b[0m\u001b[1;33m:\u001b[0m\u001b[1;33m\u001b[0m\u001b[1;33m\u001b[0m\u001b[0m\n",
      "\u001b[1;32m~\\anaconda\\lib\\site-packages\\urllib3\\packages\\six.py\u001b[0m in \u001b[0;36mraise_from\u001b[1;34m(value, from_value)\u001b[0m\n",
      "\u001b[1;32m~\\anaconda\\lib\\site-packages\\urllib3\\connectionpool.py\u001b[0m in \u001b[0;36m_make_request\u001b[1;34m(self, conn, method, url, timeout, chunked, **httplib_request_kw)\u001b[0m\n\u001b[0;32m    439\u001b[0m                 \u001b[1;32mtry\u001b[0m\u001b[1;33m:\u001b[0m\u001b[1;33m\u001b[0m\u001b[1;33m\u001b[0m\u001b[0m\n\u001b[1;32m--> 440\u001b[1;33m                     \u001b[0mhttplib_response\u001b[0m \u001b[1;33m=\u001b[0m \u001b[0mconn\u001b[0m\u001b[1;33m.\u001b[0m\u001b[0mgetresponse\u001b[0m\u001b[1;33m(\u001b[0m\u001b[1;33m)\u001b[0m\u001b[1;33m\u001b[0m\u001b[1;33m\u001b[0m\u001b[0m\n\u001b[0m\u001b[0;32m    441\u001b[0m                 \u001b[1;32mexcept\u001b[0m \u001b[0mBaseException\u001b[0m \u001b[1;32mas\u001b[0m \u001b[0me\u001b[0m\u001b[1;33m:\u001b[0m\u001b[1;33m\u001b[0m\u001b[1;33m\u001b[0m\u001b[0m\n",
      "\u001b[1;32m~\\anaconda\\lib\\http\\client.py\u001b[0m in \u001b[0;36mgetresponse\u001b[1;34m(self)\u001b[0m\n\u001b[0;32m   1346\u001b[0m             \u001b[1;32mtry\u001b[0m\u001b[1;33m:\u001b[0m\u001b[1;33m\u001b[0m\u001b[1;33m\u001b[0m\u001b[0m\n\u001b[1;32m-> 1347\u001b[1;33m                 \u001b[0mresponse\u001b[0m\u001b[1;33m.\u001b[0m\u001b[0mbegin\u001b[0m\u001b[1;33m(\u001b[0m\u001b[1;33m)\u001b[0m\u001b[1;33m\u001b[0m\u001b[1;33m\u001b[0m\u001b[0m\n\u001b[0m\u001b[0;32m   1348\u001b[0m             \u001b[1;32mexcept\u001b[0m \u001b[0mConnectionError\u001b[0m\u001b[1;33m:\u001b[0m\u001b[1;33m\u001b[0m\u001b[1;33m\u001b[0m\u001b[0m\n",
      "\u001b[1;32m~\\anaconda\\lib\\http\\client.py\u001b[0m in \u001b[0;36mbegin\u001b[1;34m(self)\u001b[0m\n\u001b[0;32m    306\u001b[0m         \u001b[1;32mwhile\u001b[0m \u001b[1;32mTrue\u001b[0m\u001b[1;33m:\u001b[0m\u001b[1;33m\u001b[0m\u001b[1;33m\u001b[0m\u001b[0m\n\u001b[1;32m--> 307\u001b[1;33m             \u001b[0mversion\u001b[0m\u001b[1;33m,\u001b[0m \u001b[0mstatus\u001b[0m\u001b[1;33m,\u001b[0m \u001b[0mreason\u001b[0m \u001b[1;33m=\u001b[0m \u001b[0mself\u001b[0m\u001b[1;33m.\u001b[0m\u001b[0m_read_status\u001b[0m\u001b[1;33m(\u001b[0m\u001b[1;33m)\u001b[0m\u001b[1;33m\u001b[0m\u001b[1;33m\u001b[0m\u001b[0m\n\u001b[0m\u001b[0;32m    308\u001b[0m             \u001b[1;32mif\u001b[0m \u001b[0mstatus\u001b[0m \u001b[1;33m!=\u001b[0m \u001b[0mCONTINUE\u001b[0m\u001b[1;33m:\u001b[0m\u001b[1;33m\u001b[0m\u001b[1;33m\u001b[0m\u001b[0m\n",
      "\u001b[1;32m~\\anaconda\\lib\\http\\client.py\u001b[0m in \u001b[0;36m_read_status\u001b[1;34m(self)\u001b[0m\n\u001b[0;32m    267\u001b[0m     \u001b[1;32mdef\u001b[0m \u001b[0m_read_status\u001b[0m\u001b[1;33m(\u001b[0m\u001b[0mself\u001b[0m\u001b[1;33m)\u001b[0m\u001b[1;33m:\u001b[0m\u001b[1;33m\u001b[0m\u001b[1;33m\u001b[0m\u001b[0m\n\u001b[1;32m--> 268\u001b[1;33m         \u001b[0mline\u001b[0m \u001b[1;33m=\u001b[0m \u001b[0mstr\u001b[0m\u001b[1;33m(\u001b[0m\u001b[0mself\u001b[0m\u001b[1;33m.\u001b[0m\u001b[0mfp\u001b[0m\u001b[1;33m.\u001b[0m\u001b[0mreadline\u001b[0m\u001b[1;33m(\u001b[0m\u001b[0m_MAXLINE\u001b[0m \u001b[1;33m+\u001b[0m \u001b[1;36m1\u001b[0m\u001b[1;33m)\u001b[0m\u001b[1;33m,\u001b[0m \u001b[1;34m\"iso-8859-1\"\u001b[0m\u001b[1;33m)\u001b[0m\u001b[1;33m\u001b[0m\u001b[1;33m\u001b[0m\u001b[0m\n\u001b[0m\u001b[0;32m    269\u001b[0m         \u001b[1;32mif\u001b[0m \u001b[0mlen\u001b[0m\u001b[1;33m(\u001b[0m\u001b[0mline\u001b[0m\u001b[1;33m)\u001b[0m \u001b[1;33m>\u001b[0m \u001b[0m_MAXLINE\u001b[0m\u001b[1;33m:\u001b[0m\u001b[1;33m\u001b[0m\u001b[1;33m\u001b[0m\u001b[0m\n",
      "\u001b[1;32m~\\anaconda\\lib\\socket.py\u001b[0m in \u001b[0;36mreadinto\u001b[1;34m(self, b)\u001b[0m\n\u001b[0;32m    668\u001b[0m             \u001b[1;32mtry\u001b[0m\u001b[1;33m:\u001b[0m\u001b[1;33m\u001b[0m\u001b[1;33m\u001b[0m\u001b[0m\n\u001b[1;32m--> 669\u001b[1;33m                 \u001b[1;32mreturn\u001b[0m \u001b[0mself\u001b[0m\u001b[1;33m.\u001b[0m\u001b[0m_sock\u001b[0m\u001b[1;33m.\u001b[0m\u001b[0mrecv_into\u001b[0m\u001b[1;33m(\u001b[0m\u001b[0mb\u001b[0m\u001b[1;33m)\u001b[0m\u001b[1;33m\u001b[0m\u001b[1;33m\u001b[0m\u001b[0m\n\u001b[0m\u001b[0;32m    670\u001b[0m             \u001b[1;32mexcept\u001b[0m \u001b[0mtimeout\u001b[0m\u001b[1;33m:\u001b[0m\u001b[1;33m\u001b[0m\u001b[1;33m\u001b[0m\u001b[0m\n",
      "\u001b[1;32m~\\anaconda\\lib\\ssl.py\u001b[0m in \u001b[0;36mrecv_into\u001b[1;34m(self, buffer, nbytes, flags)\u001b[0m\n\u001b[0;32m   1240\u001b[0m                   self.__class__)\n\u001b[1;32m-> 1241\u001b[1;33m             \u001b[1;32mreturn\u001b[0m \u001b[0mself\u001b[0m\u001b[1;33m.\u001b[0m\u001b[0mread\u001b[0m\u001b[1;33m(\u001b[0m\u001b[0mnbytes\u001b[0m\u001b[1;33m,\u001b[0m \u001b[0mbuffer\u001b[0m\u001b[1;33m)\u001b[0m\u001b[1;33m\u001b[0m\u001b[1;33m\u001b[0m\u001b[0m\n\u001b[0m\u001b[0;32m   1242\u001b[0m         \u001b[1;32melse\u001b[0m\u001b[1;33m:\u001b[0m\u001b[1;33m\u001b[0m\u001b[1;33m\u001b[0m\u001b[0m\n",
      "\u001b[1;32m~\\anaconda\\lib\\ssl.py\u001b[0m in \u001b[0;36mread\u001b[1;34m(self, len, buffer)\u001b[0m\n\u001b[0;32m   1098\u001b[0m             \u001b[1;32mif\u001b[0m \u001b[0mbuffer\u001b[0m \u001b[1;32mis\u001b[0m \u001b[1;32mnot\u001b[0m \u001b[1;32mNone\u001b[0m\u001b[1;33m:\u001b[0m\u001b[1;33m\u001b[0m\u001b[1;33m\u001b[0m\u001b[0m\n\u001b[1;32m-> 1099\u001b[1;33m                 \u001b[1;32mreturn\u001b[0m \u001b[0mself\u001b[0m\u001b[1;33m.\u001b[0m\u001b[0m_sslobj\u001b[0m\u001b[1;33m.\u001b[0m\u001b[0mread\u001b[0m\u001b[1;33m(\u001b[0m\u001b[0mlen\u001b[0m\u001b[1;33m,\u001b[0m \u001b[0mbuffer\u001b[0m\u001b[1;33m)\u001b[0m\u001b[1;33m\u001b[0m\u001b[1;33m\u001b[0m\u001b[0m\n\u001b[0m\u001b[0;32m   1100\u001b[0m             \u001b[1;32melse\u001b[0m\u001b[1;33m:\u001b[0m\u001b[1;33m\u001b[0m\u001b[1;33m\u001b[0m\u001b[0m\n",
      "\u001b[1;31mtimeout\u001b[0m: The read operation timed out",
      "\nDuring handling of the above exception, another exception occurred:\n",
      "\u001b[1;31mReadTimeoutError\u001b[0m                          Traceback (most recent call last)",
      "\u001b[1;32m~\\anaconda\\lib\\site-packages\\requests\\adapters.py\u001b[0m in \u001b[0;36msend\u001b[1;34m(self, request, stream, timeout, verify, cert, proxies)\u001b[0m\n\u001b[0;32m    438\u001b[0m             \u001b[1;32mif\u001b[0m \u001b[1;32mnot\u001b[0m \u001b[0mchunked\u001b[0m\u001b[1;33m:\u001b[0m\u001b[1;33m\u001b[0m\u001b[1;33m\u001b[0m\u001b[0m\n\u001b[1;32m--> 439\u001b[1;33m                 resp = conn.urlopen(\n\u001b[0m\u001b[0;32m    440\u001b[0m                     \u001b[0mmethod\u001b[0m\u001b[1;33m=\u001b[0m\u001b[0mrequest\u001b[0m\u001b[1;33m.\u001b[0m\u001b[0mmethod\u001b[0m\u001b[1;33m,\u001b[0m\u001b[1;33m\u001b[0m\u001b[1;33m\u001b[0m\u001b[0m\n",
      "\u001b[1;32m~\\anaconda\\lib\\site-packages\\urllib3\\connectionpool.py\u001b[0m in \u001b[0;36murlopen\u001b[1;34m(self, method, url, body, headers, retries, redirect, assert_same_host, timeout, pool_timeout, release_conn, chunked, body_pos, **response_kw)\u001b[0m\n\u001b[0;32m    754\u001b[0m \u001b[1;33m\u001b[0m\u001b[0m\n\u001b[1;32m--> 755\u001b[1;33m             retries = retries.increment(\n\u001b[0m\u001b[0;32m    756\u001b[0m                 \u001b[0mmethod\u001b[0m\u001b[1;33m,\u001b[0m \u001b[0murl\u001b[0m\u001b[1;33m,\u001b[0m \u001b[0merror\u001b[0m\u001b[1;33m=\u001b[0m\u001b[0me\u001b[0m\u001b[1;33m,\u001b[0m \u001b[0m_pool\u001b[0m\u001b[1;33m=\u001b[0m\u001b[0mself\u001b[0m\u001b[1;33m,\u001b[0m \u001b[0m_stacktrace\u001b[0m\u001b[1;33m=\u001b[0m\u001b[0msys\u001b[0m\u001b[1;33m.\u001b[0m\u001b[0mexc_info\u001b[0m\u001b[1;33m(\u001b[0m\u001b[1;33m)\u001b[0m\u001b[1;33m[\u001b[0m\u001b[1;36m2\u001b[0m\u001b[1;33m]\u001b[0m\u001b[1;33m\u001b[0m\u001b[1;33m\u001b[0m\u001b[0m\n",
      "\u001b[1;32m~\\anaconda\\lib\\site-packages\\urllib3\\util\\retry.py\u001b[0m in \u001b[0;36mincrement\u001b[1;34m(self, method, url, response, error, _pool, _stacktrace)\u001b[0m\n\u001b[0;32m    531\u001b[0m             \u001b[1;32mif\u001b[0m \u001b[0mread\u001b[0m \u001b[1;32mis\u001b[0m \u001b[1;32mFalse\u001b[0m \u001b[1;32mor\u001b[0m \u001b[1;32mnot\u001b[0m \u001b[0mself\u001b[0m\u001b[1;33m.\u001b[0m\u001b[0m_is_method_retryable\u001b[0m\u001b[1;33m(\u001b[0m\u001b[0mmethod\u001b[0m\u001b[1;33m)\u001b[0m\u001b[1;33m:\u001b[0m\u001b[1;33m\u001b[0m\u001b[1;33m\u001b[0m\u001b[0m\n\u001b[1;32m--> 532\u001b[1;33m                 \u001b[1;32mraise\u001b[0m \u001b[0msix\u001b[0m\u001b[1;33m.\u001b[0m\u001b[0mreraise\u001b[0m\u001b[1;33m(\u001b[0m\u001b[0mtype\u001b[0m\u001b[1;33m(\u001b[0m\u001b[0merror\u001b[0m\u001b[1;33m)\u001b[0m\u001b[1;33m,\u001b[0m \u001b[0merror\u001b[0m\u001b[1;33m,\u001b[0m \u001b[0m_stacktrace\u001b[0m\u001b[1;33m)\u001b[0m\u001b[1;33m\u001b[0m\u001b[1;33m\u001b[0m\u001b[0m\n\u001b[0m\u001b[0;32m    533\u001b[0m             \u001b[1;32melif\u001b[0m \u001b[0mread\u001b[0m \u001b[1;32mis\u001b[0m \u001b[1;32mnot\u001b[0m \u001b[1;32mNone\u001b[0m\u001b[1;33m:\u001b[0m\u001b[1;33m\u001b[0m\u001b[1;33m\u001b[0m\u001b[0m\n",
      "\u001b[1;32m~\\anaconda\\lib\\site-packages\\urllib3\\packages\\six.py\u001b[0m in \u001b[0;36mreraise\u001b[1;34m(tp, value, tb)\u001b[0m\n\u001b[0;32m    734\u001b[0m                 \u001b[1;32mraise\u001b[0m \u001b[0mvalue\u001b[0m\u001b[1;33m.\u001b[0m\u001b[0mwith_traceback\u001b[0m\u001b[1;33m(\u001b[0m\u001b[0mtb\u001b[0m\u001b[1;33m)\u001b[0m\u001b[1;33m\u001b[0m\u001b[1;33m\u001b[0m\u001b[0m\n\u001b[1;32m--> 735\u001b[1;33m             \u001b[1;32mraise\u001b[0m \u001b[0mvalue\u001b[0m\u001b[1;33m\u001b[0m\u001b[1;33m\u001b[0m\u001b[0m\n\u001b[0m\u001b[0;32m    736\u001b[0m         \u001b[1;32mfinally\u001b[0m\u001b[1;33m:\u001b[0m\u001b[1;33m\u001b[0m\u001b[1;33m\u001b[0m\u001b[0m\n",
      "\u001b[1;32m~\\anaconda\\lib\\site-packages\\urllib3\\connectionpool.py\u001b[0m in \u001b[0;36murlopen\u001b[1;34m(self, method, url, body, headers, retries, redirect, assert_same_host, timeout, pool_timeout, release_conn, chunked, body_pos, **response_kw)\u001b[0m\n\u001b[0;32m    698\u001b[0m             \u001b[1;31m# Make the request on the httplib connection object.\u001b[0m\u001b[1;33m\u001b[0m\u001b[1;33m\u001b[0m\u001b[1;33m\u001b[0m\u001b[0m\n\u001b[1;32m--> 699\u001b[1;33m             httplib_response = self._make_request(\n\u001b[0m\u001b[0;32m    700\u001b[0m                 \u001b[0mconn\u001b[0m\u001b[1;33m,\u001b[0m\u001b[1;33m\u001b[0m\u001b[1;33m\u001b[0m\u001b[0m\n",
      "\u001b[1;32m~\\anaconda\\lib\\site-packages\\urllib3\\connectionpool.py\u001b[0m in \u001b[0;36m_make_request\u001b[1;34m(self, conn, method, url, timeout, chunked, **httplib_request_kw)\u001b[0m\n\u001b[0;32m    446\u001b[0m         \u001b[1;32mexcept\u001b[0m \u001b[1;33m(\u001b[0m\u001b[0mSocketTimeout\u001b[0m\u001b[1;33m,\u001b[0m \u001b[0mBaseSSLError\u001b[0m\u001b[1;33m,\u001b[0m \u001b[0mSocketError\u001b[0m\u001b[1;33m)\u001b[0m \u001b[1;32mas\u001b[0m \u001b[0me\u001b[0m\u001b[1;33m:\u001b[0m\u001b[1;33m\u001b[0m\u001b[1;33m\u001b[0m\u001b[0m\n\u001b[1;32m--> 447\u001b[1;33m             \u001b[0mself\u001b[0m\u001b[1;33m.\u001b[0m\u001b[0m_raise_timeout\u001b[0m\u001b[1;33m(\u001b[0m\u001b[0merr\u001b[0m\u001b[1;33m=\u001b[0m\u001b[0me\u001b[0m\u001b[1;33m,\u001b[0m \u001b[0murl\u001b[0m\u001b[1;33m=\u001b[0m\u001b[0murl\u001b[0m\u001b[1;33m,\u001b[0m \u001b[0mtimeout_value\u001b[0m\u001b[1;33m=\u001b[0m\u001b[0mread_timeout\u001b[0m\u001b[1;33m)\u001b[0m\u001b[1;33m\u001b[0m\u001b[1;33m\u001b[0m\u001b[0m\n\u001b[0m\u001b[0;32m    448\u001b[0m             \u001b[1;32mraise\u001b[0m\u001b[1;33m\u001b[0m\u001b[1;33m\u001b[0m\u001b[0m\n",
      "\u001b[1;32m~\\anaconda\\lib\\site-packages\\urllib3\\connectionpool.py\u001b[0m in \u001b[0;36m_raise_timeout\u001b[1;34m(self, err, url, timeout_value)\u001b[0m\n\u001b[0;32m    335\u001b[0m         \u001b[1;32mif\u001b[0m \u001b[0misinstance\u001b[0m\u001b[1;33m(\u001b[0m\u001b[0merr\u001b[0m\u001b[1;33m,\u001b[0m \u001b[0mSocketTimeout\u001b[0m\u001b[1;33m)\u001b[0m\u001b[1;33m:\u001b[0m\u001b[1;33m\u001b[0m\u001b[1;33m\u001b[0m\u001b[0m\n\u001b[1;32m--> 336\u001b[1;33m             raise ReadTimeoutError(\n\u001b[0m\u001b[0;32m    337\u001b[0m                 \u001b[0mself\u001b[0m\u001b[1;33m,\u001b[0m \u001b[0murl\u001b[0m\u001b[1;33m,\u001b[0m \u001b[1;34m\"Read timed out. (read timeout=%s)\"\u001b[0m \u001b[1;33m%\u001b[0m \u001b[0mtimeout_value\u001b[0m\u001b[1;33m\u001b[0m\u001b[1;33m\u001b[0m\u001b[0m\n",
      "\u001b[1;31mReadTimeoutError\u001b[0m: HTTPSConnectionPool(host='api.spotify.com', port=443): Read timed out. (read timeout=5)",
      "\nDuring handling of the above exception, another exception occurred:\n",
      "\u001b[1;31mReadTimeout\u001b[0m                               Traceback (most recent call last)",
      "\u001b[1;32m<ipython-input-103-9111f33fef64>\u001b[0m in \u001b[0;36m<module>\u001b[1;34m\u001b[0m\n\u001b[0;32m     15\u001b[0m ]\n\u001b[0;32m     16\u001b[0m \u001b[1;33m\u001b[0m\u001b[0m\n\u001b[1;32m---> 17\u001b[1;33m \u001b[0mArtista\u001b[0m \u001b[1;33m=\u001b[0m \u001b[0mstr\u001b[0m\u001b[1;33m(\u001b[0m\u001b[0mclient\u001b[0m\u001b[1;33m.\u001b[0m\u001b[0martist\u001b[0m\u001b[1;33m(\u001b[0m\u001b[1;34m'6kBDZFXuLrZgHnvmPu9NsG'\u001b[0m\u001b[1;33m)\u001b[0m\u001b[1;33m[\u001b[0m\u001b[1;34m'name'\u001b[0m\u001b[1;33m]\u001b[0m\u001b[1;33m)\u001b[0m\u001b[1;33m\u001b[0m\u001b[1;33m\u001b[0m\u001b[0m\n\u001b[0m\u001b[0;32m     18\u001b[0m \u001b[0mMusica\u001b[0m \u001b[1;33m=\u001b[0m \u001b[0mstr\u001b[0m\u001b[1;33m(\u001b[0m\u001b[0mclient\u001b[0m\u001b[1;33m.\u001b[0m\u001b[0martist_top_tracks\u001b[0m\u001b[1;33m(\u001b[0m\u001b[1;34m'6kBDZFXuLrZgHnvmPu9NsG'\u001b[0m\u001b[1;33m)\u001b[0m\u001b[1;33m[\u001b[0m\u001b[1;34m'tracks'\u001b[0m\u001b[1;33m]\u001b[0m\u001b[1;33m[\u001b[0m\u001b[1;36m0\u001b[0m\u001b[1;33m]\u001b[0m\u001b[1;33m[\u001b[0m\u001b[1;34m'name'\u001b[0m\u001b[1;33m]\u001b[0m\u001b[1;33m)\u001b[0m\u001b[1;33m\u001b[0m\u001b[1;33m\u001b[0m\u001b[0m\n\u001b[0;32m     19\u001b[0m \u001b[0mPopularidade_Artista\u001b[0m \u001b[1;33m=\u001b[0m \u001b[0mint\u001b[0m\u001b[1;33m(\u001b[0m\u001b[0mclient\u001b[0m\u001b[1;33m.\u001b[0m\u001b[0martist\u001b[0m\u001b[1;33m(\u001b[0m\u001b[1;34m'6kBDZFXuLrZgHnvmPu9NsG'\u001b[0m\u001b[1;33m)\u001b[0m\u001b[1;33m[\u001b[0m\u001b[1;34m'popularity'\u001b[0m\u001b[1;33m]\u001b[0m\u001b[1;33m)\u001b[0m\u001b[1;33m\u001b[0m\u001b[1;33m\u001b[0m\u001b[0m\n",
      "\u001b[1;32m~\\anaconda\\lib\\site-packages\\spotipy\\client.py\u001b[0m in \u001b[0;36martist\u001b[1;34m(self, artist_id)\u001b[0m\n\u001b[0;32m    364\u001b[0m \u001b[1;33m\u001b[0m\u001b[0m\n\u001b[0;32m    365\u001b[0m         \u001b[0mtrid\u001b[0m \u001b[1;33m=\u001b[0m \u001b[0mself\u001b[0m\u001b[1;33m.\u001b[0m\u001b[0m_get_id\u001b[0m\u001b[1;33m(\u001b[0m\u001b[1;34m\"artist\"\u001b[0m\u001b[1;33m,\u001b[0m \u001b[0martist_id\u001b[0m\u001b[1;33m)\u001b[0m\u001b[1;33m\u001b[0m\u001b[1;33m\u001b[0m\u001b[0m\n\u001b[1;32m--> 366\u001b[1;33m         \u001b[1;32mreturn\u001b[0m \u001b[0mself\u001b[0m\u001b[1;33m.\u001b[0m\u001b[0m_get\u001b[0m\u001b[1;33m(\u001b[0m\u001b[1;34m\"artists/\"\u001b[0m \u001b[1;33m+\u001b[0m \u001b[0mtrid\u001b[0m\u001b[1;33m)\u001b[0m\u001b[1;33m\u001b[0m\u001b[1;33m\u001b[0m\u001b[0m\n\u001b[0m\u001b[0;32m    367\u001b[0m \u001b[1;33m\u001b[0m\u001b[0m\n\u001b[0;32m    368\u001b[0m     \u001b[1;32mdef\u001b[0m \u001b[0martists\u001b[0m\u001b[1;33m(\u001b[0m\u001b[0mself\u001b[0m\u001b[1;33m,\u001b[0m \u001b[0martists\u001b[0m\u001b[1;33m)\u001b[0m\u001b[1;33m:\u001b[0m\u001b[1;33m\u001b[0m\u001b[1;33m\u001b[0m\u001b[0m\n",
      "\u001b[1;32m~\\anaconda\\lib\\site-packages\\spotipy\\client.py\u001b[0m in \u001b[0;36m_get\u001b[1;34m(self, url, args, payload, **kwargs)\u001b[0m\n\u001b[0;32m    295\u001b[0m             \u001b[0mkwargs\u001b[0m\u001b[1;33m.\u001b[0m\u001b[0mupdate\u001b[0m\u001b[1;33m(\u001b[0m\u001b[0margs\u001b[0m\u001b[1;33m)\u001b[0m\u001b[1;33m\u001b[0m\u001b[1;33m\u001b[0m\u001b[0m\n\u001b[0;32m    296\u001b[0m \u001b[1;33m\u001b[0m\u001b[0m\n\u001b[1;32m--> 297\u001b[1;33m         \u001b[1;32mreturn\u001b[0m \u001b[0mself\u001b[0m\u001b[1;33m.\u001b[0m\u001b[0m_internal_call\u001b[0m\u001b[1;33m(\u001b[0m\u001b[1;34m\"GET\"\u001b[0m\u001b[1;33m,\u001b[0m \u001b[0murl\u001b[0m\u001b[1;33m,\u001b[0m \u001b[0mpayload\u001b[0m\u001b[1;33m,\u001b[0m \u001b[0mkwargs\u001b[0m\u001b[1;33m)\u001b[0m\u001b[1;33m\u001b[0m\u001b[1;33m\u001b[0m\u001b[0m\n\u001b[0m\u001b[0;32m    298\u001b[0m \u001b[1;33m\u001b[0m\u001b[0m\n\u001b[0;32m    299\u001b[0m     \u001b[1;32mdef\u001b[0m \u001b[0m_post\u001b[0m\u001b[1;33m(\u001b[0m\u001b[0mself\u001b[0m\u001b[1;33m,\u001b[0m \u001b[0murl\u001b[0m\u001b[1;33m,\u001b[0m \u001b[0margs\u001b[0m\u001b[1;33m=\u001b[0m\u001b[1;32mNone\u001b[0m\u001b[1;33m,\u001b[0m \u001b[0mpayload\u001b[0m\u001b[1;33m=\u001b[0m\u001b[1;32mNone\u001b[0m\u001b[1;33m,\u001b[0m \u001b[1;33m**\u001b[0m\u001b[0mkwargs\u001b[0m\u001b[1;33m)\u001b[0m\u001b[1;33m:\u001b[0m\u001b[1;33m\u001b[0m\u001b[1;33m\u001b[0m\u001b[0m\n",
      "\u001b[1;32m~\\anaconda\\lib\\site-packages\\spotipy\\client.py\u001b[0m in \u001b[0;36m_internal_call\u001b[1;34m(self, method, url, payload, params)\u001b[0m\n\u001b[0;32m    238\u001b[0m \u001b[1;33m\u001b[0m\u001b[0m\n\u001b[0;32m    239\u001b[0m         \u001b[1;32mtry\u001b[0m\u001b[1;33m:\u001b[0m\u001b[1;33m\u001b[0m\u001b[1;33m\u001b[0m\u001b[0m\n\u001b[1;32m--> 240\u001b[1;33m             response = self._session.request(\n\u001b[0m\u001b[0;32m    241\u001b[0m                 \u001b[0mmethod\u001b[0m\u001b[1;33m,\u001b[0m \u001b[0murl\u001b[0m\u001b[1;33m,\u001b[0m \u001b[0mheaders\u001b[0m\u001b[1;33m=\u001b[0m\u001b[0mheaders\u001b[0m\u001b[1;33m,\u001b[0m \u001b[0mproxies\u001b[0m\u001b[1;33m=\u001b[0m\u001b[0mself\u001b[0m\u001b[1;33m.\u001b[0m\u001b[0mproxies\u001b[0m\u001b[1;33m,\u001b[0m\u001b[1;33m\u001b[0m\u001b[1;33m\u001b[0m\u001b[0m\n\u001b[0;32m    242\u001b[0m                 \u001b[0mtimeout\u001b[0m\u001b[1;33m=\u001b[0m\u001b[0mself\u001b[0m\u001b[1;33m.\u001b[0m\u001b[0mrequests_timeout\u001b[0m\u001b[1;33m,\u001b[0m \u001b[1;33m**\u001b[0m\u001b[0margs\u001b[0m\u001b[1;33m\u001b[0m\u001b[1;33m\u001b[0m\u001b[0m\n",
      "\u001b[1;32m~\\anaconda\\lib\\site-packages\\requests\\sessions.py\u001b[0m in \u001b[0;36mrequest\u001b[1;34m(self, method, url, params, data, headers, cookies, files, auth, timeout, allow_redirects, proxies, hooks, stream, verify, cert, json)\u001b[0m\n\u001b[0;32m    540\u001b[0m         }\n\u001b[0;32m    541\u001b[0m         \u001b[0msend_kwargs\u001b[0m\u001b[1;33m.\u001b[0m\u001b[0mupdate\u001b[0m\u001b[1;33m(\u001b[0m\u001b[0msettings\u001b[0m\u001b[1;33m)\u001b[0m\u001b[1;33m\u001b[0m\u001b[1;33m\u001b[0m\u001b[0m\n\u001b[1;32m--> 542\u001b[1;33m         \u001b[0mresp\u001b[0m \u001b[1;33m=\u001b[0m \u001b[0mself\u001b[0m\u001b[1;33m.\u001b[0m\u001b[0msend\u001b[0m\u001b[1;33m(\u001b[0m\u001b[0mprep\u001b[0m\u001b[1;33m,\u001b[0m \u001b[1;33m**\u001b[0m\u001b[0msend_kwargs\u001b[0m\u001b[1;33m)\u001b[0m\u001b[1;33m\u001b[0m\u001b[1;33m\u001b[0m\u001b[0m\n\u001b[0m\u001b[0;32m    543\u001b[0m \u001b[1;33m\u001b[0m\u001b[0m\n\u001b[0;32m    544\u001b[0m         \u001b[1;32mreturn\u001b[0m \u001b[0mresp\u001b[0m\u001b[1;33m\u001b[0m\u001b[1;33m\u001b[0m\u001b[0m\n",
      "\u001b[1;32m~\\anaconda\\lib\\site-packages\\requests\\sessions.py\u001b[0m in \u001b[0;36msend\u001b[1;34m(self, request, **kwargs)\u001b[0m\n\u001b[0;32m    653\u001b[0m \u001b[1;33m\u001b[0m\u001b[0m\n\u001b[0;32m    654\u001b[0m         \u001b[1;31m# Send the request\u001b[0m\u001b[1;33m\u001b[0m\u001b[1;33m\u001b[0m\u001b[1;33m\u001b[0m\u001b[0m\n\u001b[1;32m--> 655\u001b[1;33m         \u001b[0mr\u001b[0m \u001b[1;33m=\u001b[0m \u001b[0madapter\u001b[0m\u001b[1;33m.\u001b[0m\u001b[0msend\u001b[0m\u001b[1;33m(\u001b[0m\u001b[0mrequest\u001b[0m\u001b[1;33m,\u001b[0m \u001b[1;33m**\u001b[0m\u001b[0mkwargs\u001b[0m\u001b[1;33m)\u001b[0m\u001b[1;33m\u001b[0m\u001b[1;33m\u001b[0m\u001b[0m\n\u001b[0m\u001b[0;32m    656\u001b[0m \u001b[1;33m\u001b[0m\u001b[0m\n\u001b[0;32m    657\u001b[0m         \u001b[1;31m# Total elapsed time of the request (approximately)\u001b[0m\u001b[1;33m\u001b[0m\u001b[1;33m\u001b[0m\u001b[1;33m\u001b[0m\u001b[0m\n",
      "\u001b[1;32m~\\anaconda\\lib\\site-packages\\requests\\adapters.py\u001b[0m in \u001b[0;36msend\u001b[1;34m(self, request, stream, timeout, verify, cert, proxies)\u001b[0m\n\u001b[0;32m    527\u001b[0m                 \u001b[1;32mraise\u001b[0m \u001b[0mSSLError\u001b[0m\u001b[1;33m(\u001b[0m\u001b[0me\u001b[0m\u001b[1;33m,\u001b[0m \u001b[0mrequest\u001b[0m\u001b[1;33m=\u001b[0m\u001b[0mrequest\u001b[0m\u001b[1;33m)\u001b[0m\u001b[1;33m\u001b[0m\u001b[1;33m\u001b[0m\u001b[0m\n\u001b[0;32m    528\u001b[0m             \u001b[1;32melif\u001b[0m \u001b[0misinstance\u001b[0m\u001b[1;33m(\u001b[0m\u001b[0me\u001b[0m\u001b[1;33m,\u001b[0m \u001b[0mReadTimeoutError\u001b[0m\u001b[1;33m)\u001b[0m\u001b[1;33m:\u001b[0m\u001b[1;33m\u001b[0m\u001b[1;33m\u001b[0m\u001b[0m\n\u001b[1;32m--> 529\u001b[1;33m                 \u001b[1;32mraise\u001b[0m \u001b[0mReadTimeout\u001b[0m\u001b[1;33m(\u001b[0m\u001b[0me\u001b[0m\u001b[1;33m,\u001b[0m \u001b[0mrequest\u001b[0m\u001b[1;33m=\u001b[0m\u001b[0mrequest\u001b[0m\u001b[1;33m)\u001b[0m\u001b[1;33m\u001b[0m\u001b[1;33m\u001b[0m\u001b[0m\n\u001b[0m\u001b[0;32m    530\u001b[0m             \u001b[1;32melse\u001b[0m\u001b[1;33m:\u001b[0m\u001b[1;33m\u001b[0m\u001b[1;33m\u001b[0m\u001b[0m\n\u001b[0;32m    531\u001b[0m                 \u001b[1;32mraise\u001b[0m\u001b[1;33m\u001b[0m\u001b[1;33m\u001b[0m\u001b[0m\n",
      "\u001b[1;31mReadTimeout\u001b[0m: HTTPSConnectionPool(host='api.spotify.com', port=443): Read timed out. (read timeout=5)"
     ]
    }
   ],
>>>>>>> Stashed changes
   "source": [
    "# Extrair as audio features das 10 maiores faixas de cada artista na lista de clientes.\n",
    "# - NOME CLIENTE (String)\n",
    "# - NOME FAIXA (String)\n",
    "# - POPULARIDADE ARTISTA (Integer)\n",
    "# - POPULARIDADE FAIXA (Integer)\n",
    "# - DANCEABILITY (Float)\n",
    "# - ENERGY (Float)\n",
    "# - TEMPO (Float)\n",
    "# - DURAÇÃO em MINUTOS (Float)\n",
    "\n",
    "lista_clientes = [\n",
    "    '6kBDZFXuLrZgHnvmPu9NsG',\n",
    "    '2VAvhf61GgLYmC6C8anyX1',\n",
    "    '7AiamoV760pPGGM5PbOC6X'\n",
    "]\n",
    "\n",
<<<<<<< Updated upstream
    "nome = []\n",
    "pop_cliente_l = []\n",
    "danc_l = []\n",
    "energy_l =[]\n",
    "tempo_l = []\n",
    "dur_l = []\n",
    "nome_faixa_l = []\n",
    "pop_faixa_l = []\n",
    "\n",
    "for cliente in lista_clientes:\n",
    "    \n",
    "    dados_cliente = client.artist(cliente)\n",
    "    nome_cliente = dados_cliente['name']\n",
    "    pop_cliente = dados_cliente['popularity']\n",
    "    top_tracks = client.artist_top_tracks(cliente)['tracks']\n",
    "    lista_musicas = [(musica['uri'], musica['name'], musica['popularity'])\n",
    "                     for musica in top_tracks]\n",
    "    \n",
    "    for musica in lista_musicas:\n",
    "        audio_features = client.audio_features(musica[0])[0]\n",
    "        \n",
    "        danc = audio_features['danceability']\n",
    "        energy = audio_features['energy']\n",
    "        tempo = audio_features['tempo']\n",
    "        dur = audio_features['duration_ms']/60000\n",
    "        nome_faixa_l.append(musica[1])\n",
    "        pop_faixa_l.append(musica[2])\n",
    "        nome.append(nome_cliente)\n",
    "        pop_cliente_l.append(pop_cliente)\n",
    "        danc_l.append(danc)\n",
    "        energy_l.append(energy)\n",
    "        tempo_l.append(tempo)\n",
    "        dur_l.append(dur)"
=======
    "Artista = str(client.artist('6kBDZFXuLrZgHnvmPu9NsG')['name'])\n",
    "Musica = str(client.artist_top_tracks('6kBDZFXuLrZgHnvmPu9NsG')['tracks'][0]['name'])\n",
    "Popularidade_Artista = int(client.artist('6kBDZFXuLrZgHnvmPu9NsG')['popularity'])\n",
    "Popularidade_Musica = int(client.artist_top_tracks('6kBDZFXuLrZgHnvmPu9NsG')['tracks'][0]['popularity'])\n",
    "Duração = float(((client.artist_top_tracks('6kBDZFXuLrZgHnvmPu9NsG')['tracks'][0]['duration_ms']/1000)/60))\n"
>>>>>>> Stashed changes
   ]
  },
  {
   "cell_type": "code",
<<<<<<< Updated upstream
   "execution_count": 118,
   "metadata": {
    "ExecuteTime": {
     "end_time": "2022-01-21T01:20:00.184254Z",
     "start_time": "2022-01-21T01:20:00.174277Z"
    }
   },
   "outputs": [
    {
     "data": {
      "text/plain": [
       "[2.092,\n",
       " 4.895866666666667,\n",
       " 5.179116666666666,\n",
       " 7.738216666666666,\n",
       " 5.38645,\n",
       " 5.3646666666666665,\n",
       " 6.14,\n",
       " 3.800883333333333,\n",
       " 2.95155,\n",
       " 2.95445,\n",
       " 2.525333333333333,\n",
       " 1.52845,\n",
       " 5.003116666666667,\n",
       " 5.415116666666667,\n",
       " 1.26045,\n",
       " 7.06555,\n",
       " 6.124666666666666,\n",
       " 5.968,\n",
       " 4.341116666666666,\n",
       " 5.131333333333333,\n",
       " 6.372883333333333,\n",
       " 5.2522166666666665,\n",
       " 4.122883333333333,\n",
       " 3.3322166666666666,\n",
       " 4.6776333333333335,\n",
       " 4.687166666666666,\n",
       " 6.11285,\n",
       " 3.1965666666666666,\n",
       " 3.68555,\n",
       " 6.486416666666667]"
      ]
     },
     "execution_count": 118,
     "metadata": {},
     "output_type": "execute_result"
    }
   ],
   "source": [
    "dur_l"
   ]
  },
  {
   "cell_type": "code",
   "execution_count": 78,
   "metadata": {
    "ExecuteTime": {
     "end_time": "2022-01-21T01:00:31.198410Z",
     "start_time": "2022-01-21T01:00:31.007913Z"
    }
   },
   "outputs": [
    {
     "name": "stdout",
     "output_type": "stream",
     "text": [
      "Aphex Twin\n",
      "65\n"
     ]
    }
   ],
   "source": [
    "aa = client.artist('6kBDZFXuLrZgHnvmPu9NsG')\n",
    "print(aa['name'])\n",
    "print(aa['popularity'])"
   ]
  },
  {
   "cell_type": "code",
   "execution_count": 94,
   "metadata": {
    "ExecuteTime": {
     "end_time": "2022-01-21T01:06:00.250408Z",
     "start_time": "2022-01-21T01:06:00.047138Z"
    }
   },
   "outputs": [],
   "source": [
    "bb = client.artist_top_tracks('6kBDZFXuLrZgHnvmPu9NsG')"
   ]
  },
  {
   "cell_type": "code",
   "execution_count": 95,
   "metadata": {
    "ExecuteTime": {
     "end_time": "2022-01-21T01:06:03.009265Z",
     "start_time": "2022-01-21T01:06:02.997299Z"
    }
   },
   "outputs": [
    {
     "data": {
      "text/plain": [
       "dict_keys(['tracks'])"
      ]
     },
     "execution_count": 95,
     "metadata": {},
     "output_type": "execute_result"
    }
   ],
   "source": [
    "bb.keys()"
   ]
  },
  {
   "cell_type": "code",
   "execution_count": 96,
   "metadata": {
    "ExecuteTime": {
     "end_time": "2022-01-21T01:06:09.362098Z",
     "start_time": "2022-01-21T01:06:09.348135Z"
    }
   },
   "outputs": [
    {
     "data": {
      "text/plain": [
       "list"
      ]
     },
     "execution_count": 96,
     "metadata": {},
     "output_type": "execute_result"
    }
   ],
   "source": [
    "type(bb['tracks'])"
   ]
  },
  {
   "cell_type": "code",
   "execution_count": 99,
   "metadata": {
    "ExecuteTime": {
     "end_time": "2022-01-21T01:07:03.014150Z",
     "start_time": "2022-01-21T01:07:02.999162Z"
    }
   },
   "outputs": [
    {
     "data": {
      "text/plain": [
       "10"
      ]
     },
     "execution_count": 99,
     "metadata": {},
     "output_type": "execute_result"
    }
   ],
   "source": [
    "len(bb['tracks'])"
   ]
  },
  {
   "cell_type": "code",
   "execution_count": 103,
   "metadata": {
    "ExecuteTime": {
     "end_time": "2022-01-21T01:07:21.275243Z",
     "start_time": "2022-01-21T01:07:21.252305Z"
    }
   },
   "outputs": [
    {
     "data": {
      "text/plain": [
       "{'album': {'album_type': 'album',\n",
       "  'artists': [{'external_urls': {'spotify': 'https://open.spotify.com/artist/6kBDZFXuLrZgHnvmPu9NsG'},\n",
       "    'href': 'https://api.spotify.com/v1/artists/6kBDZFXuLrZgHnvmPu9NsG',\n",
       "    'id': '6kBDZFXuLrZgHnvmPu9NsG',\n",
       "    'name': 'Aphex Twin',\n",
       "    'type': 'artist',\n",
       "    'uri': 'spotify:artist:6kBDZFXuLrZgHnvmPu9NsG'}],\n",
       "  'external_urls': {'spotify': 'https://open.spotify.com/album/7aNclGRxTysfh6z0d8671k'},\n",
       "  'href': 'https://api.spotify.com/v1/albums/7aNclGRxTysfh6z0d8671k',\n",
       "  'id': '7aNclGRxTysfh6z0d8671k',\n",
       "  'images': [{'height': 640,\n",
       "    'url': 'https://i.scdn.co/image/ab67616d0000b27338906032688bb13b135ce19a',\n",
       "    'width': 640},\n",
       "   {'height': 300,\n",
       "    'url': 'https://i.scdn.co/image/ab67616d00001e0238906032688bb13b135ce19a',\n",
       "    'width': 300},\n",
       "   {'height': 64,\n",
       "    'url': 'https://i.scdn.co/image/ab67616d0000485138906032688bb13b135ce19a',\n",
       "    'width': 64}],\n",
       "  'name': 'Selected Ambient Works 85-92',\n",
       "  'release_date': '1992-02-10',\n",
       "  'release_date_precision': 'day',\n",
       "  'total_tracks': 13,\n",
       "  'type': 'album',\n",
       "  'uri': 'spotify:album:7aNclGRxTysfh6z0d8671k'},\n",
       " 'artists': [{'external_urls': {'spotify': 'https://open.spotify.com/artist/6kBDZFXuLrZgHnvmPu9NsG'},\n",
       "   'href': 'https://api.spotify.com/v1/artists/6kBDZFXuLrZgHnvmPu9NsG',\n",
       "   'id': '6kBDZFXuLrZgHnvmPu9NsG',\n",
       "   'name': 'Aphex Twin',\n",
       "   'type': 'artist',\n",
       "   'uri': 'spotify:artist:6kBDZFXuLrZgHnvmPu9NsG'}],\n",
       " 'disc_number': 1,\n",
       " 'duration_ms': 293751,\n",
       " 'explicit': False,\n",
       " 'external_ids': {'isrc': 'BEZ350800022'},\n",
       " 'external_urls': {'spotify': 'https://open.spotify.com/track/7o2AeQZzfCERsRmOM86EcB'},\n",
       " 'href': 'https://api.spotify.com/v1/tracks/7o2AeQZzfCERsRmOM86EcB',\n",
       " 'id': '7o2AeQZzfCERsRmOM86EcB',\n",
       " 'is_local': False,\n",
       " 'is_playable': True,\n",
       " 'name': 'Xtal',\n",
       " 'popularity': 62,\n",
       " 'preview_url': 'https://p.scdn.co/mp3-preview/8691f6920f0781c46e42b2914ef771e648c3e1f5?cid=cd9cd1ff2710474993b146e14b5e2612',\n",
       " 'track_number': 1,\n",
       " 'type': 'track',\n",
       " 'uri': 'spotify:track:7o2AeQZzfCERsRmOM86EcB'}"
      ]
     },
     "execution_count": 103,
     "metadata": {},
     "output_type": "execute_result"
    }
   ],
   "source": [
    "bb['tracks'][1]"
   ]
  },
  {
   "cell_type": "code",
=======
>>>>>>> Stashed changes
   "execution_count": null,
   "metadata": {},
   "outputs": [],
   "source": []
  }
 ],
 "metadata": {
  "hide_input": false,
  "kernelspec": {
   "display_name": "Python 3",
   "language": "python",
   "name": "python3"
  },
  "language_info": {
   "codemirror_mode": {
    "name": "ipython",
    "version": 3
   },
   "file_extension": ".py",
   "mimetype": "text/x-python",
   "name": "python",
   "nbconvert_exporter": "python",
   "pygments_lexer": "ipython3",
   "version": "3.8.8"
  },
  "toc": {
   "base_numbering": 1,
   "nav_menu": {},
   "number_sections": true,
   "sideBar": true,
   "skip_h1_title": false,
   "title_cell": "Table of Contents",
   "title_sidebar": "Contents",
   "toc_cell": false,
   "toc_position": {},
   "toc_section_display": true,
   "toc_window_display": false
  },
  "varInspector": {
   "cols": {
    "lenName": 16,
    "lenType": 16,
    "lenVar": 40
   },
   "kernels_config": {
    "python": {
     "delete_cmd_postfix": "",
     "delete_cmd_prefix": "del ",
     "library": "var_list.py",
     "varRefreshCmd": "print(var_dic_list())"
    },
    "r": {
     "delete_cmd_postfix": ") ",
     "delete_cmd_prefix": "rm(",
     "library": "var_list.r",
     "varRefreshCmd": "cat(var_dic_list()) "
    }
   },
   "types_to_exclude": [
    "module",
    "function",
    "builtin_function_or_method",
    "instance",
    "_Feature"
   ],
   "window_display": false
  }
 },
 "nbformat": 4,
 "nbformat_minor": 4
}
