{
 "cells": [
  {
   "cell_type": "markdown",
   "metadata": {},
   "source": [
    "# Pandas"
   ]
  },
  {
   "cell_type": "code",
   "execution_count": null,
   "metadata": {
    "ExecuteTime": {
     "end_time": "2020-07-29T17:24:50.635718Z",
     "start_time": "2020-07-29T17:24:47.808592Z"
    }
   },
   "outputs": [],
   "source": [
    "!pip install pandas \n",
    "\n",
    "# import sys\n",
    "# sys.executable\n",
    "# ! path/to/python -m pip install pandas"
   ]
  },
  {
   "cell_type": "code",
   "execution_count": null,
   "metadata": {
    "ExecuteTime": {
     "end_time": "2021-11-30T22:09:54.266930Z",
     "start_time": "2021-11-30T22:09:51.604535Z"
    }
   },
   "outputs": [],
   "source": [
    "%%capture\n",
    "!pip install jupyter_contrib_nbextensions;"
   ]
  },
  {
   "cell_type": "code",
   "execution_count": null,
   "metadata": {
    "ExecuteTime": {
     "end_time": "2021-11-30T22:09:14.846052Z",
     "start_time": "2021-11-30T22:09:12.827792Z"
    }
   },
   "outputs": [],
   "source": [
    "%%capture\n",
    "!jupyter contrib nbextension install;"
   ]
  },
  {
   "cell_type": "code",
   "execution_count": null,
   "metadata": {
    "ExecuteTime": {
     "end_time": "2021-11-30T22:12:57.814049Z",
     "start_time": "2021-11-30T22:12:57.659413Z"
    }
   },
   "outputs": [],
   "source": [
    "%%capture\n",
    "!jupyter install jupyterthemes"
   ]
  },
  {
   "cell_type": "code",
   "execution_count": null,
   "metadata": {
    "ExecuteTime": {
     "end_time": "2021-11-30T22:17:10.059245Z",
     "start_time": "2021-11-30T22:17:09.697992Z"
    }
   },
   "outputs": [],
   "source": [
    "!jt -l"
   ]
  },
  {
   "cell_type": "code",
   "execution_count": null,
   "metadata": {
    "ExecuteTime": {
     "end_time": "2021-11-30T22:18:26.939172Z",
     "start_time": "2021-11-30T22:18:25.815101Z"
    }
   },
   "outputs": [],
   "source": [
    "!jt -t monokai"
   ]
  },
  {
   "cell_type": "code",
   "execution_count": null,
   "metadata": {
    "ExecuteTime": {
     "end_time": "2021-11-30T22:09:22.652001Z",
     "start_time": "2021-11-30T22:09:22.291935Z"
    }
   },
   "outputs": [],
   "source": [
    "%%capture\n",
    "!jupyter nbextension enable codefolding/main;"
   ]
  },
  {
   "cell_type": "code",
   "execution_count": null,
   "metadata": {
    "ExecuteTime": {
     "end_time": "2020-07-30T22:55:47.291355Z",
     "start_time": "2020-07-30T22:55:47.288357Z"
    }
   },
   "outputs": [],
   "source": [
    "import numpy as np\n",
    "import pandas as pd"
   ]
  },
  {
   "cell_type": "markdown",
   "metadata": {},
   "source": [
    "# What is Pandas?\n",
    "\n",
    "Pandas can be thought as an enhanced version of numpy arrays. In this case, the rows and columns can be identified with labels instead of just simple integer indices.\n",
    "\n",
    "\n",
    "* [Documentation](https://pandas.pydata.org/docs/reference/index.html#api)\n",
    "* [GitHub](https://github.com/pandas-dev/pandas/blob/master/pandas/core/base.py)\n",
    "\n",
    "There are **three** main pandas elements we **need** to understand.\n",
    "1. Pandas Series\n",
    "2. Pandas DataFrame\n",
    "3. Index\n",
    "----"
   ]
  },
  {
   "cell_type": "markdown",
   "metadata": {},
   "source": [
    "# 1. The Pandas Series"
   ]
  },
  {
   "cell_type": "markdown",
   "metadata": {},
   "source": [
    "**The primary building block of Pandas**. A pandas series is a one-dimensional (**1-D**) indexed array."
   ]
  },
  {
   "cell_type": "code",
   "execution_count": null,
   "metadata": {
    "ExecuteTime": {
     "end_time": "2020-07-30T00:29:02.691159Z",
     "start_time": "2020-07-30T00:29:02.687159Z"
    }
   },
   "outputs": [],
   "source": [
    "import pandas as pd\n",
    "#from pandas import Series"
   ]
  },
  {
   "cell_type": "code",
   "execution_count": null,
   "metadata": {},
   "outputs": [],
   "source": [
    "type(pd.Series)"
   ]
  },
  {
   "cell_type": "code",
   "execution_count": null,
   "metadata": {},
   "outputs": [],
   "source": [
    "pd.Series"
   ]
  },
  {
   "cell_type": "code",
   "execution_count": null,
   "metadata": {},
   "outputs": [],
   "source": [
    "pd.Series(dtype='int')"
   ]
  },
  {
   "cell_type": "markdown",
   "metadata": {},
   "source": [
    "## 1.1 Creating a Pandas Series"
   ]
  },
  {
   "cell_type": "code",
   "execution_count": null,
   "metadata": {
    "ExecuteTime": {
     "end_time": "2020-07-30T00:29:25.337423Z",
     "start_time": "2020-07-30T00:29:25.332456Z"
    }
   },
   "outputs": [],
   "source": [
    "# From a list\n",
    "values = [1, 2, 3, 4]\n",
    "series1 = pd.Series(values)\n",
    "print(series1)"
   ]
  },
  {
   "cell_type": "code",
   "execution_count": null,
   "metadata": {},
   "outputs": [],
   "source": [
    "nome_linhas = ['I', 'II', 'III', 'IV']\n",
    "\n",
    "series2 = pd.Series(data = values, \n",
    "                    index = nome_linhas)\n",
    "\n",
    "print(series2)"
   ]
  },
  {
   "cell_type": "code",
   "execution_count": null,
   "metadata": {},
   "outputs": [],
   "source": [
    "nome_linhas = [['I', 'II'], 'II', 'III', 'IV']\n",
    "series2 = pd.Series(data = values, \n",
    "                    index = nome_linhas)\n",
    "print(series2)"
   ]
  },
  {
   "cell_type": "code",
   "execution_count": null,
   "metadata": {},
   "outputs": [],
   "source": [
    "# From a dict\n",
    "\n",
    "dict_notas = dict({'Titanic' : 7.8,\n",
    "                  'Dune' : 8.2,\n",
    "                  'Dune (David Lynch)' : 6.4,\n",
    "                  'House of Gucci' : 7.0,\n",
    "                  'Joker' : 8.4,\n",
    "                  'Alien' : 8.4})\n",
    "notas_imdb = pd.Series(dict_notas, name = 'nota_imdb')\n",
    "print(notas_imdb)"
   ]
  },
  {
   "cell_type": "code",
   "execution_count": null,
   "metadata": {},
   "outputs": [],
   "source": [
    "# From a dict\n",
    "\n",
    "dict_notas = dict({'Titanic' : 7.8,\n",
    "                  'Dune' : 8.2,\n",
    "                  'Dune (David Lynch)' : 6.4,\n",
    "                  'House of Gucci' : 7.0,\n",
    "                  'Joker' : 8.4,\n",
    "                  'Alien' : 8.4})\n",
    "nomes_errados = ['Dune', 'Dune DL', 'Titanic', 'Coringa', 'Gucci']\n",
    "\n",
    "pd.Series(dict_notas, index = nomes_errados, name = 'nota_imdb')"
   ]
  },
  {
   "cell_type": "code",
   "execution_count": null,
   "metadata": {},
   "outputs": [],
   "source": [
    "dict_cast = dict({'Titanic' : ['Kate Winslet', 'Leonardo DiCaprio'],\n",
    "                  'Dune' : ['Timothée Chalamet', 'Zendaya'],\n",
    "                  'Dune (David Lynch)' : ['Sting'],\n",
    "                  'House of Gucci' : ['Lady Gaga', 'Adam Driver', 'Al Pacino'],\n",
    "                  'Joker' : ['Joaquin Phoenix'],\n",
    "                  'Alien' : ['Sigourney Weaver', 'Ian Holm'],\n",
    "                  'Aliens' : ['Sigourney Weaver', 'Paul Reiser']})\n",
    "\n",
    "elenco = pd.Series(dict_cast, name = 'elenco')\n",
    "print(elenco)"
   ]
  },
  {
   "cell_type": "code",
   "execution_count": null,
   "metadata": {},
   "outputs": [],
   "source": [
    "dict_diretor = dict({'Titanic' : 'James Cameron',\n",
    "                     'Dune' : 'Denis Villeneuve',\n",
    "                     'Dune (David Lynch)' : 'David Lynch',\n",
    "                     'House of Gucci' : 'Ridley Scott',\n",
    "                     'Joker' : 'Todd Phillips',\n",
    "                     'Alien' : 'Ridley Scott',\n",
    "                     'Aliens' : 'James Cameron'})\n",
    "diretor = pd.Series(dict_diretor, name = 'diretor')\n",
    "#diretor = pd.Series(dict_diretor, name = 'diretor', dtype = pd.StringDtype())\n",
    "print(diretor)"
   ]
  },
  {
   "cell_type": "markdown",
   "metadata": {},
   "source": [
    "## 1.2 Some methods and attributes\n",
    "* Check Type\n",
    "* Check Size\n",
    "* `.describe()`\n",
    "* `.values`\n",
    "* `.index`"
   ]
  },
  {
   "cell_type": "code",
   "execution_count": null,
   "metadata": {},
   "outputs": [],
   "source": [
    "print(type(notas_imdb))"
   ]
  },
  {
   "cell_type": "markdown",
   "metadata": {},
   "source": [
    "So, the `type` of `data` is a `pandas...Series` and the types of the data inside the `pandas.Series` is `float64`"
   ]
  },
  {
   "cell_type": "code",
   "execution_count": null,
   "metadata": {},
   "outputs": [],
   "source": [
    "print(notas_imdb)"
   ]
  },
  {
   "cell_type": "markdown",
   "metadata": {},
   "source": [
    "When you see `dtype: object`, it usually means you have a `str` inside your `Series` - you should always work to specify string `Series` as a `pd.StringDtype()`!"
   ]
  },
  {
   "cell_type": "code",
   "execution_count": null,
   "metadata": {},
   "outputs": [],
   "source": [
    "print(len(notas_imdb))"
   ]
  },
  {
   "cell_type": "code",
   "execution_count": null,
   "metadata": {},
   "outputs": [],
   "source": [
    "print(notas_imdb.describe())"
   ]
  },
  {
   "cell_type": "code",
   "execution_count": null,
   "metadata": {},
   "outputs": [],
   "source": [
    "print(elenco.describe())"
   ]
  },
  {
   "cell_type": "code",
   "execution_count": null,
   "metadata": {},
   "outputs": [],
   "source": [
    "print(diretor.describe())"
   ]
  },
  {
   "cell_type": "code",
   "execution_count": null,
   "metadata": {},
   "outputs": [],
   "source": [
    "print(notas_imdb.values)"
   ]
  },
  {
   "cell_type": "code",
   "execution_count": null,
   "metadata": {},
   "outputs": [],
   "source": []
  },
  {
   "cell_type": "code",
   "execution_count": null,
   "metadata": {},
   "outputs": [],
   "source": [
    "print(notas_imdb.index)"
   ]
  },
  {
   "cell_type": "code",
   "execution_count": null,
   "metadata": {},
   "outputs": [],
   "source": [
    "type(notas_imdb.index)"
   ]
  },
  {
   "cell_type": "code",
   "execution_count": null,
   "metadata": {},
   "outputs": [],
   "source": []
  },
  {
   "cell_type": "markdown",
   "metadata": {},
   "source": [
    "## 1.3 Accessing elements \n",
    "\n",
    "Can be done like a numpy array. "
   ]
  },
  {
   "cell_type": "code",
   "execution_count": null,
   "metadata": {},
   "outputs": [],
   "source": [
    "notas_imdb[1]"
   ]
  },
  {
   "cell_type": "code",
   "execution_count": null,
   "metadata": {},
   "outputs": [],
   "source": [
    "notas_imdb[1:]"
   ]
  },
  {
   "cell_type": "code",
   "execution_count": null,
   "metadata": {},
   "outputs": [],
   "source": [
    "notas_imdb['Dune']"
   ]
  },
  {
   "cell_type": "code",
   "execution_count": null,
   "metadata": {},
   "outputs": [],
   "source": [
    "notas_imdb.iloc[1] == notas_imdb['Dune'] == notas_imdb[1]"
   ]
  },
  {
   "cell_type": "markdown",
   "metadata": {},
   "source": [
    "# 2. The Pandas DataFrame\n"
   ]
  },
  {
   "cell_type": "markdown",
   "metadata": {},
   "source": [
    "Pandas DataFrame can be thought as\n",
    "* A group of Pandas Series\n",
    "* A generalization of **2-D** numpy arrays (However, again, they bring flexibility on both the indices and column names)\n",
    "* A tabular, spreadsheet-like data structure"
   ]
  },
  {
   "cell_type": "code",
   "execution_count": null,
   "metadata": {
    "ExecuteTime": {
     "end_time": "2020-07-30T00:48:52.203321Z",
     "start_time": "2020-07-30T00:48:52.198318Z"
    }
   },
   "outputs": [],
   "source": [
    "pd.DataFrame"
   ]
  },
  {
   "cell_type": "code",
   "execution_count": null,
   "metadata": {},
   "outputs": [],
   "source": [
    "type(pd.DataFrame)"
   ]
  },
  {
   "cell_type": "code",
   "execution_count": null,
   "metadata": {},
   "outputs": [],
   "source": [
    "pd.DataFrame()"
   ]
  },
  {
   "cell_type": "markdown",
   "metadata": {},
   "source": [
    "## 2.1 Creating a Pandas DataFrame\n",
    "* From a .csv, excel, query, json, from an API...\n",
    "Today we'll check how to create from a 1-D array, 2-D array and from a dictionary"
   ]
  },
  {
   "cell_type": "code",
   "execution_count": null,
   "metadata": {},
   "outputs": [],
   "source": [
    "dict_series = {'notas' : notas_imdb,\n",
    "               'elenco' : elenco,\n",
    "               'diretor' : diretor}\n",
    "pd.DataFrame(dict_series)"
   ]
  },
  {
   "cell_type": "code",
   "execution_count": null,
   "metadata": {},
   "outputs": [],
   "source": [
    "dict_dicts = {'notas' : dict_notas,\n",
    "              'elenco' : dict_cast,\n",
    "              'diretor' : dict_diretor}\n",
    "pd.DataFrame(dict_dicts)"
   ]
  },
  {
   "cell_type": "code",
   "execution_count": null,
   "metadata": {},
   "outputs": [],
   "source": [
    "lista_notas = list(dict_notas.values())\n",
    "lista_elenco = list(dict_cast.values())\n",
    "lista_diretor = list(dict_diretor.values())\n",
    "print(lista_notas)"
   ]
  },
  {
   "cell_type": "code",
   "execution_count": null,
   "metadata": {},
   "outputs": [],
   "source": [
    "print(lista_elenco)"
   ]
  },
  {
   "cell_type": "code",
   "execution_count": null,
   "metadata": {},
   "outputs": [],
   "source": [
    "print(lista_diretor)"
   ]
  },
  {
   "cell_type": "code",
   "execution_count": null,
   "metadata": {},
   "outputs": [],
   "source": [
    "dict_listas = {'notas' : lista_notas,\n",
    "               'elenco' : lista_elenco,\n",
    "               'diretor' : lista_diretor}\n",
    "pd.DataFrame(dict_listas)"
   ]
  },
  {
   "cell_type": "code",
   "execution_count": null,
   "metadata": {},
   "outputs": [],
   "source": [
    "dict_listas = {'elenco' : lista_elenco,\n",
    "               'diretor' : lista_diretor}\n",
    "pd.DataFrame(dict_listas)"
   ]
  },
  {
   "cell_type": "markdown",
   "metadata": {},
   "source": [
    "## 2.2 Some methods and attributes\n",
    "* `describe()`\n",
    "* `info()`\n",
    "* `transpose()`"
   ]
  },
  {
   "cell_type": "code",
   "execution_count": null,
   "metadata": {},
   "outputs": [],
   "source": [
    "tb_filmes = pd.DataFrame(dict_series)\n",
    "tb_filmes"
   ]
  },
  {
   "cell_type": "code",
   "execution_count": null,
   "metadata": {},
   "outputs": [],
   "source": [
    "tb_filmes.describe()"
   ]
  },
  {
   "cell_type": "code",
   "execution_count": null,
   "metadata": {},
   "outputs": [],
   "source": [
    "tb_filmes.describe(percentiles = [0.01, 0.99])"
   ]
  },
  {
   "cell_type": "code",
   "execution_count": null,
   "metadata": {},
   "outputs": [],
   "source": [
    "tb_filmes.info()"
   ]
  },
  {
   "cell_type": "code",
   "execution_count": null,
   "metadata": {},
   "outputs": [],
   "source": [
    "tb_filmes.transpose()"
   ]
  },
  {
   "cell_type": "markdown",
   "metadata": {},
   "source": [
    "## 2.3 Accessing elements \n",
    "\n",
    "These are the correct way to access data in a dataframe. You can specify both row and column. You can also specify only row."
   ]
  },
  {
   "cell_type": "markdown",
   "metadata": {
    "ExecuteTime": {
     "end_time": "2020-07-29T17:52:37.678499Z",
     "start_time": "2020-07-29T17:52:37.676498Z"
    }
   },
   "source": [
    "`dataframe.loc[row_name, col_name]`"
   ]
  },
  {
   "cell_type": "code",
   "execution_count": null,
   "metadata": {},
   "outputs": [],
   "source": [
    "tb_filmes.loc['Alien', 'notas']"
   ]
  },
  {
   "cell_type": "code",
   "execution_count": null,
   "metadata": {},
   "outputs": [],
   "source": [
    "tb_filmes.loc['Alien', :]"
   ]
  },
  {
   "cell_type": "code",
   "execution_count": null,
   "metadata": {},
   "outputs": [],
   "source": [
    "tb_filmes.loc[:, 'notas']"
   ]
  },
  {
   "cell_type": "code",
   "execution_count": null,
   "metadata": {},
   "outputs": [],
   "source": [
    "tb_filmes.loc[['Alien', 'Aliens'], :]"
   ]
  },
  {
   "cell_type": "code",
   "execution_count": null,
   "metadata": {},
   "outputs": [],
   "source": [
    "tb_filmes.loc['Alien':'Dune', :]"
   ]
  },
  {
   "cell_type": "code",
   "execution_count": null,
   "metadata": {},
   "outputs": [],
   "source": [
    "tb_filmes.loc['Alien':'Dune', 'notas':'elenco']"
   ]
  },
  {
   "cell_type": "code",
   "execution_count": null,
   "metadata": {},
   "outputs": [],
   "source": [
    "tb_filmes.loc[['Alien', 'Titanic'], 1]"
   ]
  },
  {
   "cell_type": "markdown",
   "metadata": {},
   "source": [
    "`dataframe.iloc[row_number, col_number]`"
   ]
  },
  {
   "cell_type": "code",
   "execution_count": null,
   "metadata": {
    "ExecuteTime": {
     "end_time": "2020-07-30T01:22:42.062239Z",
     "start_time": "2020-07-30T01:22:42.059242Z"
    }
   },
   "outputs": [],
   "source": [
    "tb_filmes.iloc[0, 0]"
   ]
  },
  {
   "cell_type": "code",
   "execution_count": null,
   "metadata": {},
   "outputs": [],
   "source": [
    "tb_filmes.iloc[0, :]"
   ]
  },
  {
   "cell_type": "code",
   "execution_count": null,
   "metadata": {},
   "outputs": [],
   "source": [
    "tb_filmes.iloc[:, 0]"
   ]
  },
  {
   "cell_type": "code",
   "execution_count": null,
   "metadata": {},
   "outputs": [],
   "source": [
    "tb_filmes.iloc[:, 0]"
   ]
  },
  {
   "cell_type": "code",
   "execution_count": null,
   "metadata": {},
   "outputs": [],
   "source": [
    "tb_filmes.iloc[:, [0, 1]]"
   ]
  },
  {
   "cell_type": "code",
   "execution_count": null,
   "metadata": {},
   "outputs": [],
   "source": [
    "tb_filmes.iloc[0:3, :]"
   ]
  },
  {
   "cell_type": "code",
   "execution_count": null,
   "metadata": {},
   "outputs": [],
   "source": [
    "tb_filmes.iloc['Alien', 1]"
   ]
  },
  {
   "cell_type": "markdown",
   "metadata": {},
   "source": [
    "What is the difference of selecting a column via: `dataframe['column']` vs `dataframe.loc[:, 'column']`?"
   ]
  },
  {
   "cell_type": "code",
   "execution_count": null,
   "metadata": {},
   "outputs": [],
   "source": [
    "type(tb_filmes['notas'])"
   ]
  },
  {
   "cell_type": "code",
   "execution_count": null,
   "metadata": {},
   "outputs": [],
   "source": [
    "type(tb_filmes.loc[:,'notas'])"
   ]
  },
  {
   "cell_type": "markdown",
   "metadata": {},
   "source": [
    "Selecting by a sample"
   ]
  },
  {
   "cell_type": "code",
   "execution_count": null,
   "metadata": {},
   "outputs": [],
   "source": [
    "tb_filmes.sample(n=2)"
   ]
  },
  {
   "cell_type": "markdown",
   "metadata": {},
   "source": [
    "## 2.4 Filtering"
   ]
  },
  {
   "cell_type": "code",
   "execution_count": null,
   "metadata": {},
   "outputs": [],
   "source": [
    "tb_filmes['notas'] > 8"
   ]
  },
  {
   "cell_type": "code",
   "execution_count": null,
   "metadata": {},
   "outputs": [],
   "source": [
    "tb_filmes['diretor'] == 'Ridley Scott'"
   ]
  },
  {
   "cell_type": "code",
   "execution_count": null,
   "metadata": {},
   "outputs": [],
   "source": [
    "filmes_bons = tb_filmes['notas'] > 8"
   ]
  },
  {
   "cell_type": "code",
   "execution_count": null,
   "metadata": {},
   "outputs": [],
   "source": [
    "filmes_bons"
   ]
  },
  {
   "cell_type": "code",
   "execution_count": null,
   "metadata": {},
   "outputs": [],
   "source": [
    "tb_filmes[filmes_bons]"
   ]
  },
  {
   "cell_type": "code",
   "execution_count": null,
   "metadata": {},
   "outputs": [],
   "source": [
    "tb_filmes[tb_filmes['notas'] > 8]"
   ]
  },
  {
   "cell_type": "code",
   "execution_count": null,
   "metadata": {},
   "outputs": [],
   "source": [
    "tb_filmes[(tb_filmes['notas'] > 8) & (tb_filmes['diretor'] == 'Ridley Scott')]"
   ]
  },
  {
   "cell_type": "code",
   "execution_count": null,
   "metadata": {},
   "outputs": [],
   "source": [
    "tb_filmes.loc[(tb_filmes['notas'] > 8) & (tb_filmes['diretor'] == 'Ridley Scott'), 'elenco']"
   ]
  },
  {
   "cell_type": "code",
   "execution_count": null,
   "metadata": {},
   "outputs": [],
   "source": [
    "tb_filmes.index == 'Alien'"
   ]
  },
  {
   "cell_type": "code",
   "execution_count": null,
   "metadata": {},
   "outputs": [],
   "source": [
    "tb_filmes.index.isin(['Alien', 'Aliens'])"
   ]
  }
 ],
 "metadata": {
  "hide_input": true,
  "kernelspec": {
   "display_name": "Python 3",
   "language": "python",
   "name": "python3"
  },
  "language_info": {
   "codemirror_mode": {
    "name": "ipython",
    "version": 3
   },
   "file_extension": ".py",
   "mimetype": "text/x-python",
   "name": "python",
   "nbconvert_exporter": "python",
   "pygments_lexer": "ipython3",
   "version": "3.8.8"
  },
  "toc": {
   "base_numbering": 1,
   "nav_menu": {
    "height": "298px",
    "width": "274px"
   },
   "number_sections": true,
   "sideBar": true,
   "skip_h1_title": false,
   "title_cell": "Table of Contents",
   "title_sidebar": "Contents",
   "toc_cell": false,
   "toc_position": {
    "height": "466px",
    "left": "65px",
    "top": "133.125px",
    "width": "256px"
   },
   "toc_section_display": true,
   "toc_window_display": true
  }
 },
 "nbformat": 4,
 "nbformat_minor": 4
}
