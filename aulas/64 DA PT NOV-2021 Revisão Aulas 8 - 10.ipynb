{
 "cells": [
  {
   "cell_type": "markdown",
   "id": "158d9660",
   "metadata": {
    "toc": true
   },
   "source": [
    "<h1>Table of Contents<span class=\"tocSkip\"></span></h1>\n",
    "<div class=\"toc\"><ul class=\"toc-item\"><li><span><a href=\"#Revisão-Aulas-8,-9-e-10\" data-toc-modified-id=\"Revisão-Aulas-8,-9-e-10-1\"><span class=\"toc-item-num\">1&nbsp;&nbsp;</span>Revisão Aulas 8, 9 e 10</a></span><ul class=\"toc-item\"><li><span><a href=\"#Numpy\" data-toc-modified-id=\"Numpy-1.1\"><span class=\"toc-item-num\">1.1&nbsp;&nbsp;</span>Numpy</a></span><ul class=\"toc-item\"><li><span><a href=\"#Vetores\" data-toc-modified-id=\"Vetores-1.1.1\"><span class=\"toc-item-num\">1.1.1&nbsp;&nbsp;</span>Vetores</a></span></li><li><span><a href=\"#Matrizes\" data-toc-modified-id=\"Matrizes-1.1.2\"><span class=\"toc-item-num\">1.1.2&nbsp;&nbsp;</span>Matrizes</a></span></li></ul></li><li><span><a href=\"#Pandas\" data-toc-modified-id=\"Pandas-1.2\"><span class=\"toc-item-num\">1.2&nbsp;&nbsp;</span>Pandas</a></span><ul class=\"toc-item\"><li><span><a href=\"#Indexing-(Columns)\" data-toc-modified-id=\"Indexing-(Columns)-1.2.1\"><span class=\"toc-item-num\">1.2.1&nbsp;&nbsp;</span>Indexing (Columns)</a></span></li><li><span><a href=\"#Filters\" data-toc-modified-id=\"Filters-1.2.2\"><span class=\"toc-item-num\">1.2.2&nbsp;&nbsp;</span>Filters</a></span></li><li><span><a href=\"#Using-filters-to-create-columns\" data-toc-modified-id=\"Using-filters-to-create-columns-1.2.3\"><span class=\"toc-item-num\">1.2.3&nbsp;&nbsp;</span>Using filters to create columns</a></span></li></ul></li></ul></li></ul></div>"
   ]
  },
  {
   "cell_type": "markdown",
   "id": "d20e6ba1",
   "metadata": {},
   "source": [
    "# Revisão Aulas 8, 9 e 10\n",
    "\n",
    "* Numpy\n",
    "* Introdução à Pandas"
   ]
  },
  {
   "cell_type": "markdown",
   "id": "131258c4",
   "metadata": {},
   "source": [
    "## Numpy"
   ]
  },
  {
   "cell_type": "markdown",
   "id": "118a318b",
   "metadata": {},
   "source": [
    "### Vetores"
   ]
  },
  {
   "cell_type": "code",
   "execution_count": 1,
   "id": "d49e8d7c",
   "metadata": {
    "ExecuteTime": {
     "end_time": "2021-12-04T13:08:38.098200Z",
     "start_time": "2021-12-04T13:08:37.950725Z"
    }
   },
   "outputs": [],
   "source": [
    "import numpy as np"
   ]
  },
  {
   "cell_type": "code",
   "execution_count": 2,
   "id": "2e1d7123",
   "metadata": {
    "ExecuteTime": {
     "end_time": "2021-12-04T13:09:54.367390Z",
     "start_time": "2021-12-04T13:09:54.360405Z"
    }
   },
   "outputs": [],
   "source": [
    "lista_int = [1, 2, 3, 4, 5, 6, 7, 8, 9, 10]\n",
    "vetor_de_lista = np.array(lista_int)"
   ]
  },
  {
   "cell_type": "code",
   "execution_count": 3,
   "id": "f3a8c8ee",
   "metadata": {
    "ExecuteTime": {
     "end_time": "2021-12-04T13:09:56.609717Z",
     "start_time": "2021-12-04T13:09:56.599743Z"
    }
   },
   "outputs": [
    {
     "name": "stdout",
     "output_type": "stream",
     "text": [
      "[ 1  2  3  4  5  6  7  8  9 10]\n"
     ]
    }
   ],
   "source": [
    "print(vetor_de_lista)"
   ]
  },
  {
   "cell_type": "code",
   "execution_count": 4,
   "id": "0554a855",
   "metadata": {
    "ExecuteTime": {
     "end_time": "2021-12-04T13:10:10.843694Z",
     "start_time": "2021-12-04T13:10:10.826737Z"
    }
   },
   "outputs": [
    {
     "data": {
      "text/plain": [
       "array([ 1,  2,  3,  4,  5,  6,  7,  8,  9, 10])"
      ]
     },
     "execution_count": 4,
     "metadata": {},
     "output_type": "execute_result"
    }
   ],
   "source": [
    "vetor_de_lista"
   ]
  },
  {
   "cell_type": "code",
   "execution_count": 5,
   "id": "c244fd7a",
   "metadata": {
    "ExecuteTime": {
     "end_time": "2021-12-04T13:10:57.132612Z",
     "start_time": "2021-12-04T13:10:57.127626Z"
    }
   },
   "outputs": [
    {
     "data": {
      "text/plain": [
       "(10,)"
      ]
     },
     "execution_count": 5,
     "metadata": {},
     "output_type": "execute_result"
    }
   ],
   "source": [
    "vetor_de_lista.shape"
   ]
  },
  {
   "cell_type": "code",
   "execution_count": 6,
   "id": "6904a2ab",
   "metadata": {
    "ExecuteTime": {
     "end_time": "2021-12-04T13:11:23.724381Z",
     "start_time": "2021-12-04T13:11:23.705429Z"
    }
   },
   "outputs": [
    {
     "data": {
      "text/plain": [
       "10"
      ]
     },
     "execution_count": 6,
     "metadata": {},
     "output_type": "execute_result"
    }
   ],
   "source": [
    "vetor_de_lista.size"
   ]
  },
  {
   "cell_type": "code",
   "execution_count": 7,
   "id": "7d3b9901",
   "metadata": {
    "ExecuteTime": {
     "end_time": "2021-12-04T13:12:14.560260Z",
     "start_time": "2021-12-04T13:12:14.554262Z"
    }
   },
   "outputs": [
    {
     "name": "stdout",
     "output_type": "stream",
     "text": [
      "2\n",
      "[ 2  3  4  5  6  7  8  9 10]\n",
      "[1 2 3]\n"
     ]
    }
   ],
   "source": [
    "print(vetor_de_lista[1])\n",
    "print(vetor_de_lista[1:])\n",
    "print(vetor_de_lista[:3])"
   ]
  },
  {
   "cell_type": "code",
   "execution_count": 9,
   "id": "51538fd1",
   "metadata": {
    "ExecuteTime": {
     "end_time": "2021-12-04T13:12:49.654646Z",
     "start_time": "2021-12-04T13:12:49.637690Z"
    }
   },
   "outputs": [
    {
     "name": "stdout",
     "output_type": "stream",
     "text": [
      "<class 'numpy.ndarray'>\n"
     ]
    }
   ],
   "source": [
    "print(type(vetor_de_lista[1:]))"
   ]
  },
  {
   "cell_type": "code",
   "execution_count": 10,
   "id": "3e652d35",
   "metadata": {
    "ExecuteTime": {
     "end_time": "2021-12-04T13:14:01.182586Z",
     "start_time": "2021-12-04T13:14:01.165630Z"
    }
   },
   "outputs": [
    {
     "data": {
      "text/plain": [
       "array([False, False, False, False, False,  True,  True,  True,  True,\n",
       "        True])"
      ]
     },
     "execution_count": 10,
     "metadata": {},
     "output_type": "execute_result"
    }
   ],
   "source": [
    "vetor_de_lista > 5"
   ]
  },
  {
   "cell_type": "code",
   "execution_count": 12,
   "id": "5d60992f",
   "metadata": {
    "ExecuteTime": {
     "end_time": "2021-12-04T13:15:43.379172Z",
     "start_time": "2021-12-04T13:15:43.361221Z"
    }
   },
   "outputs": [
    {
     "name": "stdout",
     "output_type": "stream",
     "text": [
      "[False False False False False  True  True  True  True  True]\n"
     ]
    }
   ],
   "source": [
    "mascara_gt5 = vetor_de_lista > 5\n",
    "print(mascara_gt5)"
   ]
  },
  {
   "cell_type": "code",
   "execution_count": 13,
   "id": "08aa3d6f",
   "metadata": {
    "ExecuteTime": {
     "end_time": "2021-12-04T13:16:08.483505Z",
     "start_time": "2021-12-04T13:16:08.471510Z"
    }
   },
   "outputs": [
    {
     "data": {
      "text/plain": [
       "array([ 6,  7,  8,  9, 10])"
      ]
     },
     "execution_count": 13,
     "metadata": {},
     "output_type": "execute_result"
    }
   ],
   "source": [
    "vetor_de_lista[mascara_gt5]"
   ]
  },
  {
   "cell_type": "markdown",
   "id": "be4045bb",
   "metadata": {
    "ExecuteTime": {
     "end_time": "2021-12-04T12:26:27.120924Z",
     "start_time": "2021-12-04T12:26:27.111922Z"
    }
   },
   "source": [
    "### Matrizes"
   ]
  },
  {
   "cell_type": "code",
   "execution_count": 14,
   "id": "02b3d97c",
   "metadata": {
    "ExecuteTime": {
     "end_time": "2021-12-04T13:17:44.246905Z",
     "start_time": "2021-12-04T13:17:44.227927Z"
    }
   },
   "outputs": [
    {
     "name": "stdout",
     "output_type": "stream",
     "text": [
      "[[1 2 3]\n",
      " [4 5 6]]\n"
     ]
    }
   ],
   "source": [
    "lista_de_listas = [[1, 2, 3], [4, 5, 6]]\n",
    "matriz = np.array(lista_de_listas)\n",
    "print(matriz)"
   ]
  },
  {
   "cell_type": "code",
   "execution_count": 15,
   "id": "da1278e1",
   "metadata": {
    "ExecuteTime": {
     "end_time": "2021-12-04T13:18:27.245747Z",
     "start_time": "2021-12-04T13:18:27.233827Z"
    }
   },
   "outputs": [
    {
     "name": "stdout",
     "output_type": "stream",
     "text": [
      "(2, 3)\n",
      "6\n"
     ]
    }
   ],
   "source": [
    "print(matriz.shape)\n",
    "print(matriz.size)"
   ]
  },
  {
   "cell_type": "code",
   "execution_count": 16,
   "id": "3d4c5375",
   "metadata": {
    "ExecuteTime": {
     "end_time": "2021-12-04T13:19:53.467506Z",
     "start_time": "2021-12-04T13:19:53.462521Z"
    }
   },
   "outputs": [
    {
     "data": {
      "text/plain": [
       "1"
      ]
     },
     "execution_count": 16,
     "metadata": {},
     "output_type": "execute_result"
    }
   ],
   "source": [
    "matriz[0,0]"
   ]
  },
  {
   "cell_type": "code",
   "execution_count": 20,
   "id": "bb6e9ace",
   "metadata": {
    "ExecuteTime": {
     "end_time": "2021-12-04T13:20:46.578805Z",
     "start_time": "2021-12-04T13:20:46.562850Z"
    }
   },
   "outputs": [
    {
     "data": {
      "text/plain": [
       "array([1, 2, 3])"
      ]
     },
     "execution_count": 20,
     "metadata": {},
     "output_type": "execute_result"
    }
   ],
   "source": [
    "matriz[0,:]"
   ]
  },
  {
   "cell_type": "code",
   "execution_count": 18,
   "id": "c51dde08",
   "metadata": {
    "ExecuteTime": {
     "end_time": "2021-12-04T13:20:25.107271Z",
     "start_time": "2021-12-04T13:20:25.089319Z"
    }
   },
   "outputs": [
    {
     "data": {
      "text/plain": [
       "array([1, 4])"
      ]
     },
     "execution_count": 18,
     "metadata": {},
     "output_type": "execute_result"
    }
   ],
   "source": [
    "matriz[:,0]"
   ]
  },
  {
   "cell_type": "code",
   "execution_count": 21,
   "id": "7f98b0f5",
   "metadata": {
    "ExecuteTime": {
     "end_time": "2021-12-04T13:21:21.370758Z",
     "start_time": "2021-12-04T13:21:21.358789Z"
    }
   },
   "outputs": [
    {
     "data": {
      "text/plain": [
       "array([1, 2, 3, 4, 5, 6])"
      ]
     },
     "execution_count": 21,
     "metadata": {},
     "output_type": "execute_result"
    }
   ],
   "source": [
    "matriz.ravel()"
   ]
  },
  {
   "cell_type": "code",
   "execution_count": 22,
   "id": "6fc0c966",
   "metadata": {
    "ExecuteTime": {
     "end_time": "2021-12-04T13:22:21.805511Z",
     "start_time": "2021-12-04T13:22:21.786591Z"
    }
   },
   "outputs": [
    {
     "data": {
      "text/plain": [
       "array([[ 2,  4,  6],\n",
       "       [ 8, 10, 12]])"
      ]
     },
     "execution_count": 22,
     "metadata": {},
     "output_type": "execute_result"
    }
   ],
   "source": [
    "matriz * 2"
   ]
  },
  {
   "cell_type": "code",
   "execution_count": 23,
   "id": "45400f58",
   "metadata": {
    "ExecuteTime": {
     "end_time": "2021-12-04T13:23:12.965380Z",
     "start_time": "2021-12-04T13:23:12.952387Z"
    }
   },
   "outputs": [
    {
     "name": "stdout",
     "output_type": "stream",
     "text": [
      "[[2 3 4]\n",
      " [5 6 7]]\n",
      "[[1 2 3]\n",
      " [4 5 6]]\n"
     ]
    }
   ],
   "source": [
    "print(matriz + 1)\n",
    "print(matriz)"
   ]
  },
  {
   "cell_type": "code",
   "execution_count": 26,
   "id": "f444cacf",
   "metadata": {
    "ExecuteTime": {
     "end_time": "2021-12-04T13:23:54.909025Z",
     "start_time": "2021-12-04T13:23:54.901019Z"
    }
   },
   "outputs": [],
   "source": [
    "matriz += 1"
   ]
  },
  {
   "cell_type": "code",
   "execution_count": 27,
   "id": "14b8e48f",
   "metadata": {
    "ExecuteTime": {
     "end_time": "2021-12-04T13:23:58.140695Z",
     "start_time": "2021-12-04T13:23:58.126734Z"
    }
   },
   "outputs": [
    {
     "name": "stdout",
     "output_type": "stream",
     "text": [
      "[[3 4 5]\n",
      " [6 7 8]]\n"
     ]
    }
   ],
   "source": [
    "print(matriz)"
   ]
  },
  {
   "cell_type": "code",
   "execution_count": 28,
   "id": "dd56fd7f",
   "metadata": {
    "ExecuteTime": {
     "end_time": "2021-12-04T13:24:14.986973Z",
     "start_time": "2021-12-04T13:24:14.967028Z"
    }
   },
   "outputs": [
    {
     "data": {
      "text/plain": [
       "array([[False, False,  True],\n",
       "       [ True,  True,  True]])"
      ]
     },
     "execution_count": 28,
     "metadata": {},
     "output_type": "execute_result"
    }
   ],
   "source": [
    "matriz > 4"
   ]
  },
  {
   "cell_type": "code",
   "execution_count": 30,
   "id": "5bbb39da",
   "metadata": {
    "ExecuteTime": {
     "end_time": "2021-12-04T13:25:54.657836Z",
     "start_time": "2021-12-04T13:25:54.643873Z"
    }
   },
   "outputs": [
    {
     "data": {
      "text/plain": [
       "array([3, 4, 5, 6, 7, 8])"
      ]
     },
     "execution_count": 30,
     "metadata": {},
     "output_type": "execute_result"
    }
   ],
   "source": [
    "matriz[matriz > 0]"
   ]
  },
  {
   "cell_type": "code",
   "execution_count": 32,
   "id": "a665f2cd",
   "metadata": {
    "ExecuteTime": {
     "end_time": "2021-12-04T13:27:51.405243Z",
     "start_time": "2021-12-04T13:27:51.397264Z"
    }
   },
   "outputs": [
    {
     "name": "stdout",
     "output_type": "stream",
     "text": [
      "[[3 4 5]\n",
      " [6 7 8]]\n",
      "(2, 3)\n",
      "[12 21]\n",
      "[ 9 11 13]\n"
     ]
    }
   ],
   "source": [
    "print(matriz)\n",
    "print(matriz.shape)\n",
    "print(matriz.sum(axis = 1))\n",
    "print(matriz.sum(axis = 0))"
   ]
  },
  {
   "cell_type": "code",
   "execution_count": 33,
   "id": "e992ea27",
   "metadata": {
    "ExecuteTime": {
     "end_time": "2021-12-04T13:28:23.480540Z",
     "start_time": "2021-12-04T13:28:23.471564Z"
    }
   },
   "outputs": [
    {
     "name": "stdout",
     "output_type": "stream",
     "text": [
      "[[0.02107411 0.79723616 0.29478337]\n",
      " [0.21621432 0.36836069 0.16979058]]\n"
     ]
    }
   ],
   "source": [
    "outra_matriz = np.random.random(size = (2, 3))\n",
    "print(outra_matriz)"
   ]
  },
  {
   "cell_type": "code",
   "execution_count": 34,
   "id": "60fe077d",
   "metadata": {
    "ExecuteTime": {
     "end_time": "2021-12-04T13:28:34.932953Z",
     "start_time": "2021-12-04T13:28:34.926968Z"
    }
   },
   "outputs": [
    {
     "data": {
      "text/plain": [
       "array([[3.02107411, 4.79723616, 5.29478337],\n",
       "       [6.21621432, 7.36836069, 8.16979058]])"
      ]
     },
     "execution_count": 34,
     "metadata": {},
     "output_type": "execute_result"
    }
   ],
   "source": [
    "matriz + outra_matriz"
   ]
  },
  {
   "cell_type": "code",
   "execution_count": 35,
   "id": "9bfae6ab",
   "metadata": {
    "ExecuteTime": {
     "end_time": "2021-12-04T13:28:55.482363Z",
     "start_time": "2021-12-04T13:28:55.462415Z"
    }
   },
   "outputs": [
    {
     "data": {
      "text/plain": [
       "array([[0.06322232, 3.18894466, 1.47391685],\n",
       "       [1.29728592, 2.57852481, 1.35832462]])"
      ]
     },
     "execution_count": 35,
     "metadata": {},
     "output_type": "execute_result"
    }
   ],
   "source": [
    "matriz * outra_matriz"
   ]
  },
  {
   "cell_type": "code",
   "execution_count": 36,
   "id": "11756773",
   "metadata": {
    "ExecuteTime": {
     "end_time": "2021-12-04T13:29:23.279965Z",
     "start_time": "2021-12-04T13:29:23.261986Z"
    }
   },
   "outputs": [
    {
     "name": "stdout",
     "output_type": "stream",
     "text": [
      "[[0 0 5]\n",
      " [0 0 8]]\n"
     ]
    }
   ],
   "source": [
    "meu_vetor = np.array([0, 0, 1])\n",
    "print(matriz * meu_vetor)"
   ]
  },
  {
   "cell_type": "code",
   "execution_count": 37,
   "id": "fa23e4f2",
   "metadata": {
    "ExecuteTime": {
     "end_time": "2021-12-04T13:29:59.599201Z",
     "start_time": "2021-12-04T13:29:59.415295Z"
    }
   },
   "outputs": [
    {
     "ename": "ValueError",
     "evalue": "operands could not be broadcast together with shapes (2,3) (2,) ",
     "output_type": "error",
     "traceback": [
      "\u001b[1;31m---------------------------------------------------------------------------\u001b[0m",
      "\u001b[1;31mValueError\u001b[0m                                Traceback (most recent call last)",
      "\u001b[1;32m<ipython-input-37-67fbe9f3527b>\u001b[0m in \u001b[0;36m<module>\u001b[1;34m\u001b[0m\n\u001b[0;32m      1\u001b[0m \u001b[0moutro_vetor\u001b[0m \u001b[1;33m=\u001b[0m \u001b[0mnp\u001b[0m\u001b[1;33m.\u001b[0m\u001b[0marray\u001b[0m\u001b[1;33m(\u001b[0m\u001b[1;33m[\u001b[0m\u001b[1;36m0\u001b[0m\u001b[1;33m,\u001b[0m \u001b[1;36m1\u001b[0m\u001b[1;33m]\u001b[0m\u001b[1;33m)\u001b[0m\u001b[1;33m\u001b[0m\u001b[1;33m\u001b[0m\u001b[0m\n\u001b[1;32m----> 2\u001b[1;33m \u001b[0mprint\u001b[0m\u001b[1;33m(\u001b[0m\u001b[0mmatriz\u001b[0m \u001b[1;33m*\u001b[0m \u001b[0moutro_vetor\u001b[0m\u001b[1;33m)\u001b[0m\u001b[1;33m\u001b[0m\u001b[1;33m\u001b[0m\u001b[0m\n\u001b[0m",
      "\u001b[1;31mValueError\u001b[0m: operands could not be broadcast together with shapes (2,3) (2,) "
     ]
    }
   ],
   "source": [
    "outro_vetor = np.array([0, 1])\n",
    "print(matriz * outro_vetor)"
   ]
  },
  {
   "cell_type": "code",
   "execution_count": 39,
   "id": "fd4d7610",
   "metadata": {
    "ExecuteTime": {
     "end_time": "2021-12-04T13:30:53.805590Z",
     "start_time": "2021-12-04T13:30:53.797612Z"
    }
   },
   "outputs": [
    {
     "name": "stdout",
     "output_type": "stream",
     "text": [
      "[[3 4 5]\n",
      " [6 7 8]]\n",
      "[[3 6]\n",
      " [4 7]\n",
      " [5 8]]\n",
      "[0 1]\n"
     ]
    }
   ],
   "source": [
    "matriz_t = matriz.transpose()\n",
    "print(matriz)\n",
    "print(matriz_t)\n",
    "print(outro_vetor)"
   ]
  },
  {
   "cell_type": "code",
   "execution_count": 40,
   "id": "2488e990",
   "metadata": {
    "ExecuteTime": {
     "end_time": "2021-12-04T13:31:11.303055Z",
     "start_time": "2021-12-04T13:31:11.294079Z"
    }
   },
   "outputs": [
    {
     "name": "stdout",
     "output_type": "stream",
     "text": [
      "[[0 6]\n",
      " [0 7]\n",
      " [0 8]]\n"
     ]
    }
   ],
   "source": [
    "print(matriz_t * outro_vetor)"
   ]
  },
  {
   "cell_type": "code",
   "execution_count": 41,
   "id": "e0afbcbb",
   "metadata": {
    "ExecuteTime": {
     "end_time": "2021-12-04T13:31:36.212056Z",
     "start_time": "2021-12-04T13:31:36.193144Z"
    }
   },
   "outputs": [
    {
     "data": {
      "text/plain": [
       "array([[0, 0, 0],\n",
       "       [6, 7, 8]])"
      ]
     },
     "execution_count": 41,
     "metadata": {},
     "output_type": "execute_result"
    }
   ],
   "source": [
    "(matriz.transpose() * outro_vetor).transpose()"
   ]
  },
  {
   "cell_type": "markdown",
   "id": "d09c15d7",
   "metadata": {},
   "source": [
    "## Pandas"
   ]
  },
  {
   "cell_type": "markdown",
   "id": "a58e360d",
   "metadata": {},
   "source": [
    "### Indexing (Columns)"
   ]
  },
  {
   "cell_type": "code",
   "execution_count": 42,
   "id": "1f6c4488",
   "metadata": {
    "ExecuteTime": {
     "end_time": "2021-12-04T13:32:13.748578Z",
     "start_time": "2021-12-04T13:32:13.294134Z"
    }
   },
   "outputs": [],
   "source": [
    "import pandas as pd\n",
    "tb_veic = pd.read_csv('data/dados_veiculos.csv')"
   ]
  },
  {
   "cell_type": "code",
   "execution_count": 43,
   "id": "516c1274",
   "metadata": {
    "ExecuteTime": {
     "end_time": "2021-12-04T13:33:02.154277Z",
     "start_time": "2021-12-04T13:33:02.118347Z"
    }
   },
   "outputs": [
    {
     "name": "stdout",
     "output_type": "stream",
     "text": [
      "<class 'pandas.core.frame.DataFrame'>\n",
      "RangeIndex: 35952 entries, 0 to 35951\n",
      "Data columns (total 15 columns):\n",
      " #   Column                   Non-Null Count  Dtype  \n",
      "---  ------                   --------------  -----  \n",
      " 0   Make                     35952 non-null  object \n",
      " 1   Model                    35952 non-null  object \n",
      " 2   Year                     35952 non-null  int64  \n",
      " 3   Engine Displacement      35952 non-null  float64\n",
      " 4   Cylinders                35952 non-null  float64\n",
      " 5   Transmission             35952 non-null  object \n",
      " 6   Drivetrain               35952 non-null  object \n",
      " 7   Vehicle Class            35952 non-null  object \n",
      " 8   Fuel Type                35952 non-null  object \n",
      " 9   Fuel Barrels/Year        35952 non-null  float64\n",
      " 10  City MPG                 35952 non-null  int64  \n",
      " 11  Highway MPG              35952 non-null  int64  \n",
      " 12  Combined MPG             35952 non-null  int64  \n",
      " 13  CO2 Emission Grams/Mile  35952 non-null  float64\n",
      " 14  Fuel Cost/Year           35952 non-null  int64  \n",
      "dtypes: float64(4), int64(5), object(6)\n",
      "memory usage: 4.1+ MB\n"
     ]
    }
   ],
   "source": [
    "tb_veic.info()"
   ]
  },
  {
   "cell_type": "code",
   "execution_count": 45,
   "id": "fcec1abd",
   "metadata": {
    "ExecuteTime": {
     "end_time": "2021-12-04T13:34:40.137390Z",
     "start_time": "2021-12-04T13:34:40.107471Z"
    }
   },
   "outputs": [
    {
     "data": {
      "text/plain": [
       "count       35952\n",
       "unique         13\n",
       "top       Regular\n",
       "freq        23587\n",
       "Name: Fuel Type, dtype: object"
      ]
     },
     "execution_count": 45,
     "metadata": {},
     "output_type": "execute_result"
    }
   ],
   "source": [
    "tb_veic['Fuel Type'].describe()"
   ]
  },
  {
   "cell_type": "code",
   "execution_count": 46,
   "id": "64948106",
   "metadata": {
    "ExecuteTime": {
     "end_time": "2021-12-04T13:36:00.258015Z",
     "start_time": "2021-12-04T13:36:00.245024Z"
    }
   },
   "outputs": [],
   "source": [
    "original_cnames = tb_veic.columns"
   ]
  },
  {
   "cell_type": "code",
   "execution_count": 47,
   "id": "34b90157",
   "metadata": {
    "ExecuteTime": {
     "end_time": "2021-12-04T13:36:04.642089Z",
     "start_time": "2021-12-04T13:36:04.624134Z"
    }
   },
   "outputs": [
    {
     "name": "stdout",
     "output_type": "stream",
     "text": [
      "Index(['Make', 'Model', 'Year', 'Engine Displacement', 'Cylinders',\n",
      "       'Transmission', 'Drivetrain', 'Vehicle Class', 'Fuel Type',\n",
      "       'Fuel Barrels/Year', 'City MPG', 'Highway MPG', 'Combined MPG',\n",
      "       'CO2 Emission Grams/Mile', 'Fuel Cost/Year'],\n",
      "      dtype='object')\n"
     ]
    }
   ],
   "source": [
    "print(original_cnames)"
   ]
  },
  {
   "cell_type": "code",
   "execution_count": 48,
   "id": "ce964889",
   "metadata": {
    "ExecuteTime": {
     "end_time": "2021-12-04T13:37:17.068095Z",
     "start_time": "2021-12-04T13:37:17.052595Z"
    }
   },
   "outputs": [],
   "source": [
    "tb_veic.columns = range(len(tb_veic.columns))"
   ]
  },
  {
   "cell_type": "code",
   "execution_count": 49,
   "id": "dfaad41e",
   "metadata": {
    "ExecuteTime": {
     "end_time": "2021-12-04T13:37:18.698867Z",
     "start_time": "2021-12-04T13:37:18.665960Z"
    }
   },
   "outputs": [
    {
     "data": {
      "text/html": [
       "<div>\n",
       "<style scoped>\n",
       "    .dataframe tbody tr th:only-of-type {\n",
       "        vertical-align: middle;\n",
       "    }\n",
       "\n",
       "    .dataframe tbody tr th {\n",
       "        vertical-align: top;\n",
       "    }\n",
       "\n",
       "    .dataframe thead th {\n",
       "        text-align: right;\n",
       "    }\n",
       "</style>\n",
       "<table border=\"1\" class=\"dataframe\">\n",
       "  <thead>\n",
       "    <tr style=\"text-align: right;\">\n",
       "      <th></th>\n",
       "      <th>0</th>\n",
       "      <th>1</th>\n",
       "      <th>2</th>\n",
       "      <th>3</th>\n",
       "      <th>4</th>\n",
       "      <th>5</th>\n",
       "      <th>6</th>\n",
       "      <th>7</th>\n",
       "      <th>8</th>\n",
       "      <th>9</th>\n",
       "      <th>10</th>\n",
       "      <th>11</th>\n",
       "      <th>12</th>\n",
       "      <th>13</th>\n",
       "      <th>14</th>\n",
       "    </tr>\n",
       "  </thead>\n",
       "  <tbody>\n",
       "    <tr>\n",
       "      <th>0</th>\n",
       "      <td>AM General</td>\n",
       "      <td>DJ Po Vehicle 2WD</td>\n",
       "      <td>1984</td>\n",
       "      <td>2.5</td>\n",
       "      <td>4.0</td>\n",
       "      <td>Automatic 3-spd</td>\n",
       "      <td>2-Wheel Drive</td>\n",
       "      <td>Special Purpose Vehicle 2WD</td>\n",
       "      <td>Regular</td>\n",
       "      <td>19.388824</td>\n",
       "      <td>18</td>\n",
       "      <td>17</td>\n",
       "      <td>17</td>\n",
       "      <td>522.764706</td>\n",
       "      <td>1950</td>\n",
       "    </tr>\n",
       "    <tr>\n",
       "      <th>1</th>\n",
       "      <td>AM General</td>\n",
       "      <td>FJ8c Post Office</td>\n",
       "      <td>1984</td>\n",
       "      <td>4.2</td>\n",
       "      <td>6.0</td>\n",
       "      <td>Automatic 3-spd</td>\n",
       "      <td>2-Wheel Drive</td>\n",
       "      <td>Special Purpose Vehicle 2WD</td>\n",
       "      <td>Regular</td>\n",
       "      <td>25.354615</td>\n",
       "      <td>13</td>\n",
       "      <td>13</td>\n",
       "      <td>13</td>\n",
       "      <td>683.615385</td>\n",
       "      <td>2550</td>\n",
       "    </tr>\n",
       "    <tr>\n",
       "      <th>2</th>\n",
       "      <td>AM General</td>\n",
       "      <td>Post Office DJ5 2WD</td>\n",
       "      <td>1985</td>\n",
       "      <td>2.5</td>\n",
       "      <td>4.0</td>\n",
       "      <td>Automatic 3-spd</td>\n",
       "      <td>Rear-Wheel Drive</td>\n",
       "      <td>Special Purpose Vehicle 2WD</td>\n",
       "      <td>Regular</td>\n",
       "      <td>20.600625</td>\n",
       "      <td>16</td>\n",
       "      <td>17</td>\n",
       "      <td>16</td>\n",
       "      <td>555.437500</td>\n",
       "      <td>2100</td>\n",
       "    </tr>\n",
       "    <tr>\n",
       "      <th>3</th>\n",
       "      <td>AM General</td>\n",
       "      <td>Post Office DJ8 2WD</td>\n",
       "      <td>1985</td>\n",
       "      <td>4.2</td>\n",
       "      <td>6.0</td>\n",
       "      <td>Automatic 3-spd</td>\n",
       "      <td>Rear-Wheel Drive</td>\n",
       "      <td>Special Purpose Vehicle 2WD</td>\n",
       "      <td>Regular</td>\n",
       "      <td>25.354615</td>\n",
       "      <td>13</td>\n",
       "      <td>13</td>\n",
       "      <td>13</td>\n",
       "      <td>683.615385</td>\n",
       "      <td>2550</td>\n",
       "    </tr>\n",
       "    <tr>\n",
       "      <th>4</th>\n",
       "      <td>ASC Incorporated</td>\n",
       "      <td>GNX</td>\n",
       "      <td>1987</td>\n",
       "      <td>3.8</td>\n",
       "      <td>6.0</td>\n",
       "      <td>Automatic 4-spd</td>\n",
       "      <td>Rear-Wheel Drive</td>\n",
       "      <td>Midsize Cars</td>\n",
       "      <td>Premium</td>\n",
       "      <td>20.600625</td>\n",
       "      <td>14</td>\n",
       "      <td>21</td>\n",
       "      <td>16</td>\n",
       "      <td>555.437500</td>\n",
       "      <td>2550</td>\n",
       "    </tr>\n",
       "    <tr>\n",
       "      <th>...</th>\n",
       "      <td>...</td>\n",
       "      <td>...</td>\n",
       "      <td>...</td>\n",
       "      <td>...</td>\n",
       "      <td>...</td>\n",
       "      <td>...</td>\n",
       "      <td>...</td>\n",
       "      <td>...</td>\n",
       "      <td>...</td>\n",
       "      <td>...</td>\n",
       "      <td>...</td>\n",
       "      <td>...</td>\n",
       "      <td>...</td>\n",
       "      <td>...</td>\n",
       "      <td>...</td>\n",
       "    </tr>\n",
       "    <tr>\n",
       "      <th>35947</th>\n",
       "      <td>smart</td>\n",
       "      <td>fortwo coupe</td>\n",
       "      <td>2013</td>\n",
       "      <td>1.0</td>\n",
       "      <td>3.0</td>\n",
       "      <td>Auto(AM5)</td>\n",
       "      <td>Rear-Wheel Drive</td>\n",
       "      <td>Two Seaters</td>\n",
       "      <td>Premium</td>\n",
       "      <td>9.155833</td>\n",
       "      <td>34</td>\n",
       "      <td>38</td>\n",
       "      <td>36</td>\n",
       "      <td>244.000000</td>\n",
       "      <td>1100</td>\n",
       "    </tr>\n",
       "    <tr>\n",
       "      <th>35948</th>\n",
       "      <td>smart</td>\n",
       "      <td>fortwo coupe</td>\n",
       "      <td>2014</td>\n",
       "      <td>1.0</td>\n",
       "      <td>3.0</td>\n",
       "      <td>Auto(AM5)</td>\n",
       "      <td>Rear-Wheel Drive</td>\n",
       "      <td>Two Seaters</td>\n",
       "      <td>Premium</td>\n",
       "      <td>9.155833</td>\n",
       "      <td>34</td>\n",
       "      <td>38</td>\n",
       "      <td>36</td>\n",
       "      <td>243.000000</td>\n",
       "      <td>1100</td>\n",
       "    </tr>\n",
       "    <tr>\n",
       "      <th>35949</th>\n",
       "      <td>smart</td>\n",
       "      <td>fortwo coupe</td>\n",
       "      <td>2015</td>\n",
       "      <td>1.0</td>\n",
       "      <td>3.0</td>\n",
       "      <td>Auto(AM5)</td>\n",
       "      <td>Rear-Wheel Drive</td>\n",
       "      <td>Two Seaters</td>\n",
       "      <td>Premium</td>\n",
       "      <td>9.155833</td>\n",
       "      <td>34</td>\n",
       "      <td>38</td>\n",
       "      <td>36</td>\n",
       "      <td>244.000000</td>\n",
       "      <td>1100</td>\n",
       "    </tr>\n",
       "    <tr>\n",
       "      <th>35950</th>\n",
       "      <td>smart</td>\n",
       "      <td>fortwo coupe</td>\n",
       "      <td>2016</td>\n",
       "      <td>0.9</td>\n",
       "      <td>3.0</td>\n",
       "      <td>Auto(AM6)</td>\n",
       "      <td>Rear-Wheel Drive</td>\n",
       "      <td>Two Seaters</td>\n",
       "      <td>Premium</td>\n",
       "      <td>9.155833</td>\n",
       "      <td>34</td>\n",
       "      <td>39</td>\n",
       "      <td>36</td>\n",
       "      <td>246.000000</td>\n",
       "      <td>1100</td>\n",
       "    </tr>\n",
       "    <tr>\n",
       "      <th>35951</th>\n",
       "      <td>smart</td>\n",
       "      <td>fortwo coupe</td>\n",
       "      <td>2016</td>\n",
       "      <td>0.9</td>\n",
       "      <td>3.0</td>\n",
       "      <td>Manual 5-spd</td>\n",
       "      <td>Rear-Wheel Drive</td>\n",
       "      <td>Two Seaters</td>\n",
       "      <td>Premium</td>\n",
       "      <td>9.417429</td>\n",
       "      <td>32</td>\n",
       "      <td>39</td>\n",
       "      <td>35</td>\n",
       "      <td>255.000000</td>\n",
       "      <td>1150</td>\n",
       "    </tr>\n",
       "  </tbody>\n",
       "</table>\n",
       "<p>35952 rows × 15 columns</p>\n",
       "</div>"
      ],
      "text/plain": [
       "                     0                    1     2    3    4                5   \\\n",
       "0            AM General    DJ Po Vehicle 2WD  1984  2.5  4.0  Automatic 3-spd   \n",
       "1            AM General     FJ8c Post Office  1984  4.2  6.0  Automatic 3-spd   \n",
       "2            AM General  Post Office DJ5 2WD  1985  2.5  4.0  Automatic 3-spd   \n",
       "3            AM General  Post Office DJ8 2WD  1985  4.2  6.0  Automatic 3-spd   \n",
       "4      ASC Incorporated                  GNX  1987  3.8  6.0  Automatic 4-spd   \n",
       "...                 ...                  ...   ...  ...  ...              ...   \n",
       "35947             smart         fortwo coupe  2013  1.0  3.0        Auto(AM5)   \n",
       "35948             smart         fortwo coupe  2014  1.0  3.0        Auto(AM5)   \n",
       "35949             smart         fortwo coupe  2015  1.0  3.0        Auto(AM5)   \n",
       "35950             smart         fortwo coupe  2016  0.9  3.0        Auto(AM6)   \n",
       "35951             smart         fortwo coupe  2016  0.9  3.0     Manual 5-spd   \n",
       "\n",
       "                     6                            7        8          9   10  \\\n",
       "0         2-Wheel Drive  Special Purpose Vehicle 2WD  Regular  19.388824  18   \n",
       "1         2-Wheel Drive  Special Purpose Vehicle 2WD  Regular  25.354615  13   \n",
       "2      Rear-Wheel Drive  Special Purpose Vehicle 2WD  Regular  20.600625  16   \n",
       "3      Rear-Wheel Drive  Special Purpose Vehicle 2WD  Regular  25.354615  13   \n",
       "4      Rear-Wheel Drive                 Midsize Cars  Premium  20.600625  14   \n",
       "...                 ...                          ...      ...        ...  ..   \n",
       "35947  Rear-Wheel Drive                  Two Seaters  Premium   9.155833  34   \n",
       "35948  Rear-Wheel Drive                  Two Seaters  Premium   9.155833  34   \n",
       "35949  Rear-Wheel Drive                  Two Seaters  Premium   9.155833  34   \n",
       "35950  Rear-Wheel Drive                  Two Seaters  Premium   9.155833  34   \n",
       "35951  Rear-Wheel Drive                  Two Seaters  Premium   9.417429  32   \n",
       "\n",
       "       11  12          13    14  \n",
       "0      17  17  522.764706  1950  \n",
       "1      13  13  683.615385  2550  \n",
       "2      17  16  555.437500  2100  \n",
       "3      13  13  683.615385  2550  \n",
       "4      21  16  555.437500  2550  \n",
       "...    ..  ..         ...   ...  \n",
       "35947  38  36  244.000000  1100  \n",
       "35948  38  36  243.000000  1100  \n",
       "35949  38  36  244.000000  1100  \n",
       "35950  39  36  246.000000  1100  \n",
       "35951  39  35  255.000000  1150  \n",
       "\n",
       "[35952 rows x 15 columns]"
      ]
     },
     "execution_count": 49,
     "metadata": {},
     "output_type": "execute_result"
    }
   ],
   "source": [
    "tb_veic"
   ]
  },
  {
   "cell_type": "code",
   "execution_count": 50,
   "id": "c98db693",
   "metadata": {
    "ExecuteTime": {
     "end_time": "2021-12-04T13:38:11.529896Z",
     "start_time": "2021-12-04T13:38:11.516905Z"
    }
   },
   "outputs": [
    {
     "name": "stdout",
     "output_type": "stream",
     "text": [
      "Index(['Make', 'Model', 'Year', 'Engine Displacement', 'Cylinders',\n",
      "       'Transmission', 'Drivetrain', 'Vehicle Class', 'Fuel Type',\n",
      "       'Fuel Barrels/Year', 'City MPG', 'Highway MPG', 'Combined MPG',\n",
      "       'CO2 Emission Grams/Mile', 'Fuel Cost/Year'],\n",
      "      dtype='object')\n"
     ]
    }
   ],
   "source": [
    "print(original_cnames)"
   ]
  },
  {
   "cell_type": "code",
   "execution_count": 51,
   "id": "da4fab5b",
   "metadata": {
    "ExecuteTime": {
     "end_time": "2021-12-04T13:39:22.996275Z",
     "start_time": "2021-12-04T13:39:22.980308Z"
    }
   },
   "outputs": [],
   "source": [
    "better_names = [column.lower().replace(' ', '_').replace('/', '_by_') for column in original_cnames]"
   ]
  },
  {
   "cell_type": "code",
   "execution_count": 52,
   "id": "d1232a76",
   "metadata": {
    "ExecuteTime": {
     "end_time": "2021-12-04T13:39:23.586137Z",
     "start_time": "2021-12-04T13:39:23.576167Z"
    }
   },
   "outputs": [
    {
     "name": "stdout",
     "output_type": "stream",
     "text": [
      "['make', 'model', 'year', 'engine_displacement', 'cylinders', 'transmission', 'drivetrain', 'vehicle_class', 'fuel_type', 'fuel_barrels_by_year', 'city_mpg', 'highway_mpg', 'combined_mpg', 'co2_emission_grams_by_mile', 'fuel_cost_by_year']\n"
     ]
    }
   ],
   "source": [
    "print(better_names)"
   ]
  },
  {
   "cell_type": "code",
   "execution_count": 53,
   "id": "3f1991a5",
   "metadata": {
    "ExecuteTime": {
     "end_time": "2021-12-04T13:39:54.282708Z",
     "start_time": "2021-12-04T13:39:54.272736Z"
    }
   },
   "outputs": [],
   "source": [
    "tb_veic.columns = better_names"
   ]
  },
  {
   "cell_type": "code",
   "execution_count": 54,
   "id": "7b0c0beb",
   "metadata": {
    "ExecuteTime": {
     "end_time": "2021-12-04T13:39:56.024606Z",
     "start_time": "2021-12-04T13:39:56.016627Z"
    }
   },
   "outputs": [
    {
     "name": "stdout",
     "output_type": "stream",
     "text": [
      "Index(['make', 'model', 'year', 'engine_displacement', 'cylinders',\n",
      "       'transmission', 'drivetrain', 'vehicle_class', 'fuel_type',\n",
      "       'fuel_barrels_by_year', 'city_mpg', 'highway_mpg', 'combined_mpg',\n",
      "       'co2_emission_grams_by_mile', 'fuel_cost_by_year'],\n",
      "      dtype='object')\n"
     ]
    }
   ],
   "source": [
    "print(tb_veic.columns)"
   ]
  },
  {
   "cell_type": "code",
   "execution_count": 55,
   "id": "6f886db7",
   "metadata": {
    "ExecuteTime": {
     "end_time": "2021-12-04T13:43:14.142199Z",
     "start_time": "2021-12-04T13:43:14.105298Z"
    }
   },
   "outputs": [
    {
     "data": {
      "text/html": [
       "<div>\n",
       "<style scoped>\n",
       "    .dataframe tbody tr th:only-of-type {\n",
       "        vertical-align: middle;\n",
       "    }\n",
       "\n",
       "    .dataframe tbody tr th {\n",
       "        vertical-align: top;\n",
       "    }\n",
       "\n",
       "    .dataframe thead th {\n",
       "        text-align: right;\n",
       "    }\n",
       "</style>\n",
       "<table border=\"1\" class=\"dataframe\">\n",
       "  <thead>\n",
       "    <tr style=\"text-align: right;\">\n",
       "      <th></th>\n",
       "      <th>make</th>\n",
       "      <th>model</th>\n",
       "      <th>model_year</th>\n",
       "      <th>engine_displacement</th>\n",
       "      <th>cylinders</th>\n",
       "      <th>transmission</th>\n",
       "      <th>drivetrain</th>\n",
       "      <th>vehicle_class</th>\n",
       "      <th>fuel_type</th>\n",
       "      <th>fuel_barrels_by_year</th>\n",
       "      <th>city_mpg</th>\n",
       "      <th>highway_mpg</th>\n",
       "      <th>combined_mpg</th>\n",
       "      <th>co2_emission_grams_by_mile</th>\n",
       "      <th>fuel_cost_by_year</th>\n",
       "    </tr>\n",
       "  </thead>\n",
       "  <tbody>\n",
       "    <tr>\n",
       "      <th>0</th>\n",
       "      <td>AM General</td>\n",
       "      <td>DJ Po Vehicle 2WD</td>\n",
       "      <td>1984</td>\n",
       "      <td>2.5</td>\n",
       "      <td>4.0</td>\n",
       "      <td>Automatic 3-spd</td>\n",
       "      <td>2-Wheel Drive</td>\n",
       "      <td>Special Purpose Vehicle 2WD</td>\n",
       "      <td>Regular</td>\n",
       "      <td>19.388824</td>\n",
       "      <td>18</td>\n",
       "      <td>17</td>\n",
       "      <td>17</td>\n",
       "      <td>522.764706</td>\n",
       "      <td>1950</td>\n",
       "    </tr>\n",
       "    <tr>\n",
       "      <th>1</th>\n",
       "      <td>AM General</td>\n",
       "      <td>FJ8c Post Office</td>\n",
       "      <td>1984</td>\n",
       "      <td>4.2</td>\n",
       "      <td>6.0</td>\n",
       "      <td>Automatic 3-spd</td>\n",
       "      <td>2-Wheel Drive</td>\n",
       "      <td>Special Purpose Vehicle 2WD</td>\n",
       "      <td>Regular</td>\n",
       "      <td>25.354615</td>\n",
       "      <td>13</td>\n",
       "      <td>13</td>\n",
       "      <td>13</td>\n",
       "      <td>683.615385</td>\n",
       "      <td>2550</td>\n",
       "    </tr>\n",
       "    <tr>\n",
       "      <th>2</th>\n",
       "      <td>AM General</td>\n",
       "      <td>Post Office DJ5 2WD</td>\n",
       "      <td>1985</td>\n",
       "      <td>2.5</td>\n",
       "      <td>4.0</td>\n",
       "      <td>Automatic 3-spd</td>\n",
       "      <td>Rear-Wheel Drive</td>\n",
       "      <td>Special Purpose Vehicle 2WD</td>\n",
       "      <td>Regular</td>\n",
       "      <td>20.600625</td>\n",
       "      <td>16</td>\n",
       "      <td>17</td>\n",
       "      <td>16</td>\n",
       "      <td>555.437500</td>\n",
       "      <td>2100</td>\n",
       "    </tr>\n",
       "    <tr>\n",
       "      <th>3</th>\n",
       "      <td>AM General</td>\n",
       "      <td>Post Office DJ8 2WD</td>\n",
       "      <td>1985</td>\n",
       "      <td>4.2</td>\n",
       "      <td>6.0</td>\n",
       "      <td>Automatic 3-spd</td>\n",
       "      <td>Rear-Wheel Drive</td>\n",
       "      <td>Special Purpose Vehicle 2WD</td>\n",
       "      <td>Regular</td>\n",
       "      <td>25.354615</td>\n",
       "      <td>13</td>\n",
       "      <td>13</td>\n",
       "      <td>13</td>\n",
       "      <td>683.615385</td>\n",
       "      <td>2550</td>\n",
       "    </tr>\n",
       "    <tr>\n",
       "      <th>4</th>\n",
       "      <td>ASC Incorporated</td>\n",
       "      <td>GNX</td>\n",
       "      <td>1987</td>\n",
       "      <td>3.8</td>\n",
       "      <td>6.0</td>\n",
       "      <td>Automatic 4-spd</td>\n",
       "      <td>Rear-Wheel Drive</td>\n",
       "      <td>Midsize Cars</td>\n",
       "      <td>Premium</td>\n",
       "      <td>20.600625</td>\n",
       "      <td>14</td>\n",
       "      <td>21</td>\n",
       "      <td>16</td>\n",
       "      <td>555.437500</td>\n",
       "      <td>2550</td>\n",
       "    </tr>\n",
       "    <tr>\n",
       "      <th>...</th>\n",
       "      <td>...</td>\n",
       "      <td>...</td>\n",
       "      <td>...</td>\n",
       "      <td>...</td>\n",
       "      <td>...</td>\n",
       "      <td>...</td>\n",
       "      <td>...</td>\n",
       "      <td>...</td>\n",
       "      <td>...</td>\n",
       "      <td>...</td>\n",
       "      <td>...</td>\n",
       "      <td>...</td>\n",
       "      <td>...</td>\n",
       "      <td>...</td>\n",
       "      <td>...</td>\n",
       "    </tr>\n",
       "    <tr>\n",
       "      <th>35947</th>\n",
       "      <td>smart</td>\n",
       "      <td>fortwo coupe</td>\n",
       "      <td>2013</td>\n",
       "      <td>1.0</td>\n",
       "      <td>3.0</td>\n",
       "      <td>Auto(AM5)</td>\n",
       "      <td>Rear-Wheel Drive</td>\n",
       "      <td>Two Seaters</td>\n",
       "      <td>Premium</td>\n",
       "      <td>9.155833</td>\n",
       "      <td>34</td>\n",
       "      <td>38</td>\n",
       "      <td>36</td>\n",
       "      <td>244.000000</td>\n",
       "      <td>1100</td>\n",
       "    </tr>\n",
       "    <tr>\n",
       "      <th>35948</th>\n",
       "      <td>smart</td>\n",
       "      <td>fortwo coupe</td>\n",
       "      <td>2014</td>\n",
       "      <td>1.0</td>\n",
       "      <td>3.0</td>\n",
       "      <td>Auto(AM5)</td>\n",
       "      <td>Rear-Wheel Drive</td>\n",
       "      <td>Two Seaters</td>\n",
       "      <td>Premium</td>\n",
       "      <td>9.155833</td>\n",
       "      <td>34</td>\n",
       "      <td>38</td>\n",
       "      <td>36</td>\n",
       "      <td>243.000000</td>\n",
       "      <td>1100</td>\n",
       "    </tr>\n",
       "    <tr>\n",
       "      <th>35949</th>\n",
       "      <td>smart</td>\n",
       "      <td>fortwo coupe</td>\n",
       "      <td>2015</td>\n",
       "      <td>1.0</td>\n",
       "      <td>3.0</td>\n",
       "      <td>Auto(AM5)</td>\n",
       "      <td>Rear-Wheel Drive</td>\n",
       "      <td>Two Seaters</td>\n",
       "      <td>Premium</td>\n",
       "      <td>9.155833</td>\n",
       "      <td>34</td>\n",
       "      <td>38</td>\n",
       "      <td>36</td>\n",
       "      <td>244.000000</td>\n",
       "      <td>1100</td>\n",
       "    </tr>\n",
       "    <tr>\n",
       "      <th>35950</th>\n",
       "      <td>smart</td>\n",
       "      <td>fortwo coupe</td>\n",
       "      <td>2016</td>\n",
       "      <td>0.9</td>\n",
       "      <td>3.0</td>\n",
       "      <td>Auto(AM6)</td>\n",
       "      <td>Rear-Wheel Drive</td>\n",
       "      <td>Two Seaters</td>\n",
       "      <td>Premium</td>\n",
       "      <td>9.155833</td>\n",
       "      <td>34</td>\n",
       "      <td>39</td>\n",
       "      <td>36</td>\n",
       "      <td>246.000000</td>\n",
       "      <td>1100</td>\n",
       "    </tr>\n",
       "    <tr>\n",
       "      <th>35951</th>\n",
       "      <td>smart</td>\n",
       "      <td>fortwo coupe</td>\n",
       "      <td>2016</td>\n",
       "      <td>0.9</td>\n",
       "      <td>3.0</td>\n",
       "      <td>Manual 5-spd</td>\n",
       "      <td>Rear-Wheel Drive</td>\n",
       "      <td>Two Seaters</td>\n",
       "      <td>Premium</td>\n",
       "      <td>9.417429</td>\n",
       "      <td>32</td>\n",
       "      <td>39</td>\n",
       "      <td>35</td>\n",
       "      <td>255.000000</td>\n",
       "      <td>1150</td>\n",
       "    </tr>\n",
       "  </tbody>\n",
       "</table>\n",
       "<p>35952 rows × 15 columns</p>\n",
       "</div>"
      ],
      "text/plain": [
       "                   make                model  model_year  engine_displacement  \\\n",
       "0            AM General    DJ Po Vehicle 2WD        1984                  2.5   \n",
       "1            AM General     FJ8c Post Office        1984                  4.2   \n",
       "2            AM General  Post Office DJ5 2WD        1985                  2.5   \n",
       "3            AM General  Post Office DJ8 2WD        1985                  4.2   \n",
       "4      ASC Incorporated                  GNX        1987                  3.8   \n",
       "...                 ...                  ...         ...                  ...   \n",
       "35947             smart         fortwo coupe        2013                  1.0   \n",
       "35948             smart         fortwo coupe        2014                  1.0   \n",
       "35949             smart         fortwo coupe        2015                  1.0   \n",
       "35950             smart         fortwo coupe        2016                  0.9   \n",
       "35951             smart         fortwo coupe        2016                  0.9   \n",
       "\n",
       "       cylinders     transmission        drivetrain  \\\n",
       "0            4.0  Automatic 3-spd     2-Wheel Drive   \n",
       "1            6.0  Automatic 3-spd     2-Wheel Drive   \n",
       "2            4.0  Automatic 3-spd  Rear-Wheel Drive   \n",
       "3            6.0  Automatic 3-spd  Rear-Wheel Drive   \n",
       "4            6.0  Automatic 4-spd  Rear-Wheel Drive   \n",
       "...          ...              ...               ...   \n",
       "35947        3.0        Auto(AM5)  Rear-Wheel Drive   \n",
       "35948        3.0        Auto(AM5)  Rear-Wheel Drive   \n",
       "35949        3.0        Auto(AM5)  Rear-Wheel Drive   \n",
       "35950        3.0        Auto(AM6)  Rear-Wheel Drive   \n",
       "35951        3.0     Manual 5-spd  Rear-Wheel Drive   \n",
       "\n",
       "                     vehicle_class fuel_type  fuel_barrels_by_year  city_mpg  \\\n",
       "0      Special Purpose Vehicle 2WD   Regular             19.388824        18   \n",
       "1      Special Purpose Vehicle 2WD   Regular             25.354615        13   \n",
       "2      Special Purpose Vehicle 2WD   Regular             20.600625        16   \n",
       "3      Special Purpose Vehicle 2WD   Regular             25.354615        13   \n",
       "4                     Midsize Cars   Premium             20.600625        14   \n",
       "...                            ...       ...                   ...       ...   \n",
       "35947                  Two Seaters   Premium              9.155833        34   \n",
       "35948                  Two Seaters   Premium              9.155833        34   \n",
       "35949                  Two Seaters   Premium              9.155833        34   \n",
       "35950                  Two Seaters   Premium              9.155833        34   \n",
       "35951                  Two Seaters   Premium              9.417429        32   \n",
       "\n",
       "       highway_mpg  combined_mpg  co2_emission_grams_by_mile  \\\n",
       "0               17            17                  522.764706   \n",
       "1               13            13                  683.615385   \n",
       "2               17            16                  555.437500   \n",
       "3               13            13                  683.615385   \n",
       "4               21            16                  555.437500   \n",
       "...            ...           ...                         ...   \n",
       "35947           38            36                  244.000000   \n",
       "35948           38            36                  243.000000   \n",
       "35949           38            36                  244.000000   \n",
       "35950           39            36                  246.000000   \n",
       "35951           39            35                  255.000000   \n",
       "\n",
       "       fuel_cost_by_year  \n",
       "0                   1950  \n",
       "1                   2550  \n",
       "2                   2100  \n",
       "3                   2550  \n",
       "4                   2550  \n",
       "...                  ...  \n",
       "35947               1100  \n",
       "35948               1100  \n",
       "35949               1100  \n",
       "35950               1100  \n",
       "35951               1150  \n",
       "\n",
       "[35952 rows x 15 columns]"
      ]
     },
     "execution_count": 55,
     "metadata": {},
     "output_type": "execute_result"
    }
   ],
   "source": [
    "tb_veic.rename({'year' : 'model_year'}, axis = 1)"
   ]
  },
  {
   "cell_type": "code",
   "execution_count": 56,
   "id": "88a307c3",
   "metadata": {
    "ExecuteTime": {
     "end_time": "2021-12-04T13:43:23.235135Z",
     "start_time": "2021-12-04T13:43:23.216185Z"
    }
   },
   "outputs": [
    {
     "data": {
      "text/plain": [
       "Index(['make', 'model', 'year', 'engine_displacement', 'cylinders',\n",
       "       'transmission', 'drivetrain', 'vehicle_class', 'fuel_type',\n",
       "       'fuel_barrels_by_year', 'city_mpg', 'highway_mpg', 'combined_mpg',\n",
       "       'co2_emission_grams_by_mile', 'fuel_cost_by_year'],\n",
       "      dtype='object')"
      ]
     },
     "execution_count": 56,
     "metadata": {},
     "output_type": "execute_result"
    }
   ],
   "source": [
    "tb_veic.columns"
   ]
  },
  {
   "cell_type": "code",
   "execution_count": null,
   "id": "a886b374",
   "metadata": {},
   "outputs": [],
   "source": [
    "tb_veic = tb_veic.rename({'year' : 'model_year'}, axis = 1)"
   ]
  },
  {
   "cell_type": "markdown",
   "id": "e929535d",
   "metadata": {},
   "source": [
    "### Filters"
   ]
  },
  {
   "cell_type": "code",
   "execution_count": 60,
   "id": "7391a8d0",
   "metadata": {
    "ExecuteTime": {
     "end_time": "2021-12-04T13:46:55.578104Z",
     "start_time": "2021-12-04T13:46:55.556148Z"
    }
   },
   "outputs": [
    {
     "data": {
      "text/plain": [
       "count     35952\n",
       "unique        2\n",
       "top       False\n",
       "freq      33006\n",
       "Name: make, dtype: object"
      ]
     },
     "execution_count": 60,
     "metadata": {},
     "output_type": "execute_result"
    }
   ],
   "source": [
    "tb_veic['make'] == 'Ford'"
   ]
  },
  {
   "cell_type": "code",
   "execution_count": 61,
   "id": "98f5f226",
   "metadata": {
    "ExecuteTime": {
     "end_time": "2021-12-04T13:47:17.898351Z",
     "start_time": "2021-12-04T13:47:17.879402Z"
    }
   },
   "outputs": [
    {
     "data": {
      "text/plain": [
       "count     35952\n",
       "unique        2\n",
       "top       False\n",
       "freq      33006\n",
       "Name: make, dtype: object"
      ]
     },
     "execution_count": 61,
     "metadata": {},
     "output_type": "execute_result"
    }
   ],
   "source": [
    "mascara_ford = tb_veic['make'] == 'Ford'\n",
    "sum(mascara_ford)\n",
    "mascara_ford.describe()"
   ]
  },
  {
   "cell_type": "code",
   "execution_count": 65,
   "id": "d75f4e91",
   "metadata": {
    "ExecuteTime": {
     "end_time": "2021-12-04T13:49:18.567125Z",
     "start_time": "2021-12-04T13:49:18.541193Z"
    },
    "scrolled": true
   },
   "outputs": [
    {
     "name": "stdout",
     "output_type": "stream",
     "text": [
      "<class 'pandas.core.frame.DataFrame'>\n",
      "Int64Index: 2946 entries, 11440 to 14385\n",
      "Data columns (total 15 columns):\n",
      " #   Column                      Non-Null Count  Dtype  \n",
      "---  ------                      --------------  -----  \n",
      " 0   make                        2946 non-null   object \n",
      " 1   model                       2946 non-null   object \n",
      " 2   year                        2946 non-null   int64  \n",
      " 3   engine_displacement         2946 non-null   float64\n",
      " 4   cylinders                   2946 non-null   float64\n",
      " 5   transmission                2946 non-null   object \n",
      " 6   drivetrain                  2946 non-null   object \n",
      " 7   vehicle_class               2946 non-null   object \n",
      " 8   fuel_type                   2946 non-null   object \n",
      " 9   fuel_barrels_by_year        2946 non-null   float64\n",
      " 10  city_mpg                    2946 non-null   int64  \n",
      " 11  highway_mpg                 2946 non-null   int64  \n",
      " 12  combined_mpg                2946 non-null   int64  \n",
      " 13  co2_emission_grams_by_mile  2946 non-null   float64\n",
      " 14  fuel_cost_by_year           2946 non-null   int64  \n",
      "dtypes: float64(4), int64(5), object(6)\n",
      "memory usage: 368.2+ KB\n"
     ]
    }
   ],
   "source": [
    "tb_veic_ford = tb_veic[mascara_ford]\n",
    "tb_veic_ford.info()"
   ]
  },
  {
   "cell_type": "code",
   "execution_count": 67,
   "id": "41c392f9",
   "metadata": {
    "ExecuteTime": {
     "end_time": "2021-12-04T13:52:37.576978Z",
     "start_time": "2021-12-04T13:52:37.550081Z"
    }
   },
   "outputs": [
    {
     "name": "stdout",
     "output_type": "stream",
     "text": [
      "0        False\n",
      "1        False\n",
      "2        False\n",
      "3        False\n",
      "4        False\n",
      "         ...  \n",
      "35947    False\n",
      "35948    False\n",
      "35949    False\n",
      "35950    False\n",
      "35951    False\n",
      "Length: 35952, dtype: bool\n"
     ]
    },
    {
     "data": {
      "text/plain": [
       "2489"
      ]
     },
     "execution_count": 67,
     "metadata": {},
     "output_type": "execute_result"
    }
   ],
   "source": [
    "mascara_fordchev_6cyl = ((tb_veic['make'] == 'Ford') | (tb_veic['make'] == 'Chevrolet')) & (tb_veic['cylinders'] == 6)\n",
    "print(mascara_fordchev_6cyl)\n",
    "sum(mascara_fordchev_6cyl)"
   ]
  },
  {
   "cell_type": "code",
   "execution_count": 68,
   "id": "977ceb78",
   "metadata": {
    "ExecuteTime": {
     "end_time": "2021-12-04T13:53:32.749412Z",
     "start_time": "2021-12-04T13:53:32.725476Z"
    }
   },
   "outputs": [
    {
     "name": "stdout",
     "output_type": "stream",
     "text": [
      "Ford         1293\n",
      "Chevrolet    1196\n",
      "Name: make, dtype: int64\n",
      "6.0    2489\n",
      "Name: cylinders, dtype: int64\n"
     ]
    }
   ],
   "source": [
    "tb_fordchev_6cyl = tb_veic[mascara_fordchev_6cyl]\n",
    "print(tb_fordchev_6cyl['make'].value_counts())\n",
    "print(tb_fordchev_6cyl['cylinders'].value_counts())"
   ]
  },
  {
   "cell_type": "markdown",
   "id": "b2fcddce",
   "metadata": {},
   "source": [
    "### Using filters to create columns"
   ]
  },
  {
   "cell_type": "code",
   "execution_count": 72,
   "id": "aaf78efd",
   "metadata": {
    "ExecuteTime": {
     "end_time": "2021-12-04T14:01:37.320882Z",
     "start_time": "2021-12-04T14:01:37.280960Z"
    }
   },
   "outputs": [
    {
     "name": "stdout",
     "output_type": "stream",
     "text": [
      "<class 'pandas.core.frame.DataFrame'>\n",
      "RangeIndex: 35952 entries, 0 to 35951\n",
      "Data columns (total 16 columns):\n",
      " #   Column                      Non-Null Count  Dtype  \n",
      "---  ------                      --------------  -----  \n",
      " 0   make                        35952 non-null  object \n",
      " 1   model                       35952 non-null  object \n",
      " 2   year                        35952 non-null  int64  \n",
      " 3   engine_displacement         35952 non-null  float64\n",
      " 4   cylinders                   35952 non-null  float64\n",
      " 5   transmission                35952 non-null  object \n",
      " 6   drivetrain                  35952 non-null  object \n",
      " 7   vehicle_class               35952 non-null  object \n",
      " 8   fuel_type                   35952 non-null  object \n",
      " 9   fuel_barrels_by_year        35952 non-null  float64\n",
      " 10  city_mpg                    35952 non-null  int64  \n",
      " 11  highway_mpg                 35952 non-null  int64  \n",
      " 12  combined_mpg                35952 non-null  int64  \n",
      " 13  co2_emission_grams_by_mile  35952 non-null  float64\n",
      " 14  fuel_cost_by_year           35952 non-null  int64  \n",
      " 15  fordchev_6cyl               35952 non-null  object \n",
      "dtypes: float64(4), int64(5), object(7)\n",
      "memory usage: 4.4+ MB\n"
     ]
    }
   ],
   "source": [
    "tb_veic.loc[mascara_fordchev_6cyl, 'fordchev_6cyl'] = True\n",
    "tb_veic.loc[~mascara_fordchev_6cyl, 'fordchev_6cyl'] = False\n",
    "tb_veic.info()"
   ]
  },
  {
   "cell_type": "code",
   "execution_count": 73,
   "id": "f86c68af",
   "metadata": {
    "ExecuteTime": {
     "end_time": "2021-12-04T14:01:44.022312Z",
     "start_time": "2021-12-04T14:01:44.007351Z"
    }
   },
   "outputs": [
    {
     "data": {
      "text/plain": [
       "count     35952\n",
       "unique        2\n",
       "top       False\n",
       "freq      33463\n",
       "Name: fordchev_6cyl, dtype: object"
      ]
     },
     "execution_count": 73,
     "metadata": {},
     "output_type": "execute_result"
    }
   ],
   "source": [
    "tb_veic['fordchev_6cyl'].describe()"
   ]
  },
  {
   "cell_type": "code",
   "execution_count": 74,
   "id": "c2ad05bc",
   "metadata": {
    "ExecuteTime": {
     "end_time": "2021-12-04T14:03:16.062096Z",
     "start_time": "2021-12-04T14:03:16.039156Z"
    }
   },
   "outputs": [
    {
     "name": "stdout",
     "output_type": "stream",
     "text": [
      "15.0\n",
      "20.0\n"
     ]
    }
   ],
   "source": [
    "p25_citympg = tb_veic['city_mpg'].quantile(0.25)\n",
    "p75_citympg = tb_veic['city_mpg'].quantile(0.75)\n",
    "print(p25_citympg)\n",
    "print(p75_citympg)"
   ]
  },
  {
   "cell_type": "code",
   "execution_count": 78,
   "id": "03ad9f49",
   "metadata": {
    "ExecuteTime": {
     "end_time": "2021-12-04T14:08:46.509399Z",
     "start_time": "2021-12-04T14:08:46.488460Z"
    }
   },
   "outputs": [
    {
     "data": {
      "text/plain": [
       "numpy.float64"
      ]
     },
     "execution_count": 78,
     "metadata": {},
     "output_type": "execute_result"
    }
   ],
   "source": [
    "type(p25_citympg)"
   ]
  },
  {
   "cell_type": "code",
   "execution_count": 77,
   "id": "9ce3f017",
   "metadata": {
    "ExecuteTime": {
     "end_time": "2021-12-04T14:07:08.154448Z",
     "start_time": "2021-12-04T14:07:08.148480Z"
    }
   },
   "outputs": [
    {
     "data": {
      "text/plain": [
       "array(['', '', '', ..., '', '', ''], dtype='<U12')"
      ]
     },
     "execution_count": 77,
     "metadata": {},
     "output_type": "execute_result"
    }
   ],
   "source": [
    "np.where(mascara_fordchev_6cyl, 'Ford ou Chev', 'Outros')"
   ]
  },
  {
   "cell_type": "code",
   "execution_count": 76,
   "id": "a8b4bc04",
   "metadata": {
    "ExecuteTime": {
     "end_time": "2021-12-04T14:06:32.389696Z",
     "start_time": "2021-12-04T14:06:32.365760Z"
    }
   },
   "outputs": [
    {
     "data": {
      "text/plain": [
       "B    17601\n",
       "A     9879\n",
       "C     8472\n",
       "Name: eff_city, dtype: int64"
      ]
     },
     "execution_count": 76,
     "metadata": {},
     "output_type": "execute_result"
    }
   ],
   "source": [
    "\n",
    "\n",
    "tb_veic['eff_city'] = np.where(tb_veic['city_mpg'] < p25_citympg, 'C',\n",
    "                               np.where(tb_veic['city_mpg'] < p75_citympg, 'B', 'A'))\n",
    "tb_veic['eff_city'].value_counts()"
   ]
  },
  {
   "cell_type": "code",
   "execution_count": null,
   "id": "e884bdbe",
   "metadata": {},
   "outputs": [],
   "source": []
  }
 ],
 "metadata": {
  "hide_input": false,
  "kernelspec": {
   "display_name": "Python 3",
   "language": "python",
   "name": "python3"
  },
  "language_info": {
   "codemirror_mode": {
    "name": "ipython",
    "version": 3
   },
   "file_extension": ".py",
   "mimetype": "text/x-python",
   "name": "python",
   "nbconvert_exporter": "python",
   "pygments_lexer": "ipython3",
   "version": "3.8.8"
  },
  "toc": {
   "base_numbering": 1,
   "nav_menu": {},
   "number_sections": true,
   "sideBar": true,
   "skip_h1_title": false,
   "title_cell": "Table of Contents",
   "title_sidebar": "Contents",
   "toc_cell": true,
   "toc_position": {
    "height": "calc(100% - 180px)",
    "left": "10px",
    "top": "150px",
    "width": "274px"
   },
   "toc_section_display": true,
   "toc_window_display": true
  }
 },
 "nbformat": 4,
 "nbformat_minor": 5
}
