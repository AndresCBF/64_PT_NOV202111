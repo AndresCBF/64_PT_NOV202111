{
 "cells": [
  {
   "cell_type": "markdown",
   "id": "158d9660",
   "metadata": {
    "toc": true
   },
   "source": [
    "<h1>Table of Contents<span class=\"tocSkip\"></span></h1>\n",
    "<div class=\"toc\"><ul class=\"toc-item\"><li><span><a href=\"#Revisão-Aulas-11,-12-e-13\" data-toc-modified-id=\"Revisão-Aulas-11,-12-e-13-1\"><span class=\"toc-item-num\">1&nbsp;&nbsp;</span>Revisão Aulas 11, 12 e 13</a></span><ul class=\"toc-item\"><li><span><a href=\"#Programação-Funcional\" data-toc-modified-id=\"Programação-Funcional-1.1\"><span class=\"toc-item-num\">1.1&nbsp;&nbsp;</span>Programação Funcional</a></span><ul class=\"toc-item\"><li><span><a href=\"#Funções-Anônimas-(lambda-functions)\" data-toc-modified-id=\"Funções-Anônimas-(lambda-functions)-1.1.1\"><span class=\"toc-item-num\">1.1.1&nbsp;&nbsp;</span>Funções Anônimas (lambda functions)</a></span></li><li><span><a href=\"#Map,-Filter-&amp;-Reduce\" data-toc-modified-id=\"Map,-Filter-&amp;-Reduce-1.1.2\"><span class=\"toc-item-num\">1.1.2&nbsp;&nbsp;</span>Map, Filter &amp; Reduce</a></span><ul class=\"toc-item\"><li><span><a href=\"#Amarrando-tudo-junto\" data-toc-modified-id=\"Amarrando-tudo-junto-1.1.2.1\"><span class=\"toc-item-num\">1.1.2.1&nbsp;&nbsp;</span>Amarrando tudo junto</a></span></li></ul></li></ul></li><li><span><a href=\"#Pandas\" data-toc-modified-id=\"Pandas-1.2\"><span class=\"toc-item-num\">1.2&nbsp;&nbsp;</span>Pandas</a></span><ul class=\"toc-item\"><li><span><a href=\"#Series-Apply\" data-toc-modified-id=\"Series-Apply-1.2.1\"><span class=\"toc-item-num\">1.2.1&nbsp;&nbsp;</span>Series Apply</a></span></li><li><span><a href=\"#DataFrame-Apply\" data-toc-modified-id=\"DataFrame-Apply-1.2.2\"><span class=\"toc-item-num\">1.2.2&nbsp;&nbsp;</span>DataFrame Apply</a></span></li><li><span><a href=\"#DataFrame-Transform\" data-toc-modified-id=\"DataFrame-Transform-1.2.3\"><span class=\"toc-item-num\">1.2.3&nbsp;&nbsp;</span>DataFrame Transform</a></span></li></ul></li></ul></li><li><span><a href=\"#Voltamos-14h\" data-toc-modified-id=\"Voltamos-14h-2\"><span class=\"toc-item-num\">2&nbsp;&nbsp;</span>Voltamos 14h</a></span></li></ul></div>"
   ]
  },
  {
   "cell_type": "markdown",
   "id": "d20e6ba1",
   "metadata": {},
   "source": [
    "# Revisão Aulas 11, 12 e 13\n",
    "\n",
    "\n",
    "* Programação Funcional\n",
    "    * Funções anônimas\n",
    "    * Map, Filter, Reduce\n",
    "* Pandas Apply"
   ]
  },
  {
   "cell_type": "markdown",
   "id": "131258c4",
   "metadata": {},
   "source": [
    "## Programação Funcional"
   ]
  },
  {
   "cell_type": "markdown",
   "id": "2cc043bc",
   "metadata": {},
   "source": [
    "### Funções Anônimas (lambda functions)"
   ]
  },
  {
   "cell_type": "code",
   "execution_count": 1,
   "id": "08aa3d6f",
   "metadata": {
    "ExecuteTime": {
     "end_time": "2022-01-08T14:39:41.589461Z",
     "start_time": "2022-01-08T14:39:41.572506Z"
    }
   },
   "outputs": [
    {
     "name": "stdout",
     "output_type": "stream",
     "text": [
      "5\n",
      "5\n",
      "5\n"
     ]
    }
   ],
   "source": [
    "def somar_2(x):\n",
    "    return x + 2\n",
    "\n",
    "somar_2_lambda = lambda x: x + 2\n",
    "print(somar_2(3))\n",
    "print((lambda x: x + 2) (3))\n",
    "print(somar_2_lambda(3))"
   ]
  },
  {
   "cell_type": "code",
   "execution_count": 2,
   "id": "877c13fd",
   "metadata": {
    "ExecuteTime": {
     "end_time": "2022-01-08T14:40:08.725567Z",
     "start_time": "2022-01-08T14:40:08.706618Z"
    }
   },
   "outputs": [
    {
     "data": {
      "text/plain": [
       "5"
      ]
     },
     "execution_count": 2,
     "metadata": {},
     "output_type": "execute_result"
    }
   ],
   "source": [
    "(lambda x, y: x + y) (2, 3)"
   ]
  },
  {
   "cell_type": "code",
   "execution_count": 4,
   "id": "ff24f2d0",
   "metadata": {
    "ExecuteTime": {
     "end_time": "2022-01-08T14:40:53.554643Z",
     "start_time": "2022-01-08T14:40:53.542676Z"
    }
   },
   "outputs": [
    {
     "data": {
      "text/plain": [
       "1"
      ]
     },
     "execution_count": 4,
     "metadata": {},
     "output_type": "execute_result"
    }
   ],
   "source": [
    "(lambda x, y: x - y if x > y else y - x) (3, 2)"
   ]
  },
  {
   "cell_type": "code",
   "execution_count": 5,
   "id": "ff901124",
   "metadata": {
    "ExecuteTime": {
     "end_time": "2022-01-08T14:41:10.744978Z",
     "start_time": "2022-01-08T14:41:10.731018Z"
    }
   },
   "outputs": [
    {
     "data": {
      "text/plain": [
       "10"
      ]
     },
     "execution_count": 5,
     "metadata": {},
     "output_type": "execute_result"
    }
   ],
   "source": [
    "(lambda x: x.find('teste'))('este é um teste')"
   ]
  },
  {
   "cell_type": "code",
   "execution_count": 6,
   "id": "2dd44f3a",
   "metadata": {
    "ExecuteTime": {
     "end_time": "2022-01-08T14:41:20.575888Z",
     "start_time": "2022-01-08T14:41:20.555941Z"
    }
   },
   "outputs": [
    {
     "data": {
      "text/plain": [
       "1"
      ]
     },
     "execution_count": 6,
     "metadata": {},
     "output_type": "execute_result"
    }
   ],
   "source": [
    "(lambda x: x[0])([1,2,3])"
   ]
  },
  {
   "cell_type": "markdown",
   "id": "b0700a2a",
   "metadata": {},
   "source": [
    "### Map, Filter & Reduce"
   ]
  },
  {
   "cell_type": "code",
   "execution_count": 9,
   "id": "9bbbefd1",
   "metadata": {
    "ExecuteTime": {
     "end_time": "2022-01-08T14:42:50.284405Z",
     "start_time": "2022-01-08T14:42:50.280415Z"
    }
   },
   "outputs": [],
   "source": [
    "lista_numeros = [5, 10, 15, 2, 3, -5]"
   ]
  },
  {
   "cell_type": "code",
   "execution_count": 25,
   "id": "93831f8f",
   "metadata": {
    "ExecuteTime": {
     "end_time": "2022-01-08T14:53:41.950966Z",
     "start_time": "2022-01-08T14:53:41.934986Z"
    }
   },
   "outputs": [
    {
     "ename": "TypeError",
     "evalue": "'map' object is not callable",
     "output_type": "error",
     "traceback": [
      "\u001b[1;31m---------------------------------------------------------------------------\u001b[0m",
      "\u001b[1;31mTypeError\u001b[0m                                 Traceback (most recent call last)",
      "\u001b[1;32m<ipython-input-25-019323d6a93e>\u001b[0m in \u001b[0;36m<module>\u001b[1;34m\u001b[0m\n\u001b[0;32m      2\u001b[0m \u001b[0mi\u001b[0m \u001b[1;33m=\u001b[0m \u001b[1;36m0\u001b[0m\u001b[1;33m\u001b[0m\u001b[1;33m\u001b[0m\u001b[0m\n\u001b[0;32m      3\u001b[0m \u001b[1;32mfor\u001b[0m \u001b[0mi\u001b[0m \u001b[1;32min\u001b[0m \u001b[0mrange\u001b[0m\u001b[1;33m(\u001b[0m\u001b[1;36m2\u001b[0m\u001b[1;33m)\u001b[0m\u001b[1;33m:\u001b[0m\u001b[1;33m\u001b[0m\u001b[1;33m\u001b[0m\u001b[0m\n\u001b[1;32m----> 4\u001b[1;33m     \u001b[0mprint\u001b[0m\u001b[1;33m(\u001b[0m\u001b[0mnum_sq\u001b[0m\u001b[1;33m(\u001b[0m\u001b[1;33m)\u001b[0m\u001b[1;33m)\u001b[0m\u001b[1;33m\u001b[0m\u001b[1;33m\u001b[0m\u001b[0m\n\u001b[0m\u001b[0;32m      5\u001b[0m \u001b[1;31m#print(list(num_sq)[:2])\u001b[0m\u001b[1;33m\u001b[0m\u001b[1;33m\u001b[0m\u001b[1;33m\u001b[0m\u001b[0m\n",
      "\u001b[1;31mTypeError\u001b[0m: 'map' object is not callable"
     ]
    }
   ],
   "source": [
    "num_sq = map(lambda x: x**2, lista_numeros)\n",
    "for i in num_sq:\n",
    "    print(i)\n",
    "print(list(num_sq)[:2])"
   ]
  },
  {
   "cell_type": "code",
   "execution_count": 14,
   "id": "f42bf2fd",
   "metadata": {
    "ExecuteTime": {
     "end_time": "2022-01-08T14:43:28.036536Z",
     "start_time": "2022-01-08T14:43:28.030583Z"
    }
   },
   "outputs": [],
   "source": []
  },
  {
   "cell_type": "code",
   "execution_count": 15,
   "id": "244aa2d7",
   "metadata": {
    "ExecuteTime": {
     "end_time": "2022-01-08T14:44:45.577455Z",
     "start_time": "2022-01-08T14:44:45.568482Z"
    }
   },
   "outputs": [
    {
     "name": "stdout",
     "output_type": "stream",
     "text": [
      "10\n",
      "15\n"
     ]
    }
   ],
   "source": [
    "num_gt5 = filter(lambda x: x > 5, lista_numeros)\n",
    "for i in num_gt5:\n",
    "    print(i)"
   ]
  },
  {
   "cell_type": "code",
   "execution_count": 16,
   "id": "3e9b5667",
   "metadata": {
    "ExecuteTime": {
     "end_time": "2022-01-08T14:45:44.420104Z",
     "start_time": "2022-01-08T14:45:44.414119Z"
    }
   },
   "outputs": [
    {
     "name": "stdout",
     "output_type": "stream",
     "text": [
      "-22500\n"
     ]
    }
   ],
   "source": [
    "from functools import reduce\n",
    "num_prod = reduce(lambda x, y: x*y, lista_numeros)\n",
    "print(num_prod)"
   ]
  },
  {
   "cell_type": "markdown",
   "id": "aa76a0d7",
   "metadata": {},
   "source": [
    "#### Amarrando tudo junto"
   ]
  },
  {
   "cell_type": "code",
   "execution_count": 17,
   "id": "2692b79f",
   "metadata": {
    "ExecuteTime": {
     "end_time": "2022-01-08T14:47:50.424287Z",
     "start_time": "2022-01-08T14:47:50.415289Z"
    }
   },
   "outputs": [
    {
     "name": "stdout",
     "output_type": "stream",
     "text": [
      "14062500\n"
     ]
    }
   ],
   "source": [
    "num_sq = map(lambda x: x**2, lista_numeros)\n",
    "num_gt10 = filter(lambda x: True if x > 10 else False, num_sq)\n",
    "num_prod = reduce(lambda x, y: x*y, num_gt10)\n",
    "print(num_prod)"
   ]
  },
  {
   "cell_type": "markdown",
   "id": "d09c15d7",
   "metadata": {},
   "source": [
    "## Pandas"
   ]
  },
  {
   "cell_type": "markdown",
   "id": "a58e360d",
   "metadata": {},
   "source": [
    "### Series Apply"
   ]
  },
  {
   "cell_type": "code",
   "execution_count": 26,
   "id": "1f6c4488",
   "metadata": {
    "ExecuteTime": {
     "end_time": "2022-01-08T14:58:37.591849Z",
     "start_time": "2022-01-08T14:58:37.020359Z"
    }
   },
   "outputs": [],
   "source": [
    "import pandas as pd\n",
    "tb_veic = pd.read_csv('data/dados_veiculos.csv')"
   ]
  },
  {
   "cell_type": "code",
   "execution_count": 27,
   "id": "516c1274",
   "metadata": {
    "ExecuteTime": {
     "end_time": "2022-01-08T14:58:40.183801Z",
     "start_time": "2022-01-08T14:58:40.146886Z"
    }
   },
   "outputs": [
    {
     "name": "stdout",
     "output_type": "stream",
     "text": [
      "<class 'pandas.core.frame.DataFrame'>\n",
      "RangeIndex: 35952 entries, 0 to 35951\n",
      "Data columns (total 15 columns):\n",
      " #   Column                   Non-Null Count  Dtype  \n",
      "---  ------                   --------------  -----  \n",
      " 0   Make                     35952 non-null  object \n",
      " 1   Model                    35952 non-null  object \n",
      " 2   Year                     35952 non-null  int64  \n",
      " 3   Engine Displacement      35952 non-null  float64\n",
      " 4   Cylinders                35952 non-null  float64\n",
      " 5   Transmission             35952 non-null  object \n",
      " 6   Drivetrain               35952 non-null  object \n",
      " 7   Vehicle Class            35952 non-null  object \n",
      " 8   Fuel Type                35952 non-null  object \n",
      " 9   Fuel Barrels/Year        35952 non-null  float64\n",
      " 10  City MPG                 35952 non-null  int64  \n",
      " 11  Highway MPG              35952 non-null  int64  \n",
      " 12  Combined MPG             35952 non-null  int64  \n",
      " 13  CO2 Emission Grams/Mile  35952 non-null  float64\n",
      " 14  Fuel Cost/Year           35952 non-null  int64  \n",
      "dtypes: float64(4), int64(5), object(6)\n",
      "memory usage: 4.1+ MB\n"
     ]
    }
   ],
   "source": [
    "tb_veic.info()"
   ]
  },
  {
   "cell_type": "code",
   "execution_count": 28,
   "id": "fcec1abd",
   "metadata": {
    "ExecuteTime": {
     "end_time": "2022-01-08T14:58:56.994664Z",
     "start_time": "2022-01-08T14:58:56.969713Z"
    }
   },
   "outputs": [
    {
     "data": {
      "text/plain": [
       "Chevrolet                             3643\n",
       "Ford                                  2946\n",
       "Dodge                                 2360\n",
       "GMC                                   2347\n",
       "Toyota                                1836\n",
       "                                      ... \n",
       "Superior Coaches Div E.p. Dutton         1\n",
       "Aurora Cars Ltd                          1\n",
       "Grumman Allied Industries                1\n",
       "S and S Coach Company  E.p. Dutton       1\n",
       "Panos                                    1\n",
       "Name: Make, Length: 127, dtype: int64"
      ]
     },
     "execution_count": 28,
     "metadata": {},
     "output_type": "execute_result"
    }
   ],
   "source": [
    "tb_veic['Make'].value_counts()"
   ]
  },
  {
   "cell_type": "code",
   "execution_count": 29,
   "id": "64948106",
   "metadata": {
    "ExecuteTime": {
     "end_time": "2022-01-08T15:00:36.666759Z",
     "start_time": "2022-01-08T15:00:36.648778Z"
    }
   },
   "outputs": [],
   "source": [
    "lista_marcas = ['Chevrolet', 'Ford', 'Dodge', 'GMC', 'Toyota']\n",
    "\n",
    "tb_veic['top_make'] = tb_veic['Make'].apply(lambda x: x if x in lista_marcas else 'Outros')"
   ]
  },
  {
   "cell_type": "code",
   "execution_count": 30,
   "id": "34b90157",
   "metadata": {
    "ExecuteTime": {
     "end_time": "2022-01-08T15:00:43.323671Z",
     "start_time": "2022-01-08T15:00:43.306718Z"
    }
   },
   "outputs": [
    {
     "data": {
      "text/plain": [
       "Outros       22820\n",
       "Chevrolet     3643\n",
       "Ford          2946\n",
       "Dodge         2360\n",
       "GMC           2347\n",
       "Toyota        1836\n",
       "Name: top_make, dtype: int64"
      ]
     },
     "execution_count": 30,
     "metadata": {},
     "output_type": "execute_result"
    }
   ],
   "source": [
    "tb_veic['top_make'].value_counts()"
   ]
  },
  {
   "cell_type": "code",
   "execution_count": 31,
   "id": "ce964889",
   "metadata": {
    "ExecuteTime": {
     "end_time": "2022-01-08T15:02:05.823457Z",
     "start_time": "2022-01-08T15:02:05.810482Z"
    }
   },
   "outputs": [],
   "source": [
    "tb_happy = pd.read_csv('data/tb_happy.csv')"
   ]
  },
  {
   "cell_type": "code",
   "execution_count": 32,
   "id": "55ba932c",
   "metadata": {
    "ExecuteTime": {
     "end_time": "2022-01-08T15:02:07.028043Z",
     "start_time": "2022-01-08T15:02:06.999594Z"
    }
   },
   "outputs": [
    {
     "data": {
      "text/html": [
       "<div>\n",
       "<style scoped>\n",
       "    .dataframe tbody tr th:only-of-type {\n",
       "        vertical-align: middle;\n",
       "    }\n",
       "\n",
       "    .dataframe tbody tr th {\n",
       "        vertical-align: top;\n",
       "    }\n",
       "\n",
       "    .dataframe thead th {\n",
       "        text-align: right;\n",
       "    }\n",
       "</style>\n",
       "<table border=\"1\" class=\"dataframe\">\n",
       "  <thead>\n",
       "    <tr style=\"text-align: right;\">\n",
       "      <th></th>\n",
       "      <th>Unnamed: 0</th>\n",
       "      <th>country</th>\n",
       "      <th>happiness_rank</th>\n",
       "      <th>happiness_score</th>\n",
       "      <th>gdp_per_capita</th>\n",
       "      <th>family</th>\n",
       "      <th>health_life_expectancy</th>\n",
       "      <th>freedom</th>\n",
       "      <th>corruption</th>\n",
       "      <th>generosity</th>\n",
       "      <th>dystopia</th>\n",
       "      <th>year</th>\n",
       "      <th>social_support</th>\n",
       "      <th>region_cons</th>\n",
       "    </tr>\n",
       "  </thead>\n",
       "  <tbody>\n",
       "    <tr>\n",
       "      <th>0</th>\n",
       "      <td>0</td>\n",
       "      <td>Switzerland</td>\n",
       "      <td>1</td>\n",
       "      <td>7.587</td>\n",
       "      <td>1.39651</td>\n",
       "      <td>1.349510</td>\n",
       "      <td>0.941430</td>\n",
       "      <td>0.665570</td>\n",
       "      <td>0.419780</td>\n",
       "      <td>0.296780</td>\n",
       "      <td>2.517380</td>\n",
       "      <td>2015</td>\n",
       "      <td>NaN</td>\n",
       "      <td>Western Europe</td>\n",
       "    </tr>\n",
       "    <tr>\n",
       "      <th>1</th>\n",
       "      <td>1</td>\n",
       "      <td>Switzerland</td>\n",
       "      <td>2</td>\n",
       "      <td>7.509</td>\n",
       "      <td>1.52733</td>\n",
       "      <td>1.145240</td>\n",
       "      <td>0.863030</td>\n",
       "      <td>0.585570</td>\n",
       "      <td>0.412030</td>\n",
       "      <td>0.280830</td>\n",
       "      <td>2.694630</td>\n",
       "      <td>2016</td>\n",
       "      <td>NaN</td>\n",
       "      <td>Western Europe</td>\n",
       "    </tr>\n",
       "    <tr>\n",
       "      <th>2</th>\n",
       "      <td>2</td>\n",
       "      <td>Switzerland</td>\n",
       "      <td>4</td>\n",
       "      <td>7.494</td>\n",
       "      <td>1.56498</td>\n",
       "      <td>1.516912</td>\n",
       "      <td>0.858131</td>\n",
       "      <td>0.620071</td>\n",
       "      <td>0.367007</td>\n",
       "      <td>0.290549</td>\n",
       "      <td>2.276716</td>\n",
       "      <td>2017</td>\n",
       "      <td>NaN</td>\n",
       "      <td>Western Europe</td>\n",
       "    </tr>\n",
       "    <tr>\n",
       "      <th>3</th>\n",
       "      <td>3</td>\n",
       "      <td>Switzerland</td>\n",
       "      <td>5</td>\n",
       "      <td>7.487</td>\n",
       "      <td>1.42000</td>\n",
       "      <td>NaN</td>\n",
       "      <td>0.927000</td>\n",
       "      <td>0.660000</td>\n",
       "      <td>0.357000</td>\n",
       "      <td>0.256000</td>\n",
       "      <td>NaN</td>\n",
       "      <td>2018</td>\n",
       "      <td>1.549</td>\n",
       "      <td>Western Europe</td>\n",
       "    </tr>\n",
       "    <tr>\n",
       "      <th>4</th>\n",
       "      <td>4</td>\n",
       "      <td>Switzerland</td>\n",
       "      <td>6</td>\n",
       "      <td>7.480</td>\n",
       "      <td>1.45200</td>\n",
       "      <td>NaN</td>\n",
       "      <td>1.052000</td>\n",
       "      <td>0.572000</td>\n",
       "      <td>0.343000</td>\n",
       "      <td>0.263000</td>\n",
       "      <td>NaN</td>\n",
       "      <td>2019</td>\n",
       "      <td>1.526</td>\n",
       "      <td>Western Europe</td>\n",
       "    </tr>\n",
       "  </tbody>\n",
       "</table>\n",
       "</div>"
      ],
      "text/plain": [
       "   Unnamed: 0      country  happiness_rank  happiness_score  gdp_per_capita  \\\n",
       "0           0  Switzerland               1            7.587         1.39651   \n",
       "1           1  Switzerland               2            7.509         1.52733   \n",
       "2           2  Switzerland               4            7.494         1.56498   \n",
       "3           3  Switzerland               5            7.487         1.42000   \n",
       "4           4  Switzerland               6            7.480         1.45200   \n",
       "\n",
       "     family  health_life_expectancy   freedom  corruption  generosity  \\\n",
       "0  1.349510                0.941430  0.665570    0.419780    0.296780   \n",
       "1  1.145240                0.863030  0.585570    0.412030    0.280830   \n",
       "2  1.516912                0.858131  0.620071    0.367007    0.290549   \n",
       "3       NaN                0.927000  0.660000    0.357000    0.256000   \n",
       "4       NaN                1.052000  0.572000    0.343000    0.263000   \n",
       "\n",
       "   dystopia  year  social_support     region_cons  \n",
       "0  2.517380  2015             NaN  Western Europe  \n",
       "1  2.694630  2016             NaN  Western Europe  \n",
       "2  2.276716  2017             NaN  Western Europe  \n",
       "3       NaN  2018           1.549  Western Europe  \n",
       "4       NaN  2019           1.526  Western Europe  "
      ]
     },
     "execution_count": 32,
     "metadata": {},
     "output_type": "execute_result"
    }
   ],
   "source": [
    "tb_happy.head()"
   ]
  },
  {
   "cell_type": "code",
   "execution_count": 33,
   "id": "0fe23ab8",
   "metadata": {
    "ExecuteTime": {
     "end_time": "2022-01-08T15:03:02.644578Z",
     "start_time": "2022-01-08T15:03:02.623661Z"
    }
   },
   "outputs": [
    {
     "data": {
      "text/plain": [
       "Sub-Saharan Africa                 195\n",
       "Central and Eastern Europe         144\n",
       "Latin America and Caribbean        109\n",
       "Western Europe                     103\n",
       "Middle East and Northern Africa     96\n",
       "Southeastern Asia                   44\n",
       "Southern Asia                       35\n",
       "Eastern Asia                        28\n",
       "North America                       10\n",
       "Australia and New Zealand           10\n",
       "Name: region_cons, dtype: int64"
      ]
     },
     "execution_count": 33,
     "metadata": {},
     "output_type": "execute_result"
    }
   ],
   "source": [
    "tb_happy['region_cons'].value_counts()"
   ]
  },
  {
   "cell_type": "code",
   "execution_count": 35,
   "id": "6c52ae66",
   "metadata": {
    "ExecuteTime": {
     "end_time": "2022-01-08T15:05:38.303644Z",
     "start_time": "2022-01-08T15:05:38.293671Z"
    }
   },
   "outputs": [],
   "source": [
    "def agrupar_regiao(regiao):\n",
    "    '''\n",
    "    Agrupa regiões de acordo com a presença de substrings indicando continente\n",
    "    regiao (str): Nome da Região\n",
    "    '''\n",
    "    continentes = ['Africa', 'Europe', 'America', 'Asia', 'Australia']\n",
    "    for cont in continentes:\n",
    "        if regiao.find(cont) >= 0:\n",
    "            if cont == 'Australia':\n",
    "                return 'Oceania'\n",
    "            else:\n",
    "                return cont"
   ]
  },
  {
   "cell_type": "code",
   "execution_count": 36,
   "id": "66bd5ff3",
   "metadata": {
    "ExecuteTime": {
     "end_time": "2022-01-08T15:05:38.869392Z",
     "start_time": "2022-01-08T15:05:38.860388Z"
    }
   },
   "outputs": [],
   "source": [
    "tb_happy['continente'] = tb_happy['region_cons'].apply(agrupar_regiao)"
   ]
  },
  {
   "cell_type": "code",
   "execution_count": 37,
   "id": "4abc86f5",
   "metadata": {
    "ExecuteTime": {
     "end_time": "2022-01-08T15:05:41.887597Z",
     "start_time": "2022-01-08T15:05:41.873634Z"
    }
   },
   "outputs": [
    {
     "data": {
      "text/plain": [
       "Africa     291\n",
       "Europe     247\n",
       "America    119\n",
       "Asia       107\n",
       "Oceania     10\n",
       "Name: continente, dtype: int64"
      ]
     },
     "execution_count": 37,
     "metadata": {},
     "output_type": "execute_result"
    }
   ],
   "source": [
    "tb_happy['continente'].value_counts()"
   ]
  },
  {
   "cell_type": "markdown",
   "id": "fc214301",
   "metadata": {},
   "source": [
    "### DataFrame Apply"
   ]
  },
  {
   "cell_type": "code",
   "execution_count": null,
   "id": "17662842",
   "metadata": {
    "ExecuteTime": {
     "end_time": "2022-01-08T11:42:29.772302Z",
     "start_time": "2022-01-08T11:42:29.748350Z"
    }
   },
   "outputs": [],
   "source": [
    "tb_happy.info()"
   ]
  },
  {
   "cell_type": "code",
   "execution_count": 38,
   "id": "3f02aa2e",
   "metadata": {
    "ExecuteTime": {
     "end_time": "2022-01-08T15:07:48.726394Z",
     "start_time": "2022-01-08T15:07:48.703449Z"
    }
   },
   "outputs": [
    {
     "data": {
      "text/plain": [
       "0      C\n",
       "1      C\n",
       "2      C\n",
       "3      C\n",
       "4      C\n",
       "      ..\n",
       "769    G\n",
       "770    G\n",
       "771    G\n",
       "772    G\n",
       "773    G\n",
       "Length: 774, dtype: object"
      ]
     },
     "execution_count": 38,
     "metadata": {},
     "output_type": "execute_result"
    }
   ],
   "source": [
    "tb_happy[['generosity', 'corruption']].apply(lambda x: 'G' if x['generosity'] > x['corruption'] else 'C',\n",
    "                                            axis = 1)"
   ]
  },
  {
   "cell_type": "code",
   "execution_count": 39,
   "id": "4a522bb1",
   "metadata": {
    "ExecuteTime": {
     "end_time": "2022-01-08T15:08:05.455519Z",
     "start_time": "2022-01-08T15:08:05.428589Z"
    }
   },
   "outputs": [],
   "source": [
    "tb_happy['g_or_c'] = tb_happy[['generosity', 'corruption']].apply(\n",
    "    lambda x: 'G' if x['generosity'] > x['corruption'] else 'C', axis=1)"
   ]
  },
  {
   "cell_type": "code",
   "execution_count": 40,
   "id": "ff8ffcc1",
   "metadata": {
    "ExecuteTime": {
     "end_time": "2022-01-08T15:08:27.199269Z",
     "start_time": "2022-01-08T15:08:27.186305Z"
    }
   },
   "outputs": [
    {
     "data": {
      "text/plain": [
       "generosity    0.838075\n",
       "corruption    0.551910\n",
       "dtype: float64"
      ]
     },
     "execution_count": 40,
     "metadata": {},
     "output_type": "execute_result"
    }
   ],
   "source": [
    "tb_happy[['generosity', 'corruption']].apply(max, axis = 0)"
   ]
  },
  {
   "cell_type": "code",
   "execution_count": 41,
   "id": "bb024641",
   "metadata": {
    "ExecuteTime": {
     "end_time": "2022-01-08T15:09:08.505041Z",
     "start_time": "2022-01-08T15:09:08.443487Z"
    }
   },
   "outputs": [
    {
     "data": {
      "text/html": [
       "<div>\n",
       "<style scoped>\n",
       "    .dataframe tbody tr th:only-of-type {\n",
       "        vertical-align: middle;\n",
       "    }\n",
       "\n",
       "    .dataframe tbody tr th {\n",
       "        vertical-align: top;\n",
       "    }\n",
       "\n",
       "    .dataframe thead th {\n",
       "        text-align: right;\n",
       "    }\n",
       "</style>\n",
       "<table border=\"1\" class=\"dataframe\">\n",
       "  <thead>\n",
       "    <tr style=\"text-align: right;\">\n",
       "      <th></th>\n",
       "      <th>Unnamed: 0</th>\n",
       "      <th>happiness_rank</th>\n",
       "      <th>happiness_score</th>\n",
       "      <th>gdp_per_capita</th>\n",
       "      <th>family</th>\n",
       "      <th>health_life_expectancy</th>\n",
       "      <th>freedom</th>\n",
       "      <th>corruption</th>\n",
       "      <th>generosity</th>\n",
       "      <th>dystopia</th>\n",
       "      <th>year</th>\n",
       "      <th>social_support</th>\n",
       "    </tr>\n",
       "  </thead>\n",
       "  <tbody>\n",
       "    <tr>\n",
       "      <th>count</th>\n",
       "      <td>774.000000</td>\n",
       "      <td>774.000000</td>\n",
       "      <td>774.000000</td>\n",
       "      <td>774.000000</td>\n",
       "      <td>468.000000</td>\n",
       "      <td>774.000000</td>\n",
       "      <td>774.000000</td>\n",
       "      <td>773.000000</td>\n",
       "      <td>774.000000</td>\n",
       "      <td>468.000000</td>\n",
       "      <td>774.000000</td>\n",
       "      <td>306.000000</td>\n",
       "    </tr>\n",
       "    <tr>\n",
       "      <th>mean</th>\n",
       "      <td>386.500000</td>\n",
       "      <td>78.856589</td>\n",
       "      <td>5.375673</td>\n",
       "      <td>0.913601</td>\n",
       "      <td>0.988922</td>\n",
       "      <td>0.610695</td>\n",
       "      <td>0.410746</td>\n",
       "      <td>0.125557</td>\n",
       "      <td>0.218493</td>\n",
       "      <td>2.095931</td>\n",
       "      <td>2016.980620</td>\n",
       "      <td>1.209722</td>\n",
       "    </tr>\n",
       "    <tr>\n",
       "      <th>std</th>\n",
       "      <td>223.578845</td>\n",
       "      <td>45.304676</td>\n",
       "      <td>1.131273</td>\n",
       "      <td>0.407126</td>\n",
       "      <td>0.318615</td>\n",
       "      <td>0.248253</td>\n",
       "      <td>0.153441</td>\n",
       "      <td>0.105950</td>\n",
       "      <td>0.122766</td>\n",
       "      <td>0.562486</td>\n",
       "      <td>1.416366</td>\n",
       "      <td>0.301989</td>\n",
       "    </tr>\n",
       "    <tr>\n",
       "      <th>min</th>\n",
       "      <td>0.000000</td>\n",
       "      <td>1.000000</td>\n",
       "      <td>2.693000</td>\n",
       "      <td>0.000000</td>\n",
       "      <td>0.000000</td>\n",
       "      <td>0.000000</td>\n",
       "      <td>0.000000</td>\n",
       "      <td>0.000000</td>\n",
       "      <td>0.000000</td>\n",
       "      <td>0.328580</td>\n",
       "      <td>2015.000000</td>\n",
       "      <td>0.000000</td>\n",
       "    </tr>\n",
       "    <tr>\n",
       "      <th>25%</th>\n",
       "      <td>193.250000</td>\n",
       "      <td>40.000000</td>\n",
       "      <td>4.507250</td>\n",
       "      <td>0.603537</td>\n",
       "      <td>0.792359</td>\n",
       "      <td>0.440015</td>\n",
       "      <td>0.309103</td>\n",
       "      <td>0.055000</td>\n",
       "      <td>0.129822</td>\n",
       "      <td>1.737985</td>\n",
       "      <td>2016.000000</td>\n",
       "      <td>1.055250</td>\n",
       "    </tr>\n",
       "    <tr>\n",
       "      <th>50%</th>\n",
       "      <td>386.500000</td>\n",
       "      <td>79.000000</td>\n",
       "      <td>5.312500</td>\n",
       "      <td>0.978120</td>\n",
       "      <td>1.023380</td>\n",
       "      <td>0.646960</td>\n",
       "      <td>0.431000</td>\n",
       "      <td>0.091000</td>\n",
       "      <td>0.202000</td>\n",
       "      <td>2.094640</td>\n",
       "      <td>2017.000000</td>\n",
       "      <td>1.265500</td>\n",
       "    </tr>\n",
       "    <tr>\n",
       "      <th>75%</th>\n",
       "      <td>579.750000</td>\n",
       "      <td>118.000000</td>\n",
       "      <td>6.180000</td>\n",
       "      <td>1.233561</td>\n",
       "      <td>1.227692</td>\n",
       "      <td>0.807413</td>\n",
       "      <td>0.531165</td>\n",
       "      <td>0.155353</td>\n",
       "      <td>0.279705</td>\n",
       "      <td>2.458470</td>\n",
       "      <td>2018.000000</td>\n",
       "      <td>1.456500</td>\n",
       "    </tr>\n",
       "    <tr>\n",
       "      <th>max</th>\n",
       "      <td>773.000000</td>\n",
       "      <td>158.000000</td>\n",
       "      <td>7.769000</td>\n",
       "      <td>2.096000</td>\n",
       "      <td>1.610574</td>\n",
       "      <td>1.141000</td>\n",
       "      <td>0.724000</td>\n",
       "      <td>0.551910</td>\n",
       "      <td>0.838075</td>\n",
       "      <td>3.837720</td>\n",
       "      <td>2019.000000</td>\n",
       "      <td>1.644000</td>\n",
       "    </tr>\n",
       "  </tbody>\n",
       "</table>\n",
       "</div>"
      ],
      "text/plain": [
       "       Unnamed: 0  happiness_rank  happiness_score  gdp_per_capita  \\\n",
       "count  774.000000      774.000000       774.000000      774.000000   \n",
       "mean   386.500000       78.856589         5.375673        0.913601   \n",
       "std    223.578845       45.304676         1.131273        0.407126   \n",
       "min      0.000000        1.000000         2.693000        0.000000   \n",
       "25%    193.250000       40.000000         4.507250        0.603537   \n",
       "50%    386.500000       79.000000         5.312500        0.978120   \n",
       "75%    579.750000      118.000000         6.180000        1.233561   \n",
       "max    773.000000      158.000000         7.769000        2.096000   \n",
       "\n",
       "           family  health_life_expectancy     freedom  corruption  generosity  \\\n",
       "count  468.000000              774.000000  774.000000  773.000000  774.000000   \n",
       "mean     0.988922                0.610695    0.410746    0.125557    0.218493   \n",
       "std      0.318615                0.248253    0.153441    0.105950    0.122766   \n",
       "min      0.000000                0.000000    0.000000    0.000000    0.000000   \n",
       "25%      0.792359                0.440015    0.309103    0.055000    0.129822   \n",
       "50%      1.023380                0.646960    0.431000    0.091000    0.202000   \n",
       "75%      1.227692                0.807413    0.531165    0.155353    0.279705   \n",
       "max      1.610574                1.141000    0.724000    0.551910    0.838075   \n",
       "\n",
       "         dystopia         year  social_support  \n",
       "count  468.000000   774.000000      306.000000  \n",
       "mean     2.095931  2016.980620        1.209722  \n",
       "std      0.562486     1.416366        0.301989  \n",
       "min      0.328580  2015.000000        0.000000  \n",
       "25%      1.737985  2016.000000        1.055250  \n",
       "50%      2.094640  2017.000000        1.265500  \n",
       "75%      2.458470  2018.000000        1.456500  \n",
       "max      3.837720  2019.000000        1.644000  "
      ]
     },
     "execution_count": 41,
     "metadata": {},
     "output_type": "execute_result"
    }
   ],
   "source": [
    "tb_happy.describe()"
   ]
  },
  {
   "cell_type": "code",
   "execution_count": 42,
   "id": "373c0ca5",
   "metadata": {
    "ExecuteTime": {
     "end_time": "2022-01-08T15:14:15.843806Z",
     "start_time": "2022-01-08T15:14:15.815881Z"
    }
   },
   "outputs": [
    {
     "data": {
      "text/html": [
       "<div>\n",
       "<style scoped>\n",
       "    .dataframe tbody tr th:only-of-type {\n",
       "        vertical-align: middle;\n",
       "    }\n",
       "\n",
       "    .dataframe tbody tr th {\n",
       "        vertical-align: top;\n",
       "    }\n",
       "\n",
       "    .dataframe thead th {\n",
       "        text-align: right;\n",
       "    }\n",
       "</style>\n",
       "<table border=\"1\" class=\"dataframe\">\n",
       "  <thead>\n",
       "    <tr style=\"text-align: right;\">\n",
       "      <th></th>\n",
       "      <th>Unnamed: 0</th>\n",
       "      <th>country</th>\n",
       "      <th>happiness_rank</th>\n",
       "      <th>happiness_score</th>\n",
       "      <th>gdp_per_capita</th>\n",
       "      <th>family</th>\n",
       "      <th>health_life_expectancy</th>\n",
       "      <th>freedom</th>\n",
       "      <th>corruption</th>\n",
       "      <th>generosity</th>\n",
       "      <th>dystopia</th>\n",
       "      <th>year</th>\n",
       "      <th>social_support</th>\n",
       "      <th>region_cons</th>\n",
       "      <th>continente</th>\n",
       "      <th>g_or_c</th>\n",
       "    </tr>\n",
       "  </thead>\n",
       "  <tbody>\n",
       "    <tr>\n",
       "      <th>0</th>\n",
       "      <td>0</td>\n",
       "      <td>Switzerland</td>\n",
       "      <td>1</td>\n",
       "      <td>7.587</td>\n",
       "      <td>1.39651</td>\n",
       "      <td>1.349510</td>\n",
       "      <td>0.941430</td>\n",
       "      <td>0.665570</td>\n",
       "      <td>0.419780</td>\n",
       "      <td>0.296780</td>\n",
       "      <td>2.517380</td>\n",
       "      <td>2015</td>\n",
       "      <td>NaN</td>\n",
       "      <td>Western Europe</td>\n",
       "      <td>Europe</td>\n",
       "      <td>C</td>\n",
       "    </tr>\n",
       "    <tr>\n",
       "      <th>1</th>\n",
       "      <td>1</td>\n",
       "      <td>Switzerland</td>\n",
       "      <td>2</td>\n",
       "      <td>7.509</td>\n",
       "      <td>1.52733</td>\n",
       "      <td>1.145240</td>\n",
       "      <td>0.863030</td>\n",
       "      <td>0.585570</td>\n",
       "      <td>0.412030</td>\n",
       "      <td>0.280830</td>\n",
       "      <td>2.694630</td>\n",
       "      <td>2016</td>\n",
       "      <td>NaN</td>\n",
       "      <td>Western Europe</td>\n",
       "      <td>Europe</td>\n",
       "      <td>C</td>\n",
       "    </tr>\n",
       "    <tr>\n",
       "      <th>2</th>\n",
       "      <td>2</td>\n",
       "      <td>Switzerland</td>\n",
       "      <td>4</td>\n",
       "      <td>7.494</td>\n",
       "      <td>1.56498</td>\n",
       "      <td>1.516912</td>\n",
       "      <td>0.858131</td>\n",
       "      <td>0.620071</td>\n",
       "      <td>0.367007</td>\n",
       "      <td>0.290549</td>\n",
       "      <td>2.276716</td>\n",
       "      <td>2017</td>\n",
       "      <td>NaN</td>\n",
       "      <td>Western Europe</td>\n",
       "      <td>Europe</td>\n",
       "      <td>C</td>\n",
       "    </tr>\n",
       "    <tr>\n",
       "      <th>3</th>\n",
       "      <td>3</td>\n",
       "      <td>Switzerland</td>\n",
       "      <td>5</td>\n",
       "      <td>7.487</td>\n",
       "      <td>1.42000</td>\n",
       "      <td>NaN</td>\n",
       "      <td>0.927000</td>\n",
       "      <td>0.660000</td>\n",
       "      <td>0.357000</td>\n",
       "      <td>0.256000</td>\n",
       "      <td>NaN</td>\n",
       "      <td>2018</td>\n",
       "      <td>1.549</td>\n",
       "      <td>Western Europe</td>\n",
       "      <td>Europe</td>\n",
       "      <td>C</td>\n",
       "    </tr>\n",
       "    <tr>\n",
       "      <th>4</th>\n",
       "      <td>4</td>\n",
       "      <td>Switzerland</td>\n",
       "      <td>6</td>\n",
       "      <td>7.480</td>\n",
       "      <td>1.45200</td>\n",
       "      <td>NaN</td>\n",
       "      <td>1.052000</td>\n",
       "      <td>0.572000</td>\n",
       "      <td>0.343000</td>\n",
       "      <td>0.263000</td>\n",
       "      <td>NaN</td>\n",
       "      <td>2019</td>\n",
       "      <td>1.526</td>\n",
       "      <td>Western Europe</td>\n",
       "      <td>Europe</td>\n",
       "      <td>C</td>\n",
       "    </tr>\n",
       "  </tbody>\n",
       "</table>\n",
       "</div>"
      ],
      "text/plain": [
       "   Unnamed: 0      country  happiness_rank  happiness_score  gdp_per_capita  \\\n",
       "0           0  Switzerland               1            7.587         1.39651   \n",
       "1           1  Switzerland               2            7.509         1.52733   \n",
       "2           2  Switzerland               4            7.494         1.56498   \n",
       "3           3  Switzerland               5            7.487         1.42000   \n",
       "4           4  Switzerland               6            7.480         1.45200   \n",
       "\n",
       "     family  health_life_expectancy   freedom  corruption  generosity  \\\n",
       "0  1.349510                0.941430  0.665570    0.419780    0.296780   \n",
       "1  1.145240                0.863030  0.585570    0.412030    0.280830   \n",
       "2  1.516912                0.858131  0.620071    0.367007    0.290549   \n",
       "3       NaN                0.927000  0.660000    0.357000    0.256000   \n",
       "4       NaN                1.052000  0.572000    0.343000    0.263000   \n",
       "\n",
       "   dystopia  year  social_support     region_cons continente g_or_c  \n",
       "0  2.517380  2015             NaN  Western Europe     Europe      C  \n",
       "1  2.694630  2016             NaN  Western Europe     Europe      C  \n",
       "2  2.276716  2017             NaN  Western Europe     Europe      C  \n",
       "3       NaN  2018           1.549  Western Europe     Europe      C  \n",
       "4       NaN  2019           1.526  Western Europe     Europe      C  "
      ]
     },
     "execution_count": 42,
     "metadata": {},
     "output_type": "execute_result"
    }
   ],
   "source": [
    "tb_happy.head()"
   ]
  },
  {
   "cell_type": "code",
   "execution_count": 43,
   "id": "06d48b1b",
   "metadata": {
    "ExecuteTime": {
     "end_time": "2022-01-08T15:16:29.808221Z",
     "start_time": "2022-01-08T15:16:29.792264Z"
    }
   },
   "outputs": [
    {
     "data": {
      "text/plain": [
       "family                    1.14524\n",
       "health_life_expectancy    0.86303\n",
       "freedom                   0.58557\n",
       "corruption                0.41203\n",
       "generosity                0.28083\n",
       "social_support                NaN\n",
       "Name: 1, dtype: object"
      ]
     },
     "execution_count": 43,
     "metadata": {},
     "output_type": "execute_result"
    }
   ],
   "source": [
    "row_score = tb_happy.loc[1, [\n",
    "    'family', 'health_life_expectancy', 'freedom', 'corruption', 'generosity',\n",
    "    'social_support'\n",
    "]]\n",
    "row_score"
   ]
  },
  {
   "cell_type": "code",
   "execution_count": 46,
   "id": "8322f443",
   "metadata": {
    "ExecuteTime": {
     "end_time": "2022-01-08T15:18:33.564103Z",
     "start_time": "2022-01-08T15:18:33.552109Z"
    }
   },
   "outputs": [
    {
     "data": {
      "text/plain": [
       "'family'"
      ]
     },
     "execution_count": 46,
     "metadata": {},
     "output_type": "execute_result"
    }
   ],
   "source": [
    "row_score[row_score == max(row_score)].index[0]"
   ]
  },
  {
   "cell_type": "code",
   "execution_count": 48,
   "id": "fb6f874a",
   "metadata": {
    "ExecuteTime": {
     "end_time": "2022-01-08T15:19:39.277674Z",
     "start_time": "2022-01-08T15:19:38.729962Z"
    }
   },
   "outputs": [
    {
     "data": {
      "text/plain": [
       "0              family\n",
       "1              family\n",
       "2              family\n",
       "3      social_support\n",
       "4      social_support\n",
       "            ...      \n",
       "769    social_support\n",
       "770        generosity\n",
       "771            family\n",
       "772    social_support\n",
       "773    social_support\n",
       "Length: 774, dtype: object"
      ]
     },
     "execution_count": 48,
     "metadata": {},
     "output_type": "execute_result"
    }
   ],
   "source": [
    "def max_score(row):\n",
    "    '''\n",
    "    Retorna o maior efeito sobre a felicidade.\n",
    "    \n",
    "    row (DataFrame row)\n",
    "    '''\n",
    "    row_score = row[[\n",
    "        'family', 'health_life_expectancy', 'freedom', 'corruption',\n",
    "        'generosity', 'social_support'\n",
    "    ]].dropna()\n",
    "    max_name = row_score[row_score == max(row_score)].index[0]\n",
    "    return max_name\n",
    "\n",
    "tb_happy.apply(max_score, axis = 1)"
   ]
  },
  {
   "cell_type": "code",
   "execution_count": 49,
   "id": "42ca9ee7",
   "metadata": {
    "ExecuteTime": {
     "end_time": "2022-01-08T15:20:35.024028Z",
     "start_time": "2022-01-08T15:20:35.012061Z"
    }
   },
   "outputs": [
    {
     "data": {
      "text/plain": [
       "0              family\n",
       "1              family\n",
       "2              family\n",
       "3      social_support\n",
       "4      social_support\n",
       "            ...      \n",
       "769    social_support\n",
       "770        generosity\n",
       "771            family\n",
       "772    social_support\n",
       "773    social_support\n",
       "Length: 774, dtype: object"
      ]
     },
     "execution_count": 49,
     "metadata": {},
     "output_type": "execute_result"
    }
   ],
   "source": [
    "tb_happy[['family', 'health_life_expectancy', 'freedom', 'corruption', 'generosity',\n",
    "    'social_support']].idxmax(axis=1)"
   ]
  },
  {
   "cell_type": "markdown",
   "id": "cdcf3695",
   "metadata": {},
   "source": [
    "### DataFrame Transform"
   ]
  },
  {
   "cell_type": "code",
   "execution_count": 50,
   "id": "7dc047ed",
   "metadata": {
    "ExecuteTime": {
     "end_time": "2022-01-08T15:22:00.020690Z",
     "start_time": "2022-01-08T15:21:59.997752Z"
    }
   },
   "outputs": [
    {
     "data": {
      "text/html": [
       "<div>\n",
       "<style scoped>\n",
       "    .dataframe tbody tr th:only-of-type {\n",
       "        vertical-align: middle;\n",
       "    }\n",
       "\n",
       "    .dataframe tbody tr th {\n",
       "        vertical-align: top;\n",
       "    }\n",
       "\n",
       "    .dataframe thead th {\n",
       "        text-align: right;\n",
       "    }\n",
       "</style>\n",
       "<table border=\"1\" class=\"dataframe\">\n",
       "  <thead>\n",
       "    <tr style=\"text-align: right;\">\n",
       "      <th></th>\n",
       "      <th>C1</th>\n",
       "      <th>C2</th>\n",
       "    </tr>\n",
       "  </thead>\n",
       "  <tbody>\n",
       "    <tr>\n",
       "      <th>0</th>\n",
       "      <td>0</td>\n",
       "      <td>1</td>\n",
       "    </tr>\n",
       "    <tr>\n",
       "      <th>1</th>\n",
       "      <td>1</td>\n",
       "      <td>2</td>\n",
       "    </tr>\n",
       "    <tr>\n",
       "      <th>2</th>\n",
       "      <td>2</td>\n",
       "      <td>3</td>\n",
       "    </tr>\n",
       "  </tbody>\n",
       "</table>\n",
       "</div>"
      ],
      "text/plain": [
       "   C1  C2\n",
       "0   0   1\n",
       "1   1   2\n",
       "2   2   3"
      ]
     },
     "execution_count": 50,
     "metadata": {},
     "output_type": "execute_result"
    }
   ],
   "source": [
    "df = pd.DataFrame({'C1': range(3), 'C2': range(1, 4)})\n",
    "df"
   ]
  },
  {
   "cell_type": "code",
   "execution_count": 51,
   "id": "ee15afbd",
   "metadata": {
    "ExecuteTime": {
     "end_time": "2022-01-08T15:22:24.131684Z",
     "start_time": "2022-01-08T15:22:24.100766Z"
    }
   },
   "outputs": [
    {
     "data": {
      "text/html": [
       "<div>\n",
       "<style scoped>\n",
       "    .dataframe tbody tr th:only-of-type {\n",
       "        vertical-align: middle;\n",
       "    }\n",
       "\n",
       "    .dataframe tbody tr th {\n",
       "        vertical-align: top;\n",
       "    }\n",
       "\n",
       "    .dataframe thead th {\n",
       "        text-align: right;\n",
       "    }\n",
       "</style>\n",
       "<table border=\"1\" class=\"dataframe\">\n",
       "  <thead>\n",
       "    <tr style=\"text-align: right;\">\n",
       "      <th></th>\n",
       "      <th>C1</th>\n",
       "      <th>C2</th>\n",
       "    </tr>\n",
       "  </thead>\n",
       "  <tbody>\n",
       "    <tr>\n",
       "      <th>0</th>\n",
       "      <td>1</td>\n",
       "      <td>2</td>\n",
       "    </tr>\n",
       "    <tr>\n",
       "      <th>1</th>\n",
       "      <td>2</td>\n",
       "      <td>3</td>\n",
       "    </tr>\n",
       "    <tr>\n",
       "      <th>2</th>\n",
       "      <td>3</td>\n",
       "      <td>4</td>\n",
       "    </tr>\n",
       "  </tbody>\n",
       "</table>\n",
       "</div>"
      ],
      "text/plain": [
       "   C1  C2\n",
       "0   1   2\n",
       "1   2   3\n",
       "2   3   4"
      ]
     },
     "execution_count": 51,
     "metadata": {},
     "output_type": "execute_result"
    }
   ],
   "source": [
    "df.transform(lambda x: x + 1)"
   ]
  },
  {
   "cell_type": "code",
   "execution_count": 52,
   "id": "de48762c",
   "metadata": {
    "ExecuteTime": {
     "end_time": "2022-01-08T15:22:51.094612Z",
     "start_time": "2022-01-08T15:22:51.082644Z"
    }
   },
   "outputs": [
    {
     "data": {
      "text/html": [
       "<div>\n",
       "<style scoped>\n",
       "    .dataframe tbody tr th:only-of-type {\n",
       "        vertical-align: middle;\n",
       "    }\n",
       "\n",
       "    .dataframe tbody tr th {\n",
       "        vertical-align: top;\n",
       "    }\n",
       "\n",
       "    .dataframe thead th {\n",
       "        text-align: right;\n",
       "    }\n",
       "</style>\n",
       "<table border=\"1\" class=\"dataframe\">\n",
       "  <thead>\n",
       "    <tr style=\"text-align: right;\">\n",
       "      <th></th>\n",
       "      <th>C1</th>\n",
       "      <th>C2</th>\n",
       "      <th>cat</th>\n",
       "    </tr>\n",
       "  </thead>\n",
       "  <tbody>\n",
       "    <tr>\n",
       "      <th>0</th>\n",
       "      <td>0</td>\n",
       "      <td>1</td>\n",
       "      <td>A</td>\n",
       "    </tr>\n",
       "    <tr>\n",
       "      <th>1</th>\n",
       "      <td>1</td>\n",
       "      <td>2</td>\n",
       "      <td>A</td>\n",
       "    </tr>\n",
       "    <tr>\n",
       "      <th>2</th>\n",
       "      <td>2</td>\n",
       "      <td>3</td>\n",
       "      <td>B</td>\n",
       "    </tr>\n",
       "  </tbody>\n",
       "</table>\n",
       "</div>"
      ],
      "text/plain": [
       "   C1  C2 cat\n",
       "0   0   1   A\n",
       "1   1   2   A\n",
       "2   2   3   B"
      ]
     },
     "execution_count": 52,
     "metadata": {},
     "output_type": "execute_result"
    }
   ],
   "source": [
    "df['cat'] = ['A', 'A', 'B']\n",
    "df"
   ]
  },
  {
   "cell_type": "code",
   "execution_count": 53,
   "id": "733d76f5",
   "metadata": {
    "ExecuteTime": {
     "end_time": "2022-01-08T15:24:02.823659Z",
     "start_time": "2022-01-08T15:24:02.801697Z"
    }
   },
   "outputs": [
    {
     "data": {
      "text/html": [
       "<div>\n",
       "<style scoped>\n",
       "    .dataframe tbody tr th:only-of-type {\n",
       "        vertical-align: middle;\n",
       "    }\n",
       "\n",
       "    .dataframe tbody tr th {\n",
       "        vertical-align: top;\n",
       "    }\n",
       "\n",
       "    .dataframe thead th {\n",
       "        text-align: right;\n",
       "    }\n",
       "</style>\n",
       "<table border=\"1\" class=\"dataframe\">\n",
       "  <thead>\n",
       "    <tr style=\"text-align: right;\">\n",
       "      <th></th>\n",
       "      <th>C1</th>\n",
       "      <th>C2</th>\n",
       "      <th>cat</th>\n",
       "      <th>TOTAL_CAT_C1</th>\n",
       "    </tr>\n",
       "  </thead>\n",
       "  <tbody>\n",
       "    <tr>\n",
       "      <th>0</th>\n",
       "      <td>0</td>\n",
       "      <td>1</td>\n",
       "      <td>A</td>\n",
       "      <td>1</td>\n",
       "    </tr>\n",
       "    <tr>\n",
       "      <th>1</th>\n",
       "      <td>1</td>\n",
       "      <td>2</td>\n",
       "      <td>A</td>\n",
       "      <td>1</td>\n",
       "    </tr>\n",
       "    <tr>\n",
       "      <th>2</th>\n",
       "      <td>2</td>\n",
       "      <td>3</td>\n",
       "      <td>B</td>\n",
       "      <td>2</td>\n",
       "    </tr>\n",
       "  </tbody>\n",
       "</table>\n",
       "</div>"
      ],
      "text/plain": [
       "   C1  C2 cat  TOTAL_CAT_C1\n",
       "0   0   1   A             1\n",
       "1   1   2   A             1\n",
       "2   2   3   B             2"
      ]
     },
     "execution_count": 53,
     "metadata": {},
     "output_type": "execute_result"
    }
   ],
   "source": [
    "df['TOTAL_CAT_C1'] = df.groupby('cat')['C1'].transform(sum)\n",
    "df"
   ]
  },
  {
   "cell_type": "code",
   "execution_count": 54,
   "id": "c976b77c",
   "metadata": {
    "ExecuteTime": {
     "end_time": "2022-01-08T15:24:31.031085Z",
     "start_time": "2022-01-08T15:24:31.017108Z"
    }
   },
   "outputs": [
    {
     "data": {
      "text/html": [
       "<div>\n",
       "<style scoped>\n",
       "    .dataframe tbody tr th:only-of-type {\n",
       "        vertical-align: middle;\n",
       "    }\n",
       "\n",
       "    .dataframe tbody tr th {\n",
       "        vertical-align: top;\n",
       "    }\n",
       "\n",
       "    .dataframe thead th {\n",
       "        text-align: right;\n",
       "    }\n",
       "</style>\n",
       "<table border=\"1\" class=\"dataframe\">\n",
       "  <thead>\n",
       "    <tr style=\"text-align: right;\">\n",
       "      <th></th>\n",
       "      <th>C1</th>\n",
       "      <th>C2</th>\n",
       "      <th>cat</th>\n",
       "      <th>TOTAL_CAT_C1</th>\n",
       "      <th>TOTAL_CAT_C2</th>\n",
       "    </tr>\n",
       "  </thead>\n",
       "  <tbody>\n",
       "    <tr>\n",
       "      <th>0</th>\n",
       "      <td>0</td>\n",
       "      <td>1</td>\n",
       "      <td>A</td>\n",
       "      <td>1</td>\n",
       "      <td>3</td>\n",
       "    </tr>\n",
       "    <tr>\n",
       "      <th>1</th>\n",
       "      <td>1</td>\n",
       "      <td>2</td>\n",
       "      <td>A</td>\n",
       "      <td>1</td>\n",
       "      <td>3</td>\n",
       "    </tr>\n",
       "    <tr>\n",
       "      <th>2</th>\n",
       "      <td>2</td>\n",
       "      <td>3</td>\n",
       "      <td>B</td>\n",
       "      <td>2</td>\n",
       "      <td>3</td>\n",
       "    </tr>\n",
       "  </tbody>\n",
       "</table>\n",
       "</div>"
      ],
      "text/plain": [
       "   C1  C2 cat  TOTAL_CAT_C1  TOTAL_CAT_C2\n",
       "0   0   1   A             1             3\n",
       "1   1   2   A             1             3\n",
       "2   2   3   B             2             3"
      ]
     },
     "execution_count": 54,
     "metadata": {},
     "output_type": "execute_result"
    }
   ],
   "source": [
    "df['TOTAL_CAT_C2'] = df.groupby('cat')['C2'].transform(sum)\n",
    "df"
   ]
  },
  {
   "cell_type": "code",
   "execution_count": 55,
   "id": "c8f0fabc",
   "metadata": {
    "ExecuteTime": {
     "end_time": "2022-01-08T15:24:46.187163Z",
     "start_time": "2022-01-08T15:24:46.167215Z"
    }
   },
   "outputs": [
    {
     "name": "stdout",
     "output_type": "stream",
     "text": [
      "<class 'pandas.core.frame.DataFrame'>\n",
      "RangeIndex: 774 entries, 0 to 773\n",
      "Data columns (total 16 columns):\n",
      " #   Column                  Non-Null Count  Dtype  \n",
      "---  ------                  --------------  -----  \n",
      " 0   Unnamed: 0              774 non-null    int64  \n",
      " 1   country                 774 non-null    object \n",
      " 2   happiness_rank          774 non-null    int64  \n",
      " 3   happiness_score         774 non-null    float64\n",
      " 4   gdp_per_capita          774 non-null    float64\n",
      " 5   family                  468 non-null    float64\n",
      " 6   health_life_expectancy  774 non-null    float64\n",
      " 7   freedom                 774 non-null    float64\n",
      " 8   corruption              773 non-null    float64\n",
      " 9   generosity              774 non-null    float64\n",
      " 10  dystopia                468 non-null    float64\n",
      " 11  year                    774 non-null    int64  \n",
      " 12  social_support          306 non-null    float64\n",
      " 13  region_cons             774 non-null    object \n",
      " 14  continente              774 non-null    object \n",
      " 15  g_or_c                  774 non-null    object \n",
      "dtypes: float64(9), int64(3), object(4)\n",
      "memory usage: 96.9+ KB\n"
     ]
    }
   ],
   "source": [
    "tb_happy.info()"
   ]
  },
  {
   "cell_type": "code",
   "execution_count": 56,
   "id": "99809be1",
   "metadata": {
    "ExecuteTime": {
     "end_time": "2022-01-08T15:25:22.552854Z",
     "start_time": "2022-01-08T15:25:22.518918Z"
    }
   },
   "outputs": [
    {
     "data": {
      "text/html": [
       "<div>\n",
       "<style scoped>\n",
       "    .dataframe tbody tr th:only-of-type {\n",
       "        vertical-align: middle;\n",
       "    }\n",
       "\n",
       "    .dataframe tbody tr th {\n",
       "        vertical-align: top;\n",
       "    }\n",
       "\n",
       "    .dataframe thead th {\n",
       "        text-align: right;\n",
       "    }\n",
       "</style>\n",
       "<table border=\"1\" class=\"dataframe\">\n",
       "  <thead>\n",
       "    <tr style=\"text-align: right;\">\n",
       "      <th></th>\n",
       "      <th>Unnamed: 0</th>\n",
       "      <th>country</th>\n",
       "      <th>happiness_rank</th>\n",
       "      <th>happiness_score</th>\n",
       "      <th>gdp_per_capita</th>\n",
       "      <th>family</th>\n",
       "      <th>health_life_expectancy</th>\n",
       "      <th>freedom</th>\n",
       "      <th>corruption</th>\n",
       "      <th>generosity</th>\n",
       "      <th>dystopia</th>\n",
       "      <th>year</th>\n",
       "      <th>social_support</th>\n",
       "      <th>region_cons</th>\n",
       "      <th>continente</th>\n",
       "      <th>g_or_c</th>\n",
       "      <th>hs_cont</th>\n",
       "    </tr>\n",
       "  </thead>\n",
       "  <tbody>\n",
       "    <tr>\n",
       "      <th>0</th>\n",
       "      <td>0</td>\n",
       "      <td>Switzerland</td>\n",
       "      <td>1</td>\n",
       "      <td>7.587</td>\n",
       "      <td>1.39651</td>\n",
       "      <td>1.349510</td>\n",
       "      <td>0.941430</td>\n",
       "      <td>0.665570</td>\n",
       "      <td>0.419780</td>\n",
       "      <td>0.296780</td>\n",
       "      <td>2.517380</td>\n",
       "      <td>2015</td>\n",
       "      <td>NaN</td>\n",
       "      <td>Western Europe</td>\n",
       "      <td>Europe</td>\n",
       "      <td>C</td>\n",
       "      <td>5.902740</td>\n",
       "    </tr>\n",
       "    <tr>\n",
       "      <th>1</th>\n",
       "      <td>1</td>\n",
       "      <td>Switzerland</td>\n",
       "      <td>2</td>\n",
       "      <td>7.509</td>\n",
       "      <td>1.52733</td>\n",
       "      <td>1.145240</td>\n",
       "      <td>0.863030</td>\n",
       "      <td>0.585570</td>\n",
       "      <td>0.412030</td>\n",
       "      <td>0.280830</td>\n",
       "      <td>2.694630</td>\n",
       "      <td>2016</td>\n",
       "      <td>NaN</td>\n",
       "      <td>Western Europe</td>\n",
       "      <td>Europe</td>\n",
       "      <td>C</td>\n",
       "      <td>5.922980</td>\n",
       "    </tr>\n",
       "    <tr>\n",
       "      <th>2</th>\n",
       "      <td>2</td>\n",
       "      <td>Switzerland</td>\n",
       "      <td>4</td>\n",
       "      <td>7.494</td>\n",
       "      <td>1.56498</td>\n",
       "      <td>1.516912</td>\n",
       "      <td>0.858131</td>\n",
       "      <td>0.620071</td>\n",
       "      <td>0.367007</td>\n",
       "      <td>0.290549</td>\n",
       "      <td>2.276716</td>\n",
       "      <td>2017</td>\n",
       "      <td>NaN</td>\n",
       "      <td>Western Europe</td>\n",
       "      <td>Europe</td>\n",
       "      <td>C</td>\n",
       "      <td>5.953320</td>\n",
       "    </tr>\n",
       "    <tr>\n",
       "      <th>3</th>\n",
       "      <td>3</td>\n",
       "      <td>Switzerland</td>\n",
       "      <td>5</td>\n",
       "      <td>7.487</td>\n",
       "      <td>1.42000</td>\n",
       "      <td>NaN</td>\n",
       "      <td>0.927000</td>\n",
       "      <td>0.660000</td>\n",
       "      <td>0.357000</td>\n",
       "      <td>0.256000</td>\n",
       "      <td>NaN</td>\n",
       "      <td>2018</td>\n",
       "      <td>1.549</td>\n",
       "      <td>Western Europe</td>\n",
       "      <td>Europe</td>\n",
       "      <td>C</td>\n",
       "      <td>6.021163</td>\n",
       "    </tr>\n",
       "    <tr>\n",
       "      <th>4</th>\n",
       "      <td>4</td>\n",
       "      <td>Switzerland</td>\n",
       "      <td>6</td>\n",
       "      <td>7.480</td>\n",
       "      <td>1.45200</td>\n",
       "      <td>NaN</td>\n",
       "      <td>1.052000</td>\n",
       "      <td>0.572000</td>\n",
       "      <td>0.343000</td>\n",
       "      <td>0.263000</td>\n",
       "      <td>NaN</td>\n",
       "      <td>2019</td>\n",
       "      <td>1.526</td>\n",
       "      <td>Western Europe</td>\n",
       "      <td>Europe</td>\n",
       "      <td>C</td>\n",
       "      <td>6.124542</td>\n",
       "    </tr>\n",
       "  </tbody>\n",
       "</table>\n",
       "</div>"
      ],
      "text/plain": [
       "   Unnamed: 0      country  happiness_rank  happiness_score  gdp_per_capita  \\\n",
       "0           0  Switzerland               1            7.587         1.39651   \n",
       "1           1  Switzerland               2            7.509         1.52733   \n",
       "2           2  Switzerland               4            7.494         1.56498   \n",
       "3           3  Switzerland               5            7.487         1.42000   \n",
       "4           4  Switzerland               6            7.480         1.45200   \n",
       "\n",
       "     family  health_life_expectancy   freedom  corruption  generosity  \\\n",
       "0  1.349510                0.941430  0.665570    0.419780    0.296780   \n",
       "1  1.145240                0.863030  0.585570    0.412030    0.280830   \n",
       "2  1.516912                0.858131  0.620071    0.367007    0.290549   \n",
       "3       NaN                0.927000  0.660000    0.357000    0.256000   \n",
       "4       NaN                1.052000  0.572000    0.343000    0.263000   \n",
       "\n",
       "   dystopia  year  social_support     region_cons continente g_or_c   hs_cont  \n",
       "0  2.517380  2015             NaN  Western Europe     Europe      C  5.902740  \n",
       "1  2.694630  2016             NaN  Western Europe     Europe      C  5.922980  \n",
       "2  2.276716  2017             NaN  Western Europe     Europe      C  5.953320  \n",
       "3       NaN  2018           1.549  Western Europe     Europe      C  6.021163  \n",
       "4       NaN  2019           1.526  Western Europe     Europe      C  6.124542  "
      ]
     },
     "execution_count": 56,
     "metadata": {},
     "output_type": "execute_result"
    }
   ],
   "source": [
    "tb_happy['hs_cont'] = tb_happy.groupby(['continente', 'year'\n",
    "                                        ])['happiness_score'].transform('mean')\n",
    "tb_happy.head()"
   ]
  },
  {
   "cell_type": "code",
   "execution_count": 57,
   "id": "588c11a1",
   "metadata": {
    "ExecuteTime": {
     "end_time": "2022-01-08T15:26:09.636934Z",
     "start_time": "2022-01-08T15:26:09.603999Z"
    }
   },
   "outputs": [
    {
     "data": {
      "text/html": [
       "<div>\n",
       "<style scoped>\n",
       "    .dataframe tbody tr th:only-of-type {\n",
       "        vertical-align: middle;\n",
       "    }\n",
       "\n",
       "    .dataframe tbody tr th {\n",
       "        vertical-align: top;\n",
       "    }\n",
       "\n",
       "    .dataframe thead th {\n",
       "        text-align: right;\n",
       "    }\n",
       "</style>\n",
       "<table border=\"1\" class=\"dataframe\">\n",
       "  <thead>\n",
       "    <tr style=\"text-align: right;\">\n",
       "      <th></th>\n",
       "      <th>Unnamed: 0</th>\n",
       "      <th>country</th>\n",
       "      <th>happiness_rank</th>\n",
       "      <th>happiness_score</th>\n",
       "      <th>gdp_per_capita</th>\n",
       "      <th>family</th>\n",
       "      <th>health_life_expectancy</th>\n",
       "      <th>freedom</th>\n",
       "      <th>corruption</th>\n",
       "      <th>generosity</th>\n",
       "      <th>dystopia</th>\n",
       "      <th>year</th>\n",
       "      <th>social_support</th>\n",
       "      <th>region_cons</th>\n",
       "      <th>continente</th>\n",
       "      <th>g_or_c</th>\n",
       "      <th>hs_cont</th>\n",
       "      <th>hs_reg</th>\n",
       "    </tr>\n",
       "  </thead>\n",
       "  <tbody>\n",
       "    <tr>\n",
       "      <th>0</th>\n",
       "      <td>0</td>\n",
       "      <td>Switzerland</td>\n",
       "      <td>1</td>\n",
       "      <td>7.587</td>\n",
       "      <td>1.39651</td>\n",
       "      <td>1.349510</td>\n",
       "      <td>0.941430</td>\n",
       "      <td>0.665570</td>\n",
       "      <td>0.419780</td>\n",
       "      <td>0.296780</td>\n",
       "      <td>2.517380</td>\n",
       "      <td>2015</td>\n",
       "      <td>NaN</td>\n",
       "      <td>Western Europe</td>\n",
       "      <td>Europe</td>\n",
       "      <td>C</td>\n",
       "      <td>5.902740</td>\n",
       "      <td>6.689619</td>\n",
       "    </tr>\n",
       "    <tr>\n",
       "      <th>1</th>\n",
       "      <td>1</td>\n",
       "      <td>Switzerland</td>\n",
       "      <td>2</td>\n",
       "      <td>7.509</td>\n",
       "      <td>1.52733</td>\n",
       "      <td>1.145240</td>\n",
       "      <td>0.863030</td>\n",
       "      <td>0.585570</td>\n",
       "      <td>0.412030</td>\n",
       "      <td>0.280830</td>\n",
       "      <td>2.694630</td>\n",
       "      <td>2016</td>\n",
       "      <td>NaN</td>\n",
       "      <td>Western Europe</td>\n",
       "      <td>Europe</td>\n",
       "      <td>C</td>\n",
       "      <td>5.922980</td>\n",
       "      <td>6.685667</td>\n",
       "    </tr>\n",
       "    <tr>\n",
       "      <th>2</th>\n",
       "      <td>2</td>\n",
       "      <td>Switzerland</td>\n",
       "      <td>4</td>\n",
       "      <td>7.494</td>\n",
       "      <td>1.56498</td>\n",
       "      <td>1.516912</td>\n",
       "      <td>0.858131</td>\n",
       "      <td>0.620071</td>\n",
       "      <td>0.367007</td>\n",
       "      <td>0.290549</td>\n",
       "      <td>2.276716</td>\n",
       "      <td>2017</td>\n",
       "      <td>NaN</td>\n",
       "      <td>Western Europe</td>\n",
       "      <td>Europe</td>\n",
       "      <td>C</td>\n",
       "      <td>5.953320</td>\n",
       "      <td>6.703714</td>\n",
       "    </tr>\n",
       "    <tr>\n",
       "      <th>3</th>\n",
       "      <td>3</td>\n",
       "      <td>Switzerland</td>\n",
       "      <td>5</td>\n",
       "      <td>7.487</td>\n",
       "      <td>1.42000</td>\n",
       "      <td>NaN</td>\n",
       "      <td>0.927000</td>\n",
       "      <td>0.660000</td>\n",
       "      <td>0.357000</td>\n",
       "      <td>0.256000</td>\n",
       "      <td>NaN</td>\n",
       "      <td>2018</td>\n",
       "      <td>1.549</td>\n",
       "      <td>Western Europe</td>\n",
       "      <td>Europe</td>\n",
       "      <td>C</td>\n",
       "      <td>6.021163</td>\n",
       "      <td>6.829100</td>\n",
       "    </tr>\n",
       "    <tr>\n",
       "      <th>4</th>\n",
       "      <td>4</td>\n",
       "      <td>Switzerland</td>\n",
       "      <td>6</td>\n",
       "      <td>7.480</td>\n",
       "      <td>1.45200</td>\n",
       "      <td>NaN</td>\n",
       "      <td>1.052000</td>\n",
       "      <td>0.572000</td>\n",
       "      <td>0.343000</td>\n",
       "      <td>0.263000</td>\n",
       "      <td>NaN</td>\n",
       "      <td>2019</td>\n",
       "      <td>1.526</td>\n",
       "      <td>Western Europe</td>\n",
       "      <td>Europe</td>\n",
       "      <td>C</td>\n",
       "      <td>6.124542</td>\n",
       "      <td>6.898400</td>\n",
       "    </tr>\n",
       "  </tbody>\n",
       "</table>\n",
       "</div>"
      ],
      "text/plain": [
       "   Unnamed: 0      country  happiness_rank  happiness_score  gdp_per_capita  \\\n",
       "0           0  Switzerland               1            7.587         1.39651   \n",
       "1           1  Switzerland               2            7.509         1.52733   \n",
       "2           2  Switzerland               4            7.494         1.56498   \n",
       "3           3  Switzerland               5            7.487         1.42000   \n",
       "4           4  Switzerland               6            7.480         1.45200   \n",
       "\n",
       "     family  health_life_expectancy   freedom  corruption  generosity  \\\n",
       "0  1.349510                0.941430  0.665570    0.419780    0.296780   \n",
       "1  1.145240                0.863030  0.585570    0.412030    0.280830   \n",
       "2  1.516912                0.858131  0.620071    0.367007    0.290549   \n",
       "3       NaN                0.927000  0.660000    0.357000    0.256000   \n",
       "4       NaN                1.052000  0.572000    0.343000    0.263000   \n",
       "\n",
       "   dystopia  year  social_support     region_cons continente g_or_c   hs_cont  \\\n",
       "0  2.517380  2015             NaN  Western Europe     Europe      C  5.902740   \n",
       "1  2.694630  2016             NaN  Western Europe     Europe      C  5.922980   \n",
       "2  2.276716  2017             NaN  Western Europe     Europe      C  5.953320   \n",
       "3       NaN  2018           1.549  Western Europe     Europe      C  6.021163   \n",
       "4       NaN  2019           1.526  Western Europe     Europe      C  6.124542   \n",
       "\n",
       "     hs_reg  \n",
       "0  6.689619  \n",
       "1  6.685667  \n",
       "2  6.703714  \n",
       "3  6.829100  \n",
       "4  6.898400  "
      ]
     },
     "execution_count": 57,
     "metadata": {},
     "output_type": "execute_result"
    }
   ],
   "source": [
    "tb_happy['hs_reg'] = tb_happy.groupby(['region_cons', 'year'\n",
    "                                       ])['happiness_score'].transform('mean')\n",
    "tb_happy.head()"
   ]
  },
  {
   "cell_type": "code",
   "execution_count": 58,
   "id": "391050a5",
   "metadata": {
    "ExecuteTime": {
     "end_time": "2022-01-08T15:27:41.786718Z",
     "start_time": "2022-01-08T15:27:41.735854Z"
    }
   },
   "outputs": [
    {
     "data": {
      "text/html": [
       "<div>\n",
       "<style scoped>\n",
       "    .dataframe tbody tr th:only-of-type {\n",
       "        vertical-align: middle;\n",
       "    }\n",
       "\n",
       "    .dataframe tbody tr th {\n",
       "        vertical-align: top;\n",
       "    }\n",
       "\n",
       "    .dataframe thead th {\n",
       "        text-align: right;\n",
       "    }\n",
       "</style>\n",
       "<table border=\"1\" class=\"dataframe\">\n",
       "  <thead>\n",
       "    <tr style=\"text-align: right;\">\n",
       "      <th></th>\n",
       "      <th>Unnamed: 0</th>\n",
       "      <th>country</th>\n",
       "      <th>happiness_rank</th>\n",
       "      <th>happiness_score</th>\n",
       "      <th>gdp_per_capita</th>\n",
       "      <th>family</th>\n",
       "      <th>health_life_expectancy</th>\n",
       "      <th>freedom</th>\n",
       "      <th>corruption</th>\n",
       "      <th>generosity</th>\n",
       "      <th>dystopia</th>\n",
       "      <th>year</th>\n",
       "      <th>social_support</th>\n",
       "      <th>region_cons</th>\n",
       "      <th>continente</th>\n",
       "      <th>g_or_c</th>\n",
       "      <th>hs_cont</th>\n",
       "      <th>hs_reg</th>\n",
       "      <th>prop_pais_regiao</th>\n",
       "    </tr>\n",
       "  </thead>\n",
       "  <tbody>\n",
       "    <tr>\n",
       "      <th>0</th>\n",
       "      <td>0</td>\n",
       "      <td>Switzerland</td>\n",
       "      <td>1</td>\n",
       "      <td>7.587</td>\n",
       "      <td>1.39651</td>\n",
       "      <td>1.349510</td>\n",
       "      <td>0.941430</td>\n",
       "      <td>0.665570</td>\n",
       "      <td>0.419780</td>\n",
       "      <td>0.296780</td>\n",
       "      <td>2.517380</td>\n",
       "      <td>2015</td>\n",
       "      <td>NaN</td>\n",
       "      <td>Western Europe</td>\n",
       "      <td>Europe</td>\n",
       "      <td>C</td>\n",
       "      <td>5.902740</td>\n",
       "      <td>6.689619</td>\n",
       "      <td>1.134145</td>\n",
       "    </tr>\n",
       "    <tr>\n",
       "      <th>1</th>\n",
       "      <td>1</td>\n",
       "      <td>Switzerland</td>\n",
       "      <td>2</td>\n",
       "      <td>7.509</td>\n",
       "      <td>1.52733</td>\n",
       "      <td>1.145240</td>\n",
       "      <td>0.863030</td>\n",
       "      <td>0.585570</td>\n",
       "      <td>0.412030</td>\n",
       "      <td>0.280830</td>\n",
       "      <td>2.694630</td>\n",
       "      <td>2016</td>\n",
       "      <td>NaN</td>\n",
       "      <td>Western Europe</td>\n",
       "      <td>Europe</td>\n",
       "      <td>C</td>\n",
       "      <td>5.922980</td>\n",
       "      <td>6.685667</td>\n",
       "      <td>1.123149</td>\n",
       "    </tr>\n",
       "    <tr>\n",
       "      <th>2</th>\n",
       "      <td>2</td>\n",
       "      <td>Switzerland</td>\n",
       "      <td>4</td>\n",
       "      <td>7.494</td>\n",
       "      <td>1.56498</td>\n",
       "      <td>1.516912</td>\n",
       "      <td>0.858131</td>\n",
       "      <td>0.620071</td>\n",
       "      <td>0.367007</td>\n",
       "      <td>0.290549</td>\n",
       "      <td>2.276716</td>\n",
       "      <td>2017</td>\n",
       "      <td>NaN</td>\n",
       "      <td>Western Europe</td>\n",
       "      <td>Europe</td>\n",
       "      <td>C</td>\n",
       "      <td>5.953320</td>\n",
       "      <td>6.703714</td>\n",
       "      <td>1.117888</td>\n",
       "    </tr>\n",
       "    <tr>\n",
       "      <th>3</th>\n",
       "      <td>3</td>\n",
       "      <td>Switzerland</td>\n",
       "      <td>5</td>\n",
       "      <td>7.487</td>\n",
       "      <td>1.42000</td>\n",
       "      <td>NaN</td>\n",
       "      <td>0.927000</td>\n",
       "      <td>0.660000</td>\n",
       "      <td>0.357000</td>\n",
       "      <td>0.256000</td>\n",
       "      <td>NaN</td>\n",
       "      <td>2018</td>\n",
       "      <td>1.549</td>\n",
       "      <td>Western Europe</td>\n",
       "      <td>Europe</td>\n",
       "      <td>C</td>\n",
       "      <td>6.021163</td>\n",
       "      <td>6.829100</td>\n",
       "      <td>1.096338</td>\n",
       "    </tr>\n",
       "    <tr>\n",
       "      <th>4</th>\n",
       "      <td>4</td>\n",
       "      <td>Switzerland</td>\n",
       "      <td>6</td>\n",
       "      <td>7.480</td>\n",
       "      <td>1.45200</td>\n",
       "      <td>NaN</td>\n",
       "      <td>1.052000</td>\n",
       "      <td>0.572000</td>\n",
       "      <td>0.343000</td>\n",
       "      <td>0.263000</td>\n",
       "      <td>NaN</td>\n",
       "      <td>2019</td>\n",
       "      <td>1.526</td>\n",
       "      <td>Western Europe</td>\n",
       "      <td>Europe</td>\n",
       "      <td>C</td>\n",
       "      <td>6.124542</td>\n",
       "      <td>6.898400</td>\n",
       "      <td>1.084309</td>\n",
       "    </tr>\n",
       "  </tbody>\n",
       "</table>\n",
       "</div>"
      ],
      "text/plain": [
       "   Unnamed: 0      country  happiness_rank  happiness_score  gdp_per_capita  \\\n",
       "0           0  Switzerland               1            7.587         1.39651   \n",
       "1           1  Switzerland               2            7.509         1.52733   \n",
       "2           2  Switzerland               4            7.494         1.56498   \n",
       "3           3  Switzerland               5            7.487         1.42000   \n",
       "4           4  Switzerland               6            7.480         1.45200   \n",
       "\n",
       "     family  health_life_expectancy   freedom  corruption  generosity  \\\n",
       "0  1.349510                0.941430  0.665570    0.419780    0.296780   \n",
       "1  1.145240                0.863030  0.585570    0.412030    0.280830   \n",
       "2  1.516912                0.858131  0.620071    0.367007    0.290549   \n",
       "3       NaN                0.927000  0.660000    0.357000    0.256000   \n",
       "4       NaN                1.052000  0.572000    0.343000    0.263000   \n",
       "\n",
       "   dystopia  year  social_support     region_cons continente g_or_c   hs_cont  \\\n",
       "0  2.517380  2015             NaN  Western Europe     Europe      C  5.902740   \n",
       "1  2.694630  2016             NaN  Western Europe     Europe      C  5.922980   \n",
       "2  2.276716  2017             NaN  Western Europe     Europe      C  5.953320   \n",
       "3       NaN  2018           1.549  Western Europe     Europe      C  6.021163   \n",
       "4       NaN  2019           1.526  Western Europe     Europe      C  6.124542   \n",
       "\n",
       "     hs_reg  prop_pais_regiao  \n",
       "0  6.689619          1.134145  \n",
       "1  6.685667          1.123149  \n",
       "2  6.703714          1.117888  \n",
       "3  6.829100          1.096338  \n",
       "4  6.898400          1.084309  "
      ]
     },
     "execution_count": 58,
     "metadata": {},
     "output_type": "execute_result"
    }
   ],
   "source": [
    "tb_happy['prop_pais_regiao'] = tb_happy.groupby(['region_cons', 'year'\n",
    "                                       ])['happiness_score'].transform(lambda x: x/x.mean())\n",
    "tb_happy.head()"
   ]
  },
  {
   "cell_type": "code",
   "execution_count": 64,
   "id": "c5890c64",
   "metadata": {
    "ExecuteTime": {
     "end_time": "2022-01-08T15:29:13.640658Z",
     "start_time": "2022-01-08T15:29:13.610736Z"
    }
   },
   "outputs": [
    {
     "data": {
      "text/plain": [
       "region_cons                      year\n",
       "Australia and New Zealand        2015     14.570\n",
       "                                 2016     14.647\n",
       "                                 2017     14.598\n",
       "                                 2018     14.596\n",
       "                                 2019     14.535\n",
       "Central and Eastern Europe       2015    154.655\n",
       "                                 2016    155.750\n",
       "                                 2017    156.888\n",
       "                                 2018    158.455\n",
       "                                 2019    156.010\n",
       "Eastern Asia                     2015     33.757\n",
       "                                 2016     33.745\n",
       "                                 2017     21.986\n",
       "                                 2018     34.032\n",
       "                                 2019     34.133\n",
       "Latin America and Caribbean      2015    135.183\n",
       "                                 2016    146.442\n",
       "                                 2017    131.072\n",
       "                                 2018    124.711\n",
       "                                 2019    118.851\n",
       "Middle East and Northern Africa  2015    108.138\n",
       "                                 2016    102.335\n",
       "                                 2017    102.024\n",
       "                                 2018    100.372\n",
       "                                 2019     99.503\n",
       "North America                    2015     14.546\n",
       "                                 2016     14.508\n",
       "                                 2017     14.309\n",
       "                                 2018     14.214\n",
       "                                 2019     14.170\n",
       "Southeastern Asia                2015     47.857\n",
       "                                 2016     48.050\n",
       "                                 2017     43.559\n",
       "                                 2018     47.821\n",
       "                                 2019     47.463\n",
       "Southern Asia                    2015     32.066\n",
       "                                 2016     31.943\n",
       "                                 2017     32.399\n",
       "                                 2018     32.227\n",
       "                                 2019     31.688\n",
       "Sub-Saharan Africa               2015    168.112\n",
       "                                 2016    157.184\n",
       "                                 2017    160.366\n",
       "                                 2018    163.606\n",
       "                                 2019    167.486\n",
       "Western Europe                   2015    140.482\n",
       "                                 2016    140.399\n",
       "                                 2017    140.778\n",
       "                                 2018    136.582\n",
       "                                 2019    137.968\n",
       "Name: happiness_score, dtype: float64"
      ]
     },
     "execution_count": 64,
     "metadata": {},
     "output_type": "execute_result"
    }
   ],
   "source": [
    "tb_happy.groupby(['region_cons', 'year'])['happiness_score'].apply(sum)"
   ]
  },
  {
   "cell_type": "code",
   "execution_count": 59,
   "id": "1735b9b8",
   "metadata": {
    "ExecuteTime": {
     "end_time": "2022-01-08T15:27:45.956178Z",
     "start_time": "2022-01-08T15:27:45.913294Z"
    }
   },
   "outputs": [
    {
     "data": {
      "text/html": [
       "<div>\n",
       "<style scoped>\n",
       "    .dataframe tbody tr th:only-of-type {\n",
       "        vertical-align: middle;\n",
       "    }\n",
       "\n",
       "    .dataframe tbody tr th {\n",
       "        vertical-align: top;\n",
       "    }\n",
       "\n",
       "    .dataframe thead th {\n",
       "        text-align: right;\n",
       "    }\n",
       "</style>\n",
       "<table border=\"1\" class=\"dataframe\">\n",
       "  <thead>\n",
       "    <tr style=\"text-align: right;\">\n",
       "      <th></th>\n",
       "      <th>Unnamed: 0</th>\n",
       "      <th>country</th>\n",
       "      <th>happiness_rank</th>\n",
       "      <th>happiness_score</th>\n",
       "      <th>gdp_per_capita</th>\n",
       "      <th>family</th>\n",
       "      <th>health_life_expectancy</th>\n",
       "      <th>freedom</th>\n",
       "      <th>corruption</th>\n",
       "      <th>generosity</th>\n",
       "      <th>dystopia</th>\n",
       "      <th>year</th>\n",
       "      <th>social_support</th>\n",
       "      <th>region_cons</th>\n",
       "      <th>continente</th>\n",
       "      <th>g_or_c</th>\n",
       "      <th>hs_cont</th>\n",
       "      <th>hs_reg</th>\n",
       "      <th>prop_pais_regiao</th>\n",
       "      <th>prop_pais_cont</th>\n",
       "    </tr>\n",
       "  </thead>\n",
       "  <tbody>\n",
       "    <tr>\n",
       "      <th>0</th>\n",
       "      <td>0</td>\n",
       "      <td>Switzerland</td>\n",
       "      <td>1</td>\n",
       "      <td>7.587</td>\n",
       "      <td>1.39651</td>\n",
       "      <td>1.349510</td>\n",
       "      <td>0.941430</td>\n",
       "      <td>0.665570</td>\n",
       "      <td>0.419780</td>\n",
       "      <td>0.296780</td>\n",
       "      <td>2.517380</td>\n",
       "      <td>2015</td>\n",
       "      <td>NaN</td>\n",
       "      <td>Western Europe</td>\n",
       "      <td>Europe</td>\n",
       "      <td>C</td>\n",
       "      <td>5.902740</td>\n",
       "      <td>6.689619</td>\n",
       "      <td>1.134145</td>\n",
       "      <td>1.285335</td>\n",
       "    </tr>\n",
       "    <tr>\n",
       "      <th>1</th>\n",
       "      <td>1</td>\n",
       "      <td>Switzerland</td>\n",
       "      <td>2</td>\n",
       "      <td>7.509</td>\n",
       "      <td>1.52733</td>\n",
       "      <td>1.145240</td>\n",
       "      <td>0.863030</td>\n",
       "      <td>0.585570</td>\n",
       "      <td>0.412030</td>\n",
       "      <td>0.280830</td>\n",
       "      <td>2.694630</td>\n",
       "      <td>2016</td>\n",
       "      <td>NaN</td>\n",
       "      <td>Western Europe</td>\n",
       "      <td>Europe</td>\n",
       "      <td>C</td>\n",
       "      <td>5.922980</td>\n",
       "      <td>6.685667</td>\n",
       "      <td>1.123149</td>\n",
       "      <td>1.267774</td>\n",
       "    </tr>\n",
       "    <tr>\n",
       "      <th>2</th>\n",
       "      <td>2</td>\n",
       "      <td>Switzerland</td>\n",
       "      <td>4</td>\n",
       "      <td>7.494</td>\n",
       "      <td>1.56498</td>\n",
       "      <td>1.516912</td>\n",
       "      <td>0.858131</td>\n",
       "      <td>0.620071</td>\n",
       "      <td>0.367007</td>\n",
       "      <td>0.290549</td>\n",
       "      <td>2.276716</td>\n",
       "      <td>2017</td>\n",
       "      <td>NaN</td>\n",
       "      <td>Western Europe</td>\n",
       "      <td>Europe</td>\n",
       "      <td>C</td>\n",
       "      <td>5.953320</td>\n",
       "      <td>6.703714</td>\n",
       "      <td>1.117888</td>\n",
       "      <td>1.258793</td>\n",
       "    </tr>\n",
       "    <tr>\n",
       "      <th>3</th>\n",
       "      <td>3</td>\n",
       "      <td>Switzerland</td>\n",
       "      <td>5</td>\n",
       "      <td>7.487</td>\n",
       "      <td>1.42000</td>\n",
       "      <td>NaN</td>\n",
       "      <td>0.927000</td>\n",
       "      <td>0.660000</td>\n",
       "      <td>0.357000</td>\n",
       "      <td>0.256000</td>\n",
       "      <td>NaN</td>\n",
       "      <td>2018</td>\n",
       "      <td>1.549</td>\n",
       "      <td>Western Europe</td>\n",
       "      <td>Europe</td>\n",
       "      <td>C</td>\n",
       "      <td>6.021163</td>\n",
       "      <td>6.829100</td>\n",
       "      <td>1.096338</td>\n",
       "      <td>1.243447</td>\n",
       "    </tr>\n",
       "    <tr>\n",
       "      <th>4</th>\n",
       "      <td>4</td>\n",
       "      <td>Switzerland</td>\n",
       "      <td>6</td>\n",
       "      <td>7.480</td>\n",
       "      <td>1.45200</td>\n",
       "      <td>NaN</td>\n",
       "      <td>1.052000</td>\n",
       "      <td>0.572000</td>\n",
       "      <td>0.343000</td>\n",
       "      <td>0.263000</td>\n",
       "      <td>NaN</td>\n",
       "      <td>2019</td>\n",
       "      <td>1.526</td>\n",
       "      <td>Western Europe</td>\n",
       "      <td>Europe</td>\n",
       "      <td>C</td>\n",
       "      <td>6.124542</td>\n",
       "      <td>6.898400</td>\n",
       "      <td>1.084309</td>\n",
       "      <td>1.221316</td>\n",
       "    </tr>\n",
       "  </tbody>\n",
       "</table>\n",
       "</div>"
      ],
      "text/plain": [
       "   Unnamed: 0      country  happiness_rank  happiness_score  gdp_per_capita  \\\n",
       "0           0  Switzerland               1            7.587         1.39651   \n",
       "1           1  Switzerland               2            7.509         1.52733   \n",
       "2           2  Switzerland               4            7.494         1.56498   \n",
       "3           3  Switzerland               5            7.487         1.42000   \n",
       "4           4  Switzerland               6            7.480         1.45200   \n",
       "\n",
       "     family  health_life_expectancy   freedom  corruption  generosity  \\\n",
       "0  1.349510                0.941430  0.665570    0.419780    0.296780   \n",
       "1  1.145240                0.863030  0.585570    0.412030    0.280830   \n",
       "2  1.516912                0.858131  0.620071    0.367007    0.290549   \n",
       "3       NaN                0.927000  0.660000    0.357000    0.256000   \n",
       "4       NaN                1.052000  0.572000    0.343000    0.263000   \n",
       "\n",
       "   dystopia  year  social_support     region_cons continente g_or_c   hs_cont  \\\n",
       "0  2.517380  2015             NaN  Western Europe     Europe      C  5.902740   \n",
       "1  2.694630  2016             NaN  Western Europe     Europe      C  5.922980   \n",
       "2  2.276716  2017             NaN  Western Europe     Europe      C  5.953320   \n",
       "3       NaN  2018           1.549  Western Europe     Europe      C  6.021163   \n",
       "4       NaN  2019           1.526  Western Europe     Europe      C  6.124542   \n",
       "\n",
       "     hs_reg  prop_pais_regiao  prop_pais_cont  \n",
       "0  6.689619          1.134145        1.285335  \n",
       "1  6.685667          1.123149        1.267774  \n",
       "2  6.703714          1.117888        1.258793  \n",
       "3  6.829100          1.096338        1.243447  \n",
       "4  6.898400          1.084309        1.221316  "
      ]
     },
     "execution_count": 59,
     "metadata": {},
     "output_type": "execute_result"
    }
   ],
   "source": [
    "tb_happy['prop_pais_cont'] = tb_happy.groupby(['continente', 'year'\n",
    "                                       ])['happiness_score'].transform(lambda x: x/x.mean())\n",
    "tb_happy.head()"
   ]
  },
  {
   "cell_type": "markdown",
   "id": "b9e276c8",
   "metadata": {},
   "source": [
    "# Voltamos 14h"
   ]
  },
  {
   "cell_type": "code",
   "execution_count": null,
   "id": "4a4179d7",
   "metadata": {},
   "outputs": [],
   "source": []
  }
 ],
 "metadata": {
  "hide_input": false,
  "kernelspec": {
   "display_name": "Python 3",
   "language": "python",
   "name": "python3"
  },
  "language_info": {
   "codemirror_mode": {
    "name": "ipython",
    "version": 3
   },
   "file_extension": ".py",
   "mimetype": "text/x-python",
   "name": "python",
   "nbconvert_exporter": "python",
   "pygments_lexer": "ipython3",
   "version": "3.8.8"
  },
  "toc": {
   "base_numbering": 1,
   "nav_menu": {},
   "number_sections": true,
   "sideBar": true,
   "skip_h1_title": false,
   "title_cell": "Table of Contents",
   "title_sidebar": "Contents",
   "toc_cell": true,
   "toc_position": {
    "height": "calc(100% - 180px)",
    "left": "10px",
    "top": "150px",
    "width": "274px"
   },
   "toc_section_display": true,
   "toc_window_display": true
  }
 },
 "nbformat": 4,
 "nbformat_minor": 5
}
