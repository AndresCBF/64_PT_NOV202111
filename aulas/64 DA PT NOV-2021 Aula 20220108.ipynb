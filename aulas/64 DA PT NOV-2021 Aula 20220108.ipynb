{
 "cells": [
  {
   "cell_type": "code",
   "execution_count": 12,
   "metadata": {
    "ExecuteTime": {
     "end_time": "2022-01-08T12:45:02.910211Z",
     "start_time": "2022-01-08T12:45:02.527959Z"
    }
   },
   "outputs": [],
   "source": [
    "import re\n",
    "import numpy as np\n",
    "import pandas as pd"
   ]
  },
  {
   "cell_type": "markdown",
   "metadata": {},
   "source": [
    "# Functional Paradigm Intro"
   ]
  },
  {
   "cell_type": "markdown",
   "metadata": {},
   "source": [
    "What other paradigms we have experienced?"
   ]
  },
  {
   "cell_type": "markdown",
   "metadata": {},
   "source": [
    "> <b> Procedural Programming </b>\n",
    "- Instructions are procedures.\n",
    "\n",
    "> <b> Objected Oriented Programming </b>\n",
    "- Instructions are grouped as part of a state of an object.\n",
    "\n",
    "> <b> Functional Programming </b>\n",
    "- No state exists. Just a serie of functions being evaluated. \n",
    "- The solution obtained is entirely based on the input. Like in math where <code>f(x) = y</code>\n",
    "- This idea leads to the fact that you can also <b>pass functions as arguments</b>. And this helps a lot.\n"
   ]
  },
  {
   "cell_type": "markdown",
   "metadata": {},
   "source": [
    "## Function definition\n",
    "\n",
    "```python\n",
    "def function_name(arg1):\n",
    "    something = arg1 + 10\n",
    "    return something\n",
    "```"
   ]
  },
  {
   "cell_type": "markdown",
   "metadata": {},
   "source": [
    "## Functions as variables"
   ]
  },
  {
   "cell_type": "code",
   "execution_count": 1,
   "metadata": {
    "ExecuteTime": {
     "end_time": "2022-01-08T12:44:37.712033Z",
     "start_time": "2022-01-08T12:44:37.701064Z"
    }
   },
   "outputs": [],
   "source": [
    "soma_1 = lambda x: x + 1"
   ]
  },
  {
   "cell_type": "code",
   "execution_count": 2,
   "metadata": {
    "ExecuteTime": {
     "end_time": "2022-01-08T12:44:38.019967Z",
     "start_time": "2022-01-08T12:44:37.999993Z"
    }
   },
   "outputs": [
    {
     "data": {
      "text/plain": [
       "11"
      ]
     },
     "execution_count": 2,
     "metadata": {},
     "output_type": "execute_result"
    }
   ],
   "source": [
    "soma_1(10)"
   ]
  },
  {
   "cell_type": "code",
   "execution_count": 3,
   "metadata": {
    "ExecuteTime": {
     "end_time": "2022-01-08T12:44:38.272206Z",
     "start_time": "2022-01-08T12:44:38.266222Z"
    }
   },
   "outputs": [],
   "source": [
    "soma_2 = lambda x: x + 2"
   ]
  },
  {
   "cell_type": "code",
   "execution_count": 4,
   "metadata": {
    "ExecuteTime": {
     "end_time": "2022-01-08T12:44:38.650566Z",
     "start_time": "2022-01-08T12:44:38.632587Z"
    }
   },
   "outputs": [],
   "source": [
    "somar_n = lambda x, n: x + n"
   ]
  },
  {
   "cell_type": "code",
   "execution_count": 5,
   "metadata": {
    "ExecuteTime": {
     "end_time": "2022-01-08T12:44:39.070979Z",
     "start_time": "2022-01-08T12:44:39.064996Z"
    }
   },
   "outputs": [],
   "source": [
    "soma_1 = lambda x: somar_n(x, 1)"
   ]
  },
  {
   "cell_type": "code",
   "execution_count": 6,
   "metadata": {
    "ExecuteTime": {
     "end_time": "2022-01-08T12:44:39.448021Z",
     "start_time": "2022-01-08T12:44:39.434060Z"
    }
   },
   "outputs": [
    {
     "data": {
      "text/plain": [
       "11"
      ]
     },
     "execution_count": 6,
     "metadata": {},
     "output_type": "execute_result"
    }
   ],
   "source": [
    "soma_1(10)"
   ]
  },
  {
   "cell_type": "markdown",
   "metadata": {},
   "source": [
    "## Mapping concept"
   ]
  },
  {
   "cell_type": "code",
   "execution_count": 8,
   "metadata": {
    "ExecuteTime": {
     "end_time": "2022-01-08T12:44:48.207995Z",
     "start_time": "2022-01-08T12:44:48.198992Z"
    }
   },
   "outputs": [],
   "source": [
    "lista_exemplo = [10, 12, 34, 23, 2, 6, 7]"
   ]
  },
  {
   "cell_type": "code",
   "execution_count": 9,
   "metadata": {
    "ExecuteTime": {
     "end_time": "2022-01-08T12:44:48.818010Z",
     "start_time": "2022-01-08T12:44:48.801060Z"
    }
   },
   "outputs": [],
   "source": [
    "def div_2(x):\n",
    "    return x/2"
   ]
  },
  {
   "cell_type": "markdown",
   "metadata": {},
   "source": [
    "### Now, how to apply that function to all elements of this list?"
   ]
  },
  {
   "cell_type": "code",
   "execution_count": 10,
   "metadata": {
    "ExecuteTime": {
     "end_time": "2022-01-08T12:44:53.348725Z",
     "start_time": "2022-01-08T12:44:53.200096Z"
    },
    "scrolled": true
   },
   "outputs": [
    {
     "ename": "TypeError",
     "evalue": "unsupported operand type(s) for /: 'list' and 'int'",
     "output_type": "error",
     "traceback": [
      "\u001b[1;31m---------------------------------------------------------------------------\u001b[0m",
      "\u001b[1;31mTypeError\u001b[0m                                 Traceback (most recent call last)",
      "\u001b[1;32m<ipython-input-10-03edcab3e078>\u001b[0m in \u001b[0;36m<module>\u001b[1;34m\u001b[0m\n\u001b[1;32m----> 1\u001b[1;33m \u001b[0mdiv_2\u001b[0m\u001b[1;33m(\u001b[0m\u001b[0mlista_exemplo\u001b[0m\u001b[1;33m)\u001b[0m\u001b[1;33m\u001b[0m\u001b[1;33m\u001b[0m\u001b[0m\n\u001b[0m",
      "\u001b[1;32m<ipython-input-9-5c8515e5ddeb>\u001b[0m in \u001b[0;36mdiv_2\u001b[1;34m(x)\u001b[0m\n\u001b[0;32m      1\u001b[0m \u001b[1;32mdef\u001b[0m \u001b[0mdiv_2\u001b[0m\u001b[1;33m(\u001b[0m\u001b[0mx\u001b[0m\u001b[1;33m)\u001b[0m\u001b[1;33m:\u001b[0m\u001b[1;33m\u001b[0m\u001b[1;33m\u001b[0m\u001b[0m\n\u001b[1;32m----> 2\u001b[1;33m     \u001b[1;32mreturn\u001b[0m \u001b[0mx\u001b[0m\u001b[1;33m/\u001b[0m\u001b[1;36m2\u001b[0m\u001b[1;33m\u001b[0m\u001b[1;33m\u001b[0m\u001b[0m\n\u001b[0m",
      "\u001b[1;31mTypeError\u001b[0m: unsupported operand type(s) for /: 'list' and 'int'"
     ]
    }
   ],
   "source": [
    "div_2(lista_exemplo)"
   ]
  },
  {
   "cell_type": "code",
   "execution_count": 13,
   "metadata": {
    "ExecuteTime": {
     "end_time": "2022-01-08T12:45:09.194136Z",
     "start_time": "2022-01-08T12:45:09.181147Z"
    }
   },
   "outputs": [
    {
     "data": {
      "text/plain": [
       "array([ 5. ,  6. , 17. , 11.5,  1. ,  3. ,  3.5])"
      ]
     },
     "execution_count": 13,
     "metadata": {},
     "output_type": "execute_result"
    }
   ],
   "source": [
    "div_2(np.array(lista_exemplo))"
   ]
  },
  {
   "cell_type": "code",
   "execution_count": 14,
   "metadata": {
    "ExecuteTime": {
     "end_time": "2022-01-08T12:45:11.003089Z",
     "start_time": "2022-01-08T12:45:10.997104Z"
    }
   },
   "outputs": [
    {
     "data": {
      "text/plain": [
       "[5.0, 6.0, 17.0, 11.5, 1.0, 3.0, 3.5]"
      ]
     },
     "execution_count": 14,
     "metadata": {},
     "output_type": "execute_result"
    }
   ],
   "source": [
    "new_list = []\n",
    "\n",
    "for item in lista_exemplo:\n",
    "    new_list.append(div_2(item))\n",
    "    \n",
    "new_list "
   ]
  },
  {
   "cell_type": "code",
   "execution_count": 15,
   "metadata": {
    "ExecuteTime": {
     "end_time": "2022-01-08T12:45:13.765089Z",
     "start_time": "2022-01-08T12:45:13.760140Z"
    }
   },
   "outputs": [
    {
     "data": {
      "text/plain": [
       "[5.0, 6.0, 17.0, 11.5, 1.0, 3.0, 3.5]"
      ]
     },
     "execution_count": 15,
     "metadata": {},
     "output_type": "execute_result"
    }
   ],
   "source": [
    "[div_2(item) for item in lista_exemplo]"
   ]
  },
  {
   "cell_type": "code",
   "execution_count": 16,
   "metadata": {
    "ExecuteTime": {
     "end_time": "2022-01-08T12:45:16.958105Z",
     "start_time": "2022-01-08T12:45:16.949119Z"
    }
   },
   "outputs": [
    {
     "name": "stdout",
     "output_type": "stream",
     "text": [
      "5.0\n",
      "6.0\n",
      "17.0\n",
      "11.5\n",
      "1.0\n",
      "3.0\n",
      "3.5\n"
     ]
    }
   ],
   "source": [
    "for i in map(div_2, lista_exemplo):\n",
    "    print(i)"
   ]
  },
  {
   "cell_type": "markdown",
   "metadata": {},
   "source": [
    "Map is called `lazy`. When you run `map(function, my_list)`, it doesn't execute anything. It just stores what it needs to perform. Whenever you call it, it washes out the result."
   ]
  },
  {
   "cell_type": "code",
   "execution_count": 17,
   "metadata": {
    "ExecuteTime": {
     "end_time": "2022-01-08T12:45:19.671009Z",
     "start_time": "2022-01-08T12:45:19.664038Z"
    }
   },
   "outputs": [
    {
     "data": {
      "text/plain": [
       "[5.0, 6.0, 17.0, 11.5, 1.0, 3.0, 3.5]"
      ]
     },
     "execution_count": 17,
     "metadata": {},
     "output_type": "execute_result"
    }
   ],
   "source": [
    "list(map(div_2, lista_exemplo))"
   ]
  },
  {
   "cell_type": "markdown",
   "metadata": {},
   "source": [
    "### Lazy evaluation\n",
    "\n",
    "Functional programming allows the idea of not calculating the whole function at once. \n",
    "\n",
    "These methods return only a `python object`. This haven't calculated nothing yet. As soon as you require the results, it calculates it."
   ]
  },
  {
   "cell_type": "code",
   "execution_count": 18,
   "metadata": {
    "ExecuteTime": {
     "end_time": "2022-01-08T12:45:28.055069Z",
     "start_time": "2022-01-08T12:45:28.040083Z"
    }
   },
   "outputs": [],
   "source": [
    "lista_telefones = [\n",
    "    19999571559, '(21) 2412-0107', '(34) 99762-1166', '91-4002-8282',\n",
    "    '(19) 3542-1820', '(19) 3561-9525', '(34) 3333-5802'\n",
    "]\n",
    "pattern = r'[0-9]+'"
   ]
  },
  {
   "cell_type": "code",
   "execution_count": 19,
   "metadata": {
    "ExecuteTime": {
     "end_time": "2022-01-08T12:45:28.678182Z",
     "start_time": "2022-01-08T12:45:28.664222Z"
    }
   },
   "outputs": [
    {
     "name": "stdout",
     "output_type": "stream",
     "text": [
      "['19', '21', '34', '91', '19', '19', '34']\n"
     ]
    }
   ],
   "source": [
    "lista_dds = list(map(lambda x: ''.join(re.findall(pattern, str(x)))[:2], lista_telefones))\n",
    "print(lista_dds)"
   ]
  },
  {
   "cell_type": "code",
   "execution_count": 20,
   "metadata": {
    "ExecuteTime": {
     "end_time": "2022-01-08T12:45:30.327143Z",
     "start_time": "2022-01-08T12:45:30.308166Z"
    }
   },
   "outputs": [
    {
     "name": "stdout",
     "output_type": "stream",
     "text": [
      "19\n",
      "21\n",
      "34\n",
      "91\n",
      "19\n",
      "19\n",
      "34\n"
     ]
    }
   ],
   "source": [
    "for ddd in map(lambda x: ''.join(re.findall(pattern, str(x)))[:2], lista_telefones):\n",
    "    print(ddd)"
   ]
  },
  {
   "cell_type": "code",
   "execution_count": 21,
   "metadata": {
    "ExecuteTime": {
     "end_time": "2022-01-08T12:45:30.733094Z",
     "start_time": "2022-01-08T12:45:30.719125Z"
    }
   },
   "outputs": [
    {
     "name": "stdout",
     "output_type": "stream",
     "text": [
      "{'21', '34', '19', '91'}\n"
     ]
    }
   ],
   "source": [
    "set_dds = set(map(lambda x: ''.join(re.findall(pattern, str(x)))[:2], lista_telefones))\n",
    "print(set_dds)"
   ]
  },
  {
   "cell_type": "markdown",
   "metadata": {},
   "source": [
    "## Filter"
   ]
  },
  {
   "cell_type": "markdown",
   "metadata": {},
   "source": [
    "`filter` helps removing elements of a list (or any iterator, anything you can run through) by passing a function that returns `True` or `False`. `filter` will also return a `python object`, but when you require it to show you the results, it will filter out every item that has return `False` on your function."
   ]
  },
  {
   "cell_type": "code",
   "execution_count": 22,
   "metadata": {
    "ExecuteTime": {
     "end_time": "2022-01-08T12:45:33.174901Z",
     "start_time": "2022-01-08T12:45:33.161937Z"
    }
   },
   "outputs": [],
   "source": [
    "lista_telefones = [\n",
    "    19999571559, '(21) 2412-0107', '(34) 99762-1166', '91-4002-8282',\n",
    "    '(19) 3542-1820', '(19) 3561-9525', '(34) 3333-5802'\n",
    "]\n",
    "def extrair_ddd(telefone):\n",
    "    '''\n",
    "    Recebe um telefone e retorna seu DDD\n",
    "    \n",
    "    telefone (str or int): Telefone onde os dois primeiros digitios numéricos são o DDD\n",
    "    '''\n",
    "    return ''.join(re.findall(pattern, str(telefone)))[:2]"
   ]
  },
  {
   "cell_type": "code",
   "execution_count": 24,
   "metadata": {
    "ExecuteTime": {
     "end_time": "2022-01-08T12:45:42.358057Z",
     "start_time": "2022-01-08T12:45:42.346098Z"
    }
   },
   "outputs": [
    {
     "name": "stdout",
     "output_type": "stream",
     "text": [
      "[19999571559, '(19) 3542-1820', '(19) 3561-9525']\n"
     ]
    }
   ],
   "source": [
    "lista_ddd_19 = list(filter(lambda x: True if extrair_ddd(x) == '19' else False, lista_telefones))\n",
    "print(lista_ddd_19)"
   ]
  },
  {
   "cell_type": "code",
   "execution_count": 25,
   "metadata": {
    "ExecuteTime": {
     "end_time": "2022-01-08T12:45:48.740482Z",
     "start_time": "2022-01-08T12:45:48.723018Z"
    }
   },
   "outputs": [
    {
     "name": "stdout",
     "output_type": "stream",
     "text": [
      "19999571559\n",
      "(19) 3542-1820\n",
      "(19) 3561-9525\n"
     ]
    }
   ],
   "source": [
    "filtro_19 = filter(lambda x: True if extrair_ddd(x) == '19' else False, lista_telefones)\n",
    "for telefone in filtro_19:\n",
    "    print(telefone)"
   ]
  },
  {
   "cell_type": "code",
   "execution_count": 26,
   "metadata": {
    "ExecuteTime": {
     "end_time": "2022-01-08T12:45:57.029007Z",
     "start_time": "2022-01-08T12:45:57.020032Z"
    }
   },
   "outputs": [
    {
     "data": {
      "text/plain": [
       "[19999571559, '(19) 3542-1820', '(19) 3561-9525']"
      ]
     },
     "execution_count": 26,
     "metadata": {},
     "output_type": "execute_result"
    }
   ],
   "source": [
    "[telefone for telefone in lista_telefones if extrair_ddd(telefone) == '19']"
   ]
  },
  {
   "cell_type": "markdown",
   "metadata": {},
   "source": [
    "## Reduce"
   ]
  },
  {
   "cell_type": "markdown",
   "metadata": {},
   "source": [
    "Reduce brings the idea of an `accumulator`. Imagine you have a function that performs a `sum` for each pair of arguments. `reduce` (from the library `functools`) will consider the first argument of your function an `accumulator` and will run through your iterator recursively applying your function for pairs of items.\n",
    "\n",
    "For example, for the list [1,4,6,8]\n",
    "\n",
    "If you perform the following function:\n",
    "```python\n",
    "def sum_two_elements(a,b):\n",
    "    return a+b\n",
    "```\n",
    "\n",
    "as \n",
    "```python\n",
    "reduce( sum_two_elements, [1,4,6,8] )\n",
    "```\n",
    "\n",
    "The steps it will perform are:\n",
    "```python\n",
    "a = 0 # accumulator\n",
    "b = 1 # value\n",
    "a + b = 1 # so the accumulator receives this cummulative sum\n",
    "\n",
    "a = 1 # accumulator\n",
    "b = 4 # value\n",
    "a + b = 5\n",
    "...\n",
    "a = 5 # accumulator\n",
    "b = 6 # value \n",
    "a + b = 11\n",
    "...\n",
    "a = 11 # accumulator\n",
    "b = 8 # value\n",
    "a + b = 19\n",
    "\n",
    "return 19\n",
    "```"
   ]
  },
  {
   "cell_type": "code",
   "execution_count": 27,
   "metadata": {
    "ExecuteTime": {
     "end_time": "2022-01-08T12:46:08.020941Z",
     "start_time": "2022-01-08T12:46:08.008974Z"
    }
   },
   "outputs": [],
   "source": [
    "from functools import reduce"
   ]
  },
  {
   "cell_type": "markdown",
   "metadata": {},
   "source": [
    "#### Exemplo 1: Números"
   ]
  },
  {
   "cell_type": "code",
   "execution_count": null,
   "metadata": {
    "ExecuteTime": {
     "end_time": "2022-01-08T01:32:12.568460Z",
     "start_time": "2022-01-08T01:32:12.561452Z"
    }
   },
   "outputs": [],
   "source": [
    "def somar_ab(a,b):\n",
    "    print(f'a={a}, b={b}')\n",
    "    return a+b"
   ]
  },
  {
   "cell_type": "code",
   "execution_count": null,
   "metadata": {
    "ExecuteTime": {
     "end_time": "2022-01-08T01:32:13.160369Z",
     "start_time": "2022-01-08T01:32:13.153367Z"
    }
   },
   "outputs": [],
   "source": [
    "lista_numeros = [1, 2, 3, 4, 5]\n",
    "reduce(somar_ab, lista_numeros)"
   ]
  },
  {
   "cell_type": "code",
   "execution_count": null,
   "metadata": {
    "ExecuteTime": {
     "end_time": "2022-01-08T01:33:05.572768Z",
     "start_time": "2022-01-08T01:33:05.566783Z"
    }
   },
   "outputs": [],
   "source": [
    "reduce(lambda x, y: x if x > y else y, lista_numeros)"
   ]
  },
  {
   "cell_type": "markdown",
   "metadata": {},
   "source": [
    "#### Exemplo 2: Strings"
   ]
  },
  {
   "cell_type": "code",
   "execution_count": null,
   "metadata": {
    "ExecuteTime": {
     "end_time": "2022-01-08T01:37:05.201365Z",
     "start_time": "2022-01-08T01:37:05.191393Z"
    }
   },
   "outputs": [],
   "source": [
    "lista_letras = ['P', 'e', 'd', 'r', 'o']"
   ]
  },
  {
   "cell_type": "code",
   "execution_count": null,
   "metadata": {
    "ExecuteTime": {
     "end_time": "2022-01-08T01:37:05.512530Z",
     "start_time": "2022-01-08T01:37:05.496549Z"
    }
   },
   "outputs": [],
   "source": [
    "reduce(lambda x, y: x + y, lista_letras)"
   ]
  },
  {
   "cell_type": "code",
   "execution_count": null,
   "metadata": {
    "ExecuteTime": {
     "end_time": "2022-01-08T01:41:56.746888Z",
     "start_time": "2022-01-08T01:41:56.735897Z"
    }
   },
   "outputs": [],
   "source": [
    "lista_nomes = ['Amapá', 'Roraima', 'Pará', 'Piauí', 'Maranhão']\n",
    "reduce(lambda x, y: x if len(x) > len(y) else y, lista_nomes)"
   ]
  },
  {
   "cell_type": "markdown",
   "metadata": {},
   "source": [
    "#### Exemplo 3: Booleanos"
   ]
  },
  {
   "cell_type": "code",
   "execution_count": null,
   "metadata": {
    "ExecuteTime": {
     "end_time": "2022-01-08T01:43:34.448785Z",
     "start_time": "2022-01-08T01:43:34.438808Z"
    }
   },
   "outputs": [],
   "source": [
    "lista_bool = [True, True, True, True, False]\n",
    "reduce(lambda x, y: True if x and y else False, lista_bool)"
   ]
  },
  {
   "cell_type": "code",
   "execution_count": null,
   "metadata": {
    "ExecuteTime": {
     "end_time": "2022-01-08T01:43:34.807656Z",
     "start_time": "2022-01-08T01:43:34.790714Z"
    }
   },
   "outputs": [],
   "source": [
    "lista_bool = [True, False, False, False, False]\n",
    "reduce(lambda x, y: True if x or y else False, lista_bool)"
   ]
  },
  {
   "cell_type": "markdown",
   "metadata": {},
   "source": [
    "#### Exemplo 4: Accumulator"
   ]
  },
  {
   "cell_type": "code",
   "execution_count": null,
   "metadata": {
    "ExecuteTime": {
     "end_time": "2022-01-08T01:46:53.455266Z",
     "start_time": "2022-01-08T01:46:53.451283Z"
    }
   },
   "outputs": [],
   "source": [
    "from itertools import accumulate"
   ]
  },
  {
   "cell_type": "code",
   "execution_count": null,
   "metadata": {
    "ExecuteTime": {
     "end_time": "2022-01-08T01:48:12.707998Z",
     "start_time": "2022-01-08T01:48:12.705022Z"
    }
   },
   "outputs": [],
   "source": [
    "lista_numeros = [1, 2, 3, 4, 5]\n",
    "list(accumulate(lista_numeros, lambda x, y: x + y))"
   ]
  },
  {
   "cell_type": "code",
   "execution_count": null,
   "metadata": {
    "ExecuteTime": {
     "end_time": "2022-01-08T01:48:36.486548Z",
     "start_time": "2022-01-08T01:48:36.470589Z"
    }
   },
   "outputs": [],
   "source": [
    "lista_nomes = ['Amapá', 'Roraima', 'Pará', 'Piauí', 'Maranhão']\n",
    "list(accumulate(lista_nomes, lambda x, y: x if len(x) > len(y) else y))"
   ]
  },
  {
   "cell_type": "markdown",
   "metadata": {},
   "source": [
    "---\n",
    "# Mapping on Pandas"
   ]
  },
  {
   "cell_type": "markdown",
   "metadata": {},
   "source": [
    "> <code> df['col_name'].apply() </code>"
   ]
  },
  {
   "cell_type": "markdown",
   "metadata": {},
   "source": [
    "## Exemplo 1"
   ]
  },
  {
   "cell_type": "code",
   "execution_count": null,
   "metadata": {
    "ExecuteTime": {
     "end_time": "2022-01-08T01:50:24.580663Z",
     "start_time": "2022-01-08T01:50:23.453796Z"
    }
   },
   "outputs": [],
   "source": [
    "file_address = 'http://www.statsci.org/data/general/sleep.txt'\n",
    "tb_sleep = pd.read_csv(file_address, sep='\\t')"
   ]
  },
  {
   "cell_type": "code",
   "execution_count": null,
   "metadata": {
    "ExecuteTime": {
     "end_time": "2022-01-08T01:50:24.612410Z",
     "start_time": "2022-01-08T01:50:24.582474Z"
    },
    "scrolled": true
   },
   "outputs": [],
   "source": [
    "tb_sleep.head()"
   ]
  },
  {
   "cell_type": "code",
   "execution_count": null,
   "metadata": {
    "ExecuteTime": {
     "end_time": "2022-01-08T01:51:50.989770Z",
     "start_time": "2022-01-08T01:51:50.946905Z"
    }
   },
   "outputs": [],
   "source": [
    "tb_sleep['brain_wt_kg'] = tb_sleep['BrainWt']/1000"
   ]
  },
  {
   "cell_type": "code",
   "execution_count": null,
   "metadata": {
    "ExecuteTime": {
     "end_time": "2022-01-08T01:51:51.424748Z",
     "start_time": "2022-01-08T01:51:51.415773Z"
    }
   },
   "outputs": [],
   "source": [
    "tb_sleep['ratio_brain'] = tb_sleep['brain_wt_kg']/tb_sleep['BodyWt']"
   ]
  },
  {
   "cell_type": "code",
   "execution_count": null,
   "metadata": {
    "ExecuteTime": {
     "end_time": "2022-01-08T01:51:57.688876Z",
     "start_time": "2022-01-08T01:51:57.643026Z"
    }
   },
   "outputs": [],
   "source": [
    "tb_sleep.head()"
   ]
  },
  {
   "cell_type": "code",
   "execution_count": null,
   "metadata": {
    "ExecuteTime": {
     "end_time": "2022-01-08T02:09:42.456251Z",
     "start_time": "2022-01-08T02:09:42.450259Z"
    }
   },
   "outputs": [],
   "source": [
    "def maior_1p(ratio):\n",
    "    if ratio > 0.01:\n",
    "        return 'Pesado'\n",
    "    else:\n",
    "        return 'Leve'"
   ]
  },
  {
   "cell_type": "code",
   "execution_count": null,
   "metadata": {
    "ExecuteTime": {
     "end_time": "2022-01-08T02:09:42.967745Z",
     "start_time": "2022-01-08T02:09:42.926857Z"
    }
   },
   "outputs": [],
   "source": [
    "maior_1p(tb_sleep['ratio_brain'])"
   ]
  },
  {
   "cell_type": "code",
   "execution_count": null,
   "metadata": {
    "ExecuteTime": {
     "end_time": "2022-01-08T02:10:58.338408Z",
     "start_time": "2022-01-08T02:10:58.311481Z"
    }
   },
   "outputs": [],
   "source": [
    "tb_sleep['heavy_brain'] = tb_sleep['ratio_brain'].apply(maior_1p)"
   ]
  },
  {
   "cell_type": "code",
   "execution_count": null,
   "metadata": {
    "ExecuteTime": {
     "end_time": "2022-01-08T02:11:40.657901Z",
     "start_time": "2022-01-08T02:11:40.636963Z"
    }
   },
   "outputs": [],
   "source": [
    "tb_sleep.head()"
   ]
  },
  {
   "cell_type": "code",
   "execution_count": null,
   "metadata": {
    "ExecuteTime": {
     "end_time": "2022-01-08T02:30:01.609633Z",
     "start_time": "2022-01-08T02:30:01.603651Z"
    }
   },
   "outputs": [],
   "source": [
    "def score_risco(P, E, D):\n",
    "    '''\n",
    "    Calcula um score de risco com base na proporção entre os dois piores scores de risco.\n",
    "    P (int): score Predation\n",
    "    E (int): score Exposure\n",
    "    D (int): score Danger\n",
    "    '''\n",
    "    lista_scores = [P,E,D]\n",
    "    max_score = max(lista_scores)\n",
    "    lista_scores.remove(max_score)\n",
    "    score_risco = (max(lista_scores)+max_score)/2\n",
    "    return score_risco"
   ]
  },
  {
   "cell_type": "code",
   "execution_count": null,
   "metadata": {
    "ExecuteTime": {
     "end_time": "2022-01-08T02:53:23.320165Z",
     "start_time": "2022-01-08T02:53:23.299208Z"
    }
   },
   "outputs": [],
   "source": [
    "tb_sleep[['Predation', 'Exposure', 'Danger']].apply(sum, axis = 1)"
   ]
  },
  {
   "cell_type": "code",
   "execution_count": null,
   "metadata": {
    "ExecuteTime": {
     "end_time": "2022-01-08T02:30:10.355680Z",
     "start_time": "2022-01-08T02:30:10.338725Z"
    }
   },
   "outputs": [],
   "source": [
    "tb_sleep[['Predation', 'Exposure', 'Danger']].apply(score_risco)"
   ]
  },
  {
   "cell_type": "code",
   "execution_count": null,
   "metadata": {
    "ExecuteTime": {
     "end_time": "2022-01-08T02:31:11.011509Z",
     "start_time": "2022-01-08T02:31:10.989576Z"
    }
   },
   "outputs": [],
   "source": [
    "tb_sleep.apply(lambda x: score_risco(x['Predation'], x['Exposure'], x['Danger']), axis = 1)"
   ]
  },
  {
   "cell_type": "code",
   "execution_count": null,
   "metadata": {
    "ExecuteTime": {
     "end_time": "2022-01-08T12:44:25.476229Z",
     "start_time": "2022-01-08T12:44:25.326087Z"
    }
   },
   "outputs": [],
   "source": [
    "tb_sleep.apply(lambda x: score_risco(*x), axis = 1)"
   ]
  },
  {
   "cell_type": "code",
   "execution_count": null,
   "metadata": {
    "ExecuteTime": {
     "end_time": "2022-01-08T02:55:04.781924Z",
     "start_time": "2022-01-08T02:55:04.764973Z"
    }
   },
   "outputs": [],
   "source": [
    "def somar_ab(a, b):\n",
    "    return a + b"
   ]
  },
  {
   "cell_type": "code",
   "execution_count": null,
   "metadata": {
    "ExecuteTime": {
     "end_time": "2022-01-08T02:55:11.076580Z",
     "start_time": "2022-01-08T02:55:11.072583Z"
    }
   },
   "outputs": [],
   "source": [
    "somar_ab(1, 2)"
   ]
  },
  {
   "cell_type": "code",
   "execution_count": null,
   "metadata": {
    "ExecuteTime": {
     "end_time": "2022-01-08T02:55:26.722217Z",
     "start_time": "2022-01-08T02:55:26.706231Z"
    }
   },
   "outputs": [],
   "source": [
    "dupla = (1,2)\n",
    "somar_ab(dupla)"
   ]
  },
  {
   "cell_type": "code",
   "execution_count": null,
   "metadata": {
    "ExecuteTime": {
     "end_time": "2022-01-08T02:55:37.550765Z",
     "start_time": "2022-01-08T02:55:37.537772Z"
    }
   },
   "outputs": [],
   "source": [
    "somar_ab(*dupla)"
   ]
  },
  {
   "cell_type": "code",
   "execution_count": null,
   "metadata": {
    "ExecuteTime": {
     "end_time": "2022-01-08T02:31:38.001637Z",
     "start_time": "2022-01-08T02:31:37.992650Z"
    }
   },
   "outputs": [],
   "source": [
    "tb_sleep[['Predation', 'Exposure', 'Danger']].apply(lambda x: score_risco(*x), axis = 1)"
   ]
  },
  {
   "cell_type": "markdown",
   "metadata": {},
   "source": [
    "## Exemplo 2"
   ]
  },
  {
   "cell_type": "code",
   "execution_count": null,
   "metadata": {
    "ExecuteTime": {
     "end_time": "2022-01-08T02:36:59.782994Z",
     "start_time": "2022-01-08T02:36:59.761058Z"
    }
   },
   "outputs": [],
   "source": [
    "lista_telefones = [\n",
    "    19999571559, '(21) 2412-0107', '(34) 99762-1166', '91-4002-8282',\n",
    "    '(19) 3542-1820', '(19) 3561-9525', '(34) 3333-5802'\n",
    "]\n",
    "tb_telefone = pd.DataFrame(lista_telefones, columns=['telefones'])\n",
    "tb_telefone"
   ]
  },
  {
   "cell_type": "code",
   "execution_count": null,
   "metadata": {
    "ExecuteTime": {
     "end_time": "2022-01-08T02:37:00.420304Z",
     "start_time": "2022-01-08T02:37:00.405338Z"
    }
   },
   "outputs": [],
   "source": [
    "pattern = r'[0-9]+'\n",
    "def extrair_ddd(telefone):\n",
    "    '''\n",
    "    Extrai o DDD de um telefone\n",
    "    telefone (str or numeric): telefone onde os dois primeiros digitos numéricos são o DDD\n",
    "    '''\n",
    "    return ''.join(re.findall(pattern, str(telefone)))[:2]"
   ]
  },
  {
   "cell_type": "code",
   "execution_count": null,
   "metadata": {
    "ExecuteTime": {
     "end_time": "2022-01-08T02:37:01.276360Z",
     "start_time": "2022-01-08T02:37:01.269369Z"
    }
   },
   "outputs": [],
   "source": [
    "extrair_ddd(1935613870)"
   ]
  },
  {
   "cell_type": "code",
   "execution_count": null,
   "metadata": {
    "ExecuteTime": {
     "end_time": "2022-01-08T02:37:01.791443Z",
     "start_time": "2022-01-08T02:37:01.771484Z"
    }
   },
   "outputs": [],
   "source": [
    "extrair_ddd(tb_telefone)"
   ]
  },
  {
   "cell_type": "code",
   "execution_count": null,
   "metadata": {
    "ExecuteTime": {
     "end_time": "2022-01-08T02:38:19.858922Z",
     "start_time": "2022-01-08T02:38:19.853934Z"
    }
   },
   "outputs": [],
   "source": [
    "tb_telefone['DDD'] = tb_telefone['telefones'].apply(extrair_ddd)"
   ]
  },
  {
   "cell_type": "code",
   "execution_count": null,
   "metadata": {
    "ExecuteTime": {
     "end_time": "2022-01-08T02:38:24.903780Z",
     "start_time": "2022-01-08T02:38:24.893808Z"
    }
   },
   "outputs": [],
   "source": [
    "tb_telefone"
   ]
  },
  {
   "cell_type": "markdown",
   "metadata": {},
   "source": [
    "## Apply functions with arguments"
   ]
  },
  {
   "cell_type": "code",
   "execution_count": null,
   "metadata": {
    "ExecuteTime": {
     "end_time": "2022-01-08T02:48:29.599580Z",
     "start_time": "2022-01-08T02:48:29.583594Z"
    }
   },
   "outputs": [],
   "source": [
    "def maior_custom(valor, patamar):\n",
    "    if valor > patamar:\n",
    "        return 'Pesado'\n",
    "    else:\n",
    "        return 'Leve'"
   ]
  },
  {
   "cell_type": "code",
   "execution_count": null,
   "metadata": {
    "ExecuteTime": {
     "end_time": "2022-01-08T02:48:34.846689Z",
     "start_time": "2022-01-08T02:48:34.835718Z"
    }
   },
   "outputs": [],
   "source": [
    "maior_custom(0.01, 0.5)"
   ]
  },
  {
   "cell_type": "code",
   "execution_count": null,
   "metadata": {
    "ExecuteTime": {
     "end_time": "2022-01-08T02:50:21.365221Z",
     "start_time": "2022-01-08T02:50:21.347280Z"
    }
   },
   "outputs": [],
   "source": [
    "tb_sleep['ratio_brain'].apply(lambda x: maior_custom(x, 0.005))"
   ]
  },
  {
   "cell_type": "code",
   "execution_count": null,
   "metadata": {
    "ExecuteTime": {
     "end_time": "2022-01-08T02:51:58.176201Z",
     "start_time": "2022-01-08T02:51:58.155258Z"
    }
   },
   "outputs": [],
   "source": [
    "tb_sleep['ratio_brain'].apply(maior_custom, args = (0.005,))"
   ]
  }
 ],
 "metadata": {
  "hide_input": false,
  "kernelspec": {
   "display_name": "Python 3",
   "language": "python",
   "name": "python3"
  },
  "language_info": {
   "codemirror_mode": {
    "name": "ipython",
    "version": 3
   },
   "file_extension": ".py",
   "mimetype": "text/x-python",
   "name": "python",
   "nbconvert_exporter": "python",
   "pygments_lexer": "ipython3",
   "version": "3.8.8"
  },
  "toc": {
   "base_numbering": 1,
   "nav_menu": {},
   "number_sections": true,
   "sideBar": true,
   "skip_h1_title": false,
   "title_cell": "Table of Contents",
   "title_sidebar": "Contents",
   "toc_cell": false,
   "toc_position": {},
   "toc_section_display": true,
   "toc_window_display": false
  },
  "varInspector": {
   "cols": {
    "lenName": 16,
    "lenType": 16,
    "lenVar": 40
   },
   "kernels_config": {
    "python": {
     "delete_cmd_postfix": "",
     "delete_cmd_prefix": "del ",
     "library": "var_list.py",
     "varRefreshCmd": "print(var_dic_list())"
    },
    "r": {
     "delete_cmd_postfix": ") ",
     "delete_cmd_prefix": "rm(",
     "library": "var_list.r",
     "varRefreshCmd": "cat(var_dic_list()) "
    }
   },
   "types_to_exclude": [
    "module",
    "function",
    "builtin_function_or_method",
    "instance",
    "_Feature"
   ],
   "window_display": false
  }
 },
 "nbformat": 4,
 "nbformat_minor": 4
}
