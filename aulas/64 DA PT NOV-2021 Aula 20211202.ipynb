{
 "cells": [
  {
   "cell_type": "markdown",
   "metadata": {},
   "source": [
    "# Manipulating a dataset structure\n",
    "Applying some operations to change DataFrame strucutre and filtering content"
   ]
  },
  {
   "cell_type": "code",
   "execution_count": null,
   "metadata": {
    "ExecuteTime": {
     "end_time": "2021-12-02T18:19:29.970104Z",
     "start_time": "2021-12-02T18:19:29.896318Z"
    }
   },
   "outputs": [],
   "source": [
    "# 1-) Import Pandas\n",
    "# 2-) Read `vehicles.csv`\n",
    "# 3-) Make some quick analysis\n",
    "import pandas as pd\n",
    "import numpy as np\n",
    "tb_veic = pd.read_csv('data/dados_veiculos.csv')"
   ]
  },
  {
   "cell_type": "markdown",
   "metadata": {},
   "source": [
    "Como podemos ver abaixo, a tabela contém 15 colunas, sendo 9 numéricas e 6 de objetos. Além disso todas as linhas parecem ter todas as variáveis preenchidas."
   ]
  },
  {
   "cell_type": "code",
   "execution_count": null,
   "metadata": {
    "ExecuteTime": {
     "end_time": "2021-12-02T18:19:30.251667Z",
     "start_time": "2021-12-02T18:19:30.229716Z"
    }
   },
   "outputs": [],
   "source": [
    "tb_veic.info()"
   ]
  },
  {
   "cell_type": "markdown",
   "metadata": {},
   "source": [
    "Como podemos verificar o que as colunas com tipo 'object' contém? "
   ]
  },
  {
   "cell_type": "markdown",
   "metadata": {},
   "source": [
    "## Check DataFrame Column Names"
   ]
  },
  {
   "cell_type": "markdown",
   "metadata": {},
   "source": [
    "Rename all columns at once:\n",
    "- `data.columns` is an **attribute** of the DataFrame which results in a list-like of the column names\n",
    "    - You can substitute it by another list containing the names you want \n",
    "    - Note you have to substitute the whole set of column names at once\n",
    "    \n",
    "- `data.rename()` is a **method** of a DataFrame, in which you can rename one column at once\n",
    "    - You just need to pass a dictionary containing {'old_name':'new_name'} \n",
    "    - By default, it changes names of a **index** (`axis=0`), you can specify `axis=1` to change **column** names\n",
    "    - the `inplace` argument"
   ]
  },
  {
   "cell_type": "code",
   "execution_count": null,
   "metadata": {
    "ExecuteTime": {
     "end_time": "2021-12-02T18:19:30.737320Z",
     "start_time": "2021-12-02T18:19:30.733329Z"
    }
   },
   "outputs": [],
   "source": [
    "print(tb_veic.columns)"
   ]
  },
  {
   "cell_type": "code",
   "execution_count": null,
   "metadata": {
    "ExecuteTime": {
     "end_time": "2021-12-02T18:19:30.871958Z",
     "start_time": "2021-12-02T18:19:30.867969Z"
    }
   },
   "outputs": [],
   "source": [
    "print(tb_veic.columns[0])"
   ]
  },
  {
   "cell_type": "code",
   "execution_count": null,
   "metadata": {
    "ExecuteTime": {
     "end_time": "2021-12-02T18:19:30.988648Z",
     "start_time": "2021-12-02T18:19:30.984659Z"
    }
   },
   "outputs": [],
   "source": [
    "coluna_0 = tb_veic[tb_veic.columns[0]]"
   ]
  },
  {
   "cell_type": "code",
   "execution_count": null,
   "metadata": {
    "ExecuteTime": {
     "end_time": "2021-12-02T18:19:31.121321Z",
     "start_time": "2021-12-02T18:19:31.111321Z"
    }
   },
   "outputs": [],
   "source": [
    "tipo_coluna_0 = a.dtypes.type"
   ]
  },
  {
   "cell_type": "code",
   "execution_count": null,
   "metadata": {
    "ExecuteTime": {
     "end_time": "2021-12-02T18:19:31.254101Z",
     "start_time": "2021-12-02T18:19:31.247104Z"
    }
   },
   "outputs": [],
   "source": [
    "tipo_coluna_0 == np.object_"
   ]
  },
  {
   "cell_type": "code",
   "execution_count": null,
   "metadata": {
    "ExecuteTime": {
     "end_time": "2021-12-02T18:19:31.431609Z",
     "start_time": "2021-12-02T18:19:31.384764Z"
    }
   },
   "outputs": [],
   "source": [
    "for column in tb_veic.columns:\n",
    "    if tb_veic[column].dtypes.type == np.object_:\n",
    "        print(tb_veic[column].describe())"
   ]
  },
  {
   "cell_type": "markdown",
   "metadata": {},
   "source": [
    "### Substituting `.columns` attribute"
   ]
  },
  {
   "cell_type": "code",
   "execution_count": null,
   "metadata": {
    "ExecuteTime": {
     "end_time": "2021-12-02T18:19:31.639197Z",
     "start_time": "2021-12-02T18:19:31.636192Z"
    }
   },
   "outputs": [],
   "source": [
    "print(tb_veic.columns)"
   ]
  },
  {
   "cell_type": "code",
   "execution_count": null,
   "metadata": {
    "ExecuteTime": {
     "end_time": "2021-12-02T18:19:31.762897Z",
     "start_time": "2021-12-02T18:19:31.758908Z"
    }
   },
   "outputs": [],
   "source": [
    "old_column_names = list(tb_veic.columns)"
   ]
  },
  {
   "cell_type": "code",
   "execution_count": null,
   "metadata": {
    "ExecuteTime": {
     "end_time": "2021-12-02T18:19:31.896544Z",
     "start_time": "2021-12-02T18:19:31.891552Z"
    }
   },
   "outputs": [],
   "source": [
    "tb_veic.columns = [column.lower().replace(' ', '_') for column in list(tb_veic.columns)]"
   ]
  },
  {
   "cell_type": "code",
   "execution_count": null,
   "metadata": {
    "ExecuteTime": {
     "end_time": "2021-12-02T18:19:32.048158Z",
     "start_time": "2021-12-02T18:19:32.019211Z"
    }
   },
   "outputs": [],
   "source": [
    "tb_veic"
   ]
  },
  {
   "cell_type": "code",
   "execution_count": null,
   "metadata": {
    "ExecuteTime": {
     "end_time": "2021-12-02T18:19:32.169957Z",
     "start_time": "2021-12-02T18:19:32.163972Z"
    }
   },
   "outputs": [],
   "source": [
    "tb_veic.columns = old_column_names\n",
    "print(tb_veic.columns)"
   ]
  },
  {
   "cell_type": "markdown",
   "metadata": {},
   "source": [
    "### Using `.rename() method`"
   ]
  },
  {
   "cell_type": "markdown",
   "metadata": {},
   "source": [
    "`.rename({'old_column':'new_column'})`"
   ]
  },
  {
   "cell_type": "code",
   "execution_count": null,
   "metadata": {
    "ExecuteTime": {
     "end_time": "2021-12-02T18:19:32.553250Z",
     "start_time": "2021-12-02T18:19:32.547266Z"
    }
   },
   "outputs": [],
   "source": [
    "tb_veic = tb_veic.rename({'Year' : 'model_year'}, axis = 1)\n",
    "print(tb_veic.columns)"
   ]
  },
  {
   "cell_type": "code",
   "execution_count": null,
   "metadata": {
    "ExecuteTime": {
     "end_time": "2021-12-02T18:19:32.694570Z",
     "start_time": "2021-12-02T18:19:32.688588Z"
    }
   },
   "outputs": [],
   "source": [
    "tb_veic.columns = old_column_names"
   ]
  },
  {
   "cell_type": "code",
   "execution_count": null,
   "metadata": {
    "ExecuteTime": {
     "end_time": "2021-12-02T18:19:32.842175Z",
     "start_time": "2021-12-02T18:19:32.835195Z"
    }
   },
   "outputs": [],
   "source": [
    "tb_veic.rename({'Year' : 'model_year'}, axis = 1)\n",
    "print(tb_veic.columns)"
   ]
  },
  {
   "cell_type": "code",
   "execution_count": null,
   "metadata": {
    "ExecuteTime": {
     "end_time": "2021-12-02T18:19:32.976124Z",
     "start_time": "2021-12-02T18:19:32.971138Z"
    }
   },
   "outputs": [],
   "source": [
    "tb_veic.rename({'Year' : 'model_year'}, axis = 1, inplace = True)\n",
    "print(tb_veic.columns)"
   ]
  },
  {
   "cell_type": "code",
   "execution_count": null,
   "metadata": {
    "ExecuteTime": {
     "end_time": "2021-12-02T18:19:33.118958Z",
     "start_time": "2021-12-02T18:19:33.114952Z"
    }
   },
   "outputs": [],
   "source": [
    "dict_rename = {column : column.lower().replace(' ', '_').replace('/', '_by_') for column in tb_veic.columns}\n",
    "print(dict_rename)"
   ]
  },
  {
   "cell_type": "code",
   "execution_count": null,
   "metadata": {
    "ExecuteTime": {
     "end_time": "2021-12-02T18:19:33.257033Z",
     "start_time": "2021-12-02T18:19:33.253050Z"
    }
   },
   "outputs": [],
   "source": [
    "tb_veic.rename(dict_rename, axis = 1, inplace = True)\n",
    "print(tb_veic.columns)"
   ]
  },
  {
   "cell_type": "markdown",
   "metadata": {},
   "source": [
    "So, we have two options:\n",
    "> 1. store it again on the variable `data`: \n",
    "\n",
    "    data = data.rename(columns={'Make':'Manufacturer', 'Year':'ANO'})\n",
    "> 2. Use the inplace argument `inplace =  True` to change the values within the dataframe automatically\n",
    "\n",
    "    data.rename(columns={'Make':'Manufacturer', 'Year':'ANO'}, inplace=True)\n",
    "    \n",
    "O parâmetro 'inplace' será deprecado e seu uso é considerado má prática."
   ]
  },
  {
   "cell_type": "markdown",
   "metadata": {},
   "source": [
    "## Reorder columns in a dataframe\n",
    "\n",
    "Remember: You always pass a list of columns to access a dataframe"
   ]
  },
  {
   "cell_type": "code",
   "execution_count": null,
   "metadata": {
    "ExecuteTime": {
     "end_time": "2021-12-02T18:19:33.670002Z",
     "start_time": "2021-12-02T18:19:33.664019Z"
    }
   },
   "outputs": [],
   "source": [
    "print(tb_veic.columns)"
   ]
  },
  {
   "cell_type": "code",
   "execution_count": null,
   "metadata": {
    "ExecuteTime": {
     "end_time": "2021-12-02T18:19:33.815646Z",
     "start_time": "2021-12-02T18:19:33.804662Z"
    }
   },
   "outputs": [],
   "source": [
    "tb_veic[['model', 'make']]"
   ]
  },
  {
   "cell_type": "code",
   "execution_count": null,
   "metadata": {
    "ExecuteTime": {
     "end_time": "2021-12-02T18:19:33.952267Z",
     "start_time": "2021-12-02T18:19:33.946285Z"
    }
   },
   "outputs": [],
   "source": [
    "lista_colunas = list(tb_veic.columns)\n",
    "lista_colunas.sort()\n",
    "print(lista_colunas)"
   ]
  },
  {
   "cell_type": "code",
   "execution_count": null,
   "metadata": {
    "ExecuteTime": {
     "end_time": "2021-12-02T18:19:34.109972Z",
     "start_time": "2021-12-02T18:19:34.075065Z"
    }
   },
   "outputs": [],
   "source": [
    "tb_veic[lista_colunas]"
   ]
  },
  {
   "cell_type": "markdown",
   "metadata": {},
   "source": [
    "## Remove column (or row)\n",
    "\n",
    "- The `.drop()` method\n",
    "- By default, `.drop()` drops a row given its index."
   ]
  },
  {
   "cell_type": "code",
   "execution_count": null,
   "metadata": {
    "ExecuteTime": {
     "end_time": "2021-12-02T18:19:34.389227Z",
     "start_time": "2021-12-02T18:19:34.354320Z"
    }
   },
   "outputs": [],
   "source": [
    "tb_veic.drop('make', axis = 1)"
   ]
  },
  {
   "cell_type": "code",
   "execution_count": null,
   "metadata": {
    "ExecuteTime": {
     "end_time": "2021-12-02T18:19:34.523867Z",
     "start_time": "2021-12-02T18:19:34.492949Z"
    },
    "scrolled": true
   },
   "outputs": [],
   "source": [
    "tb_veic.drop(['make', 'model_year'], axis = 1)"
   ]
  },
  {
   "cell_type": "markdown",
   "metadata": {},
   "source": [
    "## Deep vs Shallow copy on pandas"
   ]
  },
  {
   "cell_type": "code",
   "execution_count": null,
   "metadata": {
    "ExecuteTime": {
     "end_time": "2021-12-02T18:19:34.782175Z",
     "start_time": "2021-12-02T18:19:34.772202Z"
    }
   },
   "outputs": [],
   "source": [
    "copia_tb_veic = tb_veic\n",
    "copy_tb_veic = tb_veic.copy(deep = False)\n",
    "deepcopy_tb_veic = tb_veic.copy(deep = True) # comportamento padrão do método"
   ]
  },
  {
   "cell_type": "code",
   "execution_count": null,
   "metadata": {
    "ExecuteTime": {
     "end_time": "2021-12-02T18:19:34.929781Z",
     "start_time": "2021-12-02T18:19:34.923796Z"
    }
   },
   "outputs": [],
   "source": [
    "a = [1, 2, 3]\n",
    "b = [1, 2, 3]\n",
    "a is b"
   ]
  },
  {
   "cell_type": "code",
   "execution_count": null,
   "metadata": {
    "ExecuteTime": {
     "end_time": "2021-12-02T18:19:35.081375Z",
     "start_time": "2021-12-02T18:19:35.076389Z"
    }
   },
   "outputs": [],
   "source": [
    "c = b\n",
    "print(c)"
   ]
  },
  {
   "cell_type": "code",
   "execution_count": null,
   "metadata": {
    "ExecuteTime": {
     "end_time": "2021-12-02T18:19:35.234964Z",
     "start_time": "2021-12-02T18:19:35.227984Z"
    }
   },
   "outputs": [],
   "source": [
    "c is b"
   ]
  },
  {
   "cell_type": "code",
   "execution_count": null,
   "metadata": {
    "ExecuteTime": {
     "end_time": "2021-12-02T18:19:35.421466Z",
     "start_time": "2021-12-02T18:19:35.415482Z"
    }
   },
   "outputs": [],
   "source": [
    "tb_veic_2 = tb_veic\n",
    "tb_veic_2 is tb_veic"
   ]
  },
  {
   "cell_type": "code",
   "execution_count": null,
   "metadata": {
    "ExecuteTime": {
     "end_time": "2021-12-02T18:19:35.765548Z",
     "start_time": "2021-12-02T18:19:35.756570Z"
    }
   },
   "outputs": [],
   "source": [
    "tb_veic_2 = tb_veic.copy()\n",
    "tb_veic_2 is tb_veic"
   ]
  },
  {
   "cell_type": "markdown",
   "metadata": {},
   "source": [
    "## Sort Values in a DatFrame"
   ]
  },
  {
   "cell_type": "code",
   "execution_count": null,
   "metadata": {
    "ExecuteTime": {
     "end_time": "2021-12-02T18:19:36.271194Z",
     "start_time": "2021-12-02T18:19:36.238284Z"
    }
   },
   "outputs": [],
   "source": [
    "tb_veic = tb_veic.sort_values('model_year')\n",
    "tb_veic"
   ]
  },
  {
   "cell_type": "code",
   "execution_count": null,
   "metadata": {
    "ExecuteTime": {
     "end_time": "2021-12-02T18:19:36.555436Z",
     "start_time": "2021-12-02T18:19:36.522525Z"
    }
   },
   "outputs": [],
   "source": [
    "tb_veic = tb_veic.sort_values('model_year', ascending = False)\n",
    "tb_veic"
   ]
  },
  {
   "cell_type": "code",
   "execution_count": null,
   "metadata": {
    "ExecuteTime": {
     "end_time": "2021-12-02T18:19:37.654187Z",
     "start_time": "2021-12-02T18:19:37.622243Z"
    }
   },
   "outputs": [],
   "source": [
    "tb_veic = tb_veic.sort_values(['model_year', 'engine_displacement'], ascending = [False, True])\n",
    "tb_veic"
   ]
  },
  {
   "cell_type": "code",
   "execution_count": null,
   "metadata": {
    "ExecuteTime": {
     "end_time": "2021-12-02T18:19:38.155988Z",
     "start_time": "2021-12-02T18:19:38.112121Z"
    }
   },
   "outputs": [],
   "source": [
    "tb_veic = tb_veic.sort_values(['model_year', 'engine_displacement'], ascending = False)\n",
    "tb_veic"
   ]
  },
  {
   "cell_type": "markdown",
   "metadata": {},
   "source": [
    "# Filter records\n",
    ">    - `mask` concept\n",
    ">    - `.query()` method\n",
    "\n",
    "This is really important for data wrangling."
   ]
  },
  {
   "cell_type": "markdown",
   "metadata": {},
   "source": [
    "## Simple Example: Starting with a numpy array. How can I filter the values of a list?"
   ]
  },
  {
   "cell_type": "code",
   "execution_count": null,
   "metadata": {
    "ExecuteTime": {
     "end_time": "2021-12-02T18:19:39.971236Z",
     "start_time": "2021-12-02T18:19:39.967246Z"
    }
   },
   "outputs": [],
   "source": [
    "meu_array = np.array(range(1,10,2))\n",
    "print(meu_array)"
   ]
  },
  {
   "cell_type": "markdown",
   "metadata": {},
   "source": [
    "The results of `my_array > 5` is what is called **a mask**. A result containing the `True` and `False` results of an operation. "
   ]
  },
  {
   "cell_type": "code",
   "execution_count": null,
   "metadata": {
    "ExecuteTime": {
     "end_time": "2021-12-02T18:19:40.453248Z",
     "start_time": "2021-12-02T18:19:40.450256Z"
    }
   },
   "outputs": [],
   "source": [
    "print(meu_array > 5)"
   ]
  },
  {
   "cell_type": "markdown",
   "metadata": {},
   "source": [
    "Masks can be used as an index to select data!"
   ]
  },
  {
   "cell_type": "code",
   "execution_count": null,
   "metadata": {
    "ExecuteTime": {
     "end_time": "2021-12-02T18:19:41.271225Z",
     "start_time": "2021-12-02T18:19:41.268266Z"
    }
   },
   "outputs": [],
   "source": [
    "print(meu_array[meu_array > 5])"
   ]
  },
  {
   "cell_type": "markdown",
   "metadata": {},
   "source": [
    "After selecting, you can do anything with it, for example assigning it. This operation is called a `vectorial` operation. It is done all at once."
   ]
  },
  {
   "cell_type": "code",
   "execution_count": null,
   "metadata": {
    "ExecuteTime": {
     "end_time": "2021-12-02T18:19:41.756626Z",
     "start_time": "2021-12-02T18:19:41.751640Z"
    }
   },
   "outputs": [],
   "source": [
    "meu_array_filtrado = meu_array[meu_array > 5]\n",
    "print(meu_array_filtrado)"
   ]
  },
  {
   "cell_type": "markdown",
   "metadata": {},
   "source": [
    "You can also save the condition"
   ]
  },
  {
   "cell_type": "code",
   "execution_count": null,
   "metadata": {
    "ExecuteTime": {
     "end_time": "2021-12-02T18:19:42.536301Z",
     "start_time": "2021-12-02T18:19:42.532311Z"
    }
   },
   "outputs": [],
   "source": [
    "num_gt5 = meu_array > 5\n",
    "print(num_gt5)"
   ]
  },
  {
   "cell_type": "markdown",
   "metadata": {},
   "source": [
    "## Bitwise logical operators - Combining conditions\n",
    "\n",
    "To make more than one condition together, you can use \n",
    "- `&` - analogous to `and`\n",
    "- `|` - analogous to `or` "
   ]
  },
  {
   "cell_type": "markdown",
   "metadata": {},
   "source": [
    "For example, get all numbers from my_array that are greater than 3 and smaller than 8"
   ]
  },
  {
   "cell_type": "markdown",
   "metadata": {},
   "source": [
    "Let's do it in steps:\n",
    "- get values greater than 3"
   ]
  },
  {
   "cell_type": "code",
   "execution_count": null,
   "metadata": {
    "ExecuteTime": {
     "end_time": "2021-12-02T18:19:44.549110Z",
     "start_time": "2021-12-02T18:19:44.545122Z"
    }
   },
   "outputs": [],
   "source": [
    "num_gt3 = meu_array > 3\n",
    "print(meu_array)\n",
    "print(num_gt3)"
   ]
  },
  {
   "cell_type": "markdown",
   "metadata": {},
   "source": [
    "- get values smaller than 8"
   ]
  },
  {
   "cell_type": "code",
   "execution_count": null,
   "metadata": {
    "ExecuteTime": {
     "end_time": "2021-12-02T18:19:45.673210Z",
     "start_time": "2021-12-02T18:19:45.669222Z"
    }
   },
   "outputs": [],
   "source": [
    "num_st8 = meu_array < 8\n",
    "print(meu_array)\n",
    "print(num_st8)"
   ]
  },
  {
   "cell_type": "markdown",
   "metadata": {},
   "source": [
    "- get values greater than 3 AND smaller than 8"
   ]
  },
  {
   "cell_type": "code",
   "execution_count": null,
   "metadata": {
    "ExecuteTime": {
     "end_time": "2021-12-02T18:19:46.407349Z",
     "start_time": "2021-12-02T18:19:46.403354Z"
    }
   },
   "outputs": [],
   "source": [
    "num_3a8 = num_st8 & num_gt3\n",
    "print(meu_array)\n",
    "print(num_3a8)"
   ]
  },
  {
   "cell_type": "markdown",
   "metadata": {},
   "source": [
    "- get values greater than 3 OR smaller than 8"
   ]
  },
  {
   "cell_type": "code",
   "execution_count": null,
   "metadata": {
    "ExecuteTime": {
     "end_time": "2021-12-02T18:19:47.203188Z",
     "start_time": "2021-12-02T18:19:47.198204Z"
    }
   },
   "outputs": [],
   "source": [
    "num_3a8 = num_st8 | num_gt3\n",
    "print(meu_array)\n",
    "print(num_3a8)"
   ]
  },
  {
   "cell_type": "markdown",
   "metadata": {},
   "source": [
    "## Now in a DataFrame"
   ]
  },
  {
   "cell_type": "markdown",
   "metadata": {},
   "source": [
    "Let's find the rows in which the Cylinders values are exactly 6."
   ]
  },
  {
   "cell_type": "code",
   "execution_count": null,
   "metadata": {
    "ExecuteTime": {
     "end_time": "2021-12-02T18:19:51.541176Z",
     "start_time": "2021-12-02T18:19:51.527186Z"
    },
    "scrolled": true
   },
   "outputs": [],
   "source": [
    "cyl_6 = tb_veic['cylinders'] == 6\n",
    "print(cyl_6)\n",
    "sum(cyl_6)"
   ]
  },
  {
   "cell_type": "code",
   "execution_count": null,
   "metadata": {
    "ExecuteTime": {
     "end_time": "2021-12-02T18:19:52.481066Z",
     "start_time": "2021-12-02T18:19:52.454110Z"
    }
   },
   "outputs": [],
   "source": [
    "tb_veic_cyl6 = tb_veic[cyl_6] \n",
    "# mais abreviado seria:\n",
    "# tb_veic_cyl6 = tb_veic[tb_veic['cylinders'] == 6]\n",
    "tb_veic_cyl6"
   ]
  },
  {
   "cell_type": "code",
   "execution_count": null,
   "metadata": {
    "ExecuteTime": {
     "end_time": "2021-12-02T18:19:58.280271Z",
     "start_time": "2021-12-02T18:19:58.246386Z"
    }
   },
   "outputs": [],
   "source": [
    "tb_veic_cyl6.describe()"
   ]
  },
  {
   "cell_type": "markdown",
   "metadata": {},
   "source": [
    "### You can combine conditions"
   ]
  },
  {
   "cell_type": "markdown",
   "metadata": {},
   "source": [
    "Cars from `Ford` and 6 `Cylinders`"
   ]
  },
  {
   "cell_type": "code",
   "execution_count": null,
   "metadata": {
    "ExecuteTime": {
     "end_time": "2021-12-02T18:20:01.252366Z",
     "start_time": "2021-12-02T18:20:01.247369Z"
    }
   },
   "outputs": [],
   "source": [
    "print(tb_veic.columns)"
   ]
  },
  {
   "cell_type": "code",
   "execution_count": null,
   "metadata": {
    "ExecuteTime": {
     "end_time": "2021-12-02T18:20:02.021247Z",
     "start_time": "2021-12-02T18:20:02.012270Z"
    }
   },
   "outputs": [],
   "source": [
    "print(tb_veic['make'].unique())"
   ]
  },
  {
   "cell_type": "code",
   "execution_count": null,
   "metadata": {
    "ExecuteTime": {
     "end_time": "2021-12-02T18:20:06.657015Z",
     "start_time": "2021-12-02T18:20:06.625100Z"
    }
   },
   "outputs": [],
   "source": [
    "tb_veic[(tb_veic['make'] == 'Ford') & (tb_veic['cylinders'] == 6)]"
   ]
  },
  {
   "cell_type": "markdown",
   "metadata": {},
   "source": [
    "### Using conditions to create new columns"
   ]
  },
  {
   "cell_type": "code",
   "execution_count": null,
   "metadata": {},
   "outputs": [],
   "source": [
    "tb_veic_2 = tb_veic.copy()"
   ]
  },
  {
   "cell_type": "code",
   "execution_count": null,
   "metadata": {
    "ExecuteTime": {
     "end_time": "2021-12-02T18:20:41.813088Z",
     "start_time": "2021-12-02T18:20:41.781146Z"
    }
   },
   "outputs": [],
   "source": [
    "tb_veic_2.loc[tb_veic['cylinders'] == 6, 'cyl_6'] = True\n",
    "tb_veic_2.loc[tb_veic['cylinders'] != 6, 'cyl_6'] = False\n",
    "tb_veic_2"
   ]
  },
  {
   "cell_type": "code",
   "execution_count": null,
   "metadata": {
    "ExecuteTime": {
     "end_time": "2021-12-02T18:23:04.238090Z",
     "start_time": "2021-12-02T18:23:04.200190Z"
    }
   },
   "outputs": [],
   "source": [
    "tb_veic_2.describe()"
   ]
  },
  {
   "cell_type": "code",
   "execution_count": null,
   "metadata": {
    "ExecuteTime": {
     "end_time": "2021-12-02T18:25:10.331324Z",
     "start_time": "2021-12-02T18:25:10.317375Z"
    }
   },
   "outputs": [],
   "source": [
    "tb_veic_2.loc[tb_veic_2['city_mpg']  < 15, 'eff_city'] = 'C'\n",
    "tb_veic_2.loc[(tb_veic_2['city_mpg']  >= 15) & (tb_veic_2['city_mpg']  < 20), 'eff_city'] = 'B'\n",
    "tb_veic_2.loc[tb_veic_2['city_mpg']  >= 20, 'eff_city'] = 'A'"
   ]
  },
  {
   "cell_type": "code",
   "execution_count": null,
   "metadata": {
    "ExecuteTime": {
     "end_time": "2021-12-02T18:26:25.873190Z",
     "start_time": "2021-12-02T18:26:25.864203Z"
    }
   },
   "outputs": [],
   "source": [
    "tb_veic_2['eff_city'].value_counts()"
   ]
  },
  {
   "cell_type": "code",
   "execution_count": null,
   "metadata": {
    "ExecuteTime": {
     "end_time": "2021-12-02T18:33:48.068340Z",
     "start_time": "2021-12-02T18:33:48.059362Z"
    }
   },
   "outputs": [],
   "source": [
    "p25_citympg = tb_veic_2['city_mpg']  < 15\n",
    "p75_citympg = tb_veic_2['city_mpg']  < 20\n",
    "tb_veic_2.loc[p25_citympg, 'eff_city'] = 'C'\n",
    "tb_veic_2.loc[~p25_citympg & p75_citympg, 'eff_city'] = 'B'\n",
    "tb_veic_2.loc[~p75_citympg, 'eff_city'] = 'A'"
   ]
  },
  {
   "cell_type": "code",
   "execution_count": null,
   "metadata": {
    "ExecuteTime": {
     "end_time": "2021-12-02T18:33:50.952529Z",
     "start_time": "2021-12-02T18:33:50.944548Z"
    }
   },
   "outputs": [],
   "source": [
    "tb_veic_2['eff_city'].value_counts()"
   ]
  },
  {
   "cell_type": "code",
   "execution_count": null,
   "metadata": {
    "ExecuteTime": {
     "end_time": "2021-12-02T17:52:21.167901Z",
     "start_time": "2021-12-02T17:52:21.152932Z"
    }
   },
   "outputs": [],
   "source": [
    "tb_veic['cyl_6'] = np.where(tb_veic['cylinders'] == 6, True, False)\n",
    "print(tb_veic['cyl_6'].describe())\n",
    "sum(tb_veic['cyl_6'])"
   ]
  },
  {
   "cell_type": "code",
   "execution_count": null,
   "metadata": {
    "ExecuteTime": {
     "end_time": "2021-12-02T17:57:39.991898Z",
     "start_time": "2021-12-02T17:57:39.974931Z"
    }
   },
   "outputs": [],
   "source": [
    "tb_veic['cyl_6_ford'] = np.where((tb_veic['make'] == 'Ford') & (tb_veic['cylinders'] == 6),\n",
    "                                 True,\n",
    "                                 False)\n",
    "print(tb_veic['cyl_6_ford'].describe())\n",
    "sum(tb_veic['cyl_6_ford'])"
   ]
  },
  {
   "cell_type": "code",
   "execution_count": null,
   "metadata": {
    "ExecuteTime": {
     "end_time": "2021-12-02T17:59:15.547899Z",
     "start_time": "2021-12-02T17:59:15.540915Z"
    }
   },
   "outputs": [],
   "source": [
    "sum(tb_veic['city_mpg'] > tb_veic['highway_mpg'])"
   ]
  },
  {
   "cell_type": "code",
   "execution_count": null,
   "metadata": {
    "ExecuteTime": {
     "end_time": "2021-12-02T18:08:27.390863Z",
     "start_time": "2021-12-02T18:08:27.378888Z"
    }
   },
   "outputs": [],
   "source": [
    "tb_veic['co2grams_by_gallon'] = np.where(tb_veic['city_mpg'] > tb_veic['highway_mpg'],\n",
    "                               tb_veic['co2_emission_grams_by_mile']/tb_veic['highway_mpg'],\n",
    "                               tb_veic['co2_emission_grams_by_mile']/tb_veic['city_mpg'],\n",
    "                              )\n",
    "print(tb_veic['co2grams_by_gallon'].describe())"
   ]
  },
  {
   "cell_type": "code",
   "execution_count": null,
   "metadata": {
    "ExecuteTime": {
     "end_time": "2021-12-02T18:44:06.354603Z",
     "start_time": "2021-12-02T18:44:06.337649Z"
    }
   },
   "outputs": [],
   "source": [
    "tb_veic['eff_city'] = np.where(tb_veic['city_mpg'] < 15, 'C',\n",
    "                               np.where(tb_veic['city_mpg'] < 20, 'B', 'A'))\n",
    "tb_veic['eff_city'].value_counts()"
   ]
  },
  {
   "cell_type": "markdown",
   "metadata": {},
   "source": [
    "## Another way to do the same thing"
   ]
  },
  {
   "cell_type": "markdown",
   "metadata": {},
   "source": [
    "* using the method `query`\n",
    "\n",
    "The method `query` receives a string in which you can say your condition. Important things:\n",
    "- `.query()` is a method of your dataframe\n",
    "- `.query()` method receives a string \n",
    "- Every word inside the string that is not `quoted` is considered a variable of your dataframe (so, for example `.query('Year == 1999')` will look for the variable `Year`. Another example: if you try to run `.query('Make == Ford')` will look both for the column name `Make` and the column named `Ford`. If you want the results of the column `Make` to match the **string** Ford, you have to run `.query('Make == \"Ford\"')`\n",
    "- If your column has spaces, you have to call it using backticks like in **.query('\\`Engine Displacement\\` < 4')**:"
   ]
  },
  {
   "cell_type": "code",
   "execution_count": null,
   "metadata": {
    "ExecuteTime": {
     "end_time": "2021-12-02T18:45:21.677566Z",
     "start_time": "2021-12-02T18:45:21.645643Z"
    }
   },
   "outputs": [],
   "source": [
    "tb_veic.query('model_year == 2016')"
   ]
  },
  {
   "cell_type": "code",
   "execution_count": null,
   "metadata": {
    "ExecuteTime": {
     "end_time": "2021-12-02T18:49:49.747472Z",
     "start_time": "2021-12-02T18:49:49.707577Z"
    }
   },
   "outputs": [],
   "source": [
    "tb_veic.\\\n",
    "    query('make == \"Ford\"').\\\n",
    "    query('cylinders == 6').\\\n",
    "    query('model_year == 2017')\n"
   ]
  },
  {
   "cell_type": "code",
   "execution_count": null,
   "metadata": {},
   "outputs": [],
   "source": []
  }
 ],
 "metadata": {
  "hide_input": false,
  "kernelspec": {
   "display_name": "Python 3",
   "language": "python",
   "name": "python3"
  },
  "language_info": {
   "codemirror_mode": {
    "name": "ipython",
    "version": 3
   },
   "file_extension": ".py",
   "mimetype": "text/x-python",
   "name": "python",
   "nbconvert_exporter": "python",
   "pygments_lexer": "ipython3",
   "version": "3.8.8"
  },
  "toc": {
   "base_numbering": 1,
   "nav_menu": {},
   "number_sections": true,
   "sideBar": true,
   "skip_h1_title": false,
   "title_cell": "Table of Contents",
   "title_sidebar": "Contents",
   "toc_cell": false,
   "toc_position": {},
   "toc_section_display": true,
   "toc_window_display": false
  },
  "toc-autonumbering": true,
  "varInspector": {
   "cols": {
    "lenName": 16,
    "lenType": 16,
    "lenVar": 40
   },
   "kernels_config": {
    "python": {
     "delete_cmd_postfix": "",
     "delete_cmd_prefix": "del ",
     "library": "var_list.py",
     "varRefreshCmd": "print(var_dic_list())"
    },
    "r": {
     "delete_cmd_postfix": ") ",
     "delete_cmd_prefix": "rm(",
     "library": "var_list.r",
     "varRefreshCmd": "cat(var_dic_list()) "
    }
   },
   "types_to_exclude": [
    "module",
    "function",
    "builtin_function_or_method",
    "instance",
    "_Feature"
   ],
   "window_display": false
  }
 },
 "nbformat": 4,
 "nbformat_minor": 4
}
