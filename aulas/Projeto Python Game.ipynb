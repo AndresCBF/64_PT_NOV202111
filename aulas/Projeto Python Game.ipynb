{
 "cells": [
  {
   "cell_type": "markdown",
   "id": "1d7c2bc5",
   "metadata": {
    "toc": true
   },
   "source": [
    "<h1>Table of Contents<span class=\"tocSkip\"></span></h1>\n",
    "<div class=\"toc\"><ul class=\"toc-item\"><li><span><a href=\"#Projeto-Python-Game\" data-toc-modified-id=\"Projeto-Python-Game-1\"><span class=\"toc-item-num\">1&nbsp;&nbsp;</span>Projeto Python Game</a></span></li></ul></div>"
   ]
  },
  {
   "cell_type": "markdown",
   "id": "19c1ca92",
   "metadata": {},
   "source": [
    "# Projeto Python Game\n",
    "\n",
    "**Entregáveis:**\n",
    "1. Link do código fonte em seu repositório no GitHub;\n",
    "1. Utilize pelo menos uma função em seu jogo;\n",
    "1. Apresentação dia 04/12.\n",
    "\n",
    "Construa um jogo utilizando os conceitos de programação aprendidos até o momento. Não precisa ser complicado: diversos jogos, como forca ou jogo da velha, são simples de se implementar. Simples ou complexo, um jogo em Python em geral contém um loop do jogo (muitas vezes um loop ```while True```) com as etapas abaixo:\n",
    "\n",
    "1. Entrada do Usuário;\n",
    "1. Atualização do estado do jogo;\n",
    "1. Atualização das informações aos jogadores (via ```print``` por exemplo).\n",
    "\n",
    "Além dos jogos acima, podemos utilizar jogos de azar (roleta por exemplo), cujas regras em geral são simples, ou então jogos da Antiguidade, como os descritos no site https://www.ancientgames.org/games/"
   ]
  },
  {
   "cell_type": "code",
   "execution_count": null,
   "id": "378ed9cc",
   "metadata": {},
   "outputs": [],
   "source": []
  }
 ],
 "metadata": {
  "hide_input": false,
  "kernelspec": {
   "display_name": "Python 3",
   "language": "python",
   "name": "python3"
  },
  "language_info": {
   "codemirror_mode": {
    "name": "ipython",
    "version": 3
   },
   "file_extension": ".py",
   "mimetype": "text/x-python",
   "name": "python",
   "nbconvert_exporter": "python",
   "pygments_lexer": "ipython3",
   "version": "3.8.8"
  },
  "toc": {
   "base_numbering": 1,
   "nav_menu": {},
   "number_sections": true,
   "sideBar": true,
   "skip_h1_title": false,
   "title_cell": "Table of Contents",
   "title_sidebar": "Contents",
   "toc_cell": true,
   "toc_position": {},
   "toc_section_display": true,
   "toc_window_display": true
  }
 },
 "nbformat": 4,
 "nbformat_minor": 5
}
