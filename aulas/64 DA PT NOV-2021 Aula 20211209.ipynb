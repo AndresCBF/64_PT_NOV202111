{
 "cells": [
  {
   "cell_type": "markdown",
   "metadata": {},
   "source": [
    "# Data Cleaning\n",
    "> Objectives:\n",
    "    - Given a messy dataset - extract meaningful information from it. \n",
    "    - Learn from the data."
   ]
  },
  {
   "cell_type": "code",
   "execution_count": null,
   "metadata": {},
   "outputs": [],
   "source": [
    "!pip install seaborn"
   ]
  },
  {
   "cell_type": "code",
   "execution_count": null,
   "metadata": {
    "ExecuteTime": {
     "end_time": "2021-12-09T16:59:35.865891Z",
     "start_time": "2021-12-09T16:59:33.963458Z"
    }
   },
   "outputs": [],
   "source": [
    "import pandas as pd\n",
    "import seaborn as sns\n",
    "import numpy as np\n",
    "tb_veic_messy = pd.read_csv('data/vehicles_messy.csv', dtype = {'year' : 'object'})\n",
    "tb_veic_messy.loc[0, 'year_num_errado'] = str(tb_veic_messy.loc[1, 'year_num']) + 'a'\n",
    "tb_veic_messy.loc[1:, 'year_num_errado'] = str(tb_veic_messy.loc[1, 'year_num'])"
   ]
  },
  {
   "cell_type": "code",
   "execution_count": null,
   "metadata": {
    "ExecuteTime": {
     "end_time": "2021-12-09T18:52:53.573448Z",
     "start_time": "2021-12-09T18:52:53.487659Z"
    }
   },
   "outputs": [],
   "source": [
    "tb_veic_messy"
   ]
  },
  {
   "cell_type": "code",
   "execution_count": null,
   "metadata": {
    "ExecuteTime": {
     "end_time": "2021-12-09T18:52:54.321964Z",
     "start_time": "2021-12-09T18:52:54.246138Z"
    }
   },
   "outputs": [],
   "source": [
    "pd.set_option('display.max_columns', 500)\n",
    "pd.set_option('display.max_rows', 5)\n",
    "tb_veic_messy"
   ]
  },
  {
   "cell_type": "code",
   "execution_count": null,
   "metadata": {
    "ExecuteTime": {
     "end_time": "2021-12-09T18:52:55.010142Z",
     "start_time": "2021-12-09T18:52:55.002134Z"
    }
   },
   "outputs": [],
   "source": [
    "pd.set_option('display.max_rows', 20)"
   ]
  },
  {
   "cell_type": "markdown",
   "metadata": {},
   "source": [
    "## Data types"
   ]
  },
  {
   "cell_type": "markdown",
   "metadata": {},
   "source": [
    "### Checking data types of our dataset"
   ]
  },
  {
   "cell_type": "code",
   "execution_count": null,
   "metadata": {
    "ExecuteTime": {
     "end_time": "2021-12-09T18:52:58.863005Z",
     "start_time": "2021-12-09T18:52:58.810737Z"
    }
   },
   "outputs": [],
   "source": [
    "tb_veic_messy.info()"
   ]
  },
  {
   "cell_type": "code",
   "execution_count": null,
   "metadata": {
    "ExecuteTime": {
     "end_time": "2021-12-09T18:53:15.541386Z",
     "start_time": "2021-12-09T18:53:15.521423Z"
    }
   },
   "outputs": [],
   "source": [
    "tb_veic_messy.dtypes"
   ]
  },
  {
   "cell_type": "code",
   "execution_count": null,
   "metadata": {
    "ExecuteTime": {
     "end_time": "2021-12-09T18:53:22.988796Z",
     "start_time": "2021-12-09T18:53:22.968821Z"
    }
   },
   "outputs": [],
   "source": [
    "tb_veic_messy.dtypes.value_counts()"
   ]
  },
  {
   "cell_type": "code",
   "execution_count": null,
   "metadata": {
    "ExecuteTime": {
     "end_time": "2021-12-09T18:53:39.608182Z",
     "start_time": "2021-12-09T18:53:39.572249Z"
    }
   },
   "outputs": [],
   "source": [
    "tb_veic_messy.select_dtypes(include = 'object')"
   ]
  },
  {
   "cell_type": "code",
   "execution_count": null,
   "metadata": {
    "ExecuteTime": {
     "end_time": "2021-12-09T18:53:45.013262Z",
     "start_time": "2021-12-09T18:53:44.965390Z"
    }
   },
   "outputs": [],
   "source": [
    "tb_veic_messy.select_dtypes(include = 'object').info()"
   ]
  },
  {
   "cell_type": "markdown",
   "metadata": {},
   "source": [
    "### Convert values using `.astype()`\n",
    "\n",
    "Converts the type of the column"
   ]
  },
  {
   "cell_type": "code",
   "execution_count": null,
   "metadata": {
    "ExecuteTime": {
     "end_time": "2021-12-09T18:54:02.756276Z",
     "start_time": "2021-12-09T18:54:02.745302Z"
    }
   },
   "outputs": [],
   "source": [
    "tb_veic_messy['year']"
   ]
  },
  {
   "cell_type": "code",
   "execution_count": null,
   "metadata": {
    "ExecuteTime": {
     "end_time": "2021-12-09T18:55:17.832310Z",
     "start_time": "2021-12-09T18:55:17.788112Z"
    }
   },
   "outputs": [],
   "source": [
    "tb_veic_messy['year'].describe()"
   ]
  },
  {
   "cell_type": "code",
   "execution_count": null,
   "metadata": {
    "ExecuteTime": {
     "end_time": "2021-12-09T18:55:03.116674Z",
     "start_time": "2021-12-09T18:55:03.094770Z"
    }
   },
   "outputs": [],
   "source": [
    "tb_veic_messy['year_num'] = tb_veic_messy['year'].astype('int64')"
   ]
  },
  {
   "cell_type": "code",
   "execution_count": null,
   "metadata": {
    "ExecuteTime": {
     "end_time": "2021-12-09T18:55:10.699996Z",
     "start_time": "2021-12-09T18:55:10.674062Z"
    }
   },
   "outputs": [],
   "source": [
    "tb_veic_messy['year_num'].describe()"
   ]
  },
  {
   "cell_type": "markdown",
   "metadata": {},
   "source": [
    "### Convert values using map"
   ]
  },
  {
   "cell_type": "code",
   "execution_count": null,
   "metadata": {
    "ExecuteTime": {
     "end_time": "2021-12-09T19:14:04.177826Z",
     "start_time": "2021-12-09T19:14:04.161864Z"
    }
   },
   "outputs": [],
   "source": [
    "tb_veic_messy['year'].map(int)"
   ]
  },
  {
   "cell_type": "code",
   "execution_count": null,
   "metadata": {
    "ExecuteTime": {
     "end_time": "2021-12-09T19:14:22.839336Z",
     "start_time": "2021-12-09T19:14:22.820404Z"
    }
   },
   "outputs": [],
   "source": [
    "tb_veic_messy['year_num_errado']"
   ]
  },
  {
   "cell_type": "code",
   "execution_count": null,
   "metadata": {
    "ExecuteTime": {
     "end_time": "2021-12-09T19:14:33.531256Z",
     "start_time": "2021-12-09T19:14:33.512308Z"
    }
   },
   "outputs": [],
   "source": [
    "tb_veic_messy['year_num_errado'].astype('int64')"
   ]
  },
  {
   "cell_type": "code",
   "execution_count": null,
   "metadata": {
    "ExecuteTime": {
     "end_time": "2021-12-09T19:14:43.518698Z",
     "start_time": "2021-12-09T19:14:43.487782Z"
    }
   },
   "outputs": [],
   "source": [
    "tb_veic_messy['year_num_errado'].map(int)"
   ]
  },
  {
   "cell_type": "code",
   "execution_count": null,
   "metadata": {
    "ExecuteTime": {
     "end_time": "2021-12-09T19:14:51.587202Z",
     "start_time": "2021-12-09T19:14:51.565261Z"
    }
   },
   "outputs": [],
   "source": [
    "def te_int(value):\n",
    "    try:\n",
    "        return int(value)\n",
    "    except ValueError as e:\n",
    "        return np.nan\n",
    "    \n",
    "tb_veic_messy['year_num_errado'].map(te_int)"
   ]
  },
  {
   "cell_type": "markdown",
   "metadata": {},
   "source": [
    "## Null (or missing) values\n",
    "\n",
    ">    - Called NaN: <u>Not A Number</u>\n",
    ">    - Count \n",
    ">    - <b>Mask</b> concept"
   ]
  },
  {
   "cell_type": "markdown",
   "metadata": {},
   "source": [
    "### `np.nan`"
   ]
  },
  {
   "cell_type": "code",
   "execution_count": null,
   "metadata": {
    "ExecuteTime": {
     "end_time": "2021-12-09T19:15:12.376766Z",
     "start_time": "2021-12-09T19:15:12.365784Z"
    }
   },
   "outputs": [],
   "source": [
    "import numpy as np\n",
    "type(np.nan)"
   ]
  },
  {
   "cell_type": "code",
   "execution_count": null,
   "metadata": {
    "ExecuteTime": {
     "end_time": "2021-12-09T19:15:21.953086Z",
     "start_time": "2021-12-09T19:15:21.935133Z"
    }
   },
   "outputs": [],
   "source": [
    "1 == 1"
   ]
  },
  {
   "cell_type": "code",
   "execution_count": null,
   "metadata": {
    "ExecuteTime": {
     "end_time": "2021-12-09T19:15:24.658086Z",
     "start_time": "2021-12-09T19:15:24.646118Z"
    }
   },
   "outputs": [],
   "source": [
    "np.nan == np.nan"
   ]
  },
  {
   "cell_type": "markdown",
   "metadata": {},
   "source": [
    "### Let's select the displ column and see how many missing values this column has."
   ]
  },
  {
   "cell_type": "code",
   "execution_count": null,
   "metadata": {
    "ExecuteTime": {
     "end_time": "2021-12-09T19:15:27.754029Z",
     "start_time": "2021-12-09T19:15:27.743058Z"
    }
   },
   "outputs": [],
   "source": [
    "tb_veic_messy['displ']"
   ]
  },
  {
   "cell_type": "code",
   "execution_count": null,
   "metadata": {
    "ExecuteTime": {
     "end_time": "2021-12-09T19:15:30.804336Z",
     "start_time": "2021-12-09T19:15:30.756460Z"
    }
   },
   "outputs": [],
   "source": [
    "tb_veic_messy.info()"
   ]
  },
  {
   "cell_type": "markdown",
   "metadata": {},
   "source": [
    "### How to count it how many missing there are?"
   ]
  },
  {
   "cell_type": "code",
   "execution_count": null,
   "metadata": {
    "ExecuteTime": {
     "end_time": "2021-12-09T19:15:46.893631Z",
     "start_time": "2021-12-09T19:15:46.874655Z"
    }
   },
   "outputs": [],
   "source": [
    "tb_veic_messy['displ'].isna()"
   ]
  },
  {
   "cell_type": "code",
   "execution_count": null,
   "metadata": {
    "ExecuteTime": {
     "end_time": "2021-12-09T19:15:53.285086Z",
     "start_time": "2021-12-09T19:15:53.264144Z"
    }
   },
   "outputs": [],
   "source": [
    "tb_veic_messy['displ'].notna()"
   ]
  },
  {
   "cell_type": "code",
   "execution_count": null,
   "metadata": {
    "ExecuteTime": {
     "end_time": "2021-12-09T19:16:03.109563Z",
     "start_time": "2021-12-09T19:16:02.994842Z"
    }
   },
   "outputs": [],
   "source": [
    "tb_veic_messy[tb_veic_messy['displ'].isna()]"
   ]
  },
  {
   "cell_type": "code",
   "execution_count": null,
   "metadata": {
    "ExecuteTime": {
     "end_time": "2021-12-09T19:16:14.995503Z",
     "start_time": "2021-12-09T19:16:14.979546Z"
    }
   },
   "outputs": [],
   "source": [
    "sum(tb_veic_messy['displ'].isna())"
   ]
  },
  {
   "cell_type": "code",
   "execution_count": null,
   "metadata": {
    "ExecuteTime": {
     "end_time": "2021-12-09T19:16:30.612343Z",
     "start_time": "2021-12-09T19:16:30.604365Z"
    }
   },
   "outputs": [],
   "source": [
    "tb_veic_messy['displ'].isna().sum(axis = 0)"
   ]
  },
  {
   "cell_type": "markdown",
   "metadata": {},
   "source": [
    "### What if we wanted to count Null values for each row?\n",
    "    - axis = 1 \n",
    "    \n"
   ]
  },
  {
   "cell_type": "code",
   "execution_count": null,
   "metadata": {
    "ExecuteTime": {
     "end_time": "2021-12-09T19:05:22.666046Z",
     "start_time": "2021-12-09T19:05:22.560355Z"
    }
   },
   "outputs": [],
   "source": [
    "tb_veic_messy.isna()"
   ]
  },
  {
   "cell_type": "code",
   "execution_count": null,
   "metadata": {
    "ExecuteTime": {
     "end_time": "2021-12-09T19:05:42.596345Z",
     "start_time": "2021-12-09T19:05:42.541492Z"
    }
   },
   "outputs": [],
   "source": [
    "tb_veic_messy.isna().sum(axis = 1)"
   ]
  },
  {
   "cell_type": "code",
   "execution_count": null,
   "metadata": {
    "ExecuteTime": {
     "end_time": "2021-12-09T19:17:02.576353Z",
     "start_time": "2021-12-09T19:17:02.522331Z"
    }
   },
   "outputs": [],
   "source": [
    "tb_veic_messy['num_val_na'] = tb_veic_messy.isna().sum(axis = 1)"
   ]
  },
  {
   "cell_type": "markdown",
   "metadata": {},
   "source": [
    "### What if I wanted to select only the rows in which there are at least one missing value (in any column)?"
   ]
  },
  {
   "cell_type": "code",
   "execution_count": null,
   "metadata": {
    "ExecuteTime": {
     "end_time": "2021-12-09T19:17:43.488676Z",
     "start_time": "2021-12-09T19:17:43.389912Z"
    }
   },
   "outputs": [],
   "source": [
    "tb_veic_messy[tb_veic_messy['num_val_na'] >= 1]"
   ]
  },
  {
   "cell_type": "markdown",
   "metadata": {},
   "source": [
    "### Visualization of missing"
   ]
  },
  {
   "cell_type": "code",
   "execution_count": null,
   "metadata": {
    "ExecuteTime": {
     "end_time": "2021-12-09T19:18:31.352971Z",
     "start_time": "2021-12-09T19:18:31.237288Z"
    }
   },
   "outputs": [],
   "source": [
    "tb_veic_messy['per_val_na'] = tb_veic_messy.isna().sum(axis = 1)/tb_veic_messy.notna().sum(axis = 1)"
   ]
  },
  {
   "cell_type": "code",
   "execution_count": null,
   "metadata": {
    "ExecuteTime": {
     "end_time": "2021-12-09T19:19:43.350262Z",
     "start_time": "2021-12-09T19:19:43.022167Z"
    }
   },
   "outputs": [],
   "source": [
    "sns.histplot(data=tb_veic_messy, x=\"per_val_na\")"
   ]
  },
  {
   "cell_type": "markdown",
   "metadata": {},
   "source": [
    "## Dropping columns\n",
    "> `axis=1` or\n",
    "\n",
    "> `columns = ['name_of_column_to_drop1', 'name_of_column_to_drop2' ,...]`"
   ]
  },
  {
   "cell_type": "markdown",
   "metadata": {},
   "source": [
    "### Drop columns based on condition"
   ]
  },
  {
   "cell_type": "code",
   "execution_count": null,
   "metadata": {
    "ExecuteTime": {
     "end_time": "2021-12-09T19:40:53.817193Z",
     "start_time": "2021-12-09T19:40:53.778297Z"
    }
   },
   "outputs": [],
   "source": [
    "tb_veic_messy.isna().sum(axis = 0)"
   ]
  },
  {
   "cell_type": "code",
   "execution_count": null,
   "metadata": {
    "ExecuteTime": {
     "end_time": "2021-12-09T19:41:28.424985Z",
     "start_time": "2021-12-09T19:41:28.370042Z"
    }
   },
   "outputs": [],
   "source": [
    "tb_veic_messy.isna().sum(axis = 0)/len(tb_veic_messy)"
   ]
  },
  {
   "cell_type": "code",
   "execution_count": null,
   "metadata": {
    "ExecuteTime": {
     "end_time": "2021-12-09T19:42:01.761130Z",
     "start_time": "2021-12-09T19:42:01.717051Z"
    }
   },
   "outputs": [],
   "source": [
    "tb_veic_messy.isna().sum(axis = 0)/len(tb_veic_messy) > 0.3"
   ]
  },
  {
   "cell_type": "code",
   "execution_count": null,
   "metadata": {
    "ExecuteTime": {
     "end_time": "2021-12-09T19:42:24.105407Z",
     "start_time": "2021-12-09T19:42:24.069475Z"
    }
   },
   "outputs": [],
   "source": [
    "sum(tb_veic_messy.isna().sum(axis = 0)/len(tb_veic_messy) > 0.3)"
   ]
  },
  {
   "cell_type": "code",
   "execution_count": null,
   "metadata": {
    "ExecuteTime": {
     "end_time": "2021-12-09T19:49:23.032326Z",
     "start_time": "2021-12-09T19:49:22.987772Z"
    }
   },
   "outputs": [],
   "source": [
    "mascara_coluna_na = tb_veic_messy.isna().sum(axis = 0)/len(tb_veic_messy) > 0.3"
   ]
  },
  {
   "cell_type": "code",
   "execution_count": null,
   "metadata": {
    "ExecuteTime": {
     "end_time": "2021-12-09T19:49:26.674884Z",
     "start_time": "2021-12-09T19:49:26.589084Z"
    }
   },
   "outputs": [],
   "source": [
    "tb_veic_messy.loc[:,~mascara_coluna_na]"
   ]
  },
  {
   "cell_type": "code",
   "execution_count": null,
   "metadata": {
    "ExecuteTime": {
     "end_time": "2021-12-09T19:50:00.357629Z",
     "start_time": "2021-12-09T19:50:00.268888Z"
    }
   },
   "outputs": [],
   "source": [
    "colunas_na = tb_veic_messy.columns[mascara_coluna_na]\n",
    "tb_veic_messy.drop(colunas_na, axis = 1)"
   ]
  },
  {
   "cell_type": "markdown",
   "metadata": {},
   "source": [
    "### Using `dropna`"
   ]
  },
  {
   "cell_type": "code",
   "execution_count": null,
   "metadata": {
    "ExecuteTime": {
     "end_time": "2021-12-09T19:50:35.772492Z",
     "start_time": "2021-12-09T19:50:35.714619Z"
    }
   },
   "outputs": [],
   "source": [
    "tb_veic_messy.dropna()"
   ]
  },
  {
   "cell_type": "code",
   "execution_count": null,
   "metadata": {
    "ExecuteTime": {
     "end_time": "2021-12-09T19:51:02.376554Z",
     "start_time": "2021-12-09T19:51:02.309756Z"
    }
   },
   "outputs": [],
   "source": [
    "tb_veic_messy.dropna(axis = 0)"
   ]
  },
  {
   "cell_type": "code",
   "execution_count": null,
   "metadata": {
    "ExecuteTime": {
     "end_time": "2021-12-09T19:51:09.269797Z",
     "start_time": "2021-12-09T19:51:09.157098Z"
    }
   },
   "outputs": [],
   "source": [
    "tb_veic_messy.dropna(axis = 1)"
   ]
  },
  {
   "cell_type": "code",
   "execution_count": null,
   "metadata": {
    "ExecuteTime": {
     "end_time": "2021-12-09T19:53:11.803866Z",
     "start_time": "2021-12-09T19:53:11.677206Z"
    }
   },
   "outputs": [],
   "source": [
    "tb_veic_messy.dropna(axis = 0, thresh = 80)"
   ]
  },
  {
   "cell_type": "code",
   "execution_count": null,
   "metadata": {
    "ExecuteTime": {
     "end_time": "2021-12-09T19:53:48.674068Z",
     "start_time": "2021-12-09T19:53:48.552393Z"
    }
   },
   "outputs": [],
   "source": [
    "tb_veic_messy.dropna(axis = 1, thresh = 25000)"
   ]
  },
  {
   "cell_type": "code",
   "execution_count": null,
   "metadata": {
    "ExecuteTime": {
     "end_time": "2021-12-09T19:54:50.937040Z",
     "start_time": "2021-12-09T19:54:50.813343Z"
    }
   },
   "outputs": [],
   "source": [
    "thresh_col = int(len(tb_veic_messy) * 0.20)\n",
    "tb_veic_messy.dropna(axis = 1, thresh = thresh_col)"
   ]
  },
  {
   "cell_type": "markdown",
   "metadata": {},
   "source": [
    "### Fill with some value"
   ]
  },
  {
   "cell_type": "code",
   "execution_count": null,
   "metadata": {
    "ExecuteTime": {
     "end_time": "2021-12-09T19:57:56.087072Z",
     "start_time": "2021-12-09T19:57:56.076101Z"
    }
   },
   "outputs": [],
   "source": [
    "tb_veic_messy['trans_dscr'].unique()"
   ]
  },
  {
   "cell_type": "code",
   "execution_count": null,
   "metadata": {
    "ExecuteTime": {
     "end_time": "2021-12-09T19:59:30.651766Z",
     "start_time": "2021-12-09T19:59:30.630821Z"
    }
   },
   "outputs": [],
   "source": [
    "tb_veic_messy['trans_dscr'].isna().sum(axis = 0)"
   ]
  },
  {
   "cell_type": "code",
   "execution_count": null,
   "metadata": {
    "ExecuteTime": {
     "end_time": "2021-12-09T19:59:52.613343Z",
     "start_time": "2021-12-09T19:59:52.599380Z"
    }
   },
   "outputs": [],
   "source": [
    "tb_veic_messy['trans_dscr'].fillna('OUTROS')"
   ]
  },
  {
   "cell_type": "code",
   "execution_count": null,
   "metadata": {
    "ExecuteTime": {
     "end_time": "2021-12-09T20:00:06.921494Z",
     "start_time": "2021-12-09T20:00:06.913501Z"
    }
   },
   "outputs": [],
   "source": [
    "tb_veic_messy['trans_dscr']"
   ]
  },
  {
   "cell_type": "code",
   "execution_count": null,
   "metadata": {},
   "outputs": [],
   "source": [
    "tb_veic_messy['trans_dscr_fna'] = tb_veic_messy['trans_dscr'].fillna('OUTROS')"
   ]
  },
  {
   "cell_type": "markdown",
   "metadata": {},
   "source": [
    "## Checking duplicates rows\n",
    "    \n",
    ">    - Dropping fully duplicate row\n",
    ">    - Subset\n",
    ">    - `.duplicated()`"
   ]
  },
  {
   "cell_type": "code",
   "execution_count": null,
   "metadata": {
    "ExecuteTime": {
     "end_time": "2021-12-09T20:01:23.337031Z",
     "start_time": "2021-12-09T20:01:23.323053Z"
    }
   },
   "outputs": [],
   "source": [
    "frutas = pd.DataFrame({\n",
    "    'fruta':['laranja', 'laranja', 'mamão', 'laranja'],\n",
    "    'cidade':['Rio de Janeiro', 'Atibaia', 'Campinas', 'Rio de Janeiro']\n",
    "})"
   ]
  },
  {
   "cell_type": "code",
   "execution_count": null,
   "metadata": {
    "ExecuteTime": {
     "end_time": "2021-12-09T20:01:26.331381Z",
     "start_time": "2021-12-09T20:01:26.309446Z"
    },
    "scrolled": true
   },
   "outputs": [],
   "source": [
    "frutas"
   ]
  },
  {
   "cell_type": "code",
   "execution_count": null,
   "metadata": {
    "ExecuteTime": {
     "end_time": "2021-12-09T20:01:33.109335Z",
     "start_time": "2021-12-09T20:01:33.087420Z"
    }
   },
   "outputs": [],
   "source": [
    "frutas.duplicated()"
   ]
  },
  {
   "cell_type": "code",
   "execution_count": null,
   "metadata": {
    "ExecuteTime": {
     "end_time": "2021-12-09T20:01:57.813008Z",
     "start_time": "2021-12-09T20:01:57.804020Z"
    }
   },
   "outputs": [],
   "source": [
    "frutas.loc[~frutas.duplicated(),]"
   ]
  }
 ],
 "metadata": {
  "hide_input": false,
  "kernelspec": {
   "display_name": "Python 3",
   "language": "python",
   "name": "python3"
  },
  "language_info": {
   "codemirror_mode": {
    "name": "ipython",
    "version": 3
   },
   "file_extension": ".py",
   "mimetype": "text/x-python",
   "name": "python",
   "nbconvert_exporter": "python",
   "pygments_lexer": "ipython3",
   "version": "3.8.8"
  },
  "toc": {
   "base_numbering": 1,
   "nav_menu": {},
   "number_sections": true,
   "sideBar": true,
   "skip_h1_title": false,
   "title_cell": "Table of Contents",
   "title_sidebar": "Contents",
   "toc_cell": false,
   "toc_position": {},
   "toc_section_display": true,
   "toc_window_display": false
  },
  "toc-autonumbering": true,
  "varInspector": {
   "cols": {
    "lenName": 16,
    "lenType": 16,
    "lenVar": 40
   },
   "kernels_config": {
    "python": {
     "delete_cmd_postfix": "",
     "delete_cmd_prefix": "del ",
     "library": "var_list.py",
     "varRefreshCmd": "print(var_dic_list())"
    },
    "r": {
     "delete_cmd_postfix": ") ",
     "delete_cmd_prefix": "rm(",
     "library": "var_list.r",
     "varRefreshCmd": "cat(var_dic_list()) "
    }
   },
   "types_to_exclude": [
    "module",
    "function",
    "builtin_function_or_method",
    "instance",
    "_Feature"
   ],
   "window_display": false
  }
 },
 "nbformat": 4,
 "nbformat_minor": 4
}
