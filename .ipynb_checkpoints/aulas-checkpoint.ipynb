{
 "cells": [
  {
   "cell_type": "markdown",
   "metadata": {},
   "source": [
    "# Functions in Python"
   ]
  },
  {
   "cell_type": "markdown",
   "metadata": {},
   "source": [
    "## Why Functions?"
   ]
  },
  {
   "cell_type": "markdown",
   "metadata": {},
   "source": [
    "- Functions help us \n",
    "    - <u>reuse code </u>\n",
    "        - **Rule of three**: https://en.wikipedia.org/wiki/Rule_of_three_(computer_programming)\n",
    "        - **DRY principle**: https://en.wikipedia.org/wiki/Don%27t_repeat_yourself\n",
    "    - <u> document steps</u>\n",
    "        - **docstrings**: https://www.python.org/dev/peps/pep-0257/\n",
    "    - <u> organize thoughts</u>"
   ]
  },
  {
   "cell_type": "markdown",
   "metadata": {},
   "source": [
    "## Function Syntax: \n",
    "\n",
    "Example function: \n",
    "\n",
    "```python\n",
    "def function_name(x,y,z):\n",
    "    \"\"\"Documentation comes here\"\"\"\n",
    "    k = x + y + z\n",
    "    \n",
    "    return k\n",
    "```\n",
    "\n",
    "----\n",
    "### Step by step\n",
    "\n",
    "`def`\n",
    "\n",
    "`function_name`\n",
    "\n",
    "```python\n",
    "def function_name\n",
    "```\n",
    "\n",
    "`parentheses`\n",
    "\n",
    "`[OPTIONAL] list of arguments`\n",
    "\n",
    "```python\n",
    "def function_name(x,y,z)\n",
    "```\n",
    "\n",
    "`required vs optional arguments`\n",
    "\n",
    "`:`\n",
    "\n",
    "`indented code block`\n",
    "\n",
    "```python\n",
    "def function_name(x,y,z):\n",
    "    k = x + y + z\n",
    "    \n",
    "```\n",
    "\n",
    "`[docstring]`\n",
    "\n",
    "```python\n",
    "def function_name(x,y,z):\n",
    "    \"\"\"Documentation comes here\"\"\"\n",
    "    k = x + y + z\n",
    "    \n",
    "```\n",
    "\n",
    "`return statement` \n",
    "\n",
    "```python\n",
    "def function_name(x,y,z):\n",
    "    \"\"\"Documentation comes here\"\"\"\n",
    "    k = x + y + z\n",
    "    \n",
    "    return k\n",
    "    \n",
    "```\n",
    "\n",
    "`functions are Callables!`"
   ]
  },
  {
   "cell_type": "code",
   "execution_count": 1,
   "metadata": {
    "ExecuteTime": {
     "end_time": "2020-07-22T00:23:47.224974Z",
     "start_time": "2020-07-22T00:23:47.222006Z"
    }
   },
   "outputs": [],
   "source": [
    "def grite():\n",
    "    \"\"\"Essa função grita!!\"\"\"\n",
    "    \n",
    "    print('GRITO!!')"
   ]
  },
  {
   "cell_type": "code",
   "execution_count": 2,
   "metadata": {
    "ExecuteTime": {
     "end_time": "2020-07-22T00:23:13.408173Z",
     "start_time": "2020-07-22T00:23:13.405172Z"
    }
   },
   "outputs": [
    {
     "name": "stdout",
     "output_type": "stream",
     "text": [
      "GRITO!!\n"
     ]
    }
   ],
   "source": [
    "grite()"
   ]
  },
  {
   "cell_type": "markdown",
   "metadata": {},
   "source": [
    "# Functions in Python"
   ]
  },
  {
   "cell_type": "markdown",
   "metadata": {
    "ExecuteTime": {
     "end_time": "2020-07-21T21:28:50.118075Z",
     "start_time": "2020-07-21T21:28:50.115102Z"
    }
   },
   "source": [
    "Imagine que temos um jogo com algumas regras inventadas. Existem essas duas opções, se a pessoa ganhar, aparece `'Legal! Muito bom'` na tela, mas se ela perder aparecerá `'Ih, você perdeu'`."
   ]
  },
  {
   "cell_type": "code",
   "execution_count": 3,
   "metadata": {
    "ExecuteTime": {
     "end_time": "2020-07-22T00:37:35.573429Z",
     "start_time": "2020-07-22T00:37:34.687274Z"
    }
   },
   "outputs": [
    {
     "name": "stdout",
     "output_type": "stream",
     "text": [
      "Escolha um número:10\n",
      "Legal! Muito bom\n"
     ]
    }
   ],
   "source": [
    "# jogo completamente aleatório:\n",
    "\n",
    "x = int(input('Escolha um número:'))\n",
    "\n",
    "if x < 3:\n",
    "    print('Legal! Muito bom')\n",
    "elif x < 5:\n",
    "    print('Ih, você perdeu')\n",
    "elif x < 7:\n",
    "    print('Legal! Muito bom')\n",
    "elif x < 9:\n",
    "    print('Ih, você perdeu')\n",
    "elif x < 15:\n",
    "    print('Legal! Muito bom')\n",
    "elif x < 25:\n",
    "    print('Ih, você perdeu')\n",
    "elif x < 37:\n",
    "    print('Legal! Muito bom')"
   ]
  },
  {
   "cell_type": "markdown",
   "metadata": {},
   "source": [
    "> E se quisessemos, por exemplo, mudar o código para mostrar outro string no momento em que ela perde?"
   ]
  },
  {
   "cell_type": "code",
   "execution_count": 7,
   "metadata": {
    "ExecuteTime": {
     "end_time": "2020-07-21T21:31:38.971726Z",
     "start_time": "2020-07-21T21:31:38.134079Z"
    }
   },
   "outputs": [
    {
     "name": "stdout",
     "output_type": "stream",
     "text": [
      "Escolha um número:10\n",
      "Legal! Muito bom\n"
     ]
    }
   ],
   "source": [
    "# jogo completamente aleatório:\n",
    "\n",
    "x = int(input('Escolha um número:'))\n",
    "\n",
    "if x < 3:\n",
    "    print('Legal! Muito bom')\n",
    "elif x < 5:\n",
    "    print('Ih, você perdeu')\n",
    "elif x < 7:\n",
    "    print('Legal! Muito bom')\n",
    "elif x < 9:\n",
    "    print('Ih, você perdeu')\n",
    "elif x < 15:\n",
    "    print('Legal! Muito bom')\n",
    "elif x < 25:\n",
    "    print('Ih, você perdeu')\n",
    "elif x < 37:\n",
    "    print('Legal! Muito bom')"
   ]
  },
  {
   "cell_type": "markdown",
   "metadata": {},
   "source": [
    "> Se este código tivesse sido escrito em funções, veja qual o processo para modificar o código:"
   ]
  },
  {
   "cell_type": "code",
   "execution_count": 8,
   "metadata": {
    "ExecuteTime": {
     "end_time": "2020-07-22T00:38:17.375025Z",
     "start_time": "2020-07-22T00:38:17.371028Z"
    }
   },
   "outputs": [
    {
     "name": "stdout",
     "output_type": "stream",
     "text": [
      "Escolha um número:10\n",
      "Legal! Muito bom\n"
     ]
    }
   ],
   "source": [
    "def say_congrats():\n",
    "    '''\n",
    "    This function says you won the game.\n",
    "    '''\n",
    "    \n",
    "    print('Legal! Muito bom')\n",
    "    \n",
    "def say_condolence():\n",
    "    '''\n",
    "    This function says you lost the game and prints your number choice.\n",
    "    '''\n",
    "    print('Ih, você perdeu')\n",
    "    \n",
    "# jogo completamente aleatório:\n",
    "\n",
    "x = int(input('Escolha um número:'))\n",
    "\n",
    "if x < 3:\n",
    "    say_congrats()\n",
    "elif x < 5:\n",
    "    say_condolence()\n",
    "elif x < 7:\n",
    "    say_congrats()\n",
    "elif x < 9:\n",
    "    say_condolence()\n",
    "elif x < 15:\n",
    "    say_congrats()\n",
    "elif x < 25:\n",
    "    say_condolence()\n",
    "elif x < 37:\n",
    "    say_congrats()"
   ]
  },
  {
   "cell_type": "markdown",
   "metadata": {},
   "source": [
    "## Functions are `callables`"
   ]
  },
  {
   "cell_type": "code",
   "execution_count": 9,
   "metadata": {
    "ExecuteTime": {
     "end_time": "2020-07-22T00:44:34.904390Z",
     "start_time": "2020-07-22T00:44:34.901390Z"
    }
   },
   "outputs": [
    {
     "data": {
      "text/plain": [
       "<function __main__.funcao_banal()>"
      ]
     },
     "execution_count": 9,
     "metadata": {},
     "output_type": "execute_result"
    }
   ],
   "source": [
    "def funcao_banal():\n",
    "    print('Não sirvo pra nada')\n",
    "\n"
   ]
  },
  {
   "cell_type": "markdown",
   "metadata": {},
   "source": [
    "Para **chamar** a função, tenho que colocar `()`"
   ]
  },
  {
   "cell_type": "code",
   "execution_count": 29,
   "metadata": {
    "ExecuteTime": {
     "end_time": "2020-07-21T21:34:21.116416Z",
     "start_time": "2020-07-21T21:34:21.113417Z"
    }
   },
   "outputs": [
    {
     "data": {
      "text/plain": [
       "<function __main__.funcao_banal()>"
      ]
     },
     "execution_count": 29,
     "metadata": {},
     "output_type": "execute_result"
    }
   ],
   "source": [
    "funcao_banal"
   ]
  },
  {
   "cell_type": "code",
   "execution_count": 30,
   "metadata": {},
   "outputs": [
    {
     "name": "stdout",
     "output_type": "stream",
     "text": [
      "<function funcao_banal at 0x000001DC77FC99D0>\n"
     ]
    }
   ],
   "source": [
    "print(funcao_banal)"
   ]
  },
  {
   "cell_type": "code",
   "execution_count": 31,
   "metadata": {
    "ExecuteTime": {
     "end_time": "2020-07-21T21:34:21.116416Z",
     "start_time": "2020-07-21T21:34:21.113417Z"
    }
   },
   "outputs": [
    {
     "name": "stdout",
     "output_type": "stream",
     "text": [
      "Não sirvo pra nada\n"
     ]
    }
   ],
   "source": [
    "funcao_banal()"
   ]
  },
  {
   "cell_type": "markdown",
   "metadata": {},
   "source": [
    "Se eu tentar chamar algo que **não é uma função**, recebo o seguinte erro:"
   ]
  },
  {
   "cell_type": "code",
   "execution_count": 13,
   "metadata": {
    "ExecuteTime": {
     "end_time": "2020-07-22T00:47:38.304842Z",
     "start_time": "2020-07-22T00:47:38.301841Z"
    }
   },
   "outputs": [
    {
     "name": "stdout",
     "output_type": "stream",
     "text": [
      "Qual erro dará?\n"
     ]
    },
    {
     "ename": "TypeError",
     "evalue": "'int' object is not callable",
     "output_type": "error",
     "traceback": [
      "\u001b[1;31m---------------------------------------------------------------------------\u001b[0m",
      "\u001b[1;31mTypeError\u001b[0m                                 Traceback (most recent call last)",
      "\u001b[1;32m<ipython-input-13-88829755ea8d>\u001b[0m in \u001b[0;36m<module>\u001b[1;34m\u001b[0m\n\u001b[0;32m      2\u001b[0m \u001b[0mb\u001b[0m \u001b[1;33m=\u001b[0m \u001b[0mprint\u001b[0m\u001b[1;33m\u001b[0m\u001b[1;33m\u001b[0m\u001b[0m\n\u001b[0;32m      3\u001b[0m \u001b[0mb\u001b[0m\u001b[1;33m(\u001b[0m\u001b[1;34m'Qual erro dará?'\u001b[0m\u001b[1;33m)\u001b[0m\u001b[1;33m\u001b[0m\u001b[1;33m\u001b[0m\u001b[0m\n\u001b[1;32m----> 4\u001b[1;33m \u001b[0ma\u001b[0m\u001b[1;33m(\u001b[0m\u001b[1;33m)\u001b[0m\u001b[1;33m\u001b[0m\u001b[1;33m\u001b[0m\u001b[0m\n\u001b[0m",
      "\u001b[1;31mTypeError\u001b[0m: 'int' object is not callable"
     ]
    }
   ],
   "source": [
    "a = 1\n",
    "b = print\n",
    "b('Qual erro dará?')\n",
    "a()"
   ]
  },
  {
   "cell_type": "markdown",
   "metadata": {},
   "source": [
    "# Functions can <u>return</u> 1 or more values\n",
    "Se você não especificar um '`return` statement', a função retornará `vazio` (`None`)"
   ]
  },
  {
   "cell_type": "code",
   "execution_count": 32,
   "metadata": {},
   "outputs": [
    {
     "name": "stdout",
     "output_type": "stream",
     "text": [
      "Eu também não sirvo pra nada :(\n",
      "None\n"
     ]
    }
   ],
   "source": [
    "def funcao_besta():\n",
    "    print('Eu também não sirvo pra nada :(')\n",
    "    \n",
    "teste = funcao_besta()"
   ]
  },
  {
   "cell_type": "code",
   "execution_count": null,
   "metadata": {},
   "outputs": [],
   "source": [
    "print(teste)"
   ]
  },
  {
   "cell_type": "code",
   "execution_count": null,
   "metadata": {},
   "outputs": [],
   "source": [
    "print(type(teste))"
   ]
  },
  {
   "cell_type": "code",
   "execution_count": null,
   "metadata": {},
   "outputs": [],
   "source": [
    "def funcao_retorna():\n",
    "    print('Eu também não sirvo pra nada, mas pelo menos retorno algo :)')\n",
    "    return 'Eu também não sirvo pra nada, mas pelo menos retorno algo :)'\n",
    "\n",
    "teste = funcao_retorna()"
   ]
  },
  {
   "cell_type": "code",
   "execution_count": null,
   "metadata": {},
   "outputs": [],
   "source": [
    "print(teste)"
   ]
  },
  {
   "cell_type": "code",
   "execution_count": null,
   "metadata": {},
   "outputs": [],
   "source": [
    "print(type(teste))"
   ]
  },
  {
   "cell_type": "code",
   "execution_count": 34,
   "metadata": {},
   "outputs": [],
   "source": [
    "def funcao_retorna_2():\n",
    "    return 'Eu também não sirvo pra nada', 'mas pelo menos retorno dois algos :)'"
   ]
  },
  {
   "cell_type": "code",
   "execution_count": 35,
   "metadata": {},
   "outputs": [],
   "source": [
    "teste = funcao_retorna_2()"
   ]
  },
  {
   "cell_type": "code",
   "execution_count": 36,
   "metadata": {},
   "outputs": [
    {
     "name": "stdout",
     "output_type": "stream",
     "text": [
      "('Eu também não sirvo pra nada', 'mas pelo menos retorno dois algos :)')\n"
     ]
    }
   ],
   "source": [
    "print(teste)"
   ]
  },
  {
   "cell_type": "code",
   "execution_count": null,
   "metadata": {},
   "outputs": [],
   "source": [
    "parte_1, parte_2 = funcao_retorna_2()"
   ]
  },
  {
   "cell_type": "code",
   "execution_count": null,
   "metadata": {},
   "outputs": [],
   "source": [
    "print(parte_1)"
   ]
  },
  {
   "cell_type": "code",
   "execution_count": null,
   "metadata": {},
   "outputs": [],
   "source": [
    "print(parte_2)"
   ]
  },
  {
   "cell_type": "markdown",
   "metadata": {},
   "source": [
    "# Functions can receive arguments"
   ]
  },
  {
   "cell_type": "code",
   "execution_count": 26,
   "metadata": {
    "ExecuteTime": {
     "end_time": "2020-07-22T00:49:13.565422Z",
     "start_time": "2020-07-22T00:49:13.563422Z"
    }
   },
   "outputs": [
    {
     "name": "stdout",
     "output_type": "stream",
     "text": [
      "Eu também não sirvo pra nada :(\n"
     ]
    }
   ],
   "source": [
    "def funcao_com_argumento(x, y):\n",
    "    '''\n",
    "    Retorna a soma dos números x e y.\n",
    "\n",
    "            Parameters:\n",
    "                    x (numeric): um número float ou inteiro.\n",
    "                    y (numeric): outro número float ou inteiro.\n",
    "\n",
    "            Returns:\n",
    "                    soma (numeric): soma dos números x e y.\n",
    "    '''\n",
    "    soma = x + y\n",
    "    return soma"
   ]
  },
  {
   "cell_type": "code",
   "execution_count": 28,
   "metadata": {},
   "outputs": [
    {
     "name": "stdout",
     "output_type": "stream",
     "text": [
      "5\n"
     ]
    }
   ],
   "source": [
    "teste_com_argumento = funcao_com_argumento(2, 3)\n",
    "print(teste_com_argumento)"
   ]
  },
  {
   "cell_type": "markdown",
   "metadata": {},
   "source": [
    "A ordem dos argumentos importa!"
   ]
  },
  {
   "cell_type": "code",
   "execution_count": 15,
   "metadata": {},
   "outputs": [],
   "source": [
    "def subtracao(x, y):\n",
    "    '''\n",
    "    Retorna x-y.\n",
    "\n",
    "            Parameters:\n",
    "                    x (numeric): um número float ou inteiro.\n",
    "                    y (numeric): outro número float ou inteiro.\n",
    "\n",
    "            Returns:\n",
    "                    subt (numeric): x - y\n",
    "    '''\n",
    "    return x - y"
   ]
  },
  {
   "cell_type": "code",
   "execution_count": 16,
   "metadata": {},
   "outputs": [
    {
     "name": "stdout",
     "output_type": "stream",
     "text": [
      "9\n"
     ]
    }
   ],
   "source": [
    "print(subtracao(10, 1))"
   ]
  },
  {
   "cell_type": "code",
   "execution_count": 17,
   "metadata": {},
   "outputs": [
    {
     "name": "stdout",
     "output_type": "stream",
     "text": [
      "-9\n"
     ]
    }
   ],
   "source": [
    "print(subtracao(1, 10))"
   ]
  },
  {
   "cell_type": "markdown",
   "metadata": {},
   "source": [
    "A não ser que os argumentos sejam explicitamente nomeados"
   ]
  },
  {
   "cell_type": "code",
   "execution_count": 19,
   "metadata": {},
   "outputs": [
    {
     "name": "stdout",
     "output_type": "stream",
     "text": [
      "9\n"
     ]
    }
   ],
   "source": [
    "print(subtracao(y = 1, x = 10))"
   ]
  },
  {
   "cell_type": "markdown",
   "metadata": {},
   "source": [
    "# Functions can receive `OPTIONAL` arguments"
   ]
  },
  {
   "cell_type": "markdown",
   "metadata": {},
   "source": [
    "Argumentos opcionais são aqueles que você pode ou não `passar`. Se você não passar o argumento para a função, ela utilizará um valor DEFAULT"
   ]
  },
  {
   "cell_type": "code",
   "execution_count": 21,
   "metadata": {
    "ExecuteTime": {
     "end_time": "2020-07-22T01:16:21.080074Z",
     "start_time": "2020-07-22T01:16:21.073076Z"
    }
   },
   "outputs": [],
   "source": [
    "def soma_lista(lista_numeros, C = 1):\n",
    "    '''\n",
    "    Retorna a soma dos números de uma lista vezes uma constante.\n",
    "\n",
    "            Parameters:\n",
    "                    lista_numeros (lista): lista de números (floats ou ints).\n",
    "                    C (numeric): outro número float ou inteiro.\n",
    "\n",
    "            Returns:\n",
    "                    total_lista (numeric): soma dos números na lista_numeros vezes C.\n",
    "    '''\n",
    "    \n",
    "    total_lista = 0\n",
    "    for elemento in lista_numeros:\n",
    "        total_lista += elemento * C\n",
    "        \n",
    "    return total_lista"
   ]
  },
  {
   "cell_type": "code",
   "execution_count": 22,
   "metadata": {},
   "outputs": [
    {
     "name": "stdout",
     "output_type": "stream",
     "text": [
      "6\n"
     ]
    }
   ],
   "source": [
    "lista_numeros = [1, 2, 3]\n",
    "teste = soma_lista(lista_numeros)\n",
    "print(teste)"
   ]
  },
  {
   "cell_type": "code",
   "execution_count": 23,
   "metadata": {},
   "outputs": [
    {
     "name": "stdout",
     "output_type": "stream",
     "text": [
      "6\n"
     ]
    }
   ],
   "source": [
    "teste = soma_lista(lista_numeros, 1)\n",
    "print(teste)"
   ]
  },
  {
   "cell_type": "code",
   "execution_count": 24,
   "metadata": {},
   "outputs": [
    {
     "name": "stdout",
     "output_type": "stream",
     "text": [
      "60\n"
     ]
    }
   ],
   "source": [
    "teste = soma_lista(lista_numeros, 10)\n",
    "print(teste)"
   ]
  },
  {
   "cell_type": "code",
   "execution_count": 25,
   "metadata": {},
   "outputs": [
    {
     "ename": "TypeError",
     "evalue": "soma_lista() missing 1 required positional argument: 'lista_numeros'",
     "output_type": "error",
     "traceback": [
      "\u001b[1;31m---------------------------------------------------------------------------\u001b[0m",
      "\u001b[1;31mTypeError\u001b[0m                                 Traceback (most recent call last)",
      "\u001b[1;32m<ipython-input-25-a59661f17200>\u001b[0m in \u001b[0;36m<module>\u001b[1;34m\u001b[0m\n\u001b[1;32m----> 1\u001b[1;33m \u001b[0mteste\u001b[0m \u001b[1;33m=\u001b[0m \u001b[0msoma_lista\u001b[0m\u001b[1;33m(\u001b[0m\u001b[0mC\u001b[0m \u001b[1;33m=\u001b[0m \u001b[1;36m10\u001b[0m\u001b[1;33m)\u001b[0m\u001b[1;33m\u001b[0m\u001b[1;33m\u001b[0m\u001b[0m\n\u001b[0m",
      "\u001b[1;31mTypeError\u001b[0m: soma_lista() missing 1 required positional argument: 'lista_numeros'"
     ]
    }
   ],
   "source": [
    "teste = soma_lista(C = 10)"
   ]
  },
  {
   "cell_type": "markdown",
   "metadata": {},
   "source": [
    "## Reserved Keywords"
   ]
  },
  {
   "cell_type": "code",
   "execution_count": 37,
   "metadata": {},
   "outputs": [
    {
     "ename": "SyntaxError",
     "evalue": "invalid syntax (<ipython-input-37-16fd677670ad>, line 1)",
     "output_type": "error",
     "traceback": [
      "\u001b[1;36m  File \u001b[1;32m\"<ipython-input-37-16fd677670ad>\"\u001b[1;36m, line \u001b[1;32m1\u001b[0m\n\u001b[1;33m    def for():\u001b[0m\n\u001b[1;37m        ^\u001b[0m\n\u001b[1;31mSyntaxError\u001b[0m\u001b[1;31m:\u001b[0m invalid syntax\n"
     ]
    }
   ],
   "source": [
    "def for():\n",
    "    print('O que será que acontecerá?')"
   ]
  },
  {
   "cell_type": "markdown",
   "metadata": {
    "ExecuteTime": {
     "end_time": "2020-07-22T22:42:17.746072Z",
     "start_time": "2020-07-22T22:42:17.742072Z"
    }
   },
   "source": [
    "As palavras reservadas, em geral, tem uma formatação distinta nas IDEs (no Jupyter vemos acima o _for_ em negrito e verde)"
   ]
  },
  {
   "cell_type": "markdown",
   "metadata": {},
   "source": [
    "# Scope"
   ]
  },
  {
   "cell_type": "markdown",
   "metadata": {},
   "source": [
    "Global vs Local"
   ]
  },
  {
   "cell_type": "markdown",
   "metadata": {},
   "source": [
    "Variables that are defined inside a function body have a local scope, and those defined outside have a global scope."
   ]
  },
  {
   "cell_type": "code",
   "execution_count": 40,
   "metadata": {
    "ExecuteTime": {
     "end_time": "2020-10-30T22:45:48.418880Z",
     "start_time": "2020-10-30T22:45:48.406885Z"
    }
   },
   "outputs": [
    {
     "name": "stdout",
     "output_type": "stream",
     "text": [
      "1\n"
     ]
    }
   ],
   "source": [
    "x = 1\n",
    "\n",
    "def imprimir_x():\n",
    "    print(x)\n",
    "imprimir_x()"
   ]
  },
  {
   "cell_type": "code",
   "execution_count": 41,
   "metadata": {},
   "outputs": [
    {
     "name": "stdout",
     "output_type": "stream",
     "text": [
      "2\n"
     ]
    }
   ],
   "source": [
    "x = 2\n",
    "imprimir_x()"
   ]
  },
  {
   "cell_type": "code",
   "execution_count": 43,
   "metadata": {},
   "outputs": [],
   "source": [
    "def imprimir_y():\n",
    "    y = 1\n",
    "    print(y)"
   ]
  },
  {
   "cell_type": "code",
   "execution_count": 44,
   "metadata": {},
   "outputs": [
    {
     "name": "stdout",
     "output_type": "stream",
     "text": [
      "1\n"
     ]
    }
   ],
   "source": [
    "imprimir_y()"
   ]
  },
  {
   "cell_type": "code",
   "execution_count": 45,
   "metadata": {},
   "outputs": [
    {
     "name": "stdout",
     "output_type": "stream",
     "text": [
      "1\n"
     ]
    }
   ],
   "source": [
    "y = 3\n",
    "imprimir_y()"
   ]
  },
  {
   "cell_type": "code",
   "execution_count": 46,
   "metadata": {},
   "outputs": [
    {
     "name": "stdout",
     "output_type": "stream",
     "text": [
      "3\n"
     ]
    }
   ],
   "source": [
    "print(y)"
   ]
  },
  {
   "cell_type": "code",
   "execution_count": 55,
   "metadata": {},
   "outputs": [],
   "source": [
    "total = []\n",
    "\n",
    "def append_number(a):\n",
    "    #total = [5]\n",
    "    return total.append(a)"
   ]
  },
  {
   "cell_type": "code",
   "execution_count": 60,
   "metadata": {},
   "outputs": [],
   "source": [
    "append_number(1)"
   ]
  },
  {
   "cell_type": "code",
   "execution_count": 61,
   "metadata": {},
   "outputs": [
    {
     "name": "stdout",
     "output_type": "stream",
     "text": [
      "[]\n"
     ]
    }
   ],
   "source": [
    "print(total)"
   ]
  },
  {
   "cell_type": "markdown",
   "metadata": {},
   "source": [
    "# Functions can return Functions"
   ]
  },
  {
   "cell_type": "code",
   "execution_count": null,
   "metadata": {},
   "outputs": [],
   "source": [
    "def imprimir_resultado(x, funcao):\n",
    "    '''\n",
    "    Imprime o resultado de funcao(x)\n",
    "\n",
    "            Parameters:\n",
    "                    x (): parametro da funcao.\n",
    "                    funcao (function): funcao a ser executada.\n",
    "\n",
    "            Returns:\n",
    "                    None\n",
    "    '''"
   ]
  }
 ],
 "metadata": {
  "kernelspec": {
   "display_name": "Python 3",
   "language": "python",
   "name": "python3"
  },
  "language_info": {
   "codemirror_mode": {
    "name": "ipython",
    "version": 3
   },
   "file_extension": ".py",
   "mimetype": "text/x-python",
   "name": "python",
   "nbconvert_exporter": "python",
   "pygments_lexer": "ipython3",
   "version": "3.8.8"
  },
  "toc": {
   "base_numbering": 1,
   "nav_menu": {},
   "number_sections": true,
   "sideBar": true,
   "skip_h1_title": false,
   "title_cell": "Table of Contents",
   "title_sidebar": "Contents",
   "toc_cell": false,
   "toc_position": {},
   "toc_section_display": true,
   "toc_window_display": false
  },
  "varInspector": {
   "cols": {
    "lenName": 16,
    "lenType": 16,
    "lenVar": 40
   },
   "kernels_config": {
    "python": {
     "delete_cmd_postfix": "",
     "delete_cmd_prefix": "del ",
     "library": "var_list.py",
     "varRefreshCmd": "print(var_dic_list())"
    },
    "r": {
     "delete_cmd_postfix": ") ",
     "delete_cmd_prefix": "rm(",
     "library": "var_list.r",
     "varRefreshCmd": "cat(var_dic_list()) "
    }
   },
   "types_to_exclude": [
    "module",
    "function",
    "builtin_function_or_method",
    "instance",
    "_Feature"
   ],
   "window_display": false
  }
 },
 "nbformat": 4,
 "nbformat_minor": 4
}
